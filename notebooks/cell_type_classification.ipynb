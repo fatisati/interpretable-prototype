{
 "cells": [
  {
   "cell_type": "code",
   "execution_count": 1,
   "id": "9a2e42b8-21cd-44f8-bb1e-e181f609558f",
   "metadata": {},
   "outputs": [],
   "source": [
    "import os\n",
    "import importlib\n",
    "os.chdir('/ictstr01/home/icb/fatemehs.hashemig/codes/interpretable-ssl')"
   ]
  },
  {
   "cell_type": "markdown",
   "id": "ad4733c8-87e3-4c8a-b49e-8c36cb836768",
   "metadata": {},
   "source": [
    "# import"
   ]
  },
  {
   "cell_type": "code",
   "execution_count": 2,
   "id": "41bf8325-2965-4387-ba2a-229c5622c10d",
   "metadata": {},
   "outputs": [
    {
     "name": "stderr",
     "output_type": "stream",
     "text": [
      "WARNING:root:In order to use the mouse gastrulation seqFISH datsets, please install squidpy (see https://github.com/scverse/squidpy).\n",
      "INFO:pytorch_lightning.utilities.seed:Global seed set to 0\n",
      "/home/icb/fatemehs.hashemig/miniconda3/envs/apex-env/lib/python3.12/site-packages/pytorch_lightning/utilities/warnings.py:53: LightningDeprecationWarning: pytorch_lightning.utilities.warnings.rank_zero_deprecation has been deprecated in v1.6 and will be removed in v1.8. Use the equivalent function from the pytorch_lightning.utilities.rank_zero module instead.\n",
      "  new_rank_zero_deprecation(\n",
      "/home/icb/fatemehs.hashemig/miniconda3/envs/apex-env/lib/python3.12/site-packages/pytorch_lightning/utilities/warnings.py:58: LightningDeprecationWarning: The `pytorch_lightning.loggers.base.rank_zero_experiment` is deprecated in v1.7 and will be removed in v1.9. Please use `pytorch_lightning.loggers.logger.rank_zero_experiment` instead.\n",
      "  return new_rank_zero_deprecation(*args, **kwargs)\n",
      "WARNING:root:In order to use sagenet models, please install pytorch geometric (see https://pytorch-geometric.readthedocs.io) and \n",
      " captum (see https://github.com/pytorch/captum).\n",
      "WARNING:root:mvTCR is not installed. To use mvTCR models, please install it first using \"pip install mvtcr\"\n",
      "WARNING:root:multigrate is not installed. To use multigrate models, please install it first using \"pip install multigrate\".\n"
     ]
    }
   ],
   "source": [
    "import interpretable_ssl.trainers.scpoli_original\n",
    "importlib.reload(interpretable_ssl.trainers.scpoli_original)\n",
    "\n",
    "import experiment_evaluator\n",
    "importlib.reload(experiment_evaluator)\n",
    "\n",
    "import interpretable_ssl.models.linear \n",
    "importlib.reload(interpretable_ssl.models.linear)\n",
    "from interpretable_ssl.models.linear import *"
   ]
  },
  {
   "cell_type": "code",
   "execution_count": 3,
   "id": "a23a0f8d-f67c-4983-9918-8c0dc3650a0d",
   "metadata": {},
   "outputs": [],
   "source": [
    "from experiment_evaluator import *"
   ]
  },
  {
   "cell_type": "code",
   "execution_count": 4,
   "id": "f93a7315-152f-4ccc-9e55-4e80ffde00b6",
   "metadata": {},
   "outputs": [],
   "source": [
    "from interpretable_ssl.trainers.swav import *"
   ]
  },
  {
   "cell_type": "markdown",
   "id": "7d8e34e4-4bd2-4ea3-b549-4f31f4167900",
   "metadata": {},
   "source": [
    "\n",
    "\n",
    "init trainer\n",
    "load the model\n",
    "encode the ref, and query\n",
    "\n",
    "train linear classifier\n",
    "train mlp\n",
    "knn, kmeans\n"
   ]
  },
  {
   "cell_type": "code",
   "execution_count": 5,
   "id": "b32dbcc8-dd69-4558-84a4-da6105c53209",
   "metadata": {},
   "outputs": [],
   "source": [
    "from interpretable_ssl.datasets.immune import *"
   ]
  },
  {
   "cell_type": "code",
   "execution_count": 6,
   "id": "02a21f1f-5e86-40d6-8677-bdf49a082ad0",
   "metadata": {},
   "outputs": [],
   "source": [
    "ds = ImmuneDataset()"
   ]
  },
  {
   "cell_type": "code",
   "execution_count": 7,
   "id": "9abecf23-ef56-46d1-9d19-e997b2000cbf",
   "metadata": {},
   "outputs": [],
   "source": [
    "e = ExperimentEvaluator(ds)"
   ]
  },
  {
   "cell_type": "markdown",
   "id": "0773486e-ea57-4986-958d-e8e4ed00baad",
   "metadata": {
    "jp-MarkdownHeadingCollapsed": true
   },
   "source": [
    "# init trainer, encode, ref and query"
   ]
  },
  {
   "cell_type": "code",
   "execution_count": 25,
   "id": "c59badec-8f5d-40e2-9384-85859718c0aa",
   "metadata": {
    "collapsed": true,
    "jupyter": {
     "outputs_hidden": true
    }
   },
   "outputs": [
    {
     "name": "stdout",
     "output_type": "stream",
     "text": [
      "dataset is None, loading pbmc-immune\n"
     ]
    },
    {
     "name": "stderr",
     "output_type": "stream",
     "text": [
      "INFO - 10/16/24 12:22:17 - 0:00:00 - ============ Initialized logger ============\n",
      "INFO - 10/16/24 12:22:17 - 0:00:00 - all_latent: None\n",
      "                                     augmentation_type: community\n",
      "                                     base_lr: 4.8\n",
      "                                     batch_size: 1024\n",
      "                                     cell_type_key: cell_type\n",
      "                                     checkpoint_freq: 25\n",
      "                                     condition_key: study\n",
      "                                     crops_for_assign: [0, 1]\n",
      "                                     cvae_loss_scaler: 0.0\n",
      "                                     cvae_reg: 0\n",
      "                                     dataset: pbmc-immune\n",
      "                                     dataset_id: pbmc-immune\n",
      "                                     debug: True\n",
      "                                     default_values: {'dataset_id': 'pbmc-immune', 'model_name_version': 3, 'num_prototypes': 128, 'hidden_dim': 64, 'latent_dims': 8, 'batch_size': 512, 'fine_tuning_epochs': 0, 'experiment_name': '', 'condition_key': 'study', 'cell_type_key': 'cell_type', 'linear_eval': False, 'only_eval': False, 'use_early_stopping': False, 'pretraining_epochs': 300, 'training_type': 'pretrain', 'pretrain_dataset_id': 'hlca', 'finetune_dataset_id': 'pbmc-immune', 'dump_name_version': 4, 'nmb_crops': [8], 'augmentation_type': 'knn', 'size_crops': [224], 'min_scale_crops': [0.14], 'max_scale_crops': [1], 'crops_for_assign': [0, 1], 'temperature': 0.1, 'epsilon': 0.05, 'sinkhorn_iterations': 3, 'feat_dim': 8, 'queue_length': 0, 'epoch_queue_starts': 15, 'base_lr': 4.8, 'final_lr': 0, 'freeze_prototypes_niters': 313, 'wd': 1e-06, 'warmup_epochs': 10, 'start_warmup': 0, 'cvae_reg': 0, 'dist_url': 'env://', 'world_size': -1, 'rank': 0, 'local_rank': 0, 'workers': 10, 'checkpoint_freq': 25, 'use_fp16': False, 'sync_bn': 'pytorch', 'syncbn_process_group_size': 8, 'seed': 31, 'model': '', 'optimizer': '', 'lr_schedule': '', 'queue': None, 'train_loader': '', 'training_stats': '', 'device': 'cuda', 'freezable_prototypes': False, 'cvae_loss_scaler': 0.0001, 'prot_decoding_loss_scaler': 5, 'hidden_mlp': 1024, 'swav_dim': 64, 'use_projector': False, 'model_version': 2, 'train_decoder': False, 'longest_path': 3, 'dimensionality_reduction': None, 'k_neighbors': 10, 'model_type': 'swav', 'job_name': '', 'no_data': 'False'}\n",
      "                                     device: cuda\n",
      "                                     dimensionality_reduction: pca\n",
      "                                     dist_url: env://\n",
      "                                     dump_checkpoints: /home/icb/fatemehs.hashemig/models//pbmc-immune/swav-only_iloss0_closs0.0_num-prot-300_latent8-bs1024-semi_aug-community8_ep0.02_model-v1_dimensionality_reduction-pca_k_neighbors-7/checkpoints\n",
      "                                     dump_name_version: 4\n",
      "                                     dump_path: /home/icb/fatemehs.hashemig/models//pbmc-immune/swav-only_iloss0_closs0.0_num-prot-300_latent8-bs1024-semi_aug-community8_ep0.02_model-v1_dimensionality_reduction-pca_k_neighbors-7\n",
      "                                     epoch_queue_starts: 15\n",
      "                                     epsilon: 0.02\n",
      "                                     experiment_name: swav-only_iloss0_closs0.0\n",
      "                                     feat_dim: 8\n",
      "                                     final_lr: 0\n",
      "                                     fine_tuning_epochs: 0\n",
      "                                     finetune_dataset_id: pbmc-immune\n",
      "                                     finetune_ds: None\n",
      "                                     finetuning: False\n",
      "                                     freezable_prototypes: False\n",
      "                                     freeze_prototypes_niters: 313\n",
      "                                     hidden_dim: 64\n",
      "                                     hidden_mlp: 1024\n",
      "                                     input_dim: 4000\n",
      "                                     job_name: \n",
      "                                     k_neighbors: 7\n",
      "                                     latent_dims: 8\n",
      "                                     linear_eval: False\n",
      "                                     local_rank: 0\n",
      "                                     longest_path: 3\n",
      "                                     lr_schedule: \n",
      "                                     max_scale_crops: [1]\n",
      "                                     min_scale_crops: [0.14]\n",
      "                                     model: \n",
      "                                     model_name_version: 3\n",
      "                                     model_type: swav\n",
      "                                     model_version: 1\n",
      "                                     nmb_crops: [8]\n",
      "                                     nmb_prototypes: 300\n",
      "                                     no_data: False\n",
      "                                     num_prototypes: 300\n",
      "                                     only_eval: False\n",
      "                                     optimizer: \n",
      "                                     original_ref: None\n",
      "                                     partial_ref: None\n",
      "                                     pretrain_dataset_id: hlca\n",
      "                                     pretraining_epochs: 300\n",
      "                                     prot_decoding_loss_scaler: 0\n",
      "                                     query: pbmc-immune\n",
      "                                     query_latent: None\n",
      "                                     queue: None\n",
      "                                     queue_length: 0\n",
      "                                     rank: 0\n",
      "                                     ref: pbmc-immune\n",
      "                                     ref_latent: None\n",
      "                                     seed: 31\n",
      "                                     sinkhorn_iterations: 3\n",
      "                                     size_crops: [224]\n",
      "                                     start_warmup: 0\n",
      "                                     swav_dim: 64\n",
      "                                     sync_bn: pytorch\n",
      "                                     syncbn_process_group_size: 8\n",
      "                                     temperature: 0.1\n",
      "                                     train_augmentation: community\n",
      "                                     train_decoder: False\n",
      "                                     train_loader: \n",
      "                                     training_stats: \n",
      "                                     training_type: semi_supervised\n",
      "                                     transfer_learning_mode: False\n",
      "                                     use_early_stopping: False\n",
      "                                     use_fp16: False\n",
      "                                     use_projector: False\n",
      "                                     use_projector_out: False\n",
      "                                     warmup_epochs: 10\n",
      "                                     wd: 1e-06\n",
      "                                     workers: 10\n",
      "                                     world_size: -1\n",
      "INFO - 10/16/24 12:22:17 - 0:00:00 - The experiment will be stored in /home/icb/fatemehs.hashemig/models//pbmc-immune/swav-only_iloss0_closs0.0_num-prot-300_latent8-bs1024-semi_aug-community8_ep0.02_model-v1_dimensionality_reduction-pca_k_neighbors-7\n",
      "                                     \n",
      "\n",
      "INFO - 10/16/24 12:22:17 - 0:00:00 - Building data done with 29137 images loaded.\n",
      "INFO - 10/16/24 12:22:17 - 0:00:00 - SwavBase(\n",
      "                                       (scpoli_model): scpoli(\n",
      "                                         (embeddings): ModuleList(\n",
      "                                           (0): Embedding(3, 10, max_norm=1.0)\n",
      "                                         )\n",
      "                                         (encoder): Encoder(\n",
      "                                           (FC): Sequential(\n",
      "                                             (L0): CondLayers(\n",
      "                                               (expr_L): Linear(in_features=4000, out_features=64, bias=True)\n",
      "                                               (cond_L): Linear(in_features=10, out_features=64, bias=False)\n",
      "                                             )\n",
      "                                             (N0): LayerNorm((64,), eps=1e-05, elementwise_affine=False)\n",
      "                                             (A0): ReLU()\n",
      "                                             (D0): Dropout(p=0.05, inplace=False)\n",
      "                                           )\n",
      "                                           (mean_encoder): Linear(in_features=64, out_features=8, bias=True)\n",
      "                                           (log_var_encoder): Linear(in_features=64, out_features=8, bias=True)\n",
      "                                         )\n",
      "                                         (decoder): Decoder(\n",
      "                                           (FirstL): Sequential(\n",
      "                                             (L0): CondLayers(\n",
      "                                               (expr_L): Linear(in_features=8, out_features=64, bias=False)\n",
      "                                               (cond_L): Linear(in_features=10, out_features=64, bias=False)\n",
      "                                             )\n",
      "                                             (N0): LayerNorm((64,), eps=1e-05, elementwise_affine=False)\n",
      "                                             (A0): ReLU()\n",
      "                                             (D0): Dropout(p=0.05, inplace=False)\n",
      "                                           )\n",
      "                                           (HiddenL): Sequential()\n",
      "                                           (mean_decoder): Sequential(\n",
      "                                             (0): Linear(in_features=64, out_features=4000, bias=True)\n",
      "                                             (1): Softmax(dim=-1)\n",
      "                                           )\n",
      "                                         )\n",
      "                                       )\n",
      "                                       (prototypes): Linear(in_features=8, out_features=300, bias=False)\n",
      "                                     )\n",
      "INFO - 10/16/24 12:22:17 - 0:00:00 - Building model done.\n",
      "INFO - 10/16/24 12:22:17 - 0:00:00 - Building optimizer done.\n",
      "INFO - 10/16/24 12:22:17 - 0:00:00 - no mixed precision\n"
     ]
    },
    {
     "name": "stdout",
     "output_type": "stream",
     "text": [
      "Embedding dictionary:\n",
      " \tNum conditions: [3]\n",
      " \tEmbedding dim: [10]\n",
      "Encoder Architecture:\n",
      "\tInput Layer in, out and cond: 4000 64 10\n",
      "\tMean/Var Layer in/out: 64 8\n",
      "Decoder Architecture:\n",
      "\tFirst Layer in, out and cond:  8 64 10\n",
      "\tOutput Layer in/out:  64 4000 \n",
      "\n"
     ]
    }
   ],
   "source": [
    "t = SwAV(augmentation_type = 'community', dimensionality_reduction='pca', k_neighbors=7, debug=True, num_prototypes=300, batch_size=1024,\n",
    "        prot_decoding_loss_scaler=0, cvae_loss_scaler=0.0, training_type='semi_supervised', epsilon=0.02, model_version=1)\n",
    "t.setup()"
   ]
  },
  {
   "cell_type": "code",
   "execution_count": 26,
   "id": "b63087ad-bdfb-43a1-ad6e-50c812894f13",
   "metadata": {},
   "outputs": [
    {
     "name": "stderr",
     "output_type": "stream",
     "text": [
      "100%|██████████| 29/29 [00:17<00:00,  1.69it/s]\n"
     ]
    }
   ],
   "source": [
    "t.model = None\n",
    "encoded_ref = t.encode_ref()\n",
    "encoded_query = t.encode_query()"
   ]
  },
  {
   "cell_type": "markdown",
   "id": "9bc353c5-29d7-4ba0-9e82-75ad39db810d",
   "metadata": {},
   "source": [
    "# train linear classifier"
   ]
  },
  {
   "cell_type": "code",
   "execution_count": 46,
   "id": "ffd7fd3b-4dc7-48e9-a1bf-6e9e0ed1db1e",
   "metadata": {},
   "outputs": [],
   "source": [
    "# Usage\n",
    "# Assuming `embeddings` is your tensor of shape (n_samples, n_features)\n",
    "# and `df['cell_type']` contains your labels.\n",
    "\n",
    "def evaluate(embedding, obs):\n",
    "    classifier = LinearClassifier(embedding, obs['cell_type'], batch_size=64, epochs=20)\n",
    "    classifier.train()\n",
    "    \n",
    "    # Get F1 scores as DataFrame\n",
    "    f1_scores_df = classifier.evaluate()\n",
    "    return f1_scores_df"
   ]
  },
  {
   "cell_type": "code",
   "execution_count": 44,
   "id": "9e19f543-fce7-495b-adf9-9b4d9daa6906",
   "metadata": {},
   "outputs": [
    {
     "data": {
      "text/html": [
       "<div>\n",
       "<style scoped>\n",
       "    .dataframe tbody tr th:only-of-type {\n",
       "        vertical-align: middle;\n",
       "    }\n",
       "\n",
       "    .dataframe tbody tr th {\n",
       "        vertical-align: top;\n",
       "    }\n",
       "\n",
       "    .dataframe thead th {\n",
       "        text-align: right;\n",
       "    }\n",
       "</style>\n",
       "<table border=\"1\" class=\"dataframe\">\n",
       "  <thead>\n",
       "    <tr style=\"text-align: right;\">\n",
       "      <th></th>\n",
       "      <th>Class</th>\n",
       "      <th>Train F1 Score</th>\n",
       "      <th>Test F1 Score</th>\n",
       "    </tr>\n",
       "  </thead>\n",
       "  <tbody>\n",
       "    <tr>\n",
       "      <th>0</th>\n",
       "      <td>CD10+ B cells</td>\n",
       "      <td>0.782288</td>\n",
       "      <td>0.857143</td>\n",
       "    </tr>\n",
       "    <tr>\n",
       "      <th>1</th>\n",
       "      <td>CD14+ Monocytes</td>\n",
       "      <td>0.938653</td>\n",
       "      <td>0.936561</td>\n",
       "    </tr>\n",
       "    <tr>\n",
       "      <th>2</th>\n",
       "      <td>CD16+ Monocytes</td>\n",
       "      <td>0.911672</td>\n",
       "      <td>0.917431</td>\n",
       "    </tr>\n",
       "    <tr>\n",
       "      <th>3</th>\n",
       "      <td>CD20+ B cells</td>\n",
       "      <td>0.979242</td>\n",
       "      <td>0.972921</td>\n",
       "    </tr>\n",
       "    <tr>\n",
       "      <th>4</th>\n",
       "      <td>CD4+ T cells</td>\n",
       "      <td>0.883417</td>\n",
       "      <td>0.883688</td>\n",
       "    </tr>\n",
       "    <tr>\n",
       "      <th>5</th>\n",
       "      <td>CD8+ T cells</td>\n",
       "      <td>0.002602</td>\n",
       "      <td>0.000000</td>\n",
       "    </tr>\n",
       "    <tr>\n",
       "      <th>6</th>\n",
       "      <td>Erythrocytes</td>\n",
       "      <td>0.893825</td>\n",
       "      <td>0.872727</td>\n",
       "    </tr>\n",
       "    <tr>\n",
       "      <th>7</th>\n",
       "      <td>Erythroid progenitors</td>\n",
       "      <td>0.824632</td>\n",
       "      <td>0.757895</td>\n",
       "    </tr>\n",
       "    <tr>\n",
       "      <th>8</th>\n",
       "      <td>HSPCs</td>\n",
       "      <td>0.628218</td>\n",
       "      <td>0.649057</td>\n",
       "    </tr>\n",
       "    <tr>\n",
       "      <th>9</th>\n",
       "      <td>Megakaryocyte progenitors</td>\n",
       "      <td>0.088106</td>\n",
       "      <td>0.074074</td>\n",
       "    </tr>\n",
       "    <tr>\n",
       "      <th>10</th>\n",
       "      <td>Monocyte progenitors</td>\n",
       "      <td>0.075269</td>\n",
       "      <td>0.114286</td>\n",
       "    </tr>\n",
       "    <tr>\n",
       "      <th>11</th>\n",
       "      <td>Monocyte-derived dendritic cells</td>\n",
       "      <td>0.768831</td>\n",
       "      <td>0.796020</td>\n",
       "    </tr>\n",
       "    <tr>\n",
       "      <th>12</th>\n",
       "      <td>NK cells</td>\n",
       "      <td>0.811189</td>\n",
       "      <td>0.824000</td>\n",
       "    </tr>\n",
       "    <tr>\n",
       "      <th>13</th>\n",
       "      <td>NKT cells</td>\n",
       "      <td>0.706963</td>\n",
       "      <td>0.732789</td>\n",
       "    </tr>\n",
       "    <tr>\n",
       "      <th>14</th>\n",
       "      <td>Plasma cells</td>\n",
       "      <td>0.854167</td>\n",
       "      <td>0.840000</td>\n",
       "    </tr>\n",
       "    <tr>\n",
       "      <th>15</th>\n",
       "      <td>Plasmacytoid dendritic cells</td>\n",
       "      <td>0.710526</td>\n",
       "      <td>0.681319</td>\n",
       "    </tr>\n",
       "    <tr>\n",
       "      <th>16</th>\n",
       "      <td>Macro Avg</td>\n",
       "      <td>0.678725</td>\n",
       "      <td>0.681869</td>\n",
       "    </tr>\n",
       "    <tr>\n",
       "      <th>17</th>\n",
       "      <td>Micro Avg</td>\n",
       "      <td>0.837359</td>\n",
       "      <td>0.837509</td>\n",
       "    </tr>\n",
       "    <tr>\n",
       "      <th>18</th>\n",
       "      <td>Weighted Avg</td>\n",
       "      <td>0.799694</td>\n",
       "      <td>0.800010</td>\n",
       "    </tr>\n",
       "  </tbody>\n",
       "</table>\n",
       "</div>"
      ],
      "text/plain": [
       "                               Class  Train F1 Score  Test F1 Score\n",
       "0                      CD10+ B cells        0.782288       0.857143\n",
       "1                    CD14+ Monocytes        0.938653       0.936561\n",
       "2                    CD16+ Monocytes        0.911672       0.917431\n",
       "3                      CD20+ B cells        0.979242       0.972921\n",
       "4                       CD4+ T cells        0.883417       0.883688\n",
       "5                       CD8+ T cells        0.002602       0.000000\n",
       "6                       Erythrocytes        0.893825       0.872727\n",
       "7              Erythroid progenitors        0.824632       0.757895\n",
       "8                              HSPCs        0.628218       0.649057\n",
       "9          Megakaryocyte progenitors        0.088106       0.074074\n",
       "10              Monocyte progenitors        0.075269       0.114286\n",
       "11  Monocyte-derived dendritic cells        0.768831       0.796020\n",
       "12                          NK cells        0.811189       0.824000\n",
       "13                         NKT cells        0.706963       0.732789\n",
       "14                      Plasma cells        0.854167       0.840000\n",
       "15      Plasmacytoid dendritic cells        0.710526       0.681319\n",
       "16                         Macro Avg        0.678725       0.681869\n",
       "17                         Micro Avg        0.837359       0.837509\n",
       "18                      Weighted Avg        0.799694       0.800010"
      ]
     },
     "execution_count": 44,
     "metadata": {},
     "output_type": "execute_result"
    }
   ],
   "source": [
    "evaluate(encoded_ref, t.ref.adata.obs)"
   ]
  },
  {
   "cell_type": "code",
   "execution_count": 48,
   "id": "c91308a4-247c-4b90-bf49-cf6f178dc669",
   "metadata": {},
   "outputs": [
    {
     "name": "stderr",
     "output_type": "stream",
     "text": [
      "Epoch 1/20: 100%|██████████| 55/55 [00:00<00:00, 117.08batch/s, loss=2.3389]\n"
     ]
    },
    {
     "name": "stdout",
     "output_type": "stream",
     "text": [
      "Epoch 1/20 completed. Average Loss: 2.3389\n"
     ]
    },
    {
     "name": "stderr",
     "output_type": "stream",
     "text": [
      "Epoch 2/20: 100%|██████████| 55/55 [00:00<00:00, 638.89batch/s, loss=2.2370]\n"
     ]
    },
    {
     "name": "stdout",
     "output_type": "stream",
     "text": [
      "Epoch 2/20 completed. Average Loss: 2.2370\n"
     ]
    },
    {
     "name": "stderr",
     "output_type": "stream",
     "text": [
      "Epoch 3/20: 100%|██████████| 55/55 [00:00<00:00, 613.61batch/s, loss=2.1431]\n"
     ]
    },
    {
     "name": "stdout",
     "output_type": "stream",
     "text": [
      "Epoch 3/20 completed. Average Loss: 2.1431\n"
     ]
    },
    {
     "name": "stderr",
     "output_type": "stream",
     "text": [
      "Epoch 4/20: 100%|██████████| 55/55 [00:00<00:00, 644.68batch/s, loss=2.0571]\n"
     ]
    },
    {
     "name": "stdout",
     "output_type": "stream",
     "text": [
      "Epoch 4/20 completed. Average Loss: 2.0571\n"
     ]
    },
    {
     "name": "stderr",
     "output_type": "stream",
     "text": [
      "Epoch 5/20: 100%|██████████| 55/55 [00:00<00:00, 654.50batch/s, loss=1.9779]\n"
     ]
    },
    {
     "name": "stdout",
     "output_type": "stream",
     "text": [
      "Epoch 5/20 completed. Average Loss: 1.9779\n"
     ]
    },
    {
     "name": "stderr",
     "output_type": "stream",
     "text": [
      "Epoch 6/20: 100%|██████████| 55/55 [00:00<00:00, 637.82batch/s, loss=1.9042]\n"
     ]
    },
    {
     "name": "stdout",
     "output_type": "stream",
     "text": [
      "Epoch 6/20 completed. Average Loss: 1.9042\n"
     ]
    },
    {
     "name": "stderr",
     "output_type": "stream",
     "text": [
      "Epoch 7/20: 100%|██████████| 55/55 [00:00<00:00, 626.14batch/s, loss=1.8365]\n"
     ]
    },
    {
     "name": "stdout",
     "output_type": "stream",
     "text": [
      "Epoch 7/20 completed. Average Loss: 1.8365\n"
     ]
    },
    {
     "name": "stderr",
     "output_type": "stream",
     "text": [
      "Epoch 8/20: 100%|██████████| 55/55 [00:00<00:00, 632.64batch/s, loss=1.7736]\n"
     ]
    },
    {
     "name": "stdout",
     "output_type": "stream",
     "text": [
      "Epoch 8/20 completed. Average Loss: 1.7736\n"
     ]
    },
    {
     "name": "stderr",
     "output_type": "stream",
     "text": [
      "Epoch 9/20: 100%|██████████| 55/55 [00:00<00:00, 653.62batch/s, loss=1.7158]\n"
     ]
    },
    {
     "name": "stdout",
     "output_type": "stream",
     "text": [
      "Epoch 9/20 completed. Average Loss: 1.7158\n"
     ]
    },
    {
     "name": "stderr",
     "output_type": "stream",
     "text": [
      "Epoch 10/20: 100%|██████████| 55/55 [00:00<00:00, 667.16batch/s, loss=1.6622]\n"
     ]
    },
    {
     "name": "stdout",
     "output_type": "stream",
     "text": [
      "Epoch 10/20 completed. Average Loss: 1.6622\n"
     ]
    },
    {
     "name": "stderr",
     "output_type": "stream",
     "text": [
      "Epoch 11/20: 100%|██████████| 55/55 [00:00<00:00, 642.23batch/s, loss=1.6116]\n"
     ]
    },
    {
     "name": "stdout",
     "output_type": "stream",
     "text": [
      "Epoch 11/20 completed. Average Loss: 1.6116\n"
     ]
    },
    {
     "name": "stderr",
     "output_type": "stream",
     "text": [
      "Epoch 12/20: 100%|██████████| 55/55 [00:00<00:00, 640.05batch/s, loss=1.5646]\n"
     ]
    },
    {
     "name": "stdout",
     "output_type": "stream",
     "text": [
      "Epoch 12/20 completed. Average Loss: 1.5646\n"
     ]
    },
    {
     "name": "stderr",
     "output_type": "stream",
     "text": [
      "Epoch 13/20: 100%|██████████| 55/55 [00:00<00:00, 640.37batch/s, loss=1.5210]\n"
     ]
    },
    {
     "name": "stdout",
     "output_type": "stream",
     "text": [
      "Epoch 13/20 completed. Average Loss: 1.5210\n"
     ]
    },
    {
     "name": "stderr",
     "output_type": "stream",
     "text": [
      "Epoch 14/20: 100%|██████████| 55/55 [00:00<00:00, 651.10batch/s, loss=1.4783]\n"
     ]
    },
    {
     "name": "stdout",
     "output_type": "stream",
     "text": [
      "Epoch 14/20 completed. Average Loss: 1.4783\n"
     ]
    },
    {
     "name": "stderr",
     "output_type": "stream",
     "text": [
      "Epoch 15/20: 100%|██████████| 55/55 [00:00<00:00, 669.43batch/s, loss=1.4404]\n"
     ]
    },
    {
     "name": "stdout",
     "output_type": "stream",
     "text": [
      "Epoch 15/20 completed. Average Loss: 1.4404\n"
     ]
    },
    {
     "name": "stderr",
     "output_type": "stream",
     "text": [
      "Epoch 16/20: 100%|██████████| 55/55 [00:00<00:00, 657.66batch/s, loss=1.4025]\n"
     ]
    },
    {
     "name": "stdout",
     "output_type": "stream",
     "text": [
      "Epoch 16/20 completed. Average Loss: 1.4025\n"
     ]
    },
    {
     "name": "stderr",
     "output_type": "stream",
     "text": [
      "Epoch 17/20: 100%|██████████| 55/55 [00:00<00:00, 610.24batch/s, loss=1.3684]\n"
     ]
    },
    {
     "name": "stdout",
     "output_type": "stream",
     "text": [
      "Epoch 17/20 completed. Average Loss: 1.3684\n"
     ]
    },
    {
     "name": "stderr",
     "output_type": "stream",
     "text": [
      "Epoch 18/20: 100%|██████████| 55/55 [00:00<00:00, 612.22batch/s, loss=1.3361]\n"
     ]
    },
    {
     "name": "stdout",
     "output_type": "stream",
     "text": [
      "Epoch 18/20 completed. Average Loss: 1.3361\n"
     ]
    },
    {
     "name": "stderr",
     "output_type": "stream",
     "text": [
      "Epoch 19/20: 100%|██████████| 55/55 [00:00<00:00, 642.47batch/s, loss=1.3048]\n"
     ]
    },
    {
     "name": "stdout",
     "output_type": "stream",
     "text": [
      "Epoch 19/20 completed. Average Loss: 1.3048\n"
     ]
    },
    {
     "name": "stderr",
     "output_type": "stream",
     "text": [
      "Epoch 20/20: 100%|██████████| 55/55 [00:00<00:00, 645.06batch/s, loss=1.2750]\n"
     ]
    },
    {
     "name": "stdout",
     "output_type": "stream",
     "text": [
      "Epoch 20/20 completed. Average Loss: 1.2750\n"
     ]
    },
    {
     "data": {
      "text/html": [
       "<div>\n",
       "<style scoped>\n",
       "    .dataframe tbody tr th:only-of-type {\n",
       "        vertical-align: middle;\n",
       "    }\n",
       "\n",
       "    .dataframe tbody tr th {\n",
       "        vertical-align: top;\n",
       "    }\n",
       "\n",
       "    .dataframe thead th {\n",
       "        text-align: right;\n",
       "    }\n",
       "</style>\n",
       "<table border=\"1\" class=\"dataframe\">\n",
       "  <thead>\n",
       "    <tr style=\"text-align: right;\">\n",
       "      <th></th>\n",
       "      <th>Class</th>\n",
       "      <th>Train F1 Score</th>\n",
       "      <th>Test F1 Score</th>\n",
       "    </tr>\n",
       "  </thead>\n",
       "  <tbody>\n",
       "    <tr>\n",
       "      <th>0</th>\n",
       "      <td>CD14+ Monocytes</td>\n",
       "      <td>0.733087</td>\n",
       "      <td>0.726316</td>\n",
       "    </tr>\n",
       "    <tr>\n",
       "      <th>1</th>\n",
       "      <td>CD16+ Monocytes</td>\n",
       "      <td>0.000000</td>\n",
       "      <td>0.000000</td>\n",
       "    </tr>\n",
       "    <tr>\n",
       "      <th>2</th>\n",
       "      <td>CD20+ B cells</td>\n",
       "      <td>0.945568</td>\n",
       "      <td>0.959064</td>\n",
       "    </tr>\n",
       "    <tr>\n",
       "      <th>3</th>\n",
       "      <td>CD4+ T cells</td>\n",
       "      <td>0.774797</td>\n",
       "      <td>0.769231</td>\n",
       "    </tr>\n",
       "    <tr>\n",
       "      <th>4</th>\n",
       "      <td>CD8+ T cells</td>\n",
       "      <td>0.000000</td>\n",
       "      <td>0.000000</td>\n",
       "    </tr>\n",
       "    <tr>\n",
       "      <th>5</th>\n",
       "      <td>Megakaryocyte progenitors</td>\n",
       "      <td>0.000000</td>\n",
       "      <td>0.000000</td>\n",
       "    </tr>\n",
       "    <tr>\n",
       "      <th>6</th>\n",
       "      <td>Monocyte-derived dendritic cells</td>\n",
       "      <td>0.735343</td>\n",
       "      <td>0.689655</td>\n",
       "    </tr>\n",
       "    <tr>\n",
       "      <th>7</th>\n",
       "      <td>NK cells</td>\n",
       "      <td>0.798906</td>\n",
       "      <td>0.773006</td>\n",
       "    </tr>\n",
       "    <tr>\n",
       "      <th>8</th>\n",
       "      <td>NKT cells</td>\n",
       "      <td>0.629213</td>\n",
       "      <td>0.654762</td>\n",
       "    </tr>\n",
       "    <tr>\n",
       "      <th>9</th>\n",
       "      <td>Plasmacytoid dendritic cells</td>\n",
       "      <td>0.066225</td>\n",
       "      <td>0.054054</td>\n",
       "    </tr>\n",
       "    <tr>\n",
       "      <th>10</th>\n",
       "      <td>Macro Avg</td>\n",
       "      <td>0.468314</td>\n",
       "      <td>0.462609</td>\n",
       "    </tr>\n",
       "    <tr>\n",
       "      <th>11</th>\n",
       "      <td>Micro Avg</td>\n",
       "      <td>0.711588</td>\n",
       "      <td>0.697941</td>\n",
       "    </tr>\n",
       "    <tr>\n",
       "      <th>12</th>\n",
       "      <td>Weighted Avg</td>\n",
       "      <td>0.655998</td>\n",
       "      <td>0.639523</td>\n",
       "    </tr>\n",
       "  </tbody>\n",
       "</table>\n",
       "</div>"
      ],
      "text/plain": [
       "                               Class  Train F1 Score  Test F1 Score\n",
       "0                    CD14+ Monocytes        0.733087       0.726316\n",
       "1                    CD16+ Monocytes        0.000000       0.000000\n",
       "2                      CD20+ B cells        0.945568       0.959064\n",
       "3                       CD4+ T cells        0.774797       0.769231\n",
       "4                       CD8+ T cells        0.000000       0.000000\n",
       "5          Megakaryocyte progenitors        0.000000       0.000000\n",
       "6   Monocyte-derived dendritic cells        0.735343       0.689655\n",
       "7                           NK cells        0.798906       0.773006\n",
       "8                          NKT cells        0.629213       0.654762\n",
       "9       Plasmacytoid dendritic cells        0.066225       0.054054\n",
       "10                         Macro Avg        0.468314       0.462609\n",
       "11                         Micro Avg        0.711588       0.697941\n",
       "12                      Weighted Avg        0.655998       0.639523"
      ]
     },
     "execution_count": 48,
     "metadata": {},
     "output_type": "execute_result"
    }
   ],
   "source": [
    "evaluate(encoded_query, t.query.adata.obs)"
   ]
  },
  {
   "cell_type": "markdown",
   "id": "7b0f0ed9-6c95-4dd9-ac02-5104946adb74",
   "metadata": {
    "jp-MarkdownHeadingCollapsed": true
   },
   "source": [
    "# init scpoli, encode data"
   ]
  },
  {
   "cell_type": "markdown",
   "id": "2bcacde6-88a4-4783-8aa1-a325ebbc3da0",
   "metadata": {},
   "source": [
    "do the same for scpoli encoded data\n",
    "+ classifiy using scpoli classification method"
   ]
  },
  {
   "cell_type": "code",
   "execution_count": 74,
   "id": "db87d022-bfd5-4b69-809e-10a192ad5c71",
   "metadata": {},
   "outputs": [],
   "source": [
    "t_dict = {'scpoli': {\n",
    "            'latent_dims': [8],\n",
    "            'batch_size': [1024],\n",
    "            'experiment_name': ['scpoli-semi'],\n",
    "            # 'dataset_id':['hlca'],\n",
    "            'model_name_version': [3],\n",
    "            }}"
   ]
  },
  {
   "cell_type": "code",
   "execution_count": 75,
   "id": "08404a1c-eb22-4f3a-936a-e2495bcba801",
   "metadata": {},
   "outputs": [
    {
     "name": "stderr",
     "output_type": "stream",
     "text": [
      "Generating trainers for scpoli: 100%|██████████| 1/1 [00:00<00:00,  1.32it/s, Memory=5.4%, CPU=1.9%, trainer_name=scpoli_exp_scpoli-semi]\n"
     ]
    }
   ],
   "source": [
    "trainers = e.generate_trainers(t_dict)"
   ]
  },
  {
   "cell_type": "code",
   "execution_count": 76,
   "id": "3655929c-4932-4c49-a548-e915aac5e0e2",
   "metadata": {},
   "outputs": [],
   "source": [
    "st = trainers[0]"
   ]
  },
  {
   "cell_type": "code",
   "execution_count": 78,
   "id": "1051436e-e805-45a8-9886-28b1f5461950",
   "metadata": {
    "collapsed": true,
    "jupyter": {
     "outputs_hidden": true
    }
   },
   "outputs": [
    {
     "name": "stdout",
     "output_type": "stream",
     "text": [
      "Embedding dictionary:\n",
      " \tNum conditions: [3]\n",
      " \tEmbedding dim: [10]\n",
      "Encoder Architecture:\n",
      "\tInput Layer in, out and cond: 4000 64 10\n",
      "\tMean/Var Layer in/out: 64 8\n",
      "Decoder Architecture:\n",
      "\tFirst Layer in, out and cond:  8 64 10\n",
      "\tOutput Layer in/out:  64 4000 \n",
      "\n"
     ]
    },
    {
     "name": "stderr",
     "output_type": "stream",
     "text": [
      "100%|██████████| 29/29 [00:05<00:00,  5.29it/s]\n"
     ]
    },
    {
     "name": "stdout",
     "output_type": "stream",
     "text": [
      "Embedding dictionary:\n",
      " \tNum conditions: [3]\n",
      " \tEmbedding dim: [10]\n",
      "Encoder Architecture:\n",
      "\tInput Layer in, out and cond: 4000 64 10\n",
      "\tMean/Var Layer in/out: 64 8\n",
      "Decoder Architecture:\n",
      "\tFirst Layer in, out and cond:  8 64 10\n",
      "\tOutput Layer in/out:  64 4000 \n",
      "\n",
      "Embedding dictionary:\n",
      " \tNum conditions: [5]\n",
      " \tEmbedding dim: [10]\n",
      "Encoder Architecture:\n",
      "\tInput Layer in, out and cond: 4000 64 10\n",
      "\tMean/Var Layer in/out: 64 8\n",
      "Decoder Architecture:\n",
      "\tFirst Layer in, out and cond:  8 64 10\n",
      "\tOutput Layer in/out:  64 4000 \n",
      "\n"
     ]
    },
    {
     "name": "stderr",
     "output_type": "stream",
     "text": [
      "100%|██████████| 5/5 [00:00<00:00, 12.79it/s]\n"
     ]
    }
   ],
   "source": [
    "st.model = None\n",
    "ref_emb = st.encode_ref()\n",
    "query_emb = st.encode_query()"
   ]
  },
  {
   "cell_type": "code",
   "execution_count": 79,
   "id": "961c336f-7770-4f4e-b391-49f0b40c7e9e",
   "metadata": {},
   "outputs": [
    {
     "name": "stderr",
     "output_type": "stream",
     "text": [
      "Epoch 1/20: 100%|██████████| 365/365 [00:01<00:00, 208.01batch/s, loss=2.4363]\n"
     ]
    },
    {
     "name": "stdout",
     "output_type": "stream",
     "text": [
      "Epoch 1/20 completed. Average Loss: 2.4363\n"
     ]
    },
    {
     "name": "stderr",
     "output_type": "stream",
     "text": [
      "Epoch 2/20: 100%|██████████| 365/365 [00:00<00:00, 623.16batch/s, loss=2.0364]\n"
     ]
    },
    {
     "name": "stdout",
     "output_type": "stream",
     "text": [
      "Epoch 2/20 completed. Average Loss: 2.0364\n"
     ]
    },
    {
     "name": "stderr",
     "output_type": "stream",
     "text": [
      "Epoch 3/20: 100%|██████████| 365/365 [00:00<00:00, 624.01batch/s, loss=1.8372]\n"
     ]
    },
    {
     "name": "stdout",
     "output_type": "stream",
     "text": [
      "Epoch 3/20 completed. Average Loss: 1.8372\n"
     ]
    },
    {
     "name": "stderr",
     "output_type": "stream",
     "text": [
      "Epoch 4/20: 100%|██████████| 365/365 [00:00<00:00, 640.58batch/s, loss=1.7062]\n"
     ]
    },
    {
     "name": "stdout",
     "output_type": "stream",
     "text": [
      "Epoch 4/20 completed. Average Loss: 1.7062\n"
     ]
    },
    {
     "name": "stderr",
     "output_type": "stream",
     "text": [
      "Epoch 5/20: 100%|██████████| 365/365 [00:00<00:00, 638.25batch/s, loss=1.6038]\n"
     ]
    },
    {
     "name": "stdout",
     "output_type": "stream",
     "text": [
      "Epoch 5/20 completed. Average Loss: 1.6038\n"
     ]
    },
    {
     "name": "stderr",
     "output_type": "stream",
     "text": [
      "Epoch 6/20: 100%|██████████| 365/365 [00:00<00:00, 640.14batch/s, loss=1.5166]\n"
     ]
    },
    {
     "name": "stdout",
     "output_type": "stream",
     "text": [
      "Epoch 6/20 completed. Average Loss: 1.5166\n"
     ]
    },
    {
     "name": "stderr",
     "output_type": "stream",
     "text": [
      "Epoch 7/20: 100%|██████████| 365/365 [00:00<00:00, 648.34batch/s, loss=1.4401]\n"
     ]
    },
    {
     "name": "stdout",
     "output_type": "stream",
     "text": [
      "Epoch 7/20 completed. Average Loss: 1.4401\n"
     ]
    },
    {
     "name": "stderr",
     "output_type": "stream",
     "text": [
      "Epoch 8/20: 100%|██████████| 365/365 [00:00<00:00, 638.32batch/s, loss=1.3728]\n"
     ]
    },
    {
     "name": "stdout",
     "output_type": "stream",
     "text": [
      "Epoch 8/20 completed. Average Loss: 1.3728\n"
     ]
    },
    {
     "name": "stderr",
     "output_type": "stream",
     "text": [
      "Epoch 9/20: 100%|██████████| 365/365 [00:00<00:00, 638.57batch/s, loss=1.3127]\n"
     ]
    },
    {
     "name": "stdout",
     "output_type": "stream",
     "text": [
      "Epoch 9/20 completed. Average Loss: 1.3127\n"
     ]
    },
    {
     "name": "stderr",
     "output_type": "stream",
     "text": [
      "Epoch 10/20: 100%|██████████| 365/365 [00:00<00:00, 637.30batch/s, loss=1.2592]\n"
     ]
    },
    {
     "name": "stdout",
     "output_type": "stream",
     "text": [
      "Epoch 10/20 completed. Average Loss: 1.2592\n"
     ]
    },
    {
     "name": "stderr",
     "output_type": "stream",
     "text": [
      "Epoch 11/20: 100%|██████████| 365/365 [00:00<00:00, 620.79batch/s, loss=1.2093]\n"
     ]
    },
    {
     "name": "stdout",
     "output_type": "stream",
     "text": [
      "Epoch 11/20 completed. Average Loss: 1.2093\n"
     ]
    },
    {
     "name": "stderr",
     "output_type": "stream",
     "text": [
      "Epoch 12/20: 100%|██████████| 365/365 [00:00<00:00, 618.37batch/s, loss=1.1664]\n"
     ]
    },
    {
     "name": "stdout",
     "output_type": "stream",
     "text": [
      "Epoch 12/20 completed. Average Loss: 1.1664\n"
     ]
    },
    {
     "name": "stderr",
     "output_type": "stream",
     "text": [
      "Epoch 13/20: 100%|██████████| 365/365 [00:00<00:00, 645.47batch/s, loss=1.1263]\n"
     ]
    },
    {
     "name": "stdout",
     "output_type": "stream",
     "text": [
      "Epoch 13/20 completed. Average Loss: 1.1263\n"
     ]
    },
    {
     "name": "stderr",
     "output_type": "stream",
     "text": [
      "Epoch 14/20: 100%|██████████| 365/365 [00:00<00:00, 639.99batch/s, loss=1.0908]\n"
     ]
    },
    {
     "name": "stdout",
     "output_type": "stream",
     "text": [
      "Epoch 14/20 completed. Average Loss: 1.0908\n"
     ]
    },
    {
     "name": "stderr",
     "output_type": "stream",
     "text": [
      "Epoch 15/20: 100%|██████████| 365/365 [00:00<00:00, 627.14batch/s, loss=1.0572]\n"
     ]
    },
    {
     "name": "stdout",
     "output_type": "stream",
     "text": [
      "Epoch 15/20 completed. Average Loss: 1.0572\n"
     ]
    },
    {
     "name": "stderr",
     "output_type": "stream",
     "text": [
      "Epoch 16/20: 100%|██████████| 365/365 [00:00<00:00, 642.89batch/s, loss=1.0277]\n"
     ]
    },
    {
     "name": "stdout",
     "output_type": "stream",
     "text": [
      "Epoch 16/20 completed. Average Loss: 1.0277\n"
     ]
    },
    {
     "name": "stderr",
     "output_type": "stream",
     "text": [
      "Epoch 17/20: 100%|██████████| 365/365 [00:00<00:00, 641.96batch/s, loss=1.0006]\n"
     ]
    },
    {
     "name": "stdout",
     "output_type": "stream",
     "text": [
      "Epoch 17/20 completed. Average Loss: 1.0006\n"
     ]
    },
    {
     "name": "stderr",
     "output_type": "stream",
     "text": [
      "Epoch 18/20: 100%|██████████| 365/365 [00:00<00:00, 623.48batch/s, loss=0.9741]\n"
     ]
    },
    {
     "name": "stdout",
     "output_type": "stream",
     "text": [
      "Epoch 18/20 completed. Average Loss: 0.9741\n"
     ]
    },
    {
     "name": "stderr",
     "output_type": "stream",
     "text": [
      "Epoch 19/20: 100%|██████████| 365/365 [00:00<00:00, 646.46batch/s, loss=0.9515]\n"
     ]
    },
    {
     "name": "stdout",
     "output_type": "stream",
     "text": [
      "Epoch 19/20 completed. Average Loss: 0.9515\n"
     ]
    },
    {
     "name": "stderr",
     "output_type": "stream",
     "text": [
      "Epoch 20/20: 100%|██████████| 365/365 [00:00<00:00, 626.97batch/s, loss=0.9310]\n"
     ]
    },
    {
     "name": "stdout",
     "output_type": "stream",
     "text": [
      "Epoch 20/20 completed. Average Loss: 0.9310\n"
     ]
    },
    {
     "data": {
      "text/html": [
       "<div>\n",
       "<style scoped>\n",
       "    .dataframe tbody tr th:only-of-type {\n",
       "        vertical-align: middle;\n",
       "    }\n",
       "\n",
       "    .dataframe tbody tr th {\n",
       "        vertical-align: top;\n",
       "    }\n",
       "\n",
       "    .dataframe thead th {\n",
       "        text-align: right;\n",
       "    }\n",
       "</style>\n",
       "<table border=\"1\" class=\"dataframe\">\n",
       "  <thead>\n",
       "    <tr style=\"text-align: right;\">\n",
       "      <th></th>\n",
       "      <th>Class</th>\n",
       "      <th>Train F1 Score</th>\n",
       "      <th>Test F1 Score</th>\n",
       "    </tr>\n",
       "  </thead>\n",
       "  <tbody>\n",
       "    <tr>\n",
       "      <th>0</th>\n",
       "      <td>CD10+ B cells</td>\n",
       "      <td>0.000000</td>\n",
       "      <td>0.000000</td>\n",
       "    </tr>\n",
       "    <tr>\n",
       "      <th>1</th>\n",
       "      <td>CD14+ Monocytes</td>\n",
       "      <td>0.904941</td>\n",
       "      <td>0.903824</td>\n",
       "    </tr>\n",
       "    <tr>\n",
       "      <th>2</th>\n",
       "      <td>CD16+ Monocytes</td>\n",
       "      <td>0.000000</td>\n",
       "      <td>0.000000</td>\n",
       "    </tr>\n",
       "    <tr>\n",
       "      <th>3</th>\n",
       "      <td>CD20+ B cells</td>\n",
       "      <td>0.880851</td>\n",
       "      <td>0.885965</td>\n",
       "    </tr>\n",
       "    <tr>\n",
       "      <th>4</th>\n",
       "      <td>CD4+ T cells</td>\n",
       "      <td>0.861333</td>\n",
       "      <td>0.861255</td>\n",
       "    </tr>\n",
       "    <tr>\n",
       "      <th>5</th>\n",
       "      <td>CD8+ T cells</td>\n",
       "      <td>0.000000</td>\n",
       "      <td>0.000000</td>\n",
       "    </tr>\n",
       "    <tr>\n",
       "      <th>6</th>\n",
       "      <td>Erythrocytes</td>\n",
       "      <td>0.599471</td>\n",
       "      <td>0.558499</td>\n",
       "    </tr>\n",
       "    <tr>\n",
       "      <th>7</th>\n",
       "      <td>Erythroid progenitors</td>\n",
       "      <td>0.000000</td>\n",
       "      <td>0.000000</td>\n",
       "    </tr>\n",
       "    <tr>\n",
       "      <th>8</th>\n",
       "      <td>HSPCs</td>\n",
       "      <td>0.000000</td>\n",
       "      <td>0.000000</td>\n",
       "    </tr>\n",
       "    <tr>\n",
       "      <th>9</th>\n",
       "      <td>Megakaryocyte progenitors</td>\n",
       "      <td>0.000000</td>\n",
       "      <td>0.000000</td>\n",
       "    </tr>\n",
       "    <tr>\n",
       "      <th>10</th>\n",
       "      <td>Monocyte progenitors</td>\n",
       "      <td>0.000000</td>\n",
       "      <td>0.000000</td>\n",
       "    </tr>\n",
       "    <tr>\n",
       "      <th>11</th>\n",
       "      <td>Monocyte-derived dendritic cells</td>\n",
       "      <td>0.000000</td>\n",
       "      <td>0.000000</td>\n",
       "    </tr>\n",
       "    <tr>\n",
       "      <th>12</th>\n",
       "      <td>NK cells</td>\n",
       "      <td>0.779684</td>\n",
       "      <td>0.805442</td>\n",
       "    </tr>\n",
       "    <tr>\n",
       "      <th>13</th>\n",
       "      <td>NKT cells</td>\n",
       "      <td>0.522315</td>\n",
       "      <td>0.559671</td>\n",
       "    </tr>\n",
       "    <tr>\n",
       "      <th>14</th>\n",
       "      <td>Plasma cells</td>\n",
       "      <td>0.000000</td>\n",
       "      <td>0.000000</td>\n",
       "    </tr>\n",
       "    <tr>\n",
       "      <th>15</th>\n",
       "      <td>Plasmacytoid dendritic cells</td>\n",
       "      <td>0.000000</td>\n",
       "      <td>0.000000</td>\n",
       "    </tr>\n",
       "    <tr>\n",
       "      <th>16</th>\n",
       "      <td>Macro Avg</td>\n",
       "      <td>0.284287</td>\n",
       "      <td>0.285916</td>\n",
       "    </tr>\n",
       "    <tr>\n",
       "      <th>17</th>\n",
       "      <td>Micro Avg</td>\n",
       "      <td>0.746235</td>\n",
       "      <td>0.745196</td>\n",
       "    </tr>\n",
       "    <tr>\n",
       "      <th>18</th>\n",
       "      <td>Weighted Avg</td>\n",
       "      <td>0.667437</td>\n",
       "      <td>0.666540</td>\n",
       "    </tr>\n",
       "  </tbody>\n",
       "</table>\n",
       "</div>"
      ],
      "text/plain": [
       "                               Class  Train F1 Score  Test F1 Score\n",
       "0                      CD10+ B cells        0.000000       0.000000\n",
       "1                    CD14+ Monocytes        0.904941       0.903824\n",
       "2                    CD16+ Monocytes        0.000000       0.000000\n",
       "3                      CD20+ B cells        0.880851       0.885965\n",
       "4                       CD4+ T cells        0.861333       0.861255\n",
       "5                       CD8+ T cells        0.000000       0.000000\n",
       "6                       Erythrocytes        0.599471       0.558499\n",
       "7              Erythroid progenitors        0.000000       0.000000\n",
       "8                              HSPCs        0.000000       0.000000\n",
       "9          Megakaryocyte progenitors        0.000000       0.000000\n",
       "10              Monocyte progenitors        0.000000       0.000000\n",
       "11  Monocyte-derived dendritic cells        0.000000       0.000000\n",
       "12                          NK cells        0.779684       0.805442\n",
       "13                         NKT cells        0.522315       0.559671\n",
       "14                      Plasma cells        0.000000       0.000000\n",
       "15      Plasmacytoid dendritic cells        0.000000       0.000000\n",
       "16                         Macro Avg        0.284287       0.285916\n",
       "17                         Micro Avg        0.746235       0.745196\n",
       "18                      Weighted Avg        0.667437       0.666540"
      ]
     },
     "execution_count": 79,
     "metadata": {},
     "output_type": "execute_result"
    }
   ],
   "source": [
    "evaluate(ref_emb, st.ref.adata.obs)"
   ]
  },
  {
   "cell_type": "code",
   "execution_count": 80,
   "id": "daf33d28-f6be-43a4-ac2f-b4bc1108ddf4",
   "metadata": {},
   "outputs": [
    {
     "name": "stderr",
     "output_type": "stream",
     "text": [
      "Epoch 1/20: 100%|██████████| 55/55 [00:00<00:00, 599.07batch/s, loss=2.2025]\n"
     ]
    },
    {
     "name": "stdout",
     "output_type": "stream",
     "text": [
      "Epoch 1/20 completed. Average Loss: 2.2025\n"
     ]
    },
    {
     "name": "stderr",
     "output_type": "stream",
     "text": [
      "Epoch 2/20: 100%|██████████| 55/55 [00:00<00:00, 645.64batch/s, loss=2.1413]\n"
     ]
    },
    {
     "name": "stdout",
     "output_type": "stream",
     "text": [
      "Epoch 2/20 completed. Average Loss: 2.1413\n"
     ]
    },
    {
     "name": "stderr",
     "output_type": "stream",
     "text": [
      "Epoch 3/20: 100%|██████████| 55/55 [00:00<00:00, 615.51batch/s, loss=2.0902]\n"
     ]
    },
    {
     "name": "stdout",
     "output_type": "stream",
     "text": [
      "Epoch 3/20 completed. Average Loss: 2.0902\n"
     ]
    },
    {
     "name": "stderr",
     "output_type": "stream",
     "text": [
      "Epoch 4/20: 100%|██████████| 55/55 [00:00<00:00, 651.96batch/s, loss=2.0459]\n"
     ]
    },
    {
     "name": "stdout",
     "output_type": "stream",
     "text": [
      "Epoch 4/20 completed. Average Loss: 2.0459\n"
     ]
    },
    {
     "name": "stderr",
     "output_type": "stream",
     "text": [
      "Epoch 5/20: 100%|██████████| 55/55 [00:00<00:00, 609.58batch/s, loss=2.0085]\n"
     ]
    },
    {
     "name": "stdout",
     "output_type": "stream",
     "text": [
      "Epoch 5/20 completed. Average Loss: 2.0085\n"
     ]
    },
    {
     "name": "stderr",
     "output_type": "stream",
     "text": [
      "Epoch 6/20: 100%|██████████| 55/55 [00:00<00:00, 599.27batch/s, loss=1.9754]\n"
     ]
    },
    {
     "name": "stdout",
     "output_type": "stream",
     "text": [
      "Epoch 6/20 completed. Average Loss: 1.9754\n"
     ]
    },
    {
     "name": "stderr",
     "output_type": "stream",
     "text": [
      "Epoch 7/20: 100%|██████████| 55/55 [00:00<00:00, 594.91batch/s, loss=1.9457]\n"
     ]
    },
    {
     "name": "stdout",
     "output_type": "stream",
     "text": [
      "Epoch 7/20 completed. Average Loss: 1.9457\n"
     ]
    },
    {
     "name": "stderr",
     "output_type": "stream",
     "text": [
      "Epoch 8/20: 100%|██████████| 55/55 [00:00<00:00, 637.67batch/s, loss=1.9176]\n"
     ]
    },
    {
     "name": "stdout",
     "output_type": "stream",
     "text": [
      "Epoch 8/20 completed. Average Loss: 1.9176\n"
     ]
    },
    {
     "name": "stderr",
     "output_type": "stream",
     "text": [
      "Epoch 9/20: 100%|██████████| 55/55 [00:00<00:00, 636.93batch/s, loss=1.8932]\n"
     ]
    },
    {
     "name": "stdout",
     "output_type": "stream",
     "text": [
      "Epoch 9/20 completed. Average Loss: 1.8932\n"
     ]
    },
    {
     "name": "stderr",
     "output_type": "stream",
     "text": [
      "Epoch 10/20: 100%|██████████| 55/55 [00:00<00:00, 604.83batch/s, loss=1.8705]\n"
     ]
    },
    {
     "name": "stdout",
     "output_type": "stream",
     "text": [
      "Epoch 10/20 completed. Average Loss: 1.8705\n"
     ]
    },
    {
     "name": "stderr",
     "output_type": "stream",
     "text": [
      "Epoch 11/20: 100%|██████████| 55/55 [00:00<00:00, 635.24batch/s, loss=1.8460]\n"
     ]
    },
    {
     "name": "stdout",
     "output_type": "stream",
     "text": [
      "Epoch 11/20 completed. Average Loss: 1.8460\n"
     ]
    },
    {
     "name": "stderr",
     "output_type": "stream",
     "text": [
      "Epoch 12/20: 100%|██████████| 55/55 [00:00<00:00, 662.61batch/s, loss=1.8243]\n"
     ]
    },
    {
     "name": "stdout",
     "output_type": "stream",
     "text": [
      "Epoch 12/20 completed. Average Loss: 1.8243\n"
     ]
    },
    {
     "name": "stderr",
     "output_type": "stream",
     "text": [
      "Epoch 13/20: 100%|██████████| 55/55 [00:00<00:00, 626.09batch/s, loss=1.8057]\n"
     ]
    },
    {
     "name": "stdout",
     "output_type": "stream",
     "text": [
      "Epoch 13/20 completed. Average Loss: 1.8057\n"
     ]
    },
    {
     "name": "stderr",
     "output_type": "stream",
     "text": [
      "Epoch 14/20: 100%|██████████| 55/55 [00:00<00:00, 633.21batch/s, loss=1.7838]\n"
     ]
    },
    {
     "name": "stdout",
     "output_type": "stream",
     "text": [
      "Epoch 14/20 completed. Average Loss: 1.7838\n"
     ]
    },
    {
     "name": "stderr",
     "output_type": "stream",
     "text": [
      "Epoch 15/20: 100%|██████████| 55/55 [00:00<00:00, 639.59batch/s, loss=1.7665]\n"
     ]
    },
    {
     "name": "stdout",
     "output_type": "stream",
     "text": [
      "Epoch 15/20 completed. Average Loss: 1.7665\n"
     ]
    },
    {
     "name": "stderr",
     "output_type": "stream",
     "text": [
      "Epoch 16/20: 100%|██████████| 55/55 [00:00<00:00, 640.43batch/s, loss=1.7463]\n"
     ]
    },
    {
     "name": "stdout",
     "output_type": "stream",
     "text": [
      "Epoch 16/20 completed. Average Loss: 1.7463\n"
     ]
    },
    {
     "name": "stderr",
     "output_type": "stream",
     "text": [
      "Epoch 17/20: 100%|██████████| 55/55 [00:00<00:00, 639.15batch/s, loss=1.7276]\n"
     ]
    },
    {
     "name": "stdout",
     "output_type": "stream",
     "text": [
      "Epoch 17/20 completed. Average Loss: 1.7276\n"
     ]
    },
    {
     "name": "stderr",
     "output_type": "stream",
     "text": [
      "Epoch 18/20: 100%|██████████| 55/55 [00:00<00:00, 619.51batch/s, loss=1.7098]\n"
     ]
    },
    {
     "name": "stdout",
     "output_type": "stream",
     "text": [
      "Epoch 18/20 completed. Average Loss: 1.7098\n"
     ]
    },
    {
     "name": "stderr",
     "output_type": "stream",
     "text": [
      "Epoch 19/20: 100%|██████████| 55/55 [00:00<00:00, 634.43batch/s, loss=1.6928]\n"
     ]
    },
    {
     "name": "stdout",
     "output_type": "stream",
     "text": [
      "Epoch 19/20 completed. Average Loss: 1.6928\n"
     ]
    },
    {
     "name": "stderr",
     "output_type": "stream",
     "text": [
      "Epoch 20/20: 100%|██████████| 55/55 [00:00<00:00, 613.24batch/s, loss=1.6748]\n"
     ]
    },
    {
     "name": "stdout",
     "output_type": "stream",
     "text": [
      "Epoch 20/20 completed. Average Loss: 1.6748\n"
     ]
    },
    {
     "data": {
      "text/html": [
       "<div>\n",
       "<style scoped>\n",
       "    .dataframe tbody tr th:only-of-type {\n",
       "        vertical-align: middle;\n",
       "    }\n",
       "\n",
       "    .dataframe tbody tr th {\n",
       "        vertical-align: top;\n",
       "    }\n",
       "\n",
       "    .dataframe thead th {\n",
       "        text-align: right;\n",
       "    }\n",
       "</style>\n",
       "<table border=\"1\" class=\"dataframe\">\n",
       "  <thead>\n",
       "    <tr style=\"text-align: right;\">\n",
       "      <th></th>\n",
       "      <th>Class</th>\n",
       "      <th>Train F1 Score</th>\n",
       "      <th>Test F1 Score</th>\n",
       "    </tr>\n",
       "  </thead>\n",
       "  <tbody>\n",
       "    <tr>\n",
       "      <th>0</th>\n",
       "      <td>CD14+ Monocytes</td>\n",
       "      <td>0.787415</td>\n",
       "      <td>0.791209</td>\n",
       "    </tr>\n",
       "    <tr>\n",
       "      <th>1</th>\n",
       "      <td>CD16+ Monocytes</td>\n",
       "      <td>0.000000</td>\n",
       "      <td>0.000000</td>\n",
       "    </tr>\n",
       "    <tr>\n",
       "      <th>2</th>\n",
       "      <td>CD20+ B cells</td>\n",
       "      <td>0.000000</td>\n",
       "      <td>0.000000</td>\n",
       "    </tr>\n",
       "    <tr>\n",
       "      <th>3</th>\n",
       "      <td>CD4+ T cells</td>\n",
       "      <td>0.554422</td>\n",
       "      <td>0.575221</td>\n",
       "    </tr>\n",
       "    <tr>\n",
       "      <th>4</th>\n",
       "      <td>CD8+ T cells</td>\n",
       "      <td>0.000000</td>\n",
       "      <td>0.000000</td>\n",
       "    </tr>\n",
       "    <tr>\n",
       "      <th>5</th>\n",
       "      <td>Megakaryocyte progenitors</td>\n",
       "      <td>0.000000</td>\n",
       "      <td>0.000000</td>\n",
       "    </tr>\n",
       "    <tr>\n",
       "      <th>6</th>\n",
       "      <td>Monocyte-derived dendritic cells</td>\n",
       "      <td>0.373563</td>\n",
       "      <td>0.459627</td>\n",
       "    </tr>\n",
       "    <tr>\n",
       "      <th>7</th>\n",
       "      <td>NK cells</td>\n",
       "      <td>0.000000</td>\n",
       "      <td>0.000000</td>\n",
       "    </tr>\n",
       "    <tr>\n",
       "      <th>8</th>\n",
       "      <td>NKT cells</td>\n",
       "      <td>0.000000</td>\n",
       "      <td>0.000000</td>\n",
       "    </tr>\n",
       "    <tr>\n",
       "      <th>9</th>\n",
       "      <td>Plasmacytoid dendritic cells</td>\n",
       "      <td>0.000000</td>\n",
       "      <td>0.000000</td>\n",
       "    </tr>\n",
       "    <tr>\n",
       "      <th>10</th>\n",
       "      <td>Macro Avg</td>\n",
       "      <td>0.171540</td>\n",
       "      <td>0.182606</td>\n",
       "    </tr>\n",
       "    <tr>\n",
       "      <th>11</th>\n",
       "      <td>Micro Avg</td>\n",
       "      <td>0.449499</td>\n",
       "      <td>0.463387</td>\n",
       "    </tr>\n",
       "    <tr>\n",
       "      <th>12</th>\n",
       "      <td>Weighted Avg</td>\n",
       "      <td>0.311419</td>\n",
       "      <td>0.321650</td>\n",
       "    </tr>\n",
       "  </tbody>\n",
       "</table>\n",
       "</div>"
      ],
      "text/plain": [
       "                               Class  Train F1 Score  Test F1 Score\n",
       "0                    CD14+ Monocytes        0.787415       0.791209\n",
       "1                    CD16+ Monocytes        0.000000       0.000000\n",
       "2                      CD20+ B cells        0.000000       0.000000\n",
       "3                       CD4+ T cells        0.554422       0.575221\n",
       "4                       CD8+ T cells        0.000000       0.000000\n",
       "5          Megakaryocyte progenitors        0.000000       0.000000\n",
       "6   Monocyte-derived dendritic cells        0.373563       0.459627\n",
       "7                           NK cells        0.000000       0.000000\n",
       "8                          NKT cells        0.000000       0.000000\n",
       "9       Plasmacytoid dendritic cells        0.000000       0.000000\n",
       "10                         Macro Avg        0.171540       0.182606\n",
       "11                         Micro Avg        0.449499       0.463387\n",
       "12                      Weighted Avg        0.311419       0.321650"
      ]
     },
     "execution_count": 80,
     "metadata": {},
     "output_type": "execute_result"
    }
   ],
   "source": [
    "evaluate(query_emb, st.query.adata.obs)"
   ]
  },
  {
   "cell_type": "markdown",
   "id": "7dcbe96d-14b7-4a6c-a10e-b10aadf0273d",
   "metadata": {
    "jp-MarkdownHeadingCollapsed": true
   },
   "source": [
    "# compare results"
   ]
  },
  {
   "cell_type": "code",
   "execution_count": 11,
   "id": "8de9e942-082d-4662-a157-72e6f1334589",
   "metadata": {},
   "outputs": [
    {
     "name": "stderr",
     "output_type": "stream",
     "text": [
      "Generating trainers for swav: 100%|██████████| 1/1 [00:00<00:00, 72.76it/s, Memory=3.1%, CPU=1.1%, trainer_name=swav_aug_comm_DR_pca_kN_7]\n",
      "Generating trainers for scpoli: 100%|██████████| 1/1 [00:00<00:00, 78.08it/s, Memory=3.1%, CPU=2.2%, trainer_name=scpoli_exp_scpoli-semi]\n"
     ]
    }
   ],
   "source": [
    "t_dict = {'swav': {\n",
    "            \"dimensionality_reduction\": [\"pca\"],\n",
    "            \"prot_decoding_loss_scaler\": [0],\n",
    "            \"cvae_loss_scaler\": [0.0],\n",
    "            \"k_neighbors\": [7],\n",
    "            \"training_type\": ['semi_supervised'],\n",
    "            \"fine_tuning_epochs\": [150],\n",
    "            \"pretraining_epochs\": [150],\n",
    "            \"augmentation_type\": ['community'],\n",
    "            'batch_size': [1024],\n",
    "            # 'dataset_id':['hlca'],\n",
    "            'model_name_version': [3]\n",
    "        },\n",
    "    \n",
    "            'scpoli': {\n",
    "            'latent_dims': [8],\n",
    "            'batch_size': [1024],\n",
    "            'experiment_name': ['scpoli-semi'],\n",
    "            # 'dataset_id':['hlca'],\n",
    "            'model_name_version': [3],\n",
    "            }}\n",
    "\n",
    "t = e.generate_trainers(t_dict)"
   ]
  },
  {
   "cell_type": "code",
   "execution_count": 34,
   "id": "448aa8ba-995e-4f55-8c17-4714dfed43f4",
   "metadata": {},
   "outputs": [],
   "source": [
    "def evaluate_trainer(trainer, evaluate):\n",
    "    trainer.setup()\n",
    "    trainer.model = None\n",
    "    # ref_emb = trainer.encode_ref()\n",
    "    query_emb = trainer.encode_query()\n",
    "    # ref_res = evaluate(ref_emb, st.ref.adata.obs)\n",
    "    query_res = evaluate(query_emb, trainer.query.adata.obs['cell_type'])\n",
    "    return query_res\n",
    "    "
   ]
  },
  {
   "cell_type": "code",
   "execution_count": 38,
   "id": "161c9769-24bb-4868-96d6-744161466a9d",
   "metadata": {},
   "outputs": [],
   "source": [
    "def compare_trainers(trainers, evaluate):\n",
    "    res_arr = [evaluate_trainer(trainer, evaluate) for trainer in trainers]\n",
    "    keys = [trainer.name for trainer in trainers]\n",
    "\n",
    "    # Create an empty DataFrame to hold concatenated results\n",
    "    final_df = pd.DataFrame()\n",
    "    \n",
    "    # Iterate over DataFrames and keys to extract and concatenate the Test F1 Score\n",
    "    for df, key in zip(res_arr, keys):\n",
    "        # Extract the Test F1 Score column and rename it with the current key\n",
    "        extracted_f1 = df[['Class', 'F1 Score']].copy()\n",
    "        extracted_f1.rename(columns={'F1 Score': f'Test F1 {key}'}, inplace=True)\n",
    "        \n",
    "        # Merge or concatenate this extracted F1 score to the final DataFrame\n",
    "        if final_df.empty:\n",
    "            final_df = extracted_f1\n",
    "        else:\n",
    "            final_df = pd.merge(final_df, extracted_f1, on='Class', how='outer')\n",
    "\n",
    "    return final_df"
   ]
  },
  {
   "cell_type": "code",
   "execution_count": 92,
   "id": "61929042-dfe0-4586-9c91-c63dc7001306",
   "metadata": {
    "collapsed": true,
    "jupyter": {
     "outputs_hidden": true
    }
   },
   "outputs": [
    {
     "name": "stderr",
     "output_type": "stream",
     "text": [
      "INFO - 10/16/24 16:23:08 - 0:00:00 - ============ Initialized logger ============\n",
      "INFO - 10/16/24 16:23:08 - 0:00:00 - all_latent: None\n",
      "                                     augmentation_type: community\n",
      "                                     base_lr: 4.8\n",
      "                                     batch_size: 1024\n",
      "                                     cell_type_key: cell_type\n",
      "                                     checkpoint_freq: 25\n",
      "                                     condition_key: study\n",
      "                                     crops_for_assign: [0, 1]\n",
      "                                     cvae_loss_scaler: 0.0\n",
      "                                     cvae_reg: 0\n",
      "                                     dataset: pbmc-immune\n",
      "                                     dataset_id: pbmc-immune\n",
      "                                     debug: True\n",
      "                                     default_values: {'dataset_id': 'pbmc-immune', 'model_name_version': 3, 'num_prototypes': 128, 'hidden_dim': 64, 'latent_dims': 8, 'batch_size': 512, 'fine_tuning_epochs': 0, 'experiment_name': '', 'condition_key': 'study', 'cell_type_key': 'cell_type', 'linear_eval': False, 'only_eval': False, 'use_early_stopping': False, 'pretraining_epochs': 300, 'training_type': 'pretrain', 'pretrain_dataset_id': 'hlca', 'finetune_dataset_id': 'pbmc-immune', 'dump_name_version': 4, 'nmb_crops': [8], 'augmentation_type': 'knn', 'size_crops': [224], 'min_scale_crops': [0.14], 'max_scale_crops': [1], 'crops_for_assign': [0, 1], 'temperature': 0.1, 'epsilon': 0.05, 'sinkhorn_iterations': 3, 'feat_dim': 8, 'queue_length': 0, 'epoch_queue_starts': 15, 'base_lr': 4.8, 'final_lr': 0, 'freeze_prototypes_niters': 313, 'wd': 1e-06, 'warmup_epochs': 10, 'start_warmup': 0, 'cvae_reg': 0, 'dist_url': 'env://', 'world_size': -1, 'rank': 0, 'local_rank': 0, 'workers': 10, 'checkpoint_freq': 25, 'use_fp16': False, 'sync_bn': 'pytorch', 'syncbn_process_group_size': 8, 'seed': 31, 'model': '', 'optimizer': '', 'lr_schedule': '', 'queue': None, 'train_loader': '', 'training_stats': '', 'device': 'cuda', 'freezable_prototypes': False, 'cvae_loss_scaler': 0.0001, 'prot_decoding_loss_scaler': 5, 'hidden_mlp': 1024, 'swav_dim': 64, 'use_projector': False, 'model_version': 2, 'train_decoder': False, 'longest_path': 3, 'dimensionality_reduction': None, 'k_neighbors': 10, 'model_type': 'swav', 'job_name': '', 'no_data': 'False'}\n",
      "                                     device: cuda\n",
      "                                     dimensionality_reduction: pca\n",
      "                                     dist_url: env://\n",
      "                                     dump_checkpoints: /home/icb/fatemehs.hashemig/models//pbmc-immune/swav-only_iloss0_closs0.0_num-prot-300_latent8-bs1024-semi_aug-community8_ep0.02_model-v1_dimensionality_reduction-pca_k_neighbors-7/checkpoints\n",
      "                                     dump_name_version: 4\n",
      "                                     dump_path: /home/icb/fatemehs.hashemig/models//pbmc-immune/swav-only_iloss0_closs0.0_num-prot-300_latent8-bs1024-semi_aug-community8_ep0.02_model-v1_dimensionality_reduction-pca_k_neighbors-7\n",
      "                                     epoch_queue_starts: 15\n",
      "                                     epsilon: 0.02\n",
      "                                     experiment_name: swav-only_iloss0_closs0.0\n",
      "                                     feat_dim: 8\n",
      "                                     final_lr: 0\n",
      "                                     fine_tuning_epochs: 0\n",
      "                                     finetune_dataset_id: pbmc-immune\n",
      "                                     finetune_ds: None\n",
      "                                     finetuning: False\n",
      "                                     freezable_prototypes: False\n",
      "                                     freeze_prototypes_niters: 313\n",
      "                                     hidden_dim: 64\n",
      "                                     hidden_mlp: 1024\n",
      "                                     input_dim: 4000\n",
      "                                     job_name: \n",
      "                                     k_neighbors: 7\n",
      "                                     latent_dims: 8\n",
      "                                     linear_eval: False\n",
      "                                     local_rank: 0\n",
      "                                     longest_path: 3\n",
      "                                     lr_schedule: \n",
      "                                     max_scale_crops: [1]\n",
      "                                     min_scale_crops: [0.14]\n",
      "                                     model: None\n",
      "                                     model_name_version: 3\n",
      "                                     model_type: swav\n",
      "                                     model_version: 1\n",
      "                                     name: swav_aug_comm_DR_pca_kN_7\n",
      "                                     nmb_crops: [8]\n",
      "                                     nmb_prototypes: 300\n",
      "                                     no_data: True\n",
      "                                     num_prototypes: 300\n",
      "                                     only_eval: False\n",
      "                                     optimizer: \n",
      "                                     original_ref: None\n",
      "                                     partial_ref: None\n",
      "                                     pretrain_dataset_id: hlca\n",
      "                                     pretraining_epochs: 300\n",
      "                                     prot_decoding_loss_scaler: 0\n",
      "                                     query: pbmc-immune\n",
      "                                     query_latent: None\n",
      "                                     queue: None\n",
      "                                     queue_length: 0\n",
      "                                     rank: 0\n",
      "                                     ref: pbmc-immune\n",
      "                                     ref_latent: None\n",
      "                                     seed: 31\n",
      "                                     sinkhorn_iterations: 3\n",
      "                                     size_crops: [224]\n",
      "                                     start_warmup: 0\n",
      "                                     swav_dim: 64\n",
      "                                     sync_bn: pytorch\n",
      "                                     syncbn_process_group_size: 8\n",
      "                                     temperature: 0.1\n",
      "                                     train_augmentation: community\n",
      "                                     train_decoder: False\n",
      "                                     train_loader: \n",
      "                                     training_stats: \n",
      "                                     training_type: semi_supervised\n",
      "                                     transfer_learning_mode: False\n",
      "                                     use_early_stopping: False\n",
      "                                     use_fp16: False\n",
      "                                     use_projector: False\n",
      "                                     use_projector_out: False\n",
      "                                     warmup_epochs: 10\n",
      "                                     wd: 1e-06\n",
      "                                     workers: 10\n",
      "                                     world_size: -1\n",
      "INFO - 10/16/24 16:23:08 - 0:00:00 - The experiment will be stored in /home/icb/fatemehs.hashemig/models//pbmc-immune/swav-only_iloss0_closs0.0_num-prot-300_latent8-bs1024-semi_aug-community8_ep0.02_model-v1_dimensionality_reduction-pca_k_neighbors-7\n",
      "                                     \n",
      "\n",
      "INFO - 10/16/24 16:23:09 - 0:00:01 - Building data done with 29137 images loaded.\n",
      "INFO - 10/16/24 16:23:09 - 0:00:01 - SwavBase(\n",
      "                                       (scpoli_model): scpoli(\n",
      "                                         (embeddings): ModuleList(\n",
      "                                           (0): Embedding(3, 10, max_norm=1.0)\n",
      "                                         )\n",
      "                                         (encoder): Encoder(\n",
      "                                           (FC): Sequential(\n",
      "                                             (L0): CondLayers(\n",
      "                                               (expr_L): Linear(in_features=4000, out_features=64, bias=True)\n",
      "                                               (cond_L): Linear(in_features=10, out_features=64, bias=False)\n",
      "                                             )\n",
      "                                             (N0): LayerNorm((64,), eps=1e-05, elementwise_affine=False)\n",
      "                                             (A0): ReLU()\n",
      "                                             (D0): Dropout(p=0.05, inplace=False)\n",
      "                                           )\n",
      "                                           (mean_encoder): Linear(in_features=64, out_features=8, bias=True)\n",
      "                                           (log_var_encoder): Linear(in_features=64, out_features=8, bias=True)\n",
      "                                         )\n",
      "                                         (decoder): Decoder(\n",
      "                                           (FirstL): Sequential(\n",
      "                                             (L0): CondLayers(\n",
      "                                               (expr_L): Linear(in_features=8, out_features=64, bias=False)\n",
      "                                               (cond_L): Linear(in_features=10, out_features=64, bias=False)\n",
      "                                             )\n",
      "                                             (N0): LayerNorm((64,), eps=1e-05, elementwise_affine=False)\n",
      "                                             (A0): ReLU()\n",
      "                                             (D0): Dropout(p=0.05, inplace=False)\n",
      "                                           )\n",
      "                                           (HiddenL): Sequential()\n",
      "                                           (mean_decoder): Sequential(\n",
      "                                             (0): Linear(in_features=64, out_features=4000, bias=True)\n",
      "                                             (1): Softmax(dim=-1)\n",
      "                                           )\n",
      "                                         )\n",
      "                                       )\n",
      "                                       (prototypes): Linear(in_features=8, out_features=300, bias=False)\n",
      "                                     )\n",
      "INFO - 10/16/24 16:23:09 - 0:00:01 - Building model done.\n",
      "INFO - 10/16/24 16:23:09 - 0:00:01 - Building optimizer done.\n",
      "INFO - 10/16/24 16:23:09 - 0:00:01 - no mixed precision\n"
     ]
    },
    {
     "name": "stdout",
     "output_type": "stream",
     "text": [
      "Embedding dictionary:\n",
      " \tNum conditions: [3]\n",
      " \tEmbedding dim: [10]\n",
      "Encoder Architecture:\n",
      "\tInput Layer in, out and cond: 4000 64 10\n",
      "\tMean/Var Layer in/out: 64 8\n",
      "Decoder Architecture:\n",
      "\tFirst Layer in, out and cond:  8 64 10\n",
      "\tOutput Layer in/out:  64 4000 \n",
      "\n",
      "Embedding dictionary:\n",
      " \tNum conditions: [5]\n",
      " \tEmbedding dim: [10]\n",
      "Encoder Architecture:\n",
      "\tInput Layer in, out and cond: 4000 64 10\n",
      "\tMean/Var Layer in/out: 64 8\n",
      "Decoder Architecture:\n",
      "\tFirst Layer in, out and cond:  8 64 10\n",
      "\tOutput Layer in/out:  64 4000 \n",
      "\n"
     ]
    },
    {
     "name": "stderr",
     "output_type": "stream",
     "text": [
      "100%|██████████| 5/5 [00:01<00:00,  3.52it/s]\n",
      "Epoch 1/20: 100%|██████████| 55/55 [00:01<00:00, 51.67batch/s, loss=2.3014]\n",
      "Epoch 2/20: 100%|██████████| 55/55 [00:00<00:00, 461.17batch/s, loss=2.1869]\n",
      "Epoch 3/20: 100%|██████████| 55/55 [00:00<00:00, 596.66batch/s, loss=2.0826]\n",
      "Epoch 4/20: 100%|██████████| 55/55 [00:00<00:00, 635.87batch/s, loss=1.9884]\n",
      "Epoch 5/20: 100%|██████████| 55/55 [00:00<00:00, 640.56batch/s, loss=1.9035]\n",
      "Epoch 6/20: 100%|██████████| 55/55 [00:00<00:00, 647.93batch/s, loss=1.8262]\n",
      "Epoch 7/20: 100%|██████████| 55/55 [00:00<00:00, 646.56batch/s, loss=1.7567]\n",
      "Epoch 8/20: 100%|██████████| 55/55 [00:00<00:00, 599.90batch/s, loss=1.6938]\n",
      "Epoch 9/20: 100%|██████████| 55/55 [00:00<00:00, 632.77batch/s, loss=1.6356]\n",
      "Epoch 10/20: 100%|██████████| 55/55 [00:00<00:00, 664.93batch/s, loss=1.5831]\n",
      "Epoch 11/20: 100%|██████████| 55/55 [00:00<00:00, 639.34batch/s, loss=1.5339]\n",
      "Epoch 12/20: 100%|██████████| 55/55 [00:00<00:00, 634.14batch/s, loss=1.4871]\n",
      "Epoch 13/20: 100%|██████████| 55/55 [00:00<00:00, 591.41batch/s, loss=1.4450]\n",
      "Epoch 14/20: 100%|██████████| 55/55 [00:00<00:00, 643.46batch/s, loss=1.4047]\n",
      "Epoch 15/20: 100%|██████████| 55/55 [00:00<00:00, 599.69batch/s, loss=1.3667]\n",
      "Epoch 16/20: 100%|██████████| 55/55 [00:00<00:00, 628.26batch/s, loss=1.3310]\n",
      "Epoch 17/20: 100%|██████████| 55/55 [00:00<00:00, 639.15batch/s, loss=1.2973]\n",
      "Epoch 18/20: 100%|██████████| 55/55 [00:00<00:00, 592.65batch/s, loss=1.2655]\n",
      "Epoch 19/20: 100%|██████████| 55/55 [00:00<00:00, 602.33batch/s, loss=1.2355]\n",
      "Epoch 20/20: 100%|██████████| 55/55 [00:00<00:00, 607.77batch/s, loss=1.2073]\n"
     ]
    },
    {
     "name": "stdout",
     "output_type": "stream",
     "text": [
      "Embedding dictionary:\n",
      " \tNum conditions: [3]\n",
      " \tEmbedding dim: [10]\n",
      "Encoder Architecture:\n",
      "\tInput Layer in, out and cond: 4000 64 10\n",
      "\tMean/Var Layer in/out: 64 8\n",
      "Decoder Architecture:\n",
      "\tFirst Layer in, out and cond:  8 64 10\n",
      "\tOutput Layer in/out:  64 4000 \n",
      "\n",
      "Embedding dictionary:\n",
      " \tNum conditions: [5]\n",
      " \tEmbedding dim: [10]\n",
      "Encoder Architecture:\n",
      "\tInput Layer in, out and cond: 4000 64 10\n",
      "\tMean/Var Layer in/out: 64 8\n",
      "Decoder Architecture:\n",
      "\tFirst Layer in, out and cond:  8 64 10\n",
      "\tOutput Layer in/out:  64 4000 \n",
      "\n"
     ]
    },
    {
     "name": "stderr",
     "output_type": "stream",
     "text": [
      "100%|██████████| 5/5 [00:00<00:00, 14.87it/s]\n",
      "Epoch 1/20: 100%|██████████| 55/55 [00:00<00:00, 610.95batch/s, loss=2.2994]\n",
      "Epoch 2/20: 100%|██████████| 55/55 [00:00<00:00, 630.80batch/s, loss=2.2378]\n",
      "Epoch 3/20: 100%|██████████| 55/55 [00:00<00:00, 617.07batch/s, loss=2.1839]\n",
      "Epoch 4/20: 100%|██████████| 55/55 [00:00<00:00, 607.41batch/s, loss=2.1368]\n",
      "Epoch 5/20: 100%|██████████| 55/55 [00:00<00:00, 604.76batch/s, loss=2.0948]\n",
      "Epoch 6/20: 100%|██████████| 55/55 [00:00<00:00, 659.50batch/s, loss=2.0569]\n",
      "Epoch 7/20: 100%|██████████| 55/55 [00:00<00:00, 640.98batch/s, loss=2.0232]\n",
      "Epoch 8/20: 100%|██████████| 55/55 [00:00<00:00, 637.28batch/s, loss=1.9929]\n",
      "Epoch 9/20: 100%|██████████| 55/55 [00:00<00:00, 641.76batch/s, loss=1.9645]\n",
      "Epoch 10/20: 100%|██████████| 55/55 [00:00<00:00, 649.26batch/s, loss=1.9389]\n",
      "Epoch 11/20: 100%|██████████| 55/55 [00:00<00:00, 629.42batch/s, loss=1.9147]\n",
      "Epoch 12/20: 100%|██████████| 55/55 [00:00<00:00, 640.57batch/s, loss=1.8906]\n",
      "Epoch 13/20: 100%|██████████| 55/55 [00:00<00:00, 633.61batch/s, loss=1.8688]\n",
      "Epoch 14/20: 100%|██████████| 55/55 [00:00<00:00, 636.05batch/s, loss=1.8483]\n",
      "Epoch 15/20: 100%|██████████| 55/55 [00:00<00:00, 637.37batch/s, loss=1.8275]\n",
      "Epoch 16/20: 100%|██████████| 55/55 [00:00<00:00, 612.66batch/s, loss=1.8088]\n",
      "Epoch 17/20: 100%|██████████| 55/55 [00:00<00:00, 657.65batch/s, loss=1.7900]\n",
      "Epoch 18/20: 100%|██████████| 55/55 [00:00<00:00, 646.04batch/s, loss=1.7720]\n",
      "Epoch 19/20: 100%|██████████| 55/55 [00:00<00:00, 629.31batch/s, loss=1.7530]\n",
      "Epoch 20/20: 100%|██████████| 55/55 [00:00<00:00, 653.85batch/s, loss=1.7352]\n"
     ]
    },
    {
     "data": {
      "text/html": [
       "<div>\n",
       "<style scoped>\n",
       "    .dataframe tbody tr th:only-of-type {\n",
       "        vertical-align: middle;\n",
       "    }\n",
       "\n",
       "    .dataframe tbody tr th {\n",
       "        vertical-align: top;\n",
       "    }\n",
       "\n",
       "    .dataframe thead th {\n",
       "        text-align: right;\n",
       "    }\n",
       "</style>\n",
       "<table border=\"1\" class=\"dataframe\">\n",
       "  <thead>\n",
       "    <tr style=\"text-align: right;\">\n",
       "      <th></th>\n",
       "      <th>Class</th>\n",
       "      <th>Test F1 swav_aug_comm_DR_pca_kN_7</th>\n",
       "      <th>Test F1 scpoli_exp_scpoli-semi</th>\n",
       "    </tr>\n",
       "  </thead>\n",
       "  <tbody>\n",
       "    <tr>\n",
       "      <th>0</th>\n",
       "      <td>CD14+ Monocytes</td>\n",
       "      <td>0.855967</td>\n",
       "      <td>0.876106</td>\n",
       "    </tr>\n",
       "    <tr>\n",
       "      <th>1</th>\n",
       "      <td>CD16+ Monocytes</td>\n",
       "      <td>0.000000</td>\n",
       "      <td>0.000000</td>\n",
       "    </tr>\n",
       "    <tr>\n",
       "      <th>2</th>\n",
       "      <td>CD20+ B cells</td>\n",
       "      <td>0.844156</td>\n",
       "      <td>0.022222</td>\n",
       "    </tr>\n",
       "    <tr>\n",
       "      <th>3</th>\n",
       "      <td>CD4+ T cells</td>\n",
       "      <td>0.785498</td>\n",
       "      <td>0.544503</td>\n",
       "    </tr>\n",
       "    <tr>\n",
       "      <th>4</th>\n",
       "      <td>CD8+ T cells</td>\n",
       "      <td>0.000000</td>\n",
       "      <td>0.000000</td>\n",
       "    </tr>\n",
       "    <tr>\n",
       "      <th>5</th>\n",
       "      <td>Macro Avg</td>\n",
       "      <td>0.460282</td>\n",
       "      <td>0.182745</td>\n",
       "    </tr>\n",
       "    <tr>\n",
       "      <th>6</th>\n",
       "      <td>Megakaryocyte progenitors</td>\n",
       "      <td>0.000000</td>\n",
       "      <td>0.000000</td>\n",
       "    </tr>\n",
       "    <tr>\n",
       "      <th>7</th>\n",
       "      <td>Micro Avg</td>\n",
       "      <td>0.707094</td>\n",
       "      <td>0.446224</td>\n",
       "    </tr>\n",
       "    <tr>\n",
       "      <th>8</th>\n",
       "      <td>Monocyte-derived dendritic cells</td>\n",
       "      <td>0.695652</td>\n",
       "      <td>0.384615</td>\n",
       "    </tr>\n",
       "    <tr>\n",
       "      <th>9</th>\n",
       "      <td>NK cells</td>\n",
       "      <td>0.770833</td>\n",
       "      <td>0.000000</td>\n",
       "    </tr>\n",
       "    <tr>\n",
       "      <th>10</th>\n",
       "      <td>NKT cells</td>\n",
       "      <td>0.545455</td>\n",
       "      <td>0.000000</td>\n",
       "    </tr>\n",
       "    <tr>\n",
       "      <th>11</th>\n",
       "      <td>Plasmacytoid dendritic cells</td>\n",
       "      <td>0.105263</td>\n",
       "      <td>0.000000</td>\n",
       "    </tr>\n",
       "    <tr>\n",
       "      <th>12</th>\n",
       "      <td>Weighted Avg</td>\n",
       "      <td>0.641440</td>\n",
       "      <td>0.318124</td>\n",
       "    </tr>\n",
       "  </tbody>\n",
       "</table>\n",
       "</div>"
      ],
      "text/plain": [
       "                               Class  Test F1 swav_aug_comm_DR_pca_kN_7  \\\n",
       "0                    CD14+ Monocytes                           0.855967   \n",
       "1                    CD16+ Monocytes                           0.000000   \n",
       "2                      CD20+ B cells                           0.844156   \n",
       "3                       CD4+ T cells                           0.785498   \n",
       "4                       CD8+ T cells                           0.000000   \n",
       "5                          Macro Avg                           0.460282   \n",
       "6          Megakaryocyte progenitors                           0.000000   \n",
       "7                          Micro Avg                           0.707094   \n",
       "8   Monocyte-derived dendritic cells                           0.695652   \n",
       "9                           NK cells                           0.770833   \n",
       "10                         NKT cells                           0.545455   \n",
       "11      Plasmacytoid dendritic cells                           0.105263   \n",
       "12                      Weighted Avg                           0.641440   \n",
       "\n",
       "    Test F1 scpoli_exp_scpoli-semi  \n",
       "0                         0.876106  \n",
       "1                         0.000000  \n",
       "2                         0.022222  \n",
       "3                         0.544503  \n",
       "4                         0.000000  \n",
       "5                         0.182745  \n",
       "6                         0.000000  \n",
       "7                         0.446224  \n",
       "8                         0.384615  \n",
       "9                         0.000000  \n",
       "10                        0.000000  \n",
       "11                        0.000000  \n",
       "12                        0.318124  "
      ]
     },
     "execution_count": 92,
     "metadata": {},
     "output_type": "execute_result"
    }
   ],
   "source": [
    "compare_trainers(t)"
   ]
  },
  {
   "cell_type": "markdown",
   "id": "d4dcc448-a7bd-4973-8258-9ece0b7adc99",
   "metadata": {},
   "source": [
    "# add knn results"
   ]
  },
  {
   "cell_type": "code",
   "execution_count": 28,
   "id": "46f42c6a-405b-47c9-bda0-efc68d14ca80",
   "metadata": {},
   "outputs": [],
   "source": [
    "import interpretable_ssl.evaluation.knn\n",
    "importlib.reload(interpretable_ssl.evaluation.knn)\n",
    "\n",
    "from interpretable_ssl.evaluation.knn import *\n"
   ]
  },
  {
   "cell_type": "code",
   "execution_count": 29,
   "id": "7180f4a4-0726-4193-a3a9-49adcef06e48",
   "metadata": {},
   "outputs": [
    {
     "data": {
      "text/plain": [
       "<interpretable_ssl.trainers.swav.SwAV at 0x7efb3519bfb0>"
      ]
     },
     "execution_count": 29,
     "metadata": {},
     "output_type": "execute_result"
    }
   ],
   "source": [
    "tr = t[0]\n",
    "tr"
   ]
  },
  {
   "cell_type": "code",
   "execution_count": 31,
   "id": "60ba1591-514f-45e5-8819-dedf3ebdb1b0",
   "metadata": {
    "collapsed": true,
    "jupyter": {
     "outputs_hidden": true
    }
   },
   "outputs": [
    {
     "name": "stderr",
     "output_type": "stream",
     "text": [
      "INFO - 10/20/24 12:35:31 - 0:00:00 - ============ Initialized logger ============\n",
      "INFO - 10/20/24 12:35:31 - 0:00:00 - all_latent: None\n",
      "                                     augmentation_type: community\n",
      "                                     base_lr: 4.8\n",
      "                                     batch_size: 1024\n",
      "                                     cell_type_key: cell_type\n",
      "                                     checkpoint_freq: 25\n",
      "                                     condition_key: study\n",
      "                                     crops_for_assign: [0, 1]\n",
      "                                     cvae_loss_scaler: 0.0\n",
      "                                     cvae_reg: 0\n",
      "                                     dataset: pbmc-immune\n",
      "                                     dataset_id: pbmc-immune\n",
      "                                     debug: True\n",
      "                                     default_values: {'dataset_id': 'pbmc-immune', 'model_name_version': 3, 'num_prototypes': 128, 'hidden_dim': 64, 'latent_dims': 8, 'batch_size': 512, 'fine_tuning_epochs': 0, 'experiment_name': '', 'condition_key': 'study', 'cell_type_key': 'cell_type', 'linear_eval': False, 'only_eval': False, 'use_early_stopping': False, 'pretraining_epochs': 300, 'training_type': 'pretrain', 'pretrain_dataset_id': 'hlca', 'finetune_dataset_id': 'pbmc-immune', 'dump_name_version': 4, 'nmb_crops': [8], 'augmentation_type': 'knn', 'size_crops': [224], 'min_scale_crops': [0.14], 'max_scale_crops': [1], 'crops_for_assign': [0, 1], 'temperature': 0.1, 'epsilon': 0.05, 'sinkhorn_iterations': 3, 'feat_dim': 8, 'queue_length': 0, 'epoch_queue_starts': 15, 'base_lr': 4.8, 'final_lr': 0, 'freeze_prototypes_niters': 313, 'wd': 1e-06, 'warmup_epochs': 10, 'start_warmup': 0, 'cvae_reg': 0, 'dist_url': 'env://', 'world_size': -1, 'rank': 0, 'local_rank': 0, 'workers': 10, 'checkpoint_freq': 25, 'use_fp16': False, 'sync_bn': 'pytorch', 'syncbn_process_group_size': 8, 'seed': 31, 'model': '', 'optimizer': '', 'lr_schedule': '', 'queue': None, 'train_loader': '', 'training_stats': '', 'device': 'cuda', 'freezable_prototypes': False, 'cvae_loss_scaler': 0.0001, 'prot_decoding_loss_scaler': 5, 'hidden_mlp': 1024, 'swav_dim': 64, 'use_projector': False, 'model_version': 2, 'train_decoder': False, 'longest_path': 3, 'dimensionality_reduction': None, 'k_neighbors': 10, 'model_type': 'swav', 'job_name': '', 'no_data': 'False'}\n",
      "                                     device: cuda\n",
      "                                     dimensionality_reduction: pca\n",
      "                                     dist_url: env://\n",
      "                                     dump_checkpoints: /home/icb/fatemehs.hashemig/models//pbmc-immune/swav-only_iloss0_closs0.0_num-prot-300_latent8-bs1024-semi_aug-community8_ep0.02_model-v1_dimensionality_reduction-pca_k_neighbors-7/checkpoints\n",
      "                                     dump_name_version: 4\n",
      "                                     dump_path: /home/icb/fatemehs.hashemig/models//pbmc-immune/swav-only_iloss0_closs0.0_num-prot-300_latent8-bs1024-semi_aug-community8_ep0.02_model-v1_dimensionality_reduction-pca_k_neighbors-7\n",
      "                                     epoch_queue_starts: 15\n",
      "                                     epsilon: 0.02\n",
      "                                     experiment_name: swav-only_iloss0_closs0.0\n",
      "                                     feat_dim: 8\n",
      "                                     final_lr: 0\n",
      "                                     fine_tuning_epochs: 0\n",
      "                                     finetune_dataset_id: pbmc-immune\n",
      "                                     finetune_ds: None\n",
      "                                     finetuning: False\n",
      "                                     freezable_prototypes: False\n",
      "                                     freeze_prototypes_niters: 313\n",
      "                                     hidden_dim: 64\n",
      "                                     hidden_mlp: 1024\n",
      "                                     input_dim: 4000\n",
      "                                     job_name: \n",
      "                                     k_neighbors: 7\n",
      "                                     latent_dims: 8\n",
      "                                     linear_eval: False\n",
      "                                     local_rank: 0\n",
      "                                     longest_path: 3\n",
      "                                     lr_schedule: [0.00e+00 1.72e-02 3.44e-02 5.16e-02 6.88e-02 8.60e-02 1.03e-01 ...\n",
      "                                      8.80e-06 6.47e-06 4.49e-06 2.87e-06 1.62e-06 7.19e-07 1.80e-07]\n",
      "                                     max_scale_crops: [1]\n",
      "                                     min_scale_crops: [0.14]\n",
      "                                     model: None\n",
      "                                     model_name_version: 3\n",
      "                                     model_type: swav\n",
      "                                     model_version: 1\n",
      "                                     name: swav_aug_comm_DR_pca_kN_7\n",
      "                                     nmb_crops: [8]\n",
      "                                     nmb_prototypes: 300\n",
      "                                     no_data: True\n",
      "                                     num_prototypes: 300\n",
      "                                     only_eval: False\n",
      "                                     optimizer: SGD (\n",
      "                                     Parameter Group 0\n",
      "                                         dampening: 0\n",
      "                                         differentiable: False\n",
      "                                         foreach: None\n",
      "                                         lr: 4.8\n",
      "                                         maximize: False\n",
      "                                         momentum: 0.9\n",
      "                                         nesterov: False\n",
      "                                         weight_decay: 1e-06\n",
      "                                     )\n",
      "                                     original_ref: None\n",
      "                                     partial_ref: None\n",
      "                                     pretrain_dataset_id: hlca\n",
      "                                     pretraining_epochs: 300\n",
      "                                     prot_decoding_loss_scaler: 0\n",
      "                                     query: pbmc-immune\n",
      "                                     query_latent: None\n",
      "                                     queue: None\n",
      "                                     queue_length: 0\n",
      "                                     rank: 0\n",
      "                                     ref: pbmc-immune\n",
      "                                     ref_latent: None\n",
      "                                     scpoli_: <scarches.models.scpoli.scpoli_model.scPoli object at 0x7efb34ef34d0>\n",
      "                                     seed: 31\n",
      "                                     sinkhorn_iterations: 3\n",
      "                                     size_crops: [224]\n",
      "                                     start_epoch: 0\n",
      "                                     start_warmup: 0\n",
      "                                     swav_dim: 64\n",
      "                                     sync_bn: pytorch\n",
      "                                     syncbn_process_group_size: 8\n",
      "                                     temperature: 0.1\n",
      "                                     train_augmentation: community\n",
      "                                     train_decoder: False\n",
      "                                     train_ds: <interpretable_ssl.augmenters.adata_augmenter.MultiCropsDataset object at 0x7efb34ffa0c0>\n",
      "                                     train_loader: <torch.utils.data.dataloader.DataLoader object at 0x7efb3568fda0>\n",
      "                                     training_stats: <swav.src.logger.PD_Stats object at 0x7efb35482450>\n",
      "                                     training_type: semi_supervised\n",
      "                                     transfer_learning_mode: False\n",
      "                                     use_early_stopping: False\n",
      "                                     use_fp16: False\n",
      "                                     use_projector: False\n",
      "                                     use_projector_out: False\n",
      "                                     warmup_epochs: 10\n",
      "                                     wd: 1e-06\n",
      "                                     workers: 10\n",
      "                                     world_size: -1\n",
      "INFO - 10/20/24 12:35:31 - 0:00:00 - The experiment will be stored in /home/icb/fatemehs.hashemig/models//pbmc-immune/swav-only_iloss0_closs0.0_num-prot-300_latent8-bs1024-semi_aug-community8_ep0.02_model-v1_dimensionality_reduction-pca_k_neighbors-7\n",
      "                                     \n",
      "\n",
      "INFO - 10/20/24 12:35:31 - 0:00:00 - Building data done with 29137 images loaded.\n",
      "INFO - 10/20/24 12:35:31 - 0:00:00 - SwavBase(\n",
      "                                       (scpoli_model): scpoli(\n",
      "                                         (embeddings): ModuleList(\n",
      "                                           (0): Embedding(3, 10, max_norm=1.0)\n",
      "                                         )\n",
      "                                         (encoder): Encoder(\n",
      "                                           (FC): Sequential(\n",
      "                                             (L0): CondLayers(\n",
      "                                               (expr_L): Linear(in_features=4000, out_features=64, bias=True)\n",
      "                                               (cond_L): Linear(in_features=10, out_features=64, bias=False)\n",
      "                                             )\n",
      "                                             (N0): LayerNorm((64,), eps=1e-05, elementwise_affine=False)\n",
      "                                             (A0): ReLU()\n",
      "                                             (D0): Dropout(p=0.05, inplace=False)\n",
      "                                           )\n",
      "                                           (mean_encoder): Linear(in_features=64, out_features=8, bias=True)\n",
      "                                           (log_var_encoder): Linear(in_features=64, out_features=8, bias=True)\n",
      "                                         )\n",
      "                                         (decoder): Decoder(\n",
      "                                           (FirstL): Sequential(\n",
      "                                             (L0): CondLayers(\n",
      "                                               (expr_L): Linear(in_features=8, out_features=64, bias=False)\n",
      "                                               (cond_L): Linear(in_features=10, out_features=64, bias=False)\n",
      "                                             )\n",
      "                                             (N0): LayerNorm((64,), eps=1e-05, elementwise_affine=False)\n",
      "                                             (A0): ReLU()\n",
      "                                             (D0): Dropout(p=0.05, inplace=False)\n",
      "                                           )\n",
      "                                           (HiddenL): Sequential()\n",
      "                                           (mean_decoder): Sequential(\n",
      "                                             (0): Linear(in_features=64, out_features=4000, bias=True)\n",
      "                                             (1): Softmax(dim=-1)\n",
      "                                           )\n",
      "                                         )\n",
      "                                       )\n",
      "                                       (prototypes): Linear(in_features=8, out_features=300, bias=False)\n",
      "                                     )\n",
      "INFO - 10/20/24 12:35:31 - 0:00:00 - Building model done.\n",
      "INFO - 10/20/24 12:35:31 - 0:00:00 - Building optimizer done.\n",
      "INFO - 10/20/24 12:35:31 - 0:00:00 - no mixed precision\n"
     ]
    },
    {
     "name": "stdout",
     "output_type": "stream",
     "text": [
      "Embedding dictionary:\n",
      " \tNum conditions: [3]\n",
      " \tEmbedding dim: [10]\n",
      "Encoder Architecture:\n",
      "\tInput Layer in, out and cond: 4000 64 10\n",
      "\tMean/Var Layer in/out: 64 8\n",
      "Decoder Architecture:\n",
      "\tFirst Layer in, out and cond:  8 64 10\n",
      "\tOutput Layer in/out:  64 4000 \n",
      "\n",
      "Embedding dictionary:\n",
      " \tNum conditions: [5]\n",
      " \tEmbedding dim: [10]\n",
      "Encoder Architecture:\n",
      "\tInput Layer in, out and cond: 4000 64 10\n",
      "\tMean/Var Layer in/out: 64 8\n",
      "Decoder Architecture:\n",
      "\tFirst Layer in, out and cond:  8 64 10\n",
      "\tOutput Layer in/out:  64 4000 \n",
      "\n"
     ]
    },
    {
     "name": "stderr",
     "output_type": "stream",
     "text": [
      "100%|██████████| 5/5 [00:00<00:00,  8.87it/s]\n"
     ]
    }
   ],
   "source": [
    "tr.setup()\n",
    "tr.model = None\n",
    "# ref_emb = trainer.encode_ref()\n",
    "query_emb = tr.encode_query()\n",
    "    "
   ]
  },
  {
   "cell_type": "code",
   "execution_count": 32,
   "id": "743c5a2a-495f-478c-b354-7f7147696c9f",
   "metadata": {},
   "outputs": [
    {
     "data": {
      "text/html": [
       "<div>\n",
       "<style scoped>\n",
       "    .dataframe tbody tr th:only-of-type {\n",
       "        vertical-align: middle;\n",
       "    }\n",
       "\n",
       "    .dataframe tbody tr th {\n",
       "        vertical-align: top;\n",
       "    }\n",
       "\n",
       "    .dataframe thead th {\n",
       "        text-align: right;\n",
       "    }\n",
       "</style>\n",
       "<table border=\"1\" class=\"dataframe\">\n",
       "  <thead>\n",
       "    <tr style=\"text-align: right;\">\n",
       "      <th></th>\n",
       "      <th>Class</th>\n",
       "      <th>F1 Score</th>\n",
       "    </tr>\n",
       "  </thead>\n",
       "  <tbody>\n",
       "    <tr>\n",
       "      <th>0</th>\n",
       "      <td>CD14+ Monocytes</td>\n",
       "      <td>0.935622</td>\n",
       "    </tr>\n",
       "    <tr>\n",
       "      <th>1</th>\n",
       "      <td>CD16+ Monocytes</td>\n",
       "      <td>0.720930</td>\n",
       "    </tr>\n",
       "    <tr>\n",
       "      <th>2</th>\n",
       "      <td>CD20+ B cells</td>\n",
       "      <td>0.971429</td>\n",
       "    </tr>\n",
       "    <tr>\n",
       "      <th>3</th>\n",
       "      <td>CD4+ T cells</td>\n",
       "      <td>0.848586</td>\n",
       "    </tr>\n",
       "    <tr>\n",
       "      <th>4</th>\n",
       "      <td>CD8+ T cells</td>\n",
       "      <td>0.000000</td>\n",
       "    </tr>\n",
       "    <tr>\n",
       "      <th>5</th>\n",
       "      <td>Megakaryocyte progenitors</td>\n",
       "      <td>1.000000</td>\n",
       "    </tr>\n",
       "    <tr>\n",
       "      <th>6</th>\n",
       "      <td>Monocyte-derived dendritic cells</td>\n",
       "      <td>0.905028</td>\n",
       "    </tr>\n",
       "    <tr>\n",
       "      <th>7</th>\n",
       "      <td>NK cells</td>\n",
       "      <td>0.777143</td>\n",
       "    </tr>\n",
       "    <tr>\n",
       "      <th>8</th>\n",
       "      <td>NKT cells</td>\n",
       "      <td>0.636943</td>\n",
       "    </tr>\n",
       "    <tr>\n",
       "      <th>9</th>\n",
       "      <td>Plasmacytoid dendritic cells</td>\n",
       "      <td>1.000000</td>\n",
       "    </tr>\n",
       "    <tr>\n",
       "      <th>10</th>\n",
       "      <td>micro</td>\n",
       "      <td>0.821510</td>\n",
       "    </tr>\n",
       "    <tr>\n",
       "      <th>11</th>\n",
       "      <td>macro</td>\n",
       "      <td>0.779568</td>\n",
       "    </tr>\n",
       "    <tr>\n",
       "      <th>12</th>\n",
       "      <td>weighted</td>\n",
       "      <td>0.792085</td>\n",
       "    </tr>\n",
       "  </tbody>\n",
       "</table>\n",
       "</div>"
      ],
      "text/plain": [
       "                               Class  F1 Score\n",
       "0                    CD14+ Monocytes  0.935622\n",
       "1                    CD16+ Monocytes  0.720930\n",
       "2                      CD20+ B cells  0.971429\n",
       "3                       CD4+ T cells  0.848586\n",
       "4                       CD8+ T cells  0.000000\n",
       "5          Megakaryocyte progenitors  1.000000\n",
       "6   Monocyte-derived dendritic cells  0.905028\n",
       "7                           NK cells  0.777143\n",
       "8                          NKT cells  0.636943\n",
       "9       Plasmacytoid dendritic cells  1.000000\n",
       "10                             micro  0.821510\n",
       "11                             macro  0.779568\n",
       "12                          weighted  0.792085"
      ]
     },
     "execution_count": 32,
     "metadata": {},
     "output_type": "execute_result"
    }
   ],
   "source": [
    "knn_classifier_with_f1_report(query_emb, tr.query.adata.obs['cell_type'])"
   ]
  },
  {
   "cell_type": "code",
   "execution_count": 39,
   "id": "af90c30e-c3f5-498e-af84-ce547b4f7706",
   "metadata": {},
   "outputs": [
    {
     "name": "stderr",
     "output_type": "stream",
     "text": [
      "INFO - 10/20/24 12:37:51 - 0:00:00 - ============ Initialized logger ============\n",
      "INFO - 10/20/24 12:37:51 - 0:00:00 - all_latent: None\n",
      "                                     augmentation_type: community\n",
      "                                     base_lr: 4.8\n",
      "                                     batch_size: 1024\n",
      "                                     cell_type_key: cell_type\n",
      "                                     checkpoint_freq: 25\n",
      "                                     condition_key: study\n",
      "                                     crops_for_assign: [0, 1]\n",
      "                                     cvae_loss_scaler: 0.0\n",
      "                                     cvae_reg: 0\n",
      "                                     dataset: pbmc-immune\n",
      "                                     dataset_id: pbmc-immune\n",
      "                                     debug: True\n",
      "                                     default_values: {'dataset_id': 'pbmc-immune', 'model_name_version': 3, 'num_prototypes': 128, 'hidden_dim': 64, 'latent_dims': 8, 'batch_size': 512, 'fine_tuning_epochs': 0, 'experiment_name': '', 'condition_key': 'study', 'cell_type_key': 'cell_type', 'linear_eval': False, 'only_eval': False, 'use_early_stopping': False, 'pretraining_epochs': 300, 'training_type': 'pretrain', 'pretrain_dataset_id': 'hlca', 'finetune_dataset_id': 'pbmc-immune', 'dump_name_version': 4, 'nmb_crops': [8], 'augmentation_type': 'knn', 'size_crops': [224], 'min_scale_crops': [0.14], 'max_scale_crops': [1], 'crops_for_assign': [0, 1], 'temperature': 0.1, 'epsilon': 0.05, 'sinkhorn_iterations': 3, 'feat_dim': 8, 'queue_length': 0, 'epoch_queue_starts': 15, 'base_lr': 4.8, 'final_lr': 0, 'freeze_prototypes_niters': 313, 'wd': 1e-06, 'warmup_epochs': 10, 'start_warmup': 0, 'cvae_reg': 0, 'dist_url': 'env://', 'world_size': -1, 'rank': 0, 'local_rank': 0, 'workers': 10, 'checkpoint_freq': 25, 'use_fp16': False, 'sync_bn': 'pytorch', 'syncbn_process_group_size': 8, 'seed': 31, 'model': '', 'optimizer': '', 'lr_schedule': '', 'queue': None, 'train_loader': '', 'training_stats': '', 'device': 'cuda', 'freezable_prototypes': False, 'cvae_loss_scaler': 0.0001, 'prot_decoding_loss_scaler': 5, 'hidden_mlp': 1024, 'swav_dim': 64, 'use_projector': False, 'model_version': 2, 'train_decoder': False, 'longest_path': 3, 'dimensionality_reduction': None, 'k_neighbors': 10, 'model_type': 'swav', 'job_name': '', 'no_data': 'False'}\n",
      "                                     device: cuda\n",
      "                                     dimensionality_reduction: pca\n",
      "                                     dist_url: env://\n",
      "                                     dump_checkpoints: /home/icb/fatemehs.hashemig/models//pbmc-immune/swav-only_iloss0_closs0.0_num-prot-300_latent8-bs1024-semi_aug-community8_ep0.02_model-v1_dimensionality_reduction-pca_k_neighbors-7/checkpoints\n",
      "                                     dump_name_version: 4\n",
      "                                     dump_path: /home/icb/fatemehs.hashemig/models//pbmc-immune/swav-only_iloss0_closs0.0_num-prot-300_latent8-bs1024-semi_aug-community8_ep0.02_model-v1_dimensionality_reduction-pca_k_neighbors-7\n",
      "                                     epoch_queue_starts: 15\n",
      "                                     epsilon: 0.02\n",
      "                                     experiment_name: swav-only_iloss0_closs0.0\n",
      "                                     feat_dim: 8\n",
      "                                     final_lr: 0\n",
      "                                     fine_tuning_epochs: 0\n",
      "                                     finetune_dataset_id: pbmc-immune\n",
      "                                     finetune_ds: None\n",
      "                                     finetuning: False\n",
      "                                     freezable_prototypes: False\n",
      "                                     freeze_prototypes_niters: 313\n",
      "                                     hidden_dim: 64\n",
      "                                     hidden_mlp: 1024\n",
      "                                     input_dim: 4000\n",
      "                                     job_name: \n",
      "                                     k_neighbors: 7\n",
      "                                     latent_dims: 8\n",
      "                                     linear_eval: False\n",
      "                                     local_rank: 0\n",
      "                                     longest_path: 3\n",
      "                                     lr_schedule: [0.00e+00 1.72e-02 3.44e-02 5.16e-02 6.88e-02 8.60e-02 1.03e-01 ...\n",
      "                                      8.80e-06 6.47e-06 4.49e-06 2.87e-06 1.62e-06 7.19e-07 1.80e-07]\n",
      "                                     max_scale_crops: [1]\n",
      "                                     min_scale_crops: [0.14]\n",
      "                                     model: None\n",
      "                                     model_name_version: 3\n",
      "                                     model_type: swav\n",
      "                                     model_version: 1\n",
      "                                     name: swav_aug_comm_DR_pca_kN_7\n",
      "                                     nmb_crops: [8]\n",
      "                                     nmb_prototypes: 300\n",
      "                                     no_data: True\n",
      "                                     num_prototypes: 300\n",
      "                                     only_eval: False\n",
      "                                     optimizer: SGD (\n",
      "                                     Parameter Group 0\n",
      "                                         dampening: 0\n",
      "                                         differentiable: False\n",
      "                                         foreach: None\n",
      "                                         lr: 4.8\n",
      "                                         maximize: False\n",
      "                                         momentum: 0.9\n",
      "                                         nesterov: False\n",
      "                                         weight_decay: 1e-06\n",
      "                                     )\n",
      "                                     original_ref: None\n",
      "                                     partial_ref: None\n",
      "                                     pretrain_dataset_id: hlca\n",
      "                                     pretraining_epochs: 300\n",
      "                                     prot_decoding_loss_scaler: 0\n",
      "                                     query: pbmc-immune\n",
      "                                     query_latent: None\n",
      "                                     queue: None\n",
      "                                     queue_length: 0\n",
      "                                     rank: 0\n",
      "                                     ref: pbmc-immune\n",
      "                                     ref_latent: None\n",
      "                                     scpoli_: <scarches.models.scpoli.scpoli_model.scPoli object at 0x7efb354c5ac0>\n",
      "                                     seed: 31\n",
      "                                     sinkhorn_iterations: 3\n",
      "                                     size_crops: [224]\n",
      "                                     start_epoch: 0\n",
      "                                     start_warmup: 0\n",
      "                                     swav_dim: 64\n",
      "                                     sync_bn: pytorch\n",
      "                                     syncbn_process_group_size: 8\n",
      "                                     temperature: 0.1\n",
      "                                     train_augmentation: community\n",
      "                                     train_decoder: False\n",
      "                                     train_ds: <interpretable_ssl.augmenters.adata_augmenter.MultiCropsDataset object at 0x7efb3568e420>\n",
      "                                     train_loader: <torch.utils.data.dataloader.DataLoader object at 0x7efb35302990>\n",
      "                                     training_stats: <swav.src.logger.PD_Stats object at 0x7efb353209b0>\n",
      "                                     training_type: semi_supervised\n",
      "                                     transfer_learning_mode: False\n",
      "                                     use_early_stopping: False\n",
      "                                     use_fp16: False\n",
      "                                     use_projector: False\n",
      "                                     use_projector_out: False\n",
      "                                     warmup_epochs: 10\n",
      "                                     wd: 1e-06\n",
      "                                     workers: 10\n",
      "                                     world_size: -1\n",
      "INFO - 10/20/24 12:37:51 - 0:00:00 - The experiment will be stored in /home/icb/fatemehs.hashemig/models//pbmc-immune/swav-only_iloss0_closs0.0_num-prot-300_latent8-bs1024-semi_aug-community8_ep0.02_model-v1_dimensionality_reduction-pca_k_neighbors-7\n",
      "                                     \n",
      "\n",
      "INFO - 10/20/24 12:37:51 - 0:00:00 - Building data done with 29137 images loaded.\n",
      "INFO - 10/20/24 12:37:51 - 0:00:00 - SwavBase(\n",
      "                                       (scpoli_model): scpoli(\n",
      "                                         (embeddings): ModuleList(\n",
      "                                           (0): Embedding(3, 10, max_norm=1.0)\n",
      "                                         )\n",
      "                                         (encoder): Encoder(\n",
      "                                           (FC): Sequential(\n",
      "                                             (L0): CondLayers(\n",
      "                                               (expr_L): Linear(in_features=4000, out_features=64, bias=True)\n",
      "                                               (cond_L): Linear(in_features=10, out_features=64, bias=False)\n",
      "                                             )\n",
      "                                             (N0): LayerNorm((64,), eps=1e-05, elementwise_affine=False)\n",
      "                                             (A0): ReLU()\n",
      "                                             (D0): Dropout(p=0.05, inplace=False)\n",
      "                                           )\n",
      "                                           (mean_encoder): Linear(in_features=64, out_features=8, bias=True)\n",
      "                                           (log_var_encoder): Linear(in_features=64, out_features=8, bias=True)\n",
      "                                         )\n",
      "                                         (decoder): Decoder(\n",
      "                                           (FirstL): Sequential(\n",
      "                                             (L0): CondLayers(\n",
      "                                               (expr_L): Linear(in_features=8, out_features=64, bias=False)\n",
      "                                               (cond_L): Linear(in_features=10, out_features=64, bias=False)\n",
      "                                             )\n",
      "                                             (N0): LayerNorm((64,), eps=1e-05, elementwise_affine=False)\n",
      "                                             (A0): ReLU()\n",
      "                                             (D0): Dropout(p=0.05, inplace=False)\n",
      "                                           )\n",
      "                                           (HiddenL): Sequential()\n",
      "                                           (mean_decoder): Sequential(\n",
      "                                             (0): Linear(in_features=64, out_features=4000, bias=True)\n",
      "                                             (1): Softmax(dim=-1)\n",
      "                                           )\n",
      "                                         )\n",
      "                                       )\n",
      "                                       (prototypes): Linear(in_features=8, out_features=300, bias=False)\n",
      "                                     )\n",
      "INFO - 10/20/24 12:37:51 - 0:00:00 - Building model done.\n",
      "INFO - 10/20/24 12:37:51 - 0:00:00 - Building optimizer done.\n",
      "INFO - 10/20/24 12:37:51 - 0:00:00 - no mixed precision\n"
     ]
    },
    {
     "name": "stdout",
     "output_type": "stream",
     "text": [
      "Embedding dictionary:\n",
      " \tNum conditions: [3]\n",
      " \tEmbedding dim: [10]\n",
      "Encoder Architecture:\n",
      "\tInput Layer in, out and cond: 4000 64 10\n",
      "\tMean/Var Layer in/out: 64 8\n",
      "Decoder Architecture:\n",
      "\tFirst Layer in, out and cond:  8 64 10\n",
      "\tOutput Layer in/out:  64 4000 \n",
      "\n",
      "Embedding dictionary:\n",
      " \tNum conditions: [5]\n",
      " \tEmbedding dim: [10]\n",
      "Encoder Architecture:\n",
      "\tInput Layer in, out and cond: 4000 64 10\n",
      "\tMean/Var Layer in/out: 64 8\n",
      "Decoder Architecture:\n",
      "\tFirst Layer in, out and cond:  8 64 10\n",
      "\tOutput Layer in/out:  64 4000 \n",
      "\n"
     ]
    },
    {
     "name": "stderr",
     "output_type": "stream",
     "text": [
      "100%|██████████| 5/5 [00:00<00:00, 13.37it/s]\n"
     ]
    },
    {
     "name": "stdout",
     "output_type": "stream",
     "text": [
      "Embedding dictionary:\n",
      " \tNum conditions: [3]\n",
      " \tEmbedding dim: [10]\n",
      "Encoder Architecture:\n",
      "\tInput Layer in, out and cond: 4000 64 10\n",
      "\tMean/Var Layer in/out: 64 8\n",
      "Decoder Architecture:\n",
      "\tFirst Layer in, out and cond:  8 64 10\n",
      "\tOutput Layer in/out:  64 4000 \n",
      "\n",
      "Embedding dictionary:\n",
      " \tNum conditions: [5]\n",
      " \tEmbedding dim: [10]\n",
      "Encoder Architecture:\n",
      "\tInput Layer in, out and cond: 4000 64 10\n",
      "\tMean/Var Layer in/out: 64 8\n",
      "Decoder Architecture:\n",
      "\tFirst Layer in, out and cond:  8 64 10\n",
      "\tOutput Layer in/out:  64 4000 \n",
      "\n"
     ]
    },
    {
     "name": "stderr",
     "output_type": "stream",
     "text": [
      "100%|██████████| 5/5 [00:00<00:00, 12.20it/s]\n"
     ]
    },
    {
     "data": {
      "text/html": [
       "<div>\n",
       "<style scoped>\n",
       "    .dataframe tbody tr th:only-of-type {\n",
       "        vertical-align: middle;\n",
       "    }\n",
       "\n",
       "    .dataframe tbody tr th {\n",
       "        vertical-align: top;\n",
       "    }\n",
       "\n",
       "    .dataframe thead th {\n",
       "        text-align: right;\n",
       "    }\n",
       "</style>\n",
       "<table border=\"1\" class=\"dataframe\">\n",
       "  <thead>\n",
       "    <tr style=\"text-align: right;\">\n",
       "      <th></th>\n",
       "      <th>Class</th>\n",
       "      <th>Test F1 swav_aug_comm_DR_pca_kN_7</th>\n",
       "      <th>Test F1 scpoli_exp_scpoli-semi</th>\n",
       "    </tr>\n",
       "  </thead>\n",
       "  <tbody>\n",
       "    <tr>\n",
       "      <th>0</th>\n",
       "      <td>CD14+ Monocytes</td>\n",
       "      <td>0.935622</td>\n",
       "      <td>0.942222</td>\n",
       "    </tr>\n",
       "    <tr>\n",
       "      <th>1</th>\n",
       "      <td>CD16+ Monocytes</td>\n",
       "      <td>0.720930</td>\n",
       "      <td>0.675000</td>\n",
       "    </tr>\n",
       "    <tr>\n",
       "      <th>2</th>\n",
       "      <td>CD20+ B cells</td>\n",
       "      <td>0.971429</td>\n",
       "      <td>0.966292</td>\n",
       "    </tr>\n",
       "    <tr>\n",
       "      <th>3</th>\n",
       "      <td>CD4+ T cells</td>\n",
       "      <td>0.848586</td>\n",
       "      <td>0.813036</td>\n",
       "    </tr>\n",
       "    <tr>\n",
       "      <th>4</th>\n",
       "      <td>CD8+ T cells</td>\n",
       "      <td>0.000000</td>\n",
       "      <td>0.114286</td>\n",
       "    </tr>\n",
       "    <tr>\n",
       "      <th>5</th>\n",
       "      <td>Megakaryocyte progenitors</td>\n",
       "      <td>1.000000</td>\n",
       "      <td>0.857143</td>\n",
       "    </tr>\n",
       "    <tr>\n",
       "      <th>6</th>\n",
       "      <td>Monocyte-derived dendritic cells</td>\n",
       "      <td>0.905028</td>\n",
       "      <td>0.854271</td>\n",
       "    </tr>\n",
       "    <tr>\n",
       "      <th>7</th>\n",
       "      <td>NK cells</td>\n",
       "      <td>0.777143</td>\n",
       "      <td>0.688172</td>\n",
       "    </tr>\n",
       "    <tr>\n",
       "      <th>8</th>\n",
       "      <td>NKT cells</td>\n",
       "      <td>0.636943</td>\n",
       "      <td>0.434211</td>\n",
       "    </tr>\n",
       "    <tr>\n",
       "      <th>9</th>\n",
       "      <td>Plasmacytoid dendritic cells</td>\n",
       "      <td>1.000000</td>\n",
       "      <td>0.911765</td>\n",
       "    </tr>\n",
       "    <tr>\n",
       "      <th>10</th>\n",
       "      <td>macro</td>\n",
       "      <td>0.779568</td>\n",
       "      <td>0.725640</td>\n",
       "    </tr>\n",
       "    <tr>\n",
       "      <th>11</th>\n",
       "      <td>micro</td>\n",
       "      <td>0.821510</td>\n",
       "      <td>0.773455</td>\n",
       "    </tr>\n",
       "    <tr>\n",
       "      <th>12</th>\n",
       "      <td>weighted</td>\n",
       "      <td>0.792085</td>\n",
       "      <td>0.748895</td>\n",
       "    </tr>\n",
       "  </tbody>\n",
       "</table>\n",
       "</div>"
      ],
      "text/plain": [
       "                               Class  Test F1 swav_aug_comm_DR_pca_kN_7  \\\n",
       "0                    CD14+ Monocytes                           0.935622   \n",
       "1                    CD16+ Monocytes                           0.720930   \n",
       "2                      CD20+ B cells                           0.971429   \n",
       "3                       CD4+ T cells                           0.848586   \n",
       "4                       CD8+ T cells                           0.000000   \n",
       "5          Megakaryocyte progenitors                           1.000000   \n",
       "6   Monocyte-derived dendritic cells                           0.905028   \n",
       "7                           NK cells                           0.777143   \n",
       "8                          NKT cells                           0.636943   \n",
       "9       Plasmacytoid dendritic cells                           1.000000   \n",
       "10                             macro                           0.779568   \n",
       "11                             micro                           0.821510   \n",
       "12                          weighted                           0.792085   \n",
       "\n",
       "    Test F1 scpoli_exp_scpoli-semi  \n",
       "0                         0.942222  \n",
       "1                         0.675000  \n",
       "2                         0.966292  \n",
       "3                         0.813036  \n",
       "4                         0.114286  \n",
       "5                         0.857143  \n",
       "6                         0.854271  \n",
       "7                         0.688172  \n",
       "8                         0.434211  \n",
       "9                         0.911765  \n",
       "10                        0.725640  \n",
       "11                        0.773455  \n",
       "12                        0.748895  "
      ]
     },
     "execution_count": 39,
     "metadata": {},
     "output_type": "execute_result"
    }
   ],
   "source": [
    "compare_trainers(t, knn_classifier_with_f1_report)"
   ]
  },
  {
   "cell_type": "code",
   "execution_count": null,
   "id": "58288f57-97cf-4ea9-9493-644082b9889e",
   "metadata": {},
   "outputs": [],
   "source": []
  }
 ],
 "metadata": {
  "kernelspec": {
   "display_name": "Python 3 (ipykernel)",
   "language": "python",
   "name": "python3"
  },
  "language_info": {
   "codemirror_mode": {
    "name": "ipython",
    "version": 3
   },
   "file_extension": ".py",
   "mimetype": "text/x-python",
   "name": "python",
   "nbconvert_exporter": "python",
   "pygments_lexer": "ipython3",
   "version": "3.12.2"
  }
 },
 "nbformat": 4,
 "nbformat_minor": 5
}
