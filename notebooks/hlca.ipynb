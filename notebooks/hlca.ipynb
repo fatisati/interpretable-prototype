{
 "cells": [
  {
   "cell_type": "code",
   "execution_count": 3,
   "id": "57582f02-7c5f-4243-8253-781d48f2b0ff",
   "metadata": {},
   "outputs": [
    {
     "name": "stderr",
     "output_type": "stream",
     "text": [
      "/home/icb/fatemehs.hashemig/miniconda3/envs/interpretable-ssl/lib/python3.12/site-packages/scanpy/preprocessing/_highly_variable_genes.py:64: UserWarning: `flavor='seurat_v3'` expects raw count data, but non-integers were found.\n",
      "  warnings.warn(\n"
     ]
    },
    {
     "name": "stdout",
     "output_type": "stream",
     "text": [
      "View of AnnData object with n_obs × n_vars = 584944 × 2000\n",
      "    obs: 'suspension_type', 'donor_id', 'is_primary_data', 'assay_ontology_term_id', 'cell_type_ontology_term_id', 'development_stage_ontology_term_id', 'disease_ontology_term_id', 'self_reported_ethnicity_ontology_term_id', 'tissue_ontology_term_id', 'organism_ontology_term_id', 'sex_ontology_term_id', 'BMI', 'age_or_mean_of_age_range', 'age_range', 'anatomical_region_ccf_score', 'ann_coarse_for_GWAS_and_modeling', 'ann_finest_level', 'ann_level_1', 'ann_level_2', 'ann_level_3', 'ann_level_4', 'ann_level_5', 'cause_of_death', 'dataset', 'entropy_dataset_leiden_3', 'entropy_original_ann_level_1_leiden_3', 'entropy_original_ann_level_2_clean_leiden_3', 'entropy_original_ann_level_3_clean_leiden_3', 'entropy_subject_ID_leiden_3', 'fresh_or_frozen', 'leiden_1', 'leiden_2', 'leiden_3', 'leiden_4', 'leiden_5', 'log10_total_counts', 'lung_condition', 'mixed_ancestry', 'n_genes_detected', 'original_ann_highest_res', 'original_ann_level_1', 'original_ann_level_2', 'original_ann_level_3', 'original_ann_level_4', 'original_ann_level_5', 'original_ann_nonharmonized', 'reannotation_type', 'reference_genome', 'sample', 'scanvi_label', 'sequencing_platform', 'size_factors', 'smoking_status', 'study', 'subject_type', 'tissue_dissociation_protocol', 'tissue_level_2', 'tissue_level_3', 'tissue_sampling_method', 'tissue_type', 'cell_type', 'assay', 'disease', 'organism', 'sex', 'tissue', 'self_reported_ethnicity', 'development_stage', 'observation_joinid'\n",
      "    var: 'feature_is_filtered', 'feature_name', 'feature_reference', 'feature_biotype', 'feature_length', 'highly_variable', 'highly_variable_rank', 'means', 'variances', 'variances_norm'\n",
      "    uns: 'batch_condition', 'citation', 'default_embedding', 'schema_reference', 'schema_version', 'title', 'hvg'\n",
      "    obsm: 'X_scanvi_emb', 'X_umap'\n",
      "    obsp: 'connectivities', 'distances'\n"
     ]
    }
   ],
   "source": [
    "import scanpy as sc\n",
    "import anndata as ad\n",
    "\n",
    "adata = sc.read_h5ad('/home/icb/fatemehs.hashemig/data/hlca/hlca_core_cellxgene.h5ad')\n",
    "\n",
    "# Calculate highly variable genes\n",
    "sc.pp.highly_variable_genes(adata, n_top_genes=2000, flavor='seurat_v3')  # You can adjust the number of top genes and the method\n",
    "\n",
    "# Filter the AnnData object to only include highly variable genes\n",
    "adata = adata[:, adata.var.highly_variable]\n",
    "\n",
    "# Save the filtered AnnData object\n",
    "adata.write_h5ad(\"/home/icb/fatemehs.hashemig/data/hlca/hlca_core_hvg.h5ad\")\n",
    "\n",
    "# Optionally, you can print or inspect the AnnData object to check the filtering\n",
    "print(adata)\n"
   ]
  },
  {
   "cell_type": "code",
   "execution_count": 4,
   "id": "a76a2384-0b69-4abc-8d7c-dee38d2b7da1",
   "metadata": {},
   "outputs": [],
   "source": [
    "import interpretable_ssl.utils as utils\n",
    "from interpretable_ssl.datasets.hlca import get_label_encoder_path\n",
    "\n",
    "utils.fit_label_encoder(adata, get_label_encoder_path())\n"
   ]
  },
  {
   "cell_type": "code",
   "execution_count": null,
   "id": "25ec751a-bc9f-4cad-b286-90a932643b6d",
   "metadata": {},
   "outputs": [],
   "source": []
  }
 ],
 "metadata": {
  "kernelspec": {
   "display_name": "Python 3 (ipykernel)",
   "language": "python",
   "name": "python3"
  },
  "language_info": {
   "codemirror_mode": {
    "name": "ipython",
    "version": 3
   },
   "file_extension": ".py",
   "mimetype": "text/x-python",
   "name": "python",
   "nbconvert_exporter": "python",
   "pygments_lexer": "ipython3",
   "version": "3.12.2"
  }
 },
 "nbformat": 4,
 "nbformat_minor": 5
}
