{
 "cells": [
  {
   "cell_type": "code",
   "execution_count": 1,
   "id": "c82ab110-950d-4054-849b-2a267da4dac4",
   "metadata": {},
   "outputs": [
    {
     "name": "stdout",
     "output_type": "stream",
     "text": [
      "Current working directory: /ictstr01/home/icb/fatemehs.hashemig/codes/interpretable-ssl\n"
     ]
    }
   ],
   "source": [
    "import os\n",
    "import sys\n",
    "\n",
    "# Get the current working directory (where the notebook is located)\n",
    "notebook_dir = os.getcwd()\n",
    "\n",
    "# Get the parent directory\n",
    "parent_dir = os.path.abspath(os.path.join(notebook_dir, os.pardir))\n",
    "\n",
    "# Set the parent directory as the working directory\n",
    "os.chdir(parent_dir)\n",
    "\n",
    "# Optionally, you can add the parent directory to the system path\n",
    "sys.path.append(parent_dir)\n",
    "\n",
    "# Print the current working directory to verify\n",
    "print(\"Current working directory:\", os.getcwd())\n"
   ]
  },
  {
   "cell_type": "code",
   "execution_count": 17,
   "id": "c2f46687-cbd3-4bc6-9d83-c22c45ca381b",
   "metadata": {},
   "outputs": [
    {
     "data": {
      "text/plain": [
       "<module 'interpretable_ssl.trainers.scpoli_original' from '/ictstr01/home/icb/fatemehs.hashemig/codes/interpretable-ssl/interpretable_ssl/trainers/scpoli_original.py'>"
      ]
     },
     "execution_count": 17,
     "metadata": {},
     "output_type": "execute_result"
    }
   ],
   "source": [
    "import importlib\n",
    "import interpretable_ssl.trainers.scpoli_original\n",
    "importlib.reload(interpretable_ssl.trainers.scpoli_original)"
   ]
  },
  {
   "cell_type": "code",
   "execution_count": 18,
   "id": "0563bf67-5243-42c8-9194-e87dd9d47510",
   "metadata": {},
   "outputs": [],
   "source": [
    "from interpretable_ssl.trainers.scpoli_original import OriginalTrainer"
   ]
  },
  {
   "cell_type": "code",
   "execution_count": 19,
   "id": "abe328d7-ecd7-43ff-83d4-f8e18dc54031",
   "metadata": {},
   "outputs": [
    {
     "name": "stdout",
     "output_type": "stream",
     "text": [
      "new base init\n",
      "loading data\n",
      "new\n"
     ]
    }
   ],
   "source": [
    "t = OriginalTrainer(\n",
    "        latent_dims=8,\n",
    "        batch_size=1024,\n",
    "        fine_tuning_epochs=5,\n",
    "        pretraining_epochs=5,\n",
    "        experiment_name=\"scpoli-semi-sample\",\n",
    "    debug = True\n",
    "    )"
   ]
  },
  {
   "cell_type": "code",
   "execution_count": 20,
   "id": "e48f27bf-c9da-4c5a-b852-aa7cd05cdbce",
   "metadata": {},
   "outputs": [
    {
     "data": {
      "text/plain": [
       "'/home/icb/fatemehs.hashemig/models//pbmc-immune/scpoli-semi-sample_latent8_bs1024'"
      ]
     },
     "execution_count": 20,
     "metadata": {},
     "output_type": "execute_result"
    }
   ],
   "source": [
    "t.get_dump_path()"
   ]
  },
  {
   "cell_type": "code",
   "execution_count": 10,
   "id": "fc71c5c4-5111-4a86-a651-9f040de71b3c",
   "metadata": {},
   "outputs": [
    {
     "name": "stderr",
     "output_type": "stream",
     "text": [
      "/home/icb/fatemehs.hashemig/miniconda3/envs/apex-env/lib/python3.12/site-packages/scarches/models/scpoli/scpoli_model.py:151: FutureWarning: The default of observed=False is deprecated and will be changed to True in a future version of pandas. Pass observed=False to retain current behavior or observed=True to adopt the future default and silence this warning.\n",
      "  self.obs_metadata_ = adata.obs.groupby('conditions_combined').first()\n",
      "/home/icb/fatemehs.hashemig/miniconda3/envs/apex-env/lib/python3.12/site-packages/scarches/models/scpoli/scpoli_model.py:156: FutureWarning: The default of observed=False is deprecated and will be changed to True in a future version of pandas. Pass observed=False to retain current behavior or observed=True to adopt the future default and silence this warning.\n",
      "  self.obs_metadata_ = adata.obs.groupby(condition_keys).first()\n",
      "/home/icb/fatemehs.hashemig/miniconda3/envs/apex-env/lib/python3.12/site-packages/scarches/models/scpoli/scpoli_model.py:164: FutureWarning: Series.__getitem__ treating keys as positions is deprecated. In a future version, integer keys will always be treated as labels (consistent with DataFrame behavior). To access a value by position, use `ser.iloc[pos]`\n",
      "  adata.obs[cell_type_key][self.labeled_indices_]\n"
     ]
    },
    {
     "name": "stdout",
     "output_type": "stream",
     "text": [
      "Embedding dictionary:\n",
      " \tNum conditions: [3]\n",
      " \tEmbedding dim: [10]\n",
      "Encoder Architecture:\n",
      "\tInput Layer in, out and cond: 4000 64 10\n",
      "\tMean/Var Layer in/out: 64 8\n",
      "Decoder Architecture:\n",
      "\tFirst Layer in, out and cond:  8 64 10\n",
      "\tOutput Layer in/out:  64 4000 \n",
      "\n"
     ]
    }
   ],
   "source": [
    "self = t\n",
    "ref_latent = self.encode_ref()"
   ]
  },
  {
   "cell_type": "code",
   "execution_count": 11,
   "id": "c099e8dd-311e-4e1c-bf24-2ef46b3f1296",
   "metadata": {},
   "outputs": [
    {
     "data": {
      "text/plain": [
       "torch.Size([29137, 8])"
      ]
     },
     "execution_count": 11,
     "metadata": {},
     "output_type": "execute_result"
    }
   ],
   "source": [
    "ref_latent.shape"
   ]
  },
  {
   "cell_type": "code",
   "execution_count": 15,
   "id": "24e98701-4732-45a8-967e-110d41ea8df9",
   "metadata": {},
   "outputs": [],
   "source": [
    "self.get_scib_file_path('ref')"
   ]
  },
  {
   "cell_type": "code",
   "execution_count": 14,
   "id": "68f3564c-ae13-431a-956d-e8006070fe16",
   "metadata": {},
   "outputs": [
    {
     "name": "stderr",
     "output_type": "stream",
     "text": [
      "Computing neighbors: 100%|██████████| 1/1 [00:19<00:00, 19.03s/it]\n",
      "Embeddings:   0%|\u001b[32m          \u001b[0m| 0/1 [00:00<?, ?it/s]\n",
      "Metrics:   0%|\u001b[34m          \u001b[0m| 0/10 [00:00<?, ?it/s]\u001b[A\n",
      "Metrics:   0%|\u001b[34m          \u001b[0m| 0/10 [00:00<?, ?it/s, Bio conservation: isolated_labels]\u001b[AWARNING:jax._src.xla_bridge:An NVIDIA GPU may be present on this machine, but a CUDA-enabled jaxlib is not installed. Falling back to cpu.\n",
      "\n",
      "Metrics:  10%|\u001b[34m█         \u001b[0m| 1/10 [00:02<00:18,  2.07s/it, Bio conservation: isolated_labels]\u001b[A\n",
      "Metrics:  10%|\u001b[34m█         \u001b[0m| 1/10 [00:02<00:18,  2.07s/it, Bio conservation: nmi_ari_cluster_labels_kmeans]\u001b[A\n",
      "Metrics:  20%|\u001b[34m██        \u001b[0m| 2/10 [00:04<00:18,  2.28s/it, Bio conservation: nmi_ari_cluster_labels_kmeans]\u001b[A\n",
      "Metrics:  20%|\u001b[34m██        \u001b[0m| 2/10 [00:04<00:18,  2.28s/it, Bio conservation: silhouette_label]             \u001b[A\n",
      "Metrics:  30%|\u001b[34m███       \u001b[0m| 3/10 [00:06<00:13,  1.93s/it, Bio conservation: silhouette_label]\u001b[A\n",
      "Metrics:  30%|\u001b[34m███       \u001b[0m| 3/10 [00:06<00:13,  1.93s/it, Bio conservation: clisi_knn]       \u001b[A\n",
      "Metrics:  40%|\u001b[34m████      \u001b[0m| 4/10 [00:06<00:08,  1.46s/it, Bio conservation: clisi_knn]\u001b[A\n",
      "Metrics:  40%|\u001b[34m████      \u001b[0m| 4/10 [00:06<00:08,  1.46s/it, Batch correction: silhouette_batch]\u001b[A\n",
      "Metrics:  50%|\u001b[34m█████     \u001b[0m| 5/10 [00:12<00:15,  3.13s/it, Batch correction: silhouette_batch]\u001b[A\n",
      "Metrics:  50%|\u001b[34m█████     \u001b[0m| 5/10 [00:12<00:15,  3.13s/it, Batch correction: ilisi_knn]       \u001b[A\n",
      "Metrics:  60%|\u001b[34m██████    \u001b[0m| 6/10 [00:13<00:08,  2.15s/it, Batch correction: ilisi_knn]\u001b[A\n",
      "Metrics:  60%|\u001b[34m██████    \u001b[0m| 6/10 [00:13<00:08,  2.15s/it, Batch correction: kbet_per_label]\u001b[A/home/icb/fatemehs.hashemig/miniconda3/envs/apex-env/lib/python3.12/site-packages/scib_metrics/_kbet.py:181: FutureWarning: pandas.value_counts is deprecated and will be removed in a future version. Use pd.Series(obj).value_counts() instead.\n",
      "  comp_size = pd.value_counts(labs)\n",
      "/home/icb/fatemehs.hashemig/miniconda3/envs/apex-env/lib/python3.12/site-packages/scib_metrics/_kbet.py:181: FutureWarning: pandas.value_counts is deprecated and will be removed in a future version. Use pd.Series(obj).value_counts() instead.\n",
      "  comp_size = pd.value_counts(labs)\n",
      "/home/icb/fatemehs.hashemig/miniconda3/envs/apex-env/lib/python3.12/site-packages/scib_metrics/_kbet.py:181: FutureWarning: pandas.value_counts is deprecated and will be removed in a future version. Use pd.Series(obj).value_counts() instead.\n",
      "  comp_size = pd.value_counts(labs)\n",
      "/home/icb/fatemehs.hashemig/miniconda3/envs/apex-env/lib/python3.12/site-packages/scib_metrics/_kbet.py:181: FutureWarning: pandas.value_counts is deprecated and will be removed in a future version. Use pd.Series(obj).value_counts() instead.\n",
      "  comp_size = pd.value_counts(labs)\n",
      "/home/icb/fatemehs.hashemig/miniconda3/envs/apex-env/lib/python3.12/site-packages/scib_metrics/_kbet.py:181: FutureWarning: pandas.value_counts is deprecated and will be removed in a future version. Use pd.Series(obj).value_counts() instead.\n",
      "  comp_size = pd.value_counts(labs)\n",
      "/home/icb/fatemehs.hashemig/miniconda3/envs/apex-env/lib/python3.12/site-packages/scib_metrics/_kbet.py:181: FutureWarning: pandas.value_counts is deprecated and will be removed in a future version. Use pd.Series(obj).value_counts() instead.\n",
      "  comp_size = pd.value_counts(labs)\n",
      "/home/icb/fatemehs.hashemig/miniconda3/envs/apex-env/lib/python3.12/site-packages/scib_metrics/_kbet.py:181: FutureWarning: pandas.value_counts is deprecated and will be removed in a future version. Use pd.Series(obj).value_counts() instead.\n",
      "  comp_size = pd.value_counts(labs)\n",
      "/home/icb/fatemehs.hashemig/miniconda3/envs/apex-env/lib/python3.12/site-packages/scib_metrics/_kbet.py:181: FutureWarning: pandas.value_counts is deprecated and will be removed in a future version. Use pd.Series(obj).value_counts() instead.\n",
      "  comp_size = pd.value_counts(labs)\n",
      "/home/icb/fatemehs.hashemig/miniconda3/envs/apex-env/lib/python3.12/site-packages/scib_metrics/_kbet.py:181: FutureWarning: pandas.value_counts is deprecated and will be removed in a future version. Use pd.Series(obj).value_counts() instead.\n",
      "  comp_size = pd.value_counts(labs)\n",
      "/home/icb/fatemehs.hashemig/miniconda3/envs/apex-env/lib/python3.12/site-packages/scib_metrics/_kbet.py:181: FutureWarning: pandas.value_counts is deprecated and will be removed in a future version. Use pd.Series(obj).value_counts() instead.\n",
      "  comp_size = pd.value_counts(labs)\n",
      "/home/icb/fatemehs.hashemig/miniconda3/envs/apex-env/lib/python3.12/site-packages/scib_metrics/_kbet.py:181: FutureWarning: pandas.value_counts is deprecated and will be removed in a future version. Use pd.Series(obj).value_counts() instead.\n",
      "  comp_size = pd.value_counts(labs)\n",
      "/home/icb/fatemehs.hashemig/miniconda3/envs/apex-env/lib/python3.12/site-packages/scib_metrics/_kbet.py:181: FutureWarning: pandas.value_counts is deprecated and will be removed in a future version. Use pd.Series(obj).value_counts() instead.\n",
      "  comp_size = pd.value_counts(labs)\n",
      "/home/icb/fatemehs.hashemig/miniconda3/envs/apex-env/lib/python3.12/site-packages/scib_metrics/_kbet.py:181: FutureWarning: pandas.value_counts is deprecated and will be removed in a future version. Use pd.Series(obj).value_counts() instead.\n",
      "  comp_size = pd.value_counts(labs)\n",
      "\n",
      "Metrics:  70%|\u001b[34m███████   \u001b[0m| 7/10 [00:35<00:25,  8.62s/it, Batch correction: kbet_per_label]\u001b[A\n",
      "Metrics:  70%|\u001b[34m███████   \u001b[0m| 7/10 [00:35<00:25,  8.62s/it, Batch correction: graph_connectivity]\u001b[A/home/icb/fatemehs.hashemig/miniconda3/envs/apex-env/lib/python3.12/site-packages/scib_metrics/_graph_connectivity.py:30: FutureWarning: pandas.value_counts is deprecated and will be removed in a future version. Use pd.Series(obj).value_counts() instead.\n",
      "  tab = pd.value_counts(comps)\n",
      "\n",
      "Metrics:  80%|\u001b[34m████████  \u001b[0m| 8/10 [00:35<00:17,  8.62s/it, Batch correction: pcr_comparison]    \u001b[A\n",
      "Embeddings: 100%|\u001b[32m██████████\u001b[0m| 1/1 [00:35<00:00, 35.73s/it]atch correction: pcr_comparison]\u001b[A\n",
      "\n",
      "                                                                                         \u001b[A"
     ]
    },
    {
     "data": {
      "text/html": [
       "<div>\n",
       "<style scoped>\n",
       "    .dataframe tbody tr th:only-of-type {\n",
       "        vertical-align: middle;\n",
       "    }\n",
       "\n",
       "    .dataframe tbody tr th {\n",
       "        vertical-align: top;\n",
       "    }\n",
       "\n",
       "    .dataframe thead th {\n",
       "        text-align: right;\n",
       "    }\n",
       "</style>\n",
       "<table border=\"1\" class=\"dataframe\">\n",
       "  <thead>\n",
       "    <tr style=\"text-align: right;\">\n",
       "      <th></th>\n",
       "      <th>Isolated labels</th>\n",
       "      <th>KMeans NMI</th>\n",
       "      <th>KMeans ARI</th>\n",
       "      <th>Silhouette label</th>\n",
       "      <th>cLISI</th>\n",
       "      <th>Silhouette batch</th>\n",
       "      <th>iLISI</th>\n",
       "      <th>KBET</th>\n",
       "      <th>Graph connectivity</th>\n",
       "      <th>PCR comparison</th>\n",
       "      <th>Batch correction</th>\n",
       "      <th>Bio conservation</th>\n",
       "      <th>Total</th>\n",
       "    </tr>\n",
       "    <tr>\n",
       "      <th>Embedding</th>\n",
       "      <th></th>\n",
       "      <th></th>\n",
       "      <th></th>\n",
       "      <th></th>\n",
       "      <th></th>\n",
       "      <th></th>\n",
       "      <th></th>\n",
       "      <th></th>\n",
       "      <th></th>\n",
       "      <th></th>\n",
       "      <th></th>\n",
       "      <th></th>\n",
       "      <th></th>\n",
       "    </tr>\n",
       "  </thead>\n",
       "  <tbody>\n",
       "    <tr>\n",
       "      <th>latent</th>\n",
       "      <td>0.821929</td>\n",
       "      <td>0.86761</td>\n",
       "      <td>0.78911</td>\n",
       "      <td>0.696403</td>\n",
       "      <td>0.998917</td>\n",
       "      <td>0.829945</td>\n",
       "      <td>0.309263</td>\n",
       "      <td>0.712636</td>\n",
       "      <td>0.945601</td>\n",
       "      <td>0.384753</td>\n",
       "      <td>0.636439</td>\n",
       "      <td>0.834794</td>\n",
       "      <td>0.755452</td>\n",
       "    </tr>\n",
       "    <tr>\n",
       "      <th>Metric Type</th>\n",
       "      <td>Bio conservation</td>\n",
       "      <td>Bio conservation</td>\n",
       "      <td>Bio conservation</td>\n",
       "      <td>Bio conservation</td>\n",
       "      <td>Bio conservation</td>\n",
       "      <td>Batch correction</td>\n",
       "      <td>Batch correction</td>\n",
       "      <td>Batch correction</td>\n",
       "      <td>Batch correction</td>\n",
       "      <td>Batch correction</td>\n",
       "      <td>Aggregate score</td>\n",
       "      <td>Aggregate score</td>\n",
       "      <td>Aggregate score</td>\n",
       "    </tr>\n",
       "  </tbody>\n",
       "</table>\n",
       "</div>"
      ],
      "text/plain": [
       "              Isolated labels        KMeans NMI        KMeans ARI  \\\n",
       "Embedding                                                           \n",
       "latent               0.821929           0.86761           0.78911   \n",
       "Metric Type  Bio conservation  Bio conservation  Bio conservation   \n",
       "\n",
       "             Silhouette label             cLISI  Silhouette batch  \\\n",
       "Embedding                                                           \n",
       "latent               0.696403          0.998917          0.829945   \n",
       "Metric Type  Bio conservation  Bio conservation  Batch correction   \n",
       "\n",
       "                        iLISI              KBET Graph connectivity  \\\n",
       "Embedding                                                            \n",
       "latent               0.309263          0.712636           0.945601   \n",
       "Metric Type  Batch correction  Batch correction   Batch correction   \n",
       "\n",
       "               PCR comparison Batch correction Bio conservation  \\\n",
       "Embedding                                                         \n",
       "latent               0.384753         0.636439         0.834794   \n",
       "Metric Type  Batch correction  Aggregate score  Aggregate score   \n",
       "\n",
       "                       Total  \n",
       "Embedding                     \n",
       "latent              0.755452  \n",
       "Metric Type  Aggregate score  "
      ]
     },
     "execution_count": 14,
     "metadata": {},
     "output_type": "execute_result"
    }
   ],
   "source": [
    "from interpretable_ssl.trainers.scpoli_trainer import *\n",
    "\n",
    "calculate_scib_metrics_using_benchmarker(\n",
    "            self.ref.adata, ref_latent, self.get_scib_file_path('ref')\n",
    "        )"
   ]
  },
  {
   "cell_type": "code",
   "execution_count": null,
   "id": "77edf454-6a42-4451-92b0-9972c455f67d",
   "metadata": {},
   "outputs": [],
   "source": []
  }
 ],
 "metadata": {
  "kernelspec": {
   "display_name": "Python 3 (ipykernel)",
   "language": "python",
   "name": "python3"
  },
  "language_info": {
   "codemirror_mode": {
    "name": "ipython",
    "version": 3
   },
   "file_extension": ".py",
   "mimetype": "text/x-python",
   "name": "python",
   "nbconvert_exporter": "python",
   "pygments_lexer": "ipython3",
   "version": "3.12.2"
  }
 },
 "nbformat": 4,
 "nbformat_minor": 5
}
