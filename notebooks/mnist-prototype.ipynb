{
 "cells": [
  {
   "cell_type": "code",
   "execution_count": 244,
   "id": "52431a45-4430-4915-84dd-3832fed9235a",
   "metadata": {},
   "outputs": [
    {
     "name": "stdout",
     "output_type": "stream",
     "text": [
      "hello\n"
     ]
    }
   ],
   "source": [
    "print('hello')"
   ]
  },
  {
   "cell_type": "code",
   "execution_count": 245,
   "id": "dbb3b372-f542-466c-b2db-632c5a2bb4ab",
   "metadata": {},
   "outputs": [
    {
     "name": "stdout",
     "output_type": "stream",
     "text": [
      "True\n"
     ]
    }
   ],
   "source": [
    "import torch\n",
    "print(torch.cuda.is_available())"
   ]
  },
  {
   "cell_type": "code",
   "execution_count": 6,
   "id": "c89c6cb5-96e4-4cc7-bc0c-739de065b64e",
   "metadata": {},
   "outputs": [],
   "source": [
    "from torchvision import datasets, transforms"
   ]
  },
  {
   "cell_type": "code",
   "execution_count": 7,
   "id": "e2d20272-bceb-4521-8f75-57eec9a14fa8",
   "metadata": {},
   "outputs": [],
   "source": [
    "transform=transforms.Compose([\n",
    "    transforms.ToTensor(),\n",
    "    transforms.Normalize((0.1307,), (0.3081,))\n",
    "    ])\n"
   ]
  },
  {
   "cell_type": "code",
   "execution_count": 225,
   "id": "2db7dd12-a061-4a5b-86b8-8bee697664f0",
   "metadata": {},
   "outputs": [],
   "source": [
    "home = '/home/icb/fatemehs.hashemig'\n",
    "data_path = f'{home}/data'\n",
    "train = datasets.MNIST(data_path, train=True,\n",
    "                   transform=transform)\n",
    "test = datasets.MNIST(data_path, train=False,\n",
    "                   transform=transform)"
   ]
  },
  {
   "cell_type": "code",
   "execution_count": 226,
   "id": "0426c2a9-0e2a-4644-ace9-cf3d7e1f3f28",
   "metadata": {},
   "outputs": [],
   "source": [
    "batch_size = 256\n",
    "train_kwargs = {'batch_size': batch_size}\n",
    "test_kwargs = {'batch_size': batch_size}\n",
    "\n",
    "use_cuda = torch.cuda.is_available()\n",
    "if use_cuda:\n",
    "    cuda_kwargs = {'num_workers': 1,\n",
    "                   'pin_memory': True,\n",
    "                   'shuffle': True}\n",
    "    train_kwargs.update(cuda_kwargs)\n",
    "    test_kwargs.update(cuda_kwargs)"
   ]
  },
  {
   "cell_type": "code",
   "execution_count": 227,
   "id": "3ca06b17-0271-4f7f-9360-44fd5bb09b44",
   "metadata": {},
   "outputs": [],
   "source": [
    "train_loader = torch.utils.data.DataLoader(train,**train_kwargs)\n",
    "test_loader = torch.utils.data.DataLoader(test, **test_kwargs)"
   ]
  },
  {
   "cell_type": "code",
   "execution_count": 228,
   "id": "6b4fa8c9-90b7-42f6-b69f-b9da8923671f",
   "metadata": {},
   "outputs": [
    {
     "name": "stdout",
     "output_type": "stream",
     "text": [
      "torch.Size([256, 1, 28, 28]) torch.Size([256])\n"
     ]
    }
   ],
   "source": [
    "for x, y in train_loader:\n",
    "    print(x.shape, y.shape)\n",
    "    break"
   ]
  },
  {
   "cell_type": "code",
   "execution_count": 229,
   "id": "7d1c1463-dbbb-4d5a-a088-8b3676b0a638",
   "metadata": {},
   "outputs": [],
   "source": [
    "img, label = train[0]"
   ]
  },
  {
   "cell_type": "code",
   "execution_count": 230,
   "id": "cb7483d5-dd90-4e20-a014-86d0eca04be1",
   "metadata": {},
   "outputs": [
    {
     "data": {
      "text/plain": [
       "(torch.Size([1, 28, 28]), 5)"
      ]
     },
     "execution_count": 230,
     "metadata": {},
     "output_type": "execute_result"
    }
   ],
   "source": [
    "img.shape, label"
   ]
  },
  {
   "cell_type": "code",
   "execution_count": 232,
   "id": "3cde07d2-9101-437e-8503-57230d5b02da",
   "metadata": {},
   "outputs": [
    {
     "data": {
      "text/plain": [
       "torch.Size([28, 28])"
      ]
     },
     "execution_count": 232,
     "metadata": {},
     "output_type": "execute_result"
    }
   ],
   "source": [
    "image.squeeze().shape"
   ]
  },
  {
   "cell_type": "code",
   "execution_count": 231,
   "id": "f788c351-3613-47d3-9b93-347e64aa44a1",
   "metadata": {},
   "outputs": [
    {
     "name": "stdout",
     "output_type": "stream",
     "text": [
      "Image shape: torch.Size([1, 28, 28])\n"
     ]
    },
    {
     "data": {
      "image/png": "[encoded data removed]",
      "text/plain": [
       "<Figure size 640x480 with 1 Axes>"
      ]
     },
     "metadata": {},
     "output_type": "display_data"
    }
   ],
   "source": [
    "import matplotlib.pyplot as plt\n",
    "image, label = train[1]\n",
    "print(f\"Image shape: {image.shape}\")\n",
    "plt.imshow(image.squeeze()) # image shape is [1, 28, 28] (colour channels, height, width)\n",
    "plt.title(label);"
   ]
  },
  {
   "cell_type": "code",
   "execution_count": 17,
   "id": "539c83f3-7965-4ad1-a26d-387b9fc1a83d",
   "metadata": {},
   "outputs": [],
   "source": [
    "from autoencoder import vae_loss, VariationalAutoencoder"
   ]
  },
  {
   "cell_type": "code",
   "execution_count": 102,
   "id": "6808e3e4-0a9e-4d8d-bbcd-cee701c4bc32",
   "metadata": {},
   "outputs": [],
   "source": [
    "import torch\n",
    "import torch.nn as nn\n",
    "import wandb\n",
    "\n",
    "\n",
    "class ProtClassifier(VariationalAutoencoder):\n",
    "    def __init__(self, num_prototypes, num_classes, **kwds) -> None:\n",
    "\n",
    "        self.num_prototypes = num_prototypes\n",
    "        self.num_classes = num_classes\n",
    "\n",
    "        super().__init__(**kwds)\n",
    "        self.prototype_shape = (self.num_prototypes, self.latent_dims)\n",
    "        self.prototype_vectors = nn.Parameter(\n",
    "            torch.rand(self.prototype_shape), requires_grad=True\n",
    "        )\n",
    "        self.classifier = nn.Linear(\n",
    "            self.num_prototypes, self.num_classes, bias=False\n",
    "        )  # do not use bias\n",
    "        self.interpretablity_regularization_loss = 0\n",
    "        self.reg1 = 0.05\n",
    "        self.reg2 = 0.05\n",
    "        self.vae_reg = 0.5\n",
    "        self.classification_loss = nn.CrossEntropyLoss()\n",
    "\n",
    "    def prototype_distance(self, z: torch.Tensor):\n",
    "        return torch.cdist(z, self.prototype_vectors)\n",
    "\n",
    "    def feature_vector_distance(self, z: torch.Tensor):\n",
    "        return torch.cdist(self.prototype_vectors, z)\n",
    "\n",
    "    def forward(self, x):\n",
    "\n",
    "        z = self.encoder(x)\n",
    "\n",
    "        p_dist = self.prototype_distance(z)\n",
    "        f_dist = self.feature_vector_distance(z)\n",
    "        self.interpretablity_regularization_loss = self.reg1 * p_dist.min(\n",
    "            1\n",
    "        ).values.mean() + self.reg2 * f_dist.min(1).values.mean()\n",
    "\n",
    "        p_dist = p_dist.reshape(-1, self.num_prototypes)\n",
    "        logits = self.classifier(p_dist)\n",
    "        return self.decoder(z), logits\n",
    "\n",
    "\n",
    "def calculate_loss(x, x_hat, y, y_pred, model: ProtClassifier):\n",
    "    vae = vae_loss(x, x_hat, model.encoder.kl)\n",
    "    classification = model.classification_loss(y_pred, y)\n",
    "    loss = (\n",
    "        model.interpretablity_regularization_loss + model.vae_reg * vae + classification\n",
    "    )\n",
    "\n",
    "    return loss, vae, classification\n",
    "\n",
    "\n",
    "def train_step(model: ProtClassifier, data_loader, optimizer, device):\n",
    "    model.to(device)\n",
    "    overal_loss, overal_vae, overal_classification, ovarl_interpretablity = 0, 0, 0, 0\n",
    "    for x, y in data_loader:\n",
    "        # 1. Forward pass\n",
    "        x_hat, logits = model(x)\n",
    "\n",
    "        # 2. Calculate loss\n",
    "        loss, vae, classification = calculate_loss(x, x_hat, y, logits, model)\n",
    "        overal_loss += loss\n",
    "        overal_vae += vae\n",
    "        overal_classification += classification\n",
    "        ovarl_interpretablity += model.interpretablity_regularization_loss\n",
    "\n",
    "        # 3. Optimizer zero grad\n",
    "        optimizer.zero_grad()\n",
    "\n",
    "        # 4. Loss backward\n",
    "        loss.backward()\n",
    "\n",
    "        # 5. Optimizer step\n",
    "        optimizer.step()\n",
    "\n",
    "    overal_loss /= len(data_loader)\n",
    "    return overal_loss\n",
    "\n",
    "\n",
    "def test_step(data_loader, model, device):\n",
    "\n",
    "    overal_loss, overal_vae, overal_classification, ovarl_interpretablity = 0, 0, 0, 0\n",
    "    acc = 0\n",
    "    model.to(device)\n",
    "    model.eval()  # put model in eval mode\n",
    "\n",
    "    # Turn on inference context manager\n",
    "    with torch.inference_mode():\n",
    "        for x, y in data_loader:\n",
    "            x = x.to(device)\n",
    "            y = y.to(device)\n",
    "            h, w = x.shape[2:]\n",
    "            x = x.reshape(-1, h*w)\n",
    "            \n",
    "            # 1. Forward pass\n",
    "            x_hat, y_pred = model(x)\n",
    "\n",
    "            # 2. Calculate loss\n",
    "            loss, vae, classification = calculate_loss(x, x_hat, y, y_pred, model)\n",
    "            overal_loss += loss\n",
    "            overal_vae += vae\n",
    "            overal_classification += classification\n",
    "            ovarl_interpretablity += model.interpretablity_regularization_loss\n",
    "\n",
    "            # 2. Calculate loss and accuracy\n",
    "            # Calculate and accumulate accuracy\n",
    "            pred_labels = y_pred.argmax(dim=1)\n",
    "            acc += ((pred_labels == y).sum().item()/len(y))\n",
    "\n",
    "    return (\n",
    "        overal_loss / len(data_loader),\n",
    "        overal_vae / len(data_loader),\n",
    "        overal_classification / len(data_loader),\n",
    "        ovarl_interpretablity / len(data_loader),\n",
    "        acc/len(data_loader)\n",
    "    )\n"
   ]
  },
  {
   "cell_type": "code",
   "execution_count": 103,
   "id": "3f236ec3-4caa-4390-910b-8c10d3b37c1f",
   "metadata": {},
   "outputs": [
    {
     "name": "stdout",
     "output_type": "stream",
     "text": [
      "32\n"
     ]
    }
   ],
   "source": [
    "num_prototypes, num_classes = 10, 10\n",
    "input_dim, hidden_dim, latent_dims = 28*28, 64, 32\n",
    "model = ProtClassifier(num_prototypes=num_prototypes, num_classes=num_classes,\n",
    "                      input_dim=input_dim, hidden_dim=hidden_dim, latent_dims=latent_dims)"
   ]
  },
  {
   "cell_type": "code",
   "execution_count": 104,
   "id": "9c2f135c-3126-4c3a-bc2c-71d05241b2b8",
   "metadata": {},
   "outputs": [],
   "source": [
    "x, y = next(iter(train_loader))"
   ]
  },
  {
   "cell_type": "code",
   "execution_count": 105,
   "id": "0025e308-4d21-4ced-9fbc-fc0ad8db5cf7",
   "metadata": {},
   "outputs": [
    {
     "data": {
      "text/plain": [
       "ProtClassifier(\n",
       "  (encoder): VariationalEncoder(\n",
       "    (linear1): Linear(in_features=784, out_features=64, bias=True)\n",
       "    (linear2): Linear(in_features=64, out_features=32, bias=True)\n",
       "    (linear3): Linear(in_features=64, out_features=32, bias=True)\n",
       "  )\n",
       "  (decoder): Decoder(\n",
       "    (linear1): Linear(in_features=32, out_features=64, bias=True)\n",
       "    (linear2): Linear(in_features=64, out_features=784, bias=True)\n",
       "  )\n",
       "  (classifier): Linear(in_features=10, out_features=10, bias=False)\n",
       "  (classification_loss): CrossEntropyLoss()\n",
       ")"
      ]
     },
     "execution_count": 105,
     "metadata": {},
     "output_type": "execute_result"
    }
   ],
   "source": [
    "device = \"cuda\" if torch.cuda.is_available() else \"cpu\"\n",
    "x = x.to(device)\n",
    "model.to(device)"
   ]
  },
  {
   "cell_type": "code",
   "execution_count": 106,
   "id": "c9f3f2f9-4385-4320-a791-e471865f66b8",
   "metadata": {},
   "outputs": [],
   "source": [
    "x = x.reshape(-1, 28*28)"
   ]
  },
  {
   "cell_type": "code",
   "execution_count": 107,
   "id": "c0d7f996-9a4c-457d-8654-c8230774e45e",
   "metadata": {},
   "outputs": [],
   "source": [
    "y = y.to(device)"
   ]
  },
  {
   "cell_type": "code",
   "execution_count": 108,
   "id": "ab8b584c-6a21-43c1-b03a-8cb7fbd3f676",
   "metadata": {},
   "outputs": [
    {
     "data": {
      "text/plain": [
       "(tensor(126799.0859, device='cuda:0'),\n",
       " tensor(253576.9844, device='cuda:0'),\n",
       " tensor(10.0109, device='cuda:0'),\n",
       " tensor(0.5680, device='cuda:0'),\n",
       " 0.106640625)"
      ]
     },
     "execution_count": 108,
     "metadata": {},
     "output_type": "execute_result"
    }
   ],
   "source": [
    "test_step(test_loader, model, device)"
   ]
  },
  {
   "cell_type": "code",
   "execution_count": 84,
   "id": "49d0f5ac-3604-4b90-930b-c8e5e94fb271",
   "metadata": {},
   "outputs": [],
   "source": [
    "h, w = x.shape"
   ]
  },
  {
   "cell_type": "code",
   "execution_count": 85,
   "id": "45d38ad4-13bd-456f-aa56-293310b58b77",
   "metadata": {},
   "outputs": [
    {
     "data": {
      "text/plain": [
       "(256, 784)"
      ]
     },
     "execution_count": 85,
     "metadata": {},
     "output_type": "execute_result"
    }
   ],
   "source": [
    "h, w"
   ]
  },
  {
   "cell_type": "code",
   "execution_count": 94,
   "id": "b3c502a3-4a89-40fe-8b0f-af425db9c215",
   "metadata": {},
   "outputs": [
    {
     "name": "stdout",
     "output_type": "stream",
     "text": [
      "torch.Size([28, 28])\n"
     ]
    }
   ],
   "source": [
    "for x, y in test_loader:\n",
    "    print(x.shape[2:])\n",
    "    break"
   ]
  },
  {
   "cell_type": "code",
   "execution_count": 110,
   "id": "62424c71-2e57-4077-b530-ac062fbad275",
   "metadata": {},
   "outputs": [
    {
     "name": "stdout",
     "output_type": "stream",
     "text": [
      "{1: 2}\n"
     ]
    }
   ],
   "source": [
    "def get_dict():\n",
    "    return {1:2}\n",
    "\n",
    "\n",
    "\n",
    "a = get_dict()\n",
    "b = get_dict()\n",
    "a[1]=4\n",
    "print(b)"
   ]
  },
  {
   "cell_type": "code",
   "execution_count": 112,
   "id": "c92716a3-2e03-4e82-b75b-b07ce25d7729",
   "metadata": {},
   "outputs": [
    {
     "ename": "TypeError",
     "evalue": "'set' object does not support item assignment",
     "output_type": "error",
     "traceback": [
      "\u001b[0;31m---------------------------------------------------------------------------\u001b[0m",
      "\u001b[0;31mTypeError\u001b[0m                                 Traceback (most recent call last)",
      "Cell \u001b[0;32mIn[112], line 3\u001b[0m\n\u001b[1;32m      1\u001b[0m a \u001b[38;5;241m=\u001b[39m {\u001b[38;5;124m\"\u001b[39m\u001b[38;5;124ma\u001b[39m\u001b[38;5;124m\"\u001b[39m}\n\u001b[1;32m      2\u001b[0m \u001b[38;5;28;01mfor\u001b[39;00m key \u001b[38;5;129;01min\u001b[39;00m a:\n\u001b[0;32m----> 3\u001b[0m     \u001b[43ma\u001b[49m\u001b[43m[\u001b[49m\u001b[43mkey\u001b[49m\u001b[43m]\u001b[49m\u001b[38;5;241m=\u001b[39m\u001b[38;5;241m0\u001b[39m\n",
      "\u001b[0;31mTypeError\u001b[0m: 'set' object does not support item assignment"
     ]
    }
   ],
   "source": [
    "a = {\"a\"}\n",
    "for key in a:\n",
    "    a[key]=0"
   ]
  },
  {
   "cell_type": "code",
   "execution_count": 143,
   "id": "0a535e77-20b8-4919-b49d-a4f24ba0ded3",
   "metadata": {},
   "outputs": [],
   "source": [
    "class PrototypeLoss:\n",
    "    def __init__(self) -> None:\n",
    "        self.vae, self.classification, self.interpretablity = 0, 0, 0\n",
    "        self.loss = 0\n",
    "\n",
    "    def calculate(self, x, x_hat, y, y_pred, model: ProtClassifier):\n",
    "        self.vae = vae_loss(x, x_hat, model.encoder.kl)\n",
    "        self.classification = model.classification_loss(y_pred, y)\n",
    "        self.loss = (\n",
    "            model.interpretablity_regularization_loss\n",
    "            + model.vae_reg * self.vae\n",
    "            + self.classification\n",
    "        )\n",
    "\n",
    "    def __add__(self, l):\n",
    "        new_loss = PrototypeLoss()\n",
    "        new_loss.vae = self.vae + l.vae\n",
    "        new_loss.classification = self.classification + l.classification\n",
    "        new_loss.interpretablity = self.interpretablity + l.interpretablity\n",
    "        new_loss.loss = self.loss + l.loss\n",
    "        return new_loss\n",
    "\n",
    "    def normalize(self, data_loader_size):\n",
    "        self.vae /= data_loader_size\n",
    "        self.classification /= data_loader_size\n",
    "        self.interpretablity /= data_loader_size\n",
    "        self.loss /= data_loader_size"
   ]
  },
  {
   "cell_type": "code",
   "execution_count": 210,
   "id": "c06e74b6-289f-4004-8cf8-43c5673962cb",
   "metadata": {},
   "outputs": [],
   "source": [
    "import torch\n",
    "import torch.nn as nn\n",
    "import wandb\n",
    "from autoencoder import vae_loss, VariationalAutoencoder, get_device\n",
    "\n",
    "\n",
    "from torchvision import datasets, transforms\n",
    "import torch.optim as optim\n",
    "import time\n",
    "from tqdm.auto import tqdm\n",
    "\n",
    "\n",
    "class ProtClassifier(VariationalAutoencoder):\n",
    "    def __init__(self, num_prototypes, num_classes, **kwds) -> None:\n",
    "\n",
    "        self.num_prototypes = num_prototypes\n",
    "        self.num_classes = num_classes\n",
    "\n",
    "        super().__init__(**kwds)\n",
    "        self.prototype_shape = (self.num_prototypes, self.latent_dims)\n",
    "        self.prototype_vectors = nn.Parameter(\n",
    "            torch.rand(self.prototype_shape), requires_grad=True\n",
    "        )\n",
    "        self.classifier = nn.Linear(\n",
    "            self.num_prototypes, self.num_classes, bias=False\n",
    "        )  # do not use bias\n",
    "        self.reg1 = 0.05\n",
    "        self.reg2 = 0.05\n",
    "        self.vae_reg = 0.5\n",
    "        self.classification_loss = nn.CrossEntropyLoss()\n",
    "\n",
    "    def prototype_distance(self, z: torch.Tensor):\n",
    "        return torch.cdist(z, self.prototype_vectors)\n",
    "\n",
    "    def feature_vector_distance(self, z: torch.Tensor):\n",
    "        return torch.cdist(self.prototype_vectors, z)\n",
    "\n",
    "    def forward(self, x):\n",
    "        z = self.encoder(x)\n",
    "        p_dist = self.prototype_distance(z)\n",
    "        p_dist = p_dist.reshape(-1, self.num_prototypes)\n",
    "        logits = self.classifier(p_dist)\n",
    "        return z, self.decoder(z), logits\n",
    "\n",
    "    def calculate_interpretablity_loss(self, z):\n",
    "        p_dist = self.prototype_distance(z)\n",
    "        f_dist = self.feature_vector_distance(z)\n",
    "        return (\n",
    "            self.reg1 * p_dist.min(1).values.mean()\n",
    "            + self.reg2 * f_dist.min(1).values.mean()\n",
    "        )\n",
    "\n",
    "\n",
    "class PrototypeLoss:\n",
    "    def __init__(self) -> None:\n",
    "        self.vae, self.classification, self.interpretablity = 0, 0, 0\n",
    "        self.loss = 0\n",
    "\n",
    "    def calculate(self, x, x_hat, z, y, y_pred, model: ProtClassifier):\n",
    "        self.vae = vae_loss(x, x_hat, model.encoder.kl)\n",
    "        self.classification = model.classification_loss(y_pred, y)\n",
    "        self.interpretablity = model.calculate_interpretablity_loss(z)\n",
    "        self.loss = (\n",
    "            self.interpretablity + model.vae_reg * self.vae + self.classification\n",
    "        )\n",
    "\n",
    "    def __add__(self, l):\n",
    "        new_loss = PrototypeLoss()\n",
    "        new_loss.vae = self.vae + l.vae\n",
    "        new_loss.classification = self.classification + l.classification\n",
    "        new_loss.interpretablity = self.interpretablity + l.interpretablity\n",
    "        new_loss.loss = self.loss + l.loss\n",
    "        return new_loss\n",
    "\n",
    "    def normalize(self, data_loader_size):\n",
    "        self.vae /= data_loader_size\n",
    "        self.classification /= data_loader_size\n",
    "        self.interpretablity /= data_loader_size\n",
    "        self.loss /= data_loader_size\n",
    "\n",
    "\n",
    "def train_step(model: ProtClassifier, data_loader, optimizer, device):\n",
    "    model.to(device)\n",
    "\n",
    "    overal_loss = PrototypeLoss()\n",
    "\n",
    "    for x, y in data_loader:\n",
    "        # 1. Forward pass\n",
    "        x, y = x.to(device), y.to(device)\n",
    "        h, w = x.shape[2:]\n",
    "        x = x.reshape(-1, h * w)\n",
    "        z, x_hat, logits = model.forward(x)\n",
    "\n",
    "        # 2. Calculate loss\n",
    "        batch_loss = PrototypeLoss()\n",
    "        batch_loss.calculate(x, x_hat, z, y, logits, model)\n",
    "        overal_loss += batch_loss\n",
    "\n",
    "        # 3. Optimizer zero grad\n",
    "        optimizer.zero_grad()\n",
    "\n",
    "        # 4. Loss backward\n",
    "        batch_loss.loss.backward()\n",
    "\n",
    "        # 5. Optimizer step\n",
    "        optimizer.step()\n",
    "    overal_loss.normalize(len(data_loader))\n",
    "    return overal_loss.__dict__\n",
    "\n",
    "\n",
    "def test_step(data_loader, model, device):\n",
    "\n",
    "    test_loss = PrototypeLoss()\n",
    "    acc = 0\n",
    "    model.to(device)\n",
    "    model.eval()  # put model in eval mode\n",
    "\n",
    "    # Turn on inference context manager\n",
    "    with torch.inference_mode():\n",
    "        for x, y in data_loader:\n",
    "            x = x.to(device)\n",
    "            y = y.to(device)\n",
    "            h, w = x.shape[2:]\n",
    "            x = x.reshape(-1, h * w)\n",
    "\n",
    "            # 1. Forward pass\n",
    "            z, x_hat, y_pred = model(x)\n",
    "\n",
    "            # 2. Calculate loss\n",
    "            batch_loss = PrototypeLoss()\n",
    "            batch_loss.calculate(x, x_hat, z, y, y_pred, model)\n",
    "            test_loss += batch_loss\n",
    "\n",
    "            # 2. Calculate loss and accuracy\n",
    "            # Calculate and accumulate accuracy\n",
    "            pred_labels = y_pred.argmax(dim=1)\n",
    "            acc += (pred_labels == y).sum().item() / len(y)\n",
    "        test_loss.normalize(len(data_loader))\n",
    "    return test_loss.__dict__\n",
    "\n",
    "\n",
    "def get_home():\n",
    "    return \"/home/icb/fatemehs.hashemig\"\n",
    "\n",
    "\n",
    "def load_data():\n",
    "    # load data\n",
    "    batch_size = 16\n",
    "    transform = transforms.Compose(\n",
    "        [transforms.ToTensor(), transforms.Normalize((0.1307,), (0.3081,))]\n",
    "    )\n",
    "\n",
    "    home = get_home()\n",
    "    data_path = f\"{home}/data\"\n",
    "    train = datasets.MNIST(data_path, train=True, transform=transform)\n",
    "    test = datasets.MNIST(data_path, train=False, transform=transform)\n",
    "    train_kwargs = {\"batch_size\": batch_size}\n",
    "    test_kwargs = {\"batch_size\": batch_size}\n",
    "\n",
    "    use_cuda = torch.cuda.is_available()\n",
    "    if use_cuda:\n",
    "        cuda_kwargs = {\"num_workers\": 1, \"pin_memory\": True, \"shuffle\": True}\n",
    "        train_kwargs.update(cuda_kwargs)\n",
    "        test_kwargs.update(cuda_kwargs)\n",
    "    train_loader = torch.utils.data.DataLoader(train, **train_kwargs)\n",
    "    test_loader = torch.utils.data.DataLoader(test, **test_kwargs)\n",
    "    return train_loader, test_loader\n",
    "\n",
    "\n",
    "def add_prefix_key(dict, prefix):\n",
    "    new_dict = {}\n",
    "    for key in dict:\n",
    "        new_dict[f\"{prefix}_{key}\"] = dict[key]\n",
    "    return new_dict\n",
    "\n"
   ]
  },
  {
   "cell_type": "code",
   "execution_count": 212,
   "id": "e18627fc-ea4e-4331-940e-e24db386b586",
   "metadata": {},
   "outputs": [
    {
     "data": {
      "text/html": [
       "Finishing last run (ID:yvf81vn6) before initializing another..."
      ],
      "text/plain": [
       "<IPython.core.display.HTML object>"
      ]
     },
     "metadata": {},
     "output_type": "display_data"
    },
    {
     "name": "stderr",
     "output_type": "stream",
     "text": [
      "wandb: WARNING Source type is set to 'repo' but some required information is missing from the environment. A job will not be created from this run. See https://docs.wandb.ai/guides/launch/create-job\n"
     ]
    },
    {
     "data": {
      "text/html": [
       "<style>\n",
       "    table.wandb td:nth-child(1) { padding: 0 10px; text-align: left ; width: auto;} td:nth-child(2) {text-align: left ; width: 100%}\n",
       "    .wandb-row { display: flex; flex-direction: row; flex-wrap: wrap; justify-content: flex-start; width: 100% }\n",
       "    .wandb-col { display: flex; flex-direction: column; flex-basis: 100%; flex: 1; padding: 10px; }\n",
       "    </style>\n",
       "<div class=\"wandb-row\"><div class=\"wandb-col\"><h3>Run history:</h3><br/><table class=\"wandb\"><tr><td>epoch</td><td>▁</td></tr><tr><td>test_classification</td><td>█▁▅</td></tr><tr><td>test_interpretablity</td><td>▁█▇</td></tr><tr><td>test_loss</td><td>█▇▁</td></tr><tr><td>test_vae</td><td>█▇▁</td></tr><tr><td>train_classification</td><td>█▁▅</td></tr><tr><td>train_interpretablity</td><td>█▆▁</td></tr><tr><td>train_loss</td><td>█▇▁</td></tr><tr><td>train_vae</td><td>█▇▁</td></tr></table><br/></div><div class=\"wandb-col\"><h3>Run summary:</h3><br/><table class=\"wandb\"><tr><td>epoch</td><td>0</td></tr><tr><td>test_classification</td><td>1.16807</td></tr><tr><td>test_interpretablity</td><td>0.42378</td></tr><tr><td>test_loss</td><td>4265.49072</td></tr><tr><td>test_vae</td><td>8527.79395</td></tr><tr><td>train_classification</td><td>1.47397</td></tr><tr><td>train_interpretablity</td><td>0.41702</td></tr><tr><td>train_loss</td><td>4371.43262</td></tr><tr><td>train_vae</td><td>8739.07812</td></tr></table><br/></div></div>"
      ],
      "text/plain": [
       "<IPython.core.display.HTML object>"
      ]
     },
     "metadata": {},
     "output_type": "display_data"
    },
    {
     "data": {
      "text/html": [
       " View run <strong style=\"color:#cdcd00\">beaming-snake-26</strong> at: <a href='https://wandb.ai/fatemehs-hashemig/interpretable-ssl/runs/yvf81vn6' target=\"_blank\">https://wandb.ai/fatemehs-hashemig/interpretable-ssl/runs/yvf81vn6</a><br/>Synced 6 W&B file(s), 0 media file(s), 0 artifact file(s) and 0 other file(s)"
      ],
      "text/plain": [
       "<IPython.core.display.HTML object>"
      ]
     },
     "metadata": {},
     "output_type": "display_data"
    },
    {
     "data": {
      "text/html": [
       "Find logs at: <code>./wandb/run-20240222_135626-yvf81vn6/logs</code>"
      ],
      "text/plain": [
       "<IPython.core.display.HTML object>"
      ]
     },
     "metadata": {},
     "output_type": "display_data"
    },
    {
     "data": {
      "text/html": [
       "Successfully finished last run (ID:yvf81vn6). Initializing new run:<br/>"
      ],
      "text/plain": [
       "<IPython.core.display.HTML object>"
      ]
     },
     "metadata": {},
     "output_type": "display_data"
    },
    {
     "data": {
      "text/html": [
       "wandb version 0.16.3 is available!  To upgrade, please run:\n",
       " $ pip install wandb --upgrade"
      ],
      "text/plain": [
       "<IPython.core.display.HTML object>"
      ]
     },
     "metadata": {},
     "output_type": "display_data"
    },
    {
     "data": {
      "text/html": [
       "Tracking run with wandb version 0.16.2"
      ],
      "text/plain": [
       "<IPython.core.display.HTML object>"
      ]
     },
     "metadata": {},
     "output_type": "display_data"
    },
    {
     "data": {
      "text/html": [
       "Run data is saved locally in <code>/home/icb/fatemehs.hashemig/codes/interpretable-ssl/wandb/run-20240222_142707-1s49ou9q</code>"
      ],
      "text/plain": [
       "<IPython.core.display.HTML object>"
      ]
     },
     "metadata": {},
     "output_type": "display_data"
    },
    {
     "data": {
      "text/html": [
       "Syncing run <strong><a href='https://wandb.ai/fatemehs-hashemig/interpretable-ssl/runs/1s49ou9q' target=\"_blank\">lambent-rat-27</a></strong> to <a href='https://wandb.ai/fatemehs-hashemig/interpretable-ssl' target=\"_blank\">Weights & Biases</a> (<a href='https://wandb.me/run' target=\"_blank\">docs</a>)<br/>"
      ],
      "text/plain": [
       "<IPython.core.display.HTML object>"
      ]
     },
     "metadata": {},
     "output_type": "display_data"
    },
    {
     "data": {
      "text/html": [
       " View project at <a href='https://wandb.ai/fatemehs-hashemig/interpretable-ssl' target=\"_blank\">https://wandb.ai/fatemehs-hashemig/interpretable-ssl</a>"
      ],
      "text/plain": [
       "<IPython.core.display.HTML object>"
      ]
     },
     "metadata": {},
     "output_type": "display_data"
    },
    {
     "data": {
      "text/html": [
       " View run at <a href='https://wandb.ai/fatemehs-hashemig/interpretable-ssl/runs/1s49ou9q' target=\"_blank\">https://wandb.ai/fatemehs-hashemig/interpretable-ssl/runs/1s49ou9q</a>"
      ],
      "text/plain": [
       "<IPython.core.display.HTML object>"
      ]
     },
     "metadata": {},
     "output_type": "display_data"
    },
    {
     "data": {
      "text/html": [
       "<button onClick=\"this.nextSibling.style.display='block';this.style.display='none';\">Display W&B run</button><iframe src='https://wandb.ai/fatemehs-hashemig/interpretable-ssl/runs/1s49ou9q?jupyter=true' style='border:none;width:100%;height:420px;display:none;'></iframe>"
      ],
      "text/plain": [
       "<wandb.sdk.wandb_run.Run at 0x7f37a4465390>"
      ]
     },
     "execution_count": 212,
     "metadata": {},
     "output_type": "execute_result"
    }
   ],
   "source": [
    "# init wandb\n",
    "wandb.init(\n",
    "    # set the wandb project where this run will be logged\n",
    "    project=\"interpretable-ssl\",\n",
    "    # track hyperparameters and run metadata\n",
    "    config={\n",
    "        \"model\": \"mnist-protoype-classifier\",\n",
    "        \"num_prototypes\": num_prototypes,\n",
    "        \"hidden dim\": hidden_dim,\n",
    "        \"latent_dims\": latent_dims,\n",
    "        \"epochs\": epochs,\n",
    "        \"device\": device,\n",
    "        \"model path\": model_path,\n",
    "    },\n",
    ")"
   ]
  },
  {
   "cell_type": "code",
   "execution_count": 213,
   "id": "409d7372-5665-433d-bca0-66a79e439789",
   "metadata": {},
   "outputs": [
    {
     "name": "stdout",
     "output_type": "stream",
     "text": [
      "cuda\n",
      "32\n",
      "start training\n"
     ]
    },
    {
     "name": "stderr",
     "output_type": "stream",
     "text": [
      "100%|██████████| 100/100 [25:02<00:00, 15.03s/it]"
     ]
    },
    {
     "name": "stdout",
     "output_type": "stream",
     "text": [
      "training took 1502.7502760887146 seconds\n"
     ]
    },
    {
     "name": "stderr",
     "output_type": "stream",
     "text": [
      "\n"
     ]
    }
   ],
   "source": [
    "device = get_device()\n",
    "print(device)\n",
    "\n",
    "# laod data\n",
    "train_loader, test_loader = load_data()\n",
    "\n",
    "# define model\n",
    "num_prototypes, num_classes = 10, 10\n",
    "input_dim, hidden_dim, latent_dims = 28 * 28, 64, 32\n",
    "model = ProtClassifier(\n",
    "    num_prototypes=num_prototypes,\n",
    "    num_classes=num_classes,\n",
    "    input_dim=input_dim,\n",
    "    hidden_dim=hidden_dim,\n",
    "    latent_dims=latent_dims,\n",
    ")\n",
    "# init training parameters\n",
    "epochs = 100\n",
    "\n",
    "optimizer = optim.Adam(model.parameters(), lr=0.003)\n",
    "model_path = get_home() + \"/models/prototype-classifier.pth\"\n",
    "best_test_loss = 100000\n",
    "print(\"start training\")\n",
    "st = time.time()\n",
    "for epoch in tqdm(range(epochs)):\n",
    "    train_loss = train_step(model, train_loader, optimizer, device)\n",
    "    train_loss_dict = add_prefix_key(train_loss, 'train')\n",
    "    \n",
    "\n",
    "\n",
    "    if epoch%5 == 0:\n",
    "        test_loss = test_step(test_loader, model, device)\n",
    "        test_loss_dict = add_prefix_key(test_loss, 'test')\n",
    "    \n",
    "        train_loss_dict.update(test_loss_dict)\n",
    "        train_loss_dict['epoch'] = epoch\n",
    "        wandb.log(train_loss_dict)\n",
    "\n",
    "print(f\"training took {time.time() - st} seconds\")\n"
   ]
  },
  {
   "cell_type": "code",
   "execution_count": 214,
   "id": "e84bc1fc-9442-4089-a656-eeed2a60b732",
   "metadata": {},
   "outputs": [
    {
     "name": "stderr",
     "output_type": "stream",
     "text": [
      "100%|██████████| 100/100 [25:39<00:00, 15.39s/it]\n"
     ]
    }
   ],
   "source": [
    "for epoch in tqdm(range(epochs)):\n",
    "    train_loss = train_step(model, train_loader, optimizer, device)\n",
    "    train_loss_dict = add_prefix_key(train_loss, 'train')\n",
    "    \n",
    "\n",
    "\n",
    "    if (epoch+10)%5 == 0:\n",
    "        test_loss = test_step(test_loader, model, device)\n",
    "        test_loss_dict = add_prefix_key(test_loss, 'test')\n",
    "    \n",
    "        train_loss_dict.update(test_loss_dict)\n",
    "        train_loss_dict['epoch'] = epoch + 10\n",
    "        wandb.log(train_loss_dict)"
   ]
  },
  {
   "cell_type": "code",
   "execution_count": 217,
   "id": "68596116-a0ea-4e10-b29e-3e2f85002122",
   "metadata": {},
   "outputs": [],
   "source": [
    "p_decode = model.decoder(model.prototype_vectors)"
   ]
  },
  {
   "cell_type": "code",
   "execution_count": 220,
   "id": "2ae133ae-638d-4f36-8b6d-e3183fc0c561",
   "metadata": {},
   "outputs": [],
   "source": [
    "p_decode = p_decode.reshape(10, 28, 28)"
   ]
  },
  {
   "cell_type": "code",
   "execution_count": 233,
   "id": "e5bc479c-32fc-4a40-a40c-43d1458744b9",
   "metadata": {},
   "outputs": [
    {
     "data": {
      "text/plain": [
       "torch.Size([28, 28])"
      ]
     },
     "execution_count": 233,
     "metadata": {},
     "output_type": "execute_result"
    }
   ],
   "source": [
    "p_decode[0].shape"
   ]
  },
  {
   "cell_type": "code",
   "execution_count": 243,
   "id": "34f25be6-52da-43b0-bc7e-8eb32a0419f1",
   "metadata": {},
   "outputs": [
    {
     "name": "stdout",
     "output_type": "stream",
     "text": [
      "Image shape: (28, 28)\n",
      "Image shape: (28, 28)\n",
      "Image shape: (28, 28)\n",
      "Image shape: (28, 28)\n",
      "Image shape: (28, 28)\n",
      "Image shape: (28, 28)\n",
      "Image shape: (28, 28)\n",
      "Image shape: (28, 28)\n",
      "Image shape: (28, 28)\n",
      "Image shape: (28, 28)\n"
     ]
    },
    {
     "data": {
      "image/png": "[encoded data removed]",
      "text/plain": [
       "<Figure size 640x480 with 1 Axes>"
      ]
     },
     "metadata": {},
     "output_type": "display_data"
    },
    {
     "data": {
      "image/png": "[encoded data removed]",
      "text/plain": [
       "<Figure size 640x480 with 1 Axes>"
      ]
     },
     "metadata": {},
     "output_type": "display_data"
    },
    {
     "data": {
      "image/png": "[encoded data removed]",
      "text/plain": [
       "<Figure size 640x480 with 1 Axes>"
      ]
     },
     "metadata": {},
     "output_type": "display_data"
    },
    {
     "data": {
      "image/png": "[encoded data removed]",
      "text/plain": [
       "<Figure size 640x480 with 1 Axes>"
      ]
     },
     "metadata": {},
     "output_type": "display_data"
    },
    {
     "data": {
      "image/png": "[encoded data removed]",
      "text/plain": [
       "<Figure size 640x480 with 1 Axes>"
      ]
     },
     "metadata": {},
     "output_type": "display_data"
    },
    {
     "data": {
      "image/png": "[encoded data removed]",
      "text/plain": [
       "<Figure size 640x480 with 1 Axes>"
      ]
     },
     "metadata": {},
     "output_type": "display_data"
    },
    {
     "data": {
      "image/png": "[encoded data removed]",
      "text/plain": [
       "<Figure size 640x480 with 1 Axes>"
      ]
     },
     "metadata": {},
     "output_type": "display_data"
    },
    {
     "data": {
      "image/png": "[encoded data removed]",
      "text/plain": [
       "<Figure size 640x480 with 1 Axes>"
      ]
     },
     "metadata": {},
     "output_type": "display_data"
    },
    {
     "data": {
      "image/png": "[encoded data removed]",
      "text/plain": [
       "<Figure size 640x480 with 1 Axes>"
      ]
     },
     "metadata": {},
     "output_type": "display_data"
    },
    {
     "data": {
      "image/png": "[encoded data removed]",
      "text/plain": [
       "<Figure size 640x480 with 1 Axes>"
      ]
     },
     "metadata": {},
     "output_type": "display_data"
    }
   ],
   "source": [
    "import matplotlib.pyplot as plt\n",
    "for i in range(10):\n",
    "    image, label = p_decode[i].to('cpu').detach().numpy(), 'p1'\n",
    "    plt.figure()\n",
    "    print(f\"Image shape: {image.shape}\")\n",
    "    plt.imshow(image) # image shape is [1, 28, 28] (colour channels, height, width)\n",
    "    plt.title(label);"
   ]
  },
  {
   "cell_type": "code",
   "execution_count": null,
   "id": "79e60d11-f51d-4a28-a420-d7e5216f9a83",
   "metadata": {},
   "outputs": [],
   "source": []
  }
 ],
 "metadata": {
  "kernelspec": {
   "display_name": "Python 3 (ipykernel)",
   "language": "python",
   "name": "python3"
  },
  "language_info": {
   "codemirror_mode": {
    "name": "ipython",
    "version": 3
   },
   "file_extension": ".py",
   "mimetype": "text/x-python",
   "name": "python",
   "nbconvert_exporter": "python",
   "pygments_lexer": "ipython3",
   "version": "3.11.8"
  }
 },
 "nbformat": 4,
 "nbformat_minor": 5
}
