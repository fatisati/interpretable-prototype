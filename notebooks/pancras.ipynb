{
 "cells": [
  {
   "cell_type": "code",
   "execution_count": 70,
   "id": "cde13ba7-ef46-419f-baff-7448e0f846f5",
   "metadata": {},
   "outputs": [
    {
     "name": "stdout",
     "output_type": "stream",
     "text": [
      "loading data\n"
     ]
    }
   ],
   "source": [
    "from interpretable_ssl.pancras.train.train import *\n",
    "\n",
    "pancras_trainer = PancrasTrainer(split_study=True)"
   ]
  },
  {
   "cell_type": "code",
   "execution_count": 71,
   "id": "8c856476-8d13-4991-9161-4eda79567a22",
   "metadata": {},
   "outputs": [],
   "source": [
    "trainer = pancras_trainer"
   ]
  },
  {
   "cell_type": "code",
   "execution_count": 72,
   "id": "3a88955b-2eda-420e-be9e-1944deb64595",
   "metadata": {},
   "outputs": [],
   "source": [
    "trainer.batch_size = 32\n",
    "trainer.hidden_dim = 16\n",
    "trainer.num_prototypes = 16\n",
    "model = trainer.get_model()"
   ]
  },
  {
   "cell_type": "code",
   "execution_count": 73,
   "id": "10261fbd-a4ca-4ee9-80f7-ebb7166eb12e",
   "metadata": {},
   "outputs": [
    {
     "data": {
      "text/plain": [
       "ProtClassifier(\n",
       "  (encoder): VariationalEncoder(\n",
       "    (linear1): Linear(in_features=4000, out_features=16, bias=True)\n",
       "    (linear2): Linear(in_features=16, out_features=8, bias=True)\n",
       "    (linear3): Linear(in_features=16, out_features=8, bias=True)\n",
       "    (bn1): BatchNorm1d(16, eps=1e-05, momentum=0.1, affine=True, track_running_stats=True)\n",
       "    (bn2): BatchNorm1d(8, eps=1e-05, momentum=0.1, affine=True, track_running_stats=True)\n",
       "    (bn3): BatchNorm1d(8, eps=1e-05, momentum=0.1, affine=True, track_running_stats=True)\n",
       "  )\n",
       "  (decoder): Decoder(\n",
       "    (linear1): Linear(in_features=8, out_features=16, bias=True)\n",
       "    (linear2): Linear(in_features=16, out_features=4000, bias=True)\n",
       "    (bn1): BatchNorm1d(16, eps=1e-05, momentum=0.1, affine=True, track_running_stats=True)\n",
       "    (bn2): BatchNorm1d(4000, eps=1e-05, momentum=0.1, affine=True, track_running_stats=True)\n",
       "  )\n",
       "  (classifier): Linear(in_features=16, out_features=14, bias=False)\n",
       "  (classification_loss): CrossEntropyLoss()\n",
       ")"
      ]
     },
     "execution_count": 73,
     "metadata": {},
     "output_type": "execute_result"
    }
   ],
   "source": [
    "import torch\n",
    "model_path = '/home/icb/fatemehs.hashemig/models//pancras/split-study_num-prot-16_hidden-16_bs-32.pth'\n",
    "model.load_state_dict(torch.load(model_path)[\"model_state_dict\"])\n",
    "model.to(trainer.device)"
   ]
  },
  {
   "cell_type": "code",
   "execution_count": 74,
   "id": "c114f99d-a309-491a-9638-5d1058757821",
   "metadata": {},
   "outputs": [],
   "source": [
    "list_of_classes = list(range(trainer.dataset.num_classes))"
   ]
  },
  {
   "cell_type": "code",
   "execution_count": 75,
   "id": "1f5a894a-3ddb-45b2-a7c3-ad6879d2359a",
   "metadata": {},
   "outputs": [],
   "source": [
    "train, test = trainer.dataset.get_train_test()"
   ]
  },
  {
   "cell_type": "code",
   "execution_count": 76,
   "id": "d25922e6-c9f3-446b-91d6-dcd7f0e54d0e",
   "metadata": {},
   "outputs": [],
   "source": [
    "from torch.utils.data import DataLoader\n",
    "\n",
    "test_loader = DataLoader(test, batch_size = len(test), shuffle=False)\n"
   ]
  },
  {
   "cell_type": "code",
   "execution_count": 77,
   "id": "e77cf689-5d12-4f3e-adf1-2a1663a25204",
   "metadata": {},
   "outputs": [],
   "source": [
    "x, y = next(iter(test_loader))"
   ]
  },
  {
   "cell_type": "code",
   "execution_count": 78,
   "id": "9b6fb8fb-8d92-4654-84bd-8fffd3e39f3f",
   "metadata": {},
   "outputs": [],
   "source": [
    "z, latent, logits = model(x)"
   ]
  },
  {
   "cell_type": "code",
   "execution_count": 79,
   "id": "5136d48e-7bbf-441d-b243-ebcd1de0c80c",
   "metadata": {},
   "outputs": [],
   "source": [
    "preds = logits.argmax(dim=1)"
   ]
  },
  {
   "cell_type": "code",
   "execution_count": 96,
   "id": "f0d824b0-e26c-4839-b0f8-53e0bdefeebe",
   "metadata": {},
   "outputs": [
    {
     "name": "stderr",
     "output_type": "stream",
     "text": [
      "/home/icb/fatemehs.hashemig/miniconda3/envs/scanpy-gpu/lib/python3.11/site-packages/sklearn/metrics/_classification.py:1497: UndefinedMetricWarning: Precision is ill-defined and being set to 0.0 in labels with no predicted samples. Use `zero_division` parameter to control this behavior.\n",
      "  _warn_prf(average, modifier, f\"{metric.capitalize()} is\", len(result))\n",
      "/home/icb/fatemehs.hashemig/miniconda3/envs/scanpy-gpu/lib/python3.11/site-packages/sklearn/metrics/_classification.py:1497: UndefinedMetricWarning: Precision is ill-defined and being set to 0.0 in labels with no predicted samples. Use `zero_division` parameter to control this behavior.\n",
      "  _warn_prf(average, modifier, f\"{metric.capitalize()} is\", len(result))\n",
      "/home/icb/fatemehs.hashemig/miniconda3/envs/scanpy-gpu/lib/python3.11/site-packages/sklearn/metrics/_classification.py:1497: UndefinedMetricWarning: Precision is ill-defined and being set to 0.0 in labels with no predicted samples. Use `zero_division` parameter to control this behavior.\n",
      "  _warn_prf(average, modifier, f\"{metric.capitalize()} is\", len(result))\n"
     ]
    }
   ],
   "source": [
    "report = classification_report(y.cpu(), preds.cpu(), output_dict=True)"
   ]
  },
  {
   "cell_type": "code",
   "execution_count": 97,
   "id": "13ec03ca-a514-474f-9e5f-454a58f04e91",
   "metadata": {},
   "outputs": [
    {
     "data": {
      "text/plain": [
       "dict"
      ]
     },
     "execution_count": 97,
     "metadata": {},
     "output_type": "execute_result"
    }
   ],
   "source": [
    "type(report)"
   ]
  },
  {
   "cell_type": "code",
   "execution_count": 98,
   "id": "d900b4a0-d258-4693-b0a6-310e91f0f4f0",
   "metadata": {},
   "outputs": [],
   "source": [
    "import pandas as pd\n",
    "df = pd.DataFrame(report)\n"
   ]
  },
  {
   "cell_type": "code",
   "execution_count": 196,
   "id": "35319e75-0692-4fe5-9d72-f85f399e3f20",
   "metadata": {},
   "outputs": [
    {
     "name": "stdout",
     "output_type": "stream",
     "text": [
      "tensor(804, device='cuda:0')\n",
      "tensor(831, device='cuda:0')\n",
      "tensor(817, device='cuda:0')\n",
      "tensor(807, device='cuda:0')\n",
      "tensor(817, device='cuda:0')\n"
     ]
    }
   ],
   "source": [
    "test_loader = DataLoader(test, batch_size = len(test), shuffle=False)\n",
    "x_test, y_test = next(iter(test_loader))\n",
    "for i in range(5):\n",
    "\n",
    "    _, _, test_logits = model(x_test)\n",
    "    test_preds = test_logits.argmax(dim=1)\n",
    "\n",
    "    print((test_preds == y_test).sum())"
   ]
  },
  {
   "cell_type": "code",
   "execution_count": 161,
   "id": "e793cb7e-050f-4bae-aa62-3cdcc5b1ca4f",
   "metadata": {},
   "outputs": [],
   "source": [
    "from torch.utils.data import DataLoader\n",
    "\n",
    "batch_loader = DataLoader(test, batch_size = 32, shuffle=False)\n"
   ]
  },
  {
   "cell_type": "code",
   "execution_count": 199,
   "id": "947113f1-1b89-43fc-b2f3-a878df618531",
   "metadata": {},
   "outputs": [
    {
     "name": "stdout",
     "output_type": "stream",
     "text": [
      "tensor(383, device='cuda:0')\n",
      "tensor(399, device='cuda:0')\n",
      "tensor(391, device='cuda:0')\n",
      "tensor(401, device='cuda:0')\n",
      "tensor(403, device='cuda:0')\n"
     ]
    }
   ],
   "source": [
    "with torch.inference_mode():\n",
    "    for i in range(5):\n",
    "        acc = 0\n",
    "        cnt = 0\n",
    "        batch_acc_arr = []\n",
    "        for x, y in batch_loader:\n",
    "            z, x_hat, logits = model(x)\n",
    "            pred = logits.argmax(dim=1)\n",
    "            # print(pred.shape, y.shape)\n",
    "            batch_acc = (pred == y).sum()\n",
    "            batch_acc_arr.append(batch_acc)\n",
    "            acc += batch_acc\n",
    "            cnt += len(x)\n",
    "        print(acc)"
   ]
  },
  {
   "cell_type": "code",
   "execution_count": 192,
   "id": "5a6e222f-563b-4c37-9e42-abbe049d4378",
   "metadata": {},
   "outputs": [
    {
     "data": {
      "text/plain": [
       "(torch.Size([32]), torch.Size([32]), tensor(1, device='cuda:0'))"
      ]
     },
     "execution_count": 192,
     "metadata": {},
     "output_type": "execute_result"
    }
   ],
   "source": [
    "x, y = next(iter(batch_loader))\n",
    "z, x_hat, logits = model(x)\n",
    "pred = logits.argmax(dim=1)\n",
    "pred.shape, y.shape, (pred == y).sum()"
   ]
  },
  {
   "cell_type": "code",
   "execution_count": 198,
   "id": "b90b693a-69b5-4dc1-a1de-ca3a41063f4e",
   "metadata": {},
   "outputs": [
    {
     "data": {
      "text/plain": [
       "(3289, torch.Size([3289, 4000]))"
      ]
     },
     "execution_count": 198,
     "metadata": {},
     "output_type": "execute_result"
    }
   ],
   "source": [
    "cnt, x_test.shape"
   ]
  },
  {
   "cell_type": "code",
   "execution_count": 67,
   "id": "ad24025d-0582-47d0-9099-cfba42e068a8",
   "metadata": {},
   "outputs": [
    {
     "name": "stdout",
     "output_type": "stream",
     "text": [
      "Per-class accuracy:\n",
      "Class 0: 0.029880478087649404, size: 502\n",
      "Class 1: 0.0, size: 109\n",
      "Class 2: 0.13733075435203096, size: 1034\n",
      "Class 3: 0.09075907590759076, size: 606\n",
      "Class 4: 0.691699604743083, size: 253\n",
      "Class 5: 0.8478632478632478, size: 585\n",
      "Class 6: 0.0, size: 26\n",
      "Class 7: 0.0, size: 5\n",
      "Class 8: 0.203125, size: 128\n",
      "Class 9: 0.0, size: 16\n",
      "Class 10: 0.0, size: 7\n",
      "Class 11: 0.0, size: 13\n",
      "Class 12: 0.0, size: 5\n",
      "Class 13: 0.0, size: 0\n"
     ]
    }
   ],
   "source": [
    "import torch\n",
    "\n",
    "# Assuming you have a tensor of predicted labels and ground truth labels\n",
    "predicted_labels = preds\n",
    "true_labels = y\n",
    "\n",
    "# Calculate per-class accuracy\n",
    "per_class_accuracy = []\n",
    "class_size= []\n",
    "for class_label in range(num_classes):\n",
    "    correct = torch.logical_and(predicted_labels == class_label, true_labels == class_label).sum().item()\n",
    "    total = (true_labels == class_label).sum().item()\n",
    "    if total == 0:\n",
    "        per_class_accuracy.append(0.0)\n",
    "    else:\n",
    "        per_class_accuracy.append(correct / total)\n",
    "\n",
    "    class_size.append(total)\n",
    "\n",
    "print(\"Per-class accuracy:\")\n",
    "for i, acc in enumerate(per_class_accuracy):\n",
    "    print(f\"Class {i}: {acc}, size: {class_size[i]}\")"
   ]
  }
 ],
 "metadata": {
  "kernelspec": {
   "display_name": "Python 3 (ipykernel)",
   "language": "python",
   "name": "python3"
  },
  "language_info": {
   "codemirror_mode": {
    "name": "ipython",
    "version": 3
   },
   "file_extension": ".py",
   "mimetype": "text/x-python",
   "name": "python",
   "nbconvert_exporter": "python",
   "pygments_lexer": "ipython3",
   "version": "3.11.8"
  }
 },
 "nbformat": 4,
 "nbformat_minor": 5
}
