{
 "cells": [
  {
   "cell_type": "code",
   "execution_count": 4,
   "id": "9f449e18-2e7c-42b4-83fe-efdd13f99573",
   "metadata": {},
   "outputs": [],
   "source": [
    "import pandas as pd\n",
    "\n",
    "\n",
    "def calculate_dataframe_mean(df):\n",
    "    df_numeric = df.apply(pd.to_numeric, errors='coerce')\n",
    "    df_clean = df_numeric.dropna().drop(['fold'], axis=1)\n",
    "    df_mean = df_clean.mean().to_frame().T\n",
    "    return df_mean"
   ]
  },
  {
   "cell_type": "code",
   "execution_count": 5,
   "id": "df0f452b-c4c1-4cc7-8713-f1d09b60187a",
   "metadata": {},
   "outputs": [
    {
     "name": "stderr",
     "output_type": "stream",
     "text": [
      "Global seed set to 0\n",
      "/home/icb/fatemehs.hashemig/miniconda3/envs/interpretable-ssl/lib/python3.12/site-packages/pytorch_lightning/utilities/warnings.py:53: LightningDeprecationWarning: pytorch_lightning.utilities.warnings.rank_zero_deprecation has been deprecated in v1.6 and will be removed in v1.8. Use the equivalent function from the pytorch_lightning.utilities.rank_zero module instead.\n",
      "  new_rank_zero_deprecation(\n",
      "/home/icb/fatemehs.hashemig/miniconda3/envs/interpretable-ssl/lib/python3.12/site-packages/pytorch_lightning/utilities/warnings.py:58: LightningDeprecationWarning: The `pytorch_lightning.loggers.base.rank_zero_experiment` is deprecated in v1.7 and will be removed in v1.9. Please use `pytorch_lightning.loggers.logger.rank_zero_experiment` instead.\n",
      "  return new_rank_zero_deprecation(*args, **kwargs)\n",
      "WARNING:root:In order to use the mouse gastrulation seqFISH datsets, please install squidpy (see https://github.com/scverse/squidpy).\n",
      "WARNING:root:In order to use sagenet models, please install pytorch geometric (see https://pytorch-geometric.readthedocs.io) and \n",
      " captum (see https://github.com/pytorch/captum).\n",
      "WARNING:root:mvTCR is not installed. To use mvTCR models, please install it first using \"pip install mvtcr\"\n",
      "WARNING:root:multigrate is not installed. To use multigrate models, please install it first using \"pip install multigrate\".\n"
     ]
    }
   ],
   "source": [
    "from interpretable_ssl.trainers.scvi_trainer import *\n",
    "from interpretable_ssl.trainers.scpoli_trainer import *\n",
    "from interpretable_ssl.trainers.scpoli_original import *"
   ]
  },
  {
   "cell_type": "code",
   "execution_count": 10,
   "id": "1a2ee4f7-7b16-4027-bb65-f111539c8727",
   "metadata": {},
   "outputs": [],
   "source": [
    "import pandas as pd\n",
    "from copy import deepcopy\n",
    "\n",
    "def drop_redundant_rows(df):\n",
    "    df_numeric = df.apply(pd.to_numeric, errors='coerce').dropna(how='all')\n",
    "    df_numeric['trainer'] = df['trainer']\n",
    "    return df_numeric\n",
    "    \n",
    "def process_dataframe(df):\n",
    "    \n",
    "    # Remove all rows with string values (except the 'trainer' column)\n",
    "    df_numeric = df.drop(['fold', 'trainer'], axis=1).apply(pd.to_numeric, errors='coerce').dropna(how='all')\n",
    "\n",
    "    # # Add back the 'trainer' column\n",
    "    df_numeric['trainer'] = df['trainer']\n",
    "\n",
    "    # # Group by 'trainer' and calculate mean\n",
    "    result = df_numeric.groupby('trainer').mean()\n",
    "\n",
    "    return result"
   ]
  },
  {
   "cell_type": "code",
   "execution_count": 11,
   "id": "14da10f5-c531-4478-af80-73911b70906b",
   "metadata": {},
   "outputs": [],
   "source": [
    "def compare_trainers_query_cross_val(trainers):\n",
    "    names = [trainer.get_model_name() for trainer in trainers]\n",
    "    all_results_new = pd.DataFrame()\n",
    "    for trainer, name in zip(trainers, names):\n",
    "        # eval_fn = partial(trainer.query_scib_metrics, fine_tuning=True)\n",
    "        \n",
    "        df = trainer.evaluate_custom_cross_val_models(trainer.query_scib_metrics)\n",
    "        df['trainer'] = name\n",
    "        \n",
    "        all_results_new = pd.concat([all_results_new, df], ignore_index=True)\n",
    "    return process_dataframe(deepcopy(all_results_new)), drop_redundant_rows(all_results_new)"
   ]
  },
  {
   "cell_type": "code",
   "execution_count": 12,
   "id": "32bb19d0-f96e-4838-b26a-db38bfddf290",
   "metadata": {},
   "outputs": [],
   "source": [
    "def compare_results(trainers):\n",
    "    names = [trainer.get_model_name() for trainer in trainers]\n",
    "\n",
    "    all_results_new = pd.DataFrame()\n",
    "    for trainer, name in zip(trainers, names):\n",
    "        trainer.fine_tuning_epochs = 50\n",
    "        df = trainer.query_scib_metrics(True)\n",
    "        df['trainer'] = name\n",
    "        \n",
    "        all_results_new = pd.concat([all_results_new, df], ignore_index=True)\n",
    "    return drop_redundant_rows(all_results_new)"
   ]
  },
  {
   "cell_type": "code",
   "execution_count": 21,
   "id": "9d85775f-baa2-4bb2-b4a9-a4066b21b105",
   "metadata": {},
   "outputs": [
    {
     "name": "stdout",
     "output_type": "stream",
     "text": [
      "loading data\n"
     ]
    }
   ],
   "source": [
    "ds = ImmuneDataset()\n",
    "scvi = ScviTrainer(dataset = ds)\n",
    "scpoli = OriginalTrainer(ds)\n",
    "simclr = SimClrTraner(ds)\n",
    "barlow = ScpoliProtBarlowTrainer(ds)\n",
    "\n",
    "barlow32 = ScpoliProtBarlowTrainer(ds)\n",
    "barlow32.num_prototypes = 32"
   ]
  },
  {
   "cell_type": "markdown",
   "id": "e71045dd-7cd5-4af6-b5c1-88440c0f1be2",
   "metadata": {},
   "source": [
    "# barlow result batch size 1024\n",
    "\n"
   ]
  },
  {
   "cell_type": "code",
   "execution_count": 22,
   "id": "35450319-1e0b-4317-8c80-781788f8fbaa",
   "metadata": {
    "scrolled": true
   },
   "outputs": [
    {
     "name": "stdout",
     "output_type": "stream",
     "text": [
      "running custom cross validation evaluation\n",
      "Evaluating fold 1\n",
      "Embedding dictionary:\n",
      " \tNum conditions: [3]\n",
      " \tEmbedding dim: [10]\n",
      "Encoder Architecture:\n",
      "\tInput Layer in, out and cond: 4000 64 10\n",
      "\tMean/Var Layer in/out: 64 8\n",
      "Decoder Architecture:\n",
      "\tFirst Layer in, out and cond:  8 64 10\n",
      "\tOutput Layer in/out:  64 4000 \n",
      "\n"
     ]
    },
    {
     "name": "stderr",
     "output_type": "stream",
     "text": [
      "INFO:scarches.trainers.scpoli.trainer:GPU available: True, GPU used: True\n"
     ]
    },
    {
     "name": "stdout",
     "output_type": "stream",
     "text": [
      "Embedding dictionary:\n",
      " \tNum conditions: [5]\n",
      " \tEmbedding dim: [10]\n",
      "Encoder Architecture:\n",
      "\tInput Layer in, out and cond: 4000 64 10\n",
      "\tMean/Var Layer in/out: 64 8\n",
      "Decoder Architecture:\n",
      "\tFirst Layer in, out and cond:  8 64 10\n",
      "\tOutput Layer in/out:  64 4000 \n",
      "\n",
      "Warning: Labels in adata.obs[cell_type] is not a subset of label-encoder!\n",
      "The missing labels are: {'Erythrocytes', 'CD10+ B cells', 'Monocyte progenitors', 'Erythroid progenitors'}\n",
      "Therefore integer value of those labels is set to -1\n",
      "Warning: Labels in adata.obs[cell_type] is not a subset of label-encoder!\n",
      "The missing labels are: {'Erythrocytes', 'CD10+ B cells', 'Monocyte progenitors', 'Erythroid progenitors'}\n",
      "Therefore integer value of those labels is set to -1\n",
      "Initializing dataloaders\n",
      "Starting training\n",
      " |████████████████----| 80.0%  - val_loss:  442.29 - val_cvae_loss:  442.29\n",
      "Initializing unlabeled prototypes with Leiden with an unknown number of  clusters.\n",
      "Clustering succesful. Found 33 clusters.\n",
      " |████████████████████| 100.0%  - val_loss:  441.74 - val_cvae_loss:  441.74 - val_prototype_loss:    0.00 - val_unlabeled_loss:    0.81\n"
     ]
    },
    {
     "name": "stderr",
     "output_type": "stream",
     "text": [
      "Computing neighbors: 100%|██████████| 1/1 [00:05<00:00,  5.65s/it]\n",
      "Embeddings:   0%|\u001b[32m          \u001b[0m| 0/1 [00:00<?, ?it/s]\n",
      "Metrics:   0%|\u001b[34m          \u001b[0m| 0/10 [00:00<?, ?it/s]\u001b[A\n",
      "Metrics:   0%|\u001b[34m          \u001b[0m| 0/10 [00:00<?, ?it/s, Bio conservation: isolated_labels]\u001b[A\n",
      "Metrics:  10%|\u001b[34m█         \u001b[0m| 1/10 [00:01<00:11,  1.28s/it, Bio conservation: isolated_labels]\u001b[A\n",
      "Metrics:  10%|\u001b[34m█         \u001b[0m| 1/10 [00:01<00:11,  1.28s/it, Bio conservation: nmi_ari_cluster_labels_kmeans]\u001b[A\n",
      "Metrics:  20%|\u001b[34m██        \u001b[0m| 2/10 [00:15<01:09,  8.67s/it, Bio conservation: nmi_ari_cluster_labels_kmeans]\u001b[A\n",
      "Metrics:  20%|\u001b[34m██        \u001b[0m| 2/10 [00:15<01:09,  8.67s/it, Bio conservation: silhouette_label]             \u001b[A\n",
      "Metrics:  30%|\u001b[34m███       \u001b[0m| 3/10 [00:15<00:35,  5.01s/it, Bio conservation: silhouette_label]\u001b[A\n",
      "Metrics:  30%|\u001b[34m███       \u001b[0m| 3/10 [00:15<00:35,  5.01s/it, Bio conservation: clisi_knn]       \u001b[A\n",
      "Metrics:  40%|\u001b[34m████      \u001b[0m| 4/10 [00:15<00:18,  3.08s/it, Bio conservation: clisi_knn]\u001b[A\n",
      "Metrics:  40%|\u001b[34m████      \u001b[0m| 4/10 [00:15<00:18,  3.08s/it, Batch correction: silhouette_batch]\u001b[A\n",
      "Metrics:  50%|\u001b[34m█████     \u001b[0m| 5/10 [00:16<00:10,  2.04s/it, Batch correction: silhouette_batch]\u001b[A\n",
      "Metrics:  50%|\u001b[34m█████     \u001b[0m| 5/10 [00:16<00:10,  2.04s/it, Batch correction: ilisi_knn]       \u001b[A\n",
      "Metrics:  60%|\u001b[34m██████    \u001b[0m| 6/10 [00:16<00:08,  2.04s/it, Batch correction: kbet_per_label]\u001b[A\n",
      "Metrics:  70%|\u001b[34m███████   \u001b[0m| 7/10 [00:28<00:12,  4.16s/it, Batch correction: kbet_per_label]\u001b[A\n",
      "Metrics:  70%|\u001b[34m███████   \u001b[0m| 7/10 [00:28<00:12,  4.16s/it, Batch correction: graph_connectivity]\u001b[A\n",
      "Metrics:  80%|\u001b[34m████████  \u001b[0m| 8/10 [00:28<00:08,  4.16s/it, Batch correction: pcr_comparison]    \u001b[A\n",
      "Embeddings: 100%|\u001b[32m██████████\u001b[0m| 1/1 [00:29<00:00, 29.01s/it]atch correction: pcr_comparison]\u001b[A\n",
      "\n",
      "                                                                                         \u001b[A/ictstr01/home/icb/fatemehs.hashemig/codes/interpretable-ssl/interpretable_ssl/trainers/trainer.py:321: FutureWarning: The frame.append method is deprecated and will be removed from pandas in a future version. Use pandas.concat instead.\n",
      "  overall_df = overall_df.append(fold_df, ignore_index=True)\n"
     ]
    },
    {
     "name": "stdout",
     "output_type": "stream",
     "text": [
      "Evaluating fold 2\n",
      "Embedding dictionary:\n",
      " \tNum conditions: [3]\n",
      " \tEmbedding dim: [10]\n",
      "Encoder Architecture:\n",
      "\tInput Layer in, out and cond: 4000 64 10\n",
      "\tMean/Var Layer in/out: 64 8\n",
      "Decoder Architecture:\n",
      "\tFirst Layer in, out and cond:  8 64 10\n",
      "\tOutput Layer in/out:  64 4000 \n",
      "\n"
     ]
    },
    {
     "name": "stderr",
     "output_type": "stream",
     "text": [
      "INFO:scarches.trainers.scpoli.trainer:GPU available: True, GPU used: True\n"
     ]
    },
    {
     "name": "stdout",
     "output_type": "stream",
     "text": [
      "Embedding dictionary:\n",
      " \tNum conditions: [5]\n",
      " \tEmbedding dim: [10]\n",
      "Encoder Architecture:\n",
      "\tInput Layer in, out and cond: 4000 64 10\n",
      "\tMean/Var Layer in/out: 64 8\n",
      "Decoder Architecture:\n",
      "\tFirst Layer in, out and cond:  8 64 10\n",
      "\tOutput Layer in/out:  64 4000 \n",
      "\n",
      "Warning: Labels in adata.obs[cell_type] is not a subset of label-encoder!\n",
      "The missing labels are: {'HSPCs', 'Monocyte progenitors', 'Erythroid progenitors', 'Erythrocytes', 'Plasma cells', 'CD10+ B cells'}\n",
      "Therefore integer value of those labels is set to -1\n",
      "Warning: Labels in adata.obs[cell_type] is not a subset of label-encoder!\n",
      "The missing labels are: {'Plasma cells', 'HSPCs'}\n",
      "Therefore integer value of those labels is set to -1\n",
      "Warning: Labels in adata.obs[cell_type] is not a subset of label-encoder!\n",
      "The missing labels are: {'HSPCs', 'Monocyte progenitors', 'Erythroid progenitors', 'Erythrocytes', 'Plasma cells', 'CD10+ B cells'}\n",
      "Therefore integer value of those labels is set to -1\n",
      "Warning: Labels in adata.obs[cell_type] is not a subset of label-encoder!\n",
      "The missing labels are: {'Plasma cells', 'HSPCs'}\n",
      "Therefore integer value of those labels is set to -1\n",
      "Initializing dataloaders\n",
      "Starting training\n",
      " |████████████████----| 80.0%  - val_loss:  888.12 - val_cvae_loss:  888.12\n",
      "Initializing unlabeled prototypes with Leiden with an unknown number of  clusters.\n",
      "Clustering succesful. Found 27 clusters.\n",
      " |████████████████████| 100.0%  - val_loss:  888.95 - val_cvae_loss:  888.95 - val_prototype_loss:    0.00 - val_unlabeled_loss:    0.73\n"
     ]
    },
    {
     "name": "stderr",
     "output_type": "stream",
     "text": [
      "Computing neighbors: 100%|██████████| 1/1 [00:08<00:00,  8.28s/it]\n",
      "Embeddings:   0%|\u001b[32m          \u001b[0m| 0/1 [00:00<?, ?it/s]\n",
      "Metrics:   0%|\u001b[34m          \u001b[0m| 0/10 [00:00<?, ?it/s]\u001b[A\n",
      "Metrics:   0%|\u001b[34m          \u001b[0m| 0/10 [00:00<?, ?it/s, Bio conservation: isolated_labels]\u001b[A\n",
      "Metrics:  10%|\u001b[34m█         \u001b[0m| 1/10 [00:00<00:07,  1.25it/s, Bio conservation: isolated_labels]\u001b[A\n",
      "Metrics:  10%|\u001b[34m█         \u001b[0m| 1/10 [00:00<00:07,  1.25it/s, Bio conservation: nmi_ari_cluster_labels_kmeans]\u001b[A\n",
      "Metrics:  20%|\u001b[34m██        \u001b[0m| 2/10 [00:03<00:16,  2.02s/it, Bio conservation: nmi_ari_cluster_labels_kmeans]\u001b[A\n",
      "Metrics:  20%|\u001b[34m██        \u001b[0m| 2/10 [00:03<00:16,  2.02s/it, Bio conservation: silhouette_label]             \u001b[A\n",
      "Metrics:  30%|\u001b[34m███       \u001b[0m| 3/10 [00:04<00:10,  1.44s/it, Bio conservation: silhouette_label]\u001b[A\n",
      "Metrics:  30%|\u001b[34m███       \u001b[0m| 3/10 [00:04<00:10,  1.44s/it, Bio conservation: clisi_knn]       \u001b[A\n",
      "Metrics:  40%|\u001b[34m████      \u001b[0m| 4/10 [00:04<00:05,  1.09it/s, Bio conservation: clisi_knn]\u001b[A\n",
      "Metrics:  40%|\u001b[34m████      \u001b[0m| 4/10 [00:04<00:05,  1.09it/s, Batch correction: silhouette_batch]\u001b[A\n",
      "Metrics:  50%|\u001b[34m█████     \u001b[0m| 5/10 [00:04<00:03,  1.34it/s, Batch correction: silhouette_batch]\u001b[A\n",
      "Metrics:  50%|\u001b[34m█████     \u001b[0m| 5/10 [00:04<00:03,  1.34it/s, Batch correction: ilisi_knn]       \u001b[A\n",
      "Metrics:  60%|\u001b[34m██████    \u001b[0m| 6/10 [00:05<00:02,  1.86it/s, Batch correction: ilisi_knn]\u001b[A\n",
      "Metrics:  60%|\u001b[34m██████    \u001b[0m| 6/10 [00:05<00:02,  1.86it/s, Batch correction: kbet_per_label]\u001b[A\n",
      "Metrics:  70%|\u001b[34m███████   \u001b[0m| 7/10 [00:21<00:17,  5.69s/it, Batch correction: kbet_per_label]\u001b[A\n",
      "Metrics:  70%|\u001b[34m███████   \u001b[0m| 7/10 [00:21<00:17,  5.69s/it, Batch correction: graph_connectivity]\u001b[A\n",
      "Metrics:  80%|\u001b[34m████████  \u001b[0m| 8/10 [00:21<00:11,  5.69s/it, Batch correction: pcr_comparison]    \u001b[A\n",
      "Embeddings: 100%|\u001b[32m██████████\u001b[0m| 1/1 [00:21<00:00, 21.69s/it]atch correction: pcr_comparison]\u001b[A\n",
      "\n",
      "                                                                                         \u001b[A/ictstr01/home/icb/fatemehs.hashemig/codes/interpretable-ssl/interpretable_ssl/trainers/trainer.py:321: FutureWarning: The frame.append method is deprecated and will be removed from pandas in a future version. Use pandas.concat instead.\n",
      "  overall_df = overall_df.append(fold_df, ignore_index=True)\n"
     ]
    },
    {
     "name": "stdout",
     "output_type": "stream",
     "text": [
      "Evaluating fold 3\n",
      "Embedding dictionary:\n",
      " \tNum conditions: [3]\n",
      " \tEmbedding dim: [10]\n",
      "Encoder Architecture:\n",
      "\tInput Layer in, out and cond: 4000 64 10\n",
      "\tMean/Var Layer in/out: 64 8\n",
      "Decoder Architecture:\n",
      "\tFirst Layer in, out and cond:  8 64 10\n",
      "\tOutput Layer in/out:  64 4000 \n",
      "\n"
     ]
    },
    {
     "name": "stderr",
     "output_type": "stream",
     "text": [
      "INFO:scarches.trainers.scpoli.trainer:GPU available: True, GPU used: True\n"
     ]
    },
    {
     "name": "stdout",
     "output_type": "stream",
     "text": [
      "Embedding dictionary:\n",
      " \tNum conditions: [5]\n",
      " \tEmbedding dim: [10]\n",
      "Encoder Architecture:\n",
      "\tInput Layer in, out and cond: 4000 64 10\n",
      "\tMean/Var Layer in/out: 64 8\n",
      "Decoder Architecture:\n",
      "\tFirst Layer in, out and cond:  8 64 10\n",
      "\tOutput Layer in/out:  64 4000 \n",
      "\n",
      "Warning: Labels in adata.obs[cell_type] is not a subset of label-encoder!\n",
      "The missing labels are: {'Erythrocytes', 'CD10+ B cells', 'Monocyte progenitors', 'Erythroid progenitors'}\n",
      "Therefore integer value of those labels is set to -1\n",
      "Warning: Labels in adata.obs[cell_type] is not a subset of label-encoder!\n",
      "The missing labels are: {'Erythrocytes', 'CD10+ B cells', 'Monocyte progenitors', 'Erythroid progenitors'}\n",
      "Therefore integer value of those labels is set to -1\n",
      "Initializing dataloaders\n",
      "Starting training\n",
      " |████████████████----| 80.0%  - val_loss:  445.88 - val_cvae_loss:  445.88\n",
      "Initializing unlabeled prototypes with Leiden with an unknown number of  clusters.\n",
      "Clustering succesful. Found 29 clusters.\n",
      " |████████████████████| 100.0%  - val_loss:  446.69 - val_cvae_loss:  446.69 - val_prototype_loss:    0.00 - val_unlabeled_loss:    0.65\n"
     ]
    },
    {
     "name": "stderr",
     "output_type": "stream",
     "text": [
      "Computing neighbors: 100%|██████████| 1/1 [00:07<00:00,  7.24s/it]\n",
      "Embeddings:   0%|\u001b[32m          \u001b[0m| 0/1 [00:00<?, ?it/s]\n",
      "Metrics:   0%|\u001b[34m          \u001b[0m| 0/10 [00:00<?, ?it/s]\u001b[A\n",
      "Metrics:   0%|\u001b[34m          \u001b[0m| 0/10 [00:00<?, ?it/s, Bio conservation: isolated_labels]\u001b[A\n",
      "Metrics:  10%|\u001b[34m█         \u001b[0m| 1/10 [00:00<00:07,  1.25it/s, Bio conservation: isolated_labels]\u001b[A\n",
      "Metrics:  10%|\u001b[34m█         \u001b[0m| 1/10 [00:00<00:07,  1.25it/s, Bio conservation: nmi_ari_cluster_labels_kmeans]\u001b[A\n",
      "Metrics:  20%|\u001b[34m██        \u001b[0m| 2/10 [00:06<00:31,  3.92s/it, Bio conservation: nmi_ari_cluster_labels_kmeans]\u001b[A\n",
      "Metrics:  20%|\u001b[34m██        \u001b[0m| 2/10 [00:06<00:31,  3.92s/it, Bio conservation: silhouette_label]             \u001b[A\n",
      "Metrics:  30%|\u001b[34m███       \u001b[0m| 3/10 [00:07<00:17,  2.44s/it, Bio conservation: silhouette_label]\u001b[A\n",
      "Metrics:  30%|\u001b[34m███       \u001b[0m| 3/10 [00:07<00:17,  2.44s/it, Bio conservation: clisi_knn]       \u001b[A\n",
      "Metrics:  40%|\u001b[34m████      \u001b[0m| 4/10 [00:07<00:14,  2.44s/it, Batch correction: silhouette_batch]\u001b[A\n",
      "Metrics:  50%|\u001b[34m█████     \u001b[0m| 5/10 [00:07<00:05,  1.13s/it, Batch correction: silhouette_batch]\u001b[A\n",
      "Metrics:  50%|\u001b[34m█████     \u001b[0m| 5/10 [00:07<00:05,  1.13s/it, Batch correction: ilisi_knn]       \u001b[A\n",
      "Metrics:  60%|\u001b[34m██████    \u001b[0m| 6/10 [00:07<00:04,  1.13s/it, Batch correction: kbet_per_label]\u001b[A\n",
      "Metrics:  70%|\u001b[34m███████   \u001b[0m| 7/10 [00:20<00:10,  3.41s/it, Batch correction: kbet_per_label]\u001b[A\n",
      "Metrics:  70%|\u001b[34m███████   \u001b[0m| 7/10 [00:20<00:10,  3.41s/it, Batch correction: graph_connectivity]\u001b[A\n",
      "Metrics:  80%|\u001b[34m████████  \u001b[0m| 8/10 [00:20<00:05,  2.61s/it, Batch correction: graph_connectivity]\u001b[A\n",
      "Metrics:  80%|\u001b[34m████████  \u001b[0m| 8/10 [00:20<00:05,  2.61s/it, Batch correction: pcr_comparison]    \u001b[A\n",
      "Embeddings: 100%|\u001b[32m██████████\u001b[0m| 1/1 [00:20<00:00, 20.53s/it]atch correction: pcr_comparison]\u001b[A\n",
      "\n",
      "                                                                                         \u001b[A/ictstr01/home/icb/fatemehs.hashemig/codes/interpretable-ssl/interpretable_ssl/trainers/trainer.py:321: FutureWarning: The frame.append method is deprecated and will be removed from pandas in a future version. Use pandas.concat instead.\n",
      "  overall_df = overall_df.append(fold_df, ignore_index=True)\n"
     ]
    },
    {
     "name": "stdout",
     "output_type": "stream",
     "text": [
      "Evaluating fold 4\n",
      "Embedding dictionary:\n",
      " \tNum conditions: [3]\n",
      " \tEmbedding dim: [10]\n",
      "Encoder Architecture:\n",
      "\tInput Layer in, out and cond: 4000 64 10\n",
      "\tMean/Var Layer in/out: 64 8\n",
      "Decoder Architecture:\n",
      "\tFirst Layer in, out and cond:  8 64 10\n",
      "\tOutput Layer in/out:  64 4000 \n",
      "\n"
     ]
    },
    {
     "name": "stderr",
     "output_type": "stream",
     "text": [
      "INFO:scarches.trainers.scpoli.trainer:GPU available: True, GPU used: True\n"
     ]
    },
    {
     "name": "stdout",
     "output_type": "stream",
     "text": [
      "Embedding dictionary:\n",
      " \tNum conditions: [5]\n",
      " \tEmbedding dim: [10]\n",
      "Encoder Architecture:\n",
      "\tInput Layer in, out and cond: 4000 64 10\n",
      "\tMean/Var Layer in/out: 64 8\n",
      "Decoder Architecture:\n",
      "\tFirst Layer in, out and cond:  8 64 10\n",
      "\tOutput Layer in/out:  64 4000 \n",
      "\n",
      "Warning: Labels in adata.obs[cell_type] is not a subset of label-encoder!\n",
      "The missing labels are: {'Erythrocytes', 'CD10+ B cells', 'Monocyte progenitors', 'Erythroid progenitors'}\n",
      "Therefore integer value of those labels is set to -1\n",
      "Warning: Labels in adata.obs[cell_type] is not a subset of label-encoder!\n",
      "The missing labels are: {'Erythrocytes', 'Monocyte progenitors'}\n",
      "Therefore integer value of those labels is set to -1\n",
      "Warning: Labels in adata.obs[cell_type] is not a subset of label-encoder!\n",
      "The missing labels are: {'Erythrocytes', 'CD10+ B cells', 'Monocyte progenitors', 'Erythroid progenitors'}\n",
      "Therefore integer value of those labels is set to -1\n",
      "Warning: Labels in adata.obs[cell_type] is not a subset of label-encoder!\n",
      "The missing labels are: {'Erythrocytes', 'Monocyte progenitors'}\n",
      "Therefore integer value of those labels is set to -1\n",
      "Initializing dataloaders\n",
      "Starting training\n",
      " |████████████████----| 80.0%  - val_loss: 4435.20 - val_cvae_loss: 4435.20\n",
      "Initializing unlabeled prototypes with Leiden with an unknown number of  clusters.\n",
      "Clustering succesful. Found 32 clusters.\n",
      " |████████████████████| 100.0%  - val_loss: 4460.51 - val_cvae_loss: 4460.51 - val_prototype_loss:    0.00 - val_unlabeled_loss:    0.67\n"
     ]
    },
    {
     "name": "stderr",
     "output_type": "stream",
     "text": [
      "Computing neighbors: 100%|██████████| 1/1 [00:04<00:00,  4.39s/it]\n",
      "Embeddings:   0%|\u001b[32m          \u001b[0m| 0/1 [00:00<?, ?it/s]\n",
      "Metrics:   0%|\u001b[34m          \u001b[0m| 0/10 [00:00<?, ?it/s]\u001b[A\n",
      "Metrics:   0%|\u001b[34m          \u001b[0m| 0/10 [00:00<?, ?it/s, Bio conservation: isolated_labels]\u001b[A\n",
      "Metrics:  10%|\u001b[34m█         \u001b[0m| 1/10 [00:00<00:02,  4.06it/s, Bio conservation: isolated_labels]\u001b[A\n",
      "Metrics:  10%|\u001b[34m█         \u001b[0m| 1/10 [00:00<00:02,  4.06it/s, Bio conservation: nmi_ari_cluster_labels_kmeans]\u001b[A\n",
      "Metrics:  20%|\u001b[34m██        \u001b[0m| 2/10 [00:02<00:12,  1.58s/it, Bio conservation: nmi_ari_cluster_labels_kmeans]\u001b[A\n",
      "Metrics:  20%|\u001b[34m██        \u001b[0m| 2/10 [00:02<00:12,  1.58s/it, Bio conservation: silhouette_label]             \u001b[A\n",
      "Metrics:  30%|\u001b[34m███       \u001b[0m| 3/10 [00:03<00:06,  1.02it/s, Bio conservation: silhouette_label]\u001b[A\n",
      "Metrics:  30%|\u001b[34m███       \u001b[0m| 3/10 [00:03<00:06,  1.02it/s, Bio conservation: clisi_knn]       \u001b[A\n",
      "Metrics:  40%|\u001b[34m████      \u001b[0m| 4/10 [00:03<00:05,  1.02it/s, Batch correction: silhouette_batch]\u001b[A\n",
      "Metrics:  50%|\u001b[34m█████     \u001b[0m| 5/10 [00:03<00:02,  2.15it/s, Batch correction: silhouette_batch]\u001b[A\n",
      "Metrics:  50%|\u001b[34m█████     \u001b[0m| 5/10 [00:03<00:02,  2.15it/s, Batch correction: ilisi_knn]       \u001b[A\n",
      "Metrics:  60%|\u001b[34m██████    \u001b[0m| 6/10 [00:03<00:01,  2.15it/s, Batch correction: kbet_per_label]\u001b[A\n",
      "Metrics:  70%|\u001b[34m███████   \u001b[0m| 7/10 [00:09<00:04,  1.63s/it, Batch correction: kbet_per_label]\u001b[A\n",
      "Metrics:  70%|\u001b[34m███████   \u001b[0m| 7/10 [00:09<00:04,  1.63s/it, Batch correction: graph_connectivity]\u001b[A\n",
      "Embeddings: 100%|\u001b[32m██████████\u001b[0m| 1/1 [00:09<00:00,  9.37s/it]atch correction: pcr_comparison]    \u001b[A\n",
      "\n",
      "                                                                                         \u001b[A/ictstr01/home/icb/fatemehs.hashemig/codes/interpretable-ssl/interpretable_ssl/trainers/trainer.py:321: FutureWarning: The frame.append method is deprecated and will be removed from pandas in a future version. Use pandas.concat instead.\n",
      "  overall_df = overall_df.append(fold_df, ignore_index=True)\n"
     ]
    },
    {
     "name": "stdout",
     "output_type": "stream",
     "text": [
      "Evaluating fold 5\n",
      "Embedding dictionary:\n",
      " \tNum conditions: [3]\n",
      " \tEmbedding dim: [10]\n",
      "Encoder Architecture:\n",
      "\tInput Layer in, out and cond: 4000 64 10\n",
      "\tMean/Var Layer in/out: 64 8\n",
      "Decoder Architecture:\n",
      "\tFirst Layer in, out and cond:  8 64 10\n",
      "\tOutput Layer in/out:  64 4000 \n",
      "\n"
     ]
    },
    {
     "name": "stderr",
     "output_type": "stream",
     "text": [
      "INFO:scarches.trainers.scpoli.trainer:GPU available: True, GPU used: True\n"
     ]
    },
    {
     "name": "stdout",
     "output_type": "stream",
     "text": [
      "Embedding dictionary:\n",
      " \tNum conditions: [5]\n",
      " \tEmbedding dim: [10]\n",
      "Encoder Architecture:\n",
      "\tInput Layer in, out and cond: 4000 64 10\n",
      "\tMean/Var Layer in/out: 64 8\n",
      "Decoder Architecture:\n",
      "\tFirst Layer in, out and cond:  8 64 10\n",
      "\tOutput Layer in/out:  64 4000 \n",
      "\n",
      "Initializing dataloaders\n",
      "Starting training\n",
      " |████████████████----| 80.0%  - val_loss:  884.32 - val_cvae_loss:  884.32\n",
      "Initializing unlabeled prototypes with Leiden with an unknown number of  clusters.\n",
      "Clustering succesful. Found 26 clusters.\n",
      " |████████████████████| 100.0%  - val_loss:  884.76 - val_cvae_loss:  884.76 - val_prototype_loss:    0.00 - val_unlabeled_loss:    0.61\n"
     ]
    },
    {
     "name": "stderr",
     "output_type": "stream",
     "text": [
      "Computing neighbors: 100%|██████████| 1/1 [00:05<00:00,  5.71s/it]\n",
      "Embeddings:   0%|\u001b[32m          \u001b[0m| 0/1 [00:00<?, ?it/s]\n",
      "Metrics:   0%|\u001b[34m          \u001b[0m| 0/10 [00:00<?, ?it/s]\u001b[A\n",
      "Metrics:   0%|\u001b[34m          \u001b[0m| 0/10 [00:00<?, ?it/s, Bio conservation: isolated_labels]\u001b[A\n",
      "Metrics:  10%|\u001b[34m█         \u001b[0m| 1/10 [00:00<00:03,  2.51it/s, Bio conservation: isolated_labels]\u001b[A\n",
      "Metrics:  10%|\u001b[34m█         \u001b[0m| 1/10 [00:00<00:03,  2.51it/s, Bio conservation: nmi_ari_cluster_labels_kmeans]\u001b[A\n",
      "Metrics:  20%|\u001b[34m██        \u001b[0m| 2/10 [00:03<00:13,  1.74s/it, Bio conservation: nmi_ari_cluster_labels_kmeans]\u001b[A\n",
      "Metrics:  20%|\u001b[34m██        \u001b[0m| 2/10 [00:03<00:13,  1.74s/it, Bio conservation: silhouette_label]             \u001b[A\n",
      "Metrics:  30%|\u001b[34m███       \u001b[0m| 3/10 [00:03<00:07,  1.13s/it, Bio conservation: silhouette_label]\u001b[A\n",
      "Metrics:  30%|\u001b[34m███       \u001b[0m| 3/10 [00:03<00:07,  1.13s/it, Bio conservation: clisi_knn]       \u001b[A\n",
      "Metrics:  40%|\u001b[34m████      \u001b[0m| 4/10 [00:03<00:04,  1.38it/s, Bio conservation: clisi_knn]\u001b[A\n",
      "Metrics:  40%|\u001b[34m████      \u001b[0m| 4/10 [00:03<00:04,  1.38it/s, Batch correction: silhouette_batch]\u001b[A\n",
      "Metrics:  50%|\u001b[34m█████     \u001b[0m| 5/10 [00:03<00:02,  1.84it/s, Batch correction: silhouette_batch]\u001b[A\n",
      "Metrics:  50%|\u001b[34m█████     \u001b[0m| 5/10 [00:03<00:02,  1.84it/s, Batch correction: ilisi_knn]       \u001b[A\n",
      "Metrics:  60%|\u001b[34m██████    \u001b[0m| 6/10 [00:03<00:01,  2.44it/s, Batch correction: ilisi_knn]\u001b[A\n",
      "Metrics:  60%|\u001b[34m██████    \u001b[0m| 6/10 [00:03<00:01,  2.44it/s, Batch correction: kbet_per_label]\u001b[A"
     ]
    },
    {
     "name": "stdout",
     "output_type": "stream",
     "text": [
      "\u001b[34mINFO    \u001b[0m HSPCs consists of a single batch or is too small. Skip.                                                   \n",
      "\u001b[34mINFO    \u001b[0m Monocyte-derived dendritic cells consists of a single batch or is too small. Skip.                        \n",
      "\u001b[34mINFO    \u001b[0m Plasma cells consists of a single batch or is too small. Skip.                                            \n"
     ]
    },
    {
     "name": "stderr",
     "output_type": "stream",
     "text": [
      "\n",
      "Metrics:  70%|\u001b[34m███████   \u001b[0m| 7/10 [00:13<00:10,  3.55s/it, Batch correction: kbet_per_label]\u001b[A\n",
      "Metrics:  70%|\u001b[34m███████   \u001b[0m| 7/10 [00:13<00:10,  3.55s/it, Batch correction: graph_connectivity]\u001b[A\n",
      "Embeddings: 100%|\u001b[32m██████████\u001b[0m| 1/1 [00:14<00:00, 14.05s/it]atch correction: pcr_comparison]    \u001b[A\n",
      "\n",
      "                                                                                         \u001b[A/ictstr01/home/icb/fatemehs.hashemig/codes/interpretable-ssl/interpretable_ssl/trainers/trainer.py:321: FutureWarning: The frame.append method is deprecated and will be removed from pandas in a future version. Use pandas.concat instead.\n",
      "  overall_df = overall_df.append(fold_df, ignore_index=True)\n"
     ]
    },
    {
     "name": "stdout",
     "output_type": "stream",
     "text": [
      "Evaluating fold 6\n",
      "Embedding dictionary:\n",
      " \tNum conditions: [3]\n",
      " \tEmbedding dim: [10]\n",
      "Encoder Architecture:\n",
      "\tInput Layer in, out and cond: 4000 64 10\n",
      "\tMean/Var Layer in/out: 64 8\n",
      "Decoder Architecture:\n",
      "\tFirst Layer in, out and cond:  8 64 10\n",
      "\tOutput Layer in/out:  64 4000 \n",
      "\n"
     ]
    },
    {
     "name": "stderr",
     "output_type": "stream",
     "text": [
      "INFO:scarches.trainers.scpoli.trainer:GPU available: True, GPU used: True\n"
     ]
    },
    {
     "name": "stdout",
     "output_type": "stream",
     "text": [
      "Embedding dictionary:\n",
      " \tNum conditions: [5]\n",
      " \tEmbedding dim: [10]\n",
      "Encoder Architecture:\n",
      "\tInput Layer in, out and cond: 4000 64 10\n",
      "\tMean/Var Layer in/out: 64 8\n",
      "Decoder Architecture:\n",
      "\tFirst Layer in, out and cond:  8 64 10\n",
      "\tOutput Layer in/out:  64 4000 \n",
      "\n",
      "Initializing dataloaders\n",
      "Starting training\n",
      " |████████████████----| 80.0%  - val_loss:  445.30 - val_cvae_loss:  445.30\n",
      "Initializing unlabeled prototypes with Leiden with an unknown number of  clusters.\n",
      "Clustering succesful. Found 28 clusters.\n",
      " |████████████████████| 100.0%  - val_loss:  446.79 - val_cvae_loss:  446.79 - val_prototype_loss:    0.00 - val_unlabeled_loss:    0.55\n"
     ]
    },
    {
     "name": "stderr",
     "output_type": "stream",
     "text": [
      "Computing neighbors: 100%|██████████| 1/1 [00:04<00:00,  4.89s/it]\n",
      "Embeddings:   0%|\u001b[32m          \u001b[0m| 0/1 [00:00<?, ?it/s]\n",
      "Metrics:   0%|\u001b[34m          \u001b[0m| 0/10 [00:00<?, ?it/s]\u001b[A\n",
      "Metrics:   0%|\u001b[34m          \u001b[0m| 0/10 [00:00<?, ?it/s, Bio conservation: isolated_labels]\u001b[A\n",
      "Metrics:  10%|\u001b[34m█         \u001b[0m| 1/10 [00:00<00:02,  3.65it/s, Bio conservation: isolated_labels]\u001b[A\n",
      "Metrics:  10%|\u001b[34m█         \u001b[0m| 1/10 [00:00<00:02,  3.65it/s, Bio conservation: nmi_ari_cluster_labels_kmeans]\u001b[A\n",
      "Metrics:  20%|\u001b[34m██        \u001b[0m| 2/10 [00:02<00:12,  1.60s/it, Bio conservation: nmi_ari_cluster_labels_kmeans]\u001b[A\n",
      "Metrics:  20%|\u001b[34m██        \u001b[0m| 2/10 [00:02<00:12,  1.60s/it, Bio conservation: silhouette_label]             \u001b[A\n",
      "Metrics:  30%|\u001b[34m███       \u001b[0m| 3/10 [00:03<00:07,  1.05s/it, Bio conservation: silhouette_label]\u001b[A\n",
      "Metrics:  30%|\u001b[34m███       \u001b[0m| 3/10 [00:03<00:07,  1.05s/it, Bio conservation: clisi_knn]       \u001b[A\n",
      "Metrics:  40%|\u001b[34m████      \u001b[0m| 4/10 [00:03<00:04,  1.46it/s, Bio conservation: clisi_knn]\u001b[A\n",
      "Metrics:  40%|\u001b[34m████      \u001b[0m| 4/10 [00:03<00:04,  1.46it/s, Batch correction: silhouette_batch]\u001b[A\n",
      "Metrics:  50%|\u001b[34m█████     \u001b[0m| 5/10 [00:03<00:02,  1.96it/s, Batch correction: silhouette_batch]\u001b[A\n",
      "Metrics:  50%|\u001b[34m█████     \u001b[0m| 5/10 [00:03<00:02,  1.96it/s, Batch correction: ilisi_knn]       \u001b[A\n",
      "Metrics:  60%|\u001b[34m██████    \u001b[0m| 6/10 [00:03<00:01,  2.63it/s, Batch correction: ilisi_knn]\u001b[A\n",
      "Metrics:  60%|\u001b[34m██████    \u001b[0m| 6/10 [00:03<00:01,  2.63it/s, Batch correction: kbet_per_label]\u001b[A\n",
      "Metrics:  70%|\u001b[34m███████   \u001b[0m| 7/10 [00:13<00:10,  3.42s/it, Batch correction: kbet_per_label]\u001b[A\n",
      "Metrics:  70%|\u001b[34m███████   \u001b[0m| 7/10 [00:13<00:10,  3.42s/it, Batch correction: graph_connectivity]\u001b[A\n",
      "Embeddings: 100%|\u001b[32m██████████\u001b[0m| 1/1 [00:13<00:00, 13.39s/it]atch correction: pcr_comparison]    \u001b[A\n",
      "\n",
      "                                                                                         \u001b[A/ictstr01/home/icb/fatemehs.hashemig/codes/interpretable-ssl/interpretable_ssl/trainers/trainer.py:321: FutureWarning: The frame.append method is deprecated and will be removed from pandas in a future version. Use pandas.concat instead.\n",
      "  overall_df = overall_df.append(fold_df, ignore_index=True)\n"
     ]
    },
    {
     "name": "stdout",
     "output_type": "stream",
     "text": [
      "Evaluating fold 7\n",
      "Embedding dictionary:\n",
      " \tNum conditions: [3]\n",
      " \tEmbedding dim: [10]\n",
      "Encoder Architecture:\n",
      "\tInput Layer in, out and cond: 4000 64 10\n",
      "\tMean/Var Layer in/out: 64 8\n",
      "Decoder Architecture:\n",
      "\tFirst Layer in, out and cond:  8 64 10\n",
      "\tOutput Layer in/out:  64 4000 \n",
      "\n"
     ]
    },
    {
     "name": "stderr",
     "output_type": "stream",
     "text": [
      "INFO:scarches.trainers.scpoli.trainer:GPU available: True, GPU used: True\n"
     ]
    },
    {
     "name": "stdout",
     "output_type": "stream",
     "text": [
      "Embedding dictionary:\n",
      " \tNum conditions: [5]\n",
      " \tEmbedding dim: [10]\n",
      "Encoder Architecture:\n",
      "\tInput Layer in, out and cond: 4000 64 10\n",
      "\tMean/Var Layer in/out: 64 8\n",
      "Decoder Architecture:\n",
      "\tFirst Layer in, out and cond:  8 64 10\n",
      "\tOutput Layer in/out:  64 4000 \n",
      "\n",
      "Initializing dataloaders\n",
      "Starting training\n",
      " |████████████████----| 80.0%  - val_loss: 4411.61 - val_cvae_loss: 4411.61\n",
      "Initializing unlabeled prototypes with Leiden with an unknown number of  clusters.\n",
      "Clustering succesful. Found 22 clusters.\n",
      " |████████████████████| 100.0%  - val_loss: 4385.37 - val_cvae_loss: 4385.37 - val_prototype_loss:    0.00 - val_unlabeled_loss:    0.83\n"
     ]
    },
    {
     "name": "stderr",
     "output_type": "stream",
     "text": [
      "Computing neighbors: 100%|██████████| 1/1 [00:01<00:00,  1.98s/it]\n",
      "Embeddings:   0%|\u001b[32m          \u001b[0m| 0/1 [00:00<?, ?it/s]\n",
      "Metrics:   0%|\u001b[34m          \u001b[0m| 0/10 [00:00<?, ?it/s]\u001b[A\n",
      "Metrics:   0%|\u001b[34m          \u001b[0m| 0/10 [00:00<?, ?it/s, Bio conservation: isolated_labels]\u001b[A\n",
      "Metrics:  10%|\u001b[34m█         \u001b[0m| 1/10 [00:00<00:00, 21.21it/s, Bio conservation: nmi_ari_cluster_labels_kmeans]\u001b[A\n",
      "Metrics:  20%|\u001b[34m██        \u001b[0m| 2/10 [00:01<00:04,  1.63it/s, Bio conservation: nmi_ari_cluster_labels_kmeans]\u001b[A\n",
      "Metrics:  20%|\u001b[34m██        \u001b[0m| 2/10 [00:01<00:04,  1.63it/s, Bio conservation: silhouette_label]             \u001b[A\n",
      "Metrics:  30%|\u001b[34m███       \u001b[0m| 3/10 [00:01<00:04,  1.63it/s, Bio conservation: clisi_knn]       \u001b[A\n",
      "Metrics:  40%|\u001b[34m████      \u001b[0m| 4/10 [00:01<00:01,  3.54it/s, Bio conservation: clisi_knn]\u001b[A\n",
      "Metrics:  40%|\u001b[34m████      \u001b[0m| 4/10 [00:01<00:01,  3.54it/s, Batch correction: silhouette_batch]\u001b[A\n",
      "Metrics:  50%|\u001b[34m█████     \u001b[0m| 5/10 [00:01<00:01,  3.54it/s, Batch correction: ilisi_knn]       \u001b[A\n",
      "Metrics:  60%|\u001b[34m██████    \u001b[0m| 6/10 [00:01<00:01,  3.54it/s, Batch correction: kbet_per_label]\u001b[A"
     ]
    },
    {
     "name": "stdout",
     "output_type": "stream",
     "text": [
      "\u001b[34mINFO    \u001b[0m CD20+ B cells consists of a single batch or is too small. Skip.                                           \n",
      "\u001b[34mINFO    \u001b[0m CD4+ T cells consists of a single batch or is too small. Skip.                                            \n",
      "\u001b[34mINFO    \u001b[0m CD8+ T cells consists of a single batch or is too small. Skip.                                            \n",
      "\u001b[34mINFO    \u001b[0m Megakaryocyte progenitors consists of a single batch or is too small. Skip.                               \n",
      "\u001b[34mINFO    \u001b[0m Monocyte-derived dendritic cells consists of a single batch or is too small. Skip.                        \n",
      "\u001b[34mINFO    \u001b[0m NK cells consists of a single batch or is too small. Skip.                                                \n",
      "\u001b[34mINFO    \u001b[0m NKT cells consists of a single batch or is too small. Skip.                                               \n"
     ]
    },
    {
     "name": "stderr",
     "output_type": "stream",
     "text": [
      "\n",
      "Metrics:  70%|\u001b[34m███████   \u001b[0m| 7/10 [00:02<00:01,  2.62it/s, Batch correction: kbet_per_label]\u001b[A\n",
      "Metrics:  70%|\u001b[34m███████   \u001b[0m| 7/10 [00:02<00:01,  2.62it/s, Batch correction: graph_connectivity]\u001b[A\n",
      "Embeddings: 100%|\u001b[32m██████████\u001b[0m| 1/1 [00:02<00:00,  2.77s/it]atch correction: pcr_comparison]    \u001b[A\n",
      "\n",
      "                                                                                         \u001b[A/ictstr01/home/icb/fatemehs.hashemig/codes/interpretable-ssl/interpretable_ssl/trainers/trainer.py:321: FutureWarning: The frame.append method is deprecated and will be removed from pandas in a future version. Use pandas.concat instead.\n",
      "  overall_df = overall_df.append(fold_df, ignore_index=True)\n"
     ]
    },
    {
     "name": "stdout",
     "output_type": "stream",
     "text": [
      "Evaluating fold 8\n",
      "Embedding dictionary:\n",
      " \tNum conditions: [3]\n",
      " \tEmbedding dim: [10]\n",
      "Encoder Architecture:\n",
      "\tInput Layer in, out and cond: 4000 64 10\n",
      "\tMean/Var Layer in/out: 64 8\n",
      "Decoder Architecture:\n",
      "\tFirst Layer in, out and cond:  8 64 10\n",
      "\tOutput Layer in/out:  64 4000 \n",
      "\n"
     ]
    },
    {
     "name": "stderr",
     "output_type": "stream",
     "text": [
      "INFO:scarches.trainers.scpoli.trainer:GPU available: True, GPU used: True\n"
     ]
    },
    {
     "name": "stdout",
     "output_type": "stream",
     "text": [
      "Embedding dictionary:\n",
      " \tNum conditions: [5]\n",
      " \tEmbedding dim: [10]\n",
      "Encoder Architecture:\n",
      "\tInput Layer in, out and cond: 4000 64 10\n",
      "\tMean/Var Layer in/out: 64 8\n",
      "Decoder Architecture:\n",
      "\tFirst Layer in, out and cond:  8 64 10\n",
      "\tOutput Layer in/out:  64 4000 \n",
      "\n",
      "Initializing dataloaders\n",
      "Starting training\n",
      " |████████████████----| 80.0%  - val_loss:  448.95 - val_cvae_loss:  448.95\n",
      "Initializing unlabeled prototypes with Leiden with an unknown number of  clusters.\n",
      "Clustering succesful. Found 32 clusters.\n",
      " |████████████████████| 100.0%  - val_loss:  449.39 - val_cvae_loss:  449.39 - val_prototype_loss:    0.00 - val_unlabeled_loss:    0.95\n"
     ]
    },
    {
     "name": "stderr",
     "output_type": "stream",
     "text": [
      "Computing neighbors: 100%|██████████| 1/1 [00:07<00:00,  7.44s/it]\n",
      "Embeddings:   0%|\u001b[32m          \u001b[0m| 0/1 [00:00<?, ?it/s]\n",
      "Metrics:   0%|\u001b[34m          \u001b[0m| 0/10 [00:00<?, ?it/s]\u001b[A\n",
      "Metrics:   0%|\u001b[34m          \u001b[0m| 0/10 [00:00<?, ?it/s, Bio conservation: isolated_labels]\u001b[A\n",
      "Metrics:  10%|\u001b[34m█         \u001b[0m| 1/10 [00:00<00:06,  1.48it/s, Bio conservation: isolated_labels]\u001b[A\n",
      "Metrics:  10%|\u001b[34m█         \u001b[0m| 1/10 [00:00<00:06,  1.48it/s, Bio conservation: nmi_ari_cluster_labels_kmeans]\u001b[A\n",
      "Metrics:  20%|\u001b[34m██        \u001b[0m| 2/10 [00:03<00:16,  2.09s/it, Bio conservation: nmi_ari_cluster_labels_kmeans]\u001b[A\n",
      "Metrics:  20%|\u001b[34m██        \u001b[0m| 2/10 [00:03<00:16,  2.09s/it, Bio conservation: silhouette_label]             \u001b[A\n",
      "Metrics:  30%|\u001b[34m███       \u001b[0m| 3/10 [00:04<00:10,  1.43s/it, Bio conservation: silhouette_label]\u001b[A\n",
      "Metrics:  30%|\u001b[34m███       \u001b[0m| 3/10 [00:04<00:10,  1.43s/it, Bio conservation: clisi_knn]       \u001b[A\n",
      "Metrics:  40%|\u001b[34m████      \u001b[0m| 4/10 [00:04<00:08,  1.43s/it, Batch correction: silhouette_batch]\u001b[A\n",
      "Metrics:  50%|\u001b[34m█████     \u001b[0m| 5/10 [00:04<00:03,  1.41it/s, Batch correction: silhouette_batch]\u001b[A\n",
      "Metrics:  50%|\u001b[34m█████     \u001b[0m| 5/10 [00:04<00:03,  1.41it/s, Batch correction: ilisi_knn]       \u001b[A\n",
      "Metrics:  60%|\u001b[34m██████    \u001b[0m| 6/10 [00:04<00:02,  1.41it/s, Batch correction: kbet_per_label]\u001b[A"
     ]
    },
    {
     "name": "stdout",
     "output_type": "stream",
     "text": [
      "\u001b[34mINFO    \u001b[0m HSPCs consists of a single batch or is too small. Skip.                                                   \n",
      "\u001b[34mINFO    \u001b[0m Plasma cells consists of a single batch or is too small. Skip.                                            \n"
     ]
    },
    {
     "name": "stderr",
     "output_type": "stream",
     "text": [
      "\n",
      "Metrics:  70%|\u001b[34m███████   \u001b[0m| 7/10 [00:19<00:11,  3.71s/it, Batch correction: kbet_per_label]\u001b[A\n",
      "Metrics:  70%|\u001b[34m███████   \u001b[0m| 7/10 [00:19<00:11,  3.71s/it, Batch correction: graph_connectivity]\u001b[A\n",
      "Metrics:  80%|\u001b[34m████████  \u001b[0m| 8/10 [00:19<00:07,  3.71s/it, Batch correction: pcr_comparison]    \u001b[A\n",
      "Embeddings: 100%|\u001b[32m██████████\u001b[0m| 1/1 [00:19<00:00, 19.71s/it]atch correction: pcr_comparison]\u001b[A\n",
      "\n",
      "                                                                                         \u001b[A/ictstr01/home/icb/fatemehs.hashemig/codes/interpretable-ssl/interpretable_ssl/trainers/trainer.py:321: FutureWarning: The frame.append method is deprecated and will be removed from pandas in a future version. Use pandas.concat instead.\n",
      "  overall_df = overall_df.append(fold_df, ignore_index=True)\n"
     ]
    },
    {
     "name": "stdout",
     "output_type": "stream",
     "text": [
      "Evaluating fold 9\n",
      "Embedding dictionary:\n",
      " \tNum conditions: [3]\n",
      " \tEmbedding dim: [10]\n",
      "Encoder Architecture:\n",
      "\tInput Layer in, out and cond: 4000 64 10\n",
      "\tMean/Var Layer in/out: 64 8\n",
      "Decoder Architecture:\n",
      "\tFirst Layer in, out and cond:  8 64 10\n",
      "\tOutput Layer in/out:  64 4000 \n",
      "\n"
     ]
    },
    {
     "name": "stderr",
     "output_type": "stream",
     "text": [
      "INFO:scarches.trainers.scpoli.trainer:GPU available: True, GPU used: True\n"
     ]
    },
    {
     "name": "stdout",
     "output_type": "stream",
     "text": [
      "Embedding dictionary:\n",
      " \tNum conditions: [5]\n",
      " \tEmbedding dim: [10]\n",
      "Encoder Architecture:\n",
      "\tInput Layer in, out and cond: 4000 64 10\n",
      "\tMean/Var Layer in/out: 64 8\n",
      "Decoder Architecture:\n",
      "\tFirst Layer in, out and cond:  8 64 10\n",
      "\tOutput Layer in/out:  64 4000 \n",
      "\n",
      "Initializing dataloaders\n",
      "Starting training\n",
      " |████████████████----| 80.0%  - val_loss: 4131.76 - val_cvae_loss: 4131.76\n",
      "Initializing unlabeled prototypes with Leiden with an unknown number of  clusters.\n",
      "Clustering succesful. Found 25 clusters.\n",
      " |████████████████████| 100.0%  - val_loss: 4146.72 - val_cvae_loss: 4146.72 - val_prototype_loss:    0.00 - val_unlabeled_loss:    0.58\n"
     ]
    },
    {
     "name": "stderr",
     "output_type": "stream",
     "text": [
      "Computing neighbors: 100%|██████████| 1/1 [00:04<00:00,  4.81s/it]\n",
      "Embeddings:   0%|\u001b[32m          \u001b[0m| 0/1 [00:00<?, ?it/s]\n",
      "Metrics:   0%|\u001b[34m          \u001b[0m| 0/10 [00:00<?, ?it/s]\u001b[A\n",
      "Metrics:   0%|\u001b[34m          \u001b[0m| 0/10 [00:00<?, ?it/s, Bio conservation: isolated_labels]\u001b[A\n",
      "Metrics:  10%|\u001b[34m█         \u001b[0m| 1/10 [00:00<00:03,  2.42it/s, Bio conservation: isolated_labels]\u001b[A\n",
      "Metrics:  10%|\u001b[34m█         \u001b[0m| 1/10 [00:00<00:03,  2.42it/s, Bio conservation: nmi_ari_cluster_labels_kmeans]\u001b[A\n",
      "Metrics:  20%|\u001b[34m██        \u001b[0m| 2/10 [00:02<00:12,  1.58s/it, Bio conservation: nmi_ari_cluster_labels_kmeans]\u001b[A\n",
      "Metrics:  20%|\u001b[34m██        \u001b[0m| 2/10 [00:02<00:12,  1.58s/it, Bio conservation: silhouette_label]             \u001b[A\n",
      "Metrics:  30%|\u001b[34m███       \u001b[0m| 3/10 [00:03<00:07,  1.02s/it, Bio conservation: silhouette_label]\u001b[A\n",
      "Metrics:  30%|\u001b[34m███       \u001b[0m| 3/10 [00:03<00:07,  1.02s/it, Bio conservation: clisi_knn]       \u001b[A\n",
      "Metrics:  40%|\u001b[34m████      \u001b[0m| 4/10 [00:03<00:06,  1.02s/it, Batch correction: silhouette_batch]\u001b[A\n",
      "Metrics:  50%|\u001b[34m█████     \u001b[0m| 5/10 [00:03<00:02,  2.07it/s, Batch correction: silhouette_batch]\u001b[A\n",
      "Metrics:  50%|\u001b[34m█████     \u001b[0m| 5/10 [00:03<00:02,  2.07it/s, Batch correction: ilisi_knn]       \u001b[A\n",
      "Metrics:  60%|\u001b[34m██████    \u001b[0m| 6/10 [00:03<00:01,  2.07it/s, Batch correction: kbet_per_label]\u001b[A"
     ]
    },
    {
     "name": "stdout",
     "output_type": "stream",
     "text": [
      "\u001b[34mINFO    \u001b[0m CD20+ B cells consists of a single batch or is too small. Skip.                                           \n",
      "\u001b[34mINFO    \u001b[0m CD4+ T cells consists of a single batch or is too small. Skip.                                            \n",
      "\u001b[34mINFO    \u001b[0m CD8+ T cells consists of a single batch or is too small. Skip.                                            \n",
      "\u001b[34mINFO    \u001b[0m HSPCs consists of a single batch or is too small. Skip.                                                   \n",
      "\u001b[34mINFO    \u001b[0m Megakaryocyte progenitors consists of a single batch or is too small. Skip.                               \n",
      "\u001b[34mINFO    \u001b[0m NK cells consists of a single batch or is too small. Skip.                                                \n",
      "\u001b[34mINFO    \u001b[0m NKT cells consists of a single batch or is too small. Skip.                                               \n",
      "\u001b[34mINFO    \u001b[0m Plasma cells consists of a single batch or is too small. Skip.                                            \n"
     ]
    },
    {
     "name": "stderr",
     "output_type": "stream",
     "text": [
      "\n",
      "Metrics:  70%|\u001b[34m███████   \u001b[0m| 7/10 [00:08<00:04,  1.34s/it, Batch correction: kbet_per_label]\u001b[A\n",
      "Metrics:  70%|\u001b[34m███████   \u001b[0m| 7/10 [00:08<00:04,  1.34s/it, Batch correction: graph_connectivity]\u001b[A\n",
      "Embeddings: 100%|\u001b[32m██████████\u001b[0m| 1/1 [00:08<00:00,  8.18s/it]atch correction: pcr_comparison]    \u001b[A\n",
      "\n",
      "                                                                                         \u001b[A/ictstr01/home/icb/fatemehs.hashemig/codes/interpretable-ssl/interpretable_ssl/trainers/trainer.py:321: FutureWarning: The frame.append method is deprecated and will be removed from pandas in a future version. Use pandas.concat instead.\n",
      "  overall_df = overall_df.append(fold_df, ignore_index=True)\n"
     ]
    },
    {
     "name": "stdout",
     "output_type": "stream",
     "text": [
      "Evaluating fold 10\n",
      "Embedding dictionary:\n",
      " \tNum conditions: [3]\n",
      " \tEmbedding dim: [10]\n",
      "Encoder Architecture:\n",
      "\tInput Layer in, out and cond: 4000 64 10\n",
      "\tMean/Var Layer in/out: 64 8\n",
      "Decoder Architecture:\n",
      "\tFirst Layer in, out and cond:  8 64 10\n",
      "\tOutput Layer in/out:  64 4000 \n",
      "\n"
     ]
    },
    {
     "name": "stderr",
     "output_type": "stream",
     "text": [
      "INFO:scarches.trainers.scpoli.trainer:GPU available: True, GPU used: True\n"
     ]
    },
    {
     "name": "stdout",
     "output_type": "stream",
     "text": [
      "Embedding dictionary:\n",
      " \tNum conditions: [5]\n",
      " \tEmbedding dim: [10]\n",
      "Encoder Architecture:\n",
      "\tInput Layer in, out and cond: 4000 64 10\n",
      "\tMean/Var Layer in/out: 64 8\n",
      "Decoder Architecture:\n",
      "\tFirst Layer in, out and cond:  8 64 10\n",
      "\tOutput Layer in/out:  64 4000 \n",
      "\n",
      "Initializing dataloaders\n",
      "Starting training\n",
      " |████████████████----| 80.0%  - val_loss: 4451.55 - val_cvae_loss: 4451.55\n",
      "Initializing unlabeled prototypes with Leiden with an unknown number of  clusters.\n",
      "Clustering succesful. Found 26 clusters.\n",
      " |████████████████████| 100.0%  - val_loss: 4453.09 - val_cvae_loss: 4453.09 - val_prototype_loss:    0.00 - val_unlabeled_loss:    0.57\n"
     ]
    },
    {
     "name": "stderr",
     "output_type": "stream",
     "text": [
      "Computing neighbors: 100%|██████████| 1/1 [00:04<00:00,  4.03s/it]\n",
      "Embeddings:   0%|\u001b[32m          \u001b[0m| 0/1 [00:00<?, ?it/s]\n",
      "Metrics:   0%|\u001b[34m          \u001b[0m| 0/10 [00:00<?, ?it/s]\u001b[A\n",
      "Metrics:   0%|\u001b[34m          \u001b[0m| 0/10 [00:00<?, ?it/s, Bio conservation: isolated_labels]\u001b[A\n",
      "Metrics:  10%|\u001b[34m█         \u001b[0m| 1/10 [00:00<00:02,  4.44it/s, Bio conservation: isolated_labels]\u001b[A\n",
      "Metrics:  10%|\u001b[34m█         \u001b[0m| 1/10 [00:00<00:02,  4.44it/s, Bio conservation: nmi_ari_cluster_labels_kmeans]\u001b[A\n",
      "Metrics:  20%|\u001b[34m██        \u001b[0m| 2/10 [00:01<00:07,  1.14it/s, Bio conservation: nmi_ari_cluster_labels_kmeans]\u001b[A\n",
      "Metrics:  20%|\u001b[34m██        \u001b[0m| 2/10 [00:01<00:07,  1.14it/s, Bio conservation: silhouette_label]             \u001b[A\n",
      "Metrics:  30%|\u001b[34m███       \u001b[0m| 3/10 [00:01<00:04,  1.69it/s, Bio conservation: silhouette_label]\u001b[A\n",
      "Metrics:  30%|\u001b[34m███       \u001b[0m| 3/10 [00:01<00:04,  1.69it/s, Bio conservation: clisi_knn]       \u001b[A\n",
      "Metrics:  40%|\u001b[34m████      \u001b[0m| 4/10 [00:01<00:03,  1.69it/s, Batch correction: silhouette_batch]\u001b[A\n",
      "Metrics:  50%|\u001b[34m█████     \u001b[0m| 5/10 [00:01<00:01,  3.28it/s, Batch correction: silhouette_batch]\u001b[A\n",
      "Metrics:  50%|\u001b[34m█████     \u001b[0m| 5/10 [00:01<00:01,  3.28it/s, Batch correction: ilisi_knn]       \u001b[A\n",
      "Metrics:  60%|\u001b[34m██████    \u001b[0m| 6/10 [00:02<00:01,  3.28it/s, Batch correction: kbet_per_label]\u001b[A\n",
      "Metrics:  70%|\u001b[34m███████   \u001b[0m| 7/10 [00:07<00:04,  1.44s/it, Batch correction: kbet_per_label]\u001b[A\n",
      "Metrics:  70%|\u001b[34m███████   \u001b[0m| 7/10 [00:07<00:04,  1.44s/it, Batch correction: graph_connectivity]\u001b[A\n",
      "Embeddings: 100%|\u001b[32m██████████\u001b[0m| 1/1 [00:07<00:00,  7.72s/it]atch correction: pcr_comparison]    \u001b[A\n",
      "\n",
      "                                                                                         \u001b[A/ictstr01/home/icb/fatemehs.hashemig/codes/interpretable-ssl/interpretable_ssl/trainers/trainer.py:321: FutureWarning: The frame.append method is deprecated and will be removed from pandas in a future version. Use pandas.concat instead.\n",
      "  overall_df = overall_df.append(fold_df, ignore_index=True)\n"
     ]
    },
    {
     "data": {
      "text/html": [
       "<div>\n",
       "<style scoped>\n",
       "    .dataframe tbody tr th:only-of-type {\n",
       "        vertical-align: middle;\n",
       "    }\n",
       "\n",
       "    .dataframe tbody tr th {\n",
       "        vertical-align: top;\n",
       "    }\n",
       "\n",
       "    .dataframe thead th {\n",
       "        text-align: right;\n",
       "    }\n",
       "</style>\n",
       "<table border=\"1\" class=\"dataframe\">\n",
       "  <thead>\n",
       "    <tr style=\"text-align: right;\">\n",
       "      <th></th>\n",
       "      <th>Isolated labels</th>\n",
       "      <th>KMeans NMI</th>\n",
       "      <th>KMeans ARI</th>\n",
       "      <th>Silhouette label</th>\n",
       "      <th>cLISI</th>\n",
       "      <th>Silhouette batch</th>\n",
       "      <th>iLISI</th>\n",
       "      <th>KBET</th>\n",
       "      <th>Graph connectivity</th>\n",
       "      <th>PCR comparison</th>\n",
       "      <th>Batch correction</th>\n",
       "      <th>Bio conservation</th>\n",
       "      <th>Total</th>\n",
       "    </tr>\n",
       "    <tr>\n",
       "      <th>trainer</th>\n",
       "      <th></th>\n",
       "      <th></th>\n",
       "      <th></th>\n",
       "      <th></th>\n",
       "      <th></th>\n",
       "      <th></th>\n",
       "      <th></th>\n",
       "      <th></th>\n",
       "      <th></th>\n",
       "      <th></th>\n",
       "      <th></th>\n",
       "      <th></th>\n",
       "      <th></th>\n",
       "    </tr>\n",
       "  </thead>\n",
       "  <tbody>\n",
       "    <tr>\n",
       "      <th>barlow-num-prot-16_hidden-64_bs-1024</th>\n",
       "      <td>0.624711</td>\n",
       "      <td>0.637121</td>\n",
       "      <td>0.459713</td>\n",
       "      <td>0.562171</td>\n",
       "      <td>0.978795</td>\n",
       "      <td>0.774145</td>\n",
       "      <td>0.228012</td>\n",
       "      <td>0.41362</td>\n",
       "      <td>0.845072</td>\n",
       "      <td>0.748697</td>\n",
       "      <td>0.601909</td>\n",
       "      <td>0.652502</td>\n",
       "      <td>0.632265</td>\n",
       "    </tr>\n",
       "  </tbody>\n",
       "</table>\n",
       "</div>"
      ],
      "text/plain": [
       "                                      Isolated labels  KMeans NMI  KMeans ARI  \\\n",
       "trainer                                                                         \n",
       "barlow-num-prot-16_hidden-64_bs-1024         0.624711    0.637121    0.459713   \n",
       "\n",
       "                                      Silhouette label     cLISI  \\\n",
       "trainer                                                            \n",
       "barlow-num-prot-16_hidden-64_bs-1024          0.562171  0.978795   \n",
       "\n",
       "                                      Silhouette batch     iLISI     KBET  \\\n",
       "trainer                                                                     \n",
       "barlow-num-prot-16_hidden-64_bs-1024          0.774145  0.228012  0.41362   \n",
       "\n",
       "                                      Graph connectivity  PCR comparison  \\\n",
       "trainer                                                                    \n",
       "barlow-num-prot-16_hidden-64_bs-1024            0.845072        0.748697   \n",
       "\n",
       "                                      Batch correction  Bio conservation  \\\n",
       "trainer                                                                    \n",
       "barlow-num-prot-16_hidden-64_bs-1024          0.601909          0.652502   \n",
       "\n",
       "                                         Total  \n",
       "trainer                                         \n",
       "barlow-num-prot-16_hidden-64_bs-1024  0.632265  "
      ]
     },
     "execution_count": 22,
     "metadata": {},
     "output_type": "execute_result"
    }
   ],
   "source": [
    "barlow.batch_size = 1024\n",
    "\n",
    "df = barlow.evaluate_custom_cross_val_models(barlow.query_scib_metrics)\n",
    "df['trainer'] = barlow.get_model_name()\n",
    "process_dataframe(df)"
   ]
  },
  {
   "cell_type": "markdown",
   "id": "15efb598-c097-497d-910a-aa69b27df15a",
   "metadata": {
    "jp-MarkdownHeadingCollapsed": true
   },
   "source": [
    "# compare models with higher batch size (bs = 512)"
   ]
  },
  {
   "cell_type": "code",
   "execution_count": 14,
   "id": "38558bcf-9d43-4e91-a973-5ad0ff2e4268",
   "metadata": {},
   "outputs": [
    {
     "name": "stdout",
     "output_type": "stream",
     "text": [
      "/home/icb/fatemehs.hashemig/models//pbmc-immune/barlow-num-prot-16_hidden-64_bs-512.pth\n",
      "/home/icb/fatemehs.hashemig/models//pbmc-immune/barlow-num-prot-32_hidden-64_bs-512.pth\n",
      "/home/icb/fatemehs.hashemig/models//pbmc-immune/simclr-num-prot-16_hidden-64_bs-512.pth\n",
      "/home/icb/fatemehs.hashemig/models//pbmc-immune/scpoli-original-latent_dim8_bs512.pth\n",
      "/home/icb/fatemehs.hashemig/models//pbmc-immune/scvi-latent_dim8_bs512\n"
     ]
    }
   ],
   "source": [
    "trainers = [barlow, barlow32, simclr, scpoli, scvi]\n",
    "for tr in trainers:\n",
    "    tr.batch_size = 512\n",
    "    print(tr.get_model_path())"
   ]
  },
  {
   "cell_type": "code",
   "execution_count": 15,
   "id": "e70dd999-f6fd-4a16-af8e-c2800eee0e32",
   "metadata": {
    "scrolled": true
   },
   "outputs": [
    {
     "name": "stdout",
     "output_type": "stream",
     "text": [
      "running custom cross validation evaluation\n",
      "Evaluating fold 1\n",
      "Embedding dictionary:\n",
      " \tNum conditions: [3]\n",
      " \tEmbedding dim: [10]\n",
      "Encoder Architecture:\n",
      "\tInput Layer in, out and cond: 4000 64 10\n",
      "\tMean/Var Layer in/out: 64 8\n",
      "Decoder Architecture:\n",
      "\tFirst Layer in, out and cond:  8 64 10\n",
      "\tOutput Layer in/out:  64 4000 \n",
      "\n"
     ]
    },
    {
     "name": "stderr",
     "output_type": "stream",
     "text": [
      "/home/icb/fatemehs.hashemig/miniconda3/envs/interpretable-ssl/lib/python3.12/site-packages/scarches/models/scpoli/scpoli_model.py:347: UserWarning: Creating a tensor from a list of numpy.ndarrays is extremely slow. Please consider converting the list to a single numpy.ndarray with numpy.array() before converting to a tensor. (Triggered internally at /opt/conda/conda-bld/pytorch_1708025845206/work/torch/csrc/utils/tensor_new.cpp:275.)\n",
      "  c = torch.tensor(label_tensor, device=device).T\n",
      "INFO:scarches.trainers.scpoli.trainer:GPU available: True, GPU used: True\n"
     ]
    },
    {
     "name": "stdout",
     "output_type": "stream",
     "text": [
      "Embedding dictionary:\n",
      " \tNum conditions: [5]\n",
      " \tEmbedding dim: [10]\n",
      "Encoder Architecture:\n",
      "\tInput Layer in, out and cond: 4000 64 10\n",
      "\tMean/Var Layer in/out: 64 8\n",
      "Decoder Architecture:\n",
      "\tFirst Layer in, out and cond:  8 64 10\n",
      "\tOutput Layer in/out:  64 4000 \n",
      "\n",
      "Warning: Labels in adata.obs[cell_type] is not a subset of label-encoder!\n",
      "The missing labels are: {'Erythrocytes', 'CD10+ B cells', 'Monocyte progenitors', 'Erythroid progenitors'}\n",
      "Therefore integer value of those labels is set to -1\n",
      "Warning: Labels in adata.obs[cell_type] is not a subset of label-encoder!\n",
      "The missing labels are: {'Erythrocytes', 'CD10+ B cells', 'Monocyte progenitors', 'Erythroid progenitors'}\n",
      "Therefore integer value of those labels is set to -1\n",
      "Initializing dataloaders\n",
      "Starting training\n",
      " |████████████████----| 80.0%  - val_loss:  441.59 - val_cvae_loss:  441.59\n",
      "Initializing unlabeled prototypes with Leiden with an unknown number of  clusters.\n",
      "Clustering succesful. Found 30 clusters.\n",
      " |████████████████████| 100.0%  - val_loss:  440.63 - val_cvae_loss:  440.63 - val_prototype_loss:    0.00 - val_unlabeled_loss:    0.51\n"
     ]
    },
    {
     "name": "stderr",
     "output_type": "stream",
     "text": [
      "Computing neighbors: 100%|██████████| 1/1 [00:05<00:00,  5.59s/it]\n",
      "Embeddings:   0%|\u001b[32m          \u001b[0m| 0/1 [00:00<?, ?it/s]\n",
      "Metrics:   0%|\u001b[34m          \u001b[0m| 0/10 [00:00<?, ?it/s]\u001b[A\n",
      "Metrics:   0%|\u001b[34m          \u001b[0m| 0/10 [00:00<?, ?it/s, Bio conservation: isolated_labels]\u001b[AWARNING:jax._src.xla_bridge:An NVIDIA GPU may be present on this machine, but a CUDA-enabled jaxlib is not installed. Falling back to cpu.\n",
      "\n",
      "Metrics:  10%|\u001b[34m█         \u001b[0m| 1/10 [00:14<02:12, 14.67s/it, Bio conservation: isolated_labels]\u001b[A\n",
      "Metrics:  10%|\u001b[34m█         \u001b[0m| 1/10 [00:14<02:12, 14.67s/it, Bio conservation: nmi_ari_cluster_labels_kmeans]\u001b[A\n",
      "Metrics:  20%|\u001b[34m██        \u001b[0m| 2/10 [00:17<01:01,  7.64s/it, Bio conservation: nmi_ari_cluster_labels_kmeans]\u001b[A\n",
      "Metrics:  20%|\u001b[34m██        \u001b[0m| 2/10 [00:17<01:01,  7.64s/it, Bio conservation: silhouette_label]             \u001b[A\n",
      "Metrics:  30%|\u001b[34m███       \u001b[0m| 3/10 [00:18<00:31,  4.46s/it, Bio conservation: silhouette_label]\u001b[A\n",
      "Metrics:  30%|\u001b[34m███       \u001b[0m| 3/10 [00:18<00:31,  4.46s/it, Bio conservation: clisi_knn]       \u001b[A\n",
      "Metrics:  40%|\u001b[34m████      \u001b[0m| 4/10 [00:19<00:18,  3.15s/it, Bio conservation: clisi_knn]\u001b[A\n",
      "Metrics:  40%|\u001b[34m████      \u001b[0m| 4/10 [00:19<00:18,  3.15s/it, Batch correction: silhouette_batch]\u001b[A\n",
      "Metrics:  50%|\u001b[34m█████     \u001b[0m| 5/10 [00:25<00:20,  4.14s/it, Batch correction: silhouette_batch]\u001b[A\n",
      "Metrics:  50%|\u001b[34m█████     \u001b[0m| 5/10 [00:25<00:20,  4.14s/it, Batch correction: ilisi_knn]       \u001b[A\n",
      "Metrics:  60%|\u001b[34m██████    \u001b[0m| 6/10 [00:25<00:11,  2.78s/it, Batch correction: ilisi_knn]\u001b[A\n",
      "Metrics:  60%|\u001b[34m██████    \u001b[0m| 6/10 [00:25<00:11,  2.78s/it, Batch correction: kbet_per_label]\u001b[A\n",
      "Metrics:  70%|\u001b[34m███████   \u001b[0m| 7/10 [00:41<00:21,  7.16s/it, Batch correction: kbet_per_label]\u001b[A\n",
      "Metrics:  70%|\u001b[34m███████   \u001b[0m| 7/10 [00:41<00:21,  7.16s/it, Batch correction: graph_connectivity]\u001b[A\n",
      "Metrics:  80%|\u001b[34m████████  \u001b[0m| 8/10 [00:41<00:14,  7.16s/it, Batch correction: pcr_comparison]    \u001b[A\n",
      "Embeddings: 100%|\u001b[32m██████████\u001b[0m| 1/1 [00:43<00:00, 43.08s/it]atch correction: pcr_comparison]\u001b[A\n",
      "\n",
      "                                                                                         \u001b[A/ictstr01/home/icb/fatemehs.hashemig/codes/interpretable-ssl/interpretable_ssl/trainers/trainer.py:321: FutureWarning: The frame.append method is deprecated and will be removed from pandas in a future version. Use pandas.concat instead.\n",
      "  overall_df = overall_df.append(fold_df, ignore_index=True)\n"
     ]
    },
    {
     "name": "stdout",
     "output_type": "stream",
     "text": [
      "Evaluating fold 2\n",
      "Embedding dictionary:\n",
      " \tNum conditions: [3]\n",
      " \tEmbedding dim: [10]\n",
      "Encoder Architecture:\n",
      "\tInput Layer in, out and cond: 4000 64 10\n",
      "\tMean/Var Layer in/out: 64 8\n",
      "Decoder Architecture:\n",
      "\tFirst Layer in, out and cond:  8 64 10\n",
      "\tOutput Layer in/out:  64 4000 \n",
      "\n"
     ]
    },
    {
     "name": "stderr",
     "output_type": "stream",
     "text": [
      "INFO:scarches.trainers.scpoli.trainer:GPU available: True, GPU used: True\n"
     ]
    },
    {
     "name": "stdout",
     "output_type": "stream",
     "text": [
      "Embedding dictionary:\n",
      " \tNum conditions: [5]\n",
      " \tEmbedding dim: [10]\n",
      "Encoder Architecture:\n",
      "\tInput Layer in, out and cond: 4000 64 10\n",
      "\tMean/Var Layer in/out: 64 8\n",
      "Decoder Architecture:\n",
      "\tFirst Layer in, out and cond:  8 64 10\n",
      "\tOutput Layer in/out:  64 4000 \n",
      "\n",
      "Warning: Labels in adata.obs[cell_type] is not a subset of label-encoder!\n",
      "The missing labels are: {'HSPCs', 'Monocyte progenitors', 'Erythroid progenitors', 'Erythrocytes', 'Plasma cells', 'CD10+ B cells'}\n",
      "Therefore integer value of those labels is set to -1\n",
      "Warning: Labels in adata.obs[cell_type] is not a subset of label-encoder!\n",
      "The missing labels are: {'Plasma cells', 'HSPCs'}\n",
      "Therefore integer value of those labels is set to -1\n",
      "Warning: Labels in adata.obs[cell_type] is not a subset of label-encoder!\n",
      "The missing labels are: {'HSPCs', 'Monocyte progenitors', 'Erythroid progenitors', 'Erythrocytes', 'Plasma cells', 'CD10+ B cells'}\n",
      "Therefore integer value of those labels is set to -1\n",
      "Warning: Labels in adata.obs[cell_type] is not a subset of label-encoder!\n",
      "The missing labels are: {'Plasma cells', 'HSPCs'}\n",
      "Therefore integer value of those labels is set to -1\n",
      "Initializing dataloaders\n",
      "Starting training\n",
      " |████████████████----| 80.0%  - val_loss:  883.74 - val_cvae_loss:  883.74\n",
      "Initializing unlabeled prototypes with Leiden with an unknown number of  clusters.\n",
      "Clustering succesful. Found 29 clusters.\n",
      " |████████████████████| 100.0%  - val_loss:  884.87 - val_cvae_loss:  884.87 - val_prototype_loss:    0.00 - val_unlabeled_loss:    0.69\n"
     ]
    },
    {
     "name": "stderr",
     "output_type": "stream",
     "text": [
      "Computing neighbors: 100%|██████████| 1/1 [00:08<00:00,  8.50s/it]\n",
      "Embeddings:   0%|\u001b[32m          \u001b[0m| 0/1 [00:00<?, ?it/s]\n",
      "Metrics:   0%|\u001b[34m          \u001b[0m| 0/10 [00:00<?, ?it/s]\u001b[A\n",
      "Metrics:   0%|\u001b[34m          \u001b[0m| 0/10 [00:00<?, ?it/s, Bio conservation: isolated_labels]\u001b[A\n",
      "Metrics:  10%|\u001b[34m█         \u001b[0m| 1/10 [00:02<00:23,  2.62s/it, Bio conservation: isolated_labels]\u001b[A\n",
      "Metrics:  10%|\u001b[34m█         \u001b[0m| 1/10 [00:02<00:23,  2.62s/it, Bio conservation: nmi_ari_cluster_labels_kmeans]\u001b[A\n",
      "Metrics:  20%|\u001b[34m██        \u001b[0m| 2/10 [00:05<00:20,  2.55s/it, Bio conservation: nmi_ari_cluster_labels_kmeans]\u001b[A\n",
      "Metrics:  20%|\u001b[34m██        \u001b[0m| 2/10 [00:05<00:20,  2.55s/it, Bio conservation: silhouette_label]             \u001b[A\n",
      "Metrics:  30%|\u001b[34m███       \u001b[0m| 3/10 [00:05<00:12,  1.73s/it, Bio conservation: silhouette_label]\u001b[A\n",
      "Metrics:  30%|\u001b[34m███       \u001b[0m| 3/10 [00:05<00:12,  1.73s/it, Bio conservation: clisi_knn]       \u001b[A\n",
      "Metrics:  40%|\u001b[34m████      \u001b[0m| 4/10 [00:06<00:08,  1.37s/it, Bio conservation: clisi_knn]\u001b[A\n",
      "Metrics:  40%|\u001b[34m████      \u001b[0m| 4/10 [00:06<00:08,  1.37s/it, Batch correction: silhouette_batch]\u001b[A\n",
      "Metrics:  50%|\u001b[34m█████     \u001b[0m| 5/10 [00:11<00:13,  2.60s/it, Batch correction: silhouette_batch]\u001b[A\n",
      "Metrics:  50%|\u001b[34m█████     \u001b[0m| 5/10 [00:11<00:13,  2.60s/it, Batch correction: ilisi_knn]       \u001b[A\n",
      "Metrics:  60%|\u001b[34m██████    \u001b[0m| 6/10 [00:11<00:07,  1.77s/it, Batch correction: ilisi_knn]\u001b[A\n",
      "Metrics:  60%|\u001b[34m██████    \u001b[0m| 6/10 [00:11<00:07,  1.77s/it, Batch correction: kbet_per_label]\u001b[A\n",
      "Metrics:  70%|\u001b[34m███████   \u001b[0m| 7/10 [00:29<00:21,  7.01s/it, Batch correction: kbet_per_label]\u001b[A\n",
      "Metrics:  70%|\u001b[34m███████   \u001b[0m| 7/10 [00:29<00:21,  7.01s/it, Batch correction: graph_connectivity]\u001b[A\n",
      "Metrics:  80%|\u001b[34m████████  \u001b[0m| 8/10 [00:29<00:14,  7.01s/it, Batch correction: pcr_comparison]    \u001b[A\n",
      "Embeddings: 100%|\u001b[32m██████████\u001b[0m| 1/1 [00:30<00:00, 30.26s/it]atch correction: pcr_comparison]\u001b[A\n",
      "\n",
      "                                                                                         \u001b[A/ictstr01/home/icb/fatemehs.hashemig/codes/interpretable-ssl/interpretable_ssl/trainers/trainer.py:321: FutureWarning: The frame.append method is deprecated and will be removed from pandas in a future version. Use pandas.concat instead.\n",
      "  overall_df = overall_df.append(fold_df, ignore_index=True)\n"
     ]
    },
    {
     "name": "stdout",
     "output_type": "stream",
     "text": [
      "Evaluating fold 3\n",
      "Embedding dictionary:\n",
      " \tNum conditions: [3]\n",
      " \tEmbedding dim: [10]\n",
      "Encoder Architecture:\n",
      "\tInput Layer in, out and cond: 4000 64 10\n",
      "\tMean/Var Layer in/out: 64 8\n",
      "Decoder Architecture:\n",
      "\tFirst Layer in, out and cond:  8 64 10\n",
      "\tOutput Layer in/out:  64 4000 \n",
      "\n"
     ]
    },
    {
     "name": "stderr",
     "output_type": "stream",
     "text": [
      "INFO:scarches.trainers.scpoli.trainer:GPU available: True, GPU used: True\n"
     ]
    },
    {
     "name": "stdout",
     "output_type": "stream",
     "text": [
      "Embedding dictionary:\n",
      " \tNum conditions: [5]\n",
      " \tEmbedding dim: [10]\n",
      "Encoder Architecture:\n",
      "\tInput Layer in, out and cond: 4000 64 10\n",
      "\tMean/Var Layer in/out: 64 8\n",
      "Decoder Architecture:\n",
      "\tFirst Layer in, out and cond:  8 64 10\n",
      "\tOutput Layer in/out:  64 4000 \n",
      "\n",
      "Warning: Labels in adata.obs[cell_type] is not a subset of label-encoder!\n",
      "The missing labels are: {'Erythrocytes', 'CD10+ B cells', 'Monocyte progenitors', 'Erythroid progenitors'}\n",
      "Therefore integer value of those labels is set to -1\n",
      "Warning: Labels in adata.obs[cell_type] is not a subset of label-encoder!\n",
      "The missing labels are: {'Erythrocytes', 'CD10+ B cells', 'Monocyte progenitors', 'Erythroid progenitors'}\n",
      "Therefore integer value of those labels is set to -1\n",
      "Initializing dataloaders\n",
      "Starting training\n",
      " |████████████████----| 80.0%  - val_loss:  443.41 - val_cvae_loss:  443.41\n",
      "Initializing unlabeled prototypes with Leiden with an unknown number of  clusters.\n",
      "Clustering succesful. Found 29 clusters.\n",
      " |████████████████████| 100.0%  - val_loss:  444.40 - val_cvae_loss:  444.40 - val_prototype_loss:    0.00 - val_unlabeled_loss:    0.58\n"
     ]
    },
    {
     "name": "stderr",
     "output_type": "stream",
     "text": [
      "Computing neighbors: 100%|██████████| 1/1 [00:07<00:00,  7.86s/it]\n",
      "Embeddings:   0%|\u001b[32m          \u001b[0m| 0/1 [00:00<?, ?it/s]\n",
      "Metrics:   0%|\u001b[34m          \u001b[0m| 0/10 [00:00<?, ?it/s]\u001b[A\n",
      "Metrics:   0%|\u001b[34m          \u001b[0m| 0/10 [00:00<?, ?it/s, Bio conservation: isolated_labels]\u001b[A\n",
      "Metrics:  10%|\u001b[34m█         \u001b[0m| 1/10 [00:02<00:19,  2.19s/it, Bio conservation: isolated_labels]\u001b[A\n",
      "Metrics:  10%|\u001b[34m█         \u001b[0m| 1/10 [00:02<00:19,  2.19s/it, Bio conservation: nmi_ari_cluster_labels_kmeans]\u001b[A\n",
      "Metrics:  20%|\u001b[34m██        \u001b[0m| 2/10 [00:04<00:15,  1.99s/it, Bio conservation: nmi_ari_cluster_labels_kmeans]\u001b[A\n",
      "Metrics:  20%|\u001b[34m██        \u001b[0m| 2/10 [00:04<00:15,  1.99s/it, Bio conservation: silhouette_label]             \u001b[A\n",
      "Metrics:  30%|\u001b[34m███       \u001b[0m| 3/10 [00:04<00:09,  1.37s/it, Bio conservation: silhouette_label]\u001b[A\n",
      "Metrics:  30%|\u001b[34m███       \u001b[0m| 3/10 [00:04<00:09,  1.37s/it, Bio conservation: clisi_knn]       \u001b[A\n",
      "Metrics:  40%|\u001b[34m████      \u001b[0m| 4/10 [00:05<00:07,  1.26s/it, Bio conservation: clisi_knn]\u001b[A\n",
      "Metrics:  40%|\u001b[34m████      \u001b[0m| 4/10 [00:05<00:07,  1.26s/it, Batch correction: silhouette_batch]\u001b[A\n",
      "Metrics:  50%|\u001b[34m█████     \u001b[0m| 5/10 [00:09<00:11,  2.26s/it, Batch correction: silhouette_batch]\u001b[A\n",
      "Metrics:  50%|\u001b[34m█████     \u001b[0m| 5/10 [00:09<00:11,  2.26s/it, Batch correction: ilisi_knn]       \u001b[A\n",
      "Metrics:  60%|\u001b[34m██████    \u001b[0m| 6/10 [00:09<00:06,  1.55s/it, Batch correction: ilisi_knn]\u001b[A\n",
      "Metrics:  60%|\u001b[34m██████    \u001b[0m| 6/10 [00:09<00:06,  1.55s/it, Batch correction: kbet_per_label]\u001b[A\n",
      "Metrics:  70%|\u001b[34m███████   \u001b[0m| 7/10 [00:25<00:18,  6.15s/it, Batch correction: kbet_per_label]\u001b[A\n",
      "Metrics:  70%|\u001b[34m███████   \u001b[0m| 7/10 [00:25<00:18,  6.15s/it, Batch correction: graph_connectivity]\u001b[A\n",
      "Metrics:  80%|\u001b[34m████████  \u001b[0m| 8/10 [00:25<00:12,  6.15s/it, Batch correction: pcr_comparison]    \u001b[A\n",
      "Embeddings: 100%|\u001b[32m██████████\u001b[0m| 1/1 [00:26<00:00, 26.27s/it]atch correction: pcr_comparison]\u001b[A\n",
      "\n",
      "                                                                                         \u001b[A/ictstr01/home/icb/fatemehs.hashemig/codes/interpretable-ssl/interpretable_ssl/trainers/trainer.py:321: FutureWarning: The frame.append method is deprecated and will be removed from pandas in a future version. Use pandas.concat instead.\n",
      "  overall_df = overall_df.append(fold_df, ignore_index=True)\n"
     ]
    },
    {
     "name": "stdout",
     "output_type": "stream",
     "text": [
      "Evaluating fold 4\n",
      "Embedding dictionary:\n",
      " \tNum conditions: [3]\n",
      " \tEmbedding dim: [10]\n",
      "Encoder Architecture:\n",
      "\tInput Layer in, out and cond: 4000 64 10\n",
      "\tMean/Var Layer in/out: 64 8\n",
      "Decoder Architecture:\n",
      "\tFirst Layer in, out and cond:  8 64 10\n",
      "\tOutput Layer in/out:  64 4000 \n",
      "\n"
     ]
    },
    {
     "name": "stderr",
     "output_type": "stream",
     "text": [
      "INFO:scarches.trainers.scpoli.trainer:GPU available: True, GPU used: True\n"
     ]
    },
    {
     "name": "stdout",
     "output_type": "stream",
     "text": [
      "Embedding dictionary:\n",
      " \tNum conditions: [5]\n",
      " \tEmbedding dim: [10]\n",
      "Encoder Architecture:\n",
      "\tInput Layer in, out and cond: 4000 64 10\n",
      "\tMean/Var Layer in/out: 64 8\n",
      "Decoder Architecture:\n",
      "\tFirst Layer in, out and cond:  8 64 10\n",
      "\tOutput Layer in/out:  64 4000 \n",
      "\n",
      "Warning: Labels in adata.obs[cell_type] is not a subset of label-encoder!\n",
      "The missing labels are: {'Erythrocytes', 'CD10+ B cells', 'Monocyte progenitors', 'Erythroid progenitors'}\n",
      "Therefore integer value of those labels is set to -1\n",
      "Warning: Labels in adata.obs[cell_type] is not a subset of label-encoder!\n",
      "The missing labels are: {'Erythrocytes', 'Monocyte progenitors'}\n",
      "Therefore integer value of those labels is set to -1\n",
      "Warning: Labels in adata.obs[cell_type] is not a subset of label-encoder!\n",
      "The missing labels are: {'Erythrocytes', 'CD10+ B cells', 'Monocyte progenitors', 'Erythroid progenitors'}\n",
      "Therefore integer value of those labels is set to -1\n",
      "Warning: Labels in adata.obs[cell_type] is not a subset of label-encoder!\n",
      "The missing labels are: {'Erythrocytes', 'Monocyte progenitors'}\n",
      "Therefore integer value of those labels is set to -1\n",
      "Initializing dataloaders\n",
      "Starting training\n",
      " |████████████████----| 80.0%  - val_loss: 4719.28 - val_cvae_loss: 4719.28\n",
      "Initializing unlabeled prototypes with Leiden with an unknown number of  clusters.\n",
      "Clustering succesful. Found 25 clusters.\n",
      " |████████████████████| 100.0%  - val_loss: 4752.34 - val_cvae_loss: 4752.34 - val_prototype_loss:    0.00 - val_unlabeled_loss:    0.53\n"
     ]
    },
    {
     "name": "stderr",
     "output_type": "stream",
     "text": [
      "Computing neighbors: 100%|██████████| 1/1 [00:04<00:00,  4.63s/it]\n",
      "Embeddings:   0%|\u001b[32m          \u001b[0m| 0/1 [00:00<?, ?it/s]\n",
      "Metrics:   0%|\u001b[34m          \u001b[0m| 0/10 [00:00<?, ?it/s]\u001b[A\n",
      "Metrics:   0%|\u001b[34m          \u001b[0m| 0/10 [00:00<?, ?it/s, Bio conservation: isolated_labels]\u001b[A\n",
      "Metrics:  10%|\u001b[34m█         \u001b[0m| 1/10 [00:00<00:05,  1.64it/s, Bio conservation: isolated_labels]\u001b[A\n",
      "Metrics:  10%|\u001b[34m█         \u001b[0m| 1/10 [00:00<00:05,  1.64it/s, Bio conservation: nmi_ari_cluster_labels_kmeans]\u001b[A\n",
      "Metrics:  20%|\u001b[34m██        \u001b[0m| 2/10 [00:02<00:12,  1.62s/it, Bio conservation: nmi_ari_cluster_labels_kmeans]\u001b[A\n",
      "Metrics:  20%|\u001b[34m██        \u001b[0m| 2/10 [00:02<00:12,  1.62s/it, Bio conservation: silhouette_label]             \u001b[A\n",
      "Metrics:  30%|\u001b[34m███       \u001b[0m| 3/10 [00:03<00:07,  1.00s/it, Bio conservation: silhouette_label]\u001b[A\n",
      "Metrics:  30%|\u001b[34m███       \u001b[0m| 3/10 [00:03<00:07,  1.00s/it, Bio conservation: clisi_knn]       \u001b[A\n",
      "Metrics:  40%|\u001b[34m████      \u001b[0m| 4/10 [00:03<00:05,  1.20it/s, Bio conservation: clisi_knn]\u001b[A\n",
      "Metrics:  40%|\u001b[34m████      \u001b[0m| 4/10 [00:03<00:05,  1.20it/s, Batch correction: silhouette_batch]\u001b[A\n",
      "Metrics:  50%|\u001b[34m█████     \u001b[0m| 5/10 [00:08<00:10,  2.14s/it, Batch correction: silhouette_batch]\u001b[A\n",
      "Metrics:  50%|\u001b[34m█████     \u001b[0m| 5/10 [00:08<00:10,  2.14s/it, Batch correction: ilisi_knn]       \u001b[A\n",
      "Metrics:  60%|\u001b[34m██████    \u001b[0m| 6/10 [00:08<00:05,  1.45s/it, Batch correction: ilisi_knn]\u001b[A\n",
      "Metrics:  60%|\u001b[34m██████    \u001b[0m| 6/10 [00:08<00:05,  1.45s/it, Batch correction: kbet_per_label]\u001b[A\n",
      "Metrics:  70%|\u001b[34m███████   \u001b[0m| 7/10 [00:22<00:16,  5.49s/it, Batch correction: kbet_per_label]\u001b[A\n",
      "Metrics:  70%|\u001b[34m███████   \u001b[0m| 7/10 [00:22<00:16,  5.49s/it, Batch correction: graph_connectivity]\u001b[A\n",
      "Metrics:  80%|\u001b[34m████████  \u001b[0m| 8/10 [00:22<00:10,  5.49s/it, Batch correction: pcr_comparison]    \u001b[A\n",
      "Embeddings: 100%|\u001b[32m██████████\u001b[0m| 1/1 [00:23<00:00, 23.03s/it]atch correction: pcr_comparison]\u001b[A\n",
      "\n",
      "                                                                                         \u001b[A/ictstr01/home/icb/fatemehs.hashemig/codes/interpretable-ssl/interpretable_ssl/trainers/trainer.py:321: FutureWarning: The frame.append method is deprecated and will be removed from pandas in a future version. Use pandas.concat instead.\n",
      "  overall_df = overall_df.append(fold_df, ignore_index=True)\n"
     ]
    },
    {
     "name": "stdout",
     "output_type": "stream",
     "text": [
      "Evaluating fold 5\n",
      "Embedding dictionary:\n",
      " \tNum conditions: [3]\n",
      " \tEmbedding dim: [10]\n",
      "Encoder Architecture:\n",
      "\tInput Layer in, out and cond: 4000 64 10\n",
      "\tMean/Var Layer in/out: 64 8\n",
      "Decoder Architecture:\n",
      "\tFirst Layer in, out and cond:  8 64 10\n",
      "\tOutput Layer in/out:  64 4000 \n",
      "\n"
     ]
    },
    {
     "name": "stderr",
     "output_type": "stream",
     "text": [
      "INFO:scarches.trainers.scpoli.trainer:GPU available: True, GPU used: True\n"
     ]
    },
    {
     "name": "stdout",
     "output_type": "stream",
     "text": [
      "Embedding dictionary:\n",
      " \tNum conditions: [5]\n",
      " \tEmbedding dim: [10]\n",
      "Encoder Architecture:\n",
      "\tInput Layer in, out and cond: 4000 64 10\n",
      "\tMean/Var Layer in/out: 64 8\n",
      "Decoder Architecture:\n",
      "\tFirst Layer in, out and cond:  8 64 10\n",
      "\tOutput Layer in/out:  64 4000 \n",
      "\n",
      "Initializing dataloaders\n",
      "Starting training\n",
      " |████████████████----| 80.0%  - val_loss:  881.20 - val_cvae_loss:  881.20\n",
      "Initializing unlabeled prototypes with Leiden with an unknown number of  clusters.\n",
      "Clustering succesful. Found 24 clusters.\n",
      " |████████████████████| 100.0%  - val_loss:  881.81 - val_cvae_loss:  881.81 - val_prototype_loss:    0.00 - val_unlabeled_loss:    0.39\n"
     ]
    },
    {
     "name": "stderr",
     "output_type": "stream",
     "text": [
      "Computing neighbors: 100%|██████████| 1/1 [00:05<00:00,  5.86s/it]\n",
      "Embeddings:   0%|\u001b[32m          \u001b[0m| 0/1 [00:00<?, ?it/s]\n",
      "Metrics:   0%|\u001b[34m          \u001b[0m| 0/10 [00:00<?, ?it/s]\u001b[A\n",
      "Metrics:   0%|\u001b[34m          \u001b[0m| 0/10 [00:00<?, ?it/s, Bio conservation: isolated_labels]\u001b[A\n",
      "Metrics:  10%|\u001b[34m█         \u001b[0m| 1/10 [00:01<00:17,  1.91s/it, Bio conservation: isolated_labels]\u001b[A\n",
      "Metrics:  10%|\u001b[34m█         \u001b[0m| 1/10 [00:01<00:17,  1.91s/it, Bio conservation: nmi_ari_cluster_labels_kmeans]\u001b[A\n",
      "Metrics:  20%|\u001b[34m██        \u001b[0m| 2/10 [00:04<00:17,  2.24s/it, Bio conservation: nmi_ari_cluster_labels_kmeans]\u001b[A\n",
      "Metrics:  20%|\u001b[34m██        \u001b[0m| 2/10 [00:04<00:17,  2.24s/it, Bio conservation: silhouette_label]             \u001b[A\n",
      "Metrics:  30%|\u001b[34m███       \u001b[0m| 3/10 [00:04<00:10,  1.44s/it, Bio conservation: silhouette_label]\u001b[A\n",
      "Metrics:  30%|\u001b[34m███       \u001b[0m| 3/10 [00:04<00:10,  1.44s/it, Bio conservation: clisi_knn]       \u001b[A\n",
      "Metrics:  40%|\u001b[34m████      \u001b[0m| 4/10 [00:05<00:07,  1.29s/it, Bio conservation: clisi_knn]\u001b[A\n",
      "Metrics:  40%|\u001b[34m████      \u001b[0m| 4/10 [00:05<00:07,  1.29s/it, Batch correction: silhouette_batch]\u001b[A\n",
      "Metrics:  50%|\u001b[34m█████     \u001b[0m| 5/10 [00:09<00:11,  2.29s/it, Batch correction: silhouette_batch]\u001b[A\n",
      "Metrics:  50%|\u001b[34m█████     \u001b[0m| 5/10 [00:09<00:11,  2.29s/it, Batch correction: ilisi_knn]       \u001b[A\n",
      "Metrics:  60%|\u001b[34m██████    \u001b[0m| 6/10 [00:10<00:06,  1.56s/it, Batch correction: ilisi_knn]\u001b[A\n",
      "Metrics:  60%|\u001b[34m██████    \u001b[0m| 6/10 [00:10<00:06,  1.56s/it, Batch correction: kbet_per_label]\u001b[A"
     ]
    },
    {
     "name": "stdout",
     "output_type": "stream",
     "text": [
      "\u001b[34mINFO    \u001b[0m HSPCs consists of a single batch or is too small. Skip.                                                   \n",
      "\u001b[34mINFO    \u001b[0m Monocyte-derived dendritic cells consists of a single batch or is too small. Skip.                        \n",
      "\u001b[34mINFO    \u001b[0m Plasma cells consists of a single batch or is too small. Skip.                                            \n"
     ]
    },
    {
     "name": "stderr",
     "output_type": "stream",
     "text": [
      "\n",
      "Metrics:  70%|\u001b[34m███████   \u001b[0m| 7/10 [00:22<00:15,  5.15s/it, Batch correction: kbet_per_label]\u001b[A\n",
      "Metrics:  70%|\u001b[34m███████   \u001b[0m| 7/10 [00:22<00:15,  5.15s/it, Batch correction: graph_connectivity]\u001b[A\n",
      "Metrics:  80%|\u001b[34m████████  \u001b[0m| 8/10 [00:22<00:10,  5.15s/it, Batch correction: pcr_comparison]    \u001b[A\n",
      "Embeddings: 100%|\u001b[32m██████████\u001b[0m| 1/1 [00:23<00:00, 23.33s/it]atch correction: pcr_comparison]\u001b[A\n",
      "\n",
      "                                                                                         \u001b[A/ictstr01/home/icb/fatemehs.hashemig/codes/interpretable-ssl/interpretable_ssl/trainers/trainer.py:321: FutureWarning: The frame.append method is deprecated and will be removed from pandas in a future version. Use pandas.concat instead.\n",
      "  overall_df = overall_df.append(fold_df, ignore_index=True)\n"
     ]
    },
    {
     "name": "stdout",
     "output_type": "stream",
     "text": [
      "Evaluating fold 6\n",
      "Embedding dictionary:\n",
      " \tNum conditions: [3]\n",
      " \tEmbedding dim: [10]\n",
      "Encoder Architecture:\n",
      "\tInput Layer in, out and cond: 4000 64 10\n",
      "\tMean/Var Layer in/out: 64 8\n",
      "Decoder Architecture:\n",
      "\tFirst Layer in, out and cond:  8 64 10\n",
      "\tOutput Layer in/out:  64 4000 \n",
      "\n"
     ]
    },
    {
     "name": "stderr",
     "output_type": "stream",
     "text": [
      "INFO:scarches.trainers.scpoli.trainer:GPU available: True, GPU used: True\n"
     ]
    },
    {
     "name": "stdout",
     "output_type": "stream",
     "text": [
      "Embedding dictionary:\n",
      " \tNum conditions: [5]\n",
      " \tEmbedding dim: [10]\n",
      "Encoder Architecture:\n",
      "\tInput Layer in, out and cond: 4000 64 10\n",
      "\tMean/Var Layer in/out: 64 8\n",
      "Decoder Architecture:\n",
      "\tFirst Layer in, out and cond:  8 64 10\n",
      "\tOutput Layer in/out:  64 4000 \n",
      "\n",
      "Initializing dataloaders\n",
      "Starting training\n",
      " |████████████████----| 80.0%  - val_loss:  444.58 - val_cvae_loss:  444.58\n",
      "Initializing unlabeled prototypes with Leiden with an unknown number of  clusters.\n",
      "Clustering succesful. Found 28 clusters.\n",
      " |████████████████████| 100.0%  - val_loss:  446.39 - val_cvae_loss:  446.39 - val_prototype_loss:    0.00 - val_unlabeled_loss:    0.40\n"
     ]
    },
    {
     "name": "stderr",
     "output_type": "stream",
     "text": [
      "Computing neighbors: 100%|██████████| 1/1 [00:05<00:00,  5.24s/it]\n",
      "Embeddings:   0%|\u001b[32m          \u001b[0m| 0/1 [00:00<?, ?it/s]\n",
      "Metrics:   0%|\u001b[34m          \u001b[0m| 0/10 [00:00<?, ?it/s]\u001b[A\n",
      "Metrics:   0%|\u001b[34m          \u001b[0m| 0/10 [00:00<?, ?it/s, Bio conservation: isolated_labels]\u001b[A\n",
      "Metrics:  10%|\u001b[34m█         \u001b[0m| 1/10 [00:01<00:12,  1.44s/it, Bio conservation: isolated_labels]\u001b[A\n",
      "Metrics:  10%|\u001b[34m█         \u001b[0m| 1/10 [00:01<00:12,  1.44s/it, Bio conservation: nmi_ari_cluster_labels_kmeans]\u001b[A\n",
      "Metrics:  20%|\u001b[34m██        \u001b[0m| 2/10 [00:03<00:13,  1.66s/it, Bio conservation: nmi_ari_cluster_labels_kmeans]\u001b[A\n",
      "Metrics:  20%|\u001b[34m██        \u001b[0m| 2/10 [00:03<00:13,  1.66s/it, Bio conservation: silhouette_label]             \u001b[A\n",
      "Metrics:  30%|\u001b[34m███       \u001b[0m| 3/10 [00:03<00:07,  1.04s/it, Bio conservation: silhouette_label]\u001b[A\n",
      "Metrics:  30%|\u001b[34m███       \u001b[0m| 3/10 [00:03<00:07,  1.04s/it, Bio conservation: clisi_knn]       \u001b[A\n",
      "Metrics:  40%|\u001b[34m████      \u001b[0m| 4/10 [00:04<00:05,  1.02it/s, Bio conservation: clisi_knn]\u001b[A\n",
      "Metrics:  40%|\u001b[34m████      \u001b[0m| 4/10 [00:04<00:05,  1.02it/s, Batch correction: silhouette_batch]\u001b[A\n",
      "Metrics:  50%|\u001b[34m█████     \u001b[0m| 5/10 [00:08<00:09,  1.94s/it, Batch correction: silhouette_batch]\u001b[A\n",
      "Metrics:  50%|\u001b[34m█████     \u001b[0m| 5/10 [00:08<00:09,  1.94s/it, Batch correction: ilisi_knn]       \u001b[A\n",
      "Metrics:  60%|\u001b[34m██████    \u001b[0m| 6/10 [00:08<00:05,  1.32s/it, Batch correction: ilisi_knn]\u001b[A\n",
      "Metrics:  60%|\u001b[34m██████    \u001b[0m| 6/10 [00:08<00:05,  1.32s/it, Batch correction: kbet_per_label]\u001b[A\n",
      "Metrics:  70%|\u001b[34m███████   \u001b[0m| 7/10 [00:18<00:12,  4.22s/it, Batch correction: kbet_per_label]\u001b[A\n",
      "Metrics:  70%|\u001b[34m███████   \u001b[0m| 7/10 [00:18<00:12,  4.22s/it, Batch correction: graph_connectivity]\u001b[A\n",
      "Metrics:  80%|\u001b[34m████████  \u001b[0m| 8/10 [00:18<00:08,  4.22s/it, Batch correction: pcr_comparison]    \u001b[A\n",
      "Embeddings: 100%|\u001b[32m██████████\u001b[0m| 1/1 [00:19<00:00, 19.36s/it]atch correction: pcr_comparison]\u001b[A\n",
      "\n",
      "                                                                                         \u001b[A/ictstr01/home/icb/fatemehs.hashemig/codes/interpretable-ssl/interpretable_ssl/trainers/trainer.py:321: FutureWarning: The frame.append method is deprecated and will be removed from pandas in a future version. Use pandas.concat instead.\n",
      "  overall_df = overall_df.append(fold_df, ignore_index=True)\n"
     ]
    },
    {
     "name": "stdout",
     "output_type": "stream",
     "text": [
      "Evaluating fold 7\n",
      "Embedding dictionary:\n",
      " \tNum conditions: [3]\n",
      " \tEmbedding dim: [10]\n",
      "Encoder Architecture:\n",
      "\tInput Layer in, out and cond: 4000 64 10\n",
      "\tMean/Var Layer in/out: 64 8\n",
      "Decoder Architecture:\n",
      "\tFirst Layer in, out and cond:  8 64 10\n",
      "\tOutput Layer in/out:  64 4000 \n",
      "\n"
     ]
    },
    {
     "name": "stderr",
     "output_type": "stream",
     "text": [
      "INFO:scarches.trainers.scpoli.trainer:GPU available: True, GPU used: True\n"
     ]
    },
    {
     "name": "stdout",
     "output_type": "stream",
     "text": [
      "Embedding dictionary:\n",
      " \tNum conditions: [5]\n",
      " \tEmbedding dim: [10]\n",
      "Encoder Architecture:\n",
      "\tInput Layer in, out and cond: 4000 64 10\n",
      "\tMean/Var Layer in/out: 64 8\n",
      "Decoder Architecture:\n",
      "\tFirst Layer in, out and cond:  8 64 10\n",
      "\tOutput Layer in/out:  64 4000 \n",
      "\n",
      "Initializing dataloaders\n",
      "Starting training\n",
      " |████████████████----| 80.0%  - val_loss: 4451.57 - val_cvae_loss: 4451.57\n",
      "Initializing unlabeled prototypes with Leiden with an unknown number of  clusters.\n",
      "Clustering succesful. Found 20 clusters.\n",
      " |████████████████████| 100.0%  - val_loss: 4425.74 - val_cvae_loss: 4425.74 - val_prototype_loss:    0.00 - val_unlabeled_loss:    0.65\n"
     ]
    },
    {
     "name": "stderr",
     "output_type": "stream",
     "text": [
      "Computing neighbors: 100%|██████████| 1/1 [00:02<00:00,  2.11s/it]\n",
      "Embeddings:   0%|\u001b[32m          \u001b[0m| 0/1 [00:00<?, ?it/s]\n",
      "Metrics:   0%|\u001b[34m          \u001b[0m| 0/10 [00:00<?, ?it/s]\u001b[A\n",
      "Metrics:   0%|\u001b[34m          \u001b[0m| 0/10 [00:00<?, ?it/s, Bio conservation: isolated_labels]\u001b[A\n",
      "Metrics:  10%|\u001b[34m█         \u001b[0m| 1/10 [00:00<00:06,  1.49it/s, Bio conservation: isolated_labels]\u001b[A\n",
      "Metrics:  10%|\u001b[34m█         \u001b[0m| 1/10 [00:00<00:06,  1.49it/s, Bio conservation: nmi_ari_cluster_labels_kmeans]\u001b[A\n",
      "Metrics:  20%|\u001b[34m██        \u001b[0m| 2/10 [00:01<00:08,  1.05s/it, Bio conservation: nmi_ari_cluster_labels_kmeans]\u001b[A\n",
      "Metrics:  20%|\u001b[34m██        \u001b[0m| 2/10 [00:01<00:08,  1.05s/it, Bio conservation: silhouette_label]             \u001b[A\n",
      "Metrics:  30%|\u001b[34m███       \u001b[0m| 3/10 [00:02<00:07,  1.05s/it, Bio conservation: clisi_knn]       \u001b[A\n",
      "Metrics:  40%|\u001b[34m████      \u001b[0m| 4/10 [00:03<00:04,  1.33it/s, Bio conservation: clisi_knn]\u001b[A\n",
      "Metrics:  40%|\u001b[34m████      \u001b[0m| 4/10 [00:03<00:04,  1.33it/s, Batch correction: silhouette_batch]\u001b[A\n",
      "Metrics:  50%|\u001b[34m█████     \u001b[0m| 5/10 [00:04<00:04,  1.08it/s, Batch correction: silhouette_batch]\u001b[A\n",
      "Metrics:  50%|\u001b[34m█████     \u001b[0m| 5/10 [00:04<00:04,  1.08it/s, Batch correction: ilisi_knn]       \u001b[A\n",
      "Metrics:  60%|\u001b[34m██████    \u001b[0m| 6/10 [00:04<00:03,  1.08it/s, Batch correction: kbet_per_label]\u001b[A"
     ]
    },
    {
     "name": "stdout",
     "output_type": "stream",
     "text": [
      "\u001b[34mINFO    \u001b[0m CD20+ B cells consists of a single batch or is too small. Skip.                                           \n",
      "\u001b[34mINFO    \u001b[0m CD4+ T cells consists of a single batch or is too small. Skip.                                            \n",
      "\u001b[34mINFO    \u001b[0m CD8+ T cells consists of a single batch or is too small. Skip.                                            \n",
      "\u001b[34mINFO    \u001b[0m Megakaryocyte progenitors consists of a single batch or is too small. Skip.                               \n",
      "\u001b[34mINFO    \u001b[0m Monocyte-derived dendritic cells consists of a single batch or is too small. Skip.                        \n",
      "\u001b[34mINFO    \u001b[0m NK cells consists of a single batch or is too small. Skip.                                                \n",
      "\u001b[34mINFO    \u001b[0m NKT cells consists of a single batch or is too small. Skip.                                               \n"
     ]
    },
    {
     "name": "stderr",
     "output_type": "stream",
     "text": [
      "\n",
      "Metrics:  70%|\u001b[34m███████   \u001b[0m| 7/10 [00:06<00:02,  1.11it/s, Batch correction: kbet_per_label]\u001b[A\n",
      "Metrics:  70%|\u001b[34m███████   \u001b[0m| 7/10 [00:06<00:02,  1.11it/s, Batch correction: graph_connectivity]\u001b[A\n",
      "Metrics:  80%|\u001b[34m████████  \u001b[0m| 8/10 [00:06<00:01,  1.11it/s, Batch correction: pcr_comparison]    \u001b[A\n",
      "Embeddings: 100%|\u001b[32m██████████\u001b[0m| 1/1 [00:06<00:00,  6.87s/it]atch correction: pcr_comparison]\u001b[A\n",
      "\n",
      "                                                                                         \u001b[A/ictstr01/home/icb/fatemehs.hashemig/codes/interpretable-ssl/interpretable_ssl/trainers/trainer.py:321: FutureWarning: The frame.append method is deprecated and will be removed from pandas in a future version. Use pandas.concat instead.\n",
      "  overall_df = overall_df.append(fold_df, ignore_index=True)\n"
     ]
    },
    {
     "name": "stdout",
     "output_type": "stream",
     "text": [
      "Evaluating fold 8\n",
      "Embedding dictionary:\n",
      " \tNum conditions: [3]\n",
      " \tEmbedding dim: [10]\n",
      "Encoder Architecture:\n",
      "\tInput Layer in, out and cond: 4000 64 10\n",
      "\tMean/Var Layer in/out: 64 8\n",
      "Decoder Architecture:\n",
      "\tFirst Layer in, out and cond:  8 64 10\n",
      "\tOutput Layer in/out:  64 4000 \n",
      "\n"
     ]
    },
    {
     "name": "stderr",
     "output_type": "stream",
     "text": [
      "INFO:scarches.trainers.scpoli.trainer:GPU available: True, GPU used: True\n"
     ]
    },
    {
     "name": "stdout",
     "output_type": "stream",
     "text": [
      "Embedding dictionary:\n",
      " \tNum conditions: [5]\n",
      " \tEmbedding dim: [10]\n",
      "Encoder Architecture:\n",
      "\tInput Layer in, out and cond: 4000 64 10\n",
      "\tMean/Var Layer in/out: 64 8\n",
      "Decoder Architecture:\n",
      "\tFirst Layer in, out and cond:  8 64 10\n",
      "\tOutput Layer in/out:  64 4000 \n",
      "\n",
      "Initializing dataloaders\n",
      "Starting training\n",
      " |████████████████----| 80.0%  - val_loss:  443.10 - val_cvae_loss:  443.10\n",
      "Initializing unlabeled prototypes with Leiden with an unknown number of  clusters.\n",
      "Clustering succesful. Found 27 clusters.\n",
      " |████████████████████| 100.0%  - val_loss:  443.96 - val_cvae_loss:  443.96 - val_prototype_loss:    0.00 - val_unlabeled_loss:    0.63\n"
     ]
    },
    {
     "name": "stderr",
     "output_type": "stream",
     "text": [
      "Computing neighbors: 100%|██████████| 1/1 [00:08<00:00,  8.19s/it]\n",
      "Embeddings:   0%|\u001b[32m          \u001b[0m| 0/1 [00:00<?, ?it/s]\n",
      "Metrics:   0%|\u001b[34m          \u001b[0m| 0/10 [00:00<?, ?it/s]\u001b[A\n",
      "Metrics:   0%|\u001b[34m          \u001b[0m| 0/10 [00:00<?, ?it/s, Bio conservation: isolated_labels]\u001b[A\n",
      "Metrics:  10%|\u001b[34m█         \u001b[0m| 1/10 [00:02<00:21,  2.35s/it, Bio conservation: isolated_labels]\u001b[A\n",
      "Metrics:  10%|\u001b[34m█         \u001b[0m| 1/10 [00:02<00:21,  2.35s/it, Bio conservation: nmi_ari_cluster_labels_kmeans]\u001b[A\n",
      "Metrics:  20%|\u001b[34m██        \u001b[0m| 2/10 [00:04<00:15,  1.96s/it, Bio conservation: nmi_ari_cluster_labels_kmeans]\u001b[A\n",
      "Metrics:  20%|\u001b[34m██        \u001b[0m| 2/10 [00:04<00:15,  1.96s/it, Bio conservation: silhouette_label]             \u001b[A\n",
      "Metrics:  30%|\u001b[34m███       \u001b[0m| 3/10 [00:04<00:09,  1.37s/it, Bio conservation: silhouette_label]\u001b[A\n",
      "Metrics:  30%|\u001b[34m███       \u001b[0m| 3/10 [00:04<00:09,  1.37s/it, Bio conservation: clisi_knn]       \u001b[A\n",
      "Metrics:  40%|\u001b[34m████      \u001b[0m| 4/10 [00:05<00:07,  1.23s/it, Bio conservation: clisi_knn]\u001b[A\n",
      "Metrics:  40%|\u001b[34m████      \u001b[0m| 4/10 [00:05<00:07,  1.23s/it, Batch correction: silhouette_batch]\u001b[A\n",
      "Metrics:  50%|\u001b[34m█████     \u001b[0m| 5/10 [00:10<00:13,  2.61s/it, Batch correction: silhouette_batch]\u001b[A\n",
      "Metrics:  50%|\u001b[34m█████     \u001b[0m| 5/10 [00:10<00:13,  2.61s/it, Batch correction: ilisi_knn]       \u001b[A\n",
      "Metrics:  60%|\u001b[34m██████    \u001b[0m| 6/10 [00:10<00:07,  1.77s/it, Batch correction: ilisi_knn]\u001b[A\n",
      "Metrics:  60%|\u001b[34m██████    \u001b[0m| 6/10 [00:10<00:07,  1.77s/it, Batch correction: kbet_per_label]\u001b[A"
     ]
    },
    {
     "name": "stdout",
     "output_type": "stream",
     "text": [
      "\u001b[34mINFO    \u001b[0m HSPCs consists of a single batch or is too small. Skip.                                                   \n",
      "\u001b[34mINFO    \u001b[0m Plasma cells consists of a single batch or is too small. Skip.                                            \n"
     ]
    },
    {
     "name": "stderr",
     "output_type": "stream",
     "text": [
      "\n",
      "Metrics:  70%|\u001b[34m███████   \u001b[0m| 7/10 [00:25<00:17,  5.92s/it, Batch correction: kbet_per_label]\u001b[A\n",
      "Metrics:  70%|\u001b[34m███████   \u001b[0m| 7/10 [00:25<00:17,  5.92s/it, Batch correction: graph_connectivity]\u001b[A\n",
      "Metrics:  80%|\u001b[34m████████  \u001b[0m| 8/10 [00:25<00:11,  5.92s/it, Batch correction: pcr_comparison]    \u001b[A\n",
      "Embeddings: 100%|\u001b[32m██████████\u001b[0m| 1/1 [00:26<00:00, 26.02s/it]atch correction: pcr_comparison]\u001b[A\n",
      "\n",
      "                                                                                         \u001b[A/ictstr01/home/icb/fatemehs.hashemig/codes/interpretable-ssl/interpretable_ssl/trainers/trainer.py:321: FutureWarning: The frame.append method is deprecated and will be removed from pandas in a future version. Use pandas.concat instead.\n",
      "  overall_df = overall_df.append(fold_df, ignore_index=True)\n"
     ]
    },
    {
     "name": "stdout",
     "output_type": "stream",
     "text": [
      "Evaluating fold 9\n",
      "Embedding dictionary:\n",
      " \tNum conditions: [3]\n",
      " \tEmbedding dim: [10]\n",
      "Encoder Architecture:\n",
      "\tInput Layer in, out and cond: 4000 64 10\n",
      "\tMean/Var Layer in/out: 64 8\n",
      "Decoder Architecture:\n",
      "\tFirst Layer in, out and cond:  8 64 10\n",
      "\tOutput Layer in/out:  64 4000 \n",
      "\n"
     ]
    },
    {
     "name": "stderr",
     "output_type": "stream",
     "text": [
      "INFO:scarches.trainers.scpoli.trainer:GPU available: True, GPU used: True\n"
     ]
    },
    {
     "name": "stdout",
     "output_type": "stream",
     "text": [
      "Embedding dictionary:\n",
      " \tNum conditions: [5]\n",
      " \tEmbedding dim: [10]\n",
      "Encoder Architecture:\n",
      "\tInput Layer in, out and cond: 4000 64 10\n",
      "\tMean/Var Layer in/out: 64 8\n",
      "Decoder Architecture:\n",
      "\tFirst Layer in, out and cond:  8 64 10\n",
      "\tOutput Layer in/out:  64 4000 \n",
      "\n",
      "Initializing dataloaders\n",
      "Starting training\n",
      " |████████████████----| 80.0%  - val_loss: 4147.40 - val_cvae_loss: 4147.40\n",
      "Initializing unlabeled prototypes with Leiden with an unknown number of  clusters.\n",
      "Clustering succesful. Found 28 clusters.\n",
      " |████████████████████| 100.0%  - val_loss: 4164.39 - val_cvae_loss: 4164.39 - val_prototype_loss:    0.00 - val_unlabeled_loss:    0.51\n"
     ]
    },
    {
     "name": "stderr",
     "output_type": "stream",
     "text": [
      "Computing neighbors: 100%|██████████| 1/1 [00:05<00:00,  5.08s/it]\n",
      "Embeddings:   0%|\u001b[32m          \u001b[0m| 0/1 [00:00<?, ?it/s]\n",
      "Metrics:   0%|\u001b[34m          \u001b[0m| 0/10 [00:00<?, ?it/s]\u001b[A\n",
      "Metrics:   0%|\u001b[34m          \u001b[0m| 0/10 [00:00<?, ?it/s, Bio conservation: isolated_labels]\u001b[A\n",
      "Metrics:  10%|\u001b[34m█         \u001b[0m| 1/10 [00:00<00:07,  1.13it/s, Bio conservation: isolated_labels]\u001b[A\n",
      "Metrics:  10%|\u001b[34m█         \u001b[0m| 1/10 [00:00<00:07,  1.13it/s, Bio conservation: nmi_ari_cluster_labels_kmeans]\u001b[A\n",
      "Metrics:  20%|\u001b[34m██        \u001b[0m| 2/10 [00:02<00:08,  1.11s/it, Bio conservation: nmi_ari_cluster_labels_kmeans]\u001b[A\n",
      "Metrics:  20%|\u001b[34m██        \u001b[0m| 2/10 [00:02<00:08,  1.11s/it, Bio conservation: silhouette_label]             \u001b[A\n",
      "Metrics:  30%|\u001b[34m███       \u001b[0m| 3/10 [00:02<00:05,  1.36it/s, Bio conservation: silhouette_label]\u001b[A\n",
      "Metrics:  30%|\u001b[34m███       \u001b[0m| 3/10 [00:02<00:05,  1.36it/s, Bio conservation: clisi_knn]       \u001b[A\n",
      "Metrics:  40%|\u001b[34m████      \u001b[0m| 4/10 [00:03<00:04,  1.26it/s, Bio conservation: clisi_knn]\u001b[A\n",
      "Metrics:  40%|\u001b[34m████      \u001b[0m| 4/10 [00:03<00:04,  1.26it/s, Batch correction: silhouette_batch]\u001b[A\n",
      "Metrics:  50%|\u001b[34m█████     \u001b[0m| 5/10 [00:05<00:06,  1.21s/it, Batch correction: silhouette_batch]\u001b[A\n",
      "Metrics:  50%|\u001b[34m█████     \u001b[0m| 5/10 [00:05<00:06,  1.21s/it, Batch correction: ilisi_knn]       \u001b[A\n",
      "Metrics:  60%|\u001b[34m██████    \u001b[0m| 6/10 [00:05<00:03,  1.20it/s, Batch correction: ilisi_knn]\u001b[A\n",
      "Metrics:  60%|\u001b[34m██████    \u001b[0m| 6/10 [00:05<00:03,  1.20it/s, Batch correction: kbet_per_label]\u001b[A"
     ]
    },
    {
     "name": "stdout",
     "output_type": "stream",
     "text": [
      "\u001b[34mINFO    \u001b[0m CD20+ B cells consists of a single batch or is too small. Skip.                                           \n",
      "\u001b[34mINFO    \u001b[0m CD4+ T cells consists of a single batch or is too small. Skip.                                            \n",
      "\u001b[34mINFO    \u001b[0m CD8+ T cells consists of a single batch or is too small. Skip.                                            \n",
      "\u001b[34mINFO    \u001b[0m HSPCs consists of a single batch or is too small. Skip.                                                   \n",
      "\u001b[34mINFO    \u001b[0m Megakaryocyte progenitors consists of a single batch or is too small. Skip.                               \n",
      "\u001b[34mINFO    \u001b[0m NK cells consists of a single batch or is too small. Skip.                                                \n",
      "\u001b[34mINFO    \u001b[0m NKT cells consists of a single batch or is too small. Skip.                                               \n",
      "\u001b[34mINFO    \u001b[0m Plasma cells consists of a single batch or is too small. Skip.                                            \n"
     ]
    },
    {
     "name": "stderr",
     "output_type": "stream",
     "text": [
      "\n",
      "Metrics:  70%|\u001b[34m███████   \u001b[0m| 7/10 [00:10<00:07,  2.38s/it, Batch correction: kbet_per_label]\u001b[A\n",
      "Metrics:  70%|\u001b[34m███████   \u001b[0m| 7/10 [00:10<00:07,  2.38s/it, Batch correction: graph_connectivity]\u001b[A\n",
      "Metrics:  80%|\u001b[34m████████  \u001b[0m| 8/10 [00:10<00:04,  2.38s/it, Batch correction: pcr_comparison]    \u001b[A\n",
      "Embeddings: 100%|\u001b[32m██████████\u001b[0m| 1/1 [00:11<00:00, 11.54s/it]atch correction: pcr_comparison]\u001b[A\n",
      "\n",
      "                                                                                         \u001b[A/ictstr01/home/icb/fatemehs.hashemig/codes/interpretable-ssl/interpretable_ssl/trainers/trainer.py:321: FutureWarning: The frame.append method is deprecated and will be removed from pandas in a future version. Use pandas.concat instead.\n",
      "  overall_df = overall_df.append(fold_df, ignore_index=True)\n"
     ]
    },
    {
     "name": "stdout",
     "output_type": "stream",
     "text": [
      "Evaluating fold 10\n",
      "Embedding dictionary:\n",
      " \tNum conditions: [3]\n",
      " \tEmbedding dim: [10]\n",
      "Encoder Architecture:\n",
      "\tInput Layer in, out and cond: 4000 64 10\n",
      "\tMean/Var Layer in/out: 64 8\n",
      "Decoder Architecture:\n",
      "\tFirst Layer in, out and cond:  8 64 10\n",
      "\tOutput Layer in/out:  64 4000 \n",
      "\n"
     ]
    },
    {
     "name": "stderr",
     "output_type": "stream",
     "text": [
      "INFO:scarches.trainers.scpoli.trainer:GPU available: True, GPU used: True\n"
     ]
    },
    {
     "name": "stdout",
     "output_type": "stream",
     "text": [
      "Embedding dictionary:\n",
      " \tNum conditions: [5]\n",
      " \tEmbedding dim: [10]\n",
      "Encoder Architecture:\n",
      "\tInput Layer in, out and cond: 4000 64 10\n",
      "\tMean/Var Layer in/out: 64 8\n",
      "Decoder Architecture:\n",
      "\tFirst Layer in, out and cond:  8 64 10\n",
      "\tOutput Layer in/out:  64 4000 \n",
      "\n",
      "Initializing dataloaders\n",
      "Starting training\n",
      " |████████████████----| 80.0%  - val_loss: 4441.63 - val_cvae_loss: 4441.63\n",
      "Initializing unlabeled prototypes with Leiden with an unknown number of  clusters.\n",
      "Clustering succesful. Found 27 clusters.\n",
      " |████████████████████| 100.0%  - val_loss: 4445.72 - val_cvae_loss: 4445.72 - val_prototype_loss:    0.00 - val_unlabeled_loss:    0.48\n"
     ]
    },
    {
     "name": "stderr",
     "output_type": "stream",
     "text": [
      "Computing neighbors: 100%|██████████| 1/1 [00:04<00:00,  4.13s/it]\n",
      "Embeddings:   0%|\u001b[32m          \u001b[0m| 0/1 [00:00<?, ?it/s]\n",
      "Metrics:   0%|\u001b[34m          \u001b[0m| 0/10 [00:00<?, ?it/s]\u001b[A\n",
      "Metrics:   0%|\u001b[34m          \u001b[0m| 0/10 [00:00<?, ?it/s, Bio conservation: isolated_labels]\u001b[A\n",
      "Metrics:  10%|\u001b[34m█         \u001b[0m| 1/10 [00:01<00:12,  1.37s/it, Bio conservation: isolated_labels]\u001b[A\n",
      "Metrics:  10%|\u001b[34m█         \u001b[0m| 1/10 [00:01<00:12,  1.37s/it, Bio conservation: nmi_ari_cluster_labels_kmeans]\u001b[A\n",
      "Metrics:  20%|\u001b[34m██        \u001b[0m| 2/10 [00:03<00:12,  1.60s/it, Bio conservation: nmi_ari_cluster_labels_kmeans]\u001b[A\n",
      "Metrics:  20%|\u001b[34m██        \u001b[0m| 2/10 [00:03<00:12,  1.60s/it, Bio conservation: silhouette_label]             \u001b[A\n",
      "Metrics:  30%|\u001b[34m███       \u001b[0m| 3/10 [00:03<00:06,  1.00it/s, Bio conservation: silhouette_label]\u001b[A\n",
      "Metrics:  30%|\u001b[34m███       \u001b[0m| 3/10 [00:03<00:06,  1.00it/s, Bio conservation: clisi_knn]       \u001b[A\n",
      "Metrics:  40%|\u001b[34m████      \u001b[0m| 4/10 [00:04<00:06,  1.05s/it, Bio conservation: clisi_knn]\u001b[A\n",
      "Metrics:  40%|\u001b[34m████      \u001b[0m| 4/10 [00:04<00:06,  1.05s/it, Batch correction: silhouette_batch]\u001b[A\n",
      "Metrics:  50%|\u001b[34m█████     \u001b[0m| 5/10 [00:08<00:10,  2.11s/it, Batch correction: silhouette_batch]\u001b[A\n",
      "Metrics:  50%|\u001b[34m█████     \u001b[0m| 5/10 [00:08<00:10,  2.11s/it, Batch correction: ilisi_knn]       \u001b[A\n",
      "Metrics:  60%|\u001b[34m██████    \u001b[0m| 6/10 [00:08<00:05,  1.44s/it, Batch correction: ilisi_knn]\u001b[A\n",
      "Metrics:  60%|\u001b[34m██████    \u001b[0m| 6/10 [00:08<00:05,  1.44s/it, Batch correction: kbet_per_label]\u001b[A\n",
      "Metrics:  70%|\u001b[34m███████   \u001b[0m| 7/10 [00:18<00:12,  4.06s/it, Batch correction: kbet_per_label]\u001b[A\n",
      "Metrics:  70%|\u001b[34m███████   \u001b[0m| 7/10 [00:18<00:12,  4.06s/it, Batch correction: graph_connectivity]\u001b[A\n",
      "Metrics:  80%|\u001b[34m████████  \u001b[0m| 8/10 [00:18<00:08,  4.06s/it, Batch correction: pcr_comparison]    \u001b[A\n",
      "Embeddings: 100%|\u001b[32m██████████\u001b[0m| 1/1 [00:18<00:00, 18.73s/it]atch correction: pcr_comparison]\u001b[A\n",
      "\n",
      "                                                                                         \u001b[A/ictstr01/home/icb/fatemehs.hashemig/codes/interpretable-ssl/interpretable_ssl/trainers/trainer.py:321: FutureWarning: The frame.append method is deprecated and will be removed from pandas in a future version. Use pandas.concat instead.\n",
      "  overall_df = overall_df.append(fold_df, ignore_index=True)\n"
     ]
    },
    {
     "name": "stdout",
     "output_type": "stream",
     "text": [
      "running custom cross validation evaluation\n",
      "Evaluating fold 1\n",
      "Embedding dictionary:\n",
      " \tNum conditions: [3]\n",
      " \tEmbedding dim: [10]\n",
      "Encoder Architecture:\n",
      "\tInput Layer in, out and cond: 4000 64 10\n",
      "\tMean/Var Layer in/out: 64 8\n",
      "Decoder Architecture:\n",
      "\tFirst Layer in, out and cond:  8 64 10\n",
      "\tOutput Layer in/out:  64 4000 \n",
      "\n"
     ]
    },
    {
     "name": "stderr",
     "output_type": "stream",
     "text": [
      "INFO:scarches.trainers.scpoli.trainer:GPU available: True, GPU used: True\n"
     ]
    },
    {
     "name": "stdout",
     "output_type": "stream",
     "text": [
      "Embedding dictionary:\n",
      " \tNum conditions: [5]\n",
      " \tEmbedding dim: [10]\n",
      "Encoder Architecture:\n",
      "\tInput Layer in, out and cond: 4000 64 10\n",
      "\tMean/Var Layer in/out: 64 8\n",
      "Decoder Architecture:\n",
      "\tFirst Layer in, out and cond:  8 64 10\n",
      "\tOutput Layer in/out:  64 4000 \n",
      "\n",
      "Warning: Labels in adata.obs[cell_type] is not a subset of label-encoder!\n",
      "The missing labels are: {'Erythrocytes', 'CD10+ B cells', 'Monocyte progenitors', 'Erythroid progenitors'}\n",
      "Therefore integer value of those labels is set to -1\n",
      "Warning: Labels in adata.obs[cell_type] is not a subset of label-encoder!\n",
      "The missing labels are: {'Erythrocytes', 'CD10+ B cells', 'Monocyte progenitors', 'Erythroid progenitors'}\n",
      "Therefore integer value of those labels is set to -1\n",
      "Initializing dataloaders\n",
      "Starting training\n",
      " |████████████████----| 80.0%  - val_loss:  441.25 - val_cvae_loss:  441.25\n",
      "Initializing unlabeled prototypes with Leiden with an unknown number of  clusters.\n",
      "Clustering succesful. Found 27 clusters.\n",
      " |████████████████████| 100.0%  - val_loss:  440.38 - val_cvae_loss:  440.38 - val_prototype_loss:    0.00 - val_unlabeled_loss:    0.50\n"
     ]
    },
    {
     "name": "stderr",
     "output_type": "stream",
     "text": [
      "Computing neighbors: 100%|██████████| 1/1 [00:05<00:00,  5.39s/it]\n",
      "Embeddings:   0%|\u001b[32m          \u001b[0m| 0/1 [00:00<?, ?it/s]\n",
      "Metrics:   0%|\u001b[34m          \u001b[0m| 0/10 [00:00<?, ?it/s]\u001b[A\n",
      "Metrics:   0%|\u001b[34m          \u001b[0m| 0/10 [00:00<?, ?it/s, Bio conservation: isolated_labels]\u001b[A\n",
      "Metrics:  10%|\u001b[34m█         \u001b[0m| 1/10 [00:00<00:04,  2.18it/s, Bio conservation: isolated_labels]\u001b[A\n",
      "Metrics:  10%|\u001b[34m█         \u001b[0m| 1/10 [00:00<00:04,  2.18it/s, Bio conservation: nmi_ari_cluster_labels_kmeans]\u001b[A\n",
      "Metrics:  20%|\u001b[34m██        \u001b[0m| 2/10 [00:02<00:13,  1.63s/it, Bio conservation: nmi_ari_cluster_labels_kmeans]\u001b[A\n",
      "Metrics:  20%|\u001b[34m██        \u001b[0m| 2/10 [00:02<00:13,  1.63s/it, Bio conservation: silhouette_label]             \u001b[A\n",
      "Metrics:  30%|\u001b[34m███       \u001b[0m| 3/10 [00:03<00:08,  1.17s/it, Bio conservation: silhouette_label]\u001b[A\n",
      "Metrics:  30%|\u001b[34m███       \u001b[0m| 3/10 [00:03<00:08,  1.17s/it, Bio conservation: clisi_knn]       \u001b[A\n",
      "Metrics:  40%|\u001b[34m████      \u001b[0m| 4/10 [00:04<00:05,  1.02it/s, Bio conservation: clisi_knn]\u001b[A\n",
      "Metrics:  40%|\u001b[34m████      \u001b[0m| 4/10 [00:04<00:05,  1.02it/s, Batch correction: silhouette_batch]\u001b[A\n",
      "Metrics:  50%|\u001b[34m█████     \u001b[0m| 5/10 [00:04<00:03,  1.44it/s, Batch correction: silhouette_batch]\u001b[A\n",
      "Metrics:  50%|\u001b[34m█████     \u001b[0m| 5/10 [00:04<00:03,  1.44it/s, Batch correction: ilisi_knn]       \u001b[A\n",
      "Metrics:  60%|\u001b[34m██████    \u001b[0m| 6/10 [00:04<00:02,  1.99it/s, Batch correction: ilisi_knn]\u001b[A\n",
      "Metrics:  60%|\u001b[34m██████    \u001b[0m| 6/10 [00:04<00:02,  1.99it/s, Batch correction: kbet_per_label]\u001b[A\n",
      "Metrics:  70%|\u001b[34m███████   \u001b[0m| 7/10 [00:16<00:13,  4.35s/it, Batch correction: kbet_per_label]\u001b[A\n",
      "Metrics:  70%|\u001b[34m███████   \u001b[0m| 7/10 [00:16<00:13,  4.35s/it, Batch correction: graph_connectivity]\u001b[A\n",
      "Embeddings: 100%|\u001b[32m██████████\u001b[0m| 1/1 [00:16<00:00, 16.88s/it]atch correction: pcr_comparison]    \u001b[A\n",
      "\n",
      "                                                                                         \u001b[A/ictstr01/home/icb/fatemehs.hashemig/codes/interpretable-ssl/interpretable_ssl/trainers/trainer.py:321: FutureWarning: The frame.append method is deprecated and will be removed from pandas in a future version. Use pandas.concat instead.\n",
      "  overall_df = overall_df.append(fold_df, ignore_index=True)\n"
     ]
    },
    {
     "name": "stdout",
     "output_type": "stream",
     "text": [
      "Evaluating fold 2\n",
      "Embedding dictionary:\n",
      " \tNum conditions: [3]\n",
      " \tEmbedding dim: [10]\n",
      "Encoder Architecture:\n",
      "\tInput Layer in, out and cond: 4000 64 10\n",
      "\tMean/Var Layer in/out: 64 8\n",
      "Decoder Architecture:\n",
      "\tFirst Layer in, out and cond:  8 64 10\n",
      "\tOutput Layer in/out:  64 4000 \n",
      "\n"
     ]
    },
    {
     "name": "stderr",
     "output_type": "stream",
     "text": [
      "INFO:scarches.trainers.scpoli.trainer:GPU available: True, GPU used: True\n"
     ]
    },
    {
     "name": "stdout",
     "output_type": "stream",
     "text": [
      "Embedding dictionary:\n",
      " \tNum conditions: [5]\n",
      " \tEmbedding dim: [10]\n",
      "Encoder Architecture:\n",
      "\tInput Layer in, out and cond: 4000 64 10\n",
      "\tMean/Var Layer in/out: 64 8\n",
      "Decoder Architecture:\n",
      "\tFirst Layer in, out and cond:  8 64 10\n",
      "\tOutput Layer in/out:  64 4000 \n",
      "\n",
      "Warning: Labels in adata.obs[cell_type] is not a subset of label-encoder!\n",
      "The missing labels are: {'HSPCs', 'Monocyte progenitors', 'Erythroid progenitors', 'Erythrocytes', 'Plasma cells', 'CD10+ B cells'}\n",
      "Therefore integer value of those labels is set to -1\n",
      "Warning: Labels in adata.obs[cell_type] is not a subset of label-encoder!\n",
      "The missing labels are: {'Plasma cells', 'HSPCs'}\n",
      "Therefore integer value of those labels is set to -1\n",
      "Warning: Labels in adata.obs[cell_type] is not a subset of label-encoder!\n",
      "The missing labels are: {'HSPCs', 'Monocyte progenitors', 'Erythroid progenitors', 'Erythrocytes', 'Plasma cells', 'CD10+ B cells'}\n",
      "Therefore integer value of those labels is set to -1\n",
      "Warning: Labels in adata.obs[cell_type] is not a subset of label-encoder!\n",
      "The missing labels are: {'Plasma cells', 'HSPCs'}\n",
      "Therefore integer value of those labels is set to -1\n",
      "Initializing dataloaders\n",
      "Starting training\n",
      " |████████████████----| 80.0%  - val_loss:  883.60 - val_cvae_loss:  883.60\n",
      "Initializing unlabeled prototypes with Leiden with an unknown number of  clusters.\n",
      "Clustering succesful. Found 25 clusters.\n",
      " |████████████████████| 100.0%  - val_loss:  884.61 - val_cvae_loss:  884.61 - val_prototype_loss:    0.00 - val_unlabeled_loss:    0.61\n"
     ]
    },
    {
     "name": "stderr",
     "output_type": "stream",
     "text": [
      "Computing neighbors: 100%|██████████| 1/1 [00:08<00:00,  8.24s/it]\n",
      "Embeddings:   0%|\u001b[32m          \u001b[0m| 0/1 [00:00<?, ?it/s]\n",
      "Metrics:   0%|\u001b[34m          \u001b[0m| 0/10 [00:00<?, ?it/s]\u001b[A\n",
      "Metrics:   0%|\u001b[34m          \u001b[0m| 0/10 [00:00<?, ?it/s, Bio conservation: isolated_labels]\u001b[A\n",
      "Metrics:  10%|\u001b[34m█         \u001b[0m| 1/10 [00:00<00:07,  1.26it/s, Bio conservation: isolated_labels]\u001b[A\n",
      "Metrics:  10%|\u001b[34m█         \u001b[0m| 1/10 [00:00<00:07,  1.26it/s, Bio conservation: nmi_ari_cluster_labels_kmeans]\u001b[A\n",
      "Metrics:  20%|\u001b[34m██        \u001b[0m| 2/10 [00:04<00:17,  2.23s/it, Bio conservation: nmi_ari_cluster_labels_kmeans]\u001b[A\n",
      "Metrics:  20%|\u001b[34m██        \u001b[0m| 2/10 [00:04<00:17,  2.23s/it, Bio conservation: silhouette_label]             \u001b[A\n",
      "Metrics:  30%|\u001b[34m███       \u001b[0m| 3/10 [00:04<00:10,  1.55s/it, Bio conservation: silhouette_label]\u001b[A\n",
      "Metrics:  30%|\u001b[34m███       \u001b[0m| 3/10 [00:04<00:10,  1.55s/it, Bio conservation: clisi_knn]       \u001b[A\n",
      "Metrics:  40%|\u001b[34m████      \u001b[0m| 4/10 [00:05<00:06,  1.10s/it, Bio conservation: clisi_knn]\u001b[A\n",
      "Metrics:  40%|\u001b[34m████      \u001b[0m| 4/10 [00:05<00:06,  1.10s/it, Batch correction: silhouette_batch]\u001b[A\n",
      "Metrics:  50%|\u001b[34m█████     \u001b[0m| 5/10 [00:05<00:04,  1.16it/s, Batch correction: silhouette_batch]\u001b[A\n",
      "Metrics:  50%|\u001b[34m█████     \u001b[0m| 5/10 [00:05<00:04,  1.16it/s, Batch correction: ilisi_knn]       \u001b[A\n",
      "Metrics:  60%|\u001b[34m██████    \u001b[0m| 6/10 [00:05<00:02,  1.63it/s, Batch correction: ilisi_knn]\u001b[A\n",
      "Metrics:  60%|\u001b[34m██████    \u001b[0m| 6/10 [00:05<00:02,  1.63it/s, Batch correction: kbet_per_label]\u001b[A\n",
      "Metrics:  70%|\u001b[34m███████   \u001b[0m| 7/10 [00:23<00:18,  6.13s/it, Batch correction: kbet_per_label]\u001b[A\n",
      "Metrics:  70%|\u001b[34m███████   \u001b[0m| 7/10 [00:23<00:18,  6.13s/it, Batch correction: graph_connectivity]\u001b[A\n",
      "Metrics:  80%|\u001b[34m████████  \u001b[0m| 8/10 [00:23<00:12,  6.13s/it, Batch correction: pcr_comparison]    \u001b[A\n",
      "Embeddings: 100%|\u001b[32m██████████\u001b[0m| 1/1 [00:23<00:00, 23.38s/it]atch correction: pcr_comparison]\u001b[A\n",
      "\n",
      "                                                                                         \u001b[A/ictstr01/home/icb/fatemehs.hashemig/codes/interpretable-ssl/interpretable_ssl/trainers/trainer.py:321: FutureWarning: The frame.append method is deprecated and will be removed from pandas in a future version. Use pandas.concat instead.\n",
      "  overall_df = overall_df.append(fold_df, ignore_index=True)\n"
     ]
    },
    {
     "name": "stdout",
     "output_type": "stream",
     "text": [
      "Evaluating fold 3\n",
      "Embedding dictionary:\n",
      " \tNum conditions: [3]\n",
      " \tEmbedding dim: [10]\n",
      "Encoder Architecture:\n",
      "\tInput Layer in, out and cond: 4000 64 10\n",
      "\tMean/Var Layer in/out: 64 8\n",
      "Decoder Architecture:\n",
      "\tFirst Layer in, out and cond:  8 64 10\n",
      "\tOutput Layer in/out:  64 4000 \n",
      "\n"
     ]
    },
    {
     "name": "stderr",
     "output_type": "stream",
     "text": [
      "INFO:scarches.trainers.scpoli.trainer:GPU available: True, GPU used: True\n"
     ]
    },
    {
     "name": "stdout",
     "output_type": "stream",
     "text": [
      "Embedding dictionary:\n",
      " \tNum conditions: [5]\n",
      " \tEmbedding dim: [10]\n",
      "Encoder Architecture:\n",
      "\tInput Layer in, out and cond: 4000 64 10\n",
      "\tMean/Var Layer in/out: 64 8\n",
      "Decoder Architecture:\n",
      "\tFirst Layer in, out and cond:  8 64 10\n",
      "\tOutput Layer in/out:  64 4000 \n",
      "\n",
      "Warning: Labels in adata.obs[cell_type] is not a subset of label-encoder!\n",
      "The missing labels are: {'Erythrocytes', 'CD10+ B cells', 'Monocyte progenitors', 'Erythroid progenitors'}\n",
      "Therefore integer value of those labels is set to -1\n",
      "Warning: Labels in adata.obs[cell_type] is not a subset of label-encoder!\n",
      "The missing labels are: {'Erythrocytes', 'CD10+ B cells', 'Monocyte progenitors', 'Erythroid progenitors'}\n",
      "Therefore integer value of those labels is set to -1\n",
      "Initializing dataloaders\n",
      "Starting training\n",
      " |████████████████----| 80.0%  - val_loss:  444.09 - val_cvae_loss:  444.09\n",
      "Initializing unlabeled prototypes with Leiden with an unknown number of  clusters.\n",
      "Clustering succesful. Found 28 clusters.\n",
      " |████████████████████| 100.0%  - val_loss:  445.07 - val_cvae_loss:  445.07 - val_prototype_loss:    0.00 - val_unlabeled_loss:    0.64\n"
     ]
    },
    {
     "name": "stderr",
     "output_type": "stream",
     "text": [
      "Computing neighbors: 100%|██████████| 1/1 [00:07<00:00,  7.71s/it]\n",
      "Embeddings:   0%|\u001b[32m          \u001b[0m| 0/1 [00:00<?, ?it/s]\n",
      "Metrics:   0%|\u001b[34m          \u001b[0m| 0/10 [00:00<?, ?it/s]\u001b[A\n",
      "Metrics:   0%|\u001b[34m          \u001b[0m| 0/10 [00:00<?, ?it/s, Bio conservation: isolated_labels]\u001b[A\n",
      "Metrics:  10%|\u001b[34m█         \u001b[0m| 1/10 [00:00<00:06,  1.48it/s, Bio conservation: isolated_labels]\u001b[A\n",
      "Metrics:  10%|\u001b[34m█         \u001b[0m| 1/10 [00:00<00:06,  1.48it/s, Bio conservation: nmi_ari_cluster_labels_kmeans]\u001b[A\n",
      "Metrics:  20%|\u001b[34m██        \u001b[0m| 2/10 [00:03<00:13,  1.71s/it, Bio conservation: nmi_ari_cluster_labels_kmeans]\u001b[A\n",
      "Metrics:  20%|\u001b[34m██        \u001b[0m| 2/10 [00:03<00:13,  1.71s/it, Bio conservation: silhouette_label]             \u001b[A\n",
      "Metrics:  30%|\u001b[34m███       \u001b[0m| 3/10 [00:03<00:08,  1.22s/it, Bio conservation: silhouette_label]\u001b[A\n",
      "Metrics:  30%|\u001b[34m███       \u001b[0m| 3/10 [00:03<00:08,  1.22s/it, Bio conservation: clisi_knn]       \u001b[A\n",
      "Metrics:  40%|\u001b[34m████      \u001b[0m| 4/10 [00:04<00:05,  1.12it/s, Bio conservation: clisi_knn]\u001b[A\n",
      "Metrics:  40%|\u001b[34m████      \u001b[0m| 4/10 [00:04<00:05,  1.12it/s, Batch correction: silhouette_batch]\u001b[A\n",
      "Metrics:  50%|\u001b[34m█████     \u001b[0m| 5/10 [00:04<00:03,  1.53it/s, Batch correction: silhouette_batch]\u001b[A\n",
      "Metrics:  50%|\u001b[34m█████     \u001b[0m| 5/10 [00:04<00:03,  1.53it/s, Batch correction: ilisi_knn]       \u001b[A\n",
      "Metrics:  60%|\u001b[34m██████    \u001b[0m| 6/10 [00:04<00:01,  2.03it/s, Batch correction: ilisi_knn]\u001b[A\n",
      "Metrics:  60%|\u001b[34m██████    \u001b[0m| 6/10 [00:04<00:01,  2.03it/s, Batch correction: kbet_per_label]\u001b[A\n",
      "Metrics:  70%|\u001b[34m███████   \u001b[0m| 7/10 [00:18<00:14,  4.75s/it, Batch correction: kbet_per_label]\u001b[A\n",
      "Metrics:  70%|\u001b[34m███████   \u001b[0m| 7/10 [00:18<00:14,  4.75s/it, Batch correction: graph_connectivity]\u001b[A\n",
      "Embeddings: 100%|\u001b[32m██████████\u001b[0m| 1/1 [00:18<00:00, 18.16s/it]atch correction: pcr_comparison]    \u001b[A\n",
      "\n",
      "                                                                                         \u001b[A/ictstr01/home/icb/fatemehs.hashemig/codes/interpretable-ssl/interpretable_ssl/trainers/trainer.py:321: FutureWarning: The frame.append method is deprecated and will be removed from pandas in a future version. Use pandas.concat instead.\n",
      "  overall_df = overall_df.append(fold_df, ignore_index=True)\n"
     ]
    },
    {
     "name": "stdout",
     "output_type": "stream",
     "text": [
      "Evaluating fold 4\n",
      "Embedding dictionary:\n",
      " \tNum conditions: [3]\n",
      " \tEmbedding dim: [10]\n",
      "Encoder Architecture:\n",
      "\tInput Layer in, out and cond: 4000 64 10\n",
      "\tMean/Var Layer in/out: 64 8\n",
      "Decoder Architecture:\n",
      "\tFirst Layer in, out and cond:  8 64 10\n",
      "\tOutput Layer in/out:  64 4000 \n",
      "\n"
     ]
    },
    {
     "name": "stderr",
     "output_type": "stream",
     "text": [
      "INFO:scarches.trainers.scpoli.trainer:GPU available: True, GPU used: True\n"
     ]
    },
    {
     "name": "stdout",
     "output_type": "stream",
     "text": [
      "Embedding dictionary:\n",
      " \tNum conditions: [5]\n",
      " \tEmbedding dim: [10]\n",
      "Encoder Architecture:\n",
      "\tInput Layer in, out and cond: 4000 64 10\n",
      "\tMean/Var Layer in/out: 64 8\n",
      "Decoder Architecture:\n",
      "\tFirst Layer in, out and cond:  8 64 10\n",
      "\tOutput Layer in/out:  64 4000 \n",
      "\n",
      "Warning: Labels in adata.obs[cell_type] is not a subset of label-encoder!\n",
      "The missing labels are: {'Erythrocytes', 'CD10+ B cells', 'Monocyte progenitors', 'Erythroid progenitors'}\n",
      "Therefore integer value of those labels is set to -1\n",
      "Warning: Labels in adata.obs[cell_type] is not a subset of label-encoder!\n",
      "The missing labels are: {'Erythrocytes', 'Monocyte progenitors'}\n",
      "Therefore integer value of those labels is set to -1\n",
      "Warning: Labels in adata.obs[cell_type] is not a subset of label-encoder!\n",
      "The missing labels are: {'Erythrocytes', 'CD10+ B cells', 'Monocyte progenitors', 'Erythroid progenitors'}\n",
      "Therefore integer value of those labels is set to -1\n",
      "Warning: Labels in adata.obs[cell_type] is not a subset of label-encoder!\n",
      "The missing labels are: {'Erythrocytes', 'Monocyte progenitors'}\n",
      "Therefore integer value of those labels is set to -1\n",
      "Initializing dataloaders\n",
      "Starting training\n",
      " |████████████████----| 80.0%  - val_loss: 4535.73 - val_cvae_loss: 4535.73\n",
      "Initializing unlabeled prototypes with Leiden with an unknown number of  clusters.\n",
      "Clustering succesful. Found 28 clusters.\n",
      " |████████████████████| 100.0%  - val_loss: 4559.26 - val_cvae_loss: 4559.26 - val_prototype_loss:    0.00 - val_unlabeled_loss:    0.46\n"
     ]
    },
    {
     "name": "stderr",
     "output_type": "stream",
     "text": [
      "Computing neighbors: 100%|██████████| 1/1 [00:04<00:00,  4.50s/it]\n",
      "Embeddings:   0%|\u001b[32m          \u001b[0m| 0/1 [00:00<?, ?it/s]\n",
      "Metrics:   0%|\u001b[34m          \u001b[0m| 0/10 [00:00<?, ?it/s]\u001b[A\n",
      "Metrics:   0%|\u001b[34m          \u001b[0m| 0/10 [00:00<?, ?it/s, Bio conservation: isolated_labels]\u001b[A\n",
      "Metrics:  10%|\u001b[34m█         \u001b[0m| 1/10 [00:00<00:02,  3.46it/s, Bio conservation: isolated_labels]\u001b[A\n",
      "Metrics:  10%|\u001b[34m█         \u001b[0m| 1/10 [00:00<00:02,  3.46it/s, Bio conservation: nmi_ari_cluster_labels_kmeans]\u001b[A\n",
      "Metrics:  20%|\u001b[34m██        \u001b[0m| 2/10 [00:02<00:10,  1.28s/it, Bio conservation: nmi_ari_cluster_labels_kmeans]\u001b[A\n",
      "Metrics:  20%|\u001b[34m██        \u001b[0m| 2/10 [00:02<00:10,  1.28s/it, Bio conservation: silhouette_label]             \u001b[A\n",
      "Metrics:  30%|\u001b[34m███       \u001b[0m| 3/10 [00:02<00:05,  1.21it/s, Bio conservation: silhouette_label]\u001b[A\n",
      "Metrics:  30%|\u001b[34m███       \u001b[0m| 3/10 [00:02<00:05,  1.21it/s, Bio conservation: clisi_knn]       \u001b[A\n",
      "Metrics:  40%|\u001b[34m████      \u001b[0m| 4/10 [00:02<00:04,  1.21it/s, Batch correction: silhouette_batch]\u001b[A\n",
      "Metrics:  50%|\u001b[34m█████     \u001b[0m| 5/10 [00:02<00:02,  2.40it/s, Batch correction: silhouette_batch]\u001b[A\n",
      "Metrics:  50%|\u001b[34m█████     \u001b[0m| 5/10 [00:02<00:02,  2.40it/s, Batch correction: ilisi_knn]       \u001b[A\n",
      "Metrics:  60%|\u001b[34m██████    \u001b[0m| 6/10 [00:02<00:01,  2.40it/s, Batch correction: kbet_per_label]\u001b[A\n",
      "Metrics:  70%|\u001b[34m███████   \u001b[0m| 7/10 [00:13<00:08,  2.68s/it, Batch correction: kbet_per_label]\u001b[A\n",
      "Metrics:  70%|\u001b[34m███████   \u001b[0m| 7/10 [00:13<00:08,  2.68s/it, Batch correction: graph_connectivity]\u001b[A\n",
      "Metrics:  80%|\u001b[34m████████  \u001b[0m| 8/10 [00:13<00:05,  2.68s/it, Batch correction: pcr_comparison]    \u001b[A\n",
      "Embeddings: 100%|\u001b[32m██████████\u001b[0m| 1/1 [00:13<00:00, 13.87s/it]atch correction: pcr_comparison]\u001b[A\n",
      "\n",
      "                                                                                         \u001b[A/ictstr01/home/icb/fatemehs.hashemig/codes/interpretable-ssl/interpretable_ssl/trainers/trainer.py:321: FutureWarning: The frame.append method is deprecated and will be removed from pandas in a future version. Use pandas.concat instead.\n",
      "  overall_df = overall_df.append(fold_df, ignore_index=True)\n"
     ]
    },
    {
     "name": "stdout",
     "output_type": "stream",
     "text": [
      "Evaluating fold 5\n",
      "Embedding dictionary:\n",
      " \tNum conditions: [3]\n",
      " \tEmbedding dim: [10]\n",
      "Encoder Architecture:\n",
      "\tInput Layer in, out and cond: 4000 64 10\n",
      "\tMean/Var Layer in/out: 64 8\n",
      "Decoder Architecture:\n",
      "\tFirst Layer in, out and cond:  8 64 10\n",
      "\tOutput Layer in/out:  64 4000 \n",
      "\n"
     ]
    },
    {
     "name": "stderr",
     "output_type": "stream",
     "text": [
      "INFO:scarches.trainers.scpoli.trainer:GPU available: True, GPU used: True\n"
     ]
    },
    {
     "name": "stdout",
     "output_type": "stream",
     "text": [
      "Embedding dictionary:\n",
      " \tNum conditions: [5]\n",
      " \tEmbedding dim: [10]\n",
      "Encoder Architecture:\n",
      "\tInput Layer in, out and cond: 4000 64 10\n",
      "\tMean/Var Layer in/out: 64 8\n",
      "Decoder Architecture:\n",
      "\tFirst Layer in, out and cond:  8 64 10\n",
      "\tOutput Layer in/out:  64 4000 \n",
      "\n",
      "Initializing dataloaders\n",
      "Starting training\n",
      " |████████████████----| 80.0%  - val_loss:  880.13 - val_cvae_loss:  880.13\n",
      "Initializing unlabeled prototypes with Leiden with an unknown number of  clusters.\n",
      "Clustering succesful. Found 27 clusters.\n",
      " |████████████████████| 100.0%  - val_loss:  880.74 - val_cvae_loss:  880.74 - val_prototype_loss:    0.00 - val_unlabeled_loss:    0.43\n"
     ]
    },
    {
     "name": "stderr",
     "output_type": "stream",
     "text": [
      "Computing neighbors: 100%|██████████| 1/1 [00:05<00:00,  5.84s/it]\n",
      "Embeddings:   0%|\u001b[32m          \u001b[0m| 0/1 [00:00<?, ?it/s]\n",
      "Metrics:   0%|\u001b[34m          \u001b[0m| 0/10 [00:00<?, ?it/s]\u001b[A\n",
      "Metrics:   0%|\u001b[34m          \u001b[0m| 0/10 [00:00<?, ?it/s, Bio conservation: isolated_labels]\u001b[A\n",
      "Metrics:  10%|\u001b[34m█         \u001b[0m| 1/10 [00:00<00:03,  2.56it/s, Bio conservation: isolated_labels]\u001b[A\n",
      "Metrics:  10%|\u001b[34m█         \u001b[0m| 1/10 [00:00<00:03,  2.56it/s, Bio conservation: nmi_ari_cluster_labels_kmeans]\u001b[A\n",
      "Metrics:  20%|\u001b[34m██        \u001b[0m| 2/10 [00:03<00:13,  1.72s/it, Bio conservation: nmi_ari_cluster_labels_kmeans]\u001b[A\n",
      "Metrics:  20%|\u001b[34m██        \u001b[0m| 2/10 [00:03<00:13,  1.72s/it, Bio conservation: silhouette_label]             \u001b[A\n",
      "Metrics:  30%|\u001b[34m███       \u001b[0m| 3/10 [00:03<00:07,  1.10s/it, Bio conservation: silhouette_label]\u001b[A\n",
      "Metrics:  30%|\u001b[34m███       \u001b[0m| 3/10 [00:03<00:07,  1.10s/it, Bio conservation: clisi_knn]       \u001b[A\n",
      "Metrics:  40%|\u001b[34m████      \u001b[0m| 4/10 [00:03<00:06,  1.10s/it, Batch correction: silhouette_batch]\u001b[A\n",
      "Metrics:  50%|\u001b[34m█████     \u001b[0m| 5/10 [00:03<00:02,  1.90it/s, Batch correction: silhouette_batch]\u001b[A\n",
      "Metrics:  50%|\u001b[34m█████     \u001b[0m| 5/10 [00:03<00:02,  1.90it/s, Batch correction: ilisi_knn]       \u001b[A\n",
      "Metrics:  60%|\u001b[34m██████    \u001b[0m| 6/10 [00:03<00:02,  1.90it/s, Batch correction: kbet_per_label]\u001b[A"
     ]
    },
    {
     "name": "stdout",
     "output_type": "stream",
     "text": [
      "\u001b[34mINFO    \u001b[0m HSPCs consists of a single batch or is too small. Skip.                                                   \n",
      "\u001b[34mINFO    \u001b[0m Monocyte-derived dendritic cells consists of a single batch or is too small. Skip.                        \n",
      "\u001b[34mINFO    \u001b[0m Plasma cells consists of a single batch or is too small. Skip.                                            \n"
     ]
    },
    {
     "name": "stderr",
     "output_type": "stream",
     "text": [
      "\n",
      "Metrics:  70%|\u001b[34m███████   \u001b[0m| 7/10 [00:13<00:07,  2.53s/it, Batch correction: kbet_per_label]\u001b[A\n",
      "Metrics:  70%|\u001b[34m███████   \u001b[0m| 7/10 [00:13<00:07,  2.53s/it, Batch correction: graph_connectivity]\u001b[A\n",
      "Embeddings: 100%|\u001b[32m██████████\u001b[0m| 1/1 [00:13<00:00, 13.67s/it]atch correction: pcr_comparison]    \u001b[A\n",
      "\n",
      "                                                                                         \u001b[A/ictstr01/home/icb/fatemehs.hashemig/codes/interpretable-ssl/interpretable_ssl/trainers/trainer.py:321: FutureWarning: The frame.append method is deprecated and will be removed from pandas in a future version. Use pandas.concat instead.\n",
      "  overall_df = overall_df.append(fold_df, ignore_index=True)\n"
     ]
    },
    {
     "name": "stdout",
     "output_type": "stream",
     "text": [
      "Evaluating fold 6\n",
      "Embedding dictionary:\n",
      " \tNum conditions: [3]\n",
      " \tEmbedding dim: [10]\n",
      "Encoder Architecture:\n",
      "\tInput Layer in, out and cond: 4000 64 10\n",
      "\tMean/Var Layer in/out: 64 8\n",
      "Decoder Architecture:\n",
      "\tFirst Layer in, out and cond:  8 64 10\n",
      "\tOutput Layer in/out:  64 4000 \n",
      "\n"
     ]
    },
    {
     "name": "stderr",
     "output_type": "stream",
     "text": [
      "INFO:scarches.trainers.scpoli.trainer:GPU available: True, GPU used: True\n"
     ]
    },
    {
     "name": "stdout",
     "output_type": "stream",
     "text": [
      "Embedding dictionary:\n",
      " \tNum conditions: [5]\n",
      " \tEmbedding dim: [10]\n",
      "Encoder Architecture:\n",
      "\tInput Layer in, out and cond: 4000 64 10\n",
      "\tMean/Var Layer in/out: 64 8\n",
      "Decoder Architecture:\n",
      "\tFirst Layer in, out and cond:  8 64 10\n",
      "\tOutput Layer in/out:  64 4000 \n",
      "\n",
      "Initializing dataloaders\n",
      "Starting training\n",
      " |████████████████----| 80.0%  - val_loss:  443.00 - val_cvae_loss:  443.00\n",
      "Initializing unlabeled prototypes with Leiden with an unknown number of  clusters.\n",
      "Clustering succesful. Found 27 clusters.\n",
      " |████████████████████| 100.0%  - val_loss:  445.16 - val_cvae_loss:  445.16 - val_prototype_loss:    0.00 - val_unlabeled_loss:    0.40\n"
     ]
    },
    {
     "name": "stderr",
     "output_type": "stream",
     "text": [
      "Computing neighbors: 100%|██████████| 1/1 [00:04<00:00,  4.77s/it]\n",
      "Embeddings:   0%|\u001b[32m          \u001b[0m| 0/1 [00:00<?, ?it/s]\n",
      "Metrics:   0%|\u001b[34m          \u001b[0m| 0/10 [00:00<?, ?it/s]\u001b[A\n",
      "Metrics:   0%|\u001b[34m          \u001b[0m| 0/10 [00:00<?, ?it/s, Bio conservation: isolated_labels]\u001b[A\n",
      "Metrics:  10%|\u001b[34m█         \u001b[0m| 1/10 [00:00<00:02,  3.19it/s, Bio conservation: isolated_labels]\u001b[A\n",
      "Metrics:  10%|\u001b[34m█         \u001b[0m| 1/10 [00:00<00:02,  3.19it/s, Bio conservation: nmi_ari_cluster_labels_kmeans]\u001b[A\n",
      "Metrics:  20%|\u001b[34m██        \u001b[0m| 2/10 [00:02<00:11,  1.40s/it, Bio conservation: nmi_ari_cluster_labels_kmeans]\u001b[A\n",
      "Metrics:  20%|\u001b[34m██        \u001b[0m| 2/10 [00:02<00:11,  1.40s/it, Bio conservation: silhouette_label]             \u001b[A\n",
      "Metrics:  30%|\u001b[34m███       \u001b[0m| 3/10 [00:02<00:06,  1.10it/s, Bio conservation: silhouette_label]\u001b[A\n",
      "Metrics:  30%|\u001b[34m███       \u001b[0m| 3/10 [00:02<00:06,  1.10it/s, Bio conservation: clisi_knn]       \u001b[A\n",
      "Metrics:  40%|\u001b[34m████      \u001b[0m| 4/10 [00:02<00:05,  1.10it/s, Batch correction: silhouette_batch]\u001b[A\n",
      "Metrics:  50%|\u001b[34m█████     \u001b[0m| 5/10 [00:03<00:02,  2.12it/s, Batch correction: silhouette_batch]\u001b[A\n",
      "Metrics:  50%|\u001b[34m█████     \u001b[0m| 5/10 [00:03<00:02,  2.12it/s, Batch correction: ilisi_knn]       \u001b[A\n",
      "Metrics:  60%|\u001b[34m██████    \u001b[0m| 6/10 [00:03<00:01,  2.12it/s, Batch correction: kbet_per_label]\u001b[A\n",
      "Metrics:  70%|\u001b[34m███████   \u001b[0m| 7/10 [00:11<00:06,  2.10s/it, Batch correction: kbet_per_label]\u001b[A\n",
      "Metrics:  70%|\u001b[34m███████   \u001b[0m| 7/10 [00:11<00:06,  2.10s/it, Batch correction: graph_connectivity]\u001b[A\n",
      "Embeddings: 100%|\u001b[32m██████████\u001b[0m| 1/1 [00:11<00:00, 11.36s/it]atch correction: pcr_comparison]    \u001b[A\n",
      "\n",
      "                                                                                         \u001b[A/ictstr01/home/icb/fatemehs.hashemig/codes/interpretable-ssl/interpretable_ssl/trainers/trainer.py:321: FutureWarning: The frame.append method is deprecated and will be removed from pandas in a future version. Use pandas.concat instead.\n",
      "  overall_df = overall_df.append(fold_df, ignore_index=True)\n"
     ]
    },
    {
     "name": "stdout",
     "output_type": "stream",
     "text": [
      "Evaluating fold 7\n",
      "Embedding dictionary:\n",
      " \tNum conditions: [3]\n",
      " \tEmbedding dim: [10]\n",
      "Encoder Architecture:\n",
      "\tInput Layer in, out and cond: 4000 64 10\n",
      "\tMean/Var Layer in/out: 64 8\n",
      "Decoder Architecture:\n",
      "\tFirst Layer in, out and cond:  8 64 10\n",
      "\tOutput Layer in/out:  64 4000 \n",
      "\n"
     ]
    },
    {
     "name": "stderr",
     "output_type": "stream",
     "text": [
      "INFO:scarches.trainers.scpoli.trainer:GPU available: True, GPU used: True\n"
     ]
    },
    {
     "name": "stdout",
     "output_type": "stream",
     "text": [
      "Embedding dictionary:\n",
      " \tNum conditions: [5]\n",
      " \tEmbedding dim: [10]\n",
      "Encoder Architecture:\n",
      "\tInput Layer in, out and cond: 4000 64 10\n",
      "\tMean/Var Layer in/out: 64 8\n",
      "Decoder Architecture:\n",
      "\tFirst Layer in, out and cond:  8 64 10\n",
      "\tOutput Layer in/out:  64 4000 \n",
      "\n",
      "Initializing dataloaders\n",
      "Starting training\n",
      " |████████████████----| 80.0%  - val_loss: 4492.98 - val_cvae_loss: 4492.98\n",
      "Initializing unlabeled prototypes with Leiden with an unknown number of  clusters.\n",
      "Clustering succesful. Found 19 clusters.\n",
      " |████████████████████| 100.0%  - val_loss: 4464.64 - val_cvae_loss: 4464.64 - val_prototype_loss:    0.00 - val_unlabeled_loss:    0.52\n"
     ]
    },
    {
     "name": "stderr",
     "output_type": "stream",
     "text": [
      "Computing neighbors: 100%|██████████| 1/1 [00:02<00:00,  2.00s/it]\n",
      "Embeddings:   0%|\u001b[32m          \u001b[0m| 0/1 [00:00<?, ?it/s]\n",
      "Metrics:   0%|\u001b[34m          \u001b[0m| 0/10 [00:00<?, ?it/s]\u001b[A\n",
      "Metrics:   0%|\u001b[34m          \u001b[0m| 0/10 [00:00<?, ?it/s, Bio conservation: isolated_labels]\u001b[A\n",
      "Metrics:  10%|\u001b[34m█         \u001b[0m| 1/10 [00:00<00:00, 21.58it/s, Bio conservation: nmi_ari_cluster_labels_kmeans]\u001b[A\n",
      "Metrics:  20%|\u001b[34m██        \u001b[0m| 2/10 [00:00<00:03,  2.33it/s, Bio conservation: nmi_ari_cluster_labels_kmeans]\u001b[A\n",
      "Metrics:  20%|\u001b[34m██        \u001b[0m| 2/10 [00:00<00:03,  2.33it/s, Bio conservation: silhouette_label]             \u001b[A\n",
      "Metrics:  30%|\u001b[34m███       \u001b[0m| 3/10 [00:00<00:03,  2.33it/s, Bio conservation: clisi_knn]       \u001b[A\n",
      "Metrics:  40%|\u001b[34m████      \u001b[0m| 4/10 [00:00<00:02,  2.33it/s, Batch correction: silhouette_batch]\u001b[A\n",
      "Metrics:  50%|\u001b[34m█████     \u001b[0m| 5/10 [00:00<00:02,  2.33it/s, Batch correction: ilisi_knn]       \u001b[A\n",
      "Metrics:  60%|\u001b[34m██████    \u001b[0m| 6/10 [00:00<00:00,  7.58it/s, Batch correction: ilisi_knn]\u001b[A\n",
      "Metrics:  60%|\u001b[34m██████    \u001b[0m| 6/10 [00:00<00:00,  7.58it/s, Batch correction: kbet_per_label]\u001b[A"
     ]
    },
    {
     "name": "stdout",
     "output_type": "stream",
     "text": [
      "\u001b[34mINFO    \u001b[0m CD20+ B cells consists of a single batch or is too small. Skip.                                           \n",
      "\u001b[34mINFO    \u001b[0m CD4+ T cells consists of a single batch or is too small. Skip.                                            \n",
      "\u001b[34mINFO    \u001b[0m CD8+ T cells consists of a single batch or is too small. Skip.                                            \n",
      "\u001b[34mINFO    \u001b[0m Megakaryocyte progenitors consists of a single batch or is too small. Skip.                               \n",
      "\u001b[34mINFO    \u001b[0m Monocyte-derived dendritic cells consists of a single batch or is too small. Skip.                        \n",
      "\u001b[34mINFO    \u001b[0m NK cells consists of a single batch or is too small. Skip.                                                \n",
      "\u001b[34mINFO    \u001b[0m NKT cells consists of a single batch or is too small. Skip.                                               \n"
     ]
    },
    {
     "name": "stderr",
     "output_type": "stream",
     "text": [
      "\n",
      "Metrics:  70%|\u001b[34m███████   \u001b[0m| 7/10 [00:01<00:00,  7.58it/s, Batch correction: graph_connectivity]\u001b[A\n",
      "Metrics:  80%|\u001b[34m████████  \u001b[0m| 8/10 [00:01<00:00,  7.58it/s, Batch correction: pcr_comparison]    \u001b[A\n",
      "Embeddings: 100%|\u001b[32m██████████\u001b[0m| 1/1 [00:01<00:00,  1.91s/it]atch correction: pcr_comparison]\u001b[A\n",
      "\n",
      "                                                                                         \u001b[A/ictstr01/home/icb/fatemehs.hashemig/codes/interpretable-ssl/interpretable_ssl/trainers/trainer.py:321: FutureWarning: The frame.append method is deprecated and will be removed from pandas in a future version. Use pandas.concat instead.\n",
      "  overall_df = overall_df.append(fold_df, ignore_index=True)\n"
     ]
    },
    {
     "name": "stdout",
     "output_type": "stream",
     "text": [
      "Evaluating fold 8\n",
      "Embedding dictionary:\n",
      " \tNum conditions: [3]\n",
      " \tEmbedding dim: [10]\n",
      "Encoder Architecture:\n",
      "\tInput Layer in, out and cond: 4000 64 10\n",
      "\tMean/Var Layer in/out: 64 8\n",
      "Decoder Architecture:\n",
      "\tFirst Layer in, out and cond:  8 64 10\n",
      "\tOutput Layer in/out:  64 4000 \n",
      "\n"
     ]
    },
    {
     "name": "stderr",
     "output_type": "stream",
     "text": [
      "INFO:scarches.trainers.scpoli.trainer:GPU available: True, GPU used: True\n"
     ]
    },
    {
     "name": "stdout",
     "output_type": "stream",
     "text": [
      "Embedding dictionary:\n",
      " \tNum conditions: [5]\n",
      " \tEmbedding dim: [10]\n",
      "Encoder Architecture:\n",
      "\tInput Layer in, out and cond: 4000 64 10\n",
      "\tMean/Var Layer in/out: 64 8\n",
      "Decoder Architecture:\n",
      "\tFirst Layer in, out and cond:  8 64 10\n",
      "\tOutput Layer in/out:  64 4000 \n",
      "\n",
      "Initializing dataloaders\n",
      "Starting training\n",
      " |████████████████----| 80.0%  - val_loss:  443.96 - val_cvae_loss:  443.96\n",
      "Initializing unlabeled prototypes with Leiden with an unknown number of  clusters.\n",
      "Clustering succesful. Found 28 clusters.\n",
      " |████████████████████| 100.0%  - val_loss:  444.67 - val_cvae_loss:  444.67 - val_prototype_loss:    0.00 - val_unlabeled_loss:    0.70\n"
     ]
    },
    {
     "name": "stderr",
     "output_type": "stream",
     "text": [
      "Computing neighbors: 100%|██████████| 1/1 [00:07<00:00,  7.93s/it]\n",
      "Embeddings:   0%|\u001b[32m          \u001b[0m| 0/1 [00:00<?, ?it/s]\n",
      "Metrics:   0%|\u001b[34m          \u001b[0m| 0/10 [00:00<?, ?it/s]\u001b[A\n",
      "Metrics:   0%|\u001b[34m          \u001b[0m| 0/10 [00:00<?, ?it/s, Bio conservation: isolated_labels]\u001b[A\n",
      "Metrics:  10%|\u001b[34m█         \u001b[0m| 1/10 [00:00<00:05,  1.54it/s, Bio conservation: isolated_labels]\u001b[A\n",
      "Metrics:  10%|\u001b[34m█         \u001b[0m| 1/10 [00:00<00:05,  1.54it/s, Bio conservation: nmi_ari_cluster_labels_kmeans]\u001b[A\n",
      "Metrics:  20%|\u001b[34m██        \u001b[0m| 2/10 [00:02<00:11,  1.49s/it, Bio conservation: nmi_ari_cluster_labels_kmeans]\u001b[A\n",
      "Metrics:  20%|\u001b[34m██        \u001b[0m| 2/10 [00:02<00:11,  1.49s/it, Bio conservation: silhouette_label]             \u001b[A\n",
      "Metrics:  30%|\u001b[34m███       \u001b[0m| 3/10 [00:03<00:07,  1.09s/it, Bio conservation: silhouette_label]\u001b[A\n",
      "Metrics:  30%|\u001b[34m███       \u001b[0m| 3/10 [00:03<00:07,  1.09s/it, Bio conservation: clisi_knn]       \u001b[A\n",
      "Metrics:  40%|\u001b[34m████      \u001b[0m| 4/10 [00:03<00:06,  1.09s/it, Batch correction: silhouette_batch]\u001b[A\n",
      "Metrics:  50%|\u001b[34m█████     \u001b[0m| 5/10 [00:03<00:02,  1.80it/s, Batch correction: silhouette_batch]\u001b[A\n",
      "Metrics:  50%|\u001b[34m█████     \u001b[0m| 5/10 [00:03<00:02,  1.80it/s, Batch correction: ilisi_knn]       \u001b[A\n",
      "Metrics:  60%|\u001b[34m██████    \u001b[0m| 6/10 [00:03<00:01,  2.35it/s, Batch correction: ilisi_knn]\u001b[A\n",
      "Metrics:  60%|\u001b[34m██████    \u001b[0m| 6/10 [00:03<00:01,  2.35it/s, Batch correction: kbet_per_label]\u001b[A"
     ]
    },
    {
     "name": "stdout",
     "output_type": "stream",
     "text": [
      "\u001b[34mINFO    \u001b[0m HSPCs consists of a single batch or is too small. Skip.                                                   \n",
      "\u001b[34mINFO    \u001b[0m Plasma cells consists of a single batch or is too small. Skip.                                            \n"
     ]
    },
    {
     "name": "stderr",
     "output_type": "stream",
     "text": [
      "\n",
      "Metrics:  70%|\u001b[34m███████   \u001b[0m| 7/10 [00:17<00:13,  4.42s/it, Batch correction: kbet_per_label]\u001b[A\n",
      "Metrics:  70%|\u001b[34m███████   \u001b[0m| 7/10 [00:17<00:13,  4.42s/it, Batch correction: graph_connectivity]\u001b[A\n",
      "Metrics:  80%|\u001b[34m████████  \u001b[0m| 8/10 [00:17<00:08,  4.42s/it, Batch correction: pcr_comparison]    \u001b[A\n",
      "Embeddings: 100%|\u001b[32m██████████\u001b[0m| 1/1 [00:17<00:00, 17.96s/it]atch correction: pcr_comparison]\u001b[A\n",
      "\n",
      "                                                                                         \u001b[A/ictstr01/home/icb/fatemehs.hashemig/codes/interpretable-ssl/interpretable_ssl/trainers/trainer.py:321: FutureWarning: The frame.append method is deprecated and will be removed from pandas in a future version. Use pandas.concat instead.\n",
      "  overall_df = overall_df.append(fold_df, ignore_index=True)\n"
     ]
    },
    {
     "name": "stdout",
     "output_type": "stream",
     "text": [
      "Evaluating fold 9\n",
      "Embedding dictionary:\n",
      " \tNum conditions: [3]\n",
      " \tEmbedding dim: [10]\n",
      "Encoder Architecture:\n",
      "\tInput Layer in, out and cond: 4000 64 10\n",
      "\tMean/Var Layer in/out: 64 8\n",
      "Decoder Architecture:\n",
      "\tFirst Layer in, out and cond:  8 64 10\n",
      "\tOutput Layer in/out:  64 4000 \n",
      "\n"
     ]
    },
    {
     "name": "stderr",
     "output_type": "stream",
     "text": [
      "INFO:scarches.trainers.scpoli.trainer:GPU available: True, GPU used: True\n"
     ]
    },
    {
     "name": "stdout",
     "output_type": "stream",
     "text": [
      "Embedding dictionary:\n",
      " \tNum conditions: [5]\n",
      " \tEmbedding dim: [10]\n",
      "Encoder Architecture:\n",
      "\tInput Layer in, out and cond: 4000 64 10\n",
      "\tMean/Var Layer in/out: 64 8\n",
      "Decoder Architecture:\n",
      "\tFirst Layer in, out and cond:  8 64 10\n",
      "\tOutput Layer in/out:  64 4000 \n",
      "\n",
      "Initializing dataloaders\n",
      "Starting training\n",
      " |████████████████----| 80.0%  - val_loss: 4284.45 - val_cvae_loss: 4284.45\n",
      "Initializing unlabeled prototypes with Leiden with an unknown number of  clusters.\n",
      "Clustering succesful. Found 26 clusters.\n",
      " |████████████████████| 100.0%  - val_loss: 4300.18 - val_cvae_loss: 4300.18 - val_prototype_loss:    0.00 - val_unlabeled_loss:    0.50\n"
     ]
    },
    {
     "name": "stderr",
     "output_type": "stream",
     "text": [
      "Computing neighbors: 100%|██████████| 1/1 [00:04<00:00,  4.99s/it]\n",
      "Embeddings:   0%|\u001b[32m          \u001b[0m| 0/1 [00:00<?, ?it/s]\n",
      "Metrics:   0%|\u001b[34m          \u001b[0m| 0/10 [00:00<?, ?it/s]\u001b[A\n",
      "Metrics:   0%|\u001b[34m          \u001b[0m| 0/10 [00:00<?, ?it/s, Bio conservation: isolated_labels]\u001b[A\n",
      "Metrics:  10%|\u001b[34m█         \u001b[0m| 1/10 [00:00<00:02,  3.47it/s, Bio conservation: isolated_labels]\u001b[A\n",
      "Metrics:  10%|\u001b[34m█         \u001b[0m| 1/10 [00:00<00:02,  3.47it/s, Bio conservation: nmi_ari_cluster_labels_kmeans]\u001b[A\n",
      "Metrics:  20%|\u001b[34m██        \u001b[0m| 2/10 [00:02<00:11,  1.49s/it, Bio conservation: nmi_ari_cluster_labels_kmeans]\u001b[A\n",
      "Metrics:  20%|\u001b[34m██        \u001b[0m| 2/10 [00:02<00:11,  1.49s/it, Bio conservation: silhouette_label]             \u001b[A\n",
      "Metrics:  30%|\u001b[34m███       \u001b[0m| 3/10 [00:02<00:06,  1.02it/s, Bio conservation: silhouette_label]\u001b[A\n",
      "Metrics:  30%|\u001b[34m███       \u001b[0m| 3/10 [00:02<00:06,  1.02it/s, Bio conservation: clisi_knn]       \u001b[A\n",
      "Metrics:  40%|\u001b[34m████      \u001b[0m| 4/10 [00:03<00:05,  1.02it/s, Batch correction: silhouette_batch]\u001b[A\n",
      "Metrics:  50%|\u001b[34m█████     \u001b[0m| 5/10 [00:03<00:02,  2.14it/s, Batch correction: silhouette_batch]\u001b[A\n",
      "Metrics:  50%|\u001b[34m█████     \u001b[0m| 5/10 [00:03<00:02,  2.14it/s, Batch correction: ilisi_knn]       \u001b[A\n",
      "Metrics:  60%|\u001b[34m██████    \u001b[0m| 6/10 [00:03<00:01,  2.14it/s, Batch correction: kbet_per_label]\u001b[A"
     ]
    },
    {
     "name": "stdout",
     "output_type": "stream",
     "text": [
      "\u001b[34mINFO    \u001b[0m CD20+ B cells consists of a single batch or is too small. Skip.                                           \n",
      "\u001b[34mINFO    \u001b[0m CD4+ T cells consists of a single batch or is too small. Skip.                                            \n",
      "\u001b[34mINFO    \u001b[0m CD8+ T cells consists of a single batch or is too small. Skip.                                            \n",
      "\u001b[34mINFO    \u001b[0m HSPCs consists of a single batch or is too small. Skip.                                                   \n",
      "\u001b[34mINFO    \u001b[0m Megakaryocyte progenitors consists of a single batch or is too small. Skip.                               \n",
      "\u001b[34mINFO    \u001b[0m NK cells consists of a single batch or is too small. Skip.                                                \n",
      "\u001b[34mINFO    \u001b[0m NKT cells consists of a single batch or is too small. Skip.                                               \n",
      "\u001b[34mINFO    \u001b[0m Plasma cells consists of a single batch or is too small. Skip.                                            \n"
     ]
    },
    {
     "name": "stderr",
     "output_type": "stream",
     "text": [
      "\n",
      "Metrics:  70%|\u001b[34m███████   \u001b[0m| 7/10 [00:08<00:04,  1.48s/it, Batch correction: kbet_per_label]\u001b[A\n",
      "Metrics:  70%|\u001b[34m███████   \u001b[0m| 7/10 [00:08<00:04,  1.48s/it, Batch correction: graph_connectivity]\u001b[A\n",
      "Embeddings: 100%|\u001b[32m██████████\u001b[0m| 1/1 [00:08<00:00,  8.70s/it]atch correction: pcr_comparison]    \u001b[A\n",
      "\n",
      "                                                                                         \u001b[A/ictstr01/home/icb/fatemehs.hashemig/codes/interpretable-ssl/interpretable_ssl/trainers/trainer.py:321: FutureWarning: The frame.append method is deprecated and will be removed from pandas in a future version. Use pandas.concat instead.\n",
      "  overall_df = overall_df.append(fold_df, ignore_index=True)\n"
     ]
    },
    {
     "name": "stdout",
     "output_type": "stream",
     "text": [
      "Evaluating fold 10\n",
      "Embedding dictionary:\n",
      " \tNum conditions: [3]\n",
      " \tEmbedding dim: [10]\n",
      "Encoder Architecture:\n",
      "\tInput Layer in, out and cond: 4000 64 10\n",
      "\tMean/Var Layer in/out: 64 8\n",
      "Decoder Architecture:\n",
      "\tFirst Layer in, out and cond:  8 64 10\n",
      "\tOutput Layer in/out:  64 4000 \n",
      "\n"
     ]
    },
    {
     "name": "stderr",
     "output_type": "stream",
     "text": [
      "INFO:scarches.trainers.scpoli.trainer:GPU available: True, GPU used: True\n"
     ]
    },
    {
     "name": "stdout",
     "output_type": "stream",
     "text": [
      "Embedding dictionary:\n",
      " \tNum conditions: [5]\n",
      " \tEmbedding dim: [10]\n",
      "Encoder Architecture:\n",
      "\tInput Layer in, out and cond: 4000 64 10\n",
      "\tMean/Var Layer in/out: 64 8\n",
      "Decoder Architecture:\n",
      "\tFirst Layer in, out and cond:  8 64 10\n",
      "\tOutput Layer in/out:  64 4000 \n",
      "\n",
      "Initializing dataloaders\n",
      "Starting training\n",
      " |████████████████----| 80.0%  - val_loss: 4439.00 - val_cvae_loss: 4439.00\n",
      "Initializing unlabeled prototypes with Leiden with an unknown number of  clusters.\n",
      "Clustering succesful. Found 27 clusters.\n",
      " |████████████████████| 100.0%  - val_loss: 4442.48 - val_cvae_loss: 4442.48 - val_prototype_loss:    0.00 - val_unlabeled_loss:    0.66\n"
     ]
    },
    {
     "name": "stderr",
     "output_type": "stream",
     "text": [
      "Computing neighbors: 100%|██████████| 1/1 [00:04<00:00,  4.09s/it]\n",
      "Embeddings:   0%|\u001b[32m          \u001b[0m| 0/1 [00:00<?, ?it/s]\n",
      "Metrics:   0%|\u001b[34m          \u001b[0m| 0/10 [00:00<?, ?it/s]\u001b[A\n",
      "Metrics:   0%|\u001b[34m          \u001b[0m| 0/10 [00:00<?, ?it/s, Bio conservation: isolated_labels]\u001b[A\n",
      "Metrics:  10%|\u001b[34m█         \u001b[0m| 1/10 [00:00<00:01,  5.69it/s, Bio conservation: isolated_labels]\u001b[A\n",
      "Metrics:  10%|\u001b[34m█         \u001b[0m| 1/10 [00:00<00:01,  5.69it/s, Bio conservation: nmi_ari_cluster_labels_kmeans]\u001b[A\n",
      "Metrics:  20%|\u001b[34m██        \u001b[0m| 2/10 [00:01<00:05,  1.38it/s, Bio conservation: nmi_ari_cluster_labels_kmeans]\u001b[A\n",
      "Metrics:  20%|\u001b[34m██        \u001b[0m| 2/10 [00:01<00:05,  1.38it/s, Bio conservation: silhouette_label]             \u001b[A\n",
      "Metrics:  30%|\u001b[34m███       \u001b[0m| 3/10 [00:01<00:03,  2.12it/s, Bio conservation: silhouette_label]\u001b[A\n",
      "Metrics:  30%|\u001b[34m███       \u001b[0m| 3/10 [00:01<00:03,  2.12it/s, Bio conservation: clisi_knn]       \u001b[A\n",
      "Metrics:  40%|\u001b[34m████      \u001b[0m| 4/10 [00:01<00:02,  2.12it/s, Batch correction: silhouette_batch]\u001b[A\n",
      "Metrics:  50%|\u001b[34m█████     \u001b[0m| 5/10 [00:01<00:01,  4.11it/s, Batch correction: silhouette_batch]\u001b[A\n",
      "Metrics:  50%|\u001b[34m█████     \u001b[0m| 5/10 [00:01<00:01,  4.11it/s, Batch correction: ilisi_knn]       \u001b[A\n",
      "Metrics:  60%|\u001b[34m██████    \u001b[0m| 6/10 [00:01<00:00,  4.11it/s, Batch correction: kbet_per_label]\u001b[A\n",
      "Metrics:  70%|\u001b[34m███████   \u001b[0m| 7/10 [00:09<00:05,  1.88s/it, Batch correction: kbet_per_label]\u001b[A\n",
      "Metrics:  70%|\u001b[34m███████   \u001b[0m| 7/10 [00:09<00:05,  1.88s/it, Batch correction: graph_connectivity]\u001b[A\n",
      "Embeddings: 100%|\u001b[32m██████████\u001b[0m| 1/1 [00:09<00:00,  9.46s/it]atch correction: pcr_comparison]    \u001b[A\n",
      "\n",
      "                                                                                         \u001b[A/ictstr01/home/icb/fatemehs.hashemig/codes/interpretable-ssl/interpretable_ssl/trainers/trainer.py:321: FutureWarning: The frame.append method is deprecated and will be removed from pandas in a future version. Use pandas.concat instead.\n",
      "  overall_df = overall_df.append(fold_df, ignore_index=True)\n"
     ]
    },
    {
     "name": "stdout",
     "output_type": "stream",
     "text": [
      "running custom cross validation evaluation\n",
      "Evaluating fold 1\n",
      "Embedding dictionary:\n",
      " \tNum conditions: [3]\n",
      " \tEmbedding dim: [10]\n",
      "Encoder Architecture:\n",
      "\tInput Layer in, out and cond: 4000 64 10\n",
      "\tMean/Var Layer in/out: 64 8\n",
      "Decoder Architecture:\n",
      "\tFirst Layer in, out and cond:  8 64 10\n",
      "\tOutput Layer in/out:  64 4000 \n",
      "\n"
     ]
    },
    {
     "name": "stderr",
     "output_type": "stream",
     "text": [
      "INFO:scarches.trainers.scpoli.trainer:GPU available: True, GPU used: True\n"
     ]
    },
    {
     "name": "stdout",
     "output_type": "stream",
     "text": [
      "Embedding dictionary:\n",
      " \tNum conditions: [5]\n",
      " \tEmbedding dim: [10]\n",
      "Encoder Architecture:\n",
      "\tInput Layer in, out and cond: 4000 64 10\n",
      "\tMean/Var Layer in/out: 64 8\n",
      "Decoder Architecture:\n",
      "\tFirst Layer in, out and cond:  8 64 10\n",
      "\tOutput Layer in/out:  64 4000 \n",
      "\n",
      "Warning: Labels in adata.obs[cell_type] is not a subset of label-encoder!\n",
      "The missing labels are: {'Erythrocytes', 'CD10+ B cells', 'Monocyte progenitors', 'Erythroid progenitors'}\n",
      "Therefore integer value of those labels is set to -1\n",
      "Warning: Labels in adata.obs[cell_type] is not a subset of label-encoder!\n",
      "The missing labels are: {'Erythrocytes', 'CD10+ B cells', 'Monocyte progenitors', 'Erythroid progenitors'}\n",
      "Therefore integer value of those labels is set to -1\n",
      "Initializing dataloaders\n",
      "Starting training\n",
      " |████████████████----| 80.0%  - val_loss:  441.65 - val_cvae_loss:  441.65\n",
      "Initializing unlabeled prototypes with Leiden with an unknown number of  clusters.\n",
      "Clustering succesful. Found 27 clusters.\n",
      " |████████████████████| 100.0%  - val_loss:  440.78 - val_cvae_loss:  440.78 - val_prototype_loss:    0.00 - val_unlabeled_loss:    0.45\n"
     ]
    },
    {
     "name": "stderr",
     "output_type": "stream",
     "text": [
      "Computing neighbors: 100%|██████████| 1/1 [00:05<00:00,  5.82s/it]\n",
      "Embeddings:   0%|\u001b[32m          \u001b[0m| 0/1 [00:00<?, ?it/s]\n",
      "Metrics:   0%|\u001b[34m          \u001b[0m| 0/10 [00:00<?, ?it/s]\u001b[A\n",
      "Metrics:   0%|\u001b[34m          \u001b[0m| 0/10 [00:00<?, ?it/s, Bio conservation: isolated_labels]\u001b[A\n",
      "Metrics:  10%|\u001b[34m█         \u001b[0m| 1/10 [00:00<00:03,  2.38it/s, Bio conservation: isolated_labels]\u001b[A\n",
      "Metrics:  10%|\u001b[34m█         \u001b[0m| 1/10 [00:00<00:03,  2.38it/s, Bio conservation: nmi_ari_cluster_labels_kmeans]\u001b[A\n",
      "Metrics:  20%|\u001b[34m██        \u001b[0m| 2/10 [00:02<00:11,  1.50s/it, Bio conservation: nmi_ari_cluster_labels_kmeans]\u001b[A\n",
      "Metrics:  20%|\u001b[34m██        \u001b[0m| 2/10 [00:02<00:11,  1.50s/it, Bio conservation: silhouette_label]             \u001b[A\n",
      "Metrics:  30%|\u001b[34m███       \u001b[0m| 3/10 [00:03<00:07,  1.05s/it, Bio conservation: silhouette_label]\u001b[A\n",
      "Metrics:  30%|\u001b[34m███       \u001b[0m| 3/10 [00:03<00:07,  1.05s/it, Bio conservation: clisi_knn]       \u001b[A\n",
      "Metrics:  40%|\u001b[34m████      \u001b[0m| 4/10 [00:03<00:04,  1.49it/s, Bio conservation: clisi_knn]\u001b[A\n",
      "Metrics:  40%|\u001b[34m████      \u001b[0m| 4/10 [00:03<00:04,  1.49it/s, Batch correction: silhouette_batch]\u001b[A\n",
      "Metrics:  50%|\u001b[34m█████     \u001b[0m| 5/10 [00:03<00:02,  2.09it/s, Batch correction: silhouette_batch]\u001b[A\n",
      "Metrics:  50%|\u001b[34m█████     \u001b[0m| 5/10 [00:03<00:02,  2.09it/s, Batch correction: ilisi_knn]       \u001b[A\n",
      "Metrics:  60%|\u001b[34m██████    \u001b[0m| 6/10 [00:03<00:01,  2.85it/s, Batch correction: ilisi_knn]\u001b[A\n",
      "Metrics:  60%|\u001b[34m██████    \u001b[0m| 6/10 [00:03<00:01,  2.85it/s, Batch correction: kbet_per_label]\u001b[A\n",
      "Metrics:  70%|\u001b[34m███████   \u001b[0m| 7/10 [00:15<00:12,  4.20s/it, Batch correction: kbet_per_label]\u001b[A\n",
      "Metrics:  70%|\u001b[34m███████   \u001b[0m| 7/10 [00:15<00:12,  4.20s/it, Batch correction: graph_connectivity]\u001b[A\n",
      "Embeddings: 100%|\u001b[32m██████████\u001b[0m| 1/1 [00:15<00:00, 15.70s/it]atch correction: pcr_comparison]    \u001b[A\n",
      "\n",
      "                                                                                         \u001b[A/ictstr01/home/icb/fatemehs.hashemig/codes/interpretable-ssl/interpretable_ssl/trainers/trainer.py:321: FutureWarning: The frame.append method is deprecated and will be removed from pandas in a future version. Use pandas.concat instead.\n",
      "  overall_df = overall_df.append(fold_df, ignore_index=True)\n"
     ]
    },
    {
     "name": "stdout",
     "output_type": "stream",
     "text": [
      "Evaluating fold 2\n",
      "Embedding dictionary:\n",
      " \tNum conditions: [3]\n",
      " \tEmbedding dim: [10]\n",
      "Encoder Architecture:\n",
      "\tInput Layer in, out and cond: 4000 64 10\n",
      "\tMean/Var Layer in/out: 64 8\n",
      "Decoder Architecture:\n",
      "\tFirst Layer in, out and cond:  8 64 10\n",
      "\tOutput Layer in/out:  64 4000 \n",
      "\n"
     ]
    },
    {
     "name": "stderr",
     "output_type": "stream",
     "text": [
      "INFO:scarches.trainers.scpoli.trainer:GPU available: True, GPU used: True\n"
     ]
    },
    {
     "name": "stdout",
     "output_type": "stream",
     "text": [
      "Embedding dictionary:\n",
      " \tNum conditions: [5]\n",
      " \tEmbedding dim: [10]\n",
      "Encoder Architecture:\n",
      "\tInput Layer in, out and cond: 4000 64 10\n",
      "\tMean/Var Layer in/out: 64 8\n",
      "Decoder Architecture:\n",
      "\tFirst Layer in, out and cond:  8 64 10\n",
      "\tOutput Layer in/out:  64 4000 \n",
      "\n",
      "Warning: Labels in adata.obs[cell_type] is not a subset of label-encoder!\n",
      "The missing labels are: {'HSPCs', 'Monocyte progenitors', 'Erythroid progenitors', 'Erythrocytes', 'Plasma cells', 'CD10+ B cells'}\n",
      "Therefore integer value of those labels is set to -1\n",
      "Warning: Labels in adata.obs[cell_type] is not a subset of label-encoder!\n",
      "The missing labels are: {'Plasma cells', 'HSPCs'}\n",
      "Therefore integer value of those labels is set to -1\n",
      "Warning: Labels in adata.obs[cell_type] is not a subset of label-encoder!\n",
      "The missing labels are: {'HSPCs', 'Monocyte progenitors', 'Erythroid progenitors', 'Erythrocytes', 'Plasma cells', 'CD10+ B cells'}\n",
      "Therefore integer value of those labels is set to -1\n",
      "Warning: Labels in adata.obs[cell_type] is not a subset of label-encoder!\n",
      "The missing labels are: {'Plasma cells', 'HSPCs'}\n",
      "Therefore integer value of those labels is set to -1\n",
      "Initializing dataloaders\n",
      "Starting training\n",
      " |████████████████----| 80.0%  - val_loss:  882.80 - val_cvae_loss:  882.80\n",
      "Initializing unlabeled prototypes with Leiden with an unknown number of  clusters.\n",
      "Clustering succesful. Found 26 clusters.\n",
      " |████████████████████| 100.0%  - val_loss:  884.22 - val_cvae_loss:  884.22 - val_prototype_loss:    0.00 - val_unlabeled_loss:    0.40\n"
     ]
    },
    {
     "name": "stderr",
     "output_type": "stream",
     "text": [
      "Computing neighbors: 100%|██████████| 1/1 [00:07<00:00,  7.83s/it]\n",
      "Embeddings:   0%|\u001b[32m          \u001b[0m| 0/1 [00:00<?, ?it/s]\n",
      "Metrics:   0%|\u001b[34m          \u001b[0m| 0/10 [00:00<?, ?it/s]\u001b[A\n",
      "Metrics:   0%|\u001b[34m          \u001b[0m| 0/10 [00:00<?, ?it/s, Bio conservation: isolated_labels]\u001b[A\n",
      "Metrics:  10%|\u001b[34m█         \u001b[0m| 1/10 [00:00<00:07,  1.26it/s, Bio conservation: isolated_labels]\u001b[A\n",
      "Metrics:  10%|\u001b[34m█         \u001b[0m| 1/10 [00:00<00:07,  1.26it/s, Bio conservation: nmi_ari_cluster_labels_kmeans]\u001b[A\n",
      "Metrics:  20%|\u001b[34m██        \u001b[0m| 2/10 [00:03<00:13,  1.72s/it, Bio conservation: nmi_ari_cluster_labels_kmeans]\u001b[A\n",
      "Metrics:  20%|\u001b[34m██        \u001b[0m| 2/10 [00:03<00:13,  1.72s/it, Bio conservation: silhouette_label]             \u001b[A\n",
      "Metrics:  30%|\u001b[34m███       \u001b[0m| 3/10 [00:04<00:09,  1.40s/it, Bio conservation: silhouette_label]\u001b[A\n",
      "Metrics:  30%|\u001b[34m███       \u001b[0m| 3/10 [00:04<00:09,  1.40s/it, Bio conservation: clisi_knn]       \u001b[A\n",
      "Metrics:  40%|\u001b[34m████      \u001b[0m| 4/10 [00:04<00:05,  1.09it/s, Bio conservation: clisi_knn]\u001b[A\n",
      "Metrics:  40%|\u001b[34m████      \u001b[0m| 4/10 [00:04<00:05,  1.09it/s, Batch correction: silhouette_batch]\u001b[A\n",
      "Metrics:  50%|\u001b[34m█████     \u001b[0m| 5/10 [00:04<00:04,  1.23it/s, Batch correction: silhouette_batch]\u001b[A\n",
      "Metrics:  50%|\u001b[34m█████     \u001b[0m| 5/10 [00:04<00:04,  1.23it/s, Batch correction: ilisi_knn]       \u001b[A\n",
      "Metrics:  60%|\u001b[34m██████    \u001b[0m| 6/10 [00:05<00:02,  1.69it/s, Batch correction: ilisi_knn]\u001b[A\n",
      "Metrics:  60%|\u001b[34m██████    \u001b[0m| 6/10 [00:05<00:02,  1.69it/s, Batch correction: kbet_per_label]\u001b[A\n",
      "Metrics:  70%|\u001b[34m███████   \u001b[0m| 7/10 [00:19<00:15,  5.14s/it, Batch correction: kbet_per_label]\u001b[A\n",
      "Metrics:  70%|\u001b[34m███████   \u001b[0m| 7/10 [00:19<00:15,  5.14s/it, Batch correction: graph_connectivity]\u001b[A\n",
      "Metrics:  80%|\u001b[34m████████  \u001b[0m| 8/10 [00:19<00:10,  5.14s/it, Batch correction: pcr_comparison]    \u001b[A\n",
      "Embeddings: 100%|\u001b[32m██████████\u001b[0m| 1/1 [00:19<00:00, 19.76s/it]atch correction: pcr_comparison]\u001b[A\n",
      "\n",
      "                                                                                         \u001b[A/ictstr01/home/icb/fatemehs.hashemig/codes/interpretable-ssl/interpretable_ssl/trainers/trainer.py:321: FutureWarning: The frame.append method is deprecated and will be removed from pandas in a future version. Use pandas.concat instead.\n",
      "  overall_df = overall_df.append(fold_df, ignore_index=True)\n"
     ]
    },
    {
     "name": "stdout",
     "output_type": "stream",
     "text": [
      "Evaluating fold 3\n",
      "Embedding dictionary:\n",
      " \tNum conditions: [3]\n",
      " \tEmbedding dim: [10]\n",
      "Encoder Architecture:\n",
      "\tInput Layer in, out and cond: 4000 64 10\n",
      "\tMean/Var Layer in/out: 64 8\n",
      "Decoder Architecture:\n",
      "\tFirst Layer in, out and cond:  8 64 10\n",
      "\tOutput Layer in/out:  64 4000 \n",
      "\n"
     ]
    },
    {
     "name": "stderr",
     "output_type": "stream",
     "text": [
      "INFO:scarches.trainers.scpoli.trainer:GPU available: True, GPU used: True\n"
     ]
    },
    {
     "name": "stdout",
     "output_type": "stream",
     "text": [
      "Embedding dictionary:\n",
      " \tNum conditions: [5]\n",
      " \tEmbedding dim: [10]\n",
      "Encoder Architecture:\n",
      "\tInput Layer in, out and cond: 4000 64 10\n",
      "\tMean/Var Layer in/out: 64 8\n",
      "Decoder Architecture:\n",
      "\tFirst Layer in, out and cond:  8 64 10\n",
      "\tOutput Layer in/out:  64 4000 \n",
      "\n",
      "Warning: Labels in adata.obs[cell_type] is not a subset of label-encoder!\n",
      "The missing labels are: {'Erythrocytes', 'CD10+ B cells', 'Monocyte progenitors', 'Erythroid progenitors'}\n",
      "Therefore integer value of those labels is set to -1\n",
      "Warning: Labels in adata.obs[cell_type] is not a subset of label-encoder!\n",
      "The missing labels are: {'Erythrocytes', 'CD10+ B cells', 'Monocyte progenitors', 'Erythroid progenitors'}\n",
      "Therefore integer value of those labels is set to -1\n",
      "Initializing dataloaders\n",
      "Starting training\n",
      " |████████████████----| 80.0%  - val_loss:  444.20 - val_cvae_loss:  444.20\n",
      "Initializing unlabeled prototypes with Leiden with an unknown number of  clusters.\n",
      "Clustering succesful. Found 29 clusters.\n",
      " |████████████████████| 100.0%  - val_loss:  445.68 - val_cvae_loss:  445.68 - val_prototype_loss:    0.00 - val_unlabeled_loss:    0.39\n"
     ]
    },
    {
     "name": "stderr",
     "output_type": "stream",
     "text": [
      "Computing neighbors: 100%|██████████| 1/1 [00:07<00:00,  7.05s/it]\n",
      "Embeddings:   0%|\u001b[32m          \u001b[0m| 0/1 [00:00<?, ?it/s]\n",
      "Metrics:   0%|\u001b[34m          \u001b[0m| 0/10 [00:00<?, ?it/s]\u001b[A\n",
      "Metrics:   0%|\u001b[34m          \u001b[0m| 0/10 [00:00<?, ?it/s, Bio conservation: isolated_labels]\u001b[A\n",
      "Metrics:  10%|\u001b[34m█         \u001b[0m| 1/10 [00:00<00:07,  1.13it/s, Bio conservation: isolated_labels]\u001b[A\n",
      "Metrics:  10%|\u001b[34m█         \u001b[0m| 1/10 [00:00<00:07,  1.13it/s, Bio conservation: nmi_ari_cluster_labels_kmeans]\u001b[A\n",
      "Metrics:  20%|\u001b[34m██        \u001b[0m| 2/10 [00:04<00:18,  2.36s/it, Bio conservation: nmi_ari_cluster_labels_kmeans]\u001b[A\n",
      "Metrics:  20%|\u001b[34m██        \u001b[0m| 2/10 [00:04<00:18,  2.36s/it, Bio conservation: silhouette_label]             \u001b[A\n",
      "Metrics:  30%|\u001b[34m███       \u001b[0m| 3/10 [00:04<00:11,  1.58s/it, Bio conservation: silhouette_label]\u001b[A\n",
      "Metrics:  30%|\u001b[34m███       \u001b[0m| 3/10 [00:04<00:11,  1.58s/it, Bio conservation: clisi_knn]       \u001b[A\n",
      "Metrics:  40%|\u001b[34m████      \u001b[0m| 4/10 [00:05<00:06,  1.01s/it, Bio conservation: clisi_knn]\u001b[A\n",
      "Metrics:  40%|\u001b[34m████      \u001b[0m| 4/10 [00:05<00:06,  1.01s/it, Batch correction: silhouette_batch]\u001b[A\n",
      "Metrics:  50%|\u001b[34m█████     \u001b[0m| 5/10 [00:05<00:03,  1.38it/s, Batch correction: silhouette_batch]\u001b[A\n",
      "Metrics:  50%|\u001b[34m█████     \u001b[0m| 5/10 [00:05<00:03,  1.38it/s, Batch correction: ilisi_knn]       \u001b[A\n",
      "Metrics:  60%|\u001b[34m██████    \u001b[0m| 6/10 [00:05<00:02,  1.89it/s, Batch correction: ilisi_knn]\u001b[A\n",
      "Metrics:  60%|\u001b[34m██████    \u001b[0m| 6/10 [00:05<00:02,  1.89it/s, Batch correction: kbet_per_label]\u001b[A\n",
      "Metrics:  70%|\u001b[34m███████   \u001b[0m| 7/10 [00:19<00:14,  4.79s/it, Batch correction: kbet_per_label]\u001b[A\n",
      "Metrics:  70%|\u001b[34m███████   \u001b[0m| 7/10 [00:19<00:14,  4.79s/it, Batch correction: graph_connectivity]\u001b[A\n",
      "Metrics:  80%|\u001b[34m████████  \u001b[0m| 8/10 [00:19<00:09,  4.79s/it, Batch correction: pcr_comparison]    \u001b[A\n",
      "Embeddings: 100%|\u001b[32m██████████\u001b[0m| 1/1 [00:19<00:00, 19.12s/it]atch correction: pcr_comparison]\u001b[A\n",
      "\n",
      "                                                                                         \u001b[A/ictstr01/home/icb/fatemehs.hashemig/codes/interpretable-ssl/interpretable_ssl/trainers/trainer.py:321: FutureWarning: The frame.append method is deprecated and will be removed from pandas in a future version. Use pandas.concat instead.\n",
      "  overall_df = overall_df.append(fold_df, ignore_index=True)\n"
     ]
    },
    {
     "name": "stdout",
     "output_type": "stream",
     "text": [
      "Evaluating fold 4\n",
      "Embedding dictionary:\n",
      " \tNum conditions: [3]\n",
      " \tEmbedding dim: [10]\n",
      "Encoder Architecture:\n",
      "\tInput Layer in, out and cond: 4000 64 10\n",
      "\tMean/Var Layer in/out: 64 8\n",
      "Decoder Architecture:\n",
      "\tFirst Layer in, out and cond:  8 64 10\n",
      "\tOutput Layer in/out:  64 4000 \n",
      "\n"
     ]
    },
    {
     "name": "stderr",
     "output_type": "stream",
     "text": [
      "INFO:scarches.trainers.scpoli.trainer:GPU available: True, GPU used: True\n"
     ]
    },
    {
     "name": "stdout",
     "output_type": "stream",
     "text": [
      "Embedding dictionary:\n",
      " \tNum conditions: [5]\n",
      " \tEmbedding dim: [10]\n",
      "Encoder Architecture:\n",
      "\tInput Layer in, out and cond: 4000 64 10\n",
      "\tMean/Var Layer in/out: 64 8\n",
      "Decoder Architecture:\n",
      "\tFirst Layer in, out and cond:  8 64 10\n",
      "\tOutput Layer in/out:  64 4000 \n",
      "\n",
      "Warning: Labels in adata.obs[cell_type] is not a subset of label-encoder!\n",
      "The missing labels are: {'Erythrocytes', 'CD10+ B cells', 'Monocyte progenitors', 'Erythroid progenitors'}\n",
      "Therefore integer value of those labels is set to -1\n",
      "Warning: Labels in adata.obs[cell_type] is not a subset of label-encoder!\n",
      "The missing labels are: {'Erythrocytes', 'Monocyte progenitors'}\n",
      "Therefore integer value of those labels is set to -1\n",
      "Warning: Labels in adata.obs[cell_type] is not a subset of label-encoder!\n",
      "The missing labels are: {'Erythrocytes', 'CD10+ B cells', 'Monocyte progenitors', 'Erythroid progenitors'}\n",
      "Therefore integer value of those labels is set to -1\n",
      "Warning: Labels in adata.obs[cell_type] is not a subset of label-encoder!\n",
      "The missing labels are: {'Erythrocytes', 'Monocyte progenitors'}\n",
      "Therefore integer value of those labels is set to -1\n",
      "Initializing dataloaders\n",
      "Starting training\n",
      " |████████████████----| 80.0%  - val_loss: 4335.67 - val_cvae_loss: 4335.67\n",
      "Initializing unlabeled prototypes with Leiden with an unknown number of  clusters.\n",
      "Clustering succesful. Found 26 clusters.\n",
      " |████████████████████| 100.0%  - val_loss: 4363.36 - val_cvae_loss: 4363.36 - val_prototype_loss:    0.00 - val_unlabeled_loss:    0.51\n"
     ]
    },
    {
     "name": "stderr",
     "output_type": "stream",
     "text": [
      "Computing neighbors: 100%|██████████| 1/1 [00:04<00:00,  4.29s/it]\n",
      "Embeddings:   0%|\u001b[32m          \u001b[0m| 0/1 [00:00<?, ?it/s]\n",
      "Metrics:   0%|\u001b[34m          \u001b[0m| 0/10 [00:00<?, ?it/s]\u001b[A\n",
      "Metrics:   0%|\u001b[34m          \u001b[0m| 0/10 [00:00<?, ?it/s, Bio conservation: isolated_labels]\u001b[A\n",
      "Metrics:  10%|\u001b[34m█         \u001b[0m| 1/10 [00:00<00:01,  4.88it/s, Bio conservation: isolated_labels]\u001b[A\n",
      "Metrics:  10%|\u001b[34m█         \u001b[0m| 1/10 [00:00<00:01,  4.88it/s, Bio conservation: nmi_ari_cluster_labels_kmeans]\u001b[A\n",
      "Metrics:  20%|\u001b[34m██        \u001b[0m| 2/10 [00:01<00:06,  1.17it/s, Bio conservation: nmi_ari_cluster_labels_kmeans]\u001b[A\n",
      "Metrics:  20%|\u001b[34m██        \u001b[0m| 2/10 [00:01<00:06,  1.17it/s, Bio conservation: silhouette_label]             \u001b[A\n",
      "Metrics:  30%|\u001b[34m███       \u001b[0m| 3/10 [00:01<00:03,  1.81it/s, Bio conservation: silhouette_label]\u001b[A\n",
      "Metrics:  30%|\u001b[34m███       \u001b[0m| 3/10 [00:01<00:03,  1.81it/s, Bio conservation: clisi_knn]       \u001b[A\n",
      "Metrics:  40%|\u001b[34m████      \u001b[0m| 4/10 [00:01<00:03,  1.81it/s, Batch correction: silhouette_batch]\u001b[A\n",
      "Metrics:  50%|\u001b[34m█████     \u001b[0m| 5/10 [00:01<00:01,  3.62it/s, Batch correction: silhouette_batch]\u001b[A\n",
      "Metrics:  50%|\u001b[34m█████     \u001b[0m| 5/10 [00:01<00:01,  3.62it/s, Batch correction: ilisi_knn]       \u001b[A\n",
      "Metrics:  60%|\u001b[34m██████    \u001b[0m| 6/10 [00:01<00:01,  3.62it/s, Batch correction: kbet_per_label]\u001b[A\n",
      "Metrics:  70%|\u001b[34m███████   \u001b[0m| 7/10 [00:09<00:05,  1.90s/it, Batch correction: kbet_per_label]\u001b[A\n",
      "Metrics:  70%|\u001b[34m███████   \u001b[0m| 7/10 [00:09<00:05,  1.90s/it, Batch correction: graph_connectivity]\u001b[A\n",
      "Embeddings: 100%|\u001b[32m██████████\u001b[0m| 1/1 [00:09<00:00,  9.71s/it]atch correction: pcr_comparison]    \u001b[A\n",
      "\n",
      "                                                                                         \u001b[A/ictstr01/home/icb/fatemehs.hashemig/codes/interpretable-ssl/interpretable_ssl/trainers/trainer.py:321: FutureWarning: The frame.append method is deprecated and will be removed from pandas in a future version. Use pandas.concat instead.\n",
      "  overall_df = overall_df.append(fold_df, ignore_index=True)\n"
     ]
    },
    {
     "name": "stdout",
     "output_type": "stream",
     "text": [
      "Evaluating fold 5\n",
      "Embedding dictionary:\n",
      " \tNum conditions: [3]\n",
      " \tEmbedding dim: [10]\n",
      "Encoder Architecture:\n",
      "\tInput Layer in, out and cond: 4000 64 10\n",
      "\tMean/Var Layer in/out: 64 8\n",
      "Decoder Architecture:\n",
      "\tFirst Layer in, out and cond:  8 64 10\n",
      "\tOutput Layer in/out:  64 4000 \n",
      "\n"
     ]
    },
    {
     "name": "stderr",
     "output_type": "stream",
     "text": [
      "INFO:scarches.trainers.scpoli.trainer:GPU available: True, GPU used: True\n"
     ]
    },
    {
     "name": "stdout",
     "output_type": "stream",
     "text": [
      "Embedding dictionary:\n",
      " \tNum conditions: [5]\n",
      " \tEmbedding dim: [10]\n",
      "Encoder Architecture:\n",
      "\tInput Layer in, out and cond: 4000 64 10\n",
      "\tMean/Var Layer in/out: 64 8\n",
      "Decoder Architecture:\n",
      "\tFirst Layer in, out and cond:  8 64 10\n",
      "\tOutput Layer in/out:  64 4000 \n",
      "\n",
      "Initializing dataloaders\n",
      "Starting training\n",
      " |████████████████----| 80.0%  - val_loss:  876.98 - val_cvae_loss:  876.98\n",
      "Initializing unlabeled prototypes with Leiden with an unknown number of  clusters.\n",
      "Clustering succesful. Found 30 clusters.\n",
      " |████████████████████| 100.0%  - val_loss:  877.75 - val_cvae_loss:  877.75 - val_prototype_loss:    0.00 - val_unlabeled_loss:    0.36\n"
     ]
    },
    {
     "name": "stderr",
     "output_type": "stream",
     "text": [
      "Computing neighbors: 100%|██████████| 1/1 [00:05<00:00,  5.33s/it]\n",
      "Embeddings:   0%|\u001b[32m          \u001b[0m| 0/1 [00:00<?, ?it/s]\n",
      "Metrics:   0%|\u001b[34m          \u001b[0m| 0/10 [00:00<?, ?it/s]\u001b[A\n",
      "Metrics:   0%|\u001b[34m          \u001b[0m| 0/10 [00:00<?, ?it/s, Bio conservation: isolated_labels]\u001b[A\n",
      "Metrics:  10%|\u001b[34m█         \u001b[0m| 1/10 [00:00<00:03,  2.45it/s, Bio conservation: isolated_labels]\u001b[A\n",
      "Metrics:  10%|\u001b[34m█         \u001b[0m| 1/10 [00:00<00:03,  2.45it/s, Bio conservation: nmi_ari_cluster_labels_kmeans]\u001b[A\n",
      "Metrics:  20%|\u001b[34m██        \u001b[0m| 2/10 [00:03<00:14,  1.76s/it, Bio conservation: nmi_ari_cluster_labels_kmeans]\u001b[A\n",
      "Metrics:  20%|\u001b[34m██        \u001b[0m| 2/10 [00:03<00:14,  1.76s/it, Bio conservation: silhouette_label]             \u001b[A\n",
      "Metrics:  30%|\u001b[34m███       \u001b[0m| 3/10 [00:03<00:07,  1.14s/it, Bio conservation: silhouette_label]\u001b[A\n",
      "Metrics:  30%|\u001b[34m███       \u001b[0m| 3/10 [00:03<00:07,  1.14s/it, Bio conservation: clisi_knn]       \u001b[A\n",
      "Metrics:  40%|\u001b[34m████      \u001b[0m| 4/10 [00:03<00:06,  1.14s/it, Batch correction: silhouette_batch]\u001b[A\n",
      "Metrics:  50%|\u001b[34m█████     \u001b[0m| 5/10 [00:03<00:02,  1.84it/s, Batch correction: silhouette_batch]\u001b[A\n",
      "Metrics:  50%|\u001b[34m█████     \u001b[0m| 5/10 [00:03<00:02,  1.84it/s, Batch correction: ilisi_knn]       \u001b[A\n",
      "Metrics:  60%|\u001b[34m██████    \u001b[0m| 6/10 [00:03<00:02,  1.84it/s, Batch correction: kbet_per_label]\u001b[A"
     ]
    },
    {
     "name": "stdout",
     "output_type": "stream",
     "text": [
      "\u001b[34mINFO    \u001b[0m HSPCs consists of a single batch or is too small. Skip.                                                   \n",
      "\u001b[34mINFO    \u001b[0m Monocyte-derived dendritic cells consists of a single batch or is too small. Skip.                        \n",
      "\u001b[34mINFO    \u001b[0m Plasma cells consists of a single batch or is too small. Skip.                                            \n"
     ]
    },
    {
     "name": "stderr",
     "output_type": "stream",
     "text": [
      "\n",
      "Metrics:  70%|\u001b[34m███████   \u001b[0m| 7/10 [00:15<00:08,  2.91s/it, Batch correction: kbet_per_label]\u001b[A\n",
      "Metrics:  70%|\u001b[34m███████   \u001b[0m| 7/10 [00:15<00:08,  2.91s/it, Batch correction: graph_connectivity]\u001b[A\n",
      "Metrics:  80%|\u001b[34m████████  \u001b[0m| 8/10 [00:15<00:05,  2.91s/it, Batch correction: pcr_comparison]    \u001b[A\n",
      "Embeddings: 100%|\u001b[32m██████████\u001b[0m| 1/1 [00:15<00:00, 15.50s/it]atch correction: pcr_comparison]\u001b[A\n",
      "\n",
      "                                                                                         \u001b[A/ictstr01/home/icb/fatemehs.hashemig/codes/interpretable-ssl/interpretable_ssl/trainers/trainer.py:321: FutureWarning: The frame.append method is deprecated and will be removed from pandas in a future version. Use pandas.concat instead.\n",
      "  overall_df = overall_df.append(fold_df, ignore_index=True)\n"
     ]
    },
    {
     "name": "stdout",
     "output_type": "stream",
     "text": [
      "Evaluating fold 6\n",
      "Embedding dictionary:\n",
      " \tNum conditions: [3]\n",
      " \tEmbedding dim: [10]\n",
      "Encoder Architecture:\n",
      "\tInput Layer in, out and cond: 4000 64 10\n",
      "\tMean/Var Layer in/out: 64 8\n",
      "Decoder Architecture:\n",
      "\tFirst Layer in, out and cond:  8 64 10\n",
      "\tOutput Layer in/out:  64 4000 \n",
      "\n"
     ]
    },
    {
     "name": "stderr",
     "output_type": "stream",
     "text": [
      "INFO:scarches.trainers.scpoli.trainer:GPU available: True, GPU used: True\n"
     ]
    },
    {
     "name": "stdout",
     "output_type": "stream",
     "text": [
      "Embedding dictionary:\n",
      " \tNum conditions: [5]\n",
      " \tEmbedding dim: [10]\n",
      "Encoder Architecture:\n",
      "\tInput Layer in, out and cond: 4000 64 10\n",
      "\tMean/Var Layer in/out: 64 8\n",
      "Decoder Architecture:\n",
      "\tFirst Layer in, out and cond:  8 64 10\n",
      "\tOutput Layer in/out:  64 4000 \n",
      "\n",
      "Initializing dataloaders\n",
      "Starting training\n",
      " |████████████████----| 80.0%  - val_loss:  444.00 - val_cvae_loss:  444.00\n",
      "Initializing unlabeled prototypes with Leiden with an unknown number of  clusters.\n",
      "Clustering succesful. Found 26 clusters.\n",
      " |████████████████████| 100.0%  - val_loss:  446.05 - val_cvae_loss:  446.05 - val_prototype_loss:    0.00 - val_unlabeled_loss:    0.33\n"
     ]
    },
    {
     "name": "stderr",
     "output_type": "stream",
     "text": [
      "Computing neighbors: 100%|██████████| 1/1 [00:04<00:00,  4.85s/it]\n",
      "Embeddings:   0%|\u001b[32m          \u001b[0m| 0/1 [00:00<?, ?it/s]\n",
      "Metrics:   0%|\u001b[34m          \u001b[0m| 0/10 [00:00<?, ?it/s]\u001b[A\n",
      "Metrics:   0%|\u001b[34m          \u001b[0m| 0/10 [00:00<?, ?it/s, Bio conservation: isolated_labels]\u001b[A\n",
      "Metrics:  10%|\u001b[34m█         \u001b[0m| 1/10 [00:00<00:02,  4.43it/s, Bio conservation: isolated_labels]\u001b[A\n",
      "Metrics:  10%|\u001b[34m█         \u001b[0m| 1/10 [00:00<00:02,  4.43it/s, Bio conservation: nmi_ari_cluster_labels_kmeans]\u001b[A\n",
      "Metrics:  20%|\u001b[34m██        \u001b[0m| 2/10 [00:01<00:08,  1.06s/it, Bio conservation: nmi_ari_cluster_labels_kmeans]\u001b[A\n",
      "Metrics:  20%|\u001b[34m██        \u001b[0m| 2/10 [00:01<00:08,  1.06s/it, Bio conservation: silhouette_label]             \u001b[A\n",
      "Metrics:  30%|\u001b[34m███       \u001b[0m| 3/10 [00:02<00:05,  1.38it/s, Bio conservation: silhouette_label]\u001b[A\n",
      "Metrics:  30%|\u001b[34m███       \u001b[0m| 3/10 [00:02<00:05,  1.38it/s, Bio conservation: clisi_knn]       \u001b[A\n",
      "Metrics:  40%|\u001b[34m████      \u001b[0m| 4/10 [00:02<00:04,  1.38it/s, Batch correction: silhouette_batch]\u001b[A\n",
      "Metrics:  50%|\u001b[34m█████     \u001b[0m| 5/10 [00:02<00:01,  2.60it/s, Batch correction: silhouette_batch]\u001b[A\n",
      "Metrics:  50%|\u001b[34m█████     \u001b[0m| 5/10 [00:02<00:01,  2.60it/s, Batch correction: ilisi_knn]       \u001b[A\n",
      "Metrics:  60%|\u001b[34m██████    \u001b[0m| 6/10 [00:02<00:01,  2.60it/s, Batch correction: kbet_per_label]\u001b[A\n",
      "Metrics:  70%|\u001b[34m███████   \u001b[0m| 7/10 [00:10<00:06,  2.11s/it, Batch correction: kbet_per_label]\u001b[A\n",
      "Metrics:  70%|\u001b[34m███████   \u001b[0m| 7/10 [00:10<00:06,  2.11s/it, Batch correction: graph_connectivity]\u001b[A\n",
      "Embeddings: 100%|\u001b[32m██████████\u001b[0m| 1/1 [00:10<00:00, 10.97s/it]atch correction: pcr_comparison]    \u001b[A\n",
      "\n",
      "                                                                                         \u001b[A/ictstr01/home/icb/fatemehs.hashemig/codes/interpretable-ssl/interpretable_ssl/trainers/trainer.py:321: FutureWarning: The frame.append method is deprecated and will be removed from pandas in a future version. Use pandas.concat instead.\n",
      "  overall_df = overall_df.append(fold_df, ignore_index=True)\n"
     ]
    },
    {
     "name": "stdout",
     "output_type": "stream",
     "text": [
      "Evaluating fold 7\n",
      "Embedding dictionary:\n",
      " \tNum conditions: [3]\n",
      " \tEmbedding dim: [10]\n",
      "Encoder Architecture:\n",
      "\tInput Layer in, out and cond: 4000 64 10\n",
      "\tMean/Var Layer in/out: 64 8\n",
      "Decoder Architecture:\n",
      "\tFirst Layer in, out and cond:  8 64 10\n",
      "\tOutput Layer in/out:  64 4000 \n",
      "\n"
     ]
    },
    {
     "name": "stderr",
     "output_type": "stream",
     "text": [
      "INFO:scarches.trainers.scpoli.trainer:GPU available: True, GPU used: True\n"
     ]
    },
    {
     "name": "stdout",
     "output_type": "stream",
     "text": [
      "Embedding dictionary:\n",
      " \tNum conditions: [5]\n",
      " \tEmbedding dim: [10]\n",
      "Encoder Architecture:\n",
      "\tInput Layer in, out and cond: 4000 64 10\n",
      "\tMean/Var Layer in/out: 64 8\n",
      "Decoder Architecture:\n",
      "\tFirst Layer in, out and cond:  8 64 10\n",
      "\tOutput Layer in/out:  64 4000 \n",
      "\n",
      "Initializing dataloaders\n",
      "Starting training\n",
      " |████████████████----| 80.0%  - val_loss: 4442.55 - val_cvae_loss: 4442.55\n",
      "Initializing unlabeled prototypes with Leiden with an unknown number of  clusters.\n",
      "Clustering succesful. Found 20 clusters.\n",
      " |████████████████████| 100.0%  - val_loss: 4418.82 - val_cvae_loss: 4418.82 - val_prototype_loss:    0.00 - val_unlabeled_loss:    0.60\n"
     ]
    },
    {
     "name": "stderr",
     "output_type": "stream",
     "text": [
      "Computing neighbors: 100%|██████████| 1/1 [00:01<00:00,  1.90s/it]\n",
      "Embeddings:   0%|\u001b[32m          \u001b[0m| 0/1 [00:00<?, ?it/s]\n",
      "Metrics:   0%|\u001b[34m          \u001b[0m| 0/10 [00:00<?, ?it/s]\u001b[A\n",
      "Metrics:   0%|\u001b[34m          \u001b[0m| 0/10 [00:00<?, ?it/s, Bio conservation: isolated_labels]\u001b[A\n",
      "Metrics:  10%|\u001b[34m█         \u001b[0m| 1/10 [00:00<00:00, 21.40it/s, Bio conservation: nmi_ari_cluster_labels_kmeans]\u001b[A\n",
      "Metrics:  20%|\u001b[34m██        \u001b[0m| 2/10 [00:00<00:03,  2.31it/s, Bio conservation: nmi_ari_cluster_labels_kmeans]\u001b[A\n",
      "Metrics:  20%|\u001b[34m██        \u001b[0m| 2/10 [00:00<00:03,  2.31it/s, Bio conservation: silhouette_label]             \u001b[A\n",
      "Metrics:  30%|\u001b[34m███       \u001b[0m| 3/10 [00:00<00:03,  2.31it/s, Bio conservation: clisi_knn]       \u001b[A\n",
      "Metrics:  40%|\u001b[34m████      \u001b[0m| 4/10 [00:00<00:02,  2.31it/s, Batch correction: silhouette_batch]\u001b[A\n",
      "Metrics:  50%|\u001b[34m█████     \u001b[0m| 5/10 [00:00<00:02,  2.31it/s, Batch correction: ilisi_knn]       \u001b[A\n",
      "Metrics:  60%|\u001b[34m██████    \u001b[0m| 6/10 [00:00<00:00,  7.53it/s, Batch correction: ilisi_knn]\u001b[A\n",
      "Metrics:  60%|\u001b[34m██████    \u001b[0m| 6/10 [00:00<00:00,  7.53it/s, Batch correction: kbet_per_label]\u001b[A"
     ]
    },
    {
     "name": "stdout",
     "output_type": "stream",
     "text": [
      "\u001b[34mINFO    \u001b[0m CD20+ B cells consists of a single batch or is too small. Skip.                                           \n",
      "\u001b[34mINFO    \u001b[0m CD4+ T cells consists of a single batch or is too small. Skip.                                            \n",
      "\u001b[34mINFO    \u001b[0m CD8+ T cells consists of a single batch or is too small. Skip.                                            \n",
      "\u001b[34mINFO    \u001b[0m Megakaryocyte progenitors consists of a single batch or is too small. Skip.                               \n",
      "\u001b[34mINFO    \u001b[0m Monocyte-derived dendritic cells consists of a single batch or is too small. Skip.                        \n",
      "\u001b[34mINFO    \u001b[0m NK cells consists of a single batch or is too small. Skip.                                                \n",
      "\u001b[34mINFO    \u001b[0m NKT cells consists of a single batch or is too small. Skip.                                               \n"
     ]
    },
    {
     "name": "stderr",
     "output_type": "stream",
     "text": [
      "\n",
      "Metrics:  70%|\u001b[34m███████   \u001b[0m| 7/10 [00:01<00:00,  7.53it/s, Batch correction: graph_connectivity]\u001b[A\n",
      "Metrics:  80%|\u001b[34m████████  \u001b[0m| 8/10 [00:01<00:00,  7.53it/s, Batch correction: pcr_comparison]    \u001b[A\n",
      "Embeddings: 100%|\u001b[32m██████████\u001b[0m| 1/1 [00:01<00:00,  1.60s/it]atch correction: pcr_comparison]\u001b[A\n",
      "\n",
      "                                                                                         \u001b[A/ictstr01/home/icb/fatemehs.hashemig/codes/interpretable-ssl/interpretable_ssl/trainers/trainer.py:321: FutureWarning: The frame.append method is deprecated and will be removed from pandas in a future version. Use pandas.concat instead.\n",
      "  overall_df = overall_df.append(fold_df, ignore_index=True)\n"
     ]
    },
    {
     "name": "stdout",
     "output_type": "stream",
     "text": [
      "Evaluating fold 8\n",
      "Embedding dictionary:\n",
      " \tNum conditions: [3]\n",
      " \tEmbedding dim: [10]\n",
      "Encoder Architecture:\n",
      "\tInput Layer in, out and cond: 4000 64 10\n",
      "\tMean/Var Layer in/out: 64 8\n",
      "Decoder Architecture:\n",
      "\tFirst Layer in, out and cond:  8 64 10\n",
      "\tOutput Layer in/out:  64 4000 \n",
      "\n"
     ]
    },
    {
     "name": "stderr",
     "output_type": "stream",
     "text": [
      "INFO:scarches.trainers.scpoli.trainer:GPU available: True, GPU used: True\n"
     ]
    },
    {
     "name": "stdout",
     "output_type": "stream",
     "text": [
      "Embedding dictionary:\n",
      " \tNum conditions: [5]\n",
      " \tEmbedding dim: [10]\n",
      "Encoder Architecture:\n",
      "\tInput Layer in, out and cond: 4000 64 10\n",
      "\tMean/Var Layer in/out: 64 8\n",
      "Decoder Architecture:\n",
      "\tFirst Layer in, out and cond:  8 64 10\n",
      "\tOutput Layer in/out:  64 4000 \n",
      "\n",
      "Initializing dataloaders\n",
      "Starting training\n",
      " |████████████████----| 80.0%  - val_loss:  444.19 - val_cvae_loss:  444.19\n",
      "Initializing unlabeled prototypes with Leiden with an unknown number of  clusters.\n",
      "Clustering succesful. Found 28 clusters.\n",
      " |████████████████████| 100.0%  - val_loss:  445.62 - val_cvae_loss:  445.62 - val_prototype_loss:    0.00 - val_unlabeled_loss:    0.34\n"
     ]
    },
    {
     "name": "stderr",
     "output_type": "stream",
     "text": [
      "Computing neighbors: 100%|██████████| 1/1 [00:07<00:00,  7.06s/it]\n",
      "Embeddings:   0%|\u001b[32m          \u001b[0m| 0/1 [00:00<?, ?it/s]\n",
      "Metrics:   0%|\u001b[34m          \u001b[0m| 0/10 [00:00<?, ?it/s]\u001b[A\n",
      "Metrics:   0%|\u001b[34m          \u001b[0m| 0/10 [00:00<?, ?it/s, Bio conservation: isolated_labels]\u001b[A\n",
      "Metrics:  10%|\u001b[34m█         \u001b[0m| 1/10 [00:00<00:07,  1.23it/s, Bio conservation: isolated_labels]\u001b[A\n",
      "Metrics:  10%|\u001b[34m█         \u001b[0m| 1/10 [00:00<00:07,  1.23it/s, Bio conservation: nmi_ari_cluster_labels_kmeans]\u001b[A\n",
      "Metrics:  20%|\u001b[34m██        \u001b[0m| 2/10 [00:03<00:16,  2.02s/it, Bio conservation: nmi_ari_cluster_labels_kmeans]\u001b[A\n",
      "Metrics:  20%|\u001b[34m██        \u001b[0m| 2/10 [00:03<00:16,  2.02s/it, Bio conservation: silhouette_label]             \u001b[A\n",
      "Metrics:  30%|\u001b[34m███       \u001b[0m| 3/10 [00:04<00:10,  1.53s/it, Bio conservation: silhouette_label]\u001b[A\n",
      "Metrics:  30%|\u001b[34m███       \u001b[0m| 3/10 [00:04<00:10,  1.53s/it, Bio conservation: clisi_knn]       \u001b[A\n",
      "Metrics:  40%|\u001b[34m████      \u001b[0m| 4/10 [00:04<00:05,  1.00it/s, Bio conservation: clisi_knn]\u001b[A\n",
      "Metrics:  40%|\u001b[34m████      \u001b[0m| 4/10 [00:04<00:05,  1.00it/s, Batch correction: silhouette_batch]\u001b[A\n",
      "Metrics:  50%|\u001b[34m█████     \u001b[0m| 5/10 [00:05<00:03,  1.30it/s, Batch correction: silhouette_batch]\u001b[A\n",
      "Metrics:  50%|\u001b[34m█████     \u001b[0m| 5/10 [00:05<00:03,  1.30it/s, Batch correction: ilisi_knn]       \u001b[A\n",
      "Metrics:  60%|\u001b[34m██████    \u001b[0m| 6/10 [00:05<00:02,  1.79it/s, Batch correction: ilisi_knn]\u001b[A\n",
      "Metrics:  60%|\u001b[34m██████    \u001b[0m| 6/10 [00:05<00:02,  1.79it/s, Batch correction: kbet_per_label]\u001b[A"
     ]
    },
    {
     "name": "stdout",
     "output_type": "stream",
     "text": [
      "\u001b[34mINFO    \u001b[0m HSPCs consists of a single batch or is too small. Skip.                                                   \n",
      "\u001b[34mINFO    \u001b[0m Plasma cells consists of a single batch or is too small. Skip.                                            \n"
     ]
    },
    {
     "name": "stderr",
     "output_type": "stream",
     "text": [
      "\n",
      "Metrics:  70%|\u001b[34m███████   \u001b[0m| 7/10 [00:20<00:16,  5.34s/it, Batch correction: kbet_per_label]\u001b[A\n",
      "Metrics:  70%|\u001b[34m███████   \u001b[0m| 7/10 [00:20<00:16,  5.34s/it, Batch correction: graph_connectivity]\u001b[A\n",
      "Metrics:  80%|\u001b[34m████████  \u001b[0m| 8/10 [00:20<00:10,  5.34s/it, Batch correction: pcr_comparison]    \u001b[A\n",
      "Embeddings: 100%|\u001b[32m██████████\u001b[0m| 1/1 [00:20<00:00, 20.65s/it]atch correction: pcr_comparison]\u001b[A\n",
      "\n",
      "                                                                                         \u001b[A/ictstr01/home/icb/fatemehs.hashemig/codes/interpretable-ssl/interpretable_ssl/trainers/trainer.py:321: FutureWarning: The frame.append method is deprecated and will be removed from pandas in a future version. Use pandas.concat instead.\n",
      "  overall_df = overall_df.append(fold_df, ignore_index=True)\n"
     ]
    },
    {
     "name": "stdout",
     "output_type": "stream",
     "text": [
      "Evaluating fold 9\n",
      "Embedding dictionary:\n",
      " \tNum conditions: [3]\n",
      " \tEmbedding dim: [10]\n",
      "Encoder Architecture:\n",
      "\tInput Layer in, out and cond: 4000 64 10\n",
      "\tMean/Var Layer in/out: 64 8\n",
      "Decoder Architecture:\n",
      "\tFirst Layer in, out and cond:  8 64 10\n",
      "\tOutput Layer in/out:  64 4000 \n",
      "\n"
     ]
    },
    {
     "name": "stderr",
     "output_type": "stream",
     "text": [
      "INFO:scarches.trainers.scpoli.trainer:GPU available: True, GPU used: True\n"
     ]
    },
    {
     "name": "stdout",
     "output_type": "stream",
     "text": [
      "Embedding dictionary:\n",
      " \tNum conditions: [5]\n",
      " \tEmbedding dim: [10]\n",
      "Encoder Architecture:\n",
      "\tInput Layer in, out and cond: 4000 64 10\n",
      "\tMean/Var Layer in/out: 64 8\n",
      "Decoder Architecture:\n",
      "\tFirst Layer in, out and cond:  8 64 10\n",
      "\tOutput Layer in/out:  64 4000 \n",
      "\n",
      "Initializing dataloaders\n",
      "Starting training\n",
      " |████████████████----| 80.0%  - val_loss: 4163.39 - val_cvae_loss: 4163.39\n",
      "Initializing unlabeled prototypes with Leiden with an unknown number of  clusters.\n",
      "Clustering succesful. Found 27 clusters.\n",
      " |████████████████████| 100.0%  - val_loss: 4177.58 - val_cvae_loss: 4177.58 - val_prototype_loss:    0.00 - val_unlabeled_loss:    0.52\n"
     ]
    },
    {
     "name": "stderr",
     "output_type": "stream",
     "text": [
      "Computing neighbors: 100%|██████████| 1/1 [00:04<00:00,  4.67s/it]\n",
      "Embeddings:   0%|\u001b[32m          \u001b[0m| 0/1 [00:00<?, ?it/s]\n",
      "Metrics:   0%|\u001b[34m          \u001b[0m| 0/10 [00:00<?, ?it/s]\u001b[A\n",
      "Metrics:   0%|\u001b[34m          \u001b[0m| 0/10 [00:00<?, ?it/s, Bio conservation: isolated_labels]\u001b[A\n",
      "Metrics:  10%|\u001b[34m█         \u001b[0m| 1/10 [00:00<00:02,  3.44it/s, Bio conservation: isolated_labels]\u001b[A\n",
      "Metrics:  10%|\u001b[34m█         \u001b[0m| 1/10 [00:00<00:02,  3.44it/s, Bio conservation: nmi_ari_cluster_labels_kmeans]\u001b[A\n",
      "Metrics:  20%|\u001b[34m██        \u001b[0m| 2/10 [00:02<00:11,  1.39s/it, Bio conservation: nmi_ari_cluster_labels_kmeans]\u001b[A\n",
      "Metrics:  20%|\u001b[34m██        \u001b[0m| 2/10 [00:02<00:11,  1.39s/it, Bio conservation: silhouette_label]             \u001b[A\n",
      "Metrics:  30%|\u001b[34m███       \u001b[0m| 3/10 [00:02<00:06,  1.06it/s, Bio conservation: silhouette_label]\u001b[A\n",
      "Metrics:  30%|\u001b[34m███       \u001b[0m| 3/10 [00:02<00:06,  1.06it/s, Bio conservation: clisi_knn]       \u001b[A\n",
      "Metrics:  40%|\u001b[34m████      \u001b[0m| 4/10 [00:02<00:03,  1.61it/s, Bio conservation: clisi_knn]\u001b[A\n",
      "Metrics:  40%|\u001b[34m████      \u001b[0m| 4/10 [00:02<00:03,  1.61it/s, Batch correction: silhouette_batch]\u001b[A\n",
      "Metrics:  50%|\u001b[34m█████     \u001b[0m| 5/10 [00:03<00:03,  1.61it/s, Batch correction: ilisi_knn]       \u001b[A\n",
      "Metrics:  60%|\u001b[34m██████    \u001b[0m| 6/10 [00:03<00:01,  2.92it/s, Batch correction: ilisi_knn]\u001b[A\n",
      "Metrics:  60%|\u001b[34m██████    \u001b[0m| 6/10 [00:03<00:01,  2.92it/s, Batch correction: kbet_per_label]\u001b[A"
     ]
    },
    {
     "name": "stdout",
     "output_type": "stream",
     "text": [
      "\u001b[34mINFO    \u001b[0m CD20+ B cells consists of a single batch or is too small. Skip.                                           \n",
      "\u001b[34mINFO    \u001b[0m CD4+ T cells consists of a single batch or is too small. Skip.                                            \n",
      "\u001b[34mINFO    \u001b[0m CD8+ T cells consists of a single batch or is too small. Skip.                                            \n",
      "\u001b[34mINFO    \u001b[0m HSPCs consists of a single batch or is too small. Skip.                                                   \n",
      "\u001b[34mINFO    \u001b[0m Megakaryocyte progenitors consists of a single batch or is too small. Skip.                               \n",
      "\u001b[34mINFO    \u001b[0m NK cells consists of a single batch or is too small. Skip.                                                \n",
      "\u001b[34mINFO    \u001b[0m NKT cells consists of a single batch or is too small. Skip.                                               \n",
      "\u001b[34mINFO    \u001b[0m Plasma cells consists of a single batch or is too small. Skip.                                            \n"
     ]
    },
    {
     "name": "stderr",
     "output_type": "stream",
     "text": [
      "\n",
      "Metrics:  70%|\u001b[34m███████   \u001b[0m| 7/10 [00:07<00:04,  1.37s/it, Batch correction: kbet_per_label]\u001b[A\n",
      "Metrics:  70%|\u001b[34m███████   \u001b[0m| 7/10 [00:07<00:04,  1.37s/it, Batch correction: graph_connectivity]\u001b[A\n",
      "Embeddings: 100%|\u001b[32m██████████\u001b[0m| 1/1 [00:07<00:00,  7.37s/it]atch correction: pcr_comparison]    \u001b[A\n",
      "\n",
      "                                                                                         \u001b[A/ictstr01/home/icb/fatemehs.hashemig/codes/interpretable-ssl/interpretable_ssl/trainers/trainer.py:321: FutureWarning: The frame.append method is deprecated and will be removed from pandas in a future version. Use pandas.concat instead.\n",
      "  overall_df = overall_df.append(fold_df, ignore_index=True)\n"
     ]
    },
    {
     "name": "stdout",
     "output_type": "stream",
     "text": [
      "Evaluating fold 10\n",
      "Embedding dictionary:\n",
      " \tNum conditions: [3]\n",
      " \tEmbedding dim: [10]\n",
      "Encoder Architecture:\n",
      "\tInput Layer in, out and cond: 4000 64 10\n",
      "\tMean/Var Layer in/out: 64 8\n",
      "Decoder Architecture:\n",
      "\tFirst Layer in, out and cond:  8 64 10\n",
      "\tOutput Layer in/out:  64 4000 \n",
      "\n"
     ]
    },
    {
     "name": "stderr",
     "output_type": "stream",
     "text": [
      "INFO:scarches.trainers.scpoli.trainer:GPU available: True, GPU used: True\n"
     ]
    },
    {
     "name": "stdout",
     "output_type": "stream",
     "text": [
      "Embedding dictionary:\n",
      " \tNum conditions: [5]\n",
      " \tEmbedding dim: [10]\n",
      "Encoder Architecture:\n",
      "\tInput Layer in, out and cond: 4000 64 10\n",
      "\tMean/Var Layer in/out: 64 8\n",
      "Decoder Architecture:\n",
      "\tFirst Layer in, out and cond:  8 64 10\n",
      "\tOutput Layer in/out:  64 4000 \n",
      "\n",
      "Initializing dataloaders\n",
      "Starting training\n",
      " |████████████████----| 80.0%  - val_loss: 4441.21 - val_cvae_loss: 4441.21\n",
      "Initializing unlabeled prototypes with Leiden with an unknown number of  clusters.\n",
      "Clustering succesful. Found 27 clusters.\n",
      " |████████████████████| 100.0%  - val_loss: 4444.14 - val_cvae_loss: 4444.14 - val_prototype_loss:    0.00 - val_unlabeled_loss:    0.63\n"
     ]
    },
    {
     "name": "stderr",
     "output_type": "stream",
     "text": [
      "Computing neighbors: 100%|██████████| 1/1 [00:03<00:00,  3.87s/it]\n",
      "Embeddings:   0%|\u001b[32m          \u001b[0m| 0/1 [00:00<?, ?it/s]\n",
      "Metrics:   0%|\u001b[34m          \u001b[0m| 0/10 [00:00<?, ?it/s]\u001b[A\n",
      "Metrics:   0%|\u001b[34m          \u001b[0m| 0/10 [00:00<?, ?it/s, Bio conservation: isolated_labels]\u001b[A\n",
      "Metrics:  10%|\u001b[34m█         \u001b[0m| 1/10 [00:00<00:01,  5.15it/s, Bio conservation: isolated_labels]\u001b[A\n",
      "Metrics:  10%|\u001b[34m█         \u001b[0m| 1/10 [00:00<00:01,  5.15it/s, Bio conservation: nmi_ari_cluster_labels_kmeans]\u001b[A\n",
      "Metrics:  20%|\u001b[34m██        \u001b[0m| 2/10 [00:01<00:08,  1.03s/it, Bio conservation: nmi_ari_cluster_labels_kmeans]\u001b[A\n",
      "Metrics:  20%|\u001b[34m██        \u001b[0m| 2/10 [00:01<00:08,  1.03s/it, Bio conservation: silhouette_label]             \u001b[A\n",
      "Metrics:  30%|\u001b[34m███       \u001b[0m| 3/10 [00:02<00:04,  1.51it/s, Bio conservation: silhouette_label]\u001b[A\n",
      "Metrics:  30%|\u001b[34m███       \u001b[0m| 3/10 [00:02<00:04,  1.51it/s, Bio conservation: clisi_knn]       \u001b[A\n",
      "Metrics:  40%|\u001b[34m████      \u001b[0m| 4/10 [00:02<00:03,  1.51it/s, Batch correction: silhouette_batch]\u001b[A\n",
      "Metrics:  50%|\u001b[34m█████     \u001b[0m| 5/10 [00:02<00:01,  2.95it/s, Batch correction: silhouette_batch]\u001b[A\n",
      "Metrics:  50%|\u001b[34m█████     \u001b[0m| 5/10 [00:02<00:01,  2.95it/s, Batch correction: ilisi_knn]       \u001b[A\n",
      "Metrics:  60%|\u001b[34m██████    \u001b[0m| 6/10 [00:02<00:01,  2.95it/s, Batch correction: kbet_per_label]\u001b[A\n",
      "Metrics:  70%|\u001b[34m███████   \u001b[0m| 7/10 [00:09<00:05,  1.78s/it, Batch correction: kbet_per_label]\u001b[A\n",
      "Metrics:  70%|\u001b[34m███████   \u001b[0m| 7/10 [00:09<00:05,  1.78s/it, Batch correction: graph_connectivity]\u001b[A\n",
      "Embeddings: 100%|\u001b[32m██████████\u001b[0m| 1/1 [00:09<00:00,  9.40s/it]atch correction: pcr_comparison]    \u001b[A\n",
      "\n",
      "                                                                                         \u001b[A/ictstr01/home/icb/fatemehs.hashemig/codes/interpretable-ssl/interpretable_ssl/trainers/trainer.py:321: FutureWarning: The frame.append method is deprecated and will be removed from pandas in a future version. Use pandas.concat instead.\n",
      "  overall_df = overall_df.append(fold_df, ignore_index=True)\n"
     ]
    },
    {
     "name": "stdout",
     "output_type": "stream",
     "text": [
      "running custom cross validation evaluation\n"
     ]
    },
    {
     "name": "stderr",
     "output_type": "stream",
     "text": [
      "INFO:scarches.trainers.scpoli.trainer:GPU available: True, GPU used: True\n"
     ]
    },
    {
     "name": "stdout",
     "output_type": "stream",
     "text": [
      "Evaluating fold 1\n",
      "Embedding dictionary:\n",
      " \tNum conditions: [3]\n",
      " \tEmbedding dim: [10]\n",
      "Encoder Architecture:\n",
      "\tInput Layer in, out and cond: 4000 64 10\n",
      "\tMean/Var Layer in/out: 64 8\n",
      "Decoder Architecture:\n",
      "\tFirst Layer in, out and cond:  8 64 10\n",
      "\tOutput Layer in/out:  64 4000 \n",
      "\n",
      "Embedding dictionary:\n",
      " \tNum conditions: [5]\n",
      " \tEmbedding dim: [10]\n",
      "Encoder Architecture:\n",
      "\tInput Layer in, out and cond: 4000 64 10\n",
      "\tMean/Var Layer in/out: 64 8\n",
      "Decoder Architecture:\n",
      "\tFirst Layer in, out and cond:  8 64 10\n",
      "\tOutput Layer in/out:  64 4000 \n",
      "\n",
      "Warning: Labels in adata.obs[cell_type] is not a subset of label-encoder!\n",
      "The missing labels are: {'Erythrocytes', 'CD10+ B cells', 'Monocyte progenitors', 'Erythroid progenitors'}\n",
      "Therefore integer value of those labels is set to -1\n",
      "Warning: Labels in adata.obs[cell_type] is not a subset of label-encoder!\n",
      "The missing labels are: {'Erythrocytes', 'CD10+ B cells', 'Monocyte progenitors', 'Erythroid progenitors'}\n",
      "Therefore integer value of those labels is set to -1\n",
      "Initializing dataloaders\n",
      "Starting training\n",
      " |████████████████----| 80.0%  - val_loss:  443.92 - val_cvae_loss:  443.92\n",
      "Initializing unlabeled prototypes with Leiden with an unknown number of  clusters.\n",
      "Clustering succesful. Found 28 clusters.\n",
      " |████████████████████| 100.0%  - val_loss:  443.96 - val_cvae_loss:  443.96 - val_prototype_loss:    0.00 - val_unlabeled_loss:    0.22\n"
     ]
    },
    {
     "name": "stderr",
     "output_type": "stream",
     "text": [
      "Computing neighbors: 100%|██████████| 1/1 [00:05<00:00,  5.61s/it]\n",
      "Embeddings:   0%|\u001b[32m          \u001b[0m| 0/1 [00:00<?, ?it/s]\n",
      "Metrics:   0%|\u001b[34m          \u001b[0m| 0/10 [00:00<?, ?it/s]\u001b[A\n",
      "Metrics:   0%|\u001b[34m          \u001b[0m| 0/10 [00:00<?, ?it/s, Bio conservation: isolated_labels]\u001b[A\n",
      "Metrics:  10%|\u001b[34m█         \u001b[0m| 1/10 [00:00<00:03,  2.38it/s, Bio conservation: isolated_labels]\u001b[A\n",
      "Metrics:  10%|\u001b[34m█         \u001b[0m| 1/10 [00:00<00:03,  2.38it/s, Bio conservation: nmi_ari_cluster_labels_kmeans]\u001b[A\n",
      "Metrics:  20%|\u001b[34m██        \u001b[0m| 2/10 [00:02<00:11,  1.43s/it, Bio conservation: nmi_ari_cluster_labels_kmeans]\u001b[A\n",
      "Metrics:  20%|\u001b[34m██        \u001b[0m| 2/10 [00:02<00:11,  1.43s/it, Bio conservation: silhouette_label]             \u001b[A\n",
      "Metrics:  30%|\u001b[34m███       \u001b[0m| 3/10 [00:02<00:06,  1.04it/s, Bio conservation: silhouette_label]\u001b[A\n",
      "Metrics:  30%|\u001b[34m███       \u001b[0m| 3/10 [00:02<00:06,  1.04it/s, Bio conservation: clisi_knn]       \u001b[A\n",
      "Metrics:  40%|\u001b[34m████      \u001b[0m| 4/10 [00:03<00:05,  1.04it/s, Batch correction: silhouette_batch]\u001b[A\n",
      "Metrics:  50%|\u001b[34m█████     \u001b[0m| 5/10 [00:03<00:02,  2.16it/s, Batch correction: silhouette_batch]\u001b[A\n",
      "Metrics:  50%|\u001b[34m█████     \u001b[0m| 5/10 [00:03<00:02,  2.16it/s, Batch correction: ilisi_knn]       \u001b[A\n",
      "Metrics:  60%|\u001b[34m██████    \u001b[0m| 6/10 [00:03<00:01,  2.16it/s, Batch correction: kbet_per_label]\u001b[A\n",
      "Metrics:  70%|\u001b[34m███████   \u001b[0m| 7/10 [00:11<00:06,  2.11s/it, Batch correction: kbet_per_label]\u001b[A\n",
      "Metrics:  70%|\u001b[34m███████   \u001b[0m| 7/10 [00:11<00:06,  2.11s/it, Batch correction: graph_connectivity]\u001b[A\n",
      "Embeddings: 100%|\u001b[32m██████████\u001b[0m| 1/1 [00:11<00:00, 11.48s/it]atch correction: pcr_comparison]    \u001b[A\n",
      "\n",
      "                                                                                         \u001b[A/ictstr01/home/icb/fatemehs.hashemig/codes/interpretable-ssl/interpretable_ssl/trainers/trainer.py:321: FutureWarning: The frame.append method is deprecated and will be removed from pandas in a future version. Use pandas.concat instead.\n",
      "  overall_df = overall_df.append(fold_df, ignore_index=True)\n",
      "INFO:scarches.trainers.scpoli.trainer:GPU available: True, GPU used: True\n"
     ]
    },
    {
     "name": "stdout",
     "output_type": "stream",
     "text": [
      "Evaluating fold 2\n",
      "Embedding dictionary:\n",
      " \tNum conditions: [3]\n",
      " \tEmbedding dim: [10]\n",
      "Encoder Architecture:\n",
      "\tInput Layer in, out and cond: 4000 64 10\n",
      "\tMean/Var Layer in/out: 64 8\n",
      "Decoder Architecture:\n",
      "\tFirst Layer in, out and cond:  8 64 10\n",
      "\tOutput Layer in/out:  64 4000 \n",
      "\n",
      "Embedding dictionary:\n",
      " \tNum conditions: [5]\n",
      " \tEmbedding dim: [10]\n",
      "Encoder Architecture:\n",
      "\tInput Layer in, out and cond: 4000 64 10\n",
      "\tMean/Var Layer in/out: 64 8\n",
      "Decoder Architecture:\n",
      "\tFirst Layer in, out and cond:  8 64 10\n",
      "\tOutput Layer in/out:  64 4000 \n",
      "\n",
      "Warning: Labels in adata.obs[cell_type] is not a subset of label-encoder!\n",
      "The missing labels are: {'HSPCs', 'Monocyte progenitors', 'Erythroid progenitors', 'Erythrocytes', 'Plasma cells', 'CD10+ B cells'}\n",
      "Therefore integer value of those labels is set to -1\n",
      "Warning: Labels in adata.obs[cell_type] is not a subset of label-encoder!\n",
      "The missing labels are: {'Plasma cells', 'HSPCs'}\n",
      "Therefore integer value of those labels is set to -1\n",
      "Warning: Labels in adata.obs[cell_type] is not a subset of label-encoder!\n",
      "The missing labels are: {'HSPCs', 'Monocyte progenitors', 'Erythroid progenitors', 'Erythrocytes', 'Plasma cells', 'CD10+ B cells'}\n",
      "Therefore integer value of those labels is set to -1\n",
      "Warning: Labels in adata.obs[cell_type] is not a subset of label-encoder!\n",
      "The missing labels are: {'Plasma cells', 'HSPCs'}\n",
      "Therefore integer value of those labels is set to -1\n",
      "Initializing dataloaders\n",
      "Starting training\n",
      " |████████████████----| 80.0%  - val_loss:  885.07 - val_cvae_loss:  885.07\n",
      "Initializing unlabeled prototypes with Leiden with an unknown number of  clusters.\n",
      "Clustering succesful. Found 23 clusters.\n",
      " |████████████████████| 100.0%  - val_loss:  886.99 - val_cvae_loss:  886.99 - val_prototype_loss:    0.00 - val_unlabeled_loss:    0.20\n"
     ]
    },
    {
     "name": "stderr",
     "output_type": "stream",
     "text": [
      "Computing neighbors: 100%|██████████| 1/1 [00:08<00:00,  8.54s/it]\n",
      "Embeddings:   0%|\u001b[32m          \u001b[0m| 0/1 [00:00<?, ?it/s]\n",
      "Metrics:   0%|\u001b[34m          \u001b[0m| 0/10 [00:00<?, ?it/s]\u001b[A\n",
      "Metrics:   0%|\u001b[34m          \u001b[0m| 0/10 [00:00<?, ?it/s, Bio conservation: isolated_labels]\u001b[A\n",
      "Metrics:  10%|\u001b[34m█         \u001b[0m| 1/10 [00:00<00:07,  1.23it/s, Bio conservation: isolated_labels]\u001b[A\n",
      "Metrics:  10%|\u001b[34m█         \u001b[0m| 1/10 [00:00<00:07,  1.23it/s, Bio conservation: nmi_ari_cluster_labels_kmeans]\u001b[A\n",
      "Metrics:  20%|\u001b[34m██        \u001b[0m| 2/10 [00:04<00:18,  2.35s/it, Bio conservation: nmi_ari_cluster_labels_kmeans]\u001b[A\n",
      "Metrics:  20%|\u001b[34m██        \u001b[0m| 2/10 [00:04<00:18,  2.35s/it, Bio conservation: silhouette_label]             \u001b[A\n",
      "Metrics:  30%|\u001b[34m███       \u001b[0m| 3/10 [00:05<00:11,  1.63s/it, Bio conservation: silhouette_label]\u001b[A\n",
      "Metrics:  30%|\u001b[34m███       \u001b[0m| 3/10 [00:05<00:11,  1.63s/it, Bio conservation: clisi_knn]       \u001b[A\n",
      "Metrics:  40%|\u001b[34m████      \u001b[0m| 4/10 [00:05<00:06,  1.03s/it, Bio conservation: clisi_knn]\u001b[A\n",
      "Metrics:  40%|\u001b[34m████      \u001b[0m| 4/10 [00:05<00:06,  1.03s/it, Batch correction: silhouette_batch]\u001b[A\n",
      "Metrics:  50%|\u001b[34m█████     \u001b[0m| 5/10 [00:05<00:04,  1.24it/s, Batch correction: silhouette_batch]\u001b[A\n",
      "Metrics:  50%|\u001b[34m█████     \u001b[0m| 5/10 [00:05<00:04,  1.24it/s, Batch correction: ilisi_knn]       \u001b[A\n",
      "Metrics:  60%|\u001b[34m██████    \u001b[0m| 6/10 [00:05<00:02,  1.75it/s, Batch correction: ilisi_knn]\u001b[A\n",
      "Metrics:  60%|\u001b[34m██████    \u001b[0m| 6/10 [00:05<00:02,  1.75it/s, Batch correction: kbet_per_label]\u001b[A\n",
      "Metrics:  70%|\u001b[34m███████   \u001b[0m| 7/10 [00:18<00:13,  4.55s/it, Batch correction: kbet_per_label]\u001b[A\n",
      "Metrics:  70%|\u001b[34m███████   \u001b[0m| 7/10 [00:18<00:13,  4.55s/it, Batch correction: graph_connectivity]\u001b[A\n",
      "Metrics:  80%|\u001b[34m████████  \u001b[0m| 8/10 [00:18<00:09,  4.55s/it, Batch correction: pcr_comparison]    \u001b[A\n",
      "Embeddings: 100%|\u001b[32m██████████\u001b[0m| 1/1 [00:18<00:00, 18.49s/it]atch correction: pcr_comparison]\u001b[A\n",
      "\n",
      "                                                                                         \u001b[A/ictstr01/home/icb/fatemehs.hashemig/codes/interpretable-ssl/interpretable_ssl/trainers/trainer.py:321: FutureWarning: The frame.append method is deprecated and will be removed from pandas in a future version. Use pandas.concat instead.\n",
      "  overall_df = overall_df.append(fold_df, ignore_index=True)\n",
      "INFO:scarches.trainers.scpoli.trainer:GPU available: True, GPU used: True\n"
     ]
    },
    {
     "name": "stdout",
     "output_type": "stream",
     "text": [
      "Evaluating fold 3\n",
      "Embedding dictionary:\n",
      " \tNum conditions: [3]\n",
      " \tEmbedding dim: [10]\n",
      "Encoder Architecture:\n",
      "\tInput Layer in, out and cond: 4000 64 10\n",
      "\tMean/Var Layer in/out: 64 8\n",
      "Decoder Architecture:\n",
      "\tFirst Layer in, out and cond:  8 64 10\n",
      "\tOutput Layer in/out:  64 4000 \n",
      "\n",
      "Embedding dictionary:\n",
      " \tNum conditions: [5]\n",
      " \tEmbedding dim: [10]\n",
      "Encoder Architecture:\n",
      "\tInput Layer in, out and cond: 4000 64 10\n",
      "\tMean/Var Layer in/out: 64 8\n",
      "Decoder Architecture:\n",
      "\tFirst Layer in, out and cond:  8 64 10\n",
      "\tOutput Layer in/out:  64 4000 \n",
      "\n",
      "Warning: Labels in adata.obs[cell_type] is not a subset of label-encoder!\n",
      "The missing labels are: {'Erythrocytes', 'CD10+ B cells', 'Monocyte progenitors', 'Erythroid progenitors'}\n",
      "Therefore integer value of those labels is set to -1\n",
      "Warning: Labels in adata.obs[cell_type] is not a subset of label-encoder!\n",
      "The missing labels are: {'Erythrocytes', 'CD10+ B cells', 'Monocyte progenitors', 'Erythroid progenitors'}\n",
      "Therefore integer value of those labels is set to -1\n",
      "Initializing dataloaders\n",
      "Starting training\n",
      " |████████████████----| 80.0%  - val_loss:  448.46 - val_cvae_loss:  448.46\n",
      "Initializing unlabeled prototypes with Leiden with an unknown number of  clusters.\n",
      "Clustering succesful. Found 33 clusters.\n",
      " |████████████████████| 100.0%  - val_loss:  450.27 - val_cvae_loss:  450.27 - val_prototype_loss:    0.00 - val_unlabeled_loss:    0.19\n"
     ]
    },
    {
     "name": "stderr",
     "output_type": "stream",
     "text": [
      "Computing neighbors: 100%|██████████| 1/1 [00:07<00:00,  7.78s/it]\n",
      "Embeddings:   0%|\u001b[32m          \u001b[0m| 0/1 [00:00<?, ?it/s]\n",
      "Metrics:   0%|\u001b[34m          \u001b[0m| 0/10 [00:00<?, ?it/s]\u001b[A\n",
      "Metrics:   0%|\u001b[34m          \u001b[0m| 0/10 [00:00<?, ?it/s, Bio conservation: isolated_labels]\u001b[A\n",
      "Metrics:  10%|\u001b[34m█         \u001b[0m| 1/10 [00:00<00:06,  1.48it/s, Bio conservation: isolated_labels]\u001b[A\n",
      "Metrics:  10%|\u001b[34m█         \u001b[0m| 1/10 [00:00<00:06,  1.48it/s, Bio conservation: nmi_ari_cluster_labels_kmeans]\u001b[A\n",
      "Metrics:  20%|\u001b[34m██        \u001b[0m| 2/10 [00:03<00:16,  2.12s/it, Bio conservation: nmi_ari_cluster_labels_kmeans]\u001b[A\n",
      "Metrics:  20%|\u001b[34m██        \u001b[0m| 2/10 [00:03<00:16,  2.12s/it, Bio conservation: silhouette_label]             \u001b[A\n",
      "Metrics:  30%|\u001b[34m███       \u001b[0m| 3/10 [00:04<00:10,  1.51s/it, Bio conservation: silhouette_label]\u001b[A\n",
      "Metrics:  30%|\u001b[34m███       \u001b[0m| 3/10 [00:04<00:10,  1.51s/it, Bio conservation: clisi_knn]       \u001b[A\n",
      "Metrics:  40%|\u001b[34m████      \u001b[0m| 4/10 [00:04<00:05,  1.05it/s, Bio conservation: clisi_knn]\u001b[A\n",
      "Metrics:  40%|\u001b[34m████      \u001b[0m| 4/10 [00:04<00:05,  1.05it/s, Batch correction: silhouette_batch]\u001b[A\n",
      "Metrics:  50%|\u001b[34m█████     \u001b[0m| 5/10 [00:04<00:03,  1.39it/s, Batch correction: silhouette_batch]\u001b[A\n",
      "Metrics:  50%|\u001b[34m█████     \u001b[0m| 5/10 [00:04<00:03,  1.39it/s, Batch correction: ilisi_knn]       \u001b[A\n",
      "Metrics:  60%|\u001b[34m██████    \u001b[0m| 6/10 [00:05<00:02,  1.90it/s, Batch correction: ilisi_knn]\u001b[A\n",
      "Metrics:  60%|\u001b[34m██████    \u001b[0m| 6/10 [00:05<00:02,  1.90it/s, Batch correction: kbet_per_label]\u001b[A\n",
      "Metrics:  70%|\u001b[34m███████   \u001b[0m| 7/10 [00:18<00:14,  4.87s/it, Batch correction: kbet_per_label]\u001b[A\n",
      "Metrics:  70%|\u001b[34m███████   \u001b[0m| 7/10 [00:18<00:14,  4.87s/it, Batch correction: graph_connectivity]\u001b[A\n",
      "Metrics:  80%|\u001b[34m████████  \u001b[0m| 8/10 [00:19<00:09,  4.87s/it, Batch correction: pcr_comparison]    \u001b[A\n",
      "Embeddings: 100%|\u001b[32m██████████\u001b[0m| 1/1 [00:19<00:00, 19.08s/it]atch correction: pcr_comparison]\u001b[A\n",
      "\n",
      "                                                                                         \u001b[A/ictstr01/home/icb/fatemehs.hashemig/codes/interpretable-ssl/interpretable_ssl/trainers/trainer.py:321: FutureWarning: The frame.append method is deprecated and will be removed from pandas in a future version. Use pandas.concat instead.\n",
      "  overall_df = overall_df.append(fold_df, ignore_index=True)\n",
      "INFO:scarches.trainers.scpoli.trainer:GPU available: True, GPU used: True\n"
     ]
    },
    {
     "name": "stdout",
     "output_type": "stream",
     "text": [
      "Evaluating fold 4\n",
      "Embedding dictionary:\n",
      " \tNum conditions: [3]\n",
      " \tEmbedding dim: [10]\n",
      "Encoder Architecture:\n",
      "\tInput Layer in, out and cond: 4000 64 10\n",
      "\tMean/Var Layer in/out: 64 8\n",
      "Decoder Architecture:\n",
      "\tFirst Layer in, out and cond:  8 64 10\n",
      "\tOutput Layer in/out:  64 4000 \n",
      "\n",
      "Embedding dictionary:\n",
      " \tNum conditions: [5]\n",
      " \tEmbedding dim: [10]\n",
      "Encoder Architecture:\n",
      "\tInput Layer in, out and cond: 4000 64 10\n",
      "\tMean/Var Layer in/out: 64 8\n",
      "Decoder Architecture:\n",
      "\tFirst Layer in, out and cond:  8 64 10\n",
      "\tOutput Layer in/out:  64 4000 \n",
      "\n",
      "Warning: Labels in adata.obs[cell_type] is not a subset of label-encoder!\n",
      "The missing labels are: {'Erythrocytes', 'CD10+ B cells', 'Monocyte progenitors', 'Erythroid progenitors'}\n",
      "Therefore integer value of those labels is set to -1\n",
      "Warning: Labels in adata.obs[cell_type] is not a subset of label-encoder!\n",
      "The missing labels are: {'Erythrocytes', 'Monocyte progenitors'}\n",
      "Therefore integer value of those labels is set to -1\n",
      "Warning: Labels in adata.obs[cell_type] is not a subset of label-encoder!\n",
      "The missing labels are: {'Erythrocytes', 'CD10+ B cells', 'Monocyte progenitors', 'Erythroid progenitors'}\n",
      "Therefore integer value of those labels is set to -1\n",
      "Warning: Labels in adata.obs[cell_type] is not a subset of label-encoder!\n",
      "The missing labels are: {'Erythrocytes', 'Monocyte progenitors'}\n",
      "Therefore integer value of those labels is set to -1\n",
      "Initializing dataloaders\n",
      "Starting training\n",
      " |████████████████----| 80.0%  - val_loss: 4267.45 - val_cvae_loss: 4267.45\n",
      "Initializing unlabeled prototypes with Leiden with an unknown number of  clusters.\n",
      "Clustering succesful. Found 26 clusters.\n",
      " |████████████████████| 100.0%  - val_loss: 4294.92 - val_cvae_loss: 4294.92 - val_prototype_loss:    0.00 - val_unlabeled_loss:    0.23\n"
     ]
    },
    {
     "name": "stderr",
     "output_type": "stream",
     "text": [
      "Computing neighbors: 100%|██████████| 1/1 [00:04<00:00,  4.82s/it]\n",
      "Embeddings:   0%|\u001b[32m          \u001b[0m| 0/1 [00:00<?, ?it/s]\n",
      "Metrics:   0%|\u001b[34m          \u001b[0m| 0/10 [00:00<?, ?it/s]\u001b[A\n",
      "Metrics:   0%|\u001b[34m          \u001b[0m| 0/10 [00:00<?, ?it/s, Bio conservation: isolated_labels]\u001b[A\n",
      "Metrics:  10%|\u001b[34m█         \u001b[0m| 1/10 [00:00<00:01,  4.88it/s, Bio conservation: isolated_labels]\u001b[A\n",
      "Metrics:  10%|\u001b[34m█         \u001b[0m| 1/10 [00:00<00:01,  4.88it/s, Bio conservation: nmi_ari_cluster_labels_kmeans]\u001b[A\n",
      "Metrics:  20%|\u001b[34m██        \u001b[0m| 2/10 [00:02<00:09,  1.23s/it, Bio conservation: nmi_ari_cluster_labels_kmeans]\u001b[A\n",
      "Metrics:  20%|\u001b[34m██        \u001b[0m| 2/10 [00:02<00:09,  1.23s/it, Bio conservation: silhouette_label]             \u001b[A\n",
      "Metrics:  30%|\u001b[34m███       \u001b[0m| 3/10 [00:02<00:05,  1.27it/s, Bio conservation: silhouette_label]\u001b[A\n",
      "Metrics:  30%|\u001b[34m███       \u001b[0m| 3/10 [00:02<00:05,  1.27it/s, Bio conservation: clisi_knn]       \u001b[A\n",
      "Metrics:  40%|\u001b[34m████      \u001b[0m| 4/10 [00:02<00:04,  1.27it/s, Batch correction: silhouette_batch]\u001b[A\n",
      "Metrics:  50%|\u001b[34m█████     \u001b[0m| 5/10 [00:02<00:01,  2.60it/s, Batch correction: silhouette_batch]\u001b[A\n",
      "Metrics:  50%|\u001b[34m█████     \u001b[0m| 5/10 [00:02<00:01,  2.60it/s, Batch correction: ilisi_knn]       \u001b[A\n",
      "Metrics:  60%|\u001b[34m██████    \u001b[0m| 6/10 [00:02<00:01,  2.60it/s, Batch correction: kbet_per_label]\u001b[A\n",
      "Metrics:  70%|\u001b[34m███████   \u001b[0m| 7/10 [00:12<00:07,  2.41s/it, Batch correction: kbet_per_label]\u001b[A\n",
      "Metrics:  70%|\u001b[34m███████   \u001b[0m| 7/10 [00:12<00:07,  2.41s/it, Batch correction: graph_connectivity]\u001b[A\n",
      "Embeddings: 100%|\u001b[32m██████████\u001b[0m| 1/1 [00:12<00:00, 12.47s/it]atch correction: pcr_comparison]    \u001b[A\n",
      "\n",
      "                                                                                         \u001b[A/ictstr01/home/icb/fatemehs.hashemig/codes/interpretable-ssl/interpretable_ssl/trainers/trainer.py:321: FutureWarning: The frame.append method is deprecated and will be removed from pandas in a future version. Use pandas.concat instead.\n",
      "  overall_df = overall_df.append(fold_df, ignore_index=True)\n",
      "INFO:scarches.trainers.scpoli.trainer:GPU available: True, GPU used: True\n"
     ]
    },
    {
     "name": "stdout",
     "output_type": "stream",
     "text": [
      "Evaluating fold 5\n",
      "Embedding dictionary:\n",
      " \tNum conditions: [3]\n",
      " \tEmbedding dim: [10]\n",
      "Encoder Architecture:\n",
      "\tInput Layer in, out and cond: 4000 64 10\n",
      "\tMean/Var Layer in/out: 64 8\n",
      "Decoder Architecture:\n",
      "\tFirst Layer in, out and cond:  8 64 10\n",
      "\tOutput Layer in/out:  64 4000 \n",
      "\n",
      "Embedding dictionary:\n",
      " \tNum conditions: [5]\n",
      " \tEmbedding dim: [10]\n",
      "Encoder Architecture:\n",
      "\tInput Layer in, out and cond: 4000 64 10\n",
      "\tMean/Var Layer in/out: 64 8\n",
      "Decoder Architecture:\n",
      "\tFirst Layer in, out and cond:  8 64 10\n",
      "\tOutput Layer in/out:  64 4000 \n",
      "\n",
      "Initializing dataloaders\n",
      "Starting training\n",
      " |████████████████----| 80.0%  - val_loss:  883.94 - val_cvae_loss:  883.94\n",
      "Initializing unlabeled prototypes with Leiden with an unknown number of  clusters.\n",
      "Clustering succesful. Found 26 clusters.\n",
      " |████████████████████| 100.0%  - val_loss:  885.30 - val_cvae_loss:  885.30 - val_prototype_loss:    0.00 - val_unlabeled_loss:    0.16\n"
     ]
    },
    {
     "name": "stderr",
     "output_type": "stream",
     "text": [
      "Computing neighbors: 100%|██████████| 1/1 [00:06<00:00,  6.02s/it]\n",
      "Embeddings:   0%|\u001b[32m          \u001b[0m| 0/1 [00:00<?, ?it/s]\n",
      "Metrics:   0%|\u001b[34m          \u001b[0m| 0/10 [00:00<?, ?it/s]\u001b[A\n",
      "Metrics:   0%|\u001b[34m          \u001b[0m| 0/10 [00:00<?, ?it/s, Bio conservation: isolated_labels]\u001b[A\n",
      "Metrics:  10%|\u001b[34m█         \u001b[0m| 1/10 [00:00<00:03,  2.55it/s, Bio conservation: isolated_labels]\u001b[A\n",
      "Metrics:  10%|\u001b[34m█         \u001b[0m| 1/10 [00:00<00:03,  2.55it/s, Bio conservation: nmi_ari_cluster_labels_kmeans]\u001b[A\n",
      "Metrics:  20%|\u001b[34m██        \u001b[0m| 2/10 [00:02<00:12,  1.61s/it, Bio conservation: nmi_ari_cluster_labels_kmeans]\u001b[A\n",
      "Metrics:  20%|\u001b[34m██        \u001b[0m| 2/10 [00:02<00:12,  1.61s/it, Bio conservation: silhouette_label]             \u001b[A\n",
      "Metrics:  30%|\u001b[34m███       \u001b[0m| 3/10 [00:03<00:07,  1.10s/it, Bio conservation: silhouette_label]\u001b[A\n",
      "Metrics:  30%|\u001b[34m███       \u001b[0m| 3/10 [00:03<00:07,  1.10s/it, Bio conservation: clisi_knn]       \u001b[A\n",
      "Metrics:  40%|\u001b[34m████      \u001b[0m| 4/10 [00:03<00:06,  1.10s/it, Batch correction: silhouette_batch]\u001b[A\n",
      "Metrics:  50%|\u001b[34m█████     \u001b[0m| 5/10 [00:03<00:02,  1.78it/s, Batch correction: silhouette_batch]\u001b[A\n",
      "Metrics:  50%|\u001b[34m█████     \u001b[0m| 5/10 [00:03<00:02,  1.78it/s, Batch correction: ilisi_knn]       \u001b[A\n",
      "Metrics:  60%|\u001b[34m██████    \u001b[0m| 6/10 [00:03<00:01,  2.31it/s, Batch correction: ilisi_knn]\u001b[A\n",
      "Metrics:  60%|\u001b[34m██████    \u001b[0m| 6/10 [00:03<00:01,  2.31it/s, Batch correction: kbet_per_label]\u001b[A"
     ]
    },
    {
     "name": "stdout",
     "output_type": "stream",
     "text": [
      "\u001b[34mINFO    \u001b[0m HSPCs consists of a single batch or is too small. Skip.                                                   \n",
      "\u001b[34mINFO    \u001b[0m Monocyte-derived dendritic cells consists of a single batch or is too small. Skip.                        \n",
      "\u001b[34mINFO    \u001b[0m Plasma cells consists of a single batch or is too small. Skip.                                            \n"
     ]
    },
    {
     "name": "stderr",
     "output_type": "stream",
     "text": [
      "\n",
      "Metrics:  70%|\u001b[34m███████   \u001b[0m| 7/10 [00:15<00:10,  3.61s/it, Batch correction: kbet_per_label]\u001b[A\n",
      "Metrics:  70%|\u001b[34m███████   \u001b[0m| 7/10 [00:15<00:10,  3.61s/it, Batch correction: graph_connectivity]\u001b[A\n",
      "Embeddings: 100%|\u001b[32m██████████\u001b[0m| 1/1 [00:15<00:00, 15.19s/it]atch correction: pcr_comparison]    \u001b[A\n",
      "\n",
      "                                                                                         \u001b[A/ictstr01/home/icb/fatemehs.hashemig/codes/interpretable-ssl/interpretable_ssl/trainers/trainer.py:321: FutureWarning: The frame.append method is deprecated and will be removed from pandas in a future version. Use pandas.concat instead.\n",
      "  overall_df = overall_df.append(fold_df, ignore_index=True)\n",
      "INFO:scarches.trainers.scpoli.trainer:GPU available: True, GPU used: True\n"
     ]
    },
    {
     "name": "stdout",
     "output_type": "stream",
     "text": [
      "Evaluating fold 6\n",
      "Embedding dictionary:\n",
      " \tNum conditions: [3]\n",
      " \tEmbedding dim: [10]\n",
      "Encoder Architecture:\n",
      "\tInput Layer in, out and cond: 4000 64 10\n",
      "\tMean/Var Layer in/out: 64 8\n",
      "Decoder Architecture:\n",
      "\tFirst Layer in, out and cond:  8 64 10\n",
      "\tOutput Layer in/out:  64 4000 \n",
      "\n",
      "Embedding dictionary:\n",
      " \tNum conditions: [5]\n",
      " \tEmbedding dim: [10]\n",
      "Encoder Architecture:\n",
      "\tInput Layer in, out and cond: 4000 64 10\n",
      "\tMean/Var Layer in/out: 64 8\n",
      "Decoder Architecture:\n",
      "\tFirst Layer in, out and cond:  8 64 10\n",
      "\tOutput Layer in/out:  64 4000 \n",
      "\n",
      "Initializing dataloaders\n",
      "Starting training\n",
      " |████████████████----| 80.0%  - val_loss:  447.98 - val_cvae_loss:  447.98\n",
      "Initializing unlabeled prototypes with Leiden with an unknown number of  clusters.\n",
      "Clustering succesful. Found 29 clusters.\n",
      " |████████████████████| 100.0%  - val_loss:  450.52 - val_cvae_loss:  450.52 - val_prototype_loss:    0.00 - val_unlabeled_loss:    0.17\n"
     ]
    },
    {
     "name": "stderr",
     "output_type": "stream",
     "text": [
      "Computing neighbors: 100%|██████████| 1/1 [00:05<00:00,  5.67s/it]\n",
      "Embeddings:   0%|\u001b[32m          \u001b[0m| 0/1 [00:00<?, ?it/s]\n",
      "Metrics:   0%|\u001b[34m          \u001b[0m| 0/10 [00:00<?, ?it/s]\u001b[A\n",
      "Metrics:   0%|\u001b[34m          \u001b[0m| 0/10 [00:00<?, ?it/s, Bio conservation: isolated_labels]\u001b[A\n",
      "Metrics:  10%|\u001b[34m█         \u001b[0m| 1/10 [00:00<00:02,  3.98it/s, Bio conservation: isolated_labels]\u001b[A\n",
      "Metrics:  10%|\u001b[34m█         \u001b[0m| 1/10 [00:00<00:02,  3.98it/s, Bio conservation: nmi_ari_cluster_labels_kmeans]\u001b[A\n",
      "Metrics:  20%|\u001b[34m██        \u001b[0m| 2/10 [00:02<00:12,  1.56s/it, Bio conservation: nmi_ari_cluster_labels_kmeans]\u001b[A\n",
      "Metrics:  20%|\u001b[34m██        \u001b[0m| 2/10 [00:02<00:12,  1.56s/it, Bio conservation: silhouette_label]             \u001b[A\n",
      "Metrics:  30%|\u001b[34m███       \u001b[0m| 3/10 [00:03<00:07,  1.03s/it, Bio conservation: silhouette_label]\u001b[A\n",
      "Metrics:  30%|\u001b[34m███       \u001b[0m| 3/10 [00:03<00:07,  1.03s/it, Bio conservation: clisi_knn]       \u001b[A\n",
      "Metrics:  40%|\u001b[34m████      \u001b[0m| 4/10 [00:03<00:04,  1.49it/s, Bio conservation: clisi_knn]\u001b[A\n",
      "Metrics:  40%|\u001b[34m████      \u001b[0m| 4/10 [00:03<00:04,  1.49it/s, Batch correction: silhouette_batch]\u001b[A\n",
      "Metrics:  50%|\u001b[34m█████     \u001b[0m| 5/10 [00:03<00:02,  2.00it/s, Batch correction: silhouette_batch]\u001b[A\n",
      "Metrics:  50%|\u001b[34m█████     \u001b[0m| 5/10 [00:03<00:02,  2.00it/s, Batch correction: ilisi_knn]       \u001b[A\n",
      "Metrics:  60%|\u001b[34m██████    \u001b[0m| 6/10 [00:03<00:01,  2.67it/s, Batch correction: ilisi_knn]\u001b[A\n",
      "Metrics:  60%|\u001b[34m██████    \u001b[0m| 6/10 [00:03<00:01,  2.67it/s, Batch correction: kbet_per_label]\u001b[A\n",
      "Metrics:  70%|\u001b[34m███████   \u001b[0m| 7/10 [00:13<00:10,  3.51s/it, Batch correction: kbet_per_label]\u001b[A\n",
      "Metrics:  70%|\u001b[34m███████   \u001b[0m| 7/10 [00:13<00:10,  3.51s/it, Batch correction: graph_connectivity]\u001b[A\n",
      "Metrics:  80%|\u001b[34m████████  \u001b[0m| 8/10 [00:13<00:07,  3.51s/it, Batch correction: pcr_comparison]    \u001b[A\n",
      "Embeddings: 100%|\u001b[32m██████████\u001b[0m| 1/1 [00:13<00:00, 13.65s/it]atch correction: pcr_comparison]\u001b[A\n",
      "\n",
      "                                                                                         \u001b[A/ictstr01/home/icb/fatemehs.hashemig/codes/interpretable-ssl/interpretable_ssl/trainers/trainer.py:321: FutureWarning: The frame.append method is deprecated and will be removed from pandas in a future version. Use pandas.concat instead.\n",
      "  overall_df = overall_df.append(fold_df, ignore_index=True)\n",
      "INFO:scarches.trainers.scpoli.trainer:GPU available: True, GPU used: True\n"
     ]
    },
    {
     "name": "stdout",
     "output_type": "stream",
     "text": [
      "Evaluating fold 7\n",
      "Embedding dictionary:\n",
      " \tNum conditions: [3]\n",
      " \tEmbedding dim: [10]\n",
      "Encoder Architecture:\n",
      "\tInput Layer in, out and cond: 4000 64 10\n",
      "\tMean/Var Layer in/out: 64 8\n",
      "Decoder Architecture:\n",
      "\tFirst Layer in, out and cond:  8 64 10\n",
      "\tOutput Layer in/out:  64 4000 \n",
      "\n",
      "Embedding dictionary:\n",
      " \tNum conditions: [5]\n",
      " \tEmbedding dim: [10]\n",
      "Encoder Architecture:\n",
      "\tInput Layer in, out and cond: 4000 64 10\n",
      "\tMean/Var Layer in/out: 64 8\n",
      "Decoder Architecture:\n",
      "\tFirst Layer in, out and cond:  8 64 10\n",
      "\tOutput Layer in/out:  64 4000 \n",
      "\n",
      "Initializing dataloaders\n",
      "Starting training\n",
      " |████████████████----| 80.0%  - val_loss: 4313.81 - val_cvae_loss: 4313.81\n",
      "Initializing unlabeled prototypes with Leiden with an unknown number of  clusters.\n",
      "Clustering succesful. Found 20 clusters.\n",
      " |████████████████████| 100.0%  - val_loss: 4290.69 - val_cvae_loss: 4290.69 - val_prototype_loss:    0.00 - val_unlabeled_loss:    0.20\n"
     ]
    },
    {
     "name": "stderr",
     "output_type": "stream",
     "text": [
      "Computing neighbors: 100%|██████████| 1/1 [00:02<00:00,  2.08s/it]\n",
      "Embeddings:   0%|\u001b[32m          \u001b[0m| 0/1 [00:00<?, ?it/s]\n",
      "Metrics:   0%|\u001b[34m          \u001b[0m| 0/10 [00:00<?, ?it/s]\u001b[A\n",
      "Metrics:   0%|\u001b[34m          \u001b[0m| 0/10 [00:00<?, ?it/s, Bio conservation: isolated_labels]\u001b[A\n",
      "Metrics:  10%|\u001b[34m█         \u001b[0m| 1/10 [00:00<00:00, 14.59it/s, Bio conservation: nmi_ari_cluster_labels_kmeans]\u001b[A\n",
      "Metrics:  20%|\u001b[34m██        \u001b[0m| 2/10 [00:00<00:03,  2.28it/s, Bio conservation: nmi_ari_cluster_labels_kmeans]\u001b[A\n",
      "Metrics:  20%|\u001b[34m██        \u001b[0m| 2/10 [00:00<00:03,  2.28it/s, Bio conservation: silhouette_label]             \u001b[A\n",
      "Metrics:  30%|\u001b[34m███       \u001b[0m| 3/10 [00:00<00:03,  2.28it/s, Bio conservation: clisi_knn]       \u001b[A\n",
      "Metrics:  40%|\u001b[34m████      \u001b[0m| 4/10 [00:00<00:02,  2.28it/s, Batch correction: silhouette_batch]\u001b[A\n",
      "Metrics:  50%|\u001b[34m█████     \u001b[0m| 5/10 [00:00<00:02,  2.28it/s, Batch correction: ilisi_knn]       \u001b[A\n",
      "Metrics:  60%|\u001b[34m██████    \u001b[0m| 6/10 [00:00<00:00,  7.40it/s, Batch correction: ilisi_knn]\u001b[A\n",
      "Metrics:  60%|\u001b[34m██████    \u001b[0m| 6/10 [00:00<00:00,  7.40it/s, Batch correction: kbet_per_label]\u001b[A"
     ]
    },
    {
     "name": "stdout",
     "output_type": "stream",
     "text": [
      "\u001b[34mINFO    \u001b[0m CD20+ B cells consists of a single batch or is too small. Skip.                                           \n",
      "\u001b[34mINFO    \u001b[0m CD4+ T cells consists of a single batch or is too small. Skip.                                            \n",
      "\u001b[34mINFO    \u001b[0m CD8+ T cells consists of a single batch or is too small. Skip.                                            \n",
      "\u001b[34mINFO    \u001b[0m Megakaryocyte progenitors consists of a single batch or is too small. Skip.                               \n",
      "\u001b[34mINFO    \u001b[0m Monocyte-derived dendritic cells consists of a single batch or is too small. Skip.                        \n",
      "\u001b[34mINFO    \u001b[0m NK cells consists of a single batch or is too small. Skip.                                                \n",
      "\u001b[34mINFO    \u001b[0m NKT cells consists of a single batch or is too small. Skip.                                               \n"
     ]
    },
    {
     "name": "stderr",
     "output_type": "stream",
     "text": [
      "\n",
      "Metrics:  70%|\u001b[34m███████   \u001b[0m| 7/10 [00:01<00:00,  7.40it/s, Batch correction: graph_connectivity]\u001b[A\n",
      "Metrics:  80%|\u001b[34m████████  \u001b[0m| 8/10 [00:01<00:00,  7.40it/s, Batch correction: pcr_comparison]    \u001b[A\n",
      "Embeddings: 100%|\u001b[32m██████████\u001b[0m| 1/1 [00:01<00:00,  1.58s/it]atch correction: pcr_comparison]\u001b[A\n",
      "\n",
      "                                                                                         \u001b[A/ictstr01/home/icb/fatemehs.hashemig/codes/interpretable-ssl/interpretable_ssl/trainers/trainer.py:321: FutureWarning: The frame.append method is deprecated and will be removed from pandas in a future version. Use pandas.concat instead.\n",
      "  overall_df = overall_df.append(fold_df, ignore_index=True)\n",
      "INFO:scarches.trainers.scpoli.trainer:GPU available: True, GPU used: True\n"
     ]
    },
    {
     "name": "stdout",
     "output_type": "stream",
     "text": [
      "Evaluating fold 8\n",
      "Embedding dictionary:\n",
      " \tNum conditions: [3]\n",
      " \tEmbedding dim: [10]\n",
      "Encoder Architecture:\n",
      "\tInput Layer in, out and cond: 4000 64 10\n",
      "\tMean/Var Layer in/out: 64 8\n",
      "Decoder Architecture:\n",
      "\tFirst Layer in, out and cond:  8 64 10\n",
      "\tOutput Layer in/out:  64 4000 \n",
      "\n",
      "Embedding dictionary:\n",
      " \tNum conditions: [5]\n",
      " \tEmbedding dim: [10]\n",
      "Encoder Architecture:\n",
      "\tInput Layer in, out and cond: 4000 64 10\n",
      "\tMean/Var Layer in/out: 64 8\n",
      "Decoder Architecture:\n",
      "\tFirst Layer in, out and cond:  8 64 10\n",
      "\tOutput Layer in/out:  64 4000 \n",
      "\n",
      "Initializing dataloaders\n",
      "Starting training\n",
      " |████████████████----| 80.0%  - val_loss:  448.75 - val_cvae_loss:  448.75\n",
      "Initializing unlabeled prototypes with Leiden with an unknown number of  clusters.\n",
      "Clustering succesful. Found 28 clusters.\n",
      " |████████████████████| 100.0%  - val_loss:  450.50 - val_cvae_loss:  450.50 - val_prototype_loss:    0.00 - val_unlabeled_loss:    0.16\n"
     ]
    },
    {
     "name": "stderr",
     "output_type": "stream",
     "text": [
      "Computing neighbors: 100%|██████████| 1/1 [00:07<00:00,  7.87s/it]\n",
      "Embeddings:   0%|\u001b[32m          \u001b[0m| 0/1 [00:00<?, ?it/s]\n",
      "Metrics:   0%|\u001b[34m          \u001b[0m| 0/10 [00:00<?, ?it/s]\u001b[A\n",
      "Metrics:   0%|\u001b[34m          \u001b[0m| 0/10 [00:00<?, ?it/s, Bio conservation: isolated_labels]\u001b[A\n",
      "Metrics:  10%|\u001b[34m█         \u001b[0m| 1/10 [00:00<00:08,  1.11it/s, Bio conservation: isolated_labels]\u001b[A\n",
      "Metrics:  10%|\u001b[34m█         \u001b[0m| 1/10 [00:00<00:08,  1.11it/s, Bio conservation: nmi_ari_cluster_labels_kmeans]\u001b[A\n",
      "Metrics:  20%|\u001b[34m██        \u001b[0m| 2/10 [00:03<00:15,  1.98s/it, Bio conservation: nmi_ari_cluster_labels_kmeans]\u001b[A\n",
      "Metrics:  20%|\u001b[34m██        \u001b[0m| 2/10 [00:03<00:15,  1.98s/it, Bio conservation: silhouette_label]             \u001b[A\n",
      "Metrics:  30%|\u001b[34m███       \u001b[0m| 3/10 [00:04<00:09,  1.37s/it, Bio conservation: silhouette_label]\u001b[A\n",
      "Metrics:  30%|\u001b[34m███       \u001b[0m| 3/10 [00:04<00:09,  1.37s/it, Bio conservation: clisi_knn]       \u001b[A\n",
      "Metrics:  40%|\u001b[34m████      \u001b[0m| 4/10 [00:04<00:05,  1.14it/s, Bio conservation: clisi_knn]\u001b[A\n",
      "Metrics:  40%|\u001b[34m████      \u001b[0m| 4/10 [00:04<00:05,  1.14it/s, Batch correction: silhouette_batch]\u001b[A\n",
      "Metrics:  50%|\u001b[34m█████     \u001b[0m| 5/10 [00:04<00:03,  1.49it/s, Batch correction: silhouette_batch]\u001b[A\n",
      "Metrics:  50%|\u001b[34m█████     \u001b[0m| 5/10 [00:04<00:03,  1.49it/s, Batch correction: ilisi_knn]       \u001b[A\n",
      "Metrics:  60%|\u001b[34m██████    \u001b[0m| 6/10 [00:04<00:01,  2.06it/s, Batch correction: ilisi_knn]\u001b[A\n",
      "Metrics:  60%|\u001b[34m██████    \u001b[0m| 6/10 [00:04<00:01,  2.06it/s, Batch correction: kbet_per_label]\u001b[A"
     ]
    },
    {
     "name": "stdout",
     "output_type": "stream",
     "text": [
      "\u001b[34mINFO    \u001b[0m HSPCs consists of a single batch or is too small. Skip.                                                   \n",
      "\u001b[34mINFO    \u001b[0m Plasma cells consists of a single batch or is too small. Skip.                                            \n"
     ]
    },
    {
     "name": "stderr",
     "output_type": "stream",
     "text": [
      "\n",
      "Metrics:  70%|\u001b[34m███████   \u001b[0m| 7/10 [00:18<00:14,  4.93s/it, Batch correction: kbet_per_label]\u001b[A\n",
      "Metrics:  70%|\u001b[34m███████   \u001b[0m| 7/10 [00:18<00:14,  4.93s/it, Batch correction: graph_connectivity]\u001b[A\n",
      "Embeddings: 100%|\u001b[32m██████████\u001b[0m| 1/1 [00:18<00:00, 19.00s/it]atch correction: pcr_comparison]    \u001b[A\n",
      "\n",
      "                                                                                         \u001b[A/ictstr01/home/icb/fatemehs.hashemig/codes/interpretable-ssl/interpretable_ssl/trainers/trainer.py:321: FutureWarning: The frame.append method is deprecated and will be removed from pandas in a future version. Use pandas.concat instead.\n",
      "  overall_df = overall_df.append(fold_df, ignore_index=True)\n",
      "INFO:scarches.trainers.scpoli.trainer:GPU available: True, GPU used: True\n"
     ]
    },
    {
     "name": "stdout",
     "output_type": "stream",
     "text": [
      "Evaluating fold 9\n",
      "Embedding dictionary:\n",
      " \tNum conditions: [3]\n",
      " \tEmbedding dim: [10]\n",
      "Encoder Architecture:\n",
      "\tInput Layer in, out and cond: 4000 64 10\n",
      "\tMean/Var Layer in/out: 64 8\n",
      "Decoder Architecture:\n",
      "\tFirst Layer in, out and cond:  8 64 10\n",
      "\tOutput Layer in/out:  64 4000 \n",
      "\n",
      "Embedding dictionary:\n",
      " \tNum conditions: [5]\n",
      " \tEmbedding dim: [10]\n",
      "Encoder Architecture:\n",
      "\tInput Layer in, out and cond: 4000 64 10\n",
      "\tMean/Var Layer in/out: 64 8\n",
      "Decoder Architecture:\n",
      "\tFirst Layer in, out and cond:  8 64 10\n",
      "\tOutput Layer in/out:  64 4000 \n",
      "\n",
      "Initializing dataloaders\n",
      "Starting training\n",
      " |████████████████----| 80.0%  - val_loss: 3939.56 - val_cvae_loss: 3939.56\n",
      "Initializing unlabeled prototypes with Leiden with an unknown number of  clusters.\n",
      "Clustering succesful. Found 25 clusters.\n",
      " |████████████████████| 100.0%  - val_loss: 3960.14 - val_cvae_loss: 3960.14 - val_prototype_loss:    0.00 - val_unlabeled_loss:    0.16\n"
     ]
    },
    {
     "name": "stderr",
     "output_type": "stream",
     "text": [
      "Computing neighbors: 100%|██████████| 1/1 [00:05<00:00,  5.22s/it]\n",
      "Embeddings:   0%|\u001b[32m          \u001b[0m| 0/1 [00:00<?, ?it/s]\n",
      "Metrics:   0%|\u001b[34m          \u001b[0m| 0/10 [00:00<?, ?it/s]\u001b[A\n",
      "Metrics:   0%|\u001b[34m          \u001b[0m| 0/10 [00:00<?, ?it/s, Bio conservation: isolated_labels]\u001b[A\n",
      "Metrics:  10%|\u001b[34m█         \u001b[0m| 1/10 [00:00<00:02,  3.12it/s, Bio conservation: isolated_labels]\u001b[A\n",
      "Metrics:  10%|\u001b[34m█         \u001b[0m| 1/10 [00:00<00:02,  3.12it/s, Bio conservation: nmi_ari_cluster_labels_kmeans]\u001b[A\n",
      "Metrics:  20%|\u001b[34m██        \u001b[0m| 2/10 [00:02<00:13,  1.66s/it, Bio conservation: nmi_ari_cluster_labels_kmeans]\u001b[A\n",
      "Metrics:  20%|\u001b[34m██        \u001b[0m| 2/10 [00:02<00:13,  1.66s/it, Bio conservation: silhouette_label]             \u001b[A\n",
      "Metrics:  30%|\u001b[34m███       \u001b[0m| 3/10 [00:03<00:07,  1.04s/it, Bio conservation: silhouette_label]\u001b[A\n",
      "Metrics:  30%|\u001b[34m███       \u001b[0m| 3/10 [00:03<00:07,  1.04s/it, Bio conservation: clisi_knn]       \u001b[A\n",
      "Metrics:  40%|\u001b[34m████      \u001b[0m| 4/10 [00:03<00:04,  1.48it/s, Bio conservation: clisi_knn]\u001b[A\n",
      "Metrics:  40%|\u001b[34m████      \u001b[0m| 4/10 [00:03<00:04,  1.48it/s, Batch correction: silhouette_batch]\u001b[A\n",
      "Metrics:  50%|\u001b[34m█████     \u001b[0m| 5/10 [00:03<00:03,  1.48it/s, Batch correction: ilisi_knn]       \u001b[A\n",
      "Metrics:  60%|\u001b[34m██████    \u001b[0m| 6/10 [00:03<00:01,  2.75it/s, Batch correction: ilisi_knn]\u001b[A\n",
      "Metrics:  60%|\u001b[34m██████    \u001b[0m| 6/10 [00:03<00:01,  2.75it/s, Batch correction: kbet_per_label]\u001b[A"
     ]
    },
    {
     "name": "stdout",
     "output_type": "stream",
     "text": [
      "\u001b[34mINFO    \u001b[0m CD20+ B cells consists of a single batch or is too small. Skip.                                           \n",
      "\u001b[34mINFO    \u001b[0m CD4+ T cells consists of a single batch or is too small. Skip.                                            \n",
      "\u001b[34mINFO    \u001b[0m CD8+ T cells consists of a single batch or is too small. Skip.                                            \n",
      "\u001b[34mINFO    \u001b[0m HSPCs consists of a single batch or is too small. Skip.                                                   \n",
      "\u001b[34mINFO    \u001b[0m Megakaryocyte progenitors consists of a single batch or is too small. Skip.                               \n",
      "\u001b[34mINFO    \u001b[0m NK cells consists of a single batch or is too small. Skip.                                                \n",
      "\u001b[34mINFO    \u001b[0m NKT cells consists of a single batch or is too small. Skip.                                               \n",
      "\u001b[34mINFO    \u001b[0m Plasma cells consists of a single batch or is too small. Skip.                                            \n"
     ]
    },
    {
     "name": "stderr",
     "output_type": "stream",
     "text": [
      "\n",
      "Metrics:  70%|\u001b[34m███████   \u001b[0m| 7/10 [00:07<00:04,  1.36s/it, Batch correction: kbet_per_label]\u001b[A\n",
      "Metrics:  70%|\u001b[34m███████   \u001b[0m| 7/10 [00:07<00:04,  1.36s/it, Batch correction: graph_connectivity]\u001b[A\n",
      "Embeddings: 100%|\u001b[32m██████████\u001b[0m| 1/1 [00:07<00:00,  7.57s/it]atch correction: pcr_comparison]    \u001b[A\n",
      "\n",
      "                                                                                         \u001b[A/ictstr01/home/icb/fatemehs.hashemig/codes/interpretable-ssl/interpretable_ssl/trainers/trainer.py:321: FutureWarning: The frame.append method is deprecated and will be removed from pandas in a future version. Use pandas.concat instead.\n",
      "  overall_df = overall_df.append(fold_df, ignore_index=True)\n",
      "INFO:scarches.trainers.scpoli.trainer:GPU available: True, GPU used: True\n"
     ]
    },
    {
     "name": "stdout",
     "output_type": "stream",
     "text": [
      "Evaluating fold 10\n",
      "Embedding dictionary:\n",
      " \tNum conditions: [3]\n",
      " \tEmbedding dim: [10]\n",
      "Encoder Architecture:\n",
      "\tInput Layer in, out and cond: 4000 64 10\n",
      "\tMean/Var Layer in/out: 64 8\n",
      "Decoder Architecture:\n",
      "\tFirst Layer in, out and cond:  8 64 10\n",
      "\tOutput Layer in/out:  64 4000 \n",
      "\n",
      "Embedding dictionary:\n",
      " \tNum conditions: [5]\n",
      " \tEmbedding dim: [10]\n",
      "Encoder Architecture:\n",
      "\tInput Layer in, out and cond: 4000 64 10\n",
      "\tMean/Var Layer in/out: 64 8\n",
      "Decoder Architecture:\n",
      "\tFirst Layer in, out and cond:  8 64 10\n",
      "\tOutput Layer in/out:  64 4000 \n",
      "\n",
      "Initializing dataloaders\n",
      "Starting training\n",
      " |████████████████----| 80.0%  - val_loss: 4315.71 - val_cvae_loss: 4315.71\n",
      "Initializing unlabeled prototypes with Leiden with an unknown number of  clusters.\n",
      "Clustering succesful. Found 30 clusters.\n",
      " |████████████████████| 100.0%  - val_loss: 4316.58 - val_cvae_loss: 4316.58 - val_prototype_loss:    0.00 - val_unlabeled_loss:    0.14\n"
     ]
    },
    {
     "name": "stderr",
     "output_type": "stream",
     "text": [
      "Computing neighbors: 100%|██████████| 1/1 [00:04<00:00,  4.26s/it]\n",
      "Embeddings:   0%|\u001b[32m          \u001b[0m| 0/1 [00:00<?, ?it/s]\n",
      "Metrics:   0%|\u001b[34m          \u001b[0m| 0/10 [00:00<?, ?it/s]\u001b[A\n",
      "Metrics:   0%|\u001b[34m          \u001b[0m| 0/10 [00:00<?, ?it/s, Bio conservation: isolated_labels]\u001b[A\n",
      "Metrics:  10%|\u001b[34m█         \u001b[0m| 1/10 [00:00<00:01,  4.88it/s, Bio conservation: isolated_labels]\u001b[A\n",
      "Metrics:  10%|\u001b[34m█         \u001b[0m| 1/10 [00:00<00:01,  4.88it/s, Bio conservation: nmi_ari_cluster_labels_kmeans]\u001b[A\n",
      "Metrics:  20%|\u001b[34m██        \u001b[0m| 2/10 [00:02<00:11,  1.50s/it, Bio conservation: nmi_ari_cluster_labels_kmeans]\u001b[A\n",
      "Metrics:  20%|\u001b[34m██        \u001b[0m| 2/10 [00:02<00:11,  1.50s/it, Bio conservation: silhouette_label]             \u001b[A\n",
      "Metrics:  30%|\u001b[34m███       \u001b[0m| 3/10 [00:02<00:06,  1.08it/s, Bio conservation: silhouette_label]\u001b[A\n",
      "Metrics:  30%|\u001b[34m███       \u001b[0m| 3/10 [00:02<00:06,  1.08it/s, Bio conservation: clisi_knn]       \u001b[A\n",
      "Metrics:  40%|\u001b[34m████      \u001b[0m| 4/10 [00:02<00:03,  1.65it/s, Bio conservation: clisi_knn]\u001b[A\n",
      "Metrics:  40%|\u001b[34m████      \u001b[0m| 4/10 [00:02<00:03,  1.65it/s, Batch correction: silhouette_batch]\u001b[A\n",
      "Metrics:  50%|\u001b[34m█████     \u001b[0m| 5/10 [00:03<00:02,  2.31it/s, Batch correction: silhouette_batch]\u001b[A\n",
      "Metrics:  50%|\u001b[34m█████     \u001b[0m| 5/10 [00:03<00:02,  2.31it/s, Batch correction: ilisi_knn]       \u001b[A\n",
      "Metrics:  60%|\u001b[34m██████    \u001b[0m| 6/10 [00:03<00:01,  2.31it/s, Batch correction: kbet_per_label]\u001b[A\n",
      "Metrics:  70%|\u001b[34m███████   \u001b[0m| 7/10 [00:10<00:06,  2.01s/it, Batch correction: kbet_per_label]\u001b[A\n",
      "Metrics:  70%|\u001b[34m███████   \u001b[0m| 7/10 [00:10<00:06,  2.01s/it, Batch correction: graph_connectivity]\u001b[A\n",
      "Embeddings: 100%|\u001b[32m██████████\u001b[0m| 1/1 [00:10<00:00, 10.23s/it]atch correction: pcr_comparison]    \u001b[A\n",
      "\n",
      "                                                                                         \u001b[A/ictstr01/home/icb/fatemehs.hashemig/codes/interpretable-ssl/interpretable_ssl/trainers/trainer.py:321: FutureWarning: The frame.append method is deprecated and will be removed from pandas in a future version. Use pandas.concat instead.\n",
      "  overall_df = overall_df.append(fold_df, ignore_index=True)\n"
     ]
    },
    {
     "name": "stdout",
     "output_type": "stream",
     "text": [
      "running custom cross validation evaluation\n",
      "Evaluating fold 1\n",
      "\u001b[34mINFO    \u001b[0m File \u001b[35m/home/icb/fatemehs.hashemig/models/\u001b[0m\u001b[35m/pbmc-immune/\u001b[0m\u001b[35m/scvi-latent_dim8_bs512_ccross-val/fold-1/\u001b[0m\u001b[95mmodel.pt\u001b[0m   \n",
      "         already downloaded                                                                                        \n"
     ]
    },
    {
     "name": "stderr",
     "output_type": "stream",
     "text": [
      "<frozen abc>:119: FutureWarning: SparseDataset is deprecated and will be removed in late 2024. It has been replaced by the public classes CSRDataset and CSCDataset.\n",
      "\n",
      "For instance checks, use `isinstance(X, (anndata.experimental.CSRDataset, anndata.experimental.CSCDataset))` instead.\n",
      "\n",
      "For creation, use `anndata.experimental.sparse_dataset(X)` instead.\n",
      "\n",
      "/home/icb/fatemehs.hashemig/miniconda3/envs/interpretable-ssl/lib/python3.12/multiprocessing/popen_fork.py:66: RuntimeWarning: os.fork() was called. os.fork() is incompatible with multithreaded code, and JAX is multithreaded, so this will likely lead to a deadlock.\n",
      "  self.pid = os.fork()\n",
      "Multiprocessing is handled by SLURM.\n",
      "GPU available: True (cuda), used: True\n",
      "TPU available: False, using: 0 TPU cores\n",
      "IPU available: False, using: 0 IPUs\n",
      "HPU available: False, using: 0 HPUs\n",
      "/home/icb/fatemehs.hashemig/miniconda3/envs/interpretable-ssl/lib/python3.12/multiprocessing/popen_fork.py:66: RuntimeWarning: os.fork() was called. os.fork() is incompatible with multithreaded code, and JAX is multithreaded, so this will likely lead to a deadlock.\n",
      "  self.pid = os.fork()\n",
      "LOCAL_RANK: 0 - CUDA_VISIBLE_DEVICES: [MIG-887fd1e0-585a-56c2-81f3-94f71fe4e1e3]\n",
      "SLURM auto-requeueing enabled. Setting signal handlers.\n"
     ]
    },
    {
     "name": "stdout",
     "output_type": "stream",
     "text": [
      "Epoch 50/50: 100%|██████████| 50/50 [00:38<00:00,  1.22it/s, loss=928, v_num=1]   "
     ]
    },
    {
     "name": "stderr",
     "output_type": "stream",
     "text": [
      "`Trainer.fit` stopped: `max_epochs=50` reached.\n"
     ]
    },
    {
     "name": "stdout",
     "output_type": "stream",
     "text": [
      "Epoch 50/50: 100%|██████████| 50/50 [00:38<00:00,  1.30it/s, loss=928, v_num=1]\n",
      "\u001b[34mINFO    \u001b[0m Input AnnData not setup with scvi-tools. attempting to transfer AnnData setup                             \n",
      "\u001b[34mINFO    \u001b[0m Input AnnData not setup with scvi-tools. attempting to transfer AnnData setup                             \n"
     ]
    },
    {
     "name": "stderr",
     "output_type": "stream",
     "text": [
      "Computing neighbors: 100%|██████████| 1/1 [00:05<00:00,  5.26s/it]\n",
      "Embeddings:   0%|\u001b[32m          \u001b[0m| 0/1 [00:00<?, ?it/s]\n",
      "Metrics:   0%|\u001b[34m          \u001b[0m| 0/10 [00:00<?, ?it/s]\u001b[A\n",
      "Metrics:   0%|\u001b[34m          \u001b[0m| 0/10 [00:00<?, ?it/s, Bio conservation: isolated_labels]\u001b[A\n",
      "Metrics:  10%|\u001b[34m█         \u001b[0m| 1/10 [00:00<00:03,  2.52it/s, Bio conservation: isolated_labels]\u001b[A\n",
      "Metrics:  10%|\u001b[34m█         \u001b[0m| 1/10 [00:00<00:03,  2.52it/s, Bio conservation: nmi_ari_cluster_labels_kmeans]\u001b[A\n",
      "Metrics:  20%|\u001b[34m██        \u001b[0m| 2/10 [00:02<00:11,  1.41s/it, Bio conservation: nmi_ari_cluster_labels_kmeans]\u001b[A\n",
      "Metrics:  20%|\u001b[34m██        \u001b[0m| 2/10 [00:02<00:11,  1.41s/it, Bio conservation: silhouette_label]             \u001b[A\n",
      "Metrics:  30%|\u001b[34m███       \u001b[0m| 3/10 [00:02<00:06,  1.05it/s, Bio conservation: silhouette_label]\u001b[A\n",
      "Metrics:  30%|\u001b[34m███       \u001b[0m| 3/10 [00:02<00:06,  1.05it/s, Bio conservation: clisi_knn]       \u001b[A\n",
      "Metrics:  40%|\u001b[34m████      \u001b[0m| 4/10 [00:03<00:03,  1.62it/s, Bio conservation: clisi_knn]\u001b[A\n",
      "Metrics:  40%|\u001b[34m████      \u001b[0m| 4/10 [00:03<00:03,  1.62it/s, Batch correction: silhouette_batch]\u001b[A\n",
      "Metrics:  50%|\u001b[34m█████     \u001b[0m| 5/10 [00:03<00:02,  2.32it/s, Batch correction: silhouette_batch]\u001b[A\n",
      "Metrics:  50%|\u001b[34m█████     \u001b[0m| 5/10 [00:03<00:02,  2.32it/s, Batch correction: ilisi_knn]       \u001b[A\n",
      "Metrics:  60%|\u001b[34m██████    \u001b[0m| 6/10 [00:03<00:01,  2.32it/s, Batch correction: kbet_per_label]\u001b[A\n",
      "Metrics:  70%|\u001b[34m███████   \u001b[0m| 7/10 [00:13<00:08,  2.85s/it, Batch correction: kbet_per_label]\u001b[A\n",
      "Metrics:  70%|\u001b[34m███████   \u001b[0m| 7/10 [00:13<00:08,  2.85s/it, Batch correction: graph_connectivity]\u001b[A\n",
      "Embeddings: 100%|\u001b[32m██████████\u001b[0m| 1/1 [00:13<00:00, 13.58s/it]atch correction: pcr_comparison]    \u001b[A\n",
      "\n",
      "                                                                                         \u001b[A/ictstr01/home/icb/fatemehs.hashemig/codes/interpretable-ssl/interpretable_ssl/trainers/trainer.py:321: FutureWarning: The frame.append method is deprecated and will be removed from pandas in a future version. Use pandas.concat instead.\n",
      "  overall_df = overall_df.append(fold_df, ignore_index=True)\n"
     ]
    },
    {
     "name": "stdout",
     "output_type": "stream",
     "text": [
      "Evaluating fold 2\n",
      "\u001b[34mINFO    \u001b[0m File \u001b[35m/home/icb/fatemehs.hashemig/models/\u001b[0m\u001b[35m/pbmc-immune/\u001b[0m\u001b[35m/scvi-latent_dim8_bs512_ccross-val/fold-2/\u001b[0m\u001b[95mmodel.pt\u001b[0m   \n",
      "         already downloaded                                                                                        \n"
     ]
    },
    {
     "name": "stderr",
     "output_type": "stream",
     "text": [
      "/home/icb/fatemehs.hashemig/miniconda3/envs/interpretable-ssl/lib/python3.12/multiprocessing/popen_fork.py:66: RuntimeWarning: os.fork() was called. os.fork() is incompatible with multithreaded code, and JAX is multithreaded, so this will likely lead to a deadlock.\n",
      "  self.pid = os.fork()\n",
      "Multiprocessing is handled by SLURM.\n",
      "GPU available: True (cuda), used: True\n",
      "TPU available: False, using: 0 TPU cores\n",
      "IPU available: False, using: 0 IPUs\n",
      "HPU available: False, using: 0 HPUs\n",
      "/home/icb/fatemehs.hashemig/miniconda3/envs/interpretable-ssl/lib/python3.12/multiprocessing/popen_fork.py:66: RuntimeWarning: os.fork() was called. os.fork() is incompatible with multithreaded code, and JAX is multithreaded, so this will likely lead to a deadlock.\n",
      "  self.pid = os.fork()\n",
      "LOCAL_RANK: 0 - CUDA_VISIBLE_DEVICES: [MIG-887fd1e0-585a-56c2-81f3-94f71fe4e1e3]\n",
      "SLURM auto-requeueing enabled. Setting signal handlers.\n"
     ]
    },
    {
     "name": "stdout",
     "output_type": "stream",
     "text": [
      "Epoch 50/50: 100%|██████████| 50/50 [01:13<00:00,  1.14s/it, loss=1.21e+03, v_num=1]"
     ]
    },
    {
     "name": "stderr",
     "output_type": "stream",
     "text": [
      "`Trainer.fit` stopped: `max_epochs=50` reached.\n"
     ]
    },
    {
     "name": "stdout",
     "output_type": "stream",
     "text": [
      "Epoch 50/50: 100%|██████████| 50/50 [01:13<00:00,  1.47s/it, loss=1.21e+03, v_num=1]\n",
      "\u001b[34mINFO    \u001b[0m AnnData object appears to be a copy. Attempting to transfer setup.                                        \n",
      "\u001b[34mINFO    \u001b[0m AnnData object appears to be a copy. Attempting to transfer setup.                                        \n"
     ]
    },
    {
     "name": "stderr",
     "output_type": "stream",
     "text": [
      "Computing neighbors: 100%|██████████| 1/1 [00:08<00:00,  8.01s/it]\n",
      "Embeddings:   0%|\u001b[32m          \u001b[0m| 0/1 [00:00<?, ?it/s]\n",
      "Metrics:   0%|\u001b[34m          \u001b[0m| 0/10 [00:00<?, ?it/s]\u001b[A\n",
      "Metrics:   0%|\u001b[34m          \u001b[0m| 0/10 [00:00<?, ?it/s, Bio conservation: isolated_labels]\u001b[A\n",
      "Metrics:  10%|\u001b[34m█         \u001b[0m| 1/10 [00:00<00:06,  1.29it/s, Bio conservation: isolated_labels]\u001b[A\n",
      "Metrics:  10%|\u001b[34m█         \u001b[0m| 1/10 [00:00<00:06,  1.29it/s, Bio conservation: nmi_ari_cluster_labels_kmeans]\u001b[A\n",
      "Metrics:  20%|\u001b[34m██        \u001b[0m| 2/10 [00:03<00:14,  1.76s/it, Bio conservation: nmi_ari_cluster_labels_kmeans]\u001b[A\n",
      "Metrics:  20%|\u001b[34m██        \u001b[0m| 2/10 [00:03<00:14,  1.76s/it, Bio conservation: silhouette_label]             \u001b[A\n",
      "Metrics:  30%|\u001b[34m███       \u001b[0m| 3/10 [00:03<00:09,  1.31s/it, Bio conservation: silhouette_label]\u001b[A\n",
      "Metrics:  30%|\u001b[34m███       \u001b[0m| 3/10 [00:03<00:09,  1.31s/it, Bio conservation: clisi_knn]       \u001b[A\n",
      "Metrics:  40%|\u001b[34m████      \u001b[0m| 4/10 [00:04<00:07,  1.31s/it, Batch correction: silhouette_batch]\u001b[A\n",
      "Metrics:  50%|\u001b[34m█████     \u001b[0m| 5/10 [00:04<00:03,  1.39it/s, Batch correction: silhouette_batch]\u001b[A\n",
      "Metrics:  50%|\u001b[34m█████     \u001b[0m| 5/10 [00:04<00:03,  1.39it/s, Batch correction: ilisi_knn]       \u001b[A\n",
      "Metrics:  60%|\u001b[34m██████    \u001b[0m| 6/10 [00:04<00:02,  1.84it/s, Batch correction: ilisi_knn]\u001b[A\n",
      "Metrics:  60%|\u001b[34m██████    \u001b[0m| 6/10 [00:04<00:02,  1.84it/s, Batch correction: kbet_per_label]\u001b[A\n",
      "Metrics:  70%|\u001b[34m███████   \u001b[0m| 7/10 [00:19<00:14,  4.78s/it, Batch correction: kbet_per_label]\u001b[A\n",
      "Metrics:  70%|\u001b[34m███████   \u001b[0m| 7/10 [00:19<00:14,  4.78s/it, Batch correction: graph_connectivity]\u001b[A\n",
      "Embeddings: 100%|\u001b[32m██████████\u001b[0m| 1/1 [00:19<00:00, 19.82s/it]atch correction: pcr_comparison]    \u001b[A\n",
      "\n",
      "                                                                                         \u001b[A/ictstr01/home/icb/fatemehs.hashemig/codes/interpretable-ssl/interpretable_ssl/trainers/trainer.py:321: FutureWarning: The frame.append method is deprecated and will be removed from pandas in a future version. Use pandas.concat instead.\n",
      "  overall_df = overall_df.append(fold_df, ignore_index=True)\n"
     ]
    },
    {
     "name": "stdout",
     "output_type": "stream",
     "text": [
      "Evaluating fold 3\n",
      "\u001b[34mINFO    \u001b[0m File \u001b[35m/home/icb/fatemehs.hashemig/models/\u001b[0m\u001b[35m/pbmc-immune/\u001b[0m\u001b[35m/scvi-latent_dim8_bs512_ccross-val/fold-3/\u001b[0m\u001b[95mmodel.pt\u001b[0m   \n",
      "         already downloaded                                                                                        \n"
     ]
    },
    {
     "name": "stderr",
     "output_type": "stream",
     "text": [
      "/home/icb/fatemehs.hashemig/miniconda3/envs/interpretable-ssl/lib/python3.12/multiprocessing/popen_fork.py:66: RuntimeWarning: os.fork() was called. os.fork() is incompatible with multithreaded code, and JAX is multithreaded, so this will likely lead to a deadlock.\n",
      "  self.pid = os.fork()\n",
      "Multiprocessing is handled by SLURM.\n",
      "GPU available: True (cuda), used: True\n",
      "TPU available: False, using: 0 TPU cores\n",
      "IPU available: False, using: 0 IPUs\n",
      "HPU available: False, using: 0 HPUs\n",
      "/home/icb/fatemehs.hashemig/miniconda3/envs/interpretable-ssl/lib/python3.12/multiprocessing/popen_fork.py:66: RuntimeWarning: os.fork() was called. os.fork() is incompatible with multithreaded code, and JAX is multithreaded, so this will likely lead to a deadlock.\n",
      "  self.pid = os.fork()\n",
      "LOCAL_RANK: 0 - CUDA_VISIBLE_DEVICES: [MIG-887fd1e0-585a-56c2-81f3-94f71fe4e1e3]\n",
      "SLURM auto-requeueing enabled. Setting signal handlers.\n"
     ]
    },
    {
     "name": "stdout",
     "output_type": "stream",
     "text": [
      "Epoch 50/50: 100%|██████████| 50/50 [00:56<00:00,  1.28it/s, loss=866, v_num=1]"
     ]
    },
    {
     "name": "stderr",
     "output_type": "stream",
     "text": [
      "`Trainer.fit` stopped: `max_epochs=50` reached.\n"
     ]
    },
    {
     "name": "stdout",
     "output_type": "stream",
     "text": [
      "Epoch 50/50: 100%|██████████| 50/50 [00:56<00:00,  1.13s/it, loss=866, v_num=1]\n",
      "\u001b[34mINFO    \u001b[0m AnnData object appears to be a copy. Attempting to transfer setup.                                        \n",
      "\u001b[34mINFO    \u001b[0m AnnData object appears to be a copy. Attempting to transfer setup.                                        \n"
     ]
    },
    {
     "name": "stderr",
     "output_type": "stream",
     "text": [
      "Computing neighbors: 100%|██████████| 1/1 [00:08<00:00,  8.38s/it]\n",
      "Embeddings:   0%|\u001b[32m          \u001b[0m| 0/1 [00:00<?, ?it/s]\n",
      "Metrics:   0%|\u001b[34m          \u001b[0m| 0/10 [00:00<?, ?it/s]\u001b[A\n",
      "Metrics:   0%|\u001b[34m          \u001b[0m| 0/10 [00:00<?, ?it/s, Bio conservation: isolated_labels]\u001b[A\n",
      "Metrics:  10%|\u001b[34m█         \u001b[0m| 1/10 [00:00<00:08,  1.12it/s, Bio conservation: isolated_labels]\u001b[A\n",
      "Metrics:  10%|\u001b[34m█         \u001b[0m| 1/10 [00:00<00:08,  1.12it/s, Bio conservation: nmi_ari_cluster_labels_kmeans]\u001b[A\n",
      "Metrics:  20%|\u001b[34m██        \u001b[0m| 2/10 [00:03<00:15,  1.89s/it, Bio conservation: nmi_ari_cluster_labels_kmeans]\u001b[A\n",
      "Metrics:  20%|\u001b[34m██        \u001b[0m| 2/10 [00:03<00:15,  1.89s/it, Bio conservation: silhouette_label]             \u001b[A\n",
      "Metrics:  30%|\u001b[34m███       \u001b[0m| 3/10 [00:04<00:09,  1.39s/it, Bio conservation: silhouette_label]\u001b[A\n",
      "Metrics:  30%|\u001b[34m███       \u001b[0m| 3/10 [00:04<00:09,  1.39s/it, Bio conservation: clisi_knn]       \u001b[A\n",
      "Metrics:  40%|\u001b[34m████      \u001b[0m| 4/10 [00:04<00:08,  1.39s/it, Batch correction: silhouette_batch]\u001b[A\n",
      "Metrics:  50%|\u001b[34m█████     \u001b[0m| 5/10 [00:04<00:03,  1.47it/s, Batch correction: silhouette_batch]\u001b[A\n",
      "Metrics:  50%|\u001b[34m█████     \u001b[0m| 5/10 [00:04<00:03,  1.47it/s, Batch correction: ilisi_knn]       \u001b[A\n",
      "Metrics:  60%|\u001b[34m██████    \u001b[0m| 6/10 [00:04<00:02,  1.94it/s, Batch correction: ilisi_knn]\u001b[A\n",
      "Metrics:  60%|\u001b[34m██████    \u001b[0m| 6/10 [00:04<00:02,  1.94it/s, Batch correction: kbet_per_label]\u001b[A\n",
      "Metrics:  70%|\u001b[34m███████   \u001b[0m| 7/10 [00:15<00:10,  3.52s/it, Batch correction: kbet_per_label]\u001b[A\n",
      "Metrics:  70%|\u001b[34m███████   \u001b[0m| 7/10 [00:15<00:10,  3.52s/it, Batch correction: graph_connectivity]\u001b[A\n",
      "Metrics:  80%|\u001b[34m████████  \u001b[0m| 8/10 [00:15<00:07,  3.52s/it, Batch correction: pcr_comparison]    \u001b[A\n",
      "Embeddings: 100%|\u001b[32m██████████\u001b[0m| 1/1 [00:15<00:00, 15.59s/it]atch correction: pcr_comparison]\u001b[A\n",
      "\n",
      "                                                                                         \u001b[A/ictstr01/home/icb/fatemehs.hashemig/codes/interpretable-ssl/interpretable_ssl/trainers/trainer.py:321: FutureWarning: The frame.append method is deprecated and will be removed from pandas in a future version. Use pandas.concat instead.\n",
      "  overall_df = overall_df.append(fold_df, ignore_index=True)\n"
     ]
    },
    {
     "name": "stdout",
     "output_type": "stream",
     "text": [
      "Evaluating fold 4\n",
      "\u001b[34mINFO    \u001b[0m File \u001b[35m/home/icb/fatemehs.hashemig/models/\u001b[0m\u001b[35m/pbmc-immune/\u001b[0m\u001b[35m/scvi-latent_dim8_bs512_ccross-val/fold-4/\u001b[0m\u001b[95mmodel.pt\u001b[0m   \n",
      "         already downloaded                                                                                        \n"
     ]
    },
    {
     "name": "stderr",
     "output_type": "stream",
     "text": [
      "/home/icb/fatemehs.hashemig/miniconda3/envs/interpretable-ssl/lib/python3.12/multiprocessing/popen_fork.py:66: RuntimeWarning: os.fork() was called. os.fork() is incompatible with multithreaded code, and JAX is multithreaded, so this will likely lead to a deadlock.\n",
      "  self.pid = os.fork()\n",
      "Multiprocessing is handled by SLURM.\n",
      "GPU available: True (cuda), used: True\n",
      "TPU available: False, using: 0 TPU cores\n",
      "IPU available: False, using: 0 IPUs\n",
      "HPU available: False, using: 0 HPUs\n",
      "/home/icb/fatemehs.hashemig/miniconda3/envs/interpretable-ssl/lib/python3.12/multiprocessing/popen_fork.py:66: RuntimeWarning: os.fork() was called. os.fork() is incompatible with multithreaded code, and JAX is multithreaded, so this will likely lead to a deadlock.\n",
      "  self.pid = os.fork()\n",
      "LOCAL_RANK: 0 - CUDA_VISIBLE_DEVICES: [MIG-887fd1e0-585a-56c2-81f3-94f71fe4e1e3]\n",
      "SLURM auto-requeueing enabled. Setting signal handlers.\n"
     ]
    },
    {
     "name": "stdout",
     "output_type": "stream",
     "text": [
      "Epoch 50/50: 100%|██████████| 50/50 [00:33<00:00,  1.30it/s, loss=3.11e+03, v_num=1]"
     ]
    },
    {
     "name": "stderr",
     "output_type": "stream",
     "text": [
      "`Trainer.fit` stopped: `max_epochs=50` reached.\n"
     ]
    },
    {
     "name": "stdout",
     "output_type": "stream",
     "text": [
      "Epoch 50/50: 100%|██████████| 50/50 [00:33<00:00,  1.51it/s, loss=3.11e+03, v_num=1]\n",
      "\u001b[34mINFO    \u001b[0m AnnData object appears to be a copy. Attempting to transfer setup.                                        \n",
      "\u001b[34mINFO    \u001b[0m AnnData object appears to be a copy. Attempting to transfer setup.                                        \n"
     ]
    },
    {
     "name": "stderr",
     "output_type": "stream",
     "text": [
      "Computing neighbors: 100%|██████████| 1/1 [00:05<00:00,  5.19s/it]\n",
      "Embeddings:   0%|\u001b[32m          \u001b[0m| 0/1 [00:00<?, ?it/s]\n",
      "Metrics:   0%|\u001b[34m          \u001b[0m| 0/10 [00:00<?, ?it/s]\u001b[A\n",
      "Metrics:   0%|\u001b[34m          \u001b[0m| 0/10 [00:00<?, ?it/s, Bio conservation: isolated_labels]\u001b[A\n",
      "Metrics:  10%|\u001b[34m█         \u001b[0m| 1/10 [00:00<00:01,  4.87it/s, Bio conservation: isolated_labels]\u001b[A\n",
      "Metrics:  10%|\u001b[34m█         \u001b[0m| 1/10 [00:00<00:01,  4.87it/s, Bio conservation: nmi_ari_cluster_labels_kmeans]\u001b[A\n",
      "Metrics:  20%|\u001b[34m██        \u001b[0m| 2/10 [00:01<00:07,  1.13it/s, Bio conservation: nmi_ari_cluster_labels_kmeans]\u001b[A\n",
      "Metrics:  20%|\u001b[34m██        \u001b[0m| 2/10 [00:01<00:07,  1.13it/s, Bio conservation: silhouette_label]             \u001b[A\n",
      "Metrics:  30%|\u001b[34m███       \u001b[0m| 3/10 [00:01<00:04,  1.64it/s, Bio conservation: silhouette_label]\u001b[A\n",
      "Metrics:  30%|\u001b[34m███       \u001b[0m| 3/10 [00:01<00:04,  1.64it/s, Bio conservation: clisi_knn]       \u001b[A\n",
      "Metrics:  40%|\u001b[34m████      \u001b[0m| 4/10 [00:01<00:03,  1.64it/s, Batch correction: silhouette_batch]\u001b[A\n",
      "Metrics:  50%|\u001b[34m█████     \u001b[0m| 5/10 [00:02<00:01,  2.86it/s, Batch correction: silhouette_batch]\u001b[A\n",
      "Metrics:  50%|\u001b[34m█████     \u001b[0m| 5/10 [00:02<00:01,  2.86it/s, Batch correction: ilisi_knn]       \u001b[A\n",
      "Metrics:  60%|\u001b[34m██████    \u001b[0m| 6/10 [00:02<00:01,  3.56it/s, Batch correction: ilisi_knn]\u001b[A\n",
      "Metrics:  60%|\u001b[34m██████    \u001b[0m| 6/10 [00:02<00:01,  3.56it/s, Batch correction: kbet_per_label]\u001b[A\n",
      "Metrics:  70%|\u001b[34m███████   \u001b[0m| 7/10 [00:11<00:08,  2.99s/it, Batch correction: kbet_per_label]\u001b[A\n",
      "Metrics:  70%|\u001b[34m███████   \u001b[0m| 7/10 [00:11<00:08,  2.99s/it, Batch correction: graph_connectivity]\u001b[A\n",
      "Embeddings: 100%|\u001b[32m██████████\u001b[0m| 1/1 [00:11<00:00, 11.91s/it]atch correction: pcr_comparison]    \u001b[A\n",
      "\n",
      "                                                                                         \u001b[A/ictstr01/home/icb/fatemehs.hashemig/codes/interpretable-ssl/interpretable_ssl/trainers/trainer.py:321: FutureWarning: The frame.append method is deprecated and will be removed from pandas in a future version. Use pandas.concat instead.\n",
      "  overall_df = overall_df.append(fold_df, ignore_index=True)\n"
     ]
    },
    {
     "name": "stdout",
     "output_type": "stream",
     "text": [
      "Evaluating fold 5\n",
      "\u001b[34mINFO    \u001b[0m File \u001b[35m/home/icb/fatemehs.hashemig/models/\u001b[0m\u001b[35m/pbmc-immune/\u001b[0m\u001b[35m/scvi-latent_dim8_bs512_ccross-val/fold-5/\u001b[0m\u001b[95mmodel.pt\u001b[0m   \n",
      "         already downloaded                                                                                        \n"
     ]
    },
    {
     "name": "stderr",
     "output_type": "stream",
     "text": [
      "/home/icb/fatemehs.hashemig/miniconda3/envs/interpretable-ssl/lib/python3.12/multiprocessing/popen_fork.py:66: RuntimeWarning: os.fork() was called. os.fork() is incompatible with multithreaded code, and JAX is multithreaded, so this will likely lead to a deadlock.\n",
      "  self.pid = os.fork()\n",
      "Multiprocessing is handled by SLURM.\n",
      "GPU available: True (cuda), used: True\n",
      "TPU available: False, using: 0 TPU cores\n",
      "IPU available: False, using: 0 IPUs\n",
      "HPU available: False, using: 0 HPUs\n",
      "/home/icb/fatemehs.hashemig/miniconda3/envs/interpretable-ssl/lib/python3.12/multiprocessing/popen_fork.py:66: RuntimeWarning: os.fork() was called. os.fork() is incompatible with multithreaded code, and JAX is multithreaded, so this will likely lead to a deadlock.\n",
      "  self.pid = os.fork()\n",
      "LOCAL_RANK: 0 - CUDA_VISIBLE_DEVICES: [MIG-887fd1e0-585a-56c2-81f3-94f71fe4e1e3]\n",
      "SLURM auto-requeueing enabled. Setting signal handlers.\n"
     ]
    },
    {
     "name": "stdout",
     "output_type": "stream",
     "text": [
      "Epoch 50/50: 100%|██████████| 50/50 [00:43<00:00,  1.39it/s, loss=1.1e+03, v_num=1] "
     ]
    },
    {
     "name": "stderr",
     "output_type": "stream",
     "text": [
      "`Trainer.fit` stopped: `max_epochs=50` reached.\n"
     ]
    },
    {
     "name": "stdout",
     "output_type": "stream",
     "text": [
      "Epoch 50/50: 100%|██████████| 50/50 [00:43<00:00,  1.15it/s, loss=1.1e+03, v_num=1]\n",
      "\u001b[34mINFO    \u001b[0m AnnData object appears to be a copy. Attempting to transfer setup.                                        \n",
      "\u001b[34mINFO    \u001b[0m AnnData object appears to be a copy. Attempting to transfer setup.                                        \n"
     ]
    },
    {
     "name": "stderr",
     "output_type": "stream",
     "text": [
      "Computing neighbors: 100%|██████████| 1/1 [00:05<00:00,  5.55s/it]\n",
      "Embeddings:   0%|\u001b[32m          \u001b[0m| 0/1 [00:00<?, ?it/s]\n",
      "Metrics:   0%|\u001b[34m          \u001b[0m| 0/10 [00:00<?, ?it/s]\u001b[A\n",
      "Metrics:   0%|\u001b[34m          \u001b[0m| 0/10 [00:00<?, ?it/s, Bio conservation: isolated_labels]\u001b[A\n",
      "Metrics:  10%|\u001b[34m█         \u001b[0m| 1/10 [00:00<00:03,  2.64it/s, Bio conservation: isolated_labels]\u001b[A\n",
      "Metrics:  10%|\u001b[34m█         \u001b[0m| 1/10 [00:00<00:03,  2.64it/s, Bio conservation: nmi_ari_cluster_labels_kmeans]\u001b[A\n",
      "Metrics:  20%|\u001b[34m██        \u001b[0m| 2/10 [00:01<00:07,  1.07it/s, Bio conservation: nmi_ari_cluster_labels_kmeans]\u001b[A\n",
      "Metrics:  20%|\u001b[34m██        \u001b[0m| 2/10 [00:01<00:07,  1.07it/s, Bio conservation: silhouette_label]             \u001b[A\n",
      "Metrics:  30%|\u001b[34m███       \u001b[0m| 3/10 [00:02<00:04,  1.48it/s, Bio conservation: silhouette_label]\u001b[A\n",
      "Metrics:  30%|\u001b[34m███       \u001b[0m| 3/10 [00:02<00:04,  1.48it/s, Bio conservation: clisi_knn]       \u001b[A\n",
      "Metrics:  40%|\u001b[34m████      \u001b[0m| 4/10 [00:02<00:04,  1.48it/s, Batch correction: silhouette_batch]\u001b[A\n",
      "Metrics:  50%|\u001b[34m█████     \u001b[0m| 5/10 [00:02<00:01,  2.91it/s, Batch correction: silhouette_batch]\u001b[A\n",
      "Metrics:  50%|\u001b[34m█████     \u001b[0m| 5/10 [00:02<00:01,  2.91it/s, Batch correction: ilisi_knn]       \u001b[A\n",
      "Metrics:  60%|\u001b[34m██████    \u001b[0m| 6/10 [00:02<00:01,  2.91it/s, Batch correction: kbet_per_label]\u001b[A"
     ]
    },
    {
     "name": "stdout",
     "output_type": "stream",
     "text": [
      "\u001b[34mINFO    \u001b[0m HSPCs consists of a single batch or is too small. Skip.                                                   \n",
      "\u001b[34mINFO    \u001b[0m Monocyte-derived dendritic cells consists of a single batch or is too small. Skip.                        \n",
      "\u001b[34mINFO    \u001b[0m Plasma cells consists of a single batch or is too small. Skip.                                            \n"
     ]
    },
    {
     "name": "stderr",
     "output_type": "stream",
     "text": [
      "\n",
      "Metrics:  70%|\u001b[34m███████   \u001b[0m| 7/10 [00:13<00:07,  2.66s/it, Batch correction: kbet_per_label]\u001b[A\n",
      "Metrics:  70%|\u001b[34m███████   \u001b[0m| 7/10 [00:13<00:07,  2.66s/it, Batch correction: graph_connectivity]\u001b[A\n",
      "Embeddings: 100%|\u001b[32m██████████\u001b[0m| 1/1 [00:13<00:00, 13.37s/it]atch correction: pcr_comparison]    \u001b[A\n",
      "\n",
      "                                                                                         \u001b[A/ictstr01/home/icb/fatemehs.hashemig/codes/interpretable-ssl/interpretable_ssl/trainers/trainer.py:321: FutureWarning: The frame.append method is deprecated and will be removed from pandas in a future version. Use pandas.concat instead.\n",
      "  overall_df = overall_df.append(fold_df, ignore_index=True)\n"
     ]
    },
    {
     "name": "stdout",
     "output_type": "stream",
     "text": [
      "Evaluating fold 6\n",
      "\u001b[34mINFO    \u001b[0m File \u001b[35m/home/icb/fatemehs.hashemig/models/\u001b[0m\u001b[35m/pbmc-immune/\u001b[0m\u001b[35m/scvi-latent_dim8_bs512_ccross-val/fold-6/\u001b[0m\u001b[95mmodel.pt\u001b[0m   \n",
      "         already downloaded                                                                                        \n"
     ]
    },
    {
     "name": "stderr",
     "output_type": "stream",
     "text": [
      "/home/icb/fatemehs.hashemig/miniconda3/envs/interpretable-ssl/lib/python3.12/multiprocessing/popen_fork.py:66: RuntimeWarning: os.fork() was called. os.fork() is incompatible with multithreaded code, and JAX is multithreaded, so this will likely lead to a deadlock.\n",
      "  self.pid = os.fork()\n",
      "Multiprocessing is handled by SLURM.\n",
      "GPU available: True (cuda), used: True\n",
      "TPU available: False, using: 0 TPU cores\n",
      "IPU available: False, using: 0 IPUs\n",
      "HPU available: False, using: 0 HPUs\n",
      "/home/icb/fatemehs.hashemig/miniconda3/envs/interpretable-ssl/lib/python3.12/multiprocessing/popen_fork.py:66: RuntimeWarning: os.fork() was called. os.fork() is incompatible with multithreaded code, and JAX is multithreaded, so this will likely lead to a deadlock.\n",
      "  self.pid = os.fork()\n",
      "LOCAL_RANK: 0 - CUDA_VISIBLE_DEVICES: [MIG-887fd1e0-585a-56c2-81f3-94f71fe4e1e3]\n",
      "SLURM auto-requeueing enabled. Setting signal handlers.\n"
     ]
    },
    {
     "name": "stdout",
     "output_type": "stream",
     "text": [
      "Epoch 50/50: 100%|██████████| 50/50 [00:48<00:00,  1.03s/it, loss=624, v_num=1]"
     ]
    },
    {
     "name": "stderr",
     "output_type": "stream",
     "text": [
      "`Trainer.fit` stopped: `max_epochs=50` reached.\n"
     ]
    },
    {
     "name": "stdout",
     "output_type": "stream",
     "text": [
      "Epoch 50/50: 100%|██████████| 50/50 [00:48<00:00,  1.03it/s, loss=624, v_num=1]\n",
      "\u001b[34mINFO    \u001b[0m AnnData object appears to be a copy. Attempting to transfer setup.                                        \n",
      "\u001b[34mINFO    \u001b[0m AnnData object appears to be a copy. Attempting to transfer setup.                                        \n"
     ]
    },
    {
     "name": "stderr",
     "output_type": "stream",
     "text": [
      "Computing neighbors: 100%|██████████| 1/1 [00:04<00:00,  4.89s/it]\n",
      "Embeddings:   0%|\u001b[32m          \u001b[0m| 0/1 [00:00<?, ?it/s]\n",
      "Metrics:   0%|\u001b[34m          \u001b[0m| 0/10 [00:00<?, ?it/s]\u001b[A\n",
      "Metrics:   0%|\u001b[34m          \u001b[0m| 0/10 [00:00<?, ?it/s, Bio conservation: isolated_labels]\u001b[A\n",
      "Metrics:  10%|\u001b[34m█         \u001b[0m| 1/10 [00:00<00:03,  2.69it/s, Bio conservation: isolated_labels]\u001b[A\n",
      "Metrics:  10%|\u001b[34m█         \u001b[0m| 1/10 [00:00<00:03,  2.69it/s, Bio conservation: nmi_ari_cluster_labels_kmeans]\u001b[A\n",
      "Metrics:  20%|\u001b[34m██        \u001b[0m| 2/10 [00:02<00:11,  1.40s/it, Bio conservation: nmi_ari_cluster_labels_kmeans]\u001b[A\n",
      "Metrics:  20%|\u001b[34m██        \u001b[0m| 2/10 [00:02<00:11,  1.40s/it, Bio conservation: silhouette_label]             \u001b[A\n",
      "Metrics:  30%|\u001b[34m███       \u001b[0m| 3/10 [00:02<00:06,  1.13it/s, Bio conservation: silhouette_label]\u001b[A\n",
      "Metrics:  30%|\u001b[34m███       \u001b[0m| 3/10 [00:02<00:06,  1.13it/s, Bio conservation: clisi_knn]       \u001b[A\n",
      "Metrics:  40%|\u001b[34m████      \u001b[0m| 4/10 [00:02<00:05,  1.13it/s, Batch correction: silhouette_batch]\u001b[A\n",
      "Metrics:  50%|\u001b[34m█████     \u001b[0m| 5/10 [00:02<00:02,  2.30it/s, Batch correction: silhouette_batch]\u001b[A\n",
      "Metrics:  50%|\u001b[34m█████     \u001b[0m| 5/10 [00:02<00:02,  2.30it/s, Batch correction: ilisi_knn]       \u001b[A\n",
      "Metrics:  60%|\u001b[34m██████    \u001b[0m| 6/10 [00:03<00:01,  2.30it/s, Batch correction: kbet_per_label]\u001b[A\n",
      "Metrics:  70%|\u001b[34m███████   \u001b[0m| 7/10 [00:10<00:05,  1.96s/it, Batch correction: kbet_per_label]\u001b[A\n",
      "Metrics:  70%|\u001b[34m███████   \u001b[0m| 7/10 [00:10<00:05,  1.96s/it, Batch correction: graph_connectivity]\u001b[A\n",
      "Metrics:  80%|\u001b[34m████████  \u001b[0m| 8/10 [00:10<00:03,  1.96s/it, Batch correction: pcr_comparison]    \u001b[A\n",
      "Embeddings: 100%|\u001b[32m██████████\u001b[0m| 1/1 [00:11<00:00, 11.10s/it]atch correction: pcr_comparison]\u001b[A\n",
      "\n",
      "                                                                                         \u001b[A/ictstr01/home/icb/fatemehs.hashemig/codes/interpretable-ssl/interpretable_ssl/trainers/trainer.py:321: FutureWarning: The frame.append method is deprecated and will be removed from pandas in a future version. Use pandas.concat instead.\n",
      "  overall_df = overall_df.append(fold_df, ignore_index=True)\n"
     ]
    },
    {
     "name": "stdout",
     "output_type": "stream",
     "text": [
      "Evaluating fold 7\n",
      "\u001b[34mINFO    \u001b[0m File \u001b[35m/home/icb/fatemehs.hashemig/models/\u001b[0m\u001b[35m/pbmc-immune/\u001b[0m\u001b[35m/scvi-latent_dim8_bs512_ccross-val/fold-7/\u001b[0m\u001b[95mmodel.pt\u001b[0m   \n",
      "         already downloaded                                                                                        \n"
     ]
    },
    {
     "name": "stderr",
     "output_type": "stream",
     "text": [
      "/home/icb/fatemehs.hashemig/miniconda3/envs/interpretable-ssl/lib/python3.12/multiprocessing/popen_fork.py:66: RuntimeWarning: os.fork() was called. os.fork() is incompatible with multithreaded code, and JAX is multithreaded, so this will likely lead to a deadlock.\n",
      "  self.pid = os.fork()\n",
      "Multiprocessing is handled by SLURM.\n",
      "GPU available: True (cuda), used: True\n",
      "TPU available: False, using: 0 TPU cores\n",
      "IPU available: False, using: 0 IPUs\n",
      "HPU available: False, using: 0 HPUs\n",
      "/home/icb/fatemehs.hashemig/miniconda3/envs/interpretable-ssl/lib/python3.12/multiprocessing/popen_fork.py:66: RuntimeWarning: os.fork() was called. os.fork() is incompatible with multithreaded code, and JAX is multithreaded, so this will likely lead to a deadlock.\n",
      "  self.pid = os.fork()\n",
      "LOCAL_RANK: 0 - CUDA_VISIBLE_DEVICES: [MIG-887fd1e0-585a-56c2-81f3-94f71fe4e1e3]\n",
      "SLURM auto-requeueing enabled. Setting signal handlers.\n"
     ]
    },
    {
     "name": "stdout",
     "output_type": "stream",
     "text": [
      "Epoch 50/50: 100%|██████████| 50/50 [00:17<00:00,  2.68it/s, loss=6.96e+03, v_num=1]"
     ]
    },
    {
     "name": "stderr",
     "output_type": "stream",
     "text": [
      "`Trainer.fit` stopped: `max_epochs=50` reached.\n"
     ]
    },
    {
     "name": "stdout",
     "output_type": "stream",
     "text": [
      "Epoch 50/50: 100%|██████████| 50/50 [00:17<00:00,  2.82it/s, loss=6.96e+03, v_num=1]\n",
      "\u001b[34mINFO    \u001b[0m AnnData object appears to be a copy. Attempting to transfer setup.                                        \n",
      "\u001b[34mINFO    \u001b[0m AnnData object appears to be a copy. Attempting to transfer setup.                                        \n"
     ]
    },
    {
     "name": "stderr",
     "output_type": "stream",
     "text": [
      "Computing neighbors: 100%|██████████| 1/1 [00:02<00:00,  2.40s/it]\n",
      "Embeddings:   0%|\u001b[32m          \u001b[0m| 0/1 [00:00<?, ?it/s]\n",
      "Metrics:   0%|\u001b[34m          \u001b[0m| 0/10 [00:00<?, ?it/s]\u001b[A\n",
      "Metrics:   0%|\u001b[34m          \u001b[0m| 0/10 [00:00<?, ?it/s, Bio conservation: isolated_labels]\u001b[A\n",
      "Metrics:  10%|\u001b[34m█         \u001b[0m| 1/10 [00:00<00:00, 14.69it/s, Bio conservation: nmi_ari_cluster_labels_kmeans]\u001b[A\n",
      "Metrics:  20%|\u001b[34m██        \u001b[0m| 2/10 [00:01<00:05,  1.43it/s, Bio conservation: nmi_ari_cluster_labels_kmeans]\u001b[A\n",
      "Metrics:  20%|\u001b[34m██        \u001b[0m| 2/10 [00:01<00:05,  1.43it/s, Bio conservation: silhouette_label]             \u001b[A\n",
      "Metrics:  30%|\u001b[34m███       \u001b[0m| 3/10 [00:01<00:04,  1.43it/s, Bio conservation: clisi_knn]       \u001b[A\n",
      "Metrics:  40%|\u001b[34m████      \u001b[0m| 4/10 [00:01<00:01,  3.11it/s, Bio conservation: clisi_knn]\u001b[A\n",
      "Metrics:  40%|\u001b[34m████      \u001b[0m| 4/10 [00:01<00:01,  3.11it/s, Batch correction: silhouette_batch]\u001b[A\n",
      "Metrics:  50%|\u001b[34m█████     \u001b[0m| 5/10 [00:01<00:01,  3.11it/s, Batch correction: ilisi_knn]       \u001b[A\n",
      "Metrics:  60%|\u001b[34m██████    \u001b[0m| 6/10 [00:01<00:01,  3.11it/s, Batch correction: kbet_per_label]\u001b[A"
     ]
    },
    {
     "name": "stdout",
     "output_type": "stream",
     "text": [
      "\u001b[34mINFO    \u001b[0m CD20+ B cells consists of a single batch or is too small. Skip.                                           \n",
      "\u001b[34mINFO    \u001b[0m CD4+ T cells consists of a single batch or is too small. Skip.                                            \n",
      "\u001b[34mINFO    \u001b[0m CD8+ T cells consists of a single batch or is too small. Skip.                                            \n",
      "\u001b[34mINFO    \u001b[0m Megakaryocyte progenitors consists of a single batch or is too small. Skip.                               \n",
      "\u001b[34mINFO    \u001b[0m Monocyte-derived dendritic cells consists of a single batch or is too small. Skip.                        \n",
      "\u001b[34mINFO    \u001b[0m NK cells consists of a single batch or is too small. Skip.                                                \n",
      "\u001b[34mINFO    \u001b[0m NKT cells consists of a single batch or is too small. Skip.                                               \n"
     ]
    },
    {
     "name": "stderr",
     "output_type": "stream",
     "text": [
      "\n",
      "Metrics:  70%|\u001b[34m███████   \u001b[0m| 7/10 [00:03<00:01,  2.36it/s, Batch correction: kbet_per_label]\u001b[A\n",
      "Metrics:  70%|\u001b[34m███████   \u001b[0m| 7/10 [00:03<00:01,  2.36it/s, Batch correction: graph_connectivity]\u001b[A\n",
      "Embeddings: 100%|\u001b[32m██████████\u001b[0m| 1/1 [00:03<00:00,  3.06s/it]atch correction: pcr_comparison]    \u001b[A\n",
      "\n",
      "                                                                                         \u001b[A/ictstr01/home/icb/fatemehs.hashemig/codes/interpretable-ssl/interpretable_ssl/trainers/trainer.py:321: FutureWarning: The frame.append method is deprecated and will be removed from pandas in a future version. Use pandas.concat instead.\n",
      "  overall_df = overall_df.append(fold_df, ignore_index=True)\n"
     ]
    },
    {
     "name": "stdout",
     "output_type": "stream",
     "text": [
      "Evaluating fold 8\n",
      "\u001b[34mINFO    \u001b[0m File \u001b[35m/home/icb/fatemehs.hashemig/models/\u001b[0m\u001b[35m/pbmc-immune/\u001b[0m\u001b[35m/scvi-latent_dim8_bs512_ccross-val/fold-8/\u001b[0m\u001b[95mmodel.pt\u001b[0m   \n",
      "         already downloaded                                                                                        \n"
     ]
    },
    {
     "name": "stderr",
     "output_type": "stream",
     "text": [
      "/home/icb/fatemehs.hashemig/miniconda3/envs/interpretable-ssl/lib/python3.12/multiprocessing/popen_fork.py:66: RuntimeWarning: os.fork() was called. os.fork() is incompatible with multithreaded code, and JAX is multithreaded, so this will likely lead to a deadlock.\n",
      "  self.pid = os.fork()\n",
      "Multiprocessing is handled by SLURM.\n",
      "GPU available: True (cuda), used: True\n",
      "TPU available: False, using: 0 TPU cores\n",
      "IPU available: False, using: 0 IPUs\n",
      "HPU available: False, using: 0 HPUs\n",
      "/home/icb/fatemehs.hashemig/miniconda3/envs/interpretable-ssl/lib/python3.12/multiprocessing/popen_fork.py:66: RuntimeWarning: os.fork() was called. os.fork() is incompatible with multithreaded code, and JAX is multithreaded, so this will likely lead to a deadlock.\n",
      "  self.pid = os.fork()\n",
      "LOCAL_RANK: 0 - CUDA_VISIBLE_DEVICES: [MIG-887fd1e0-585a-56c2-81f3-94f71fe4e1e3]\n",
      "SLURM auto-requeueing enabled. Setting signal handlers.\n"
     ]
    },
    {
     "name": "stdout",
     "output_type": "stream",
     "text": [
      "Epoch 50/50: 100%|██████████| 50/50 [01:05<00:00,  1.08it/s, loss=994, v_num=1]     "
     ]
    },
    {
     "name": "stderr",
     "output_type": "stream",
     "text": [
      "`Trainer.fit` stopped: `max_epochs=50` reached.\n"
     ]
    },
    {
     "name": "stdout",
     "output_type": "stream",
     "text": [
      "Epoch 50/50: 100%|██████████| 50/50 [01:05<00:00,  1.31s/it, loss=994, v_num=1]\n",
      "\u001b[34mINFO    \u001b[0m AnnData object appears to be a copy. Attempting to transfer setup.                                        \n",
      "\u001b[34mINFO    \u001b[0m AnnData object appears to be a copy. Attempting to transfer setup.                                        \n"
     ]
    },
    {
     "name": "stderr",
     "output_type": "stream",
     "text": [
      "Computing neighbors: 100%|██████████| 1/1 [00:07<00:00,  7.57s/it]\n",
      "Embeddings:   0%|\u001b[32m          \u001b[0m| 0/1 [00:00<?, ?it/s]\n",
      "Metrics:   0%|\u001b[34m          \u001b[0m| 0/10 [00:00<?, ?it/s]\u001b[A\n",
      "Metrics:   0%|\u001b[34m          \u001b[0m| 0/10 [00:00<?, ?it/s, Bio conservation: isolated_labels]\u001b[A\n",
      "Metrics:  10%|\u001b[34m█         \u001b[0m| 1/10 [00:00<00:06,  1.47it/s, Bio conservation: isolated_labels]\u001b[A\n",
      "Metrics:  10%|\u001b[34m█         \u001b[0m| 1/10 [00:00<00:06,  1.47it/s, Bio conservation: nmi_ari_cluster_labels_kmeans]\u001b[A\n",
      "Metrics:  20%|\u001b[34m██        \u001b[0m| 2/10 [00:06<00:29,  3.66s/it, Bio conservation: nmi_ari_cluster_labels_kmeans]\u001b[A\n",
      "Metrics:  20%|\u001b[34m██        \u001b[0m| 2/10 [00:06<00:29,  3.66s/it, Bio conservation: silhouette_label]             \u001b[A\n",
      "Metrics:  30%|\u001b[34m███       \u001b[0m| 3/10 [00:07<00:16,  2.36s/it, Bio conservation: silhouette_label]\u001b[A\n",
      "Metrics:  30%|\u001b[34m███       \u001b[0m| 3/10 [00:07<00:16,  2.36s/it, Bio conservation: clisi_knn]       \u001b[A\n",
      "Metrics:  40%|\u001b[34m████      \u001b[0m| 4/10 [00:07<00:08,  1.49s/it, Bio conservation: clisi_knn]\u001b[A\n",
      "Metrics:  40%|\u001b[34m████      \u001b[0m| 4/10 [00:07<00:08,  1.49s/it, Batch correction: silhouette_batch]\u001b[A\n",
      "Metrics:  50%|\u001b[34m█████     \u001b[0m| 5/10 [00:07<00:05,  1.08s/it, Batch correction: silhouette_batch]\u001b[A\n",
      "Metrics:  50%|\u001b[34m█████     \u001b[0m| 5/10 [00:07<00:05,  1.08s/it, Batch correction: ilisi_knn]       \u001b[A\n",
      "Metrics:  60%|\u001b[34m██████    \u001b[0m| 6/10 [00:07<00:03,  1.31it/s, Batch correction: ilisi_knn]\u001b[A\n",
      "Metrics:  60%|\u001b[34m██████    \u001b[0m| 6/10 [00:07<00:03,  1.31it/s, Batch correction: kbet_per_label]\u001b[A"
     ]
    },
    {
     "name": "stdout",
     "output_type": "stream",
     "text": [
      "\u001b[34mINFO    \u001b[0m HSPCs consists of a single batch or is too small. Skip.                                                   \n",
      "\u001b[34mINFO    \u001b[0m Plasma cells consists of a single batch or is too small. Skip.                                            \n"
     ]
    },
    {
     "name": "stderr",
     "output_type": "stream",
     "text": [
      "\n",
      "Metrics:  70%|\u001b[34m███████   \u001b[0m| 7/10 [00:20<00:13,  4.66s/it, Batch correction: kbet_per_label]\u001b[A\n",
      "Metrics:  70%|\u001b[34m███████   \u001b[0m| 7/10 [00:20<00:13,  4.66s/it, Batch correction: graph_connectivity]\u001b[A\n",
      "Embeddings: 100%|\u001b[32m██████████\u001b[0m| 1/1 [00:20<00:00, 20.68s/it]atch correction: pcr_comparison]    \u001b[A\n",
      "\n",
      "                                                                                         \u001b[A/ictstr01/home/icb/fatemehs.hashemig/codes/interpretable-ssl/interpretable_ssl/trainers/trainer.py:321: FutureWarning: The frame.append method is deprecated and will be removed from pandas in a future version. Use pandas.concat instead.\n",
      "  overall_df = overall_df.append(fold_df, ignore_index=True)\n"
     ]
    },
    {
     "name": "stdout",
     "output_type": "stream",
     "text": [
      "Evaluating fold 9\n",
      "\u001b[34mINFO    \u001b[0m File \u001b[35m/home/icb/fatemehs.hashemig/models/\u001b[0m\u001b[35m/pbmc-immune/\u001b[0m\u001b[35m/scvi-latent_dim8_bs512_ccross-val/fold-9/\u001b[0m\u001b[95mmodel.pt\u001b[0m   \n",
      "         already downloaded                                                                                        \n"
     ]
    },
    {
     "name": "stderr",
     "output_type": "stream",
     "text": [
      "/home/icb/fatemehs.hashemig/miniconda3/envs/interpretable-ssl/lib/python3.12/multiprocessing/popen_fork.py:66: RuntimeWarning: os.fork() was called. os.fork() is incompatible with multithreaded code, and JAX is multithreaded, so this will likely lead to a deadlock.\n",
      "  self.pid = os.fork()\n",
      "Multiprocessing is handled by SLURM.\n",
      "GPU available: True (cuda), used: True\n",
      "TPU available: False, using: 0 TPU cores\n",
      "IPU available: False, using: 0 IPUs\n",
      "HPU available: False, using: 0 HPUs\n",
      "/home/icb/fatemehs.hashemig/miniconda3/envs/interpretable-ssl/lib/python3.12/multiprocessing/popen_fork.py:66: RuntimeWarning: os.fork() was called. os.fork() is incompatible with multithreaded code, and JAX is multithreaded, so this will likely lead to a deadlock.\n",
      "  self.pid = os.fork()\n",
      "LOCAL_RANK: 0 - CUDA_VISIBLE_DEVICES: [MIG-887fd1e0-585a-56c2-81f3-94f71fe4e1e3]\n",
      "SLURM auto-requeueing enabled. Setting signal handlers.\n"
     ]
    },
    {
     "name": "stdout",
     "output_type": "stream",
     "text": [
      "Epoch 50/50: 100%|██████████| 50/50 [00:35<00:00,  1.28it/s, loss=3.81e+03, v_num=1]"
     ]
    },
    {
     "name": "stderr",
     "output_type": "stream",
     "text": [
      "`Trainer.fit` stopped: `max_epochs=50` reached.\n"
     ]
    },
    {
     "name": "stdout",
     "output_type": "stream",
     "text": [
      "Epoch 50/50: 100%|██████████| 50/50 [00:35<00:00,  1.40it/s, loss=3.81e+03, v_num=1]\n",
      "\u001b[34mINFO    \u001b[0m AnnData object appears to be a copy. Attempting to transfer setup.                                        \n",
      "\u001b[34mINFO    \u001b[0m AnnData object appears to be a copy. Attempting to transfer setup.                                        \n"
     ]
    },
    {
     "name": "stderr",
     "output_type": "stream",
     "text": [
      "Computing neighbors: 100%|██████████| 1/1 [00:05<00:00,  5.75s/it]\n",
      "Embeddings:   0%|\u001b[32m          \u001b[0m| 0/1 [00:00<?, ?it/s]\n",
      "Metrics:   0%|\u001b[34m          \u001b[0m| 0/10 [00:00<?, ?it/s]\u001b[A\n",
      "Metrics:   0%|\u001b[34m          \u001b[0m| 0/10 [00:00<?, ?it/s, Bio conservation: isolated_labels]\u001b[A\n",
      "Metrics:  10%|\u001b[34m█         \u001b[0m| 1/10 [00:00<00:03,  2.38it/s, Bio conservation: isolated_labels]\u001b[A\n",
      "Metrics:  10%|\u001b[34m█         \u001b[0m| 1/10 [00:00<00:03,  2.38it/s, Bio conservation: nmi_ari_cluster_labels_kmeans]\u001b[A\n",
      "Metrics:  20%|\u001b[34m██        \u001b[0m| 2/10 [00:02<00:12,  1.53s/it, Bio conservation: nmi_ari_cluster_labels_kmeans]\u001b[A\n",
      "Metrics:  20%|\u001b[34m██        \u001b[0m| 2/10 [00:02<00:12,  1.53s/it, Bio conservation: silhouette_label]             \u001b[A\n",
      "Metrics:  30%|\u001b[34m███       \u001b[0m| 3/10 [00:03<00:06,  1.02it/s, Bio conservation: silhouette_label]\u001b[A\n",
      "Metrics:  30%|\u001b[34m███       \u001b[0m| 3/10 [00:03<00:06,  1.02it/s, Bio conservation: clisi_knn]       \u001b[A\n",
      "Metrics:  40%|\u001b[34m████      \u001b[0m| 4/10 [00:03<00:05,  1.02it/s, Batch correction: silhouette_batch]\u001b[A\n",
      "Metrics:  50%|\u001b[34m█████     \u001b[0m| 5/10 [00:03<00:02,  2.18it/s, Batch correction: silhouette_batch]\u001b[A\n",
      "Metrics:  50%|\u001b[34m█████     \u001b[0m| 5/10 [00:03<00:02,  2.18it/s, Batch correction: ilisi_knn]       \u001b[A\n",
      "Metrics:  60%|\u001b[34m██████    \u001b[0m| 6/10 [00:03<00:01,  2.18it/s, Batch correction: kbet_per_label]\u001b[A"
     ]
    },
    {
     "name": "stdout",
     "output_type": "stream",
     "text": [
      "\u001b[34mINFO    \u001b[0m CD20+ B cells consists of a single batch or is too small. Skip.                                           \n",
      "\u001b[34mINFO    \u001b[0m CD4+ T cells consists of a single batch or is too small. Skip.                                            \n",
      "\u001b[34mINFO    \u001b[0m CD8+ T cells consists of a single batch or is too small. Skip.                                            \n",
      "\u001b[34mINFO    \u001b[0m HSPCs consists of a single batch or is too small. Skip.                                                   \n",
      "\u001b[34mINFO    \u001b[0m Megakaryocyte progenitors consists of a single batch or is too small. Skip.                               \n",
      "\u001b[34mINFO    \u001b[0m NK cells consists of a single batch or is too small. Skip.                                                \n",
      "\u001b[34mINFO    \u001b[0m NKT cells consists of a single batch or is too small. Skip.                                               \n",
      "\u001b[34mINFO    \u001b[0m Plasma cells consists of a single batch or is too small. Skip.                                            \n"
     ]
    },
    {
     "name": "stderr",
     "output_type": "stream",
     "text": [
      "\n",
      "Metrics:  70%|\u001b[34m███████   \u001b[0m| 7/10 [00:06<00:02,  1.09it/s, Batch correction: kbet_per_label]\u001b[A\n",
      "Metrics:  70%|\u001b[34m███████   \u001b[0m| 7/10 [00:06<00:02,  1.09it/s, Batch correction: graph_connectivity]\u001b[A\n",
      "Embeddings: 100%|\u001b[32m██████████\u001b[0m| 1/1 [00:06<00:00,  6.20s/it]atch correction: pcr_comparison]    \u001b[A\n",
      "\n",
      "                                                                                         \u001b[A/ictstr01/home/icb/fatemehs.hashemig/codes/interpretable-ssl/interpretable_ssl/trainers/trainer.py:321: FutureWarning: The frame.append method is deprecated and will be removed from pandas in a future version. Use pandas.concat instead.\n",
      "  overall_df = overall_df.append(fold_df, ignore_index=True)\n"
     ]
    },
    {
     "name": "stdout",
     "output_type": "stream",
     "text": [
      "Evaluating fold 10\n",
      "\u001b[34mINFO    \u001b[0m File \u001b[35m/home/icb/fatemehs.hashemig/models/\u001b[0m\u001b[35m/pbmc-immune/\u001b[0m\u001b[35m/scvi-latent_dim8_bs512_ccross-val/fold-10/\u001b[0m\u001b[95mmodel.pt\u001b[0m  \n",
      "         already downloaded                                                                                        \n"
     ]
    },
    {
     "name": "stderr",
     "output_type": "stream",
     "text": [
      "/home/icb/fatemehs.hashemig/miniconda3/envs/interpretable-ssl/lib/python3.12/multiprocessing/popen_fork.py:66: RuntimeWarning: os.fork() was called. os.fork() is incompatible with multithreaded code, and JAX is multithreaded, so this will likely lead to a deadlock.\n",
      "  self.pid = os.fork()\n",
      "Multiprocessing is handled by SLURM.\n",
      "GPU available: True (cuda), used: True\n",
      "TPU available: False, using: 0 TPU cores\n",
      "IPU available: False, using: 0 IPUs\n",
      "HPU available: False, using: 0 HPUs\n",
      "/home/icb/fatemehs.hashemig/miniconda3/envs/interpretable-ssl/lib/python3.12/multiprocessing/popen_fork.py:66: RuntimeWarning: os.fork() was called. os.fork() is incompatible with multithreaded code, and JAX is multithreaded, so this will likely lead to a deadlock.\n",
      "  self.pid = os.fork()\n",
      "LOCAL_RANK: 0 - CUDA_VISIBLE_DEVICES: [MIG-887fd1e0-585a-56c2-81f3-94f71fe4e1e3]\n",
      "SLURM auto-requeueing enabled. Setting signal handlers.\n"
     ]
    },
    {
     "name": "stdout",
     "output_type": "stream",
     "text": [
      "Epoch 50/50: 100%|██████████| 50/50 [00:36<00:00,  1.21it/s, loss=3.43e+03, v_num=1]"
     ]
    },
    {
     "name": "stderr",
     "output_type": "stream",
     "text": [
      "`Trainer.fit` stopped: `max_epochs=50` reached.\n"
     ]
    },
    {
     "name": "stdout",
     "output_type": "stream",
     "text": [
      "Epoch 50/50: 100%|██████████| 50/50 [00:36<00:00,  1.37it/s, loss=3.43e+03, v_num=1]\n",
      "\u001b[34mINFO    \u001b[0m AnnData object appears to be a copy. Attempting to transfer setup.                                        \n",
      "\u001b[34mINFO    \u001b[0m AnnData object appears to be a copy. Attempting to transfer setup.                                        \n"
     ]
    },
    {
     "name": "stderr",
     "output_type": "stream",
     "text": [
      "Computing neighbors: 100%|██████████| 1/1 [00:04<00:00,  4.67s/it]\n",
      "Embeddings:   0%|\u001b[32m          \u001b[0m| 0/1 [00:00<?, ?it/s]\n",
      "Metrics:   0%|\u001b[34m          \u001b[0m| 0/10 [00:00<?, ?it/s]\u001b[A\n",
      "Metrics:   0%|\u001b[34m          \u001b[0m| 0/10 [00:00<?, ?it/s, Bio conservation: isolated_labels]\u001b[A\n",
      "Metrics:  10%|\u001b[34m█         \u001b[0m| 1/10 [00:00<00:01,  5.64it/s, Bio conservation: isolated_labels]\u001b[A\n",
      "Metrics:  10%|\u001b[34m█         \u001b[0m| 1/10 [00:00<00:01,  5.64it/s, Bio conservation: nmi_ari_cluster_labels_kmeans]\u001b[A\n",
      "Metrics:  20%|\u001b[34m██        \u001b[0m| 2/10 [00:01<00:08,  1.02s/it, Bio conservation: nmi_ari_cluster_labels_kmeans]\u001b[A\n",
      "Metrics:  20%|\u001b[34m██        \u001b[0m| 2/10 [00:01<00:08,  1.02s/it, Bio conservation: silhouette_label]             \u001b[A\n",
      "Metrics:  30%|\u001b[34m███       \u001b[0m| 3/10 [00:02<00:04,  1.49it/s, Bio conservation: silhouette_label]\u001b[A\n",
      "Metrics:  30%|\u001b[34m███       \u001b[0m| 3/10 [00:02<00:04,  1.49it/s, Bio conservation: clisi_knn]       \u001b[A\n",
      "Metrics:  40%|\u001b[34m████      \u001b[0m| 4/10 [00:02<00:04,  1.49it/s, Batch correction: silhouette_batch]\u001b[A\n",
      "Metrics:  50%|\u001b[34m█████     \u001b[0m| 5/10 [00:02<00:01,  2.87it/s, Batch correction: silhouette_batch]\u001b[A\n",
      "Metrics:  50%|\u001b[34m█████     \u001b[0m| 5/10 [00:02<00:01,  2.87it/s, Batch correction: ilisi_knn]       \u001b[A\n",
      "Metrics:  60%|\u001b[34m██████    \u001b[0m| 6/10 [00:02<00:01,  2.87it/s, Batch correction: kbet_per_label]\u001b[A\n",
      "Metrics:  70%|\u001b[34m███████   \u001b[0m| 7/10 [00:09<00:05,  1.74s/it, Batch correction: kbet_per_label]\u001b[A\n",
      "Metrics:  70%|\u001b[34m███████   \u001b[0m| 7/10 [00:09<00:05,  1.74s/it, Batch correction: graph_connectivity]\u001b[A\n",
      "Embeddings: 100%|\u001b[32m██████████\u001b[0m| 1/1 [00:09<00:00,  9.24s/it]atch correction: pcr_comparison]    \u001b[A\n",
      "\n",
      "                                                                                         \u001b[A/ictstr01/home/icb/fatemehs.hashemig/codes/interpretable-ssl/interpretable_ssl/trainers/trainer.py:321: FutureWarning: The frame.append method is deprecated and will be removed from pandas in a future version. Use pandas.concat instead.\n",
      "  overall_df = overall_df.append(fold_df, ignore_index=True)\n"
     ]
    },
    {
     "data": {
      "text/plain": [
       "(                                     Isolated labels  KMeans NMI  KMeans ARI  \\\n",
       " trainer                                                                        \n",
       " barlow-num-prot-16_hidden-64_bs-512         0.641688    0.644365    0.422731   \n",
       " barlow-num-prot-32_hidden-64_bs-512         0.646254    0.648551    0.436815   \n",
       " scpoli-original-latent_dim8_bs512           0.680112    0.701193    0.525359   \n",
       " scvi-latent_dim8_bs512                      0.646387    0.683340    0.485468   \n",
       " simclr-num-prot-16_hidden-64_bs-512         0.657351    0.675843    0.462521   \n",
       " \n",
       "                                      Silhouette label     cLISI  \\\n",
       " trainer                                                           \n",
       " barlow-num-prot-16_hidden-64_bs-512          0.575524  0.981635   \n",
       " barlow-num-prot-32_hidden-64_bs-512          0.581645  0.982618   \n",
       " scpoli-original-latent_dim8_bs512            0.623122  0.990888   \n",
       " scvi-latent_dim8_bs512                       0.583205  0.992197   \n",
       " simclr-num-prot-16_hidden-64_bs-512          0.592092  0.987881   \n",
       " \n",
       "                                      Silhouette batch     iLISI      KBET  \\\n",
       " trainer                                                                     \n",
       " barlow-num-prot-16_hidden-64_bs-512          0.788640  0.241616  0.409873   \n",
       " barlow-num-prot-32_hidden-64_bs-512          0.790548  0.236998  0.435990   \n",
       " scpoli-original-latent_dim8_bs512            0.771006  0.299171  0.488597   \n",
       " scvi-latent_dim8_bs512                       0.817930  0.221461  0.372219   \n",
       " simclr-num-prot-16_hidden-64_bs-512          0.823351  0.267542  0.420972   \n",
       " \n",
       "                                      Graph connectivity  PCR comparison  \\\n",
       " trainer                                                                   \n",
       " barlow-num-prot-16_hidden-64_bs-512            0.877861        0.713269   \n",
       " barlow-num-prot-32_hidden-64_bs-512            0.867323        0.678996   \n",
       " scpoli-original-latent_dim8_bs512              0.895195        0.719661   \n",
       " scvi-latent_dim8_bs512                         0.912276        0.667850   \n",
       " simclr-num-prot-16_hidden-64_bs-512            0.890487        0.712410   \n",
       " \n",
       "                                      Batch correction  Bio conservation  \\\n",
       " trainer                                                                   \n",
       " barlow-num-prot-16_hidden-64_bs-512          0.606252          0.653188   \n",
       " barlow-num-prot-32_hidden-64_bs-512          0.601971          0.659177   \n",
       " scpoli-original-latent_dim8_bs512            0.634726          0.704135   \n",
       " scvi-latent_dim8_bs512                       0.598347          0.678120   \n",
       " simclr-num-prot-16_hidden-64_bs-512          0.622952          0.675138   \n",
       " \n",
       "                                         Total  \n",
       " trainer                                        \n",
       " barlow-num-prot-16_hidden-64_bs-512  0.634414  \n",
       " barlow-num-prot-32_hidden-64_bs-512  0.636294  \n",
       " scpoli-original-latent_dim8_bs512    0.676371  \n",
       " scvi-latent_dim8_bs512               0.646211  \n",
       " simclr-num-prot-16_hidden-64_bs-512  0.654264  ,\n",
       "     Isolated labels  KMeans NMI  KMeans ARI  Silhouette label     cLISI  \\\n",
       " 0          0.564417    0.572365    0.337129          0.523660  0.960713   \n",
       " 1               NaN         NaN         NaN               NaN       NaN   \n",
       " 2          0.527625    0.596942    0.392539          0.575428  0.977655   \n",
       " 3               NaN         NaN         NaN               NaN       NaN   \n",
       " 4          0.511240    0.631457    0.380244          0.568437  0.978841   \n",
       " ..              ...         ...         ...               ...       ...   \n",
       " 95              NaN         NaN         NaN               NaN       NaN   \n",
       " 96         0.676925    0.740664    0.597282          0.628061  0.999733   \n",
       " 97              NaN         NaN         NaN               NaN       NaN   \n",
       " 98         0.648604    0.753461    0.583708          0.567009  0.996738   \n",
       " 99              NaN         NaN         NaN               NaN       NaN   \n",
       " \n",
       "     Silhouette batch     iLISI      KBET  Graph connectivity  PCR comparison  \\\n",
       " 0           0.868975  0.378786  0.463689            0.871540        0.836626   \n",
       " 1                NaN       NaN       NaN                 NaN             NaN   \n",
       " 2           0.851558  0.287182  0.413405            0.833506        0.823782   \n",
       " 3                NaN       NaN       NaN                 NaN             NaN   \n",
       " 4           0.850661  0.325793  0.449856            0.889222        0.723374   \n",
       " ..               ...       ...       ...                 ...             ...   \n",
       " 95               NaN       NaN       NaN                 NaN             NaN   \n",
       " 96          0.530231  0.000000  0.250700            0.934639        0.747924   \n",
       " 97               NaN       NaN       NaN                 NaN             NaN   \n",
       " 98          0.872081  0.369058  0.324170            0.896496        0.842442   \n",
       " 99               NaN       NaN       NaN                 NaN             NaN   \n",
       " \n",
       "     Batch correction  Bio conservation     Total  fold  \\\n",
       " 0           0.683923          0.591657  0.628563     1   \n",
       " 1                NaN               NaN       NaN     1   \n",
       " 2           0.641887          0.614038  0.625177     2   \n",
       " 3                NaN               NaN       NaN     2   \n",
       " 4           0.647781          0.614044  0.627539     3   \n",
       " ..               ...               ...       ...   ...   \n",
       " 95               NaN               NaN       NaN     8   \n",
       " 96          0.492699          0.728533  0.634199     9   \n",
       " 97               NaN               NaN       NaN     9   \n",
       " 98          0.660849          0.709904  0.690282    10   \n",
       " 99               NaN               NaN       NaN    10   \n",
       " \n",
       "                                 trainer  \n",
       " 0   barlow-num-prot-16_hidden-64_bs-512  \n",
       " 1   barlow-num-prot-16_hidden-64_bs-512  \n",
       " 2   barlow-num-prot-16_hidden-64_bs-512  \n",
       " 3   barlow-num-prot-16_hidden-64_bs-512  \n",
       " 4   barlow-num-prot-16_hidden-64_bs-512  \n",
       " ..                                  ...  \n",
       " 95               scvi-latent_dim8_bs512  \n",
       " 96               scvi-latent_dim8_bs512  \n",
       " 97               scvi-latent_dim8_bs512  \n",
       " 98               scvi-latent_dim8_bs512  \n",
       " 99               scvi-latent_dim8_bs512  \n",
       " \n",
       " [100 rows x 15 columns])"
      ]
     },
     "execution_count": 15,
     "metadata": {},
     "output_type": "execute_result"
    }
   ],
   "source": [
    "df = compare_trainers_query_cross_val(trainers)\n",
    "df"
   ]
  },
  {
   "cell_type": "code",
   "execution_count": 19,
   "id": "ae77b858-557a-4669-8121-9324dd23a511",
   "metadata": {},
   "outputs": [],
   "source": [
    "res, fold_res = df"
   ]
  },
  {
   "cell_type": "code",
   "execution_count": 20,
   "id": "f3458252-60c7-4692-ae7a-127b2c489b3e",
   "metadata": {},
   "outputs": [
    {
     "data": {
      "text/html": [
       "<div>\n",
       "<style scoped>\n",
       "    .dataframe tbody tr th:only-of-type {\n",
       "        vertical-align: middle;\n",
       "    }\n",
       "\n",
       "    .dataframe tbody tr th {\n",
       "        vertical-align: top;\n",
       "    }\n",
       "\n",
       "    .dataframe thead th {\n",
       "        text-align: right;\n",
       "    }\n",
       "</style>\n",
       "<table border=\"1\" class=\"dataframe\">\n",
       "  <thead>\n",
       "    <tr style=\"text-align: right;\">\n",
       "      <th></th>\n",
       "      <th>Isolated labels</th>\n",
       "      <th>KMeans NMI</th>\n",
       "      <th>KMeans ARI</th>\n",
       "      <th>Silhouette label</th>\n",
       "      <th>cLISI</th>\n",
       "      <th>Silhouette batch</th>\n",
       "      <th>iLISI</th>\n",
       "      <th>KBET</th>\n",
       "      <th>Graph connectivity</th>\n",
       "      <th>PCR comparison</th>\n",
       "      <th>Batch correction</th>\n",
       "      <th>Bio conservation</th>\n",
       "      <th>Total</th>\n",
       "    </tr>\n",
       "    <tr>\n",
       "      <th>trainer</th>\n",
       "      <th></th>\n",
       "      <th></th>\n",
       "      <th></th>\n",
       "      <th></th>\n",
       "      <th></th>\n",
       "      <th></th>\n",
       "      <th></th>\n",
       "      <th></th>\n",
       "      <th></th>\n",
       "      <th></th>\n",
       "      <th></th>\n",
       "      <th></th>\n",
       "      <th></th>\n",
       "    </tr>\n",
       "  </thead>\n",
       "  <tbody>\n",
       "    <tr>\n",
       "      <th>barlow-num-prot-16_hidden-64_bs-512</th>\n",
       "      <td>0.641688</td>\n",
       "      <td>0.644365</td>\n",
       "      <td>0.422731</td>\n",
       "      <td>0.575524</td>\n",
       "      <td>0.981635</td>\n",
       "      <td>0.788640</td>\n",
       "      <td>0.241616</td>\n",
       "      <td>0.409873</td>\n",
       "      <td>0.877861</td>\n",
       "      <td>0.713269</td>\n",
       "      <td>0.606252</td>\n",
       "      <td>0.653188</td>\n",
       "      <td>0.634414</td>\n",
       "    </tr>\n",
       "    <tr>\n",
       "      <th>barlow-num-prot-32_hidden-64_bs-512</th>\n",
       "      <td>0.646254</td>\n",
       "      <td>0.648551</td>\n",
       "      <td>0.436815</td>\n",
       "      <td>0.581645</td>\n",
       "      <td>0.982618</td>\n",
       "      <td>0.790548</td>\n",
       "      <td>0.236998</td>\n",
       "      <td>0.435990</td>\n",
       "      <td>0.867323</td>\n",
       "      <td>0.678996</td>\n",
       "      <td>0.601971</td>\n",
       "      <td>0.659177</td>\n",
       "      <td>0.636294</td>\n",
       "    </tr>\n",
       "    <tr>\n",
       "      <th>scpoli-original-latent_dim8_bs512</th>\n",
       "      <td>0.680112</td>\n",
       "      <td>0.701193</td>\n",
       "      <td>0.525359</td>\n",
       "      <td>0.623122</td>\n",
       "      <td>0.990888</td>\n",
       "      <td>0.771006</td>\n",
       "      <td>0.299171</td>\n",
       "      <td>0.488597</td>\n",
       "      <td>0.895195</td>\n",
       "      <td>0.719661</td>\n",
       "      <td>0.634726</td>\n",
       "      <td>0.704135</td>\n",
       "      <td>0.676371</td>\n",
       "    </tr>\n",
       "    <tr>\n",
       "      <th>scvi-latent_dim8_bs512</th>\n",
       "      <td>0.646387</td>\n",
       "      <td>0.683340</td>\n",
       "      <td>0.485468</td>\n",
       "      <td>0.583205</td>\n",
       "      <td>0.992197</td>\n",
       "      <td>0.817930</td>\n",
       "      <td>0.221461</td>\n",
       "      <td>0.372219</td>\n",
       "      <td>0.912276</td>\n",
       "      <td>0.667850</td>\n",
       "      <td>0.598347</td>\n",
       "      <td>0.678120</td>\n",
       "      <td>0.646211</td>\n",
       "    </tr>\n",
       "    <tr>\n",
       "      <th>simclr-num-prot-16_hidden-64_bs-512</th>\n",
       "      <td>0.657351</td>\n",
       "      <td>0.675843</td>\n",
       "      <td>0.462521</td>\n",
       "      <td>0.592092</td>\n",
       "      <td>0.987881</td>\n",
       "      <td>0.823351</td>\n",
       "      <td>0.267542</td>\n",
       "      <td>0.420972</td>\n",
       "      <td>0.890487</td>\n",
       "      <td>0.712410</td>\n",
       "      <td>0.622952</td>\n",
       "      <td>0.675138</td>\n",
       "      <td>0.654264</td>\n",
       "    </tr>\n",
       "  </tbody>\n",
       "</table>\n",
       "</div>"
      ],
      "text/plain": [
       "                                     Isolated labels  KMeans NMI  KMeans ARI  \\\n",
       "trainer                                                                        \n",
       "barlow-num-prot-16_hidden-64_bs-512         0.641688    0.644365    0.422731   \n",
       "barlow-num-prot-32_hidden-64_bs-512         0.646254    0.648551    0.436815   \n",
       "scpoli-original-latent_dim8_bs512           0.680112    0.701193    0.525359   \n",
       "scvi-latent_dim8_bs512                      0.646387    0.683340    0.485468   \n",
       "simclr-num-prot-16_hidden-64_bs-512         0.657351    0.675843    0.462521   \n",
       "\n",
       "                                     Silhouette label     cLISI  \\\n",
       "trainer                                                           \n",
       "barlow-num-prot-16_hidden-64_bs-512          0.575524  0.981635   \n",
       "barlow-num-prot-32_hidden-64_bs-512          0.581645  0.982618   \n",
       "scpoli-original-latent_dim8_bs512            0.623122  0.990888   \n",
       "scvi-latent_dim8_bs512                       0.583205  0.992197   \n",
       "simclr-num-prot-16_hidden-64_bs-512          0.592092  0.987881   \n",
       "\n",
       "                                     Silhouette batch     iLISI      KBET  \\\n",
       "trainer                                                                     \n",
       "barlow-num-prot-16_hidden-64_bs-512          0.788640  0.241616  0.409873   \n",
       "barlow-num-prot-32_hidden-64_bs-512          0.790548  0.236998  0.435990   \n",
       "scpoli-original-latent_dim8_bs512            0.771006  0.299171  0.488597   \n",
       "scvi-latent_dim8_bs512                       0.817930  0.221461  0.372219   \n",
       "simclr-num-prot-16_hidden-64_bs-512          0.823351  0.267542  0.420972   \n",
       "\n",
       "                                     Graph connectivity  PCR comparison  \\\n",
       "trainer                                                                   \n",
       "barlow-num-prot-16_hidden-64_bs-512            0.877861        0.713269   \n",
       "barlow-num-prot-32_hidden-64_bs-512            0.867323        0.678996   \n",
       "scpoli-original-latent_dim8_bs512              0.895195        0.719661   \n",
       "scvi-latent_dim8_bs512                         0.912276        0.667850   \n",
       "simclr-num-prot-16_hidden-64_bs-512            0.890487        0.712410   \n",
       "\n",
       "                                     Batch correction  Bio conservation  \\\n",
       "trainer                                                                   \n",
       "barlow-num-prot-16_hidden-64_bs-512          0.606252          0.653188   \n",
       "barlow-num-prot-32_hidden-64_bs-512          0.601971          0.659177   \n",
       "scpoli-original-latent_dim8_bs512            0.634726          0.704135   \n",
       "scvi-latent_dim8_bs512                       0.598347          0.678120   \n",
       "simclr-num-prot-16_hidden-64_bs-512          0.622952          0.675138   \n",
       "\n",
       "                                        Total  \n",
       "trainer                                        \n",
       "barlow-num-prot-16_hidden-64_bs-512  0.634414  \n",
       "barlow-num-prot-32_hidden-64_bs-512  0.636294  \n",
       "scpoli-original-latent_dim8_bs512    0.676371  \n",
       "scvi-latent_dim8_bs512               0.646211  \n",
       "simclr-num-prot-16_hidden-64_bs-512  0.654264  "
      ]
     },
     "execution_count": 20,
     "metadata": {},
     "output_type": "execute_result"
    }
   ],
   "source": [
    "res"
   ]
  },
  {
   "cell_type": "raw",
   "id": "19c7fc67-dc8b-4259-abce-b93c0ddc6037",
   "metadata": {
    "jp-MarkdownHeadingCollapsed": true
   },
   "source": [
    "# compare on query, cross val, 100 epochs"
   ]
  },
  {
   "cell_type": "code",
   "execution_count": 31,
   "id": "0eb1c65f-66e0-4439-93a3-a4e88ebeafda",
   "metadata": {
    "scrolled": true
   },
   "outputs": [
    {
     "name": "stdout",
     "output_type": "stream",
     "text": [
      "running custom cross validation evaluation\n",
      "Evaluating fold 1\n",
      "\u001b[34mINFO    \u001b[0m File \u001b[35m/home/icb/fatemehs.hashemig/models/\u001b[0m\u001b[35m/pbmc-immune/\u001b[0m\u001b[35m/scvi-latent_dim8_ccross-val/fold-1/\u001b[0m\u001b[95mmodel.pt\u001b[0m already \n",
      "         downloaded                                                                                                \n"
     ]
    },
    {
     "name": "stderr",
     "output_type": "stream",
     "text": [
      "/home/icb/fatemehs.hashemig/miniconda3/envs/interpretable-ssl/lib/python3.12/multiprocessing/popen_fork.py:66: RuntimeWarning: os.fork() was called. os.fork() is incompatible with multithreaded code, and JAX is multithreaded, so this will likely lead to a deadlock.\n",
      "  self.pid = os.fork()\n",
      "Multiprocessing is handled by SLURM.\n",
      "GPU available: True (cuda), used: True\n",
      "TPU available: False, using: 0 TPU cores\n",
      "IPU available: False, using: 0 IPUs\n",
      "HPU available: False, using: 0 HPUs\n",
      "/home/icb/fatemehs.hashemig/miniconda3/envs/interpretable-ssl/lib/python3.12/multiprocessing/popen_fork.py:66: RuntimeWarning: os.fork() was called. os.fork() is incompatible with multithreaded code, and JAX is multithreaded, so this will likely lead to a deadlock.\n",
      "  self.pid = os.fork()\n",
      "LOCAL_RANK: 0 - CUDA_VISIBLE_DEVICES: [MIG-887fd1e0-585a-56c2-81f3-94f71fe4e1e3]\n",
      "SLURM auto-requeueing enabled. Setting signal handlers.\n"
     ]
    },
    {
     "name": "stdout",
     "output_type": "stream",
     "text": [
      "Epoch 50/50: 100%|██████████| 50/50 [00:53<00:00,  1.08s/it, loss=937, v_num=1]   "
     ]
    },
    {
     "name": "stderr",
     "output_type": "stream",
     "text": [
      "`Trainer.fit` stopped: `max_epochs=50` reached.\n"
     ]
    },
    {
     "name": "stdout",
     "output_type": "stream",
     "text": [
      "Epoch 50/50: 100%|██████████| 50/50 [00:53<00:00,  1.06s/it, loss=937, v_num=1]\n",
      "\u001b[34mINFO    \u001b[0m Input AnnData not setup with scvi-tools. attempting to transfer AnnData setup                             \n",
      "\u001b[34mINFO    \u001b[0m Input AnnData not setup with scvi-tools. attempting to transfer AnnData setup                             \n"
     ]
    },
    {
     "name": "stderr",
     "output_type": "stream",
     "text": [
      "Computing neighbors: 100%|██████████| 1/1 [00:05<00:00,  5.31s/it]\n",
      "Embeddings:   0%|\u001b[32m          \u001b[0m| 0/1 [00:00<?, ?it/s]\n",
      "Metrics:   0%|\u001b[34m          \u001b[0m| 0/10 [00:00<?, ?it/s]\u001b[A\n",
      "Metrics:   0%|\u001b[34m          \u001b[0m| 0/10 [00:00<?, ?it/s, Bio conservation: isolated_labels]\u001b[A\n",
      "Metrics:  10%|\u001b[34m█         \u001b[0m| 1/10 [00:00<00:04,  1.82it/s, Bio conservation: isolated_labels]\u001b[A\n",
      "Metrics:  10%|\u001b[34m█         \u001b[0m| 1/10 [00:00<00:04,  1.82it/s, Bio conservation: nmi_ari_cluster_labels_kmeans]\u001b[A\n",
      "Metrics:  20%|\u001b[34m██        \u001b[0m| 2/10 [00:03<00:14,  1.85s/it, Bio conservation: nmi_ari_cluster_labels_kmeans]\u001b[A\n",
      "Metrics:  20%|\u001b[34m██        \u001b[0m| 2/10 [00:03<00:14,  1.85s/it, Bio conservation: silhouette_label]             \u001b[A\n",
      "Metrics:  30%|\u001b[34m███       \u001b[0m| 3/10 [00:03<00:08,  1.25s/it, Bio conservation: silhouette_label]\u001b[A\n",
      "Metrics:  30%|\u001b[34m███       \u001b[0m| 3/10 [00:03<00:08,  1.25s/it, Bio conservation: clisi_knn]       \u001b[A\n",
      "Metrics:  40%|\u001b[34m████      \u001b[0m| 4/10 [00:03<00:07,  1.25s/it, Batch correction: silhouette_batch]\u001b[A\n",
      "Metrics:  50%|\u001b[34m█████     \u001b[0m| 5/10 [00:04<00:03,  1.60it/s, Batch correction: silhouette_batch]\u001b[A\n",
      "Metrics:  50%|\u001b[34m█████     \u001b[0m| 5/10 [00:04<00:03,  1.60it/s, Batch correction: ilisi_knn]       \u001b[A\n",
      "Metrics:  60%|\u001b[34m██████    \u001b[0m| 6/10 [00:04<00:02,  1.60it/s, Batch correction: kbet_per_label]\u001b[A\n",
      "Metrics:  70%|\u001b[34m███████   \u001b[0m| 7/10 [00:11<00:05,  1.93s/it, Batch correction: kbet_per_label]\u001b[A\n",
      "Metrics:  70%|\u001b[34m███████   \u001b[0m| 7/10 [00:11<00:05,  1.93s/it, Batch correction: graph_connectivity]\u001b[A\n",
      "Embeddings: 100%|\u001b[32m██████████\u001b[0m| 1/1 [00:11<00:00, 11.32s/it]atch correction: pcr_comparison]    \u001b[A\n",
      "\n",
      "                                                                                         \u001b[A/ictstr01/home/icb/fatemehs.hashemig/codes/interpretable-ssl/interpretable_ssl/trainers/trainer.py:314: FutureWarning: The frame.append method is deprecated and will be removed from pandas in a future version. Use pandas.concat instead.\n",
      "  overall_df = overall_df.append(fold_df, ignore_index=True)\n"
     ]
    },
    {
     "name": "stdout",
     "output_type": "stream",
     "text": [
      "Evaluating fold 2\n",
      "\u001b[34mINFO    \u001b[0m File \u001b[35m/home/icb/fatemehs.hashemig/models/\u001b[0m\u001b[35m/pbmc-immune/\u001b[0m\u001b[35m/scvi-latent_dim8_ccross-val/fold-2/\u001b[0m\u001b[95mmodel.pt\u001b[0m already \n",
      "         downloaded                                                                                                \n"
     ]
    },
    {
     "name": "stderr",
     "output_type": "stream",
     "text": [
      "/home/icb/fatemehs.hashemig/miniconda3/envs/interpretable-ssl/lib/python3.12/multiprocessing/popen_fork.py:66: RuntimeWarning: os.fork() was called. os.fork() is incompatible with multithreaded code, and JAX is multithreaded, so this will likely lead to a deadlock.\n",
      "  self.pid = os.fork()\n",
      "Multiprocessing is handled by SLURM.\n",
      "GPU available: True (cuda), used: True\n",
      "TPU available: False, using: 0 TPU cores\n",
      "IPU available: False, using: 0 IPUs\n",
      "HPU available: False, using: 0 HPUs\n",
      "/home/icb/fatemehs.hashemig/miniconda3/envs/interpretable-ssl/lib/python3.12/multiprocessing/popen_fork.py:66: RuntimeWarning: os.fork() was called. os.fork() is incompatible with multithreaded code, and JAX is multithreaded, so this will likely lead to a deadlock.\n",
      "  self.pid = os.fork()\n",
      "LOCAL_RANK: 0 - CUDA_VISIBLE_DEVICES: [MIG-887fd1e0-585a-56c2-81f3-94f71fe4e1e3]\n",
      "SLURM auto-requeueing enabled. Setting signal handlers.\n"
     ]
    },
    {
     "name": "stdout",
     "output_type": "stream",
     "text": [
      "Epoch 50/50: 100%|██████████| 50/50 [00:54<00:00,  1.03s/it, loss=1.21e+03, v_num=1]"
     ]
    },
    {
     "name": "stderr",
     "output_type": "stream",
     "text": [
      "`Trainer.fit` stopped: `max_epochs=50` reached.\n"
     ]
    },
    {
     "name": "stdout",
     "output_type": "stream",
     "text": [
      "Epoch 50/50: 100%|██████████| 50/50 [00:54<00:00,  1.10s/it, loss=1.21e+03, v_num=1]\n",
      "\u001b[34mINFO    \u001b[0m AnnData object appears to be a copy. Attempting to transfer setup.                                        \n",
      "\u001b[34mINFO    \u001b[0m AnnData object appears to be a copy. Attempting to transfer setup.                                        \n"
     ]
    },
    {
     "name": "stderr",
     "output_type": "stream",
     "text": [
      "Computing neighbors: 100%|██████████| 1/1 [00:08<00:00,  8.05s/it]\n",
      "Embeddings:   0%|\u001b[32m          \u001b[0m| 0/1 [00:00<?, ?it/s]\n",
      "Metrics:   0%|\u001b[34m          \u001b[0m| 0/10 [00:00<?, ?it/s]\u001b[A\n",
      "Metrics:   0%|\u001b[34m          \u001b[0m| 0/10 [00:00<?, ?it/s, Bio conservation: isolated_labels]\u001b[A\n",
      "Metrics:  10%|\u001b[34m█         \u001b[0m| 1/10 [00:00<00:07,  1.27it/s, Bio conservation: isolated_labels]\u001b[A\n",
      "Metrics:  10%|\u001b[34m█         \u001b[0m| 1/10 [00:00<00:07,  1.27it/s, Bio conservation: nmi_ari_cluster_labels_kmeans]\u001b[A\n",
      "Metrics:  20%|\u001b[34m██        \u001b[0m| 2/10 [00:03<00:16,  2.12s/it, Bio conservation: nmi_ari_cluster_labels_kmeans]\u001b[A\n",
      "Metrics:  20%|\u001b[34m██        \u001b[0m| 2/10 [00:03<00:16,  2.12s/it, Bio conservation: silhouette_label]             \u001b[A\n",
      "Metrics:  30%|\u001b[34m███       \u001b[0m| 3/10 [00:04<00:11,  1.63s/it, Bio conservation: silhouette_label]\u001b[A\n",
      "Metrics:  30%|\u001b[34m███       \u001b[0m| 3/10 [00:04<00:11,  1.63s/it, Bio conservation: clisi_knn]       \u001b[A\n",
      "Metrics:  40%|\u001b[34m████      \u001b[0m| 4/10 [00:05<00:06,  1.06s/it, Bio conservation: clisi_knn]\u001b[A\n",
      "Metrics:  40%|\u001b[34m████      \u001b[0m| 4/10 [00:05<00:06,  1.06s/it, Batch correction: silhouette_batch]\u001b[A\n",
      "Metrics:  50%|\u001b[34m█████     \u001b[0m| 5/10 [00:05<00:04,  1.14it/s, Batch correction: silhouette_batch]\u001b[A\n",
      "Metrics:  50%|\u001b[34m█████     \u001b[0m| 5/10 [00:05<00:04,  1.14it/s, Batch correction: ilisi_knn]       \u001b[A\n",
      "Metrics:  60%|\u001b[34m██████    \u001b[0m| 6/10 [00:05<00:02,  1.58it/s, Batch correction: ilisi_knn]\u001b[A\n",
      "Metrics:  60%|\u001b[34m██████    \u001b[0m| 6/10 [00:05<00:02,  1.58it/s, Batch correction: kbet_per_label]\u001b[A\n",
      "Metrics:  70%|\u001b[34m███████   \u001b[0m| 7/10 [00:16<00:11,  3.98s/it, Batch correction: kbet_per_label]\u001b[A\n",
      "Metrics:  70%|\u001b[34m███████   \u001b[0m| 7/10 [00:16<00:11,  3.98s/it, Batch correction: graph_connectivity]\u001b[A\n",
      "Metrics:  80%|\u001b[34m████████  \u001b[0m| 8/10 [00:16<00:07,  3.98s/it, Batch correction: pcr_comparison]    \u001b[A\n",
      "Embeddings: 100%|\u001b[32m██████████\u001b[0m| 1/1 [00:16<00:00, 16.76s/it]atch correction: pcr_comparison]\u001b[A\n",
      "\n",
      "                                                                                         \u001b[A/ictstr01/home/icb/fatemehs.hashemig/codes/interpretable-ssl/interpretable_ssl/trainers/trainer.py:314: FutureWarning: The frame.append method is deprecated and will be removed from pandas in a future version. Use pandas.concat instead.\n",
      "  overall_df = overall_df.append(fold_df, ignore_index=True)\n"
     ]
    },
    {
     "name": "stdout",
     "output_type": "stream",
     "text": [
      "Evaluating fold 3\n",
      "\u001b[34mINFO    \u001b[0m File \u001b[35m/home/icb/fatemehs.hashemig/models/\u001b[0m\u001b[35m/pbmc-immune/\u001b[0m\u001b[35m/scvi-latent_dim8_ccross-val/fold-3/\u001b[0m\u001b[95mmodel.pt\u001b[0m already \n",
      "         downloaded                                                                                                \n"
     ]
    },
    {
     "name": "stderr",
     "output_type": "stream",
     "text": [
      "/home/icb/fatemehs.hashemig/miniconda3/envs/interpretable-ssl/lib/python3.12/multiprocessing/popen_fork.py:66: RuntimeWarning: os.fork() was called. os.fork() is incompatible with multithreaded code, and JAX is multithreaded, so this will likely lead to a deadlock.\n",
      "  self.pid = os.fork()\n",
      "Multiprocessing is handled by SLURM.\n",
      "GPU available: True (cuda), used: True\n",
      "TPU available: False, using: 0 TPU cores\n",
      "IPU available: False, using: 0 IPUs\n",
      "HPU available: False, using: 0 HPUs\n",
      "/home/icb/fatemehs.hashemig/miniconda3/envs/interpretable-ssl/lib/python3.12/multiprocessing/popen_fork.py:66: RuntimeWarning: os.fork() was called. os.fork() is incompatible with multithreaded code, and JAX is multithreaded, so this will likely lead to a deadlock.\n",
      "  self.pid = os.fork()\n",
      "LOCAL_RANK: 0 - CUDA_VISIBLE_DEVICES: [MIG-887fd1e0-585a-56c2-81f3-94f71fe4e1e3]\n",
      "SLURM auto-requeueing enabled. Setting signal handlers.\n"
     ]
    },
    {
     "name": "stdout",
     "output_type": "stream",
     "text": [
      "Epoch 50/50: 100%|██████████| 50/50 [00:54<00:00,  1.34s/it, loss=880, v_num=1]"
     ]
    },
    {
     "name": "stderr",
     "output_type": "stream",
     "text": [
      "`Trainer.fit` stopped: `max_epochs=50` reached.\n"
     ]
    },
    {
     "name": "stdout",
     "output_type": "stream",
     "text": [
      "Epoch 50/50: 100%|██████████| 50/50 [00:54<00:00,  1.10s/it, loss=880, v_num=1]\n",
      "\u001b[34mINFO    \u001b[0m AnnData object appears to be a copy. Attempting to transfer setup.                                        \n",
      "\u001b[34mINFO    \u001b[0m AnnData object appears to be a copy. Attempting to transfer setup.                                        \n"
     ]
    },
    {
     "name": "stderr",
     "output_type": "stream",
     "text": [
      "Computing neighbors: 100%|██████████| 1/1 [00:07<00:00,  7.52s/it]\n",
      "Embeddings:   0%|\u001b[32m          \u001b[0m| 0/1 [00:00<?, ?it/s]\n",
      "Metrics:   0%|\u001b[34m          \u001b[0m| 0/10 [00:00<?, ?it/s]\u001b[A\n",
      "Metrics:   0%|\u001b[34m          \u001b[0m| 0/10 [00:00<?, ?it/s, Bio conservation: isolated_labels]\u001b[A\n",
      "Metrics:  10%|\u001b[34m█         \u001b[0m| 1/10 [00:00<00:06,  1.47it/s, Bio conservation: isolated_labels]\u001b[A\n",
      "Metrics:  10%|\u001b[34m█         \u001b[0m| 1/10 [00:00<00:06,  1.47it/s, Bio conservation: nmi_ari_cluster_labels_kmeans]\u001b[A\n",
      "Metrics:  20%|\u001b[34m██        \u001b[0m| 2/10 [00:02<00:12,  1.56s/it, Bio conservation: nmi_ari_cluster_labels_kmeans]\u001b[A\n",
      "Metrics:  20%|\u001b[34m██        \u001b[0m| 2/10 [00:02<00:12,  1.56s/it, Bio conservation: silhouette_label]             \u001b[A\n",
      "Metrics:  30%|\u001b[34m███       \u001b[0m| 3/10 [00:03<00:09,  1.34s/it, Bio conservation: silhouette_label]\u001b[A\n",
      "Metrics:  30%|\u001b[34m███       \u001b[0m| 3/10 [00:03<00:09,  1.34s/it, Bio conservation: clisi_knn]       \u001b[A\n",
      "Metrics:  40%|\u001b[34m████      \u001b[0m| 4/10 [00:04<00:05,  1.16it/s, Bio conservation: clisi_knn]\u001b[A\n",
      "Metrics:  40%|\u001b[34m████      \u001b[0m| 4/10 [00:04<00:05,  1.16it/s, Batch correction: silhouette_batch]\u001b[A\n",
      "Metrics:  50%|\u001b[34m█████     \u001b[0m| 5/10 [00:04<00:03,  1.53it/s, Batch correction: silhouette_batch]\u001b[A\n",
      "Metrics:  50%|\u001b[34m█████     \u001b[0m| 5/10 [00:04<00:03,  1.53it/s, Batch correction: ilisi_knn]       \u001b[A\n",
      "Metrics:  60%|\u001b[34m██████    \u001b[0m| 6/10 [00:04<00:01,  2.09it/s, Batch correction: ilisi_knn]\u001b[A\n",
      "Metrics:  60%|\u001b[34m██████    \u001b[0m| 6/10 [00:04<00:01,  2.09it/s, Batch correction: kbet_per_label]\u001b[A\n",
      "Metrics:  70%|\u001b[34m███████   \u001b[0m| 7/10 [00:13<00:09,  3.26s/it, Batch correction: kbet_per_label]\u001b[A\n",
      "Metrics:  70%|\u001b[34m███████   \u001b[0m| 7/10 [00:13<00:09,  3.26s/it, Batch correction: graph_connectivity]\u001b[A\n",
      "Embeddings: 100%|\u001b[32m██████████\u001b[0m| 1/1 [00:13<00:00, 13.56s/it]atch correction: pcr_comparison]    \u001b[A\n",
      "\n",
      "                                                                                         \u001b[A/ictstr01/home/icb/fatemehs.hashemig/codes/interpretable-ssl/interpretable_ssl/trainers/trainer.py:314: FutureWarning: The frame.append method is deprecated and will be removed from pandas in a future version. Use pandas.concat instead.\n",
      "  overall_df = overall_df.append(fold_df, ignore_index=True)\n"
     ]
    },
    {
     "name": "stdout",
     "output_type": "stream",
     "text": [
      "Evaluating fold 4\n",
      "\u001b[34mINFO    \u001b[0m File \u001b[35m/home/icb/fatemehs.hashemig/models/\u001b[0m\u001b[35m/pbmc-immune/\u001b[0m\u001b[35m/scvi-latent_dim8_ccross-val/fold-4/\u001b[0m\u001b[95mmodel.pt\u001b[0m already \n",
      "         downloaded                                                                                                \n"
     ]
    },
    {
     "name": "stderr",
     "output_type": "stream",
     "text": [
      "/home/icb/fatemehs.hashemig/miniconda3/envs/interpretable-ssl/lib/python3.12/multiprocessing/popen_fork.py:66: RuntimeWarning: os.fork() was called. os.fork() is incompatible with multithreaded code, and JAX is multithreaded, so this will likely lead to a deadlock.\n",
      "  self.pid = os.fork()\n",
      "Multiprocessing is handled by SLURM.\n",
      "GPU available: True (cuda), used: True\n",
      "TPU available: False, using: 0 TPU cores\n",
      "IPU available: False, using: 0 IPUs\n",
      "HPU available: False, using: 0 HPUs\n",
      "/home/icb/fatemehs.hashemig/miniconda3/envs/interpretable-ssl/lib/python3.12/multiprocessing/popen_fork.py:66: RuntimeWarning: os.fork() was called. os.fork() is incompatible with multithreaded code, and JAX is multithreaded, so this will likely lead to a deadlock.\n",
      "  self.pid = os.fork()\n",
      "LOCAL_RANK: 0 - CUDA_VISIBLE_DEVICES: [MIG-887fd1e0-585a-56c2-81f3-94f71fe4e1e3]\n",
      "SLURM auto-requeueing enabled. Setting signal handlers.\n"
     ]
    },
    {
     "name": "stdout",
     "output_type": "stream",
     "text": [
      "Epoch 50/50: 100%|██████████| 50/50 [00:38<00:00,  1.39it/s, loss=3.33e+03, v_num=1]"
     ]
    },
    {
     "name": "stderr",
     "output_type": "stream",
     "text": [
      "`Trainer.fit` stopped: `max_epochs=50` reached.\n"
     ]
    },
    {
     "name": "stdout",
     "output_type": "stream",
     "text": [
      "Epoch 50/50: 100%|██████████| 50/50 [00:38<00:00,  1.29it/s, loss=3.33e+03, v_num=1]\n",
      "\u001b[34mINFO    \u001b[0m AnnData object appears to be a copy. Attempting to transfer setup.                                        \n",
      "\u001b[34mINFO    \u001b[0m AnnData object appears to be a copy. Attempting to transfer setup.                                        \n"
     ]
    },
    {
     "name": "stderr",
     "output_type": "stream",
     "text": [
      "Computing neighbors: 100%|██████████| 1/1 [00:05<00:00,  5.15s/it]\n",
      "Embeddings:   0%|\u001b[32m          \u001b[0m| 0/1 [00:00<?, ?it/s]\n",
      "Metrics:   0%|\u001b[34m          \u001b[0m| 0/10 [00:00<?, ?it/s]\u001b[A\n",
      "Metrics:   0%|\u001b[34m          \u001b[0m| 0/10 [00:00<?, ?it/s, Bio conservation: isolated_labels]\u001b[A\n",
      "Metrics:  10%|\u001b[34m█         \u001b[0m| 1/10 [00:00<00:01,  4.78it/s, Bio conservation: isolated_labels]\u001b[A\n",
      "Metrics:  10%|\u001b[34m█         \u001b[0m| 1/10 [00:00<00:01,  4.78it/s, Bio conservation: nmi_ari_cluster_labels_kmeans]\u001b[A\n",
      "Metrics:  20%|\u001b[34m██        \u001b[0m| 2/10 [00:01<00:06,  1.18it/s, Bio conservation: nmi_ari_cluster_labels_kmeans]\u001b[A\n",
      "Metrics:  20%|\u001b[34m██        \u001b[0m| 2/10 [00:01<00:06,  1.18it/s, Bio conservation: silhouette_label]             \u001b[A\n",
      "Metrics:  30%|\u001b[34m███       \u001b[0m| 3/10 [00:01<00:04,  1.74it/s, Bio conservation: silhouette_label]\u001b[A\n",
      "Metrics:  30%|\u001b[34m███       \u001b[0m| 3/10 [00:01<00:04,  1.74it/s, Bio conservation: clisi_knn]       \u001b[A\n",
      "Metrics:  40%|\u001b[34m████      \u001b[0m| 4/10 [00:01<00:03,  1.74it/s, Batch correction: silhouette_batch]\u001b[A\n",
      "Metrics:  50%|\u001b[34m█████     \u001b[0m| 5/10 [00:01<00:01,  3.23it/s, Batch correction: silhouette_batch]\u001b[A\n",
      "Metrics:  50%|\u001b[34m█████     \u001b[0m| 5/10 [00:01<00:01,  3.23it/s, Batch correction: ilisi_knn]       \u001b[A\n",
      "Metrics:  60%|\u001b[34m██████    \u001b[0m| 6/10 [00:02<00:01,  3.23it/s, Batch correction: kbet_per_label]\u001b[A\n",
      "Metrics:  70%|\u001b[34m███████   \u001b[0m| 7/10 [00:07<00:04,  1.35s/it, Batch correction: kbet_per_label]\u001b[A\n",
      "Metrics:  70%|\u001b[34m███████   \u001b[0m| 7/10 [00:07<00:04,  1.35s/it, Batch correction: graph_connectivity]\u001b[A\n",
      "Metrics:  80%|\u001b[34m████████  \u001b[0m| 8/10 [00:07<00:02,  1.35s/it, Batch correction: pcr_comparison]    \u001b[A\n",
      "Embeddings: 100%|\u001b[32m██████████\u001b[0m| 1/1 [00:07<00:00,  7.43s/it]atch correction: pcr_comparison]\u001b[A\n",
      "\n",
      "                                                                                         \u001b[A/ictstr01/home/icb/fatemehs.hashemig/codes/interpretable-ssl/interpretable_ssl/trainers/trainer.py:314: FutureWarning: The frame.append method is deprecated and will be removed from pandas in a future version. Use pandas.concat instead.\n",
      "  overall_df = overall_df.append(fold_df, ignore_index=True)\n"
     ]
    },
    {
     "name": "stdout",
     "output_type": "stream",
     "text": [
      "Evaluating fold 5\n",
      "\u001b[34mINFO    \u001b[0m File \u001b[35m/home/icb/fatemehs.hashemig/models/\u001b[0m\u001b[35m/pbmc-immune/\u001b[0m\u001b[35m/scvi-latent_dim8_ccross-val/fold-5/\u001b[0m\u001b[95mmodel.pt\u001b[0m already \n",
      "         downloaded                                                                                                \n"
     ]
    },
    {
     "name": "stderr",
     "output_type": "stream",
     "text": [
      "/home/icb/fatemehs.hashemig/miniconda3/envs/interpretable-ssl/lib/python3.12/multiprocessing/popen_fork.py:66: RuntimeWarning: os.fork() was called. os.fork() is incompatible with multithreaded code, and JAX is multithreaded, so this will likely lead to a deadlock.\n",
      "  self.pid = os.fork()\n",
      "Multiprocessing is handled by SLURM.\n",
      "GPU available: True (cuda), used: True\n",
      "TPU available: False, using: 0 TPU cores\n",
      "IPU available: False, using: 0 IPUs\n",
      "HPU available: False, using: 0 HPUs\n",
      "/home/icb/fatemehs.hashemig/miniconda3/envs/interpretable-ssl/lib/python3.12/multiprocessing/popen_fork.py:66: RuntimeWarning: os.fork() was called. os.fork() is incompatible with multithreaded code, and JAX is multithreaded, so this will likely lead to a deadlock.\n",
      "  self.pid = os.fork()\n",
      "LOCAL_RANK: 0 - CUDA_VISIBLE_DEVICES: [MIG-887fd1e0-585a-56c2-81f3-94f71fe4e1e3]\n",
      "SLURM auto-requeueing enabled. Setting signal handlers.\n"
     ]
    },
    {
     "name": "stdout",
     "output_type": "stream",
     "text": [
      "Epoch 50/50: 100%|██████████| 50/50 [00:35<00:00,  1.62it/s, loss=1.11e+03, v_num=1]"
     ]
    },
    {
     "name": "stderr",
     "output_type": "stream",
     "text": [
      "`Trainer.fit` stopped: `max_epochs=50` reached.\n"
     ]
    },
    {
     "name": "stdout",
     "output_type": "stream",
     "text": [
      "Epoch 50/50: 100%|██████████| 50/50 [00:35<00:00,  1.40it/s, loss=1.11e+03, v_num=1]\n",
      "\u001b[34mINFO    \u001b[0m AnnData object appears to be a copy. Attempting to transfer setup.                                        \n",
      "\u001b[34mINFO    \u001b[0m AnnData object appears to be a copy. Attempting to transfer setup.                                        \n"
     ]
    },
    {
     "name": "stderr",
     "output_type": "stream",
     "text": [
      "Computing neighbors: 100%|██████████| 1/1 [00:05<00:00,  5.66s/it]\n",
      "Embeddings:   0%|\u001b[32m          \u001b[0m| 0/1 [00:00<?, ?it/s]\n",
      "Metrics:   0%|\u001b[34m          \u001b[0m| 0/10 [00:00<?, ?it/s]\u001b[A\n",
      "Metrics:   0%|\u001b[34m          \u001b[0m| 0/10 [00:00<?, ?it/s, Bio conservation: isolated_labels]\u001b[A\n",
      "Metrics:  10%|\u001b[34m█         \u001b[0m| 1/10 [00:00<00:03,  2.41it/s, Bio conservation: isolated_labels]\u001b[A\n",
      "Metrics:  10%|\u001b[34m█         \u001b[0m| 1/10 [00:00<00:03,  2.41it/s, Bio conservation: nmi_ari_cluster_labels_kmeans]\u001b[A\n",
      "Metrics:  20%|\u001b[34m██        \u001b[0m| 2/10 [00:01<00:07,  1.02it/s, Bio conservation: nmi_ari_cluster_labels_kmeans]\u001b[A\n",
      "Metrics:  20%|\u001b[34m██        \u001b[0m| 2/10 [00:01<00:07,  1.02it/s, Bio conservation: silhouette_label]             \u001b[A\n",
      "Metrics:  30%|\u001b[34m███       \u001b[0m| 3/10 [00:02<00:04,  1.46it/s, Bio conservation: silhouette_label]\u001b[A\n",
      "Metrics:  30%|\u001b[34m███       \u001b[0m| 3/10 [00:02<00:04,  1.46it/s, Bio conservation: clisi_knn]       \u001b[A\n",
      "Metrics:  40%|\u001b[34m████      \u001b[0m| 4/10 [00:02<00:02,  2.19it/s, Bio conservation: clisi_knn]\u001b[A\n",
      "Metrics:  40%|\u001b[34m████      \u001b[0m| 4/10 [00:02<00:02,  2.19it/s, Batch correction: silhouette_batch]\u001b[A\n",
      "Metrics:  50%|\u001b[34m█████     \u001b[0m| 5/10 [00:02<00:01,  2.87it/s, Batch correction: silhouette_batch]\u001b[A\n",
      "Metrics:  50%|\u001b[34m█████     \u001b[0m| 5/10 [00:02<00:01,  2.87it/s, Batch correction: ilisi_knn]       \u001b[A\n",
      "Metrics:  60%|\u001b[34m██████    \u001b[0m| 6/10 [00:02<00:01,  3.75it/s, Batch correction: ilisi_knn]\u001b[A\n",
      "Metrics:  60%|\u001b[34m██████    \u001b[0m| 6/10 [00:02<00:01,  3.75it/s, Batch correction: kbet_per_label]\u001b[A"
     ]
    },
    {
     "name": "stdout",
     "output_type": "stream",
     "text": [
      "\u001b[34mINFO    \u001b[0m HSPCs consists of a single batch or is too small. Skip.                                                   \n",
      "\u001b[34mINFO    \u001b[0m Monocyte-derived dendritic cells consists of a single batch or is too small. Skip.                        \n",
      "\u001b[34mINFO    \u001b[0m Plasma cells consists of a single batch or is too small. Skip.                                            \n"
     ]
    },
    {
     "name": "stderr",
     "output_type": "stream",
     "text": [
      "\n",
      "Metrics:  70%|\u001b[34m███████   \u001b[0m| 7/10 [00:11<00:09,  3.06s/it, Batch correction: kbet_per_label]\u001b[A\n",
      "Metrics:  70%|\u001b[34m███████   \u001b[0m| 7/10 [00:11<00:09,  3.06s/it, Batch correction: graph_connectivity]\u001b[A\n",
      "Embeddings: 100%|\u001b[32m██████████\u001b[0m| 1/1 [00:11<00:00, 11.36s/it]atch correction: pcr_comparison]    \u001b[A\n",
      "\n",
      "                                                                                         \u001b[A/ictstr01/home/icb/fatemehs.hashemig/codes/interpretable-ssl/interpretable_ssl/trainers/trainer.py:314: FutureWarning: The frame.append method is deprecated and will be removed from pandas in a future version. Use pandas.concat instead.\n",
      "  overall_df = overall_df.append(fold_df, ignore_index=True)\n"
     ]
    },
    {
     "name": "stdout",
     "output_type": "stream",
     "text": [
      "Evaluating fold 6\n",
      "\u001b[34mINFO    \u001b[0m File \u001b[35m/home/icb/fatemehs.hashemig/models/\u001b[0m\u001b[35m/pbmc-immune/\u001b[0m\u001b[35m/scvi-latent_dim8_ccross-val/fold-6/\u001b[0m\u001b[95mmodel.pt\u001b[0m already \n",
      "         downloaded                                                                                                \n"
     ]
    },
    {
     "name": "stderr",
     "output_type": "stream",
     "text": [
      "/home/icb/fatemehs.hashemig/miniconda3/envs/interpretable-ssl/lib/python3.12/multiprocessing/popen_fork.py:66: RuntimeWarning: os.fork() was called. os.fork() is incompatible with multithreaded code, and JAX is multithreaded, so this will likely lead to a deadlock.\n",
      "  self.pid = os.fork()\n",
      "Multiprocessing is handled by SLURM.\n",
      "GPU available: True (cuda), used: True\n",
      "TPU available: False, using: 0 TPU cores\n",
      "IPU available: False, using: 0 IPUs\n",
      "HPU available: False, using: 0 HPUs\n",
      "/home/icb/fatemehs.hashemig/miniconda3/envs/interpretable-ssl/lib/python3.12/multiprocessing/popen_fork.py:66: RuntimeWarning: os.fork() was called. os.fork() is incompatible with multithreaded code, and JAX is multithreaded, so this will likely lead to a deadlock.\n",
      "  self.pid = os.fork()\n",
      "LOCAL_RANK: 0 - CUDA_VISIBLE_DEVICES: [MIG-887fd1e0-585a-56c2-81f3-94f71fe4e1e3]\n",
      "SLURM auto-requeueing enabled. Setting signal handlers.\n"
     ]
    },
    {
     "name": "stdout",
     "output_type": "stream",
     "text": [
      "Epoch 50/50: 100%|██████████| 50/50 [00:33<00:00,  1.83it/s, loss=626, v_num=1]"
     ]
    },
    {
     "name": "stderr",
     "output_type": "stream",
     "text": [
      "`Trainer.fit` stopped: `max_epochs=50` reached.\n"
     ]
    },
    {
     "name": "stdout",
     "output_type": "stream",
     "text": [
      "Epoch 50/50: 100%|██████████| 50/50 [00:33<00:00,  1.47it/s, loss=626, v_num=1]\n",
      "\u001b[34mINFO    \u001b[0m AnnData object appears to be a copy. Attempting to transfer setup.                                        \n",
      "\u001b[34mINFO    \u001b[0m AnnData object appears to be a copy. Attempting to transfer setup.                                        \n"
     ]
    },
    {
     "name": "stderr",
     "output_type": "stream",
     "text": [
      "Computing neighbors: 100%|██████████| 1/1 [00:04<00:00,  4.85s/it]\n",
      "Embeddings:   0%|\u001b[32m          \u001b[0m| 0/1 [00:00<?, ?it/s]\n",
      "Metrics:   0%|\u001b[34m          \u001b[0m| 0/10 [00:00<?, ?it/s]\u001b[A\n",
      "Metrics:   0%|\u001b[34m          \u001b[0m| 0/10 [00:00<?, ?it/s, Bio conservation: isolated_labels]\u001b[A\n",
      "Metrics:  10%|\u001b[34m█         \u001b[0m| 1/10 [00:00<00:02,  4.40it/s, Bio conservation: isolated_labels]\u001b[A\n",
      "Metrics:  10%|\u001b[34m█         \u001b[0m| 1/10 [00:00<00:02,  4.40it/s, Bio conservation: nmi_ari_cluster_labels_kmeans]\u001b[A\n",
      "Metrics:  20%|\u001b[34m██        \u001b[0m| 2/10 [00:01<00:06,  1.25it/s, Bio conservation: nmi_ari_cluster_labels_kmeans]\u001b[A\n",
      "Metrics:  20%|\u001b[34m██        \u001b[0m| 2/10 [00:01<00:06,  1.25it/s, Bio conservation: silhouette_label]             \u001b[A\n",
      "Metrics:  30%|\u001b[34m███       \u001b[0m| 3/10 [00:01<00:03,  1.88it/s, Bio conservation: silhouette_label]\u001b[A\n",
      "Metrics:  30%|\u001b[34m███       \u001b[0m| 3/10 [00:01<00:03,  1.88it/s, Bio conservation: clisi_knn]       \u001b[A\n",
      "Metrics:  40%|\u001b[34m████      \u001b[0m| 4/10 [00:01<00:03,  1.88it/s, Batch correction: silhouette_batch]\u001b[A\n",
      "Metrics:  50%|\u001b[34m█████     \u001b[0m| 5/10 [00:01<00:01,  3.58it/s, Batch correction: silhouette_batch]\u001b[A\n",
      "Metrics:  50%|\u001b[34m█████     \u001b[0m| 5/10 [00:01<00:01,  3.58it/s, Batch correction: ilisi_knn]       \u001b[A\n",
      "Metrics:  60%|\u001b[34m██████    \u001b[0m| 6/10 [00:01<00:01,  3.58it/s, Batch correction: kbet_per_label]\u001b[A\n",
      "Metrics:  70%|\u001b[34m███████   \u001b[0m| 7/10 [00:08<00:05,  1.72s/it, Batch correction: kbet_per_label]\u001b[A\n",
      "Metrics:  70%|\u001b[34m███████   \u001b[0m| 7/10 [00:08<00:05,  1.72s/it, Batch correction: graph_connectivity]\u001b[A\n",
      "Embeddings: 100%|\u001b[32m██████████\u001b[0m| 1/1 [00:08<00:00,  8.87s/it]atch correction: pcr_comparison]    \u001b[A\n",
      "\n",
      "                                                                                         \u001b[A/ictstr01/home/icb/fatemehs.hashemig/codes/interpretable-ssl/interpretable_ssl/trainers/trainer.py:314: FutureWarning: The frame.append method is deprecated and will be removed from pandas in a future version. Use pandas.concat instead.\n",
      "  overall_df = overall_df.append(fold_df, ignore_index=True)\n"
     ]
    },
    {
     "name": "stdout",
     "output_type": "stream",
     "text": [
      "Evaluating fold 7\n",
      "\u001b[34mINFO    \u001b[0m File \u001b[35m/home/icb/fatemehs.hashemig/models/\u001b[0m\u001b[35m/pbmc-immune/\u001b[0m\u001b[35m/scvi-latent_dim8_ccross-val/fold-7/\u001b[0m\u001b[95mmodel.pt\u001b[0m already \n",
      "         downloaded                                                                                                \n"
     ]
    },
    {
     "name": "stderr",
     "output_type": "stream",
     "text": [
      "/home/icb/fatemehs.hashemig/miniconda3/envs/interpretable-ssl/lib/python3.12/multiprocessing/popen_fork.py:66: RuntimeWarning: os.fork() was called. os.fork() is incompatible with multithreaded code, and JAX is multithreaded, so this will likely lead to a deadlock.\n",
      "  self.pid = os.fork()\n",
      "Multiprocessing is handled by SLURM.\n",
      "GPU available: True (cuda), used: True\n",
      "TPU available: False, using: 0 TPU cores\n",
      "IPU available: False, using: 0 IPUs\n",
      "HPU available: False, using: 0 HPUs\n",
      "/home/icb/fatemehs.hashemig/miniconda3/envs/interpretable-ssl/lib/python3.12/multiprocessing/popen_fork.py:66: RuntimeWarning: os.fork() was called. os.fork() is incompatible with multithreaded code, and JAX is multithreaded, so this will likely lead to a deadlock.\n",
      "  self.pid = os.fork()\n",
      "LOCAL_RANK: 0 - CUDA_VISIBLE_DEVICES: [MIG-887fd1e0-585a-56c2-81f3-94f71fe4e1e3]\n",
      "SLURM auto-requeueing enabled. Setting signal handlers.\n"
     ]
    },
    {
     "name": "stdout",
     "output_type": "stream",
     "text": [
      "Epoch 50/50: 100%|██████████| 50/50 [00:14<00:00,  4.67it/s, loss=7.2e+03, v_num=1] "
     ]
    },
    {
     "name": "stderr",
     "output_type": "stream",
     "text": [
      "`Trainer.fit` stopped: `max_epochs=50` reached.\n"
     ]
    },
    {
     "name": "stdout",
     "output_type": "stream",
     "text": [
      "Epoch 50/50: 100%|██████████| 50/50 [00:14<00:00,  3.53it/s, loss=7.2e+03, v_num=1]\n",
      "\u001b[34mINFO    \u001b[0m AnnData object appears to be a copy. Attempting to transfer setup.                                        \n",
      "\u001b[34mINFO    \u001b[0m AnnData object appears to be a copy. Attempting to transfer setup.                                        \n"
     ]
    },
    {
     "name": "stderr",
     "output_type": "stream",
     "text": [
      "Computing neighbors: 100%|██████████| 1/1 [00:02<00:00,  2.16s/it]\n",
      "Embeddings:   0%|\u001b[32m          \u001b[0m| 0/1 [00:00<?, ?it/s]\n",
      "Metrics:   0%|\u001b[34m          \u001b[0m| 0/10 [00:00<?, ?it/s]\u001b[A\n",
      "Metrics:   0%|\u001b[34m          \u001b[0m| 0/10 [00:00<?, ?it/s, Bio conservation: isolated_labels]\u001b[A\n",
      "Metrics:  10%|\u001b[34m█         \u001b[0m| 1/10 [00:00<00:00, 20.58it/s, Bio conservation: nmi_ari_cluster_labels_kmeans]\u001b[A\n",
      "Metrics:  20%|\u001b[34m██        \u001b[0m| 2/10 [00:00<00:03,  2.29it/s, Bio conservation: nmi_ari_cluster_labels_kmeans]\u001b[A\n",
      "Metrics:  20%|\u001b[34m██        \u001b[0m| 2/10 [00:00<00:03,  2.29it/s, Bio conservation: silhouette_label]             \u001b[A\n",
      "Metrics:  30%|\u001b[34m███       \u001b[0m| 3/10 [00:00<00:03,  2.29it/s, Bio conservation: clisi_knn]       \u001b[A\n",
      "Metrics:  40%|\u001b[34m████      \u001b[0m| 4/10 [00:00<00:02,  2.29it/s, Batch correction: silhouette_batch]\u001b[A\n",
      "Metrics:  50%|\u001b[34m█████     \u001b[0m| 5/10 [00:00<00:02,  2.29it/s, Batch correction: ilisi_knn]       \u001b[A\n",
      "Metrics:  60%|\u001b[34m██████    \u001b[0m| 6/10 [00:00<00:00,  7.45it/s, Batch correction: ilisi_knn]\u001b[A\n",
      "Metrics:  60%|\u001b[34m██████    \u001b[0m| 6/10 [00:00<00:00,  7.45it/s, Batch correction: kbet_per_label]\u001b[A"
     ]
    },
    {
     "name": "stdout",
     "output_type": "stream",
     "text": [
      "\u001b[34mINFO    \u001b[0m CD20+ B cells consists of a single batch or is too small. Skip.                                           \n",
      "\u001b[34mINFO    \u001b[0m CD4+ T cells consists of a single batch or is too small. Skip.                                            \n",
      "\u001b[34mINFO    \u001b[0m CD8+ T cells consists of a single batch or is too small. Skip.                                            \n",
      "\u001b[34mINFO    \u001b[0m Megakaryocyte progenitors consists of a single batch or is too small. Skip.                               \n",
      "\u001b[34mINFO    \u001b[0m Monocyte-derived dendritic cells consists of a single batch or is too small. Skip.                        \n",
      "\u001b[34mINFO    \u001b[0m NK cells consists of a single batch or is too small. Skip.                                                \n",
      "\u001b[34mINFO    \u001b[0m NKT cells consists of a single batch or is too small. Skip.                                               \n"
     ]
    },
    {
     "name": "stderr",
     "output_type": "stream",
     "text": [
      "\n",
      "Metrics:  70%|\u001b[34m███████   \u001b[0m| 7/10 [00:01<00:00,  7.45it/s, Batch correction: graph_connectivity]\u001b[A\n",
      "Metrics:  80%|\u001b[34m████████  \u001b[0m| 8/10 [00:01<00:00,  7.45it/s, Batch correction: pcr_comparison]    \u001b[A\n",
      "Embeddings: 100%|\u001b[32m██████████\u001b[0m| 1/1 [00:01<00:00,  1.87s/it]atch correction: pcr_comparison]\u001b[A\n",
      "\n",
      "                                                                                         \u001b[A/ictstr01/home/icb/fatemehs.hashemig/codes/interpretable-ssl/interpretable_ssl/trainers/trainer.py:314: FutureWarning: The frame.append method is deprecated and will be removed from pandas in a future version. Use pandas.concat instead.\n",
      "  overall_df = overall_df.append(fold_df, ignore_index=True)\n"
     ]
    },
    {
     "name": "stdout",
     "output_type": "stream",
     "text": [
      "Evaluating fold 8\n",
      "\u001b[34mINFO    \u001b[0m File \u001b[35m/home/icb/fatemehs.hashemig/models/\u001b[0m\u001b[35m/pbmc-immune/\u001b[0m\u001b[35m/scvi-latent_dim8_ccross-val/fold-8/\u001b[0m\u001b[95mmodel.pt\u001b[0m already \n",
      "         downloaded                                                                                                \n"
     ]
    },
    {
     "name": "stderr",
     "output_type": "stream",
     "text": [
      "/home/icb/fatemehs.hashemig/miniconda3/envs/interpretable-ssl/lib/python3.12/multiprocessing/popen_fork.py:66: RuntimeWarning: os.fork() was called. os.fork() is incompatible with multithreaded code, and JAX is multithreaded, so this will likely lead to a deadlock.\n",
      "  self.pid = os.fork()\n",
      "Multiprocessing is handled by SLURM.\n",
      "GPU available: True (cuda), used: True\n",
      "TPU available: False, using: 0 TPU cores\n",
      "IPU available: False, using: 0 IPUs\n",
      "HPU available: False, using: 0 HPUs\n",
      "/home/icb/fatemehs.hashemig/miniconda3/envs/interpretable-ssl/lib/python3.12/multiprocessing/popen_fork.py:66: RuntimeWarning: os.fork() was called. os.fork() is incompatible with multithreaded code, and JAX is multithreaded, so this will likely lead to a deadlock.\n",
      "  self.pid = os.fork()\n",
      "LOCAL_RANK: 0 - CUDA_VISIBLE_DEVICES: [MIG-887fd1e0-585a-56c2-81f3-94f71fe4e1e3]\n",
      "SLURM auto-requeueing enabled. Setting signal handlers.\n"
     ]
    },
    {
     "name": "stdout",
     "output_type": "stream",
     "text": [
      "Epoch 50/50: 100%|██████████| 50/50 [00:55<00:00,  1.32s/it, loss=1.02e+03, v_num=1]"
     ]
    },
    {
     "name": "stderr",
     "output_type": "stream",
     "text": [
      "`Trainer.fit` stopped: `max_epochs=50` reached.\n"
     ]
    },
    {
     "name": "stdout",
     "output_type": "stream",
     "text": [
      "Epoch 50/50: 100%|██████████| 50/50 [00:55<00:00,  1.11s/it, loss=1.02e+03, v_num=1]\n",
      "\u001b[34mINFO    \u001b[0m AnnData object appears to be a copy. Attempting to transfer setup.                                        \n",
      "\u001b[34mINFO    \u001b[0m AnnData object appears to be a copy. Attempting to transfer setup.                                        \n"
     ]
    },
    {
     "name": "stderr",
     "output_type": "stream",
     "text": [
      "Computing neighbors: 100%|██████████| 1/1 [00:08<00:00,  8.13s/it]\n",
      "Embeddings:   0%|\u001b[32m          \u001b[0m| 0/1 [00:00<?, ?it/s]\n",
      "Metrics:   0%|\u001b[34m          \u001b[0m| 0/10 [00:00<?, ?it/s]\u001b[A\n",
      "Metrics:   0%|\u001b[34m          \u001b[0m| 0/10 [00:00<?, ?it/s, Bio conservation: isolated_labels]\u001b[A\n",
      "Metrics:  10%|\u001b[34m█         \u001b[0m| 1/10 [00:00<00:06,  1.39it/s, Bio conservation: isolated_labels]\u001b[A\n",
      "Metrics:  10%|\u001b[34m█         \u001b[0m| 1/10 [00:00<00:06,  1.39it/s, Bio conservation: nmi_ari_cluster_labels_kmeans]\u001b[A\n",
      "Metrics:  20%|\u001b[34m██        \u001b[0m| 2/10 [00:02<00:12,  1.52s/it, Bio conservation: nmi_ari_cluster_labels_kmeans]\u001b[A\n",
      "Metrics:  20%|\u001b[34m██        \u001b[0m| 2/10 [00:02<00:12,  1.52s/it, Bio conservation: silhouette_label]             \u001b[A\n",
      "Metrics:  30%|\u001b[34m███       \u001b[0m| 3/10 [00:03<00:07,  1.11s/it, Bio conservation: silhouette_label]\u001b[A\n",
      "Metrics:  30%|\u001b[34m███       \u001b[0m| 3/10 [00:03<00:07,  1.11s/it, Bio conservation: clisi_knn]       \u001b[A\n",
      "Metrics:  40%|\u001b[34m████      \u001b[0m| 4/10 [00:03<00:06,  1.11s/it, Batch correction: silhouette_batch]\u001b[A\n",
      "Metrics:  50%|\u001b[34m█████     \u001b[0m| 5/10 [00:03<00:02,  1.77it/s, Batch correction: silhouette_batch]\u001b[A\n",
      "Metrics:  50%|\u001b[34m█████     \u001b[0m| 5/10 [00:03<00:02,  1.77it/s, Batch correction: ilisi_knn]       \u001b[A\n",
      "Metrics:  60%|\u001b[34m██████    \u001b[0m| 6/10 [00:03<00:01,  2.32it/s, Batch correction: ilisi_knn]\u001b[A\n",
      "Metrics:  60%|\u001b[34m██████    \u001b[0m| 6/10 [00:03<00:01,  2.32it/s, Batch correction: kbet_per_label]\u001b[A"
     ]
    },
    {
     "name": "stdout",
     "output_type": "stream",
     "text": [
      "\u001b[34mINFO    \u001b[0m HSPCs consists of a single batch or is too small. Skip.                                                   \n",
      "\u001b[34mINFO    \u001b[0m Plasma cells consists of a single batch or is too small. Skip.                                            \n"
     ]
    },
    {
     "name": "stderr",
     "output_type": "stream",
     "text": [
      "\n",
      "Metrics:  70%|\u001b[34m███████   \u001b[0m| 7/10 [00:14<00:10,  3.45s/it, Batch correction: kbet_per_label]\u001b[A\n",
      "Metrics:  70%|\u001b[34m███████   \u001b[0m| 7/10 [00:14<00:10,  3.45s/it, Batch correction: graph_connectivity]\u001b[A\n",
      "Embeddings: 100%|\u001b[32m██████████\u001b[0m| 1/1 [00:14<00:00, 14.68s/it]atch correction: pcr_comparison]    \u001b[A\n",
      "\n",
      "                                                                                         \u001b[A/ictstr01/home/icb/fatemehs.hashemig/codes/interpretable-ssl/interpretable_ssl/trainers/trainer.py:314: FutureWarning: The frame.append method is deprecated and will be removed from pandas in a future version. Use pandas.concat instead.\n",
      "  overall_df = overall_df.append(fold_df, ignore_index=True)\n"
     ]
    },
    {
     "name": "stdout",
     "output_type": "stream",
     "text": [
      "Evaluating fold 9\n",
      "\u001b[34mINFO    \u001b[0m File \u001b[35m/home/icb/fatemehs.hashemig/models/\u001b[0m\u001b[35m/pbmc-immune/\u001b[0m\u001b[35m/scvi-latent_dim8_ccross-val/fold-9/\u001b[0m\u001b[95mmodel.pt\u001b[0m already \n",
      "         downloaded                                                                                                \n"
     ]
    },
    {
     "name": "stderr",
     "output_type": "stream",
     "text": [
      "/home/icb/fatemehs.hashemig/miniconda3/envs/interpretable-ssl/lib/python3.12/multiprocessing/popen_fork.py:66: RuntimeWarning: os.fork() was called. os.fork() is incompatible with multithreaded code, and JAX is multithreaded, so this will likely lead to a deadlock.\n",
      "  self.pid = os.fork()\n",
      "Multiprocessing is handled by SLURM.\n",
      "GPU available: True (cuda), used: True\n",
      "TPU available: False, using: 0 TPU cores\n",
      "IPU available: False, using: 0 IPUs\n",
      "HPU available: False, using: 0 HPUs\n",
      "/home/icb/fatemehs.hashemig/miniconda3/envs/interpretable-ssl/lib/python3.12/multiprocessing/popen_fork.py:66: RuntimeWarning: os.fork() was called. os.fork() is incompatible with multithreaded code, and JAX is multithreaded, so this will likely lead to a deadlock.\n",
      "  self.pid = os.fork()\n",
      "LOCAL_RANK: 0 - CUDA_VISIBLE_DEVICES: [MIG-887fd1e0-585a-56c2-81f3-94f71fe4e1e3]\n",
      "SLURM auto-requeueing enabled. Setting signal handlers.\n"
     ]
    },
    {
     "name": "stdout",
     "output_type": "stream",
     "text": [
      "Epoch 50/50: 100%|██████████| 50/50 [00:38<00:00,  1.66it/s, loss=3.46e+03, v_num=1]"
     ]
    },
    {
     "name": "stderr",
     "output_type": "stream",
     "text": [
      "`Trainer.fit` stopped: `max_epochs=50` reached.\n"
     ]
    },
    {
     "name": "stdout",
     "output_type": "stream",
     "text": [
      "Epoch 50/50: 100%|██████████| 50/50 [00:38<00:00,  1.30it/s, loss=3.46e+03, v_num=1]\n",
      "\u001b[34mINFO    \u001b[0m AnnData object appears to be a copy. Attempting to transfer setup.                                        \n",
      "\u001b[34mINFO    \u001b[0m AnnData object appears to be a copy. Attempting to transfer setup.                                        \n"
     ]
    },
    {
     "name": "stderr",
     "output_type": "stream",
     "text": [
      "Computing neighbors: 100%|██████████| 1/1 [00:05<00:00,  5.50s/it]\n",
      "Embeddings:   0%|\u001b[32m          \u001b[0m| 0/1 [00:00<?, ?it/s]\n",
      "Metrics:   0%|\u001b[34m          \u001b[0m| 0/10 [00:00<?, ?it/s]\u001b[A\n",
      "Metrics:   0%|\u001b[34m          \u001b[0m| 0/10 [00:00<?, ?it/s, Bio conservation: isolated_labels]\u001b[A\n",
      "Metrics:  10%|\u001b[34m█         \u001b[0m| 1/10 [00:00<00:03,  2.72it/s, Bio conservation: isolated_labels]\u001b[A\n",
      "Metrics:  10%|\u001b[34m█         \u001b[0m| 1/10 [00:00<00:03,  2.72it/s, Bio conservation: nmi_ari_cluster_labels_kmeans]\u001b[A\n",
      "Metrics:  20%|\u001b[34m██        \u001b[0m| 2/10 [00:01<00:08,  1.03s/it, Bio conservation: nmi_ari_cluster_labels_kmeans]\u001b[A\n",
      "Metrics:  20%|\u001b[34m██        \u001b[0m| 2/10 [00:01<00:08,  1.03s/it, Bio conservation: silhouette_label]             \u001b[A\n",
      "Metrics:  30%|\u001b[34m███       \u001b[0m| 3/10 [00:02<00:04,  1.48it/s, Bio conservation: silhouette_label]\u001b[A\n",
      "Metrics:  30%|\u001b[34m███       \u001b[0m| 3/10 [00:02<00:04,  1.48it/s, Bio conservation: clisi_knn]       \u001b[A\n",
      "Metrics:  40%|\u001b[34m████      \u001b[0m| 4/10 [00:02<00:04,  1.48it/s, Batch correction: silhouette_batch]\u001b[A\n",
      "Metrics:  50%|\u001b[34m█████     \u001b[0m| 5/10 [00:02<00:01,  3.09it/s, Batch correction: silhouette_batch]\u001b[A\n",
      "Metrics:  50%|\u001b[34m█████     \u001b[0m| 5/10 [00:02<00:01,  3.09it/s, Batch correction: ilisi_knn]       \u001b[A\n",
      "Metrics:  60%|\u001b[34m██████    \u001b[0m| 6/10 [00:02<00:01,  3.09it/s, Batch correction: kbet_per_label]\u001b[A"
     ]
    },
    {
     "name": "stdout",
     "output_type": "stream",
     "text": [
      "\u001b[34mINFO    \u001b[0m CD20+ B cells consists of a single batch or is too small. Skip.                                           \n",
      "\u001b[34mINFO    \u001b[0m CD4+ T cells consists of a single batch or is too small. Skip.                                            \n",
      "\u001b[34mINFO    \u001b[0m CD8+ T cells consists of a single batch or is too small. Skip.                                            \n",
      "\u001b[34mINFO    \u001b[0m HSPCs consists of a single batch or is too small. Skip.                                                   \n",
      "\u001b[34mINFO    \u001b[0m Megakaryocyte progenitors consists of a single batch or is too small. Skip.                               \n",
      "\u001b[34mINFO    \u001b[0m NK cells consists of a single batch or is too small. Skip.                                                \n",
      "\u001b[34mINFO    \u001b[0m NKT cells consists of a single batch or is too small. Skip.                                               \n",
      "\u001b[34mINFO    \u001b[0m Plasma cells consists of a single batch or is too small. Skip.                                            \n"
     ]
    },
    {
     "name": "stderr",
     "output_type": "stream",
     "text": [
      "\n",
      "Metrics:  70%|\u001b[34m███████   \u001b[0m| 7/10 [00:05<00:02,  1.05it/s, Batch correction: kbet_per_label]\u001b[A\n",
      "Metrics:  70%|\u001b[34m███████   \u001b[0m| 7/10 [00:05<00:02,  1.05it/s, Batch correction: graph_connectivity]\u001b[A\n",
      "Embeddings: 100%|\u001b[32m██████████\u001b[0m| 1/1 [00:05<00:00,  5.76s/it]atch correction: pcr_comparison]    \u001b[A\n",
      "\n",
      "                                                                                         \u001b[A/ictstr01/home/icb/fatemehs.hashemig/codes/interpretable-ssl/interpretable_ssl/trainers/trainer.py:314: FutureWarning: The frame.append method is deprecated and will be removed from pandas in a future version. Use pandas.concat instead.\n",
      "  overall_df = overall_df.append(fold_df, ignore_index=True)\n"
     ]
    },
    {
     "name": "stdout",
     "output_type": "stream",
     "text": [
      "Evaluating fold 10\n",
      "\u001b[34mINFO    \u001b[0m File \u001b[35m/home/icb/fatemehs.hashemig/models/\u001b[0m\u001b[35m/pbmc-immune/\u001b[0m\u001b[35m/scvi-latent_dim8_ccross-val/fold-10/\u001b[0m\u001b[95mmodel.pt\u001b[0m already\n",
      "         downloaded                                                                                                \n"
     ]
    },
    {
     "name": "stderr",
     "output_type": "stream",
     "text": [
      "/home/icb/fatemehs.hashemig/miniconda3/envs/interpretable-ssl/lib/python3.12/multiprocessing/popen_fork.py:66: RuntimeWarning: os.fork() was called. os.fork() is incompatible with multithreaded code, and JAX is multithreaded, so this will likely lead to a deadlock.\n",
      "  self.pid = os.fork()\n",
      "Multiprocessing is handled by SLURM.\n",
      "GPU available: True (cuda), used: True\n",
      "TPU available: False, using: 0 TPU cores\n",
      "IPU available: False, using: 0 IPUs\n",
      "HPU available: False, using: 0 HPUs\n",
      "/home/icb/fatemehs.hashemig/miniconda3/envs/interpretable-ssl/lib/python3.12/multiprocessing/popen_fork.py:66: RuntimeWarning: os.fork() was called. os.fork() is incompatible with multithreaded code, and JAX is multithreaded, so this will likely lead to a deadlock.\n",
      "  self.pid = os.fork()\n",
      "LOCAL_RANK: 0 - CUDA_VISIBLE_DEVICES: [MIG-887fd1e0-585a-56c2-81f3-94f71fe4e1e3]\n",
      "SLURM auto-requeueing enabled. Setting signal handlers.\n"
     ]
    },
    {
     "name": "stdout",
     "output_type": "stream",
     "text": [
      "Epoch 50/50: 100%|██████████| 50/50 [00:28<00:00,  1.45it/s, loss=3.65e+03, v_num=1]"
     ]
    },
    {
     "name": "stderr",
     "output_type": "stream",
     "text": [
      "`Trainer.fit` stopped: `max_epochs=50` reached.\n"
     ]
    },
    {
     "name": "stdout",
     "output_type": "stream",
     "text": [
      "Epoch 50/50: 100%|██████████| 50/50 [00:28<00:00,  1.72it/s, loss=3.65e+03, v_num=1]\n",
      "\u001b[34mINFO    \u001b[0m AnnData object appears to be a copy. Attempting to transfer setup.                                        \n",
      "\u001b[34mINFO    \u001b[0m AnnData object appears to be a copy. Attempting to transfer setup.                                        \n"
     ]
    },
    {
     "name": "stderr",
     "output_type": "stream",
     "text": [
      "Computing neighbors: 100%|██████████| 1/1 [00:04<00:00,  4.70s/it]\n",
      "Embeddings:   0%|\u001b[32m          \u001b[0m| 0/1 [00:00<?, ?it/s]\n",
      "Metrics:   0%|\u001b[34m          \u001b[0m| 0/10 [00:00<?, ?it/s]\u001b[A\n",
      "Metrics:   0%|\u001b[34m          \u001b[0m| 0/10 [00:00<?, ?it/s, Bio conservation: isolated_labels]\u001b[A\n",
      "Metrics:  10%|\u001b[34m█         \u001b[0m| 1/10 [00:00<00:01,  4.84it/s, Bio conservation: isolated_labels]\u001b[A\n",
      "Metrics:  10%|\u001b[34m█         \u001b[0m| 1/10 [00:00<00:01,  4.84it/s, Bio conservation: nmi_ari_cluster_labels_kmeans]\u001b[A\n",
      "Metrics:  20%|\u001b[34m██        \u001b[0m| 2/10 [00:02<00:10,  1.28s/it, Bio conservation: nmi_ari_cluster_labels_kmeans]\u001b[A\n",
      "Metrics:  20%|\u001b[34m██        \u001b[0m| 2/10 [00:02<00:10,  1.28s/it, Bio conservation: silhouette_label]             \u001b[A\n",
      "Metrics:  30%|\u001b[34m███       \u001b[0m| 3/10 [00:02<00:05,  1.24it/s, Bio conservation: silhouette_label]\u001b[A\n",
      "Metrics:  30%|\u001b[34m███       \u001b[0m| 3/10 [00:02<00:05,  1.24it/s, Bio conservation: clisi_knn]       \u001b[A\n",
      "Metrics:  40%|\u001b[34m████      \u001b[0m| 4/10 [00:02<00:04,  1.24it/s, Batch correction: silhouette_batch]\u001b[A\n",
      "Metrics:  50%|\u001b[34m█████     \u001b[0m| 5/10 [00:02<00:02,  2.46it/s, Batch correction: silhouette_batch]\u001b[A\n",
      "Metrics:  50%|\u001b[34m█████     \u001b[0m| 5/10 [00:02<00:02,  2.46it/s, Batch correction: ilisi_knn]       \u001b[A\n",
      "Metrics:  60%|\u001b[34m██████    \u001b[0m| 6/10 [00:02<00:01,  2.46it/s, Batch correction: kbet_per_label]\u001b[A\n",
      "Metrics:  70%|\u001b[34m███████   \u001b[0m| 7/10 [00:08<00:04,  1.58s/it, Batch correction: kbet_per_label]\u001b[A\n",
      "Metrics:  70%|\u001b[34m███████   \u001b[0m| 7/10 [00:08<00:04,  1.58s/it, Batch correction: graph_connectivity]\u001b[A\n",
      "Embeddings: 100%|\u001b[32m██████████\u001b[0m| 1/1 [00:08<00:00,  8.84s/it]atch correction: pcr_comparison]    \u001b[A\n",
      "\n",
      "                                                                                         \u001b[A/ictstr01/home/icb/fatemehs.hashemig/codes/interpretable-ssl/interpretable_ssl/trainers/trainer.py:314: FutureWarning: The frame.append method is deprecated and will be removed from pandas in a future version. Use pandas.concat instead.\n",
      "  overall_df = overall_df.append(fold_df, ignore_index=True)\n"
     ]
    },
    {
     "name": "stdout",
     "output_type": "stream",
     "text": [
      "running custom cross validation evaluation\n"
     ]
    },
    {
     "name": "stderr",
     "output_type": "stream",
     "text": [
      "INFO:scarches.trainers.scpoli.trainer:GPU available: True, GPU used: True\n"
     ]
    },
    {
     "name": "stdout",
     "output_type": "stream",
     "text": [
      "Evaluating fold 1\n",
      "Embedding dictionary:\n",
      " \tNum conditions: [3]\n",
      " \tEmbedding dim: [10]\n",
      "Encoder Architecture:\n",
      "\tInput Layer in, out and cond: 4000 64 10\n",
      "\tMean/Var Layer in/out: 64 8\n",
      "Decoder Architecture:\n",
      "\tFirst Layer in, out and cond:  8 64 10\n",
      "\tOutput Layer in/out:  64 4000 \n",
      "\n",
      "Embedding dictionary:\n",
      " \tNum conditions: [5]\n",
      " \tEmbedding dim: [10]\n",
      "Encoder Architecture:\n",
      "\tInput Layer in, out and cond: 4000 64 10\n",
      "\tMean/Var Layer in/out: 64 8\n",
      "Decoder Architecture:\n",
      "\tFirst Layer in, out and cond:  8 64 10\n",
      "\tOutput Layer in/out:  64 4000 \n",
      "\n",
      "Warning: Labels in adata.obs[cell_type] is not a subset of label-encoder!\n",
      "The missing labels are: {'Erythrocytes', 'Monocyte progenitors', 'CD10+ B cells', 'Erythroid progenitors'}\n",
      "Therefore integer value of those labels is set to -1\n",
      "Warning: Labels in adata.obs[cell_type] is not a subset of label-encoder!\n",
      "The missing labels are: {'Erythrocytes', 'Monocyte progenitors', 'CD10+ B cells', 'Erythroid progenitors'}\n",
      "Therefore integer value of those labels is set to -1\n",
      "Initializing dataloaders\n",
      "Starting training\n",
      " |████████████████----| 80.0%  - val_loss:  443.95 - val_cvae_loss:  443.95\n",
      "Initializing unlabeled prototypes with Leiden with an unknown number of  clusters.\n",
      "Clustering succesful. Found 28 clusters.\n",
      " |████████████████████| 100.0%  - val_loss:  443.97 - val_cvae_loss:  443.97 - val_prototype_loss:    0.00 - val_unlabeled_loss:    0.23\n"
     ]
    },
    {
     "name": "stderr",
     "output_type": "stream",
     "text": [
      "Computing neighbors: 100%|██████████| 1/1 [00:05<00:00,  5.59s/it]\n",
      "Embeddings:   0%|\u001b[32m          \u001b[0m| 0/1 [00:00<?, ?it/s]\n",
      "Metrics:   0%|\u001b[34m          \u001b[0m| 0/10 [00:00<?, ?it/s]\u001b[A\n",
      "Metrics:   0%|\u001b[34m          \u001b[0m| 0/10 [00:00<?, ?it/s, Bio conservation: isolated_labels]\u001b[A\n",
      "Metrics:  10%|\u001b[34m█         \u001b[0m| 1/10 [00:00<00:04,  1.82it/s, Bio conservation: isolated_labels]\u001b[A\n",
      "Metrics:  10%|\u001b[34m█         \u001b[0m| 1/10 [00:00<00:04,  1.82it/s, Bio conservation: nmi_ari_cluster_labels_kmeans]\u001b[A\n",
      "Metrics:  20%|\u001b[34m██        \u001b[0m| 2/10 [00:03<00:15,  1.96s/it, Bio conservation: nmi_ari_cluster_labels_kmeans]\u001b[A\n",
      "Metrics:  20%|\u001b[34m██        \u001b[0m| 2/10 [00:03<00:15,  1.96s/it, Bio conservation: silhouette_label]             \u001b[A\n",
      "Metrics:  30%|\u001b[34m███       \u001b[0m| 3/10 [00:04<00:09,  1.31s/it, Bio conservation: silhouette_label]\u001b[A\n",
      "Metrics:  30%|\u001b[34m███       \u001b[0m| 3/10 [00:04<00:09,  1.31s/it, Bio conservation: clisi_knn]       \u001b[A\n",
      "Metrics:  40%|\u001b[34m████      \u001b[0m| 4/10 [00:04<00:05,  1.18it/s, Bio conservation: clisi_knn]\u001b[A\n",
      "Metrics:  40%|\u001b[34m████      \u001b[0m| 4/10 [00:04<00:05,  1.18it/s, Batch correction: silhouette_batch]\u001b[A\n",
      "Metrics:  50%|\u001b[34m█████     \u001b[0m| 5/10 [00:04<00:03,  1.64it/s, Batch correction: silhouette_batch]\u001b[A\n",
      "Metrics:  50%|\u001b[34m█████     \u001b[0m| 5/10 [00:04<00:03,  1.64it/s, Batch correction: ilisi_knn]       \u001b[A\n",
      "Metrics:  60%|\u001b[34m██████    \u001b[0m| 6/10 [00:04<00:01,  2.26it/s, Batch correction: ilisi_knn]\u001b[A\n",
      "Metrics:  60%|\u001b[34m██████    \u001b[0m| 6/10 [00:04<00:01,  2.26it/s, Batch correction: kbet_per_label]\u001b[A\n",
      "Metrics:  70%|\u001b[34m███████   \u001b[0m| 7/10 [00:12<00:08,  2.99s/it, Batch correction: kbet_per_label]\u001b[A\n",
      "Metrics:  70%|\u001b[34m███████   \u001b[0m| 7/10 [00:12<00:08,  2.99s/it, Batch correction: graph_connectivity]\u001b[A\n",
      "Metrics:  80%|\u001b[34m████████  \u001b[0m| 8/10 [00:12<00:05,  2.99s/it, Batch correction: pcr_comparison]    \u001b[A\n",
      "Embeddings: 100%|\u001b[32m██████████\u001b[0m| 1/1 [00:12<00:00, 12.85s/it]atch correction: pcr_comparison]\u001b[A\n",
      "\n",
      "                                                                                         \u001b[A/ictstr01/home/icb/fatemehs.hashemig/codes/interpretable-ssl/interpretable_ssl/trainers/trainer.py:314: FutureWarning: The frame.append method is deprecated and will be removed from pandas in a future version. Use pandas.concat instead.\n",
      "  overall_df = overall_df.append(fold_df, ignore_index=True)\n",
      "INFO:scarches.trainers.scpoli.trainer:GPU available: True, GPU used: True\n"
     ]
    },
    {
     "name": "stdout",
     "output_type": "stream",
     "text": [
      "Evaluating fold 2\n",
      "Embedding dictionary:\n",
      " \tNum conditions: [3]\n",
      " \tEmbedding dim: [10]\n",
      "Encoder Architecture:\n",
      "\tInput Layer in, out and cond: 4000 64 10\n",
      "\tMean/Var Layer in/out: 64 8\n",
      "Decoder Architecture:\n",
      "\tFirst Layer in, out and cond:  8 64 10\n",
      "\tOutput Layer in/out:  64 4000 \n",
      "\n",
      "Embedding dictionary:\n",
      " \tNum conditions: [5]\n",
      " \tEmbedding dim: [10]\n",
      "Encoder Architecture:\n",
      "\tInput Layer in, out and cond: 4000 64 10\n",
      "\tMean/Var Layer in/out: 64 8\n",
      "Decoder Architecture:\n",
      "\tFirst Layer in, out and cond:  8 64 10\n",
      "\tOutput Layer in/out:  64 4000 \n",
      "\n",
      "Warning: Labels in adata.obs[cell_type] is not a subset of label-encoder!\n",
      "The missing labels are: {'CD10+ B cells', 'Monocyte progenitors', 'Plasma cells', 'Erythroid progenitors', 'HSPCs', 'Erythrocytes'}\n",
      "Therefore integer value of those labels is set to -1\n",
      "Warning: Labels in adata.obs[cell_type] is not a subset of label-encoder!\n",
      "The missing labels are: {'Plasma cells', 'HSPCs'}\n",
      "Therefore integer value of those labels is set to -1\n",
      "Warning: Labels in adata.obs[cell_type] is not a subset of label-encoder!\n",
      "The missing labels are: {'CD10+ B cells', 'Monocyte progenitors', 'Plasma cells', 'Erythroid progenitors', 'HSPCs', 'Erythrocytes'}\n",
      "Therefore integer value of those labels is set to -1\n",
      "Warning: Labels in adata.obs[cell_type] is not a subset of label-encoder!\n",
      "The missing labels are: {'Plasma cells', 'HSPCs'}\n",
      "Therefore integer value of those labels is set to -1\n",
      "Initializing dataloaders\n",
      "Starting training\n",
      " |████████████████----| 80.0%  - val_loss:  885.07 - val_cvae_loss:  885.07\n",
      "Initializing unlabeled prototypes with Leiden with an unknown number of  clusters.\n",
      "Clustering succesful. Found 23 clusters.\n",
      " |████████████████████| 100.0%  - val_loss:  886.99 - val_cvae_loss:  886.99 - val_prototype_loss:    0.00 - val_unlabeled_loss:    0.20\n"
     ]
    },
    {
     "name": "stderr",
     "output_type": "stream",
     "text": [
      "Computing neighbors: 100%|██████████| 1/1 [00:08<00:00,  8.40s/it]\n",
      "Embeddings:   0%|\u001b[32m          \u001b[0m| 0/1 [00:00<?, ?it/s]\n",
      "Metrics:   0%|\u001b[34m          \u001b[0m| 0/10 [00:00<?, ?it/s]\u001b[A\n",
      "Metrics:   0%|\u001b[34m          \u001b[0m| 0/10 [00:00<?, ?it/s, Bio conservation: isolated_labels]\u001b[A\n",
      "Metrics:  10%|\u001b[34m█         \u001b[0m| 1/10 [00:00<00:08,  1.05it/s, Bio conservation: isolated_labels]\u001b[A\n",
      "Metrics:  10%|\u001b[34m█         \u001b[0m| 1/10 [00:00<00:08,  1.05it/s, Bio conservation: nmi_ari_cluster_labels_kmeans]\u001b[A\n",
      "Metrics:  20%|\u001b[34m██        \u001b[0m| 2/10 [00:03<00:15,  1.88s/it, Bio conservation: nmi_ari_cluster_labels_kmeans]\u001b[A\n",
      "Metrics:  20%|\u001b[34m██        \u001b[0m| 2/10 [00:03<00:15,  1.88s/it, Bio conservation: silhouette_label]             \u001b[A\n",
      "Metrics:  30%|\u001b[34m███       \u001b[0m| 3/10 [00:04<00:10,  1.44s/it, Bio conservation: silhouette_label]\u001b[A\n",
      "Metrics:  30%|\u001b[34m███       \u001b[0m| 3/10 [00:04<00:10,  1.44s/it, Bio conservation: clisi_knn]       \u001b[A\n",
      "Metrics:  40%|\u001b[34m████      \u001b[0m| 4/10 [00:04<00:05,  1.06it/s, Bio conservation: clisi_knn]\u001b[A\n",
      "Metrics:  40%|\u001b[34m████      \u001b[0m| 4/10 [00:04<00:05,  1.06it/s, Batch correction: silhouette_batch]\u001b[A\n",
      "Metrics:  50%|\u001b[34m█████     \u001b[0m| 5/10 [00:05<00:03,  1.28it/s, Batch correction: silhouette_batch]\u001b[A\n",
      "Metrics:  50%|\u001b[34m█████     \u001b[0m| 5/10 [00:05<00:03,  1.28it/s, Batch correction: ilisi_knn]       \u001b[A\n",
      "Metrics:  60%|\u001b[34m██████    \u001b[0m| 6/10 [00:05<00:02,  1.74it/s, Batch correction: ilisi_knn]\u001b[A\n",
      "Metrics:  60%|\u001b[34m██████    \u001b[0m| 6/10 [00:05<00:02,  1.74it/s, Batch correction: kbet_per_label]\u001b[A\n",
      "Metrics:  70%|\u001b[34m███████   \u001b[0m| 7/10 [00:21<00:16,  5.55s/it, Batch correction: kbet_per_label]\u001b[A\n",
      "Metrics:  70%|\u001b[34m███████   \u001b[0m| 7/10 [00:21<00:16,  5.55s/it, Batch correction: graph_connectivity]\u001b[A\n",
      "Metrics:  80%|\u001b[34m████████  \u001b[0m| 8/10 [00:21<00:11,  5.55s/it, Batch correction: pcr_comparison]    \u001b[A\n",
      "Embeddings: 100%|\u001b[32m██████████\u001b[0m| 1/1 [00:21<00:00, 21.23s/it]atch correction: pcr_comparison]\u001b[A\n",
      "\n",
      "                                                                                         \u001b[A/ictstr01/home/icb/fatemehs.hashemig/codes/interpretable-ssl/interpretable_ssl/trainers/trainer.py:314: FutureWarning: The frame.append method is deprecated and will be removed from pandas in a future version. Use pandas.concat instead.\n",
      "  overall_df = overall_df.append(fold_df, ignore_index=True)\n"
     ]
    },
    {
     "name": "stdout",
     "output_type": "stream",
     "text": [
      "Evaluating fold 3\n",
      "Embedding dictionary:\n",
      " \tNum conditions: [3]\n",
      " \tEmbedding dim: [10]\n",
      "Encoder Architecture:\n",
      "\tInput Layer in, out and cond: 4000 64 10\n",
      "\tMean/Var Layer in/out: 64 8\n",
      "Decoder Architecture:\n",
      "\tFirst Layer in, out and cond:  8 64 10\n",
      "\tOutput Layer in/out:  64 4000 \n",
      "\n"
     ]
    },
    {
     "name": "stderr",
     "output_type": "stream",
     "text": [
      "INFO:scarches.trainers.scpoli.trainer:GPU available: True, GPU used: True\n"
     ]
    },
    {
     "name": "stdout",
     "output_type": "stream",
     "text": [
      "Embedding dictionary:\n",
      " \tNum conditions: [5]\n",
      " \tEmbedding dim: [10]\n",
      "Encoder Architecture:\n",
      "\tInput Layer in, out and cond: 4000 64 10\n",
      "\tMean/Var Layer in/out: 64 8\n",
      "Decoder Architecture:\n",
      "\tFirst Layer in, out and cond:  8 64 10\n",
      "\tOutput Layer in/out:  64 4000 \n",
      "\n",
      "Warning: Labels in adata.obs[cell_type] is not a subset of label-encoder!\n",
      "The missing labels are: {'Erythrocytes', 'Monocyte progenitors', 'CD10+ B cells', 'Erythroid progenitors'}\n",
      "Therefore integer value of those labels is set to -1\n",
      "Warning: Labels in adata.obs[cell_type] is not a subset of label-encoder!\n",
      "The missing labels are: {'Erythrocytes', 'Monocyte progenitors', 'CD10+ B cells', 'Erythroid progenitors'}\n",
      "Therefore integer value of those labels is set to -1\n",
      "Initializing dataloaders\n",
      "Starting training\n",
      " |████████████████----| 80.0%  - val_loss:  448.46 - val_cvae_loss:  448.46\n",
      "Initializing unlabeled prototypes with Leiden with an unknown number of  clusters.\n",
      "Clustering succesful. Found 33 clusters.\n",
      " |████████████████████| 100.0%  - val_loss:  450.27 - val_cvae_loss:  450.27 - val_prototype_loss:    0.00 - val_unlabeled_loss:    0.19\n"
     ]
    },
    {
     "name": "stderr",
     "output_type": "stream",
     "text": [
      "Computing neighbors: 100%|██████████| 1/1 [00:07<00:00,  7.75s/it]\n",
      "Embeddings:   0%|\u001b[32m          \u001b[0m| 0/1 [00:00<?, ?it/s]\n",
      "Metrics:   0%|\u001b[34m          \u001b[0m| 0/10 [00:00<?, ?it/s]\u001b[A\n",
      "Metrics:   0%|\u001b[34m          \u001b[0m| 0/10 [00:00<?, ?it/s, Bio conservation: isolated_labels]\u001b[A\n",
      "Metrics:  10%|\u001b[34m█         \u001b[0m| 1/10 [00:00<00:08,  1.11it/s, Bio conservation: isolated_labels]\u001b[A\n",
      "Metrics:  10%|\u001b[34m█         \u001b[0m| 1/10 [00:00<00:08,  1.11it/s, Bio conservation: nmi_ari_cluster_labels_kmeans]\u001b[A\n",
      "Metrics:  20%|\u001b[34m██        \u001b[0m| 2/10 [00:03<00:16,  2.07s/it, Bio conservation: nmi_ari_cluster_labels_kmeans]\u001b[A\n",
      "Metrics:  20%|\u001b[34m██        \u001b[0m| 2/10 [00:03<00:16,  2.07s/it, Bio conservation: silhouette_label]             \u001b[A\n",
      "Metrics:  30%|\u001b[34m███       \u001b[0m| 3/10 [00:04<00:11,  1.63s/it, Bio conservation: silhouette_label]\u001b[A\n",
      "Metrics:  30%|\u001b[34m███       \u001b[0m| 3/10 [00:04<00:11,  1.63s/it, Bio conservation: clisi_knn]       \u001b[A\n",
      "Metrics:  40%|\u001b[34m████      \u001b[0m| 4/10 [00:05<00:06,  1.05s/it, Bio conservation: clisi_knn]\u001b[A\n",
      "Metrics:  40%|\u001b[34m████      \u001b[0m| 4/10 [00:05<00:06,  1.05s/it, Batch correction: silhouette_batch]\u001b[A\n",
      "Metrics:  50%|\u001b[34m█████     \u001b[0m| 5/10 [00:05<00:03,  1.29it/s, Batch correction: silhouette_batch]\u001b[A\n",
      "Metrics:  50%|\u001b[34m█████     \u001b[0m| 5/10 [00:05<00:03,  1.29it/s, Batch correction: ilisi_knn]       \u001b[A\n",
      "Metrics:  60%|\u001b[34m██████    \u001b[0m| 6/10 [00:05<00:02,  1.79it/s, Batch correction: ilisi_knn]\u001b[A\n",
      "Metrics:  60%|\u001b[34m██████    \u001b[0m| 6/10 [00:05<00:02,  1.79it/s, Batch correction: kbet_per_label]\u001b[A\n",
      "Metrics:  70%|\u001b[34m███████   \u001b[0m| 7/10 [00:17<00:12,  4.16s/it, Batch correction: kbet_per_label]\u001b[A\n",
      "Metrics:  70%|\u001b[34m███████   \u001b[0m| 7/10 [00:17<00:12,  4.16s/it, Batch correction: graph_connectivity]\u001b[A\n",
      "Embeddings: 100%|\u001b[32m██████████\u001b[0m| 1/1 [00:17<00:00, 17.15s/it]atch correction: pcr_comparison]    \u001b[A\n",
      "\n",
      "                                                                                         \u001b[A/ictstr01/home/icb/fatemehs.hashemig/codes/interpretable-ssl/interpretable_ssl/trainers/trainer.py:314: FutureWarning: The frame.append method is deprecated and will be removed from pandas in a future version. Use pandas.concat instead.\n",
      "  overall_df = overall_df.append(fold_df, ignore_index=True)\n",
      "INFO:scarches.trainers.scpoli.trainer:GPU available: True, GPU used: True\n"
     ]
    },
    {
     "name": "stdout",
     "output_type": "stream",
     "text": [
      "Evaluating fold 4\n",
      "Embedding dictionary:\n",
      " \tNum conditions: [3]\n",
      " \tEmbedding dim: [10]\n",
      "Encoder Architecture:\n",
      "\tInput Layer in, out and cond: 4000 64 10\n",
      "\tMean/Var Layer in/out: 64 8\n",
      "Decoder Architecture:\n",
      "\tFirst Layer in, out and cond:  8 64 10\n",
      "\tOutput Layer in/out:  64 4000 \n",
      "\n",
      "Embedding dictionary:\n",
      " \tNum conditions: [5]\n",
      " \tEmbedding dim: [10]\n",
      "Encoder Architecture:\n",
      "\tInput Layer in, out and cond: 4000 64 10\n",
      "\tMean/Var Layer in/out: 64 8\n",
      "Decoder Architecture:\n",
      "\tFirst Layer in, out and cond:  8 64 10\n",
      "\tOutput Layer in/out:  64 4000 \n",
      "\n",
      "Warning: Labels in adata.obs[cell_type] is not a subset of label-encoder!\n",
      "The missing labels are: {'Erythrocytes', 'Monocyte progenitors', 'CD10+ B cells', 'Erythroid progenitors'}\n",
      "Therefore integer value of those labels is set to -1\n",
      "Warning: Labels in adata.obs[cell_type] is not a subset of label-encoder!\n",
      "The missing labels are: {'Monocyte progenitors', 'Erythrocytes'}\n",
      "Therefore integer value of those labels is set to -1\n",
      "Warning: Labels in adata.obs[cell_type] is not a subset of label-encoder!\n",
      "The missing labels are: {'Erythrocytes', 'Monocyte progenitors', 'CD10+ B cells', 'Erythroid progenitors'}\n",
      "Therefore integer value of those labels is set to -1\n",
      "Warning: Labels in adata.obs[cell_type] is not a subset of label-encoder!\n",
      "The missing labels are: {'Monocyte progenitors', 'Erythrocytes'}\n",
      "Therefore integer value of those labels is set to -1\n",
      "Initializing dataloaders\n",
      "Starting training\n",
      " |████████████████----| 80.0%  - val_loss: 4267.45 - val_cvae_loss: 4267.45\n",
      "Initializing unlabeled prototypes with Leiden with an unknown number of  clusters.\n",
      "Clustering succesful. Found 26 clusters.\n",
      " |████████████████████| 100.0%  - val_loss: 4294.92 - val_cvae_loss: 4294.92 - val_prototype_loss:    0.00 - val_unlabeled_loss:    0.23\n"
     ]
    },
    {
     "name": "stderr",
     "output_type": "stream",
     "text": [
      "Computing neighbors: 100%|██████████| 1/1 [00:04<00:00,  4.66s/it]\n",
      "Embeddings:   0%|\u001b[32m          \u001b[0m| 0/1 [00:00<?, ?it/s]\n",
      "Metrics:   0%|\u001b[34m          \u001b[0m| 0/10 [00:00<?, ?it/s]\u001b[A\n",
      "Metrics:   0%|\u001b[34m          \u001b[0m| 0/10 [00:00<?, ?it/s, Bio conservation: isolated_labels]\u001b[A\n",
      "Metrics:  10%|\u001b[34m█         \u001b[0m| 1/10 [00:00<00:01,  4.85it/s, Bio conservation: isolated_labels]\u001b[A\n",
      "Metrics:  10%|\u001b[34m█         \u001b[0m| 1/10 [00:00<00:01,  4.85it/s, Bio conservation: nmi_ari_cluster_labels_kmeans]\u001b[A\n",
      "Metrics:  20%|\u001b[34m██        \u001b[0m| 2/10 [00:01<00:08,  1.05s/it, Bio conservation: nmi_ari_cluster_labels_kmeans]\u001b[A\n",
      "Metrics:  20%|\u001b[34m██        \u001b[0m| 2/10 [00:01<00:08,  1.05s/it, Bio conservation: silhouette_label]             \u001b[A\n",
      "Metrics:  30%|\u001b[34m███       \u001b[0m| 3/10 [00:02<00:05,  1.37it/s, Bio conservation: silhouette_label]\u001b[A\n",
      "Metrics:  30%|\u001b[34m███       \u001b[0m| 3/10 [00:02<00:05,  1.37it/s, Bio conservation: clisi_knn]       \u001b[A\n",
      "Metrics:  40%|\u001b[34m████      \u001b[0m| 4/10 [00:02<00:02,  2.06it/s, Bio conservation: clisi_knn]\u001b[A\n",
      "Metrics:  40%|\u001b[34m████      \u001b[0m| 4/10 [00:02<00:02,  2.06it/s, Batch correction: silhouette_batch]\u001b[A\n",
      "Metrics:  50%|\u001b[34m█████     \u001b[0m| 5/10 [00:02<00:01,  2.78it/s, Batch correction: silhouette_batch]\u001b[A\n",
      "Metrics:  50%|\u001b[34m█████     \u001b[0m| 5/10 [00:02<00:01,  2.78it/s, Batch correction: ilisi_knn]       \u001b[A\n",
      "Metrics:  60%|\u001b[34m██████    \u001b[0m| 6/10 [00:02<00:01,  3.63it/s, Batch correction: ilisi_knn]\u001b[A\n",
      "Metrics:  60%|\u001b[34m██████    \u001b[0m| 6/10 [00:02<00:01,  3.63it/s, Batch correction: kbet_per_label]\u001b[A\n",
      "Metrics:  70%|\u001b[34m███████   \u001b[0m| 7/10 [00:08<00:06,  2.23s/it, Batch correction: kbet_per_label]\u001b[A\n",
      "Metrics:  70%|\u001b[34m███████   \u001b[0m| 7/10 [00:08<00:06,  2.23s/it, Batch correction: graph_connectivity]\u001b[A\n",
      "Embeddings: 100%|\u001b[32m██████████\u001b[0m| 1/1 [00:08<00:00,  8.87s/it]atch correction: pcr_comparison]    \u001b[A\n",
      "\n",
      "                                                                                         \u001b[A/ictstr01/home/icb/fatemehs.hashemig/codes/interpretable-ssl/interpretable_ssl/trainers/trainer.py:314: FutureWarning: The frame.append method is deprecated and will be removed from pandas in a future version. Use pandas.concat instead.\n",
      "  overall_df = overall_df.append(fold_df, ignore_index=True)\n",
      "INFO:scarches.trainers.scpoli.trainer:GPU available: True, GPU used: True\n"
     ]
    },
    {
     "name": "stdout",
     "output_type": "stream",
     "text": [
      "Evaluating fold 5\n",
      "Embedding dictionary:\n",
      " \tNum conditions: [3]\n",
      " \tEmbedding dim: [10]\n",
      "Encoder Architecture:\n",
      "\tInput Layer in, out and cond: 4000 64 10\n",
      "\tMean/Var Layer in/out: 64 8\n",
      "Decoder Architecture:\n",
      "\tFirst Layer in, out and cond:  8 64 10\n",
      "\tOutput Layer in/out:  64 4000 \n",
      "\n",
      "Embedding dictionary:\n",
      " \tNum conditions: [5]\n",
      " \tEmbedding dim: [10]\n",
      "Encoder Architecture:\n",
      "\tInput Layer in, out and cond: 4000 64 10\n",
      "\tMean/Var Layer in/out: 64 8\n",
      "Decoder Architecture:\n",
      "\tFirst Layer in, out and cond:  8 64 10\n",
      "\tOutput Layer in/out:  64 4000 \n",
      "\n",
      "Initializing dataloaders\n",
      "Starting training\n",
      " |████████████████----| 80.0%  - val_loss:  883.94 - val_cvae_loss:  883.94\n",
      "Initializing unlabeled prototypes with Leiden with an unknown number of  clusters.\n",
      "Clustering succesful. Found 26 clusters.\n",
      " |████████████████████| 100.0%  - val_loss:  885.30 - val_cvae_loss:  885.30 - val_prototype_loss:    0.00 - val_unlabeled_loss:    0.16\n"
     ]
    },
    {
     "name": "stderr",
     "output_type": "stream",
     "text": [
      "Computing neighbors: 100%|██████████| 1/1 [00:05<00:00,  5.83s/it]\n",
      "Embeddings:   0%|\u001b[32m          \u001b[0m| 0/1 [00:00<?, ?it/s]\n",
      "Metrics:   0%|\u001b[34m          \u001b[0m| 0/10 [00:00<?, ?it/s]\u001b[A\n",
      "Metrics:   0%|\u001b[34m          \u001b[0m| 0/10 [00:00<?, ?it/s, Bio conservation: isolated_labels]\u001b[A\n",
      "Metrics:  10%|\u001b[34m█         \u001b[0m| 1/10 [00:00<00:04,  2.09it/s, Bio conservation: isolated_labels]\u001b[A\n",
      "Metrics:  10%|\u001b[34m█         \u001b[0m| 1/10 [00:00<00:04,  2.09it/s, Bio conservation: nmi_ari_cluster_labels_kmeans]\u001b[A\n",
      "Metrics:  20%|\u001b[34m██        \u001b[0m| 2/10 [00:02<00:11,  1.49s/it, Bio conservation: nmi_ari_cluster_labels_kmeans]\u001b[A\n",
      "Metrics:  20%|\u001b[34m██        \u001b[0m| 2/10 [00:02<00:11,  1.49s/it, Bio conservation: silhouette_label]             \u001b[A\n",
      "Metrics:  30%|\u001b[34m███       \u001b[0m| 3/10 [00:03<00:07,  1.01s/it, Bio conservation: silhouette_label]\u001b[A\n",
      "Metrics:  30%|\u001b[34m███       \u001b[0m| 3/10 [00:03<00:07,  1.01s/it, Bio conservation: clisi_knn]       \u001b[A\n",
      "Metrics:  40%|\u001b[34m████      \u001b[0m| 4/10 [00:03<00:03,  1.52it/s, Bio conservation: clisi_knn]\u001b[A\n",
      "Metrics:  40%|\u001b[34m████      \u001b[0m| 4/10 [00:03<00:03,  1.52it/s, Batch correction: silhouette_batch]\u001b[A\n",
      "Metrics:  50%|\u001b[34m█████     \u001b[0m| 5/10 [00:03<00:02,  2.07it/s, Batch correction: silhouette_batch]\u001b[A\n",
      "Metrics:  50%|\u001b[34m█████     \u001b[0m| 5/10 [00:03<00:02,  2.07it/s, Batch correction: ilisi_knn]       \u001b[A\n",
      "Metrics:  60%|\u001b[34m██████    \u001b[0m| 6/10 [00:03<00:01,  2.82it/s, Batch correction: ilisi_knn]\u001b[A\n",
      "Metrics:  60%|\u001b[34m██████    \u001b[0m| 6/10 [00:03<00:01,  2.82it/s, Batch correction: kbet_per_label]\u001b[A"
     ]
    },
    {
     "name": "stdout",
     "output_type": "stream",
     "text": [
      "\u001b[34mINFO    \u001b[0m HSPCs consists of a single batch or is too small. Skip.                                                   \n",
      "\u001b[34mINFO    \u001b[0m Monocyte-derived dendritic cells consists of a single batch or is too small. Skip.                        \n",
      "\u001b[34mINFO    \u001b[0m Plasma cells consists of a single batch or is too small. Skip.                                            \n"
     ]
    },
    {
     "name": "stderr",
     "output_type": "stream",
     "text": [
      "\n",
      "Metrics:  70%|\u001b[34m███████   \u001b[0m| 7/10 [00:11<00:08,  3.00s/it, Batch correction: kbet_per_label]\u001b[A\n",
      "Metrics:  70%|\u001b[34m███████   \u001b[0m| 7/10 [00:11<00:08,  3.00s/it, Batch correction: graph_connectivity]\u001b[A\n",
      "Embeddings: 100%|\u001b[32m██████████\u001b[0m| 1/1 [00:12<00:00, 12.04s/it]atch correction: pcr_comparison]    \u001b[A\n",
      "\n",
      "                                                                                         \u001b[A/ictstr01/home/icb/fatemehs.hashemig/codes/interpretable-ssl/interpretable_ssl/trainers/trainer.py:314: FutureWarning: The frame.append method is deprecated and will be removed from pandas in a future version. Use pandas.concat instead.\n",
      "  overall_df = overall_df.append(fold_df, ignore_index=True)\n",
      "INFO:scarches.trainers.scpoli.trainer:GPU available: True, GPU used: True\n"
     ]
    },
    {
     "name": "stdout",
     "output_type": "stream",
     "text": [
      "Evaluating fold 6\n",
      "Embedding dictionary:\n",
      " \tNum conditions: [3]\n",
      " \tEmbedding dim: [10]\n",
      "Encoder Architecture:\n",
      "\tInput Layer in, out and cond: 4000 64 10\n",
      "\tMean/Var Layer in/out: 64 8\n",
      "Decoder Architecture:\n",
      "\tFirst Layer in, out and cond:  8 64 10\n",
      "\tOutput Layer in/out:  64 4000 \n",
      "\n",
      "Embedding dictionary:\n",
      " \tNum conditions: [5]\n",
      " \tEmbedding dim: [10]\n",
      "Encoder Architecture:\n",
      "\tInput Layer in, out and cond: 4000 64 10\n",
      "\tMean/Var Layer in/out: 64 8\n",
      "Decoder Architecture:\n",
      "\tFirst Layer in, out and cond:  8 64 10\n",
      "\tOutput Layer in/out:  64 4000 \n",
      "\n",
      "Initializing dataloaders\n",
      "Starting training\n",
      " |████████████████----| 80.0%  - val_loss:  447.98 - val_cvae_loss:  447.98\n",
      "Initializing unlabeled prototypes with Leiden with an unknown number of  clusters.\n",
      "Clustering succesful. Found 29 clusters.\n",
      " |████████████████████| 100.0%  - val_loss:  450.52 - val_cvae_loss:  450.52 - val_prototype_loss:    0.00 - val_unlabeled_loss:    0.17\n"
     ]
    },
    {
     "name": "stderr",
     "output_type": "stream",
     "text": [
      "Computing neighbors: 100%|██████████| 1/1 [00:05<00:00,  5.69s/it]\n",
      "Embeddings:   0%|\u001b[32m          \u001b[0m| 0/1 [00:00<?, ?it/s]\n",
      "Metrics:   0%|\u001b[34m          \u001b[0m| 0/10 [00:00<?, ?it/s]\u001b[A\n",
      "Metrics:   0%|\u001b[34m          \u001b[0m| 0/10 [00:00<?, ?it/s, Bio conservation: isolated_labels]\u001b[A\n",
      "Metrics:  10%|\u001b[34m█         \u001b[0m| 1/10 [00:00<00:02,  4.42it/s, Bio conservation: isolated_labels]\u001b[A\n",
      "Metrics:  10%|\u001b[34m█         \u001b[0m| 1/10 [00:00<00:02,  4.42it/s, Bio conservation: nmi_ari_cluster_labels_kmeans]\u001b[A\n",
      "Metrics:  20%|\u001b[34m██        \u001b[0m| 2/10 [00:01<00:06,  1.30it/s, Bio conservation: nmi_ari_cluster_labels_kmeans]\u001b[A\n",
      "Metrics:  20%|\u001b[34m██        \u001b[0m| 2/10 [00:01<00:06,  1.30it/s, Bio conservation: silhouette_label]             \u001b[A\n",
      "Metrics:  30%|\u001b[34m███       \u001b[0m| 3/10 [00:01<00:03,  1.92it/s, Bio conservation: silhouette_label]\u001b[A\n",
      "Metrics:  30%|\u001b[34m███       \u001b[0m| 3/10 [00:01<00:03,  1.92it/s, Bio conservation: clisi_knn]       \u001b[A\n",
      "Metrics:  40%|\u001b[34m████      \u001b[0m| 4/10 [00:01<00:03,  1.92it/s, Batch correction: silhouette_batch]\u001b[A\n",
      "Metrics:  50%|\u001b[34m█████     \u001b[0m| 5/10 [00:01<00:01,  3.62it/s, Batch correction: silhouette_batch]\u001b[A\n",
      "Metrics:  50%|\u001b[34m█████     \u001b[0m| 5/10 [00:01<00:01,  3.62it/s, Batch correction: ilisi_knn]       \u001b[A\n",
      "Metrics:  60%|\u001b[34m██████    \u001b[0m| 6/10 [00:01<00:01,  3.62it/s, Batch correction: kbet_per_label]\u001b[A\n",
      "Metrics:  70%|\u001b[34m███████   \u001b[0m| 7/10 [00:08<00:05,  1.73s/it, Batch correction: kbet_per_label]\u001b[A\n",
      "Metrics:  70%|\u001b[34m███████   \u001b[0m| 7/10 [00:08<00:05,  1.73s/it, Batch correction: graph_connectivity]\u001b[A\n",
      "Metrics:  80%|\u001b[34m████████  \u001b[0m| 8/10 [00:08<00:03,  1.73s/it, Batch correction: pcr_comparison]    \u001b[A\n",
      "Embeddings: 100%|\u001b[32m██████████\u001b[0m| 1/1 [00:08<00:00,  8.92s/it]atch correction: pcr_comparison]\u001b[A\n",
      "\n",
      "                                                                                         \u001b[A/ictstr01/home/icb/fatemehs.hashemig/codes/interpretable-ssl/interpretable_ssl/trainers/trainer.py:314: FutureWarning: The frame.append method is deprecated and will be removed from pandas in a future version. Use pandas.concat instead.\n",
      "  overall_df = overall_df.append(fold_df, ignore_index=True)\n",
      "INFO:scarches.trainers.scpoli.trainer:GPU available: True, GPU used: True\n"
     ]
    },
    {
     "name": "stdout",
     "output_type": "stream",
     "text": [
      "Evaluating fold 7\n",
      "Embedding dictionary:\n",
      " \tNum conditions: [3]\n",
      " \tEmbedding dim: [10]\n",
      "Encoder Architecture:\n",
      "\tInput Layer in, out and cond: 4000 64 10\n",
      "\tMean/Var Layer in/out: 64 8\n",
      "Decoder Architecture:\n",
      "\tFirst Layer in, out and cond:  8 64 10\n",
      "\tOutput Layer in/out:  64 4000 \n",
      "\n",
      "Embedding dictionary:\n",
      " \tNum conditions: [5]\n",
      " \tEmbedding dim: [10]\n",
      "Encoder Architecture:\n",
      "\tInput Layer in, out and cond: 4000 64 10\n",
      "\tMean/Var Layer in/out: 64 8\n",
      "Decoder Architecture:\n",
      "\tFirst Layer in, out and cond:  8 64 10\n",
      "\tOutput Layer in/out:  64 4000 \n",
      "\n",
      "Initializing dataloaders\n",
      "Starting training\n",
      " |████████████████----| 80.0%  - val_loss: 4313.81 - val_cvae_loss: 4313.81\n",
      "Initializing unlabeled prototypes with Leiden with an unknown number of  clusters.\n",
      "Clustering succesful. Found 20 clusters.\n",
      " |████████████████████| 100.0%  - val_loss: 4290.69 - val_cvae_loss: 4290.69 - val_prototype_loss:    0.00 - val_unlabeled_loss:    0.20\n"
     ]
    },
    {
     "name": "stderr",
     "output_type": "stream",
     "text": [
      "Computing neighbors: 100%|██████████| 1/1 [00:02<00:00,  2.06s/it]\n",
      "Embeddings:   0%|\u001b[32m          \u001b[0m| 0/1 [00:00<?, ?it/s]\n",
      "Metrics:   0%|\u001b[34m          \u001b[0m| 0/10 [00:00<?, ?it/s]\u001b[A\n",
      "Metrics:   0%|\u001b[34m          \u001b[0m| 0/10 [00:00<?, ?it/s, Bio conservation: isolated_labels]\u001b[A\n",
      "Metrics:  10%|\u001b[34m█         \u001b[0m| 1/10 [00:00<00:00, 20.40it/s, Bio conservation: nmi_ari_cluster_labels_kmeans]\u001b[A\n",
      "Metrics:  20%|\u001b[34m██        \u001b[0m| 2/10 [00:00<00:03,  2.32it/s, Bio conservation: nmi_ari_cluster_labels_kmeans]\u001b[A\n",
      "Metrics:  20%|\u001b[34m██        \u001b[0m| 2/10 [00:00<00:03,  2.32it/s, Bio conservation: silhouette_label]             \u001b[A\n",
      "Metrics:  30%|\u001b[34m███       \u001b[0m| 3/10 [00:00<00:03,  2.32it/s, Bio conservation: clisi_knn]       \u001b[A\n",
      "Metrics:  40%|\u001b[34m████      \u001b[0m| 4/10 [00:00<00:02,  2.32it/s, Batch correction: silhouette_batch]\u001b[A\n",
      "Metrics:  50%|\u001b[34m█████     \u001b[0m| 5/10 [00:00<00:02,  2.32it/s, Batch correction: ilisi_knn]       \u001b[A\n",
      "Metrics:  60%|\u001b[34m██████    \u001b[0m| 6/10 [00:00<00:00,  7.46it/s, Batch correction: ilisi_knn]\u001b[A\n",
      "Metrics:  60%|\u001b[34m██████    \u001b[0m| 6/10 [00:00<00:00,  7.46it/s, Batch correction: kbet_per_label]\u001b[A"
     ]
    },
    {
     "name": "stdout",
     "output_type": "stream",
     "text": [
      "\u001b[34mINFO    \u001b[0m CD20+ B cells consists of a single batch or is too small. Skip.                                           \n",
      "\u001b[34mINFO    \u001b[0m CD4+ T cells consists of a single batch or is too small. Skip.                                            \n",
      "\u001b[34mINFO    \u001b[0m CD8+ T cells consists of a single batch or is too small. Skip.                                            \n",
      "\u001b[34mINFO    \u001b[0m Megakaryocyte progenitors consists of a single batch or is too small. Skip.                               \n",
      "\u001b[34mINFO    \u001b[0m Monocyte-derived dendritic cells consists of a single batch or is too small. Skip.                        \n",
      "\u001b[34mINFO    \u001b[0m NK cells consists of a single batch or is too small. Skip.                                                \n",
      "\u001b[34mINFO    \u001b[0m NKT cells consists of a single batch or is too small. Skip.                                               \n"
     ]
    },
    {
     "name": "stderr",
     "output_type": "stream",
     "text": [
      "\n",
      "Metrics:  70%|\u001b[34m███████   \u001b[0m| 7/10 [00:01<00:00,  7.46it/s, Batch correction: graph_connectivity]\u001b[A\n",
      "Metrics:  80%|\u001b[34m████████  \u001b[0m| 8/10 [00:01<00:00,  7.46it/s, Batch correction: pcr_comparison]    \u001b[A\n",
      "Embeddings: 100%|\u001b[32m██████████\u001b[0m| 1/1 [00:01<00:00,  1.59s/it]atch correction: pcr_comparison]\u001b[A\n",
      "\n",
      "                                                                                         \u001b[A/ictstr01/home/icb/fatemehs.hashemig/codes/interpretable-ssl/interpretable_ssl/trainers/trainer.py:314: FutureWarning: The frame.append method is deprecated and will be removed from pandas in a future version. Use pandas.concat instead.\n",
      "  overall_df = overall_df.append(fold_df, ignore_index=True)\n",
      "INFO:scarches.trainers.scpoli.trainer:GPU available: True, GPU used: True\n"
     ]
    },
    {
     "name": "stdout",
     "output_type": "stream",
     "text": [
      "Evaluating fold 8\n",
      "Embedding dictionary:\n",
      " \tNum conditions: [3]\n",
      " \tEmbedding dim: [10]\n",
      "Encoder Architecture:\n",
      "\tInput Layer in, out and cond: 4000 64 10\n",
      "\tMean/Var Layer in/out: 64 8\n",
      "Decoder Architecture:\n",
      "\tFirst Layer in, out and cond:  8 64 10\n",
      "\tOutput Layer in/out:  64 4000 \n",
      "\n",
      "Embedding dictionary:\n",
      " \tNum conditions: [5]\n",
      " \tEmbedding dim: [10]\n",
      "Encoder Architecture:\n",
      "\tInput Layer in, out and cond: 4000 64 10\n",
      "\tMean/Var Layer in/out: 64 8\n",
      "Decoder Architecture:\n",
      "\tFirst Layer in, out and cond:  8 64 10\n",
      "\tOutput Layer in/out:  64 4000 \n",
      "\n",
      "Initializing dataloaders\n",
      "Starting training\n",
      " |████████████████----| 80.0%  - val_loss:  448.75 - val_cvae_loss:  448.75\n",
      "Initializing unlabeled prototypes with Leiden with an unknown number of  clusters.\n",
      "Clustering succesful. Found 28 clusters.\n",
      " |████████████████████| 100.0%  - val_loss:  450.50 - val_cvae_loss:  450.50 - val_prototype_loss:    0.00 - val_unlabeled_loss:    0.16\n"
     ]
    },
    {
     "name": "stderr",
     "output_type": "stream",
     "text": [
      "Computing neighbors: 100%|██████████| 1/1 [00:07<00:00,  7.78s/it]\n",
      "Embeddings:   0%|\u001b[32m          \u001b[0m| 0/1 [00:00<?, ?it/s]\n",
      "Metrics:   0%|\u001b[34m          \u001b[0m| 0/10 [00:00<?, ?it/s]\u001b[A\n",
      "Metrics:   0%|\u001b[34m          \u001b[0m| 0/10 [00:00<?, ?it/s, Bio conservation: isolated_labels]\u001b[A\n",
      "Metrics:  10%|\u001b[34m█         \u001b[0m| 1/10 [00:00<00:06,  1.35it/s, Bio conservation: isolated_labels]\u001b[A\n",
      "Metrics:  10%|\u001b[34m█         \u001b[0m| 1/10 [00:00<00:06,  1.35it/s, Bio conservation: nmi_ari_cluster_labels_kmeans]\u001b[A\n",
      "Metrics:  20%|\u001b[34m██        \u001b[0m| 2/10 [00:02<00:12,  1.53s/it, Bio conservation: nmi_ari_cluster_labels_kmeans]\u001b[A\n",
      "Metrics:  20%|\u001b[34m██        \u001b[0m| 2/10 [00:02<00:12,  1.53s/it, Bio conservation: silhouette_label]             \u001b[A\n",
      "Metrics:  30%|\u001b[34m███       \u001b[0m| 3/10 [00:03<00:08,  1.23s/it, Bio conservation: silhouette_label]\u001b[A\n",
      "Metrics:  30%|\u001b[34m███       \u001b[0m| 3/10 [00:03<00:08,  1.23s/it, Bio conservation: clisi_knn]       \u001b[A\n",
      "Metrics:  40%|\u001b[34m████      \u001b[0m| 4/10 [00:03<00:04,  1.21it/s, Bio conservation: clisi_knn]\u001b[A\n",
      "Metrics:  40%|\u001b[34m████      \u001b[0m| 4/10 [00:03<00:04,  1.21it/s, Batch correction: silhouette_batch]\u001b[A\n",
      "Metrics:  50%|\u001b[34m█████     \u001b[0m| 5/10 [00:04<00:03,  1.49it/s, Batch correction: silhouette_batch]\u001b[A\n",
      "Metrics:  50%|\u001b[34m█████     \u001b[0m| 5/10 [00:04<00:03,  1.49it/s, Batch correction: ilisi_knn]       \u001b[A\n",
      "Metrics:  60%|\u001b[34m██████    \u001b[0m| 6/10 [00:04<00:02,  1.94it/s, Batch correction: ilisi_knn]\u001b[A\n",
      "Metrics:  60%|\u001b[34m██████    \u001b[0m| 6/10 [00:04<00:02,  1.94it/s, Batch correction: kbet_per_label]\u001b[A"
     ]
    },
    {
     "name": "stdout",
     "output_type": "stream",
     "text": [
      "\u001b[34mINFO    \u001b[0m HSPCs consists of a single batch or is too small. Skip.                                                   \n",
      "\u001b[34mINFO    \u001b[0m Plasma cells consists of a single batch or is too small. Skip.                                            \n"
     ]
    },
    {
     "name": "stderr",
     "output_type": "stream",
     "text": [
      "\n",
      "Metrics:  70%|\u001b[34m███████   \u001b[0m| 7/10 [00:16<00:12,  4.15s/it, Batch correction: kbet_per_label]\u001b[A\n",
      "Metrics:  70%|\u001b[34m███████   \u001b[0m| 7/10 [00:16<00:12,  4.15s/it, Batch correction: graph_connectivity]\u001b[A\n",
      "Metrics:  80%|\u001b[34m████████  \u001b[0m| 8/10 [00:16<00:08,  4.15s/it, Batch correction: pcr_comparison]    \u001b[A\n",
      "Embeddings: 100%|\u001b[32m██████████\u001b[0m| 1/1 [00:16<00:00, 16.25s/it]atch correction: pcr_comparison]\u001b[A\n",
      "\n",
      "                                                                                         \u001b[A/ictstr01/home/icb/fatemehs.hashemig/codes/interpretable-ssl/interpretable_ssl/trainers/trainer.py:314: FutureWarning: The frame.append method is deprecated and will be removed from pandas in a future version. Use pandas.concat instead.\n",
      "  overall_df = overall_df.append(fold_df, ignore_index=True)\n",
      "INFO:scarches.trainers.scpoli.trainer:GPU available: True, GPU used: True\n"
     ]
    },
    {
     "name": "stdout",
     "output_type": "stream",
     "text": [
      "Evaluating fold 9\n",
      "Embedding dictionary:\n",
      " \tNum conditions: [3]\n",
      " \tEmbedding dim: [10]\n",
      "Encoder Architecture:\n",
      "\tInput Layer in, out and cond: 4000 64 10\n",
      "\tMean/Var Layer in/out: 64 8\n",
      "Decoder Architecture:\n",
      "\tFirst Layer in, out and cond:  8 64 10\n",
      "\tOutput Layer in/out:  64 4000 \n",
      "\n",
      "Embedding dictionary:\n",
      " \tNum conditions: [5]\n",
      " \tEmbedding dim: [10]\n",
      "Encoder Architecture:\n",
      "\tInput Layer in, out and cond: 4000 64 10\n",
      "\tMean/Var Layer in/out: 64 8\n",
      "Decoder Architecture:\n",
      "\tFirst Layer in, out and cond:  8 64 10\n",
      "\tOutput Layer in/out:  64 4000 \n",
      "\n",
      "Initializing dataloaders\n",
      "Starting training\n",
      " |████████████████----| 80.0%  - val_loss: 3939.56 - val_cvae_loss: 3939.56\n",
      "Initializing unlabeled prototypes with Leiden with an unknown number of  clusters.\n",
      "Clustering succesful. Found 25 clusters.\n",
      " |████████████████████| 100.0%  - val_loss: 3960.14 - val_cvae_loss: 3960.14 - val_prototype_loss:    0.00 - val_unlabeled_loss:    0.16\n"
     ]
    },
    {
     "name": "stderr",
     "output_type": "stream",
     "text": [
      "Computing neighbors: 100%|██████████| 1/1 [00:05<00:00,  5.11s/it]\n",
      "Embeddings:   0%|\u001b[32m          \u001b[0m| 0/1 [00:00<?, ?it/s]\n",
      "Metrics:   0%|\u001b[34m          \u001b[0m| 0/10 [00:00<?, ?it/s]\u001b[A\n",
      "Metrics:   0%|\u001b[34m          \u001b[0m| 0/10 [00:00<?, ?it/s, Bio conservation: isolated_labels]\u001b[A\n",
      "Metrics:  10%|\u001b[34m█         \u001b[0m| 1/10 [00:00<00:03,  2.91it/s, Bio conservation: isolated_labels]\u001b[A\n",
      "Metrics:  10%|\u001b[34m█         \u001b[0m| 1/10 [00:00<00:03,  2.91it/s, Bio conservation: nmi_ari_cluster_labels_kmeans]\u001b[A\n",
      "Metrics:  20%|\u001b[34m██        \u001b[0m| 2/10 [00:02<00:09,  1.20s/it, Bio conservation: nmi_ari_cluster_labels_kmeans]\u001b[A\n",
      "Metrics:  20%|\u001b[34m██        \u001b[0m| 2/10 [00:02<00:09,  1.20s/it, Bio conservation: silhouette_label]             \u001b[A\n",
      "Metrics:  30%|\u001b[34m███       \u001b[0m| 3/10 [00:02<00:05,  1.20it/s, Bio conservation: silhouette_label]\u001b[A\n",
      "Metrics:  30%|\u001b[34m███       \u001b[0m| 3/10 [00:02<00:05,  1.20it/s, Bio conservation: clisi_knn]       \u001b[A\n",
      "Metrics:  40%|\u001b[34m████      \u001b[0m| 4/10 [00:02<00:03,  1.80it/s, Bio conservation: clisi_knn]\u001b[A\n",
      "Metrics:  40%|\u001b[34m████      \u001b[0m| 4/10 [00:02<00:03,  1.80it/s, Batch correction: silhouette_batch]\u001b[A\n",
      "Metrics:  50%|\u001b[34m█████     \u001b[0m| 5/10 [00:02<00:02,  1.80it/s, Batch correction: ilisi_knn]       \u001b[A\n",
      "Metrics:  60%|\u001b[34m██████    \u001b[0m| 6/10 [00:02<00:01,  3.24it/s, Batch correction: ilisi_knn]\u001b[A\n",
      "Metrics:  60%|\u001b[34m██████    \u001b[0m| 6/10 [00:02<00:01,  3.24it/s, Batch correction: kbet_per_label]\u001b[A"
     ]
    },
    {
     "name": "stdout",
     "output_type": "stream",
     "text": [
      "\u001b[34mINFO    \u001b[0m CD20+ B cells consists of a single batch or is too small. Skip.                                           \n",
      "\u001b[34mINFO    \u001b[0m CD4+ T cells consists of a single batch or is too small. Skip.                                            \n",
      "\u001b[34mINFO    \u001b[0m CD8+ T cells consists of a single batch or is too small. Skip.                                            \n",
      "\u001b[34mINFO    \u001b[0m HSPCs consists of a single batch or is too small. Skip.                                                   \n",
      "\u001b[34mINFO    \u001b[0m Megakaryocyte progenitors consists of a single batch or is too small. Skip.                               \n",
      "\u001b[34mINFO    \u001b[0m NK cells consists of a single batch or is too small. Skip.                                                \n",
      "\u001b[34mINFO    \u001b[0m NKT cells consists of a single batch or is too small. Skip.                                               \n",
      "\u001b[34mINFO    \u001b[0m Plasma cells consists of a single batch or is too small. Skip.                                            \n"
     ]
    },
    {
     "name": "stderr",
     "output_type": "stream",
     "text": [
      "\n",
      "Metrics:  70%|\u001b[34m███████   \u001b[0m| 7/10 [00:05<00:03,  1.01s/it, Batch correction: kbet_per_label]\u001b[A\n",
      "Metrics:  70%|\u001b[34m███████   \u001b[0m| 7/10 [00:05<00:03,  1.01s/it, Batch correction: graph_connectivity]\u001b[A\n",
      "Embeddings: 100%|\u001b[32m██████████\u001b[0m| 1/1 [00:05<00:00,  5.81s/it]atch correction: pcr_comparison]    \u001b[A\n",
      "\n",
      "                                                                                         \u001b[A/ictstr01/home/icb/fatemehs.hashemig/codes/interpretable-ssl/interpretable_ssl/trainers/trainer.py:314: FutureWarning: The frame.append method is deprecated and will be removed from pandas in a future version. Use pandas.concat instead.\n",
      "  overall_df = overall_df.append(fold_df, ignore_index=True)\n",
      "INFO:scarches.trainers.scpoli.trainer:GPU available: True, GPU used: True\n"
     ]
    },
    {
     "name": "stdout",
     "output_type": "stream",
     "text": [
      "Evaluating fold 10\n",
      "Embedding dictionary:\n",
      " \tNum conditions: [3]\n",
      " \tEmbedding dim: [10]\n",
      "Encoder Architecture:\n",
      "\tInput Layer in, out and cond: 4000 64 10\n",
      "\tMean/Var Layer in/out: 64 8\n",
      "Decoder Architecture:\n",
      "\tFirst Layer in, out and cond:  8 64 10\n",
      "\tOutput Layer in/out:  64 4000 \n",
      "\n",
      "Embedding dictionary:\n",
      " \tNum conditions: [5]\n",
      " \tEmbedding dim: [10]\n",
      "Encoder Architecture:\n",
      "\tInput Layer in, out and cond: 4000 64 10\n",
      "\tMean/Var Layer in/out: 64 8\n",
      "Decoder Architecture:\n",
      "\tFirst Layer in, out and cond:  8 64 10\n",
      "\tOutput Layer in/out:  64 4000 \n",
      "\n",
      "Initializing dataloaders\n",
      "Starting training\n",
      " |████████████████----| 80.0%  - val_loss: 4315.71 - val_cvae_loss: 4315.71\n",
      "Initializing unlabeled prototypes with Leiden with an unknown number of  clusters.\n",
      "Clustering succesful. Found 30 clusters.\n",
      " |████████████████████| 100.0%  - val_loss: 4316.58 - val_cvae_loss: 4316.58 - val_prototype_loss:    0.00 - val_unlabeled_loss:    0.14\n"
     ]
    },
    {
     "name": "stderr",
     "output_type": "stream",
     "text": [
      "Computing neighbors: 100%|██████████| 1/1 [00:04<00:00,  4.23s/it]\n",
      "Embeddings:   0%|\u001b[32m          \u001b[0m| 0/1 [00:00<?, ?it/s]\n",
      "Metrics:   0%|\u001b[34m          \u001b[0m| 0/10 [00:00<?, ?it/s]\u001b[A\n",
      "Metrics:   0%|\u001b[34m          \u001b[0m| 0/10 [00:00<?, ?it/s, Bio conservation: isolated_labels]\u001b[A\n",
      "Metrics:  10%|\u001b[34m█         \u001b[0m| 1/10 [00:00<00:02,  3.60it/s, Bio conservation: isolated_labels]\u001b[A\n",
      "Metrics:  10%|\u001b[34m█         \u001b[0m| 1/10 [00:00<00:02,  3.60it/s, Bio conservation: nmi_ari_cluster_labels_kmeans]\u001b[A\n",
      "Metrics:  20%|\u001b[34m██        \u001b[0m| 2/10 [00:02<00:11,  1.45s/it, Bio conservation: nmi_ari_cluster_labels_kmeans]\u001b[A\n",
      "Metrics:  20%|\u001b[34m██        \u001b[0m| 2/10 [00:02<00:11,  1.45s/it, Bio conservation: silhouette_label]             \u001b[A\n",
      "Metrics:  30%|\u001b[34m███       \u001b[0m| 3/10 [00:02<00:06,  1.10it/s, Bio conservation: silhouette_label]\u001b[A\n",
      "Metrics:  30%|\u001b[34m███       \u001b[0m| 3/10 [00:02<00:06,  1.10it/s, Bio conservation: clisi_knn]       \u001b[A\n",
      "Metrics:  40%|\u001b[34m████      \u001b[0m| 4/10 [00:02<00:05,  1.10it/s, Batch correction: silhouette_batch]\u001b[A\n",
      "Metrics:  50%|\u001b[34m█████     \u001b[0m| 5/10 [00:02<00:02,  2.28it/s, Batch correction: silhouette_batch]\u001b[A\n",
      "Metrics:  50%|\u001b[34m█████     \u001b[0m| 5/10 [00:02<00:02,  2.28it/s, Batch correction: ilisi_knn]       \u001b[A\n",
      "Metrics:  60%|\u001b[34m██████    \u001b[0m| 6/10 [00:03<00:01,  2.28it/s, Batch correction: kbet_per_label]\u001b[A\n",
      "Metrics:  70%|\u001b[34m███████   \u001b[0m| 7/10 [00:07<00:04,  1.33s/it, Batch correction: kbet_per_label]\u001b[A\n",
      "Metrics:  70%|\u001b[34m███████   \u001b[0m| 7/10 [00:07<00:04,  1.33s/it, Batch correction: graph_connectivity]\u001b[A\n",
      "Embeddings: 100%|\u001b[32m██████████\u001b[0m| 1/1 [00:07<00:00,  7.92s/it]atch correction: pcr_comparison]    \u001b[A\n",
      "\n",
      "                                                                                         \u001b[A/ictstr01/home/icb/fatemehs.hashemig/codes/interpretable-ssl/interpretable_ssl/trainers/trainer.py:314: FutureWarning: The frame.append method is deprecated and will be removed from pandas in a future version. Use pandas.concat instead.\n",
      "  overall_df = overall_df.append(fold_df, ignore_index=True)\n"
     ]
    },
    {
     "name": "stdout",
     "output_type": "stream",
     "text": [
      "running custom cross validation evaluation\n",
      "Evaluating fold 1\n",
      "Embedding dictionary:\n",
      " \tNum conditions: [3]\n",
      " \tEmbedding dim: [10]\n",
      "Encoder Architecture:\n",
      "\tInput Layer in, out and cond: 4000 64 10\n",
      "\tMean/Var Layer in/out: 64 8\n",
      "Decoder Architecture:\n",
      "\tFirst Layer in, out and cond:  8 64 10\n",
      "\tOutput Layer in/out:  64 4000 \n",
      "\n"
     ]
    },
    {
     "name": "stderr",
     "output_type": "stream",
     "text": [
      "INFO:scarches.trainers.scpoli.trainer:GPU available: True, GPU used: True\n"
     ]
    },
    {
     "name": "stdout",
     "output_type": "stream",
     "text": [
      "Embedding dictionary:\n",
      " \tNum conditions: [5]\n",
      " \tEmbedding dim: [10]\n",
      "Encoder Architecture:\n",
      "\tInput Layer in, out and cond: 4000 64 10\n",
      "\tMean/Var Layer in/out: 64 8\n",
      "Decoder Architecture:\n",
      "\tFirst Layer in, out and cond:  8 64 10\n",
      "\tOutput Layer in/out:  64 4000 \n",
      "\n",
      "Warning: Labels in adata.obs[cell_type] is not a subset of label-encoder!\n",
      "The missing labels are: {'Erythrocytes', 'Monocyte progenitors', 'CD10+ B cells', 'Erythroid progenitors'}\n",
      "Therefore integer value of those labels is set to -1\n",
      "Warning: Labels in adata.obs[cell_type] is not a subset of label-encoder!\n",
      "The missing labels are: {'Erythrocytes', 'Monocyte progenitors', 'CD10+ B cells', 'Erythroid progenitors'}\n",
      "Therefore integer value of those labels is set to -1\n",
      "Initializing dataloaders\n",
      "Starting training\n",
      " |████████████████----| 80.0%  - val_loss:  443.09 - val_cvae_loss:  443.09\n",
      "Initializing unlabeled prototypes with Leiden with an unknown number of  clusters.\n",
      "Clustering succesful. Found 29 clusters.\n",
      " |████████████████████| 100.0%  - val_loss:  442.44 - val_cvae_loss:  442.44 - val_prototype_loss:    0.00 - val_unlabeled_loss:    0.37\n"
     ]
    },
    {
     "name": "stderr",
     "output_type": "stream",
     "text": [
      "Computing neighbors: 100%|██████████| 1/1 [00:05<00:00,  5.58s/it]\n",
      "Embeddings:   0%|\u001b[32m          \u001b[0m| 0/1 [00:00<?, ?it/s]\n",
      "Metrics:   0%|\u001b[34m          \u001b[0m| 0/10 [00:00<?, ?it/s]\u001b[A\n",
      "Metrics:   0%|\u001b[34m          \u001b[0m| 0/10 [00:00<?, ?it/s, Bio conservation: isolated_labels]\u001b[A\n",
      "Metrics:  10%|\u001b[34m█         \u001b[0m| 1/10 [00:00<00:03,  2.57it/s, Bio conservation: isolated_labels]\u001b[A\n",
      "Metrics:  10%|\u001b[34m█         \u001b[0m| 1/10 [00:00<00:03,  2.57it/s, Bio conservation: nmi_ari_cluster_labels_kmeans]\u001b[A\n",
      "Metrics:  20%|\u001b[34m██        \u001b[0m| 2/10 [00:02<00:10,  1.36s/it, Bio conservation: nmi_ari_cluster_labels_kmeans]\u001b[A\n",
      "Metrics:  20%|\u001b[34m██        \u001b[0m| 2/10 [00:02<00:10,  1.36s/it, Bio conservation: silhouette_label]             \u001b[A\n",
      "Metrics:  30%|\u001b[34m███       \u001b[0m| 3/10 [00:02<00:06,  1.06it/s, Bio conservation: silhouette_label]\u001b[A\n",
      "Metrics:  30%|\u001b[34m███       \u001b[0m| 3/10 [00:02<00:06,  1.06it/s, Bio conservation: clisi_knn]       \u001b[A\n",
      "Metrics:  40%|\u001b[34m████      \u001b[0m| 4/10 [00:02<00:05,  1.06it/s, Batch correction: silhouette_batch]\u001b[A\n",
      "Metrics:  50%|\u001b[34m█████     \u001b[0m| 5/10 [00:03<00:02,  2.16it/s, Batch correction: silhouette_batch]\u001b[A\n",
      "Metrics:  50%|\u001b[34m█████     \u001b[0m| 5/10 [00:03<00:02,  2.16it/s, Batch correction: ilisi_knn]       \u001b[A\n",
      "Metrics:  60%|\u001b[34m██████    \u001b[0m| 6/10 [00:03<00:01,  2.16it/s, Batch correction: kbet_per_label]\u001b[A\n",
      "Metrics:  70%|\u001b[34m███████   \u001b[0m| 7/10 [00:12<00:06,  2.33s/it, Batch correction: kbet_per_label]\u001b[A\n",
      "Metrics:  70%|\u001b[34m███████   \u001b[0m| 7/10 [00:12<00:06,  2.33s/it, Batch correction: graph_connectivity]\u001b[A\n",
      "Embeddings: 100%|\u001b[32m██████████\u001b[0m| 1/1 [00:12<00:00, 12.39s/it]atch correction: pcr_comparison]    \u001b[A\n",
      "\n",
      "                                                                                         \u001b[A/ictstr01/home/icb/fatemehs.hashemig/codes/interpretable-ssl/interpretable_ssl/trainers/trainer.py:314: FutureWarning: The frame.append method is deprecated and will be removed from pandas in a future version. Use pandas.concat instead.\n",
      "  overall_df = overall_df.append(fold_df, ignore_index=True)\n"
     ]
    },
    {
     "name": "stdout",
     "output_type": "stream",
     "text": [
      "Evaluating fold 2\n",
      "Embedding dictionary:\n",
      " \tNum conditions: [3]\n",
      " \tEmbedding dim: [10]\n",
      "Encoder Architecture:\n",
      "\tInput Layer in, out and cond: 4000 64 10\n",
      "\tMean/Var Layer in/out: 64 8\n",
      "Decoder Architecture:\n",
      "\tFirst Layer in, out and cond:  8 64 10\n",
      "\tOutput Layer in/out:  64 4000 \n",
      "\n"
     ]
    },
    {
     "name": "stderr",
     "output_type": "stream",
     "text": [
      "INFO:scarches.trainers.scpoli.trainer:GPU available: True, GPU used: True\n"
     ]
    },
    {
     "name": "stdout",
     "output_type": "stream",
     "text": [
      "Embedding dictionary:\n",
      " \tNum conditions: [5]\n",
      " \tEmbedding dim: [10]\n",
      "Encoder Architecture:\n",
      "\tInput Layer in, out and cond: 4000 64 10\n",
      "\tMean/Var Layer in/out: 64 8\n",
      "Decoder Architecture:\n",
      "\tFirst Layer in, out and cond:  8 64 10\n",
      "\tOutput Layer in/out:  64 4000 \n",
      "\n",
      "Warning: Labels in adata.obs[cell_type] is not a subset of label-encoder!\n",
      "The missing labels are: {'CD10+ B cells', 'Monocyte progenitors', 'Plasma cells', 'Erythroid progenitors', 'HSPCs', 'Erythrocytes'}\n",
      "Therefore integer value of those labels is set to -1\n",
      "Warning: Labels in adata.obs[cell_type] is not a subset of label-encoder!\n",
      "The missing labels are: {'Plasma cells', 'HSPCs'}\n",
      "Therefore integer value of those labels is set to -1\n",
      "Warning: Labels in adata.obs[cell_type] is not a subset of label-encoder!\n",
      "The missing labels are: {'CD10+ B cells', 'Monocyte progenitors', 'Plasma cells', 'Erythroid progenitors', 'HSPCs', 'Erythrocytes'}\n",
      "Therefore integer value of those labels is set to -1\n",
      "Warning: Labels in adata.obs[cell_type] is not a subset of label-encoder!\n",
      "The missing labels are: {'Plasma cells', 'HSPCs'}\n",
      "Therefore integer value of those labels is set to -1\n",
      "Initializing dataloaders\n",
      "Starting training\n",
      " |████████████████----| 80.0%  - val_loss:  886.14 - val_cvae_loss:  886.14\n",
      "Initializing unlabeled prototypes with Leiden with an unknown number of  clusters.\n",
      "Clustering succesful. Found 26 clusters.\n",
      " |████████████████████| 100.0%  - val_loss:  887.97 - val_cvae_loss:  887.97 - val_prototype_loss:    0.00 - val_unlabeled_loss:    0.36\n"
     ]
    },
    {
     "name": "stderr",
     "output_type": "stream",
     "text": [
      "Computing neighbors: 100%|██████████| 1/1 [00:08<00:00,  8.51s/it]\n",
      "Embeddings:   0%|\u001b[32m          \u001b[0m| 0/1 [00:00<?, ?it/s]\n",
      "Metrics:   0%|\u001b[34m          \u001b[0m| 0/10 [00:00<?, ?it/s]\u001b[A\n",
      "Metrics:   0%|\u001b[34m          \u001b[0m| 0/10 [00:00<?, ?it/s, Bio conservation: isolated_labels]\u001b[A\n",
      "Metrics:  10%|\u001b[34m█         \u001b[0m| 1/10 [00:00<00:08,  1.03it/s, Bio conservation: isolated_labels]\u001b[A\n",
      "Metrics:  10%|\u001b[34m█         \u001b[0m| 1/10 [00:00<00:08,  1.03it/s, Bio conservation: nmi_ari_cluster_labels_kmeans]\u001b[A\n",
      "Metrics:  20%|\u001b[34m██        \u001b[0m| 2/10 [00:03<00:15,  1.93s/it, Bio conservation: nmi_ari_cluster_labels_kmeans]\u001b[A\n",
      "Metrics:  20%|\u001b[34m██        \u001b[0m| 2/10 [00:03<00:15,  1.93s/it, Bio conservation: silhouette_label]             \u001b[A\n",
      "Metrics:  30%|\u001b[34m███       \u001b[0m| 3/10 [00:04<00:10,  1.56s/it, Bio conservation: silhouette_label]\u001b[A\n",
      "Metrics:  30%|\u001b[34m███       \u001b[0m| 3/10 [00:04<00:10,  1.56s/it, Bio conservation: clisi_knn]       \u001b[A\n",
      "Metrics:  40%|\u001b[34m████      \u001b[0m| 4/10 [00:04<00:06,  1.02s/it, Bio conservation: clisi_knn]\u001b[A\n",
      "Metrics:  40%|\u001b[34m████      \u001b[0m| 4/10 [00:04<00:06,  1.02s/it, Batch correction: silhouette_batch]\u001b[A\n",
      "Metrics:  50%|\u001b[34m█████     \u001b[0m| 5/10 [00:05<00:04,  1.10it/s, Batch correction: silhouette_batch]\u001b[A\n",
      "Metrics:  50%|\u001b[34m█████     \u001b[0m| 5/10 [00:05<00:04,  1.10it/s, Batch correction: ilisi_knn]       \u001b[A\n",
      "Metrics:  60%|\u001b[34m██████    \u001b[0m| 6/10 [00:05<00:02,  1.51it/s, Batch correction: ilisi_knn]\u001b[A\n",
      "Metrics:  60%|\u001b[34m██████    \u001b[0m| 6/10 [00:05<00:02,  1.51it/s, Batch correction: kbet_per_label]\u001b[A\n",
      "Metrics:  70%|\u001b[34m███████   \u001b[0m| 7/10 [00:20<00:16,  5.42s/it, Batch correction: kbet_per_label]\u001b[A\n",
      "Metrics:  70%|\u001b[34m███████   \u001b[0m| 7/10 [00:20<00:16,  5.42s/it, Batch correction: graph_connectivity]\u001b[A\n",
      "Metrics:  80%|\u001b[34m████████  \u001b[0m| 8/10 [00:21<00:10,  5.42s/it, Batch correction: pcr_comparison]    \u001b[A\n",
      "Embeddings: 100%|\u001b[32m██████████\u001b[0m| 1/1 [00:21<00:00, 21.11s/it]atch correction: pcr_comparison]\u001b[A\n",
      "\n",
      "                                                                                         \u001b[A/ictstr01/home/icb/fatemehs.hashemig/codes/interpretable-ssl/interpretable_ssl/trainers/trainer.py:314: FutureWarning: The frame.append method is deprecated and will be removed from pandas in a future version. Use pandas.concat instead.\n",
      "  overall_df = overall_df.append(fold_df, ignore_index=True)\n"
     ]
    },
    {
     "name": "stdout",
     "output_type": "stream",
     "text": [
      "Evaluating fold 3\n",
      "Embedding dictionary:\n",
      " \tNum conditions: [3]\n",
      " \tEmbedding dim: [10]\n",
      "Encoder Architecture:\n",
      "\tInput Layer in, out and cond: 4000 64 10\n",
      "\tMean/Var Layer in/out: 64 8\n",
      "Decoder Architecture:\n",
      "\tFirst Layer in, out and cond:  8 64 10\n",
      "\tOutput Layer in/out:  64 4000 \n",
      "\n"
     ]
    },
    {
     "name": "stderr",
     "output_type": "stream",
     "text": [
      "INFO:scarches.trainers.scpoli.trainer:GPU available: True, GPU used: True\n"
     ]
    },
    {
     "name": "stdout",
     "output_type": "stream",
     "text": [
      "Embedding dictionary:\n",
      " \tNum conditions: [5]\n",
      " \tEmbedding dim: [10]\n",
      "Encoder Architecture:\n",
      "\tInput Layer in, out and cond: 4000 64 10\n",
      "\tMean/Var Layer in/out: 64 8\n",
      "Decoder Architecture:\n",
      "\tFirst Layer in, out and cond:  8 64 10\n",
      "\tOutput Layer in/out:  64 4000 \n",
      "\n",
      "Warning: Labels in adata.obs[cell_type] is not a subset of label-encoder!\n",
      "The missing labels are: {'Erythrocytes', 'Monocyte progenitors', 'CD10+ B cells', 'Erythroid progenitors'}\n",
      "Therefore integer value of those labels is set to -1\n",
      "Warning: Labels in adata.obs[cell_type] is not a subset of label-encoder!\n",
      "The missing labels are: {'Erythrocytes', 'Monocyte progenitors', 'CD10+ B cells', 'Erythroid progenitors'}\n",
      "Therefore integer value of those labels is set to -1\n",
      "Initializing dataloaders\n",
      "Starting training\n",
      " |████████████████----| 80.0%  - val_loss:  444.02 - val_cvae_loss:  444.02\n",
      "Initializing unlabeled prototypes with Leiden with an unknown number of  clusters.\n",
      "Clustering succesful. Found 29 clusters.\n",
      " |████████████████████| 100.0%  - val_loss:  445.70 - val_cvae_loss:  445.70 - val_prototype_loss:    0.00 - val_unlabeled_loss:    0.36\n"
     ]
    },
    {
     "name": "stderr",
     "output_type": "stream",
     "text": [
      "Computing neighbors: 100%|██████████| 1/1 [00:07<00:00,  7.84s/it]\n",
      "Embeddings:   0%|\u001b[32m          \u001b[0m| 0/1 [00:00<?, ?it/s]\n",
      "Metrics:   0%|\u001b[34m          \u001b[0m| 0/10 [00:00<?, ?it/s]\u001b[A\n",
      "Metrics:   0%|\u001b[34m          \u001b[0m| 0/10 [00:00<?, ?it/s, Bio conservation: isolated_labels]\u001b[A\n",
      "Metrics:  10%|\u001b[34m█         \u001b[0m| 1/10 [00:00<00:08,  1.09it/s, Bio conservation: isolated_labels]\u001b[A\n",
      "Metrics:  10%|\u001b[34m█         \u001b[0m| 1/10 [00:00<00:08,  1.09it/s, Bio conservation: nmi_ari_cluster_labels_kmeans]\u001b[A\n",
      "Metrics:  20%|\u001b[34m██        \u001b[0m| 2/10 [00:03<00:14,  1.83s/it, Bio conservation: nmi_ari_cluster_labels_kmeans]\u001b[A\n",
      "Metrics:  20%|\u001b[34m██        \u001b[0m| 2/10 [00:03<00:14,  1.83s/it, Bio conservation: silhouette_label]             \u001b[A\n",
      "Metrics:  30%|\u001b[34m███       \u001b[0m| 3/10 [00:04<00:10,  1.48s/it, Bio conservation: silhouette_label]\u001b[A\n",
      "Metrics:  30%|\u001b[34m███       \u001b[0m| 3/10 [00:04<00:10,  1.48s/it, Bio conservation: clisi_knn]       \u001b[A\n",
      "Metrics:  40%|\u001b[34m████      \u001b[0m| 4/10 [00:04<00:05,  1.04it/s, Bio conservation: clisi_knn]\u001b[A\n",
      "Metrics:  40%|\u001b[34m████      \u001b[0m| 4/10 [00:04<00:05,  1.04it/s, Batch correction: silhouette_batch]\u001b[A\n",
      "Metrics:  50%|\u001b[34m█████     \u001b[0m| 5/10 [00:04<00:03,  1.42it/s, Batch correction: silhouette_batch]\u001b[A\n",
      "Metrics:  50%|\u001b[34m█████     \u001b[0m| 5/10 [00:04<00:03,  1.42it/s, Batch correction: ilisi_knn]       \u001b[A\n",
      "Metrics:  60%|\u001b[34m██████    \u001b[0m| 6/10 [00:05<00:02,  1.94it/s, Batch correction: ilisi_knn]\u001b[A\n",
      "Metrics:  60%|\u001b[34m██████    \u001b[0m| 6/10 [00:05<00:02,  1.94it/s, Batch correction: kbet_per_label]\u001b[A\n",
      "Metrics:  70%|\u001b[34m███████   \u001b[0m| 7/10 [00:19<00:14,  4.95s/it, Batch correction: kbet_per_label]\u001b[A\n",
      "Metrics:  70%|\u001b[34m███████   \u001b[0m| 7/10 [00:19<00:14,  4.95s/it, Batch correction: graph_connectivity]\u001b[A\n",
      "Metrics:  80%|\u001b[34m████████  \u001b[0m| 8/10 [00:19<00:09,  4.95s/it, Batch correction: pcr_comparison]    \u001b[A\n",
      "Embeddings: 100%|\u001b[32m██████████\u001b[0m| 1/1 [00:19<00:00, 19.22s/it]atch correction: pcr_comparison]\u001b[A\n",
      "\n",
      "                                                                                         \u001b[A/ictstr01/home/icb/fatemehs.hashemig/codes/interpretable-ssl/interpretable_ssl/trainers/trainer.py:314: FutureWarning: The frame.append method is deprecated and will be removed from pandas in a future version. Use pandas.concat instead.\n",
      "  overall_df = overall_df.append(fold_df, ignore_index=True)\n"
     ]
    },
    {
     "name": "stdout",
     "output_type": "stream",
     "text": [
      "Evaluating fold 4\n",
      "Embedding dictionary:\n",
      " \tNum conditions: [3]\n",
      " \tEmbedding dim: [10]\n",
      "Encoder Architecture:\n",
      "\tInput Layer in, out and cond: 4000 64 10\n",
      "\tMean/Var Layer in/out: 64 8\n",
      "Decoder Architecture:\n",
      "\tFirst Layer in, out and cond:  8 64 10\n",
      "\tOutput Layer in/out:  64 4000 \n",
      "\n"
     ]
    },
    {
     "name": "stderr",
     "output_type": "stream",
     "text": [
      "INFO:scarches.trainers.scpoli.trainer:GPU available: True, GPU used: True\n"
     ]
    },
    {
     "name": "stdout",
     "output_type": "stream",
     "text": [
      "Embedding dictionary:\n",
      " \tNum conditions: [5]\n",
      " \tEmbedding dim: [10]\n",
      "Encoder Architecture:\n",
      "\tInput Layer in, out and cond: 4000 64 10\n",
      "\tMean/Var Layer in/out: 64 8\n",
      "Decoder Architecture:\n",
      "\tFirst Layer in, out and cond:  8 64 10\n",
      "\tOutput Layer in/out:  64 4000 \n",
      "\n",
      "Warning: Labels in adata.obs[cell_type] is not a subset of label-encoder!\n",
      "The missing labels are: {'Erythrocytes', 'Monocyte progenitors', 'CD10+ B cells', 'Erythroid progenitors'}\n",
      "Therefore integer value of those labels is set to -1\n",
      "Warning: Labels in adata.obs[cell_type] is not a subset of label-encoder!\n",
      "The missing labels are: {'Monocyte progenitors', 'Erythrocytes'}\n",
      "Therefore integer value of those labels is set to -1\n",
      "Warning: Labels in adata.obs[cell_type] is not a subset of label-encoder!\n",
      "The missing labels are: {'Erythrocytes', 'Monocyte progenitors', 'CD10+ B cells', 'Erythroid progenitors'}\n",
      "Therefore integer value of those labels is set to -1\n",
      "Warning: Labels in adata.obs[cell_type] is not a subset of label-encoder!\n",
      "The missing labels are: {'Monocyte progenitors', 'Erythrocytes'}\n",
      "Therefore integer value of those labels is set to -1\n",
      "Initializing dataloaders\n",
      "Starting training\n",
      " |████████████████----| 80.0%  - val_loss: 5053.40 - val_cvae_loss: 5053.40\n",
      "Initializing unlabeled prototypes with Leiden with an unknown number of  clusters.\n",
      "Clustering succesful. Found 23 clusters.\n",
      " |████████████████████| 100.0%  - val_loss: 5092.77 - val_cvae_loss: 5092.77 - val_prototype_loss:    0.00 - val_unlabeled_loss:    0.49\n"
     ]
    },
    {
     "name": "stderr",
     "output_type": "stream",
     "text": [
      "Computing neighbors: 100%|██████████| 1/1 [00:04<00:00,  4.15s/it]\n",
      "Embeddings:   0%|\u001b[32m          \u001b[0m| 0/1 [00:00<?, ?it/s]\n",
      "Metrics:   0%|\u001b[34m          \u001b[0m| 0/10 [00:00<?, ?it/s]\u001b[A\n",
      "Metrics:   0%|\u001b[34m          \u001b[0m| 0/10 [00:00<?, ?it/s, Bio conservation: isolated_labels]\u001b[A\n",
      "Metrics:  10%|\u001b[34m█         \u001b[0m| 1/10 [00:00<00:01,  4.63it/s, Bio conservation: isolated_labels]\u001b[A\n",
      "Metrics:  10%|\u001b[34m█         \u001b[0m| 1/10 [00:00<00:01,  4.63it/s, Bio conservation: nmi_ari_cluster_labels_kmeans]\u001b[A\n",
      "Metrics:  20%|\u001b[34m██        \u001b[0m| 2/10 [00:01<00:07,  1.12it/s, Bio conservation: nmi_ari_cluster_labels_kmeans]\u001b[A\n",
      "Metrics:  20%|\u001b[34m██        \u001b[0m| 2/10 [00:01<00:07,  1.12it/s, Bio conservation: silhouette_label]             \u001b[A\n",
      "Metrics:  30%|\u001b[34m███       \u001b[0m| 3/10 [00:01<00:04,  1.72it/s, Bio conservation: silhouette_label]\u001b[A\n",
      "Metrics:  30%|\u001b[34m███       \u001b[0m| 3/10 [00:01<00:04,  1.72it/s, Bio conservation: clisi_knn]       \u001b[A\n",
      "Metrics:  40%|\u001b[34m████      \u001b[0m| 4/10 [00:01<00:03,  1.72it/s, Batch correction: silhouette_batch]\u001b[A\n",
      "Metrics:  50%|\u001b[34m█████     \u001b[0m| 5/10 [00:01<00:01,  3.35it/s, Batch correction: silhouette_batch]\u001b[A\n",
      "Metrics:  50%|\u001b[34m█████     \u001b[0m| 5/10 [00:01<00:01,  3.35it/s, Batch correction: ilisi_knn]       \u001b[A\n",
      "Metrics:  60%|\u001b[34m██████    \u001b[0m| 6/10 [00:02<00:01,  3.35it/s, Batch correction: kbet_per_label]\u001b[A\n",
      "Metrics:  70%|\u001b[34m███████   \u001b[0m| 7/10 [00:10<00:06,  2.01s/it, Batch correction: kbet_per_label]\u001b[A\n",
      "Metrics:  70%|\u001b[34m███████   \u001b[0m| 7/10 [00:10<00:06,  2.01s/it, Batch correction: graph_connectivity]\u001b[A\n",
      "Metrics:  80%|\u001b[34m████████  \u001b[0m| 8/10 [00:10<00:04,  2.01s/it, Batch correction: pcr_comparison]    \u001b[A\n",
      "Embeddings: 100%|\u001b[32m██████████\u001b[0m| 1/1 [00:10<00:00, 10.44s/it]atch correction: pcr_comparison]\u001b[A\n",
      "\n",
      "                                                                                         \u001b[A/ictstr01/home/icb/fatemehs.hashemig/codes/interpretable-ssl/interpretable_ssl/trainers/trainer.py:314: FutureWarning: The frame.append method is deprecated and will be removed from pandas in a future version. Use pandas.concat instead.\n",
      "  overall_df = overall_df.append(fold_df, ignore_index=True)\n"
     ]
    },
    {
     "name": "stdout",
     "output_type": "stream",
     "text": [
      "Evaluating fold 5\n",
      "Embedding dictionary:\n",
      " \tNum conditions: [3]\n",
      " \tEmbedding dim: [10]\n",
      "Encoder Architecture:\n",
      "\tInput Layer in, out and cond: 4000 64 10\n",
      "\tMean/Var Layer in/out: 64 8\n",
      "Decoder Architecture:\n",
      "\tFirst Layer in, out and cond:  8 64 10\n",
      "\tOutput Layer in/out:  64 4000 \n",
      "\n"
     ]
    },
    {
     "name": "stderr",
     "output_type": "stream",
     "text": [
      "INFO:scarches.trainers.scpoli.trainer:GPU available: True, GPU used: True\n"
     ]
    },
    {
     "name": "stdout",
     "output_type": "stream",
     "text": [
      "Embedding dictionary:\n",
      " \tNum conditions: [5]\n",
      " \tEmbedding dim: [10]\n",
      "Encoder Architecture:\n",
      "\tInput Layer in, out and cond: 4000 64 10\n",
      "\tMean/Var Layer in/out: 64 8\n",
      "Decoder Architecture:\n",
      "\tFirst Layer in, out and cond:  8 64 10\n",
      "\tOutput Layer in/out:  64 4000 \n",
      "\n",
      "Initializing dataloaders\n",
      "Starting training\n",
      " |████████████████----| 80.0%  - val_loss:  878.08 - val_cvae_loss:  878.08\n",
      "Initializing unlabeled prototypes with Leiden with an unknown number of  clusters.\n",
      "Clustering succesful. Found 27 clusters.\n",
      " |████████████████████| 100.0%  - val_loss:  879.20 - val_cvae_loss:  879.20 - val_prototype_loss:    0.00 - val_unlabeled_loss:    0.31\n"
     ]
    },
    {
     "name": "stderr",
     "output_type": "stream",
     "text": [
      "Computing neighbors: 100%|██████████| 1/1 [00:06<00:00,  6.02s/it]\n",
      "Embeddings:   0%|\u001b[32m          \u001b[0m| 0/1 [00:00<?, ?it/s]\n",
      "Metrics:   0%|\u001b[34m          \u001b[0m| 0/10 [00:00<?, ?it/s]\u001b[A\n",
      "Metrics:   0%|\u001b[34m          \u001b[0m| 0/10 [00:00<?, ?it/s, Bio conservation: isolated_labels]\u001b[A\n",
      "Metrics:  10%|\u001b[34m█         \u001b[0m| 1/10 [00:00<00:03,  2.63it/s, Bio conservation: isolated_labels]\u001b[A\n",
      "Metrics:  10%|\u001b[34m█         \u001b[0m| 1/10 [00:00<00:03,  2.63it/s, Bio conservation: nmi_ari_cluster_labels_kmeans]\u001b[A\n",
      "Metrics:  20%|\u001b[34m██        \u001b[0m| 2/10 [00:03<00:14,  1.79s/it, Bio conservation: nmi_ari_cluster_labels_kmeans]\u001b[A\n",
      "Metrics:  20%|\u001b[34m██        \u001b[0m| 2/10 [00:03<00:14,  1.79s/it, Bio conservation: silhouette_label]             \u001b[A\n",
      "Metrics:  30%|\u001b[34m███       \u001b[0m| 3/10 [00:03<00:08,  1.17s/it, Bio conservation: silhouette_label]\u001b[A\n",
      "Metrics:  30%|\u001b[34m███       \u001b[0m| 3/10 [00:03<00:08,  1.17s/it, Bio conservation: clisi_knn]       \u001b[A\n",
      "Metrics:  40%|\u001b[34m████      \u001b[0m| 4/10 [00:03<00:07,  1.17s/it, Batch correction: silhouette_batch]\u001b[A\n",
      "Metrics:  50%|\u001b[34m█████     \u001b[0m| 5/10 [00:03<00:02,  1.74it/s, Batch correction: silhouette_batch]\u001b[A\n",
      "Metrics:  50%|\u001b[34m█████     \u001b[0m| 5/10 [00:03<00:02,  1.74it/s, Batch correction: ilisi_knn]       \u001b[A\n",
      "Metrics:  60%|\u001b[34m██████    \u001b[0m| 6/10 [00:03<00:02,  1.74it/s, Batch correction: kbet_per_label]\u001b[A"
     ]
    },
    {
     "name": "stdout",
     "output_type": "stream",
     "text": [
      "\u001b[34mINFO    \u001b[0m HSPCs consists of a single batch or is too small. Skip.                                                   \n",
      "\u001b[34mINFO    \u001b[0m Monocyte-derived dendritic cells consists of a single batch or is too small. Skip.                        \n",
      "\u001b[34mINFO    \u001b[0m Plasma cells consists of a single batch or is too small. Skip.                                            \n"
     ]
    },
    {
     "name": "stderr",
     "output_type": "stream",
     "text": [
      "\n",
      "Metrics:  70%|\u001b[34m███████   \u001b[0m| 7/10 [00:12<00:06,  2.27s/it, Batch correction: kbet_per_label]\u001b[A\n",
      "Metrics:  70%|\u001b[34m███████   \u001b[0m| 7/10 [00:12<00:06,  2.27s/it, Batch correction: graph_connectivity]\u001b[A\n",
      "Embeddings: 100%|\u001b[32m██████████\u001b[0m| 1/1 [00:12<00:00, 12.63s/it]atch correction: pcr_comparison]    \u001b[A\n",
      "\n",
      "                                                                                         \u001b[A/ictstr01/home/icb/fatemehs.hashemig/codes/interpretable-ssl/interpretable_ssl/trainers/trainer.py:314: FutureWarning: The frame.append method is deprecated and will be removed from pandas in a future version. Use pandas.concat instead.\n",
      "  overall_df = overall_df.append(fold_df, ignore_index=True)\n"
     ]
    },
    {
     "name": "stdout",
     "output_type": "stream",
     "text": [
      "Evaluating fold 6\n",
      "Embedding dictionary:\n",
      " \tNum conditions: [3]\n",
      " \tEmbedding dim: [10]\n",
      "Encoder Architecture:\n",
      "\tInput Layer in, out and cond: 4000 64 10\n",
      "\tMean/Var Layer in/out: 64 8\n",
      "Decoder Architecture:\n",
      "\tFirst Layer in, out and cond:  8 64 10\n",
      "\tOutput Layer in/out:  64 4000 \n",
      "\n"
     ]
    },
    {
     "name": "stderr",
     "output_type": "stream",
     "text": [
      "INFO:scarches.trainers.scpoli.trainer:GPU available: True, GPU used: True\n"
     ]
    },
    {
     "name": "stdout",
     "output_type": "stream",
     "text": [
      "Embedding dictionary:\n",
      " \tNum conditions: [5]\n",
      " \tEmbedding dim: [10]\n",
      "Encoder Architecture:\n",
      "\tInput Layer in, out and cond: 4000 64 10\n",
      "\tMean/Var Layer in/out: 64 8\n",
      "Decoder Architecture:\n",
      "\tFirst Layer in, out and cond:  8 64 10\n",
      "\tOutput Layer in/out:  64 4000 \n",
      "\n",
      "Initializing dataloaders\n",
      "Starting training\n",
      " |████████████████----| 80.0%  - val_loss:  443.39 - val_cvae_loss:  443.39\n",
      "Initializing unlabeled prototypes with Leiden with an unknown number of  clusters.\n",
      "Clustering succesful. Found 31 clusters.\n",
      " |████████████████████| 100.0%  - val_loss:  445.45 - val_cvae_loss:  445.45 - val_prototype_loss:    0.00 - val_unlabeled_loss:    0.35\n"
     ]
    },
    {
     "name": "stderr",
     "output_type": "stream",
     "text": [
      "Computing neighbors: 100%|██████████| 1/1 [00:05<00:00,  5.10s/it]\n",
      "Embeddings:   0%|\u001b[32m          \u001b[0m| 0/1 [00:00<?, ?it/s]\n",
      "Metrics:   0%|\u001b[34m          \u001b[0m| 0/10 [00:00<?, ?it/s]\u001b[A\n",
      "Metrics:   0%|\u001b[34m          \u001b[0m| 0/10 [00:00<?, ?it/s, Bio conservation: isolated_labels]\u001b[A\n",
      "Metrics:  10%|\u001b[34m█         \u001b[0m| 1/10 [00:00<00:02,  4.23it/s, Bio conservation: isolated_labels]\u001b[A\n",
      "Metrics:  10%|\u001b[34m█         \u001b[0m| 1/10 [00:00<00:02,  4.23it/s, Bio conservation: nmi_ari_cluster_labels_kmeans]\u001b[A\n",
      "Metrics:  20%|\u001b[34m██        \u001b[0m| 2/10 [00:01<00:06,  1.33it/s, Bio conservation: nmi_ari_cluster_labels_kmeans]\u001b[A\n",
      "Metrics:  20%|\u001b[34m██        \u001b[0m| 2/10 [00:01<00:06,  1.33it/s, Bio conservation: silhouette_label]             \u001b[A\n",
      "Metrics:  30%|\u001b[34m███       \u001b[0m| 3/10 [00:01<00:03,  1.82it/s, Bio conservation: silhouette_label]\u001b[A\n",
      "Metrics:  30%|\u001b[34m███       \u001b[0m| 3/10 [00:01<00:03,  1.82it/s, Bio conservation: clisi_knn]       \u001b[A\n",
      "Metrics:  40%|\u001b[34m████      \u001b[0m| 4/10 [00:01<00:03,  1.82it/s, Batch correction: silhouette_batch]\u001b[A\n",
      "Metrics:  50%|\u001b[34m█████     \u001b[0m| 5/10 [00:01<00:01,  3.44it/s, Batch correction: silhouette_batch]\u001b[A\n",
      "Metrics:  50%|\u001b[34m█████     \u001b[0m| 5/10 [00:01<00:01,  3.44it/s, Batch correction: ilisi_knn]       \u001b[A\n",
      "Metrics:  60%|\u001b[34m██████    \u001b[0m| 6/10 [00:01<00:01,  3.44it/s, Batch correction: kbet_per_label]\u001b[A\n",
      "Metrics:  70%|\u001b[34m███████   \u001b[0m| 7/10 [00:12<00:07,  2.60s/it, Batch correction: kbet_per_label]\u001b[A\n",
      "Metrics:  70%|\u001b[34m███████   \u001b[0m| 7/10 [00:12<00:07,  2.60s/it, Batch correction: graph_connectivity]\u001b[A\n",
      "Embeddings: 100%|\u001b[32m██████████\u001b[0m| 1/1 [00:12<00:00, 12.82s/it]atch correction: pcr_comparison]    \u001b[A\n",
      "\n",
      "                                                                                         \u001b[A/ictstr01/home/icb/fatemehs.hashemig/codes/interpretable-ssl/interpretable_ssl/trainers/trainer.py:314: FutureWarning: The frame.append method is deprecated and will be removed from pandas in a future version. Use pandas.concat instead.\n",
      "  overall_df = overall_df.append(fold_df, ignore_index=True)\n"
     ]
    },
    {
     "name": "stdout",
     "output_type": "stream",
     "text": [
      "Evaluating fold 7\n",
      "Embedding dictionary:\n",
      " \tNum conditions: [3]\n",
      " \tEmbedding dim: [10]\n",
      "Encoder Architecture:\n",
      "\tInput Layer in, out and cond: 4000 64 10\n",
      "\tMean/Var Layer in/out: 64 8\n",
      "Decoder Architecture:\n",
      "\tFirst Layer in, out and cond:  8 64 10\n",
      "\tOutput Layer in/out:  64 4000 \n",
      "\n"
     ]
    },
    {
     "name": "stderr",
     "output_type": "stream",
     "text": [
      "INFO:scarches.trainers.scpoli.trainer:GPU available: True, GPU used: True\n"
     ]
    },
    {
     "name": "stdout",
     "output_type": "stream",
     "text": [
      "Embedding dictionary:\n",
      " \tNum conditions: [5]\n",
      " \tEmbedding dim: [10]\n",
      "Encoder Architecture:\n",
      "\tInput Layer in, out and cond: 4000 64 10\n",
      "\tMean/Var Layer in/out: 64 8\n",
      "Decoder Architecture:\n",
      "\tFirst Layer in, out and cond:  8 64 10\n",
      "\tOutput Layer in/out:  64 4000 \n",
      "\n",
      "Initializing dataloaders\n",
      "Starting training\n",
      " |████████████████----| 80.0%  - val_loss: 4531.76 - val_cvae_loss: 4531.76\n",
      "Initializing unlabeled prototypes with Leiden with an unknown number of  clusters.\n",
      "Clustering succesful. Found 21 clusters.\n",
      " |████████████████████| 100.0%  - val_loss: 4502.38 - val_cvae_loss: 4502.38 - val_prototype_loss:    0.00 - val_unlabeled_loss:    0.58\n"
     ]
    },
    {
     "name": "stderr",
     "output_type": "stream",
     "text": [
      "Computing neighbors: 100%|██████████| 1/1 [00:01<00:00,  1.87s/it]\n",
      "Embeddings:   0%|\u001b[32m          \u001b[0m| 0/1 [00:00<?, ?it/s]\n",
      "Metrics:   0%|\u001b[34m          \u001b[0m| 0/10 [00:00<?, ?it/s]\u001b[A\n",
      "Metrics:   0%|\u001b[34m          \u001b[0m| 0/10 [00:00<?, ?it/s, Bio conservation: isolated_labels]\u001b[A\n",
      "Metrics:  10%|\u001b[34m█         \u001b[0m| 1/10 [00:00<00:00, 14.73it/s, Bio conservation: nmi_ari_cluster_labels_kmeans]\u001b[A\n",
      "Metrics:  20%|\u001b[34m██        \u001b[0m| 2/10 [00:01<00:05,  1.55it/s, Bio conservation: nmi_ari_cluster_labels_kmeans]\u001b[A\n",
      "Metrics:  20%|\u001b[34m██        \u001b[0m| 2/10 [00:01<00:05,  1.55it/s, Bio conservation: silhouette_label]             \u001b[A\n",
      "Metrics:  30%|\u001b[34m███       \u001b[0m| 3/10 [00:01<00:04,  1.55it/s, Bio conservation: clisi_knn]       \u001b[A\n",
      "Metrics:  40%|\u001b[34m████      \u001b[0m| 4/10 [00:01<00:01,  3.24it/s, Bio conservation: clisi_knn]\u001b[A\n",
      "Metrics:  40%|\u001b[34m████      \u001b[0m| 4/10 [00:01<00:01,  3.24it/s, Batch correction: silhouette_batch]\u001b[A\n",
      "Metrics:  50%|\u001b[34m█████     \u001b[0m| 5/10 [00:01<00:01,  3.24it/s, Batch correction: ilisi_knn]       \u001b[A\n",
      "Metrics:  60%|\u001b[34m██████    \u001b[0m| 6/10 [00:01<00:01,  3.24it/s, Batch correction: kbet_per_label]\u001b[A"
     ]
    },
    {
     "name": "stdout",
     "output_type": "stream",
     "text": [
      "\u001b[34mINFO    \u001b[0m CD20+ B cells consists of a single batch or is too small. Skip.                                           \n",
      "\u001b[34mINFO    \u001b[0m CD4+ T cells consists of a single batch or is too small. Skip.                                            \n",
      "\u001b[34mINFO    \u001b[0m CD8+ T cells consists of a single batch or is too small. Skip.                                            \n",
      "\u001b[34mINFO    \u001b[0m Megakaryocyte progenitors consists of a single batch or is too small. Skip.                               \n",
      "\u001b[34mINFO    \u001b[0m Monocyte-derived dendritic cells consists of a single batch or is too small. Skip.                        \n",
      "\u001b[34mINFO    \u001b[0m NK cells consists of a single batch or is too small. Skip.                                                \n",
      "\u001b[34mINFO    \u001b[0m NKT cells consists of a single batch or is too small. Skip.                                               \n"
     ]
    },
    {
     "name": "stderr",
     "output_type": "stream",
     "text": [
      "\n",
      "Metrics:  70%|\u001b[34m███████   \u001b[0m| 7/10 [00:02<00:00,  3.39it/s, Batch correction: kbet_per_label]\u001b[A\n",
      "Metrics:  70%|\u001b[34m███████   \u001b[0m| 7/10 [00:02<00:00,  3.39it/s, Batch correction: graph_connectivity]\u001b[A\n",
      "Embeddings: 100%|\u001b[32m██████████\u001b[0m| 1/1 [00:02<00:00,  2.35s/it]atch correction: pcr_comparison]    \u001b[A\n",
      "\n",
      "                                                                                         \u001b[A/ictstr01/home/icb/fatemehs.hashemig/codes/interpretable-ssl/interpretable_ssl/trainers/trainer.py:314: FutureWarning: The frame.append method is deprecated and will be removed from pandas in a future version. Use pandas.concat instead.\n",
      "  overall_df = overall_df.append(fold_df, ignore_index=True)\n"
     ]
    },
    {
     "name": "stdout",
     "output_type": "stream",
     "text": [
      "Evaluating fold 8\n",
      "Embedding dictionary:\n",
      " \tNum conditions: [3]\n",
      " \tEmbedding dim: [10]\n",
      "Encoder Architecture:\n",
      "\tInput Layer in, out and cond: 4000 64 10\n",
      "\tMean/Var Layer in/out: 64 8\n",
      "Decoder Architecture:\n",
      "\tFirst Layer in, out and cond:  8 64 10\n",
      "\tOutput Layer in/out:  64 4000 \n",
      "\n"
     ]
    },
    {
     "name": "stderr",
     "output_type": "stream",
     "text": [
      "INFO:scarches.trainers.scpoli.trainer:GPU available: True, GPU used: True\n"
     ]
    },
    {
     "name": "stdout",
     "output_type": "stream",
     "text": [
      "Embedding dictionary:\n",
      " \tNum conditions: [5]\n",
      " \tEmbedding dim: [10]\n",
      "Encoder Architecture:\n",
      "\tInput Layer in, out and cond: 4000 64 10\n",
      "\tMean/Var Layer in/out: 64 8\n",
      "Decoder Architecture:\n",
      "\tFirst Layer in, out and cond:  8 64 10\n",
      "\tOutput Layer in/out:  64 4000 \n",
      "\n",
      "Initializing dataloaders\n",
      "Starting training\n",
      " |████████████████----| 80.0%  - val_loss:  442.66 - val_cvae_loss:  442.66\n",
      "Initializing unlabeled prototypes with Leiden with an unknown number of  clusters.\n",
      "Clustering succesful. Found 29 clusters.\n",
      " |████████████████████| 100.0%  - val_loss:  444.09 - val_cvae_loss:  444.09 - val_prototype_loss:    0.00 - val_unlabeled_loss:    0.40\n"
     ]
    },
    {
     "name": "stderr",
     "output_type": "stream",
     "text": [
      "Computing neighbors: 100%|██████████| 1/1 [00:07<00:00,  7.05s/it]\n",
      "Embeddings:   0%|\u001b[32m          \u001b[0m| 0/1 [00:00<?, ?it/s]\n",
      "Metrics:   0%|\u001b[34m          \u001b[0m| 0/10 [00:00<?, ?it/s]\u001b[A\n",
      "Metrics:   0%|\u001b[34m          \u001b[0m| 0/10 [00:00<?, ?it/s, Bio conservation: isolated_labels]\u001b[A\n",
      "Metrics:  10%|\u001b[34m█         \u001b[0m| 1/10 [00:00<00:06,  1.45it/s, Bio conservation: isolated_labels]\u001b[A\n",
      "Metrics:  10%|\u001b[34m█         \u001b[0m| 1/10 [00:00<00:06,  1.45it/s, Bio conservation: nmi_ari_cluster_labels_kmeans]\u001b[A\n",
      "Metrics:  20%|\u001b[34m██        \u001b[0m| 2/10 [00:03<00:15,  1.97s/it, Bio conservation: nmi_ari_cluster_labels_kmeans]\u001b[A\n",
      "Metrics:  20%|\u001b[34m██        \u001b[0m| 2/10 [00:03<00:15,  1.97s/it, Bio conservation: silhouette_label]             \u001b[A\n",
      "Metrics:  30%|\u001b[34m███       \u001b[0m| 3/10 [00:04<00:09,  1.36s/it, Bio conservation: silhouette_label]\u001b[A\n",
      "Metrics:  30%|\u001b[34m███       \u001b[0m| 3/10 [00:04<00:09,  1.36s/it, Bio conservation: clisi_knn]       \u001b[A\n",
      "Metrics:  40%|\u001b[34m████      \u001b[0m| 4/10 [00:04<00:05,  1.16it/s, Bio conservation: clisi_knn]\u001b[A\n",
      "Metrics:  40%|\u001b[34m████      \u001b[0m| 4/10 [00:04<00:05,  1.16it/s, Batch correction: silhouette_batch]\u001b[A\n",
      "Metrics:  50%|\u001b[34m█████     \u001b[0m| 5/10 [00:04<00:03,  1.54it/s, Batch correction: silhouette_batch]\u001b[A\n",
      "Metrics:  50%|\u001b[34m█████     \u001b[0m| 5/10 [00:04<00:03,  1.54it/s, Batch correction: ilisi_knn]       \u001b[A\n",
      "Metrics:  60%|\u001b[34m██████    \u001b[0m| 6/10 [00:04<00:01,  2.07it/s, Batch correction: ilisi_knn]\u001b[A\n",
      "Metrics:  60%|\u001b[34m██████    \u001b[0m| 6/10 [00:04<00:01,  2.07it/s, Batch correction: kbet_per_label]\u001b[A"
     ]
    },
    {
     "name": "stdout",
     "output_type": "stream",
     "text": [
      "\u001b[34mINFO    \u001b[0m HSPCs consists of a single batch or is too small. Skip.                                                   \n",
      "\u001b[34mINFO    \u001b[0m Plasma cells consists of a single batch or is too small. Skip.                                            \n"
     ]
    },
    {
     "name": "stderr",
     "output_type": "stream",
     "text": [
      "\n",
      "Metrics:  70%|\u001b[34m███████   \u001b[0m| 7/10 [00:18<00:14,  4.69s/it, Batch correction: kbet_per_label]\u001b[A\n",
      "Metrics:  70%|\u001b[34m███████   \u001b[0m| 7/10 [00:18<00:14,  4.69s/it, Batch correction: graph_connectivity]\u001b[A\n",
      "Metrics:  80%|\u001b[34m████████  \u001b[0m| 8/10 [00:18<00:09,  4.69s/it, Batch correction: pcr_comparison]    \u001b[A\n",
      "Embeddings: 100%|\u001b[32m██████████\u001b[0m| 1/1 [00:18<00:00, 18.17s/it]atch correction: pcr_comparison]\u001b[A\n",
      "\n",
      "                                                                                         \u001b[A/ictstr01/home/icb/fatemehs.hashemig/codes/interpretable-ssl/interpretable_ssl/trainers/trainer.py:314: FutureWarning: The frame.append method is deprecated and will be removed from pandas in a future version. Use pandas.concat instead.\n",
      "  overall_df = overall_df.append(fold_df, ignore_index=True)\n"
     ]
    },
    {
     "name": "stdout",
     "output_type": "stream",
     "text": [
      "Evaluating fold 9\n",
      "Embedding dictionary:\n",
      " \tNum conditions: [3]\n",
      " \tEmbedding dim: [10]\n",
      "Encoder Architecture:\n",
      "\tInput Layer in, out and cond: 4000 64 10\n",
      "\tMean/Var Layer in/out: 64 8\n",
      "Decoder Architecture:\n",
      "\tFirst Layer in, out and cond:  8 64 10\n",
      "\tOutput Layer in/out:  64 4000 \n",
      "\n"
     ]
    },
    {
     "name": "stderr",
     "output_type": "stream",
     "text": [
      "INFO:scarches.trainers.scpoli.trainer:GPU available: True, GPU used: True\n"
     ]
    },
    {
     "name": "stdout",
     "output_type": "stream",
     "text": [
      "Embedding dictionary:\n",
      " \tNum conditions: [5]\n",
      " \tEmbedding dim: [10]\n",
      "Encoder Architecture:\n",
      "\tInput Layer in, out and cond: 4000 64 10\n",
      "\tMean/Var Layer in/out: 64 8\n",
      "Decoder Architecture:\n",
      "\tFirst Layer in, out and cond:  8 64 10\n",
      "\tOutput Layer in/out:  64 4000 \n",
      "\n",
      "Initializing dataloaders\n",
      "Starting training\n",
      " |████████████████----| 80.0%  - val_loss: 4430.21 - val_cvae_loss: 4430.21\n",
      "Initializing unlabeled prototypes with Leiden with an unknown number of  clusters.\n",
      "Clustering succesful. Found 26 clusters.\n",
      " |████████████████████| 100.0%  - val_loss: 4450.07 - val_cvae_loss: 4450.07 - val_prototype_loss:    0.00 - val_unlabeled_loss:    0.39\n"
     ]
    },
    {
     "name": "stderr",
     "output_type": "stream",
     "text": [
      "Computing neighbors: 100%|██████████| 1/1 [00:04<00:00,  4.63s/it]\n",
      "Embeddings:   0%|\u001b[32m          \u001b[0m| 0/1 [00:00<?, ?it/s]\n",
      "Metrics:   0%|\u001b[34m          \u001b[0m| 0/10 [00:00<?, ?it/s]\u001b[A\n",
      "Metrics:   0%|\u001b[34m          \u001b[0m| 0/10 [00:00<?, ?it/s, Bio conservation: isolated_labels]\u001b[A\n",
      "Metrics:  10%|\u001b[34m█         \u001b[0m| 1/10 [00:00<00:03,  2.67it/s, Bio conservation: isolated_labels]\u001b[A\n",
      "Metrics:  10%|\u001b[34m█         \u001b[0m| 1/10 [00:00<00:03,  2.67it/s, Bio conservation: nmi_ari_cluster_labels_kmeans]\u001b[A\n",
      "Metrics:  20%|\u001b[34m██        \u001b[0m| 2/10 [00:01<00:06,  1.16it/s, Bio conservation: nmi_ari_cluster_labels_kmeans]\u001b[A\n",
      "Metrics:  20%|\u001b[34m██        \u001b[0m| 2/10 [00:01<00:06,  1.16it/s, Bio conservation: silhouette_label]             \u001b[A\n",
      "Metrics:  30%|\u001b[34m███       \u001b[0m| 3/10 [00:01<00:04,  1.70it/s, Bio conservation: silhouette_label]\u001b[A\n",
      "Metrics:  30%|\u001b[34m███       \u001b[0m| 3/10 [00:01<00:04,  1.70it/s, Bio conservation: clisi_knn]       \u001b[A\n",
      "Metrics:  40%|\u001b[34m████      \u001b[0m| 4/10 [00:01<00:03,  1.70it/s, Batch correction: silhouette_batch]\u001b[A\n",
      "Metrics:  50%|\u001b[34m█████     \u001b[0m| 5/10 [00:01<00:01,  3.44it/s, Batch correction: silhouette_batch]\u001b[A\n",
      "Metrics:  50%|\u001b[34m█████     \u001b[0m| 5/10 [00:01<00:01,  3.44it/s, Batch correction: ilisi_knn]       \u001b[A\n",
      "Metrics:  60%|\u001b[34m██████    \u001b[0m| 6/10 [00:02<00:01,  3.44it/s, Batch correction: kbet_per_label]\u001b[A"
     ]
    },
    {
     "name": "stdout",
     "output_type": "stream",
     "text": [
      "\u001b[34mINFO    \u001b[0m CD20+ B cells consists of a single batch or is too small. Skip.                                           \n",
      "\u001b[34mINFO    \u001b[0m CD4+ T cells consists of a single batch or is too small. Skip.                                            \n",
      "\u001b[34mINFO    \u001b[0m CD8+ T cells consists of a single batch or is too small. Skip.                                            \n",
      "\u001b[34mINFO    \u001b[0m HSPCs consists of a single batch or is too small. Skip.                                                   \n",
      "\u001b[34mINFO    \u001b[0m Megakaryocyte progenitors consists of a single batch or is too small. Skip.                               \n",
      "\u001b[34mINFO    \u001b[0m NK cells consists of a single batch or is too small. Skip.                                                \n",
      "\u001b[34mINFO    \u001b[0m NKT cells consists of a single batch or is too small. Skip.                                               \n",
      "\u001b[34mINFO    \u001b[0m Plasma cells consists of a single batch or is too small. Skip.                                            \n"
     ]
    },
    {
     "name": "stderr",
     "output_type": "stream",
     "text": [
      "\n",
      "Metrics:  70%|\u001b[34m███████   \u001b[0m| 7/10 [00:06<00:03,  1.07s/it, Batch correction: kbet_per_label]\u001b[A\n",
      "Metrics:  70%|\u001b[34m███████   \u001b[0m| 7/10 [00:06<00:03,  1.07s/it, Batch correction: graph_connectivity]\u001b[A\n",
      "Embeddings: 100%|\u001b[32m██████████\u001b[0m| 1/1 [00:06<00:00,  6.10s/it]atch correction: pcr_comparison]    \u001b[A\n",
      "\n",
      "                                                                                         \u001b[A/ictstr01/home/icb/fatemehs.hashemig/codes/interpretable-ssl/interpretable_ssl/trainers/trainer.py:314: FutureWarning: The frame.append method is deprecated and will be removed from pandas in a future version. Use pandas.concat instead.\n",
      "  overall_df = overall_df.append(fold_df, ignore_index=True)\n"
     ]
    },
    {
     "name": "stdout",
     "output_type": "stream",
     "text": [
      "Evaluating fold 10\n",
      "Embedding dictionary:\n",
      " \tNum conditions: [3]\n",
      " \tEmbedding dim: [10]\n",
      "Encoder Architecture:\n",
      "\tInput Layer in, out and cond: 4000 64 10\n",
      "\tMean/Var Layer in/out: 64 8\n",
      "Decoder Architecture:\n",
      "\tFirst Layer in, out and cond:  8 64 10\n",
      "\tOutput Layer in/out:  64 4000 \n",
      "\n"
     ]
    },
    {
     "name": "stderr",
     "output_type": "stream",
     "text": [
      "INFO:scarches.trainers.scpoli.trainer:GPU available: True, GPU used: True\n"
     ]
    },
    {
     "name": "stdout",
     "output_type": "stream",
     "text": [
      "Embedding dictionary:\n",
      " \tNum conditions: [5]\n",
      " \tEmbedding dim: [10]\n",
      "Encoder Architecture:\n",
      "\tInput Layer in, out and cond: 4000 64 10\n",
      "\tMean/Var Layer in/out: 64 8\n",
      "Decoder Architecture:\n",
      "\tFirst Layer in, out and cond:  8 64 10\n",
      "\tOutput Layer in/out:  64 4000 \n",
      "\n",
      "Initializing dataloaders\n",
      "Starting training\n",
      " |████████████████----| 80.0%  - val_loss: 4499.46 - val_cvae_loss: 4499.46\n",
      "Initializing unlabeled prototypes with Leiden with an unknown number of  clusters.\n",
      "Clustering succesful. Found 28 clusters.\n",
      " |████████████████████| 100.0%  - val_loss: 4498.06 - val_cvae_loss: 4498.06 - val_prototype_loss:    0.00 - val_unlabeled_loss:    0.46\n"
     ]
    },
    {
     "name": "stderr",
     "output_type": "stream",
     "text": [
      "Computing neighbors: 100%|██████████| 1/1 [00:03<00:00,  3.84s/it]\n",
      "Embeddings:   0%|\u001b[32m          \u001b[0m| 0/1 [00:00<?, ?it/s]\n",
      "Metrics:   0%|\u001b[34m          \u001b[0m| 0/10 [00:00<?, ?it/s]\u001b[A\n",
      "Metrics:   0%|\u001b[34m          \u001b[0m| 0/10 [00:00<?, ?it/s, Bio conservation: isolated_labels]\u001b[A\n",
      "Metrics:  10%|\u001b[34m█         \u001b[0m| 1/10 [00:00<00:02,  3.94it/s, Bio conservation: isolated_labels]\u001b[A\n",
      "Metrics:  10%|\u001b[34m█         \u001b[0m| 1/10 [00:00<00:02,  3.94it/s, Bio conservation: nmi_ari_cluster_labels_kmeans]\u001b[A\n",
      "Metrics:  20%|\u001b[34m██        \u001b[0m| 2/10 [00:02<00:11,  1.42s/it, Bio conservation: nmi_ari_cluster_labels_kmeans]\u001b[A\n",
      "Metrics:  20%|\u001b[34m██        \u001b[0m| 2/10 [00:02<00:11,  1.42s/it, Bio conservation: silhouette_label]             \u001b[A\n",
      "Metrics:  30%|\u001b[34m███       \u001b[0m| 3/10 [00:02<00:06,  1.11it/s, Bio conservation: silhouette_label]\u001b[A\n",
      "Metrics:  30%|\u001b[34m███       \u001b[0m| 3/10 [00:02<00:06,  1.11it/s, Bio conservation: clisi_knn]       \u001b[A\n",
      "Metrics:  40%|\u001b[34m████      \u001b[0m| 4/10 [00:02<00:05,  1.11it/s, Batch correction: silhouette_batch]\u001b[A\n",
      "Metrics:  50%|\u001b[34m█████     \u001b[0m| 5/10 [00:02<00:02,  2.25it/s, Batch correction: silhouette_batch]\u001b[A\n",
      "Metrics:  50%|\u001b[34m█████     \u001b[0m| 5/10 [00:02<00:02,  2.25it/s, Batch correction: ilisi_knn]       \u001b[A\n",
      "Metrics:  60%|\u001b[34m██████    \u001b[0m| 6/10 [00:03<00:01,  2.25it/s, Batch correction: kbet_per_label]\u001b[A\n",
      "Metrics:  70%|\u001b[34m███████   \u001b[0m| 7/10 [00:10<00:05,  1.95s/it, Batch correction: kbet_per_label]\u001b[A\n",
      "Metrics:  70%|\u001b[34m███████   \u001b[0m| 7/10 [00:10<00:05,  1.95s/it, Batch correction: graph_connectivity]\u001b[A\n",
      "Embeddings: 100%|\u001b[32m██████████\u001b[0m| 1/1 [00:10<00:00, 10.63s/it]atch correction: pcr_comparison]    \u001b[A\n",
      "\n",
      "                                                                                         \u001b[A/ictstr01/home/icb/fatemehs.hashemig/codes/interpretable-ssl/interpretable_ssl/trainers/trainer.py:314: FutureWarning: The frame.append method is deprecated and will be removed from pandas in a future version. Use pandas.concat instead.\n",
      "  overall_df = overall_df.append(fold_df, ignore_index=True)\n"
     ]
    },
    {
     "data": {
      "text/html": [
       "<div>\n",
       "<style scoped>\n",
       "    .dataframe tbody tr th:only-of-type {\n",
       "        vertical-align: middle;\n",
       "    }\n",
       "\n",
       "    .dataframe tbody tr th {\n",
       "        vertical-align: top;\n",
       "    }\n",
       "\n",
       "    .dataframe thead th {\n",
       "        text-align: right;\n",
       "    }\n",
       "</style>\n",
       "<table border=\"1\" class=\"dataframe\">\n",
       "  <thead>\n",
       "    <tr style=\"text-align: right;\">\n",
       "      <th></th>\n",
       "      <th>Isolated labels</th>\n",
       "      <th>KMeans NMI</th>\n",
       "      <th>KMeans ARI</th>\n",
       "      <th>Silhouette label</th>\n",
       "      <th>cLISI</th>\n",
       "      <th>Silhouette batch</th>\n",
       "      <th>iLISI</th>\n",
       "      <th>KBET</th>\n",
       "      <th>Graph connectivity</th>\n",
       "      <th>PCR comparison</th>\n",
       "      <th>Batch correction</th>\n",
       "      <th>Bio conservation</th>\n",
       "      <th>Total</th>\n",
       "    </tr>\n",
       "    <tr>\n",
       "      <th>trainer</th>\n",
       "      <th></th>\n",
       "      <th></th>\n",
       "      <th></th>\n",
       "      <th></th>\n",
       "      <th></th>\n",
       "      <th></th>\n",
       "      <th></th>\n",
       "      <th></th>\n",
       "      <th></th>\n",
       "      <th></th>\n",
       "      <th></th>\n",
       "      <th></th>\n",
       "      <th></th>\n",
       "    </tr>\n",
       "  </thead>\n",
       "  <tbody>\n",
       "    <tr>\n",
       "      <th>barlow-num-prot-16_hidden-64_bs-64</th>\n",
       "      <td>0.648321</td>\n",
       "      <td>0.653568</td>\n",
       "      <td>0.421368</td>\n",
       "      <td>0.580857</td>\n",
       "      <td>0.988747</td>\n",
       "      <td>0.835854</td>\n",
       "      <td>0.239628</td>\n",
       "      <td>0.403892</td>\n",
       "      <td>0.902028</td>\n",
       "      <td>0.653350</td>\n",
       "      <td>0.606950</td>\n",
       "      <td>0.658572</td>\n",
       "      <td>0.637923</td>\n",
       "    </tr>\n",
       "    <tr>\n",
       "      <th>scpoli-original-latent_dim8</th>\n",
       "      <td>0.680113</td>\n",
       "      <td>0.701175</td>\n",
       "      <td>0.525335</td>\n",
       "      <td>0.623122</td>\n",
       "      <td>0.990887</td>\n",
       "      <td>0.771017</td>\n",
       "      <td>0.299044</td>\n",
       "      <td>0.488385</td>\n",
       "      <td>0.895075</td>\n",
       "      <td>0.719558</td>\n",
       "      <td>0.634616</td>\n",
       "      <td>0.704126</td>\n",
       "      <td>0.676322</td>\n",
       "    </tr>\n",
       "    <tr>\n",
       "      <th>scvi-latent_dim8</th>\n",
       "      <td>0.646387</td>\n",
       "      <td>0.683340</td>\n",
       "      <td>0.485468</td>\n",
       "      <td>0.583205</td>\n",
       "      <td>0.992197</td>\n",
       "      <td>0.817930</td>\n",
       "      <td>0.221461</td>\n",
       "      <td>0.372219</td>\n",
       "      <td>0.912276</td>\n",
       "      <td>0.667850</td>\n",
       "      <td>0.598347</td>\n",
       "      <td>0.678120</td>\n",
       "      <td>0.646211</td>\n",
       "    </tr>\n",
       "  </tbody>\n",
       "</table>\n",
       "</div>"
      ],
      "text/plain": [
       "                                    Isolated labels  KMeans NMI  KMeans ARI  \\\n",
       "trainer                                                                       \n",
       "barlow-num-prot-16_hidden-64_bs-64         0.648321    0.653568    0.421368   \n",
       "scpoli-original-latent_dim8                0.680113    0.701175    0.525335   \n",
       "scvi-latent_dim8                           0.646387    0.683340    0.485468   \n",
       "\n",
       "                                    Silhouette label     cLISI  \\\n",
       "trainer                                                          \n",
       "barlow-num-prot-16_hidden-64_bs-64          0.580857  0.988747   \n",
       "scpoli-original-latent_dim8                 0.623122  0.990887   \n",
       "scvi-latent_dim8                            0.583205  0.992197   \n",
       "\n",
       "                                    Silhouette batch     iLISI      KBET  \\\n",
       "trainer                                                                    \n",
       "barlow-num-prot-16_hidden-64_bs-64          0.835854  0.239628  0.403892   \n",
       "scpoli-original-latent_dim8                 0.771017  0.299044  0.488385   \n",
       "scvi-latent_dim8                            0.817930  0.221461  0.372219   \n",
       "\n",
       "                                    Graph connectivity  PCR comparison  \\\n",
       "trainer                                                                  \n",
       "barlow-num-prot-16_hidden-64_bs-64            0.902028        0.653350   \n",
       "scpoli-original-latent_dim8                   0.895075        0.719558   \n",
       "scvi-latent_dim8                              0.912276        0.667850   \n",
       "\n",
       "                                    Batch correction  Bio conservation  \\\n",
       "trainer                                                                  \n",
       "barlow-num-prot-16_hidden-64_bs-64          0.606950          0.658572   \n",
       "scpoli-original-latent_dim8                 0.634616          0.704126   \n",
       "scvi-latent_dim8                            0.598347          0.678120   \n",
       "\n",
       "                                       Total  \n",
       "trainer                                       \n",
       "barlow-num-prot-16_hidden-64_bs-64  0.637923  \n",
       "scpoli-original-latent_dim8         0.676322  \n",
       "scvi-latent_dim8                    0.646211  "
      ]
     },
     "execution_count": 31,
     "metadata": {},
     "output_type": "execute_result"
    }
   ],
   "source": [
    "trainers = [scvi, scpoli, barlow]\n",
    "names = [trainer.get_model_name() for trainer in trainers]\n",
    "\n",
    "all_results_new = pd.DataFrame()\n",
    "for trainer, name in zip(trainers, names):\n",
    "    eval_fn = partial(trainer.query_scib_metrics, fine_tuning=True)\n",
    "\n",
    "    df = trainer.evaluate_custom_cross_val_models(eval_fn)\n",
    "    df['trainer'] = name\n",
    "    \n",
    "    all_results_new = pd.concat([all_results_new, df], ignore_index=True)\n",
    "process_dataframe(deepcopy(all_results_new))"
   ]
  },
  {
   "cell_type": "code",
   "execution_count": 39,
   "id": "bd370b8f-5c3b-43cb-95db-406e03332e22",
   "metadata": {
    "scrolled": true
   },
   "outputs": [
    {
     "data": {
      "text/html": [
       "<div>\n",
       "<style scoped>\n",
       "    .dataframe tbody tr th:only-of-type {\n",
       "        vertical-align: middle;\n",
       "    }\n",
       "\n",
       "    .dataframe tbody tr th {\n",
       "        vertical-align: top;\n",
       "    }\n",
       "\n",
       "    .dataframe thead th {\n",
       "        text-align: right;\n",
       "    }\n",
       "</style>\n",
       "<table border=\"1\" class=\"dataframe\">\n",
       "  <thead>\n",
       "    <tr style=\"text-align: right;\">\n",
       "      <th></th>\n",
       "      <th>Isolated labels</th>\n",
       "      <th>KMeans NMI</th>\n",
       "      <th>KMeans ARI</th>\n",
       "      <th>Silhouette label</th>\n",
       "      <th>cLISI</th>\n",
       "      <th>Silhouette batch</th>\n",
       "      <th>iLISI</th>\n",
       "      <th>KBET</th>\n",
       "      <th>Graph connectivity</th>\n",
       "      <th>PCR comparison</th>\n",
       "      <th>Batch correction</th>\n",
       "      <th>Bio conservation</th>\n",
       "      <th>Total</th>\n",
       "      <th>fold</th>\n",
       "      <th>trainer</th>\n",
       "    </tr>\n",
       "  </thead>\n",
       "  <tbody>\n",
       "    <tr>\n",
       "      <th>0</th>\n",
       "      <td>0.574879</td>\n",
       "      <td>0.567107</td>\n",
       "      <td>0.318055</td>\n",
       "      <td>0.553871</td>\n",
       "      <td>0.980997</td>\n",
       "      <td>0.867174</td>\n",
       "      <td>2.647806e-01</td>\n",
       "      <td>0.334462</td>\n",
       "      <td>0.923864</td>\n",
       "      <td>0.567113</td>\n",
       "      <td>0.591479</td>\n",
       "      <td>0.598982</td>\n",
       "      <td>0.595981</td>\n",
       "      <td>1</td>\n",
       "      <td>scvi-latent_dim8</td>\n",
       "    </tr>\n",
       "    <tr>\n",
       "      <th>2</th>\n",
       "      <td>0.576630</td>\n",
       "      <td>0.663592</td>\n",
       "      <td>0.422228</td>\n",
       "      <td>0.587675</td>\n",
       "      <td>0.994731</td>\n",
       "      <td>0.881993</td>\n",
       "      <td>1.093161e-01</td>\n",
       "      <td>0.295316</td>\n",
       "      <td>0.906895</td>\n",
       "      <td>0.580447</td>\n",
       "      <td>0.554793</td>\n",
       "      <td>0.648971</td>\n",
       "      <td>0.611300</td>\n",
       "      <td>2</td>\n",
       "      <td>scvi-latent_dim8</td>\n",
       "    </tr>\n",
       "    <tr>\n",
       "      <th>4</th>\n",
       "      <td>0.535672</td>\n",
       "      <td>0.684667</td>\n",
       "      <td>0.489640</td>\n",
       "      <td>0.562875</td>\n",
       "      <td>0.990961</td>\n",
       "      <td>0.865762</td>\n",
       "      <td>2.907567e-01</td>\n",
       "      <td>0.387067</td>\n",
       "      <td>0.925920</td>\n",
       "      <td>0.582505</td>\n",
       "      <td>0.610402</td>\n",
       "      <td>0.652763</td>\n",
       "      <td>0.635819</td>\n",
       "      <td>3</td>\n",
       "      <td>scvi-latent_dim8</td>\n",
       "    </tr>\n",
       "    <tr>\n",
       "      <th>6</th>\n",
       "      <td>0.612788</td>\n",
       "      <td>0.659736</td>\n",
       "      <td>0.505247</td>\n",
       "      <td>0.537095</td>\n",
       "      <td>0.980942</td>\n",
       "      <td>0.868780</td>\n",
       "      <td>2.910341e-01</td>\n",
       "      <td>0.346154</td>\n",
       "      <td>0.873307</td>\n",
       "      <td>0.766447</td>\n",
       "      <td>0.629144</td>\n",
       "      <td>0.659162</td>\n",
       "      <td>0.647155</td>\n",
       "      <td>4</td>\n",
       "      <td>scvi-latent_dim8</td>\n",
       "    </tr>\n",
       "    <tr>\n",
       "      <th>8</th>\n",
       "      <td>0.697203</td>\n",
       "      <td>0.697533</td>\n",
       "      <td>0.489407</td>\n",
       "      <td>0.629673</td>\n",
       "      <td>0.998996</td>\n",
       "      <td>0.805828</td>\n",
       "      <td>1.246041e-01</td>\n",
       "      <td>0.366469</td>\n",
       "      <td>0.921159</td>\n",
       "      <td>0.781943</td>\n",
       "      <td>0.600001</td>\n",
       "      <td>0.702562</td>\n",
       "      <td>0.661538</td>\n",
       "      <td>5</td>\n",
       "      <td>scvi-latent_dim8</td>\n",
       "    </tr>\n",
       "    <tr>\n",
       "      <th>10</th>\n",
       "      <td>0.770944</td>\n",
       "      <td>0.645046</td>\n",
       "      <td>0.396346</td>\n",
       "      <td>0.574807</td>\n",
       "      <td>0.992759</td>\n",
       "      <td>0.879770</td>\n",
       "      <td>4.309090e-01</td>\n",
       "      <td>0.353923</td>\n",
       "      <td>0.925416</td>\n",
       "      <td>0.303439</td>\n",
       "      <td>0.578691</td>\n",
       "      <td>0.675980</td>\n",
       "      <td>0.637065</td>\n",
       "      <td>6</td>\n",
       "      <td>scvi-latent_dim8</td>\n",
       "    </tr>\n",
       "    <tr>\n",
       "      <th>12</th>\n",
       "      <td>0.610893</td>\n",
       "      <td>0.693450</td>\n",
       "      <td>0.532274</td>\n",
       "      <td>0.562259</td>\n",
       "      <td>0.987673</td>\n",
       "      <td>0.729241</td>\n",
       "      <td>1.192093e-07</td>\n",
       "      <td>0.629156</td>\n",
       "      <td>0.894742</td>\n",
       "      <td>0.724734</td>\n",
       "      <td>0.595575</td>\n",
       "      <td>0.677310</td>\n",
       "      <td>0.644616</td>\n",
       "      <td>7</td>\n",
       "      <td>scvi-latent_dim8</td>\n",
       "    </tr>\n",
       "    <tr>\n",
       "      <th>14</th>\n",
       "      <td>0.759332</td>\n",
       "      <td>0.728149</td>\n",
       "      <td>0.520497</td>\n",
       "      <td>0.628723</td>\n",
       "      <td>0.998441</td>\n",
       "      <td>0.878441</td>\n",
       "      <td>3.341470e-01</td>\n",
       "      <td>0.434773</td>\n",
       "      <td>0.920327</td>\n",
       "      <td>0.781510</td>\n",
       "      <td>0.669839</td>\n",
       "      <td>0.727028</td>\n",
       "      <td>0.704153</td>\n",
       "      <td>8</td>\n",
       "      <td>scvi-latent_dim8</td>\n",
       "    </tr>\n",
       "    <tr>\n",
       "      <th>16</th>\n",
       "      <td>0.676925</td>\n",
       "      <td>0.740664</td>\n",
       "      <td>0.597282</td>\n",
       "      <td>0.628061</td>\n",
       "      <td>0.999733</td>\n",
       "      <td>0.530231</td>\n",
       "      <td>0.000000e+00</td>\n",
       "      <td>0.250700</td>\n",
       "      <td>0.934639</td>\n",
       "      <td>0.747924</td>\n",
       "      <td>0.492699</td>\n",
       "      <td>0.728533</td>\n",
       "      <td>0.634199</td>\n",
       "      <td>9</td>\n",
       "      <td>scvi-latent_dim8</td>\n",
       "    </tr>\n",
       "    <tr>\n",
       "      <th>18</th>\n",
       "      <td>0.648604</td>\n",
       "      <td>0.753461</td>\n",
       "      <td>0.583708</td>\n",
       "      <td>0.567009</td>\n",
       "      <td>0.996738</td>\n",
       "      <td>0.872081</td>\n",
       "      <td>3.690579e-01</td>\n",
       "      <td>0.324170</td>\n",
       "      <td>0.896496</td>\n",
       "      <td>0.842442</td>\n",
       "      <td>0.660849</td>\n",
       "      <td>0.709904</td>\n",
       "      <td>0.690282</td>\n",
       "      <td>10</td>\n",
       "      <td>scvi-latent_dim8</td>\n",
       "    </tr>\n",
       "    <tr>\n",
       "      <th>20</th>\n",
       "      <td>0.594828</td>\n",
       "      <td>0.623449</td>\n",
       "      <td>0.361918</td>\n",
       "      <td>0.582572</td>\n",
       "      <td>0.979949</td>\n",
       "      <td>0.829050</td>\n",
       "      <td>4.828866e-01</td>\n",
       "      <td>0.563162</td>\n",
       "      <td>0.887427</td>\n",
       "      <td>0.823104</td>\n",
       "      <td>0.717126</td>\n",
       "      <td>0.628543</td>\n",
       "      <td>0.663976</td>\n",
       "      <td>1</td>\n",
       "      <td>scpoli-original-latent_dim8</td>\n",
       "    </tr>\n",
       "    <tr>\n",
       "      <th>22</th>\n",
       "      <td>0.545949</td>\n",
       "      <td>0.686069</td>\n",
       "      <td>0.559311</td>\n",
       "      <td>0.634874</td>\n",
       "      <td>0.994982</td>\n",
       "      <td>0.842200</td>\n",
       "      <td>2.389483e-01</td>\n",
       "      <td>0.457135</td>\n",
       "      <td>0.873094</td>\n",
       "      <td>0.871215</td>\n",
       "      <td>0.656518</td>\n",
       "      <td>0.684237</td>\n",
       "      <td>0.673150</td>\n",
       "      <td>2</td>\n",
       "      <td>scpoli-original-latent_dim8</td>\n",
       "    </tr>\n",
       "    <tr>\n",
       "      <th>24</th>\n",
       "      <td>0.538990</td>\n",
       "      <td>0.677043</td>\n",
       "      <td>0.453398</td>\n",
       "      <td>0.595463</td>\n",
       "      <td>0.988818</td>\n",
       "      <td>0.823920</td>\n",
       "      <td>3.730024e-01</td>\n",
       "      <td>0.511776</td>\n",
       "      <td>0.899723</td>\n",
       "      <td>0.763665</td>\n",
       "      <td>0.674417</td>\n",
       "      <td>0.650742</td>\n",
       "      <td>0.660212</td>\n",
       "      <td>3</td>\n",
       "      <td>scpoli-original-latent_dim8</td>\n",
       "    </tr>\n",
       "    <tr>\n",
       "      <th>26</th>\n",
       "      <td>0.823195</td>\n",
       "      <td>0.635823</td>\n",
       "      <td>0.378567</td>\n",
       "      <td>0.567490</td>\n",
       "      <td>0.976966</td>\n",
       "      <td>0.815993</td>\n",
       "      <td>3.882609e-01</td>\n",
       "      <td>0.516520</td>\n",
       "      <td>0.882097</td>\n",
       "      <td>0.833546</td>\n",
       "      <td>0.687283</td>\n",
       "      <td>0.676408</td>\n",
       "      <td>0.680758</td>\n",
       "      <td>4</td>\n",
       "      <td>scpoli-original-latent_dim8</td>\n",
       "    </tr>\n",
       "    <tr>\n",
       "      <th>28</th>\n",
       "      <td>0.738159</td>\n",
       "      <td>0.736103</td>\n",
       "      <td>0.662894</td>\n",
       "      <td>0.666696</td>\n",
       "      <td>0.999200</td>\n",
       "      <td>0.748715</td>\n",
       "      <td>1.904306e-01</td>\n",
       "      <td>0.464692</td>\n",
       "      <td>0.922124</td>\n",
       "      <td>0.679044</td>\n",
       "      <td>0.601001</td>\n",
       "      <td>0.760610</td>\n",
       "      <td>0.696767</td>\n",
       "      <td>5</td>\n",
       "      <td>scpoli-original-latent_dim8</td>\n",
       "    </tr>\n",
       "    <tr>\n",
       "      <th>30</th>\n",
       "      <td>0.787499</td>\n",
       "      <td>0.709006</td>\n",
       "      <td>0.556334</td>\n",
       "      <td>0.602967</td>\n",
       "      <td>0.990313</td>\n",
       "      <td>0.779923</td>\n",
       "      <td>5.332489e-01</td>\n",
       "      <td>0.549942</td>\n",
       "      <td>0.911035</td>\n",
       "      <td>0.588827</td>\n",
       "      <td>0.672595</td>\n",
       "      <td>0.729224</td>\n",
       "      <td>0.706572</td>\n",
       "      <td>6</td>\n",
       "      <td>scpoli-original-latent_dim8</td>\n",
       "    </tr>\n",
       "    <tr>\n",
       "      <th>32</th>\n",
       "      <td>0.659350</td>\n",
       "      <td>0.718764</td>\n",
       "      <td>0.530780</td>\n",
       "      <td>0.623434</td>\n",
       "      <td>0.987355</td>\n",
       "      <td>0.606274</td>\n",
       "      <td>1.192093e-07</td>\n",
       "      <td>0.565476</td>\n",
       "      <td>0.859602</td>\n",
       "      <td>0.448869</td>\n",
       "      <td>0.496044</td>\n",
       "      <td>0.703937</td>\n",
       "      <td>0.620780</td>\n",
       "      <td>7</td>\n",
       "      <td>scpoli-original-latent_dim8</td>\n",
       "    </tr>\n",
       "    <tr>\n",
       "      <th>34</th>\n",
       "      <td>0.760910</td>\n",
       "      <td>0.720591</td>\n",
       "      <td>0.536739</td>\n",
       "      <td>0.652420</td>\n",
       "      <td>0.996897</td>\n",
       "      <td>0.814231</td>\n",
       "      <td>3.383625e-01</td>\n",
       "      <td>0.444521</td>\n",
       "      <td>0.904185</td>\n",
       "      <td>0.543694</td>\n",
       "      <td>0.608999</td>\n",
       "      <td>0.733511</td>\n",
       "      <td>0.683706</td>\n",
       "      <td>8</td>\n",
       "      <td>scpoli-original-latent_dim8</td>\n",
       "    </tr>\n",
       "    <tr>\n",
       "      <th>36</th>\n",
       "      <td>0.678956</td>\n",
       "      <td>0.769401</td>\n",
       "      <td>0.636656</td>\n",
       "      <td>0.696896</td>\n",
       "      <td>1.000000</td>\n",
       "      <td>0.634405</td>\n",
       "      <td>1.192093e-07</td>\n",
       "      <td>0.324103</td>\n",
       "      <td>0.921014</td>\n",
       "      <td>0.898624</td>\n",
       "      <td>0.555629</td>\n",
       "      <td>0.756382</td>\n",
       "      <td>0.676081</td>\n",
       "      <td>9</td>\n",
       "      <td>scpoli-original-latent_dim8</td>\n",
       "    </tr>\n",
       "    <tr>\n",
       "      <th>38</th>\n",
       "      <td>0.673293</td>\n",
       "      <td>0.735495</td>\n",
       "      <td>0.576750</td>\n",
       "      <td>0.608412</td>\n",
       "      <td>0.994390</td>\n",
       "      <td>0.815461</td>\n",
       "      <td>4.453012e-01</td>\n",
       "      <td>0.486522</td>\n",
       "      <td>0.890453</td>\n",
       "      <td>0.744992</td>\n",
       "      <td>0.676546</td>\n",
       "      <td>0.717668</td>\n",
       "      <td>0.701219</td>\n",
       "      <td>10</td>\n",
       "      <td>scpoli-original-latent_dim8</td>\n",
       "    </tr>\n",
       "    <tr>\n",
       "      <th>40</th>\n",
       "      <td>0.557090</td>\n",
       "      <td>0.588992</td>\n",
       "      <td>0.327319</td>\n",
       "      <td>0.548804</td>\n",
       "      <td>0.976448</td>\n",
       "      <td>0.885542</td>\n",
       "      <td>3.827208e-01</td>\n",
       "      <td>0.411345</td>\n",
       "      <td>0.889595</td>\n",
       "      <td>0.634087</td>\n",
       "      <td>0.640658</td>\n",
       "      <td>0.599731</td>\n",
       "      <td>0.616102</td>\n",
       "      <td>1</td>\n",
       "      <td>barlow-num-prot-16_hidden-64_bs-64</td>\n",
       "    </tr>\n",
       "    <tr>\n",
       "      <th>42</th>\n",
       "      <td>0.553276</td>\n",
       "      <td>0.649540</td>\n",
       "      <td>0.426714</td>\n",
       "      <td>0.569673</td>\n",
       "      <td>0.989449</td>\n",
       "      <td>0.877262</td>\n",
       "      <td>1.650070e-01</td>\n",
       "      <td>0.276009</td>\n",
       "      <td>0.866586</td>\n",
       "      <td>0.804555</td>\n",
       "      <td>0.597884</td>\n",
       "      <td>0.637731</td>\n",
       "      <td>0.621792</td>\n",
       "      <td>2</td>\n",
       "      <td>barlow-num-prot-16_hidden-64_bs-64</td>\n",
       "    </tr>\n",
       "    <tr>\n",
       "      <th>44</th>\n",
       "      <td>0.541630</td>\n",
       "      <td>0.633503</td>\n",
       "      <td>0.372522</td>\n",
       "      <td>0.546275</td>\n",
       "      <td>0.986116</td>\n",
       "      <td>0.886361</td>\n",
       "      <td>3.393956e-01</td>\n",
       "      <td>0.421886</td>\n",
       "      <td>0.902701</td>\n",
       "      <td>0.772365</td>\n",
       "      <td>0.664542</td>\n",
       "      <td>0.616009</td>\n",
       "      <td>0.635422</td>\n",
       "      <td>3</td>\n",
       "      <td>barlow-num-prot-16_hidden-64_bs-64</td>\n",
       "    </tr>\n",
       "    <tr>\n",
       "      <th>46</th>\n",
       "      <td>0.612209</td>\n",
       "      <td>0.629228</td>\n",
       "      <td>0.408120</td>\n",
       "      <td>0.536404</td>\n",
       "      <td>0.972292</td>\n",
       "      <td>0.871590</td>\n",
       "      <td>3.193999e-01</td>\n",
       "      <td>0.418631</td>\n",
       "      <td>0.887933</td>\n",
       "      <td>0.731353</td>\n",
       "      <td>0.645781</td>\n",
       "      <td>0.631650</td>\n",
       "      <td>0.637303</td>\n",
       "      <td>4</td>\n",
       "      <td>barlow-num-prot-16_hidden-64_bs-64</td>\n",
       "    </tr>\n",
       "    <tr>\n",
       "      <th>48</th>\n",
       "      <td>0.684197</td>\n",
       "      <td>0.665114</td>\n",
       "      <td>0.497291</td>\n",
       "      <td>0.616410</td>\n",
       "      <td>0.997090</td>\n",
       "      <td>0.838771</td>\n",
       "      <td>1.145372e-01</td>\n",
       "      <td>0.382825</td>\n",
       "      <td>0.936064</td>\n",
       "      <td>0.614246</td>\n",
       "      <td>0.577288</td>\n",
       "      <td>0.692020</td>\n",
       "      <td>0.646128</td>\n",
       "      <td>5</td>\n",
       "      <td>barlow-num-prot-16_hidden-64_bs-64</td>\n",
       "    </tr>\n",
       "    <tr>\n",
       "      <th>50</th>\n",
       "      <td>0.764381</td>\n",
       "      <td>0.648286</td>\n",
       "      <td>0.403823</td>\n",
       "      <td>0.578565</td>\n",
       "      <td>0.990920</td>\n",
       "      <td>0.880701</td>\n",
       "      <td>4.647280e-01</td>\n",
       "      <td>0.510825</td>\n",
       "      <td>0.911010</td>\n",
       "      <td>0.366171</td>\n",
       "      <td>0.626687</td>\n",
       "      <td>0.677195</td>\n",
       "      <td>0.656992</td>\n",
       "      <td>6</td>\n",
       "      <td>barlow-num-prot-16_hidden-64_bs-64</td>\n",
       "    </tr>\n",
       "    <tr>\n",
       "      <th>52</th>\n",
       "      <td>0.629064</td>\n",
       "      <td>0.691683</td>\n",
       "      <td>0.468492</td>\n",
       "      <td>0.582837</td>\n",
       "      <td>0.986014</td>\n",
       "      <td>0.700401</td>\n",
       "      <td>1.192093e-07</td>\n",
       "      <td>0.594986</td>\n",
       "      <td>0.905794</td>\n",
       "      <td>0.613377</td>\n",
       "      <td>0.562911</td>\n",
       "      <td>0.671618</td>\n",
       "      <td>0.628135</td>\n",
       "      <td>7</td>\n",
       "      <td>barlow-num-prot-16_hidden-64_bs-64</td>\n",
       "    </tr>\n",
       "    <tr>\n",
       "      <th>54</th>\n",
       "      <td>0.779632</td>\n",
       "      <td>0.654659</td>\n",
       "      <td>0.423018</td>\n",
       "      <td>0.609739</td>\n",
       "      <td>0.997525</td>\n",
       "      <td>0.851072</td>\n",
       "      <td>2.160389e-01</td>\n",
       "      <td>0.275738</td>\n",
       "      <td>0.914455</td>\n",
       "      <td>0.314727</td>\n",
       "      <td>0.514406</td>\n",
       "      <td>0.692914</td>\n",
       "      <td>0.621511</td>\n",
       "      <td>8</td>\n",
       "      <td>barlow-num-prot-16_hidden-64_bs-64</td>\n",
       "    </tr>\n",
       "    <tr>\n",
       "      <th>56</th>\n",
       "      <td>0.682499</td>\n",
       "      <td>0.702084</td>\n",
       "      <td>0.462086</td>\n",
       "      <td>0.633908</td>\n",
       "      <td>0.999182</td>\n",
       "      <td>0.709229</td>\n",
       "      <td>1.192093e-07</td>\n",
       "      <td>0.294682</td>\n",
       "      <td>0.914468</td>\n",
       "      <td>0.915919</td>\n",
       "      <td>0.566860</td>\n",
       "      <td>0.695952</td>\n",
       "      <td>0.644315</td>\n",
       "      <td>9</td>\n",
       "      <td>barlow-num-prot-16_hidden-64_bs-64</td>\n",
       "    </tr>\n",
       "    <tr>\n",
       "      <th>58</th>\n",
       "      <td>0.679238</td>\n",
       "      <td>0.672595</td>\n",
       "      <td>0.424296</td>\n",
       "      <td>0.585955</td>\n",
       "      <td>0.992431</td>\n",
       "      <td>0.857611</td>\n",
       "      <td>3.944502e-01</td>\n",
       "      <td>0.451990</td>\n",
       "      <td>0.891676</td>\n",
       "      <td>0.766695</td>\n",
       "      <td>0.672484</td>\n",
       "      <td>0.670903</td>\n",
       "      <td>0.671535</td>\n",
       "      <td>10</td>\n",
       "      <td>barlow-num-prot-16_hidden-64_bs-64</td>\n",
       "    </tr>\n",
       "  </tbody>\n",
       "</table>\n",
       "</div>"
      ],
      "text/plain": [
       "    Isolated labels  KMeans NMI  KMeans ARI  Silhouette label     cLISI  \\\n",
       "0          0.574879    0.567107    0.318055          0.553871  0.980997   \n",
       "2          0.576630    0.663592    0.422228          0.587675  0.994731   \n",
       "4          0.535672    0.684667    0.489640          0.562875  0.990961   \n",
       "6          0.612788    0.659736    0.505247          0.537095  0.980942   \n",
       "8          0.697203    0.697533    0.489407          0.629673  0.998996   \n",
       "10         0.770944    0.645046    0.396346          0.574807  0.992759   \n",
       "12         0.610893    0.693450    0.532274          0.562259  0.987673   \n",
       "14         0.759332    0.728149    0.520497          0.628723  0.998441   \n",
       "16         0.676925    0.740664    0.597282          0.628061  0.999733   \n",
       "18         0.648604    0.753461    0.583708          0.567009  0.996738   \n",
       "20         0.594828    0.623449    0.361918          0.582572  0.979949   \n",
       "22         0.545949    0.686069    0.559311          0.634874  0.994982   \n",
       "24         0.538990    0.677043    0.453398          0.595463  0.988818   \n",
       "26         0.823195    0.635823    0.378567          0.567490  0.976966   \n",
       "28         0.738159    0.736103    0.662894          0.666696  0.999200   \n",
       "30         0.787499    0.709006    0.556334          0.602967  0.990313   \n",
       "32         0.659350    0.718764    0.530780          0.623434  0.987355   \n",
       "34         0.760910    0.720591    0.536739          0.652420  0.996897   \n",
       "36         0.678956    0.769401    0.636656          0.696896  1.000000   \n",
       "38         0.673293    0.735495    0.576750          0.608412  0.994390   \n",
       "40         0.557090    0.588992    0.327319          0.548804  0.976448   \n",
       "42         0.553276    0.649540    0.426714          0.569673  0.989449   \n",
       "44         0.541630    0.633503    0.372522          0.546275  0.986116   \n",
       "46         0.612209    0.629228    0.408120          0.536404  0.972292   \n",
       "48         0.684197    0.665114    0.497291          0.616410  0.997090   \n",
       "50         0.764381    0.648286    0.403823          0.578565  0.990920   \n",
       "52         0.629064    0.691683    0.468492          0.582837  0.986014   \n",
       "54         0.779632    0.654659    0.423018          0.609739  0.997525   \n",
       "56         0.682499    0.702084    0.462086          0.633908  0.999182   \n",
       "58         0.679238    0.672595    0.424296          0.585955  0.992431   \n",
       "\n",
       "    Silhouette batch         iLISI      KBET  Graph connectivity  \\\n",
       "0           0.867174  2.647806e-01  0.334462            0.923864   \n",
       "2           0.881993  1.093161e-01  0.295316            0.906895   \n",
       "4           0.865762  2.907567e-01  0.387067            0.925920   \n",
       "6           0.868780  2.910341e-01  0.346154            0.873307   \n",
       "8           0.805828  1.246041e-01  0.366469            0.921159   \n",
       "10          0.879770  4.309090e-01  0.353923            0.925416   \n",
       "12          0.729241  1.192093e-07  0.629156            0.894742   \n",
       "14          0.878441  3.341470e-01  0.434773            0.920327   \n",
       "16          0.530231  0.000000e+00  0.250700            0.934639   \n",
       "18          0.872081  3.690579e-01  0.324170            0.896496   \n",
       "20          0.829050  4.828866e-01  0.563162            0.887427   \n",
       "22          0.842200  2.389483e-01  0.457135            0.873094   \n",
       "24          0.823920  3.730024e-01  0.511776            0.899723   \n",
       "26          0.815993  3.882609e-01  0.516520            0.882097   \n",
       "28          0.748715  1.904306e-01  0.464692            0.922124   \n",
       "30          0.779923  5.332489e-01  0.549942            0.911035   \n",
       "32          0.606274  1.192093e-07  0.565476            0.859602   \n",
       "34          0.814231  3.383625e-01  0.444521            0.904185   \n",
       "36          0.634405  1.192093e-07  0.324103            0.921014   \n",
       "38          0.815461  4.453012e-01  0.486522            0.890453   \n",
       "40          0.885542  3.827208e-01  0.411345            0.889595   \n",
       "42          0.877262  1.650070e-01  0.276009            0.866586   \n",
       "44          0.886361  3.393956e-01  0.421886            0.902701   \n",
       "46          0.871590  3.193999e-01  0.418631            0.887933   \n",
       "48          0.838771  1.145372e-01  0.382825            0.936064   \n",
       "50          0.880701  4.647280e-01  0.510825            0.911010   \n",
       "52          0.700401  1.192093e-07  0.594986            0.905794   \n",
       "54          0.851072  2.160389e-01  0.275738            0.914455   \n",
       "56          0.709229  1.192093e-07  0.294682            0.914468   \n",
       "58          0.857611  3.944502e-01  0.451990            0.891676   \n",
       "\n",
       "    PCR comparison  Batch correction  Bio conservation     Total  fold  \\\n",
       "0         0.567113          0.591479          0.598982  0.595981     1   \n",
       "2         0.580447          0.554793          0.648971  0.611300     2   \n",
       "4         0.582505          0.610402          0.652763  0.635819     3   \n",
       "6         0.766447          0.629144          0.659162  0.647155     4   \n",
       "8         0.781943          0.600001          0.702562  0.661538     5   \n",
       "10        0.303439          0.578691          0.675980  0.637065     6   \n",
       "12        0.724734          0.595575          0.677310  0.644616     7   \n",
       "14        0.781510          0.669839          0.727028  0.704153     8   \n",
       "16        0.747924          0.492699          0.728533  0.634199     9   \n",
       "18        0.842442          0.660849          0.709904  0.690282    10   \n",
       "20        0.823104          0.717126          0.628543  0.663976     1   \n",
       "22        0.871215          0.656518          0.684237  0.673150     2   \n",
       "24        0.763665          0.674417          0.650742  0.660212     3   \n",
       "26        0.833546          0.687283          0.676408  0.680758     4   \n",
       "28        0.679044          0.601001          0.760610  0.696767     5   \n",
       "30        0.588827          0.672595          0.729224  0.706572     6   \n",
       "32        0.448869          0.496044          0.703937  0.620780     7   \n",
       "34        0.543694          0.608999          0.733511  0.683706     8   \n",
       "36        0.898624          0.555629          0.756382  0.676081     9   \n",
       "38        0.744992          0.676546          0.717668  0.701219    10   \n",
       "40        0.634087          0.640658          0.599731  0.616102     1   \n",
       "42        0.804555          0.597884          0.637731  0.621792     2   \n",
       "44        0.772365          0.664542          0.616009  0.635422     3   \n",
       "46        0.731353          0.645781          0.631650  0.637303     4   \n",
       "48        0.614246          0.577288          0.692020  0.646128     5   \n",
       "50        0.366171          0.626687          0.677195  0.656992     6   \n",
       "52        0.613377          0.562911          0.671618  0.628135     7   \n",
       "54        0.314727          0.514406          0.692914  0.621511     8   \n",
       "56        0.915919          0.566860          0.695952  0.644315     9   \n",
       "58        0.766695          0.672484          0.670903  0.671535    10   \n",
       "\n",
       "                               trainer  \n",
       "0                     scvi-latent_dim8  \n",
       "2                     scvi-latent_dim8  \n",
       "4                     scvi-latent_dim8  \n",
       "6                     scvi-latent_dim8  \n",
       "8                     scvi-latent_dim8  \n",
       "10                    scvi-latent_dim8  \n",
       "12                    scvi-latent_dim8  \n",
       "14                    scvi-latent_dim8  \n",
       "16                    scvi-latent_dim8  \n",
       "18                    scvi-latent_dim8  \n",
       "20         scpoli-original-latent_dim8  \n",
       "22         scpoli-original-latent_dim8  \n",
       "24         scpoli-original-latent_dim8  \n",
       "26         scpoli-original-latent_dim8  \n",
       "28         scpoli-original-latent_dim8  \n",
       "30         scpoli-original-latent_dim8  \n",
       "32         scpoli-original-latent_dim8  \n",
       "34         scpoli-original-latent_dim8  \n",
       "36         scpoli-original-latent_dim8  \n",
       "38         scpoli-original-latent_dim8  \n",
       "40  barlow-num-prot-16_hidden-64_bs-64  \n",
       "42  barlow-num-prot-16_hidden-64_bs-64  \n",
       "44  barlow-num-prot-16_hidden-64_bs-64  \n",
       "46  barlow-num-prot-16_hidden-64_bs-64  \n",
       "48  barlow-num-prot-16_hidden-64_bs-64  \n",
       "50  barlow-num-prot-16_hidden-64_bs-64  \n",
       "52  barlow-num-prot-16_hidden-64_bs-64  \n",
       "54  barlow-num-prot-16_hidden-64_bs-64  \n",
       "56  barlow-num-prot-16_hidden-64_bs-64  \n",
       "58  barlow-num-prot-16_hidden-64_bs-64  "
      ]
     },
     "execution_count": 39,
     "metadata": {},
     "output_type": "execute_result"
    }
   ],
   "source": [
    "drop_redundant_rows(all_results_new).dropna()"
   ]
  },
  {
   "cell_type": "code",
   "execution_count": 32,
   "id": "bdae8158-1e95-4e49-870a-ec7e46029562",
   "metadata": {},
   "outputs": [
    {
     "data": {
      "text/html": [
       "<div>\n",
       "<style scoped>\n",
       "    .dataframe tbody tr th:only-of-type {\n",
       "        vertical-align: middle;\n",
       "    }\n",
       "\n",
       "    .dataframe tbody tr th {\n",
       "        vertical-align: top;\n",
       "    }\n",
       "\n",
       "    .dataframe thead th {\n",
       "        text-align: right;\n",
       "    }\n",
       "</style>\n",
       "<table border=\"1\" class=\"dataframe\">\n",
       "  <thead>\n",
       "    <tr style=\"text-align: right;\">\n",
       "      <th></th>\n",
       "      <th>Isolated labels</th>\n",
       "      <th>KMeans NMI</th>\n",
       "      <th>KMeans ARI</th>\n",
       "      <th>Silhouette label</th>\n",
       "      <th>cLISI</th>\n",
       "      <th>Silhouette batch</th>\n",
       "      <th>iLISI</th>\n",
       "      <th>KBET</th>\n",
       "      <th>Graph connectivity</th>\n",
       "      <th>PCR comparison</th>\n",
       "      <th>Batch correction</th>\n",
       "      <th>Bio conservation</th>\n",
       "      <th>Total</th>\n",
       "    </tr>\n",
       "    <tr>\n",
       "      <th>trainer</th>\n",
       "      <th></th>\n",
       "      <th></th>\n",
       "      <th></th>\n",
       "      <th></th>\n",
       "      <th></th>\n",
       "      <th></th>\n",
       "      <th></th>\n",
       "      <th></th>\n",
       "      <th></th>\n",
       "      <th></th>\n",
       "      <th></th>\n",
       "      <th></th>\n",
       "      <th></th>\n",
       "    </tr>\n",
       "  </thead>\n",
       "  <tbody>\n",
       "    <tr>\n",
       "      <th>barlow-num-prot-16_hidden-64_bs-64</th>\n",
       "      <td>0.648321</td>\n",
       "      <td>0.653568</td>\n",
       "      <td>0.421368</td>\n",
       "      <td>0.580857</td>\n",
       "      <td>0.988747</td>\n",
       "      <td>0.835854</td>\n",
       "      <td>0.239628</td>\n",
       "      <td>0.403892</td>\n",
       "      <td>0.902028</td>\n",
       "      <td>0.653350</td>\n",
       "      <td>0.606950</td>\n",
       "      <td>0.658572</td>\n",
       "      <td>0.637923</td>\n",
       "    </tr>\n",
       "    <tr>\n",
       "      <th>scpoli-original-latent_dim8</th>\n",
       "      <td>0.680113</td>\n",
       "      <td>0.701175</td>\n",
       "      <td>0.525335</td>\n",
       "      <td>0.623122</td>\n",
       "      <td>0.990887</td>\n",
       "      <td>0.771017</td>\n",
       "      <td>0.299044</td>\n",
       "      <td>0.488385</td>\n",
       "      <td>0.895075</td>\n",
       "      <td>0.719558</td>\n",
       "      <td>0.634616</td>\n",
       "      <td>0.704126</td>\n",
       "      <td>0.676322</td>\n",
       "    </tr>\n",
       "    <tr>\n",
       "      <th>scvi-latent_dim8</th>\n",
       "      <td>0.646387</td>\n",
       "      <td>0.683340</td>\n",
       "      <td>0.485468</td>\n",
       "      <td>0.583205</td>\n",
       "      <td>0.992197</td>\n",
       "      <td>0.817930</td>\n",
       "      <td>0.221461</td>\n",
       "      <td>0.372219</td>\n",
       "      <td>0.912276</td>\n",
       "      <td>0.667850</td>\n",
       "      <td>0.598347</td>\n",
       "      <td>0.678120</td>\n",
       "      <td>0.646211</td>\n",
       "    </tr>\n",
       "  </tbody>\n",
       "</table>\n",
       "</div>"
      ],
      "text/plain": [
       "                                    Isolated labels  KMeans NMI  KMeans ARI  \\\n",
       "trainer                                                                       \n",
       "barlow-num-prot-16_hidden-64_bs-64         0.648321    0.653568    0.421368   \n",
       "scpoli-original-latent_dim8                0.680113    0.701175    0.525335   \n",
       "scvi-latent_dim8                           0.646387    0.683340    0.485468   \n",
       "\n",
       "                                    Silhouette label     cLISI  \\\n",
       "trainer                                                          \n",
       "barlow-num-prot-16_hidden-64_bs-64          0.580857  0.988747   \n",
       "scpoli-original-latent_dim8                 0.623122  0.990887   \n",
       "scvi-latent_dim8                            0.583205  0.992197   \n",
       "\n",
       "                                    Silhouette batch     iLISI      KBET  \\\n",
       "trainer                                                                    \n",
       "barlow-num-prot-16_hidden-64_bs-64          0.835854  0.239628  0.403892   \n",
       "scpoli-original-latent_dim8                 0.771017  0.299044  0.488385   \n",
       "scvi-latent_dim8                            0.817930  0.221461  0.372219   \n",
       "\n",
       "                                    Graph connectivity  PCR comparison  \\\n",
       "trainer                                                                  \n",
       "barlow-num-prot-16_hidden-64_bs-64            0.902028        0.653350   \n",
       "scpoli-original-latent_dim8                   0.895075        0.719558   \n",
       "scvi-latent_dim8                              0.912276        0.667850   \n",
       "\n",
       "                                    Batch correction  Bio conservation  \\\n",
       "trainer                                                                  \n",
       "barlow-num-prot-16_hidden-64_bs-64          0.606950          0.658572   \n",
       "scpoli-original-latent_dim8                 0.634616          0.704126   \n",
       "scvi-latent_dim8                            0.598347          0.678120   \n",
       "\n",
       "                                       Total  \n",
       "trainer                                       \n",
       "barlow-num-prot-16_hidden-64_bs-64  0.637923  \n",
       "scpoli-original-latent_dim8         0.676322  \n",
       "scvi-latent_dim8                    0.646211  "
      ]
     },
     "execution_count": 32,
     "metadata": {},
     "output_type": "execute_result"
    }
   ],
   "source": [
    "process_dataframe(deepcopy(all_results_new))"
   ]
  },
  {
   "cell_type": "code",
   "execution_count": 33,
   "id": "dcdc9b4b-8f64-4232-9061-ac1d2309b0e4",
   "metadata": {},
   "outputs": [],
   "source": [
    "barlow_32 = ScpoliProtBarlowTrainer(ds)\n",
    "barlow_32.num_prototypes = 32"
   ]
  },
  {
   "cell_type": "code",
   "execution_count": 44,
   "id": "927798c7-4159-4632-9884-f7edc18304e4",
   "metadata": {
    "scrolled": true
   },
   "outputs": [
    {
     "name": "stdout",
     "output_type": "stream",
     "text": [
      "running custom cross validation evaluation\n",
      "Evaluating fold 1\n",
      "Embedding dictionary:\n",
      " \tNum conditions: [3]\n",
      " \tEmbedding dim: [10]\n",
      "Encoder Architecture:\n",
      "\tInput Layer in, out and cond: 4000 64 10\n",
      "\tMean/Var Layer in/out: 64 8\n",
      "Decoder Architecture:\n",
      "\tFirst Layer in, out and cond:  8 64 10\n",
      "\tOutput Layer in/out:  64 4000 \n",
      "\n"
     ]
    },
    {
     "name": "stderr",
     "output_type": "stream",
     "text": [
      "INFO:scarches.trainers.scpoli.trainer:GPU available: True, GPU used: True\n"
     ]
    },
    {
     "name": "stdout",
     "output_type": "stream",
     "text": [
      "Embedding dictionary:\n",
      " \tNum conditions: [5]\n",
      " \tEmbedding dim: [10]\n",
      "Encoder Architecture:\n",
      "\tInput Layer in, out and cond: 4000 64 10\n",
      "\tMean/Var Layer in/out: 64 8\n",
      "Decoder Architecture:\n",
      "\tFirst Layer in, out and cond:  8 64 10\n",
      "\tOutput Layer in/out:  64 4000 \n",
      "\n",
      "Warning: Labels in adata.obs[cell_type] is not a subset of label-encoder!\n",
      "The missing labels are: {'Erythrocytes', 'Monocyte progenitors', 'CD10+ B cells', 'Erythroid progenitors'}\n",
      "Therefore integer value of those labels is set to -1\n",
      "Warning: Labels in adata.obs[cell_type] is not a subset of label-encoder!\n",
      "The missing labels are: {'Erythrocytes', 'Monocyte progenitors', 'CD10+ B cells', 'Erythroid progenitors'}\n",
      "Therefore integer value of those labels is set to -1\n",
      "Initializing dataloaders\n",
      "Starting training\n",
      " |████████████████----| 80.0%  - val_loss:  442.94 - val_cvae_loss:  442.94\n",
      "Initializing unlabeled prototypes with Leiden with an unknown number of  clusters.\n",
      "Clustering succesful. Found 24 clusters.\n",
      " |████████████████████| 100.0%  - val_loss:  442.58 - val_cvae_loss:  442.58 - val_prototype_loss:    0.00 - val_unlabeled_loss:    0.36\n"
     ]
    },
    {
     "name": "stderr",
     "output_type": "stream",
     "text": [
      "Computing neighbors: 100%|██████████| 1/1 [00:04<00:00,  4.99s/it]\n",
      "Embeddings:   0%|\u001b[32m          \u001b[0m| 0/1 [00:00<?, ?it/s]\n",
      "Metrics:   0%|\u001b[34m          \u001b[0m| 0/10 [00:00<?, ?it/s]\u001b[A\n",
      "Metrics:   0%|\u001b[34m          \u001b[0m| 0/10 [00:00<?, ?it/s, Bio conservation: isolated_labels]\u001b[A\n",
      "Metrics:  10%|\u001b[34m█         \u001b[0m| 1/10 [00:02<00:19,  2.12s/it, Bio conservation: isolated_labels]\u001b[A\n",
      "Metrics:  10%|\u001b[34m█         \u001b[0m| 1/10 [00:02<00:19,  2.12s/it, Bio conservation: nmi_ari_cluster_labels_kmeans]\u001b[A\n",
      "Metrics:  20%|\u001b[34m██        \u001b[0m| 2/10 [00:19<01:26, 10.85s/it, Bio conservation: nmi_ari_cluster_labels_kmeans]\u001b[A\n",
      "Metrics:  20%|\u001b[34m██        \u001b[0m| 2/10 [00:19<01:26, 10.85s/it, Bio conservation: silhouette_label]             \u001b[A\n",
      "Metrics:  30%|\u001b[34m███       \u001b[0m| 3/10 [00:19<00:43,  6.19s/it, Bio conservation: silhouette_label]\u001b[A\n",
      "Metrics:  30%|\u001b[34m███       \u001b[0m| 3/10 [00:19<00:43,  6.19s/it, Bio conservation: clisi_knn]       \u001b[A\n",
      "Metrics:  40%|\u001b[34m████      \u001b[0m| 4/10 [00:19<00:22,  3.80s/it, Bio conservation: clisi_knn]\u001b[A\n",
      "Metrics:  40%|\u001b[34m████      \u001b[0m| 4/10 [00:19<00:22,  3.80s/it, Batch correction: silhouette_batch]\u001b[A\n",
      "Metrics:  50%|\u001b[34m█████     \u001b[0m| 5/10 [00:19<00:12,  2.47s/it, Batch correction: silhouette_batch]\u001b[A\n",
      "Metrics:  50%|\u001b[34m█████     \u001b[0m| 5/10 [00:19<00:12,  2.47s/it, Batch correction: ilisi_knn]       \u001b[A\n",
      "Metrics:  60%|\u001b[34m██████    \u001b[0m| 6/10 [00:20<00:09,  2.47s/it, Batch correction: kbet_per_label]\u001b[A\n",
      "Metrics:  70%|\u001b[34m███████   \u001b[0m| 7/10 [00:33<00:13,  4.54s/it, Batch correction: kbet_per_label]\u001b[A\n",
      "Metrics:  70%|\u001b[34m███████   \u001b[0m| 7/10 [00:33<00:13,  4.54s/it, Batch correction: graph_connectivity]\u001b[A\n",
      "Metrics:  80%|\u001b[34m████████  \u001b[0m| 8/10 [00:33<00:09,  4.54s/it, Batch correction: pcr_comparison]    \u001b[A\n",
      "Embeddings: 100%|\u001b[32m██████████\u001b[0m| 1/1 [00:34<00:00, 34.05s/it]atch correction: pcr_comparison]\u001b[A\n",
      "\n",
      "                                                                                         \u001b[A/ictstr01/home/icb/fatemehs.hashemig/codes/interpretable-ssl/interpretable_ssl/trainers/trainer.py:314: FutureWarning: The frame.append method is deprecated and will be removed from pandas in a future version. Use pandas.concat instead.\n",
      "  overall_df = overall_df.append(fold_df, ignore_index=True)\n"
     ]
    },
    {
     "name": "stdout",
     "output_type": "stream",
     "text": [
      "Evaluating fold 2\n",
      "Embedding dictionary:\n",
      " \tNum conditions: [3]\n",
      " \tEmbedding dim: [10]\n",
      "Encoder Architecture:\n",
      "\tInput Layer in, out and cond: 4000 64 10\n",
      "\tMean/Var Layer in/out: 64 8\n",
      "Decoder Architecture:\n",
      "\tFirst Layer in, out and cond:  8 64 10\n",
      "\tOutput Layer in/out:  64 4000 \n",
      "\n"
     ]
    },
    {
     "name": "stderr",
     "output_type": "stream",
     "text": [
      "INFO:scarches.trainers.scpoli.trainer:GPU available: True, GPU used: True\n"
     ]
    },
    {
     "name": "stdout",
     "output_type": "stream",
     "text": [
      "Embedding dictionary:\n",
      " \tNum conditions: [5]\n",
      " \tEmbedding dim: [10]\n",
      "Encoder Architecture:\n",
      "\tInput Layer in, out and cond: 4000 64 10\n",
      "\tMean/Var Layer in/out: 64 8\n",
      "Decoder Architecture:\n",
      "\tFirst Layer in, out and cond:  8 64 10\n",
      "\tOutput Layer in/out:  64 4000 \n",
      "\n",
      "Warning: Labels in adata.obs[cell_type] is not a subset of label-encoder!\n",
      "The missing labels are: {'CD10+ B cells', 'Monocyte progenitors', 'Plasma cells', 'Erythroid progenitors', 'HSPCs', 'Erythrocytes'}\n",
      "Therefore integer value of those labels is set to -1\n",
      "Warning: Labels in adata.obs[cell_type] is not a subset of label-encoder!\n",
      "The missing labels are: {'Plasma cells', 'HSPCs'}\n",
      "Therefore integer value of those labels is set to -1\n",
      "Warning: Labels in adata.obs[cell_type] is not a subset of label-encoder!\n",
      "The missing labels are: {'CD10+ B cells', 'Monocyte progenitors', 'Plasma cells', 'Erythroid progenitors', 'HSPCs', 'Erythrocytes'}\n",
      "Therefore integer value of those labels is set to -1\n",
      "Warning: Labels in adata.obs[cell_type] is not a subset of label-encoder!\n",
      "The missing labels are: {'Plasma cells', 'HSPCs'}\n",
      "Therefore integer value of those labels is set to -1\n",
      "Initializing dataloaders\n",
      "Starting training\n",
      " |████████████████----| 80.0%  - val_loss:  885.26 - val_cvae_loss:  885.26\n",
      "Initializing unlabeled prototypes with Leiden with an unknown number of  clusters.\n",
      "Clustering succesful. Found 27 clusters.\n",
      " |████████████████████| 100.0%  - val_loss:  887.25 - val_cvae_loss:  887.25 - val_prototype_loss:    0.00 - val_unlabeled_loss:    0.35\n"
     ]
    },
    {
     "name": "stderr",
     "output_type": "stream",
     "text": [
      "Computing neighbors: 100%|██████████| 1/1 [00:08<00:00,  8.46s/it]\n",
      "Embeddings:   0%|\u001b[32m          \u001b[0m| 0/1 [00:00<?, ?it/s]\n",
      "Metrics:   0%|\u001b[34m          \u001b[0m| 0/10 [00:00<?, ?it/s]\u001b[A\n",
      "Metrics:   0%|\u001b[34m          \u001b[0m| 0/10 [00:00<?, ?it/s, Bio conservation: isolated_labels]\u001b[A\n",
      "Metrics:  10%|\u001b[34m█         \u001b[0m| 1/10 [00:00<00:08,  1.03it/s, Bio conservation: isolated_labels]\u001b[A\n",
      "Metrics:  10%|\u001b[34m█         \u001b[0m| 1/10 [00:00<00:08,  1.03it/s, Bio conservation: nmi_ari_cluster_labels_kmeans]\u001b[A\n",
      "Metrics:  20%|\u001b[34m██        \u001b[0m| 2/10 [00:04<00:19,  2.48s/it, Bio conservation: nmi_ari_cluster_labels_kmeans]\u001b[A\n",
      "Metrics:  20%|\u001b[34m██        \u001b[0m| 2/10 [00:04<00:19,  2.48s/it, Bio conservation: silhouette_label]             \u001b[A\n",
      "Metrics:  30%|\u001b[34m███       \u001b[0m| 3/10 [00:05<00:11,  1.71s/it, Bio conservation: silhouette_label]\u001b[A\n",
      "Metrics:  30%|\u001b[34m███       \u001b[0m| 3/10 [00:05<00:11,  1.71s/it, Bio conservation: clisi_knn]       \u001b[A\n",
      "Metrics:  40%|\u001b[34m████      \u001b[0m| 4/10 [00:05<00:06,  1.08s/it, Bio conservation: clisi_knn]\u001b[A\n",
      "Metrics:  40%|\u001b[34m████      \u001b[0m| 4/10 [00:05<00:06,  1.08s/it, Batch correction: silhouette_batch]\u001b[A\n",
      "Metrics:  50%|\u001b[34m█████     \u001b[0m| 5/10 [00:05<00:04,  1.19it/s, Batch correction: silhouette_batch]\u001b[A\n",
      "Metrics:  50%|\u001b[34m█████     \u001b[0m| 5/10 [00:05<00:04,  1.19it/s, Batch correction: ilisi_knn]       \u001b[A\n",
      "Metrics:  60%|\u001b[34m██████    \u001b[0m| 6/10 [00:05<00:02,  1.68it/s, Batch correction: ilisi_knn]\u001b[A\n",
      "Metrics:  60%|\u001b[34m██████    \u001b[0m| 6/10 [00:05<00:02,  1.68it/s, Batch correction: kbet_per_label]\u001b[A\n",
      "Metrics:  70%|\u001b[34m███████   \u001b[0m| 7/10 [00:21<00:16,  5.56s/it, Batch correction: kbet_per_label]\u001b[A\n",
      "Metrics:  70%|\u001b[34m███████   \u001b[0m| 7/10 [00:21<00:16,  5.56s/it, Batch correction: graph_connectivity]\u001b[A\n",
      "Metrics:  80%|\u001b[34m████████  \u001b[0m| 8/10 [00:21<00:11,  5.56s/it, Batch correction: pcr_comparison]    \u001b[A\n",
      "Embeddings: 100%|\u001b[32m██████████\u001b[0m| 1/1 [00:21<00:00, 21.88s/it]atch correction: pcr_comparison]\u001b[A\n",
      "\n",
      "                                                                                         \u001b[A/ictstr01/home/icb/fatemehs.hashemig/codes/interpretable-ssl/interpretable_ssl/trainers/trainer.py:314: FutureWarning: The frame.append method is deprecated and will be removed from pandas in a future version. Use pandas.concat instead.\n",
      "  overall_df = overall_df.append(fold_df, ignore_index=True)\n"
     ]
    },
    {
     "name": "stdout",
     "output_type": "stream",
     "text": [
      "Evaluating fold 3\n",
      "Embedding dictionary:\n",
      " \tNum conditions: [3]\n",
      " \tEmbedding dim: [10]\n",
      "Encoder Architecture:\n",
      "\tInput Layer in, out and cond: 4000 64 10\n",
      "\tMean/Var Layer in/out: 64 8\n",
      "Decoder Architecture:\n",
      "\tFirst Layer in, out and cond:  8 64 10\n",
      "\tOutput Layer in/out:  64 4000 \n",
      "\n"
     ]
    },
    {
     "name": "stderr",
     "output_type": "stream",
     "text": [
      "INFO:scarches.trainers.scpoli.trainer:GPU available: True, GPU used: True\n"
     ]
    },
    {
     "name": "stdout",
     "output_type": "stream",
     "text": [
      "Embedding dictionary:\n",
      " \tNum conditions: [5]\n",
      " \tEmbedding dim: [10]\n",
      "Encoder Architecture:\n",
      "\tInput Layer in, out and cond: 4000 64 10\n",
      "\tMean/Var Layer in/out: 64 8\n",
      "Decoder Architecture:\n",
      "\tFirst Layer in, out and cond:  8 64 10\n",
      "\tOutput Layer in/out:  64 4000 \n",
      "\n",
      "Warning: Labels in adata.obs[cell_type] is not a subset of label-encoder!\n",
      "The missing labels are: {'Erythrocytes', 'Monocyte progenitors', 'CD10+ B cells', 'Erythroid progenitors'}\n",
      "Therefore integer value of those labels is set to -1\n",
      "Warning: Labels in adata.obs[cell_type] is not a subset of label-encoder!\n",
      "The missing labels are: {'Erythrocytes', 'Monocyte progenitors', 'CD10+ B cells', 'Erythroid progenitors'}\n",
      "Therefore integer value of those labels is set to -1\n",
      "Initializing dataloaders\n",
      "Starting training\n",
      " |████████████████----| 80.0%  - val_loss:  443.71 - val_cvae_loss:  443.71\n",
      "Initializing unlabeled prototypes with Leiden with an unknown number of  clusters.\n",
      "Clustering succesful. Found 30 clusters.\n",
      " |████████████████████| 100.0%  - val_loss:  445.30 - val_cvae_loss:  445.30 - val_prototype_loss:    0.00 - val_unlabeled_loss:    0.37\n"
     ]
    },
    {
     "name": "stderr",
     "output_type": "stream",
     "text": [
      "Computing neighbors: 100%|██████████| 1/1 [00:08<00:00,  8.54s/it]\n",
      "Embeddings:   0%|\u001b[32m          \u001b[0m| 0/1 [00:00<?, ?it/s]\n",
      "Metrics:   0%|\u001b[34m          \u001b[0m| 0/10 [00:00<?, ?it/s]\u001b[A\n",
      "Metrics:   0%|\u001b[34m          \u001b[0m| 0/10 [00:00<?, ?it/s, Bio conservation: isolated_labels]\u001b[A\n",
      "Metrics:  10%|\u001b[34m█         \u001b[0m| 1/10 [00:00<00:08,  1.10it/s, Bio conservation: isolated_labels]\u001b[A\n",
      "Metrics:  10%|\u001b[34m█         \u001b[0m| 1/10 [00:00<00:08,  1.10it/s, Bio conservation: nmi_ari_cluster_labels_kmeans]\u001b[A\n",
      "Metrics:  20%|\u001b[34m██        \u001b[0m| 2/10 [00:03<00:17,  2.16s/it, Bio conservation: nmi_ari_cluster_labels_kmeans]\u001b[A\n",
      "Metrics:  20%|\u001b[34m██        \u001b[0m| 2/10 [00:03<00:17,  2.16s/it, Bio conservation: silhouette_label]             \u001b[A\n",
      "Metrics:  30%|\u001b[34m███       \u001b[0m| 3/10 [00:04<00:10,  1.46s/it, Bio conservation: silhouette_label]\u001b[A\n",
      "Metrics:  30%|\u001b[34m███       \u001b[0m| 3/10 [00:04<00:10,  1.46s/it, Bio conservation: clisi_knn]       \u001b[A\n",
      "Metrics:  40%|\u001b[34m████      \u001b[0m| 4/10 [00:04<00:08,  1.46s/it, Batch correction: silhouette_batch]\u001b[A\n",
      "Metrics:  50%|\u001b[34m█████     \u001b[0m| 5/10 [00:04<00:03,  1.42it/s, Batch correction: silhouette_batch]\u001b[A\n",
      "Metrics:  50%|\u001b[34m█████     \u001b[0m| 5/10 [00:04<00:03,  1.42it/s, Batch correction: ilisi_knn]       \u001b[A\n",
      "Metrics:  60%|\u001b[34m██████    \u001b[0m| 6/10 [00:04<00:02,  1.42it/s, Batch correction: kbet_per_label]\u001b[A\n",
      "Metrics:  70%|\u001b[34m███████   \u001b[0m| 7/10 [00:16<00:09,  3.05s/it, Batch correction: kbet_per_label]\u001b[A\n",
      "Metrics:  70%|\u001b[34m███████   \u001b[0m| 7/10 [00:16<00:09,  3.05s/it, Batch correction: graph_connectivity]\u001b[A\n",
      "Metrics:  80%|\u001b[34m████████  \u001b[0m| 8/10 [00:16<00:06,  3.05s/it, Batch correction: pcr_comparison]    \u001b[A\n",
      "Embeddings: 100%|\u001b[32m██████████\u001b[0m| 1/1 [00:16<00:00, 16.86s/it]atch correction: pcr_comparison]\u001b[A\n",
      "\n",
      "                                                                                         \u001b[A/ictstr01/home/icb/fatemehs.hashemig/codes/interpretable-ssl/interpretable_ssl/trainers/trainer.py:314: FutureWarning: The frame.append method is deprecated and will be removed from pandas in a future version. Use pandas.concat instead.\n",
      "  overall_df = overall_df.append(fold_df, ignore_index=True)\n"
     ]
    },
    {
     "name": "stdout",
     "output_type": "stream",
     "text": [
      "Evaluating fold 4\n",
      "Embedding dictionary:\n",
      " \tNum conditions: [3]\n",
      " \tEmbedding dim: [10]\n",
      "Encoder Architecture:\n",
      "\tInput Layer in, out and cond: 4000 64 10\n",
      "\tMean/Var Layer in/out: 64 8\n",
      "Decoder Architecture:\n",
      "\tFirst Layer in, out and cond:  8 64 10\n",
      "\tOutput Layer in/out:  64 4000 \n",
      "\n"
     ]
    },
    {
     "name": "stderr",
     "output_type": "stream",
     "text": [
      "INFO:scarches.trainers.scpoli.trainer:GPU available: True, GPU used: True\n"
     ]
    },
    {
     "name": "stdout",
     "output_type": "stream",
     "text": [
      "Embedding dictionary:\n",
      " \tNum conditions: [5]\n",
      " \tEmbedding dim: [10]\n",
      "Encoder Architecture:\n",
      "\tInput Layer in, out and cond: 4000 64 10\n",
      "\tMean/Var Layer in/out: 64 8\n",
      "Decoder Architecture:\n",
      "\tFirst Layer in, out and cond:  8 64 10\n",
      "\tOutput Layer in/out:  64 4000 \n",
      "\n",
      "Warning: Labels in adata.obs[cell_type] is not a subset of label-encoder!\n",
      "The missing labels are: {'Erythrocytes', 'Monocyte progenitors', 'CD10+ B cells', 'Erythroid progenitors'}\n",
      "Therefore integer value of those labels is set to -1\n",
      "Warning: Labels in adata.obs[cell_type] is not a subset of label-encoder!\n",
      "The missing labels are: {'Monocyte progenitors', 'Erythrocytes'}\n",
      "Therefore integer value of those labels is set to -1\n",
      "Warning: Labels in adata.obs[cell_type] is not a subset of label-encoder!\n",
      "The missing labels are: {'Erythrocytes', 'Monocyte progenitors', 'CD10+ B cells', 'Erythroid progenitors'}\n",
      "Therefore integer value of those labels is set to -1\n",
      "Warning: Labels in adata.obs[cell_type] is not a subset of label-encoder!\n",
      "The missing labels are: {'Monocyte progenitors', 'Erythrocytes'}\n",
      "Therefore integer value of those labels is set to -1\n",
      "Initializing dataloaders\n",
      "Starting training\n",
      " |████████████████----| 80.0%  - val_loss: 4820.93 - val_cvae_loss: 4820.93\n",
      "Initializing unlabeled prototypes with Leiden with an unknown number of  clusters.\n",
      "Clustering succesful. Found 26 clusters.\n",
      " |████████████████████| 100.0%  - val_loss: 4857.32 - val_cvae_loss: 4857.32 - val_prototype_loss:    0.00 - val_unlabeled_loss:    0.59\n"
     ]
    },
    {
     "name": "stderr",
     "output_type": "stream",
     "text": [
      "Computing neighbors: 100%|██████████| 1/1 [00:04<00:00,  4.16s/it]\n",
      "Embeddings:   0%|\u001b[32m          \u001b[0m| 0/1 [00:00<?, ?it/s]\n",
      "Metrics:   0%|\u001b[34m          \u001b[0m| 0/10 [00:00<?, ?it/s]\u001b[A\n",
      "Metrics:   0%|\u001b[34m          \u001b[0m| 0/10 [00:00<?, ?it/s, Bio conservation: isolated_labels]\u001b[A\n",
      "Metrics:  10%|\u001b[34m█         \u001b[0m| 1/10 [00:00<00:02,  3.14it/s, Bio conservation: isolated_labels]\u001b[A\n",
      "Metrics:  10%|\u001b[34m█         \u001b[0m| 1/10 [00:00<00:02,  3.14it/s, Bio conservation: nmi_ari_cluster_labels_kmeans]\u001b[A\n",
      "Metrics:  20%|\u001b[34m██        \u001b[0m| 2/10 [00:02<00:12,  1.62s/it, Bio conservation: nmi_ari_cluster_labels_kmeans]\u001b[A\n",
      "Metrics:  20%|\u001b[34m██        \u001b[0m| 2/10 [00:02<00:12,  1.62s/it, Bio conservation: silhouette_label]             \u001b[A\n",
      "Metrics:  30%|\u001b[34m███       \u001b[0m| 3/10 [00:03<00:07,  1.01s/it, Bio conservation: silhouette_label]\u001b[A\n",
      "Metrics:  30%|\u001b[34m███       \u001b[0m| 3/10 [00:03<00:07,  1.01s/it, Bio conservation: clisi_knn]       \u001b[A\n",
      "Metrics:  40%|\u001b[34m████      \u001b[0m| 4/10 [00:03<00:06,  1.01s/it, Batch correction: silhouette_batch]\u001b[A\n",
      "Metrics:  50%|\u001b[34m█████     \u001b[0m| 5/10 [00:03<00:02,  2.05it/s, Batch correction: silhouette_batch]\u001b[A\n",
      "Metrics:  50%|\u001b[34m█████     \u001b[0m| 5/10 [00:03<00:02,  2.05it/s, Batch correction: ilisi_knn]       \u001b[A\n",
      "Metrics:  60%|\u001b[34m██████    \u001b[0m| 6/10 [00:03<00:01,  2.05it/s, Batch correction: kbet_per_label]\u001b[A\n",
      "Metrics:  70%|\u001b[34m███████   \u001b[0m| 7/10 [00:11<00:06,  2.15s/it, Batch correction: kbet_per_label]\u001b[A\n",
      "Metrics:  70%|\u001b[34m███████   \u001b[0m| 7/10 [00:11<00:06,  2.15s/it, Batch correction: graph_connectivity]\u001b[A\n",
      "Embeddings: 100%|\u001b[32m██████████\u001b[0m| 1/1 [00:11<00:00, 11.80s/it]atch correction: pcr_comparison]    \u001b[A\n",
      "\n",
      "                                                                                         \u001b[A/ictstr01/home/icb/fatemehs.hashemig/codes/interpretable-ssl/interpretable_ssl/trainers/trainer.py:314: FutureWarning: The frame.append method is deprecated and will be removed from pandas in a future version. Use pandas.concat instead.\n",
      "  overall_df = overall_df.append(fold_df, ignore_index=True)\n"
     ]
    },
    {
     "name": "stdout",
     "output_type": "stream",
     "text": [
      "Evaluating fold 5\n",
      "Embedding dictionary:\n",
      " \tNum conditions: [3]\n",
      " \tEmbedding dim: [10]\n",
      "Encoder Architecture:\n",
      "\tInput Layer in, out and cond: 4000 64 10\n",
      "\tMean/Var Layer in/out: 64 8\n",
      "Decoder Architecture:\n",
      "\tFirst Layer in, out and cond:  8 64 10\n",
      "\tOutput Layer in/out:  64 4000 \n",
      "\n"
     ]
    },
    {
     "name": "stderr",
     "output_type": "stream",
     "text": [
      "INFO:scarches.trainers.scpoli.trainer:GPU available: True, GPU used: True\n"
     ]
    },
    {
     "name": "stdout",
     "output_type": "stream",
     "text": [
      "Embedding dictionary:\n",
      " \tNum conditions: [5]\n",
      " \tEmbedding dim: [10]\n",
      "Encoder Architecture:\n",
      "\tInput Layer in, out and cond: 4000 64 10\n",
      "\tMean/Var Layer in/out: 64 8\n",
      "Decoder Architecture:\n",
      "\tFirst Layer in, out and cond:  8 64 10\n",
      "\tOutput Layer in/out:  64 4000 \n",
      "\n",
      "Initializing dataloaders\n",
      "Starting training\n",
      " |████████████████----| 80.0%  - val_loss:  879.51 - val_cvae_loss:  879.51\n",
      "Initializing unlabeled prototypes with Leiden with an unknown number of  clusters.\n",
      "Clustering succesful. Found 29 clusters.\n",
      " |████████████████████| 100.0%  - val_loss:  880.90 - val_cvae_loss:  880.90 - val_prototype_loss:    0.00 - val_unlabeled_loss:    0.29\n"
     ]
    },
    {
     "name": "stderr",
     "output_type": "stream",
     "text": [
      "Computing neighbors: 100%|██████████| 1/1 [00:05<00:00,  5.31s/it]\n",
      "Embeddings:   0%|\u001b[32m          \u001b[0m| 0/1 [00:00<?, ?it/s]\n",
      "Metrics:   0%|\u001b[34m          \u001b[0m| 0/10 [00:00<?, ?it/s]\u001b[A\n",
      "Metrics:   0%|\u001b[34m          \u001b[0m| 0/10 [00:00<?, ?it/s, Bio conservation: isolated_labels]\u001b[A\n",
      "Metrics:  10%|\u001b[34m█         \u001b[0m| 1/10 [00:00<00:04,  2.01it/s, Bio conservation: isolated_labels]\u001b[A\n",
      "Metrics:  10%|\u001b[34m█         \u001b[0m| 1/10 [00:00<00:04,  2.01it/s, Bio conservation: nmi_ari_cluster_labels_kmeans]\u001b[A\n",
      "Metrics:  20%|\u001b[34m██        \u001b[0m| 2/10 [00:03<00:15,  1.93s/it, Bio conservation: nmi_ari_cluster_labels_kmeans]\u001b[A\n",
      "Metrics:  20%|\u001b[34m██        \u001b[0m| 2/10 [00:03<00:15,  1.93s/it, Bio conservation: silhouette_label]             \u001b[A\n",
      "Metrics:  30%|\u001b[34m███       \u001b[0m| 3/10 [00:03<00:08,  1.27s/it, Bio conservation: silhouette_label]\u001b[A\n",
      "Metrics:  30%|\u001b[34m███       \u001b[0m| 3/10 [00:03<00:08,  1.27s/it, Bio conservation: clisi_knn]       \u001b[A\n",
      "Metrics:  40%|\u001b[34m████      \u001b[0m| 4/10 [00:04<00:07,  1.27s/it, Batch correction: silhouette_batch]\u001b[A\n",
      "Metrics:  50%|\u001b[34m█████     \u001b[0m| 5/10 [00:04<00:03,  1.61it/s, Batch correction: silhouette_batch]\u001b[A\n",
      "Metrics:  50%|\u001b[34m█████     \u001b[0m| 5/10 [00:04<00:03,  1.61it/s, Batch correction: ilisi_knn]       \u001b[A\n",
      "Metrics:  60%|\u001b[34m██████    \u001b[0m| 6/10 [00:04<00:02,  1.61it/s, Batch correction: kbet_per_label]\u001b[A"
     ]
    },
    {
     "name": "stdout",
     "output_type": "stream",
     "text": [
      "\u001b[34mINFO    \u001b[0m HSPCs consists of a single batch or is too small. Skip.                                                   \n",
      "\u001b[34mINFO    \u001b[0m Monocyte-derived dendritic cells consists of a single batch or is too small. Skip.                        \n",
      "\u001b[34mINFO    \u001b[0m Plasma cells consists of a single batch or is too small. Skip.                                            \n"
     ]
    },
    {
     "name": "stderr",
     "output_type": "stream",
     "text": [
      "\n",
      "Metrics:  70%|\u001b[34m███████   \u001b[0m| 7/10 [00:15<00:08,  2.80s/it, Batch correction: kbet_per_label]\u001b[A\n",
      "Metrics:  70%|\u001b[34m███████   \u001b[0m| 7/10 [00:15<00:08,  2.80s/it, Batch correction: graph_connectivity]\u001b[A\n",
      "Metrics:  80%|\u001b[34m████████  \u001b[0m| 8/10 [00:15<00:05,  2.80s/it, Batch correction: pcr_comparison]    \u001b[A\n",
      "Embeddings: 100%|\u001b[32m██████████\u001b[0m| 1/1 [00:15<00:00, 15.30s/it]atch correction: pcr_comparison]\u001b[A\n",
      "\n",
      "                                                                                         \u001b[A/ictstr01/home/icb/fatemehs.hashemig/codes/interpretable-ssl/interpretable_ssl/trainers/trainer.py:314: FutureWarning: The frame.append method is deprecated and will be removed from pandas in a future version. Use pandas.concat instead.\n",
      "  overall_df = overall_df.append(fold_df, ignore_index=True)\n"
     ]
    },
    {
     "name": "stdout",
     "output_type": "stream",
     "text": [
      "Evaluating fold 6\n",
      "Embedding dictionary:\n",
      " \tNum conditions: [3]\n",
      " \tEmbedding dim: [10]\n",
      "Encoder Architecture:\n",
      "\tInput Layer in, out and cond: 4000 64 10\n",
      "\tMean/Var Layer in/out: 64 8\n",
      "Decoder Architecture:\n",
      "\tFirst Layer in, out and cond:  8 64 10\n",
      "\tOutput Layer in/out:  64 4000 \n",
      "\n"
     ]
    },
    {
     "name": "stderr",
     "output_type": "stream",
     "text": [
      "INFO:scarches.trainers.scpoli.trainer:GPU available: True, GPU used: True\n"
     ]
    },
    {
     "name": "stdout",
     "output_type": "stream",
     "text": [
      "Embedding dictionary:\n",
      " \tNum conditions: [5]\n",
      " \tEmbedding dim: [10]\n",
      "Encoder Architecture:\n",
      "\tInput Layer in, out and cond: 4000 64 10\n",
      "\tMean/Var Layer in/out: 64 8\n",
      "Decoder Architecture:\n",
      "\tFirst Layer in, out and cond:  8 64 10\n",
      "\tOutput Layer in/out:  64 4000 \n",
      "\n",
      "Initializing dataloaders\n",
      "Starting training\n",
      " |████████████████----| 80.0%  - val_loss:  442.49 - val_cvae_loss:  442.49\n",
      "Initializing unlabeled prototypes with Leiden with an unknown number of  clusters.\n",
      "Clustering succesful. Found 28 clusters.\n",
      " |████████████████████| 100.0%  - val_loss:  444.95 - val_cvae_loss:  444.95 - val_prototype_loss:    0.00 - val_unlabeled_loss:    0.32\n"
     ]
    },
    {
     "name": "stderr",
     "output_type": "stream",
     "text": [
      "Computing neighbors: 100%|██████████| 1/1 [00:06<00:00,  6.06s/it]\n",
      "Embeddings:   0%|\u001b[32m          \u001b[0m| 0/1 [00:00<?, ?it/s]\n",
      "Metrics:   0%|\u001b[34m          \u001b[0m| 0/10 [00:00<?, ?it/s]\u001b[A\n",
      "Metrics:   0%|\u001b[34m          \u001b[0m| 0/10 [00:00<?, ?it/s, Bio conservation: isolated_labels]\u001b[A\n",
      "Metrics:  10%|\u001b[34m█         \u001b[0m| 1/10 [00:00<00:03,  2.41it/s, Bio conservation: isolated_labels]\u001b[A\n",
      "Metrics:  10%|\u001b[34m█         \u001b[0m| 1/10 [00:00<00:03,  2.41it/s, Bio conservation: nmi_ari_cluster_labels_kmeans]\u001b[A\n",
      "Metrics:  20%|\u001b[34m██        \u001b[0m| 2/10 [00:02<00:12,  1.57s/it, Bio conservation: nmi_ari_cluster_labels_kmeans]\u001b[A\n",
      "Metrics:  20%|\u001b[34m██        \u001b[0m| 2/10 [00:02<00:12,  1.57s/it, Bio conservation: silhouette_label]             \u001b[A\n",
      "Metrics:  30%|\u001b[34m███       \u001b[0m| 3/10 [00:03<00:07,  1.01s/it, Bio conservation: silhouette_label]\u001b[A\n",
      "Metrics:  30%|\u001b[34m███       \u001b[0m| 3/10 [00:03<00:07,  1.01s/it, Bio conservation: clisi_knn]       \u001b[A\n",
      "Metrics:  40%|\u001b[34m████      \u001b[0m| 4/10 [00:03<00:03,  1.53it/s, Bio conservation: clisi_knn]\u001b[A\n",
      "Metrics:  40%|\u001b[34m████      \u001b[0m| 4/10 [00:03<00:03,  1.53it/s, Batch correction: silhouette_batch]\u001b[A\n",
      "Metrics:  50%|\u001b[34m█████     \u001b[0m| 5/10 [00:03<00:02,  2.00it/s, Batch correction: silhouette_batch]\u001b[A\n",
      "Metrics:  50%|\u001b[34m█████     \u001b[0m| 5/10 [00:03<00:02,  2.00it/s, Batch correction: ilisi_knn]       \u001b[A\n",
      "Metrics:  60%|\u001b[34m██████    \u001b[0m| 6/10 [00:03<00:01,  2.75it/s, Batch correction: ilisi_knn]\u001b[A\n",
      "Metrics:  60%|\u001b[34m██████    \u001b[0m| 6/10 [00:03<00:01,  2.75it/s, Batch correction: kbet_per_label]\u001b[A\n",
      "Metrics:  70%|\u001b[34m███████   \u001b[0m| 7/10 [00:12<00:09,  3.06s/it, Batch correction: kbet_per_label]\u001b[A\n",
      "Metrics:  70%|\u001b[34m███████   \u001b[0m| 7/10 [00:12<00:09,  3.06s/it, Batch correction: graph_connectivity]\u001b[A\n",
      "Metrics:  80%|\u001b[34m████████  \u001b[0m| 8/10 [00:12<00:06,  3.06s/it, Batch correction: pcr_comparison]    \u001b[A\n",
      "Embeddings: 100%|\u001b[32m██████████\u001b[0m| 1/1 [00:12<00:00, 12.29s/it]atch correction: pcr_comparison]\u001b[A\n",
      "\n",
      "                                                                                         \u001b[A/ictstr01/home/icb/fatemehs.hashemig/codes/interpretable-ssl/interpretable_ssl/trainers/trainer.py:314: FutureWarning: The frame.append method is deprecated and will be removed from pandas in a future version. Use pandas.concat instead.\n",
      "  overall_df = overall_df.append(fold_df, ignore_index=True)\n"
     ]
    },
    {
     "name": "stdout",
     "output_type": "stream",
     "text": [
      "Evaluating fold 7\n",
      "Embedding dictionary:\n",
      " \tNum conditions: [3]\n",
      " \tEmbedding dim: [10]\n",
      "Encoder Architecture:\n",
      "\tInput Layer in, out and cond: 4000 64 10\n",
      "\tMean/Var Layer in/out: 64 8\n",
      "Decoder Architecture:\n",
      "\tFirst Layer in, out and cond:  8 64 10\n",
      "\tOutput Layer in/out:  64 4000 \n",
      "\n"
     ]
    },
    {
     "name": "stderr",
     "output_type": "stream",
     "text": [
      "INFO:scarches.trainers.scpoli.trainer:GPU available: True, GPU used: True\n"
     ]
    },
    {
     "name": "stdout",
     "output_type": "stream",
     "text": [
      "Embedding dictionary:\n",
      " \tNum conditions: [5]\n",
      " \tEmbedding dim: [10]\n",
      "Encoder Architecture:\n",
      "\tInput Layer in, out and cond: 4000 64 10\n",
      "\tMean/Var Layer in/out: 64 8\n",
      "Decoder Architecture:\n",
      "\tFirst Layer in, out and cond:  8 64 10\n",
      "\tOutput Layer in/out:  64 4000 \n",
      "\n",
      "Initializing dataloaders\n",
      "Starting training\n",
      " |████████████████----| 80.0%  - val_loss: 4488.53 - val_cvae_loss: 4488.53\n",
      "Initializing unlabeled prototypes with Leiden with an unknown number of  clusters.\n",
      "Clustering succesful. Found 20 clusters.\n",
      " |████████████████████| 100.0%  - val_loss: 4460.61 - val_cvae_loss: 4460.61 - val_prototype_loss:    0.00 - val_unlabeled_loss:    0.34\n"
     ]
    },
    {
     "name": "stderr",
     "output_type": "stream",
     "text": [
      "Computing neighbors: 100%|██████████| 1/1 [00:02<00:00,  2.12s/it]\n",
      "Embeddings:   0%|\u001b[32m          \u001b[0m| 0/1 [00:00<?, ?it/s]\n",
      "Metrics:   0%|\u001b[34m          \u001b[0m| 0/10 [00:00<?, ?it/s]\u001b[A\n",
      "Metrics:   0%|\u001b[34m          \u001b[0m| 0/10 [00:00<?, ?it/s, Bio conservation: isolated_labels]\u001b[A\n",
      "Metrics:  10%|\u001b[34m█         \u001b[0m| 1/10 [00:00<00:00, 19.64it/s, Bio conservation: nmi_ari_cluster_labels_kmeans]\u001b[A\n",
      "Metrics:  20%|\u001b[34m██        \u001b[0m| 2/10 [00:00<00:03,  2.15it/s, Bio conservation: nmi_ari_cluster_labels_kmeans]\u001b[A\n",
      "Metrics:  20%|\u001b[34m██        \u001b[0m| 2/10 [00:00<00:03,  2.15it/s, Bio conservation: silhouette_label]             \u001b[A\n",
      "Metrics:  30%|\u001b[34m███       \u001b[0m| 3/10 [00:00<00:03,  2.15it/s, Bio conservation: clisi_knn]       \u001b[A\n",
      "Metrics:  40%|\u001b[34m████      \u001b[0m| 4/10 [00:01<00:02,  2.15it/s, Batch correction: silhouette_batch]\u001b[A\n",
      "Metrics:  50%|\u001b[34m█████     \u001b[0m| 5/10 [00:01<00:02,  2.15it/s, Batch correction: ilisi_knn]       \u001b[A\n",
      "Metrics:  60%|\u001b[34m██████    \u001b[0m| 6/10 [00:01<00:00,  6.97it/s, Batch correction: ilisi_knn]\u001b[A\n",
      "Metrics:  60%|\u001b[34m██████    \u001b[0m| 6/10 [00:01<00:00,  6.97it/s, Batch correction: kbet_per_label]\u001b[A"
     ]
    },
    {
     "name": "stdout",
     "output_type": "stream",
     "text": [
      "\u001b[34mINFO    \u001b[0m CD20+ B cells consists of a single batch or is too small. Skip.                                           \n",
      "\u001b[34mINFO    \u001b[0m CD4+ T cells consists of a single batch or is too small. Skip.                                            \n",
      "\u001b[34mINFO    \u001b[0m CD8+ T cells consists of a single batch or is too small. Skip.                                            \n",
      "\u001b[34mINFO    \u001b[0m Megakaryocyte progenitors consists of a single batch or is too small. Skip.                               \n",
      "\u001b[34mINFO    \u001b[0m Monocyte-derived dendritic cells consists of a single batch or is too small. Skip.                        \n",
      "\u001b[34mINFO    \u001b[0m NK cells consists of a single batch or is too small. Skip.                                                \n",
      "\u001b[34mINFO    \u001b[0m NKT cells consists of a single batch or is too small. Skip.                                               \n"
     ]
    },
    {
     "name": "stderr",
     "output_type": "stream",
     "text": [
      "\n",
      "Metrics:  70%|\u001b[34m███████   \u001b[0m| 7/10 [00:01<00:00,  6.97it/s, Batch correction: graph_connectivity]\u001b[A\n",
      "Metrics:  80%|\u001b[34m████████  \u001b[0m| 8/10 [00:01<00:00,  4.53it/s, Batch correction: graph_connectivity]\u001b[A\n",
      "Embeddings: 100%|\u001b[32m██████████\u001b[0m| 1/1 [00:01<00:00,  1.81s/it]atch correction: pcr_comparison]    \u001b[A\n",
      "\n",
      "                                                                                         \u001b[A/ictstr01/home/icb/fatemehs.hashemig/codes/interpretable-ssl/interpretable_ssl/trainers/trainer.py:314: FutureWarning: The frame.append method is deprecated and will be removed from pandas in a future version. Use pandas.concat instead.\n",
      "  overall_df = overall_df.append(fold_df, ignore_index=True)\n"
     ]
    },
    {
     "name": "stdout",
     "output_type": "stream",
     "text": [
      "Evaluating fold 8\n",
      "Embedding dictionary:\n",
      " \tNum conditions: [3]\n",
      " \tEmbedding dim: [10]\n",
      "Encoder Architecture:\n",
      "\tInput Layer in, out and cond: 4000 64 10\n",
      "\tMean/Var Layer in/out: 64 8\n",
      "Decoder Architecture:\n",
      "\tFirst Layer in, out and cond:  8 64 10\n",
      "\tOutput Layer in/out:  64 4000 \n",
      "\n"
     ]
    },
    {
     "name": "stderr",
     "output_type": "stream",
     "text": [
      "INFO:scarches.trainers.scpoli.trainer:GPU available: True, GPU used: True\n"
     ]
    },
    {
     "name": "stdout",
     "output_type": "stream",
     "text": [
      "Embedding dictionary:\n",
      " \tNum conditions: [5]\n",
      " \tEmbedding dim: [10]\n",
      "Encoder Architecture:\n",
      "\tInput Layer in, out and cond: 4000 64 10\n",
      "\tMean/Var Layer in/out: 64 8\n",
      "Decoder Architecture:\n",
      "\tFirst Layer in, out and cond:  8 64 10\n",
      "\tOutput Layer in/out:  64 4000 \n",
      "\n",
      "Initializing dataloaders\n",
      "Starting training\n",
      " |████████████████----| 80.0%  - val_loss:  443.51 - val_cvae_loss:  443.51\n",
      "Initializing unlabeled prototypes with Leiden with an unknown number of  clusters.\n",
      "Clustering succesful. Found 27 clusters.\n",
      " |████████████████████| 100.0%  - val_loss:  445.06 - val_cvae_loss:  445.06 - val_prototype_loss:    0.00 - val_unlabeled_loss:    0.33\n"
     ]
    },
    {
     "name": "stderr",
     "output_type": "stream",
     "text": [
      "Computing neighbors: 100%|██████████| 1/1 [00:07<00:00,  7.75s/it]\n",
      "Embeddings:   0%|\u001b[32m          \u001b[0m| 0/1 [00:00<?, ?it/s]\n",
      "Metrics:   0%|\u001b[34m          \u001b[0m| 0/10 [00:00<?, ?it/s]\u001b[A\n",
      "Metrics:   0%|\u001b[34m          \u001b[0m| 0/10 [00:00<?, ?it/s, Bio conservation: isolated_labels]\u001b[A\n",
      "Metrics:  10%|\u001b[34m█         \u001b[0m| 1/10 [00:00<00:06,  1.40it/s, Bio conservation: isolated_labels]\u001b[A\n",
      "Metrics:  10%|\u001b[34m█         \u001b[0m| 1/10 [00:00<00:06,  1.40it/s, Bio conservation: nmi_ari_cluster_labels_kmeans]\u001b[A\n",
      "Metrics:  20%|\u001b[34m██        \u001b[0m| 2/10 [00:03<00:15,  1.97s/it, Bio conservation: nmi_ari_cluster_labels_kmeans]\u001b[A\n",
      "Metrics:  20%|\u001b[34m██        \u001b[0m| 2/10 [00:03<00:15,  1.97s/it, Bio conservation: silhouette_label]             \u001b[A\n",
      "Metrics:  30%|\u001b[34m███       \u001b[0m| 3/10 [00:04<00:09,  1.41s/it, Bio conservation: silhouette_label]\u001b[A\n",
      "Metrics:  30%|\u001b[34m███       \u001b[0m| 3/10 [00:04<00:09,  1.41s/it, Bio conservation: clisi_knn]       \u001b[A\n",
      "Metrics:  40%|\u001b[34m████      \u001b[0m| 4/10 [00:04<00:05,  1.09it/s, Bio conservation: clisi_knn]\u001b[A\n",
      "Metrics:  40%|\u001b[34m████      \u001b[0m| 4/10 [00:04<00:05,  1.09it/s, Batch correction: silhouette_batch]\u001b[A\n",
      "Metrics:  50%|\u001b[34m█████     \u001b[0m| 5/10 [00:04<00:03,  1.42it/s, Batch correction: silhouette_batch]\u001b[A\n",
      "Metrics:  50%|\u001b[34m█████     \u001b[0m| 5/10 [00:04<00:03,  1.42it/s, Batch correction: ilisi_knn]       \u001b[A\n",
      "Metrics:  60%|\u001b[34m██████    \u001b[0m| 6/10 [00:04<00:02,  1.93it/s, Batch correction: ilisi_knn]\u001b[A\n",
      "Metrics:  60%|\u001b[34m██████    \u001b[0m| 6/10 [00:04<00:02,  1.93it/s, Batch correction: kbet_per_label]\u001b[A"
     ]
    },
    {
     "name": "stdout",
     "output_type": "stream",
     "text": [
      "\u001b[34mINFO    \u001b[0m HSPCs consists of a single batch or is too small. Skip.                                                   \n",
      "\u001b[34mINFO    \u001b[0m Plasma cells consists of a single batch or is too small. Skip.                                            \n"
     ]
    },
    {
     "name": "stderr",
     "output_type": "stream",
     "text": [
      "\n",
      "Metrics:  70%|\u001b[34m███████   \u001b[0m| 7/10 [00:18<00:14,  4.83s/it, Batch correction: kbet_per_label]\u001b[A\n",
      "Metrics:  70%|\u001b[34m███████   \u001b[0m| 7/10 [00:18<00:14,  4.83s/it, Batch correction: graph_connectivity]\u001b[A\n",
      "Metrics:  80%|\u001b[34m████████  \u001b[0m| 8/10 [00:18<00:09,  4.83s/it, Batch correction: pcr_comparison]    \u001b[A\n",
      "Embeddings: 100%|\u001b[32m██████████\u001b[0m| 1/1 [00:18<00:00, 18.80s/it]atch correction: pcr_comparison]\u001b[A\n",
      "\n",
      "                                                                                         \u001b[A/ictstr01/home/icb/fatemehs.hashemig/codes/interpretable-ssl/interpretable_ssl/trainers/trainer.py:314: FutureWarning: The frame.append method is deprecated and will be removed from pandas in a future version. Use pandas.concat instead.\n",
      "  overall_df = overall_df.append(fold_df, ignore_index=True)\n"
     ]
    },
    {
     "name": "stdout",
     "output_type": "stream",
     "text": [
      "Evaluating fold 9\n",
      "Embedding dictionary:\n",
      " \tNum conditions: [3]\n",
      " \tEmbedding dim: [10]\n",
      "Encoder Architecture:\n",
      "\tInput Layer in, out and cond: 4000 64 10\n",
      "\tMean/Var Layer in/out: 64 8\n",
      "Decoder Architecture:\n",
      "\tFirst Layer in, out and cond:  8 64 10\n",
      "\tOutput Layer in/out:  64 4000 \n",
      "\n"
     ]
    },
    {
     "name": "stderr",
     "output_type": "stream",
     "text": [
      "INFO:scarches.trainers.scpoli.trainer:GPU available: True, GPU used: True\n"
     ]
    },
    {
     "name": "stdout",
     "output_type": "stream",
     "text": [
      "Embedding dictionary:\n",
      " \tNum conditions: [5]\n",
      " \tEmbedding dim: [10]\n",
      "Encoder Architecture:\n",
      "\tInput Layer in, out and cond: 4000 64 10\n",
      "\tMean/Var Layer in/out: 64 8\n",
      "Decoder Architecture:\n",
      "\tFirst Layer in, out and cond:  8 64 10\n",
      "\tOutput Layer in/out:  64 4000 \n",
      "\n",
      "Initializing dataloaders\n",
      "Starting training\n",
      " |████████████████----| 80.0%  - val_loss: 4602.40 - val_cvae_loss: 4602.40\n",
      "Initializing unlabeled prototypes with Leiden with an unknown number of  clusters.\n",
      "Clustering succesful. Found 28 clusters.\n",
      " |████████████████████| 100.0%  - val_loss: 4631.22 - val_cvae_loss: 4631.22 - val_prototype_loss:    0.00 - val_unlabeled_loss:    0.34\n"
     ]
    },
    {
     "name": "stderr",
     "output_type": "stream",
     "text": [
      "Computing neighbors: 100%|██████████| 1/1 [00:04<00:00,  4.57s/it]\n",
      "Embeddings:   0%|\u001b[32m          \u001b[0m| 0/1 [00:00<?, ?it/s]\n",
      "Metrics:   0%|\u001b[34m          \u001b[0m| 0/10 [00:00<?, ?it/s]\u001b[A\n",
      "Metrics:   0%|\u001b[34m          \u001b[0m| 0/10 [00:00<?, ?it/s, Bio conservation: isolated_labels]\u001b[A\n",
      "Metrics:  10%|\u001b[34m█         \u001b[0m| 1/10 [00:00<00:03,  2.27it/s, Bio conservation: isolated_labels]\u001b[A\n",
      "Metrics:  10%|\u001b[34m█         \u001b[0m| 1/10 [00:00<00:03,  2.27it/s, Bio conservation: nmi_ari_cluster_labels_kmeans]\u001b[A\n",
      "Metrics:  20%|\u001b[34m██        \u001b[0m| 2/10 [00:03<00:14,  1.84s/it, Bio conservation: nmi_ari_cluster_labels_kmeans]\u001b[A\n",
      "Metrics:  20%|\u001b[34m██        \u001b[0m| 2/10 [00:03<00:14,  1.84s/it, Bio conservation: silhouette_label]             \u001b[A\n",
      "Metrics:  30%|\u001b[34m███       \u001b[0m| 3/10 [00:03<00:08,  1.22s/it, Bio conservation: silhouette_label]\u001b[A\n",
      "Metrics:  30%|\u001b[34m███       \u001b[0m| 3/10 [00:03<00:08,  1.22s/it, Bio conservation: clisi_knn]       \u001b[A\n",
      "Metrics:  40%|\u001b[34m████      \u001b[0m| 4/10 [00:03<00:04,  1.28it/s, Bio conservation: clisi_knn]\u001b[A\n",
      "Metrics:  40%|\u001b[34m████      \u001b[0m| 4/10 [00:03<00:04,  1.28it/s, Batch correction: silhouette_batch]\u001b[A\n",
      "Metrics:  50%|\u001b[34m█████     \u001b[0m| 5/10 [00:03<00:03,  1.28it/s, Batch correction: ilisi_knn]       \u001b[A\n",
      "Metrics:  60%|\u001b[34m██████    \u001b[0m| 6/10 [00:04<00:01,  2.42it/s, Batch correction: ilisi_knn]\u001b[A\n",
      "Metrics:  60%|\u001b[34m██████    \u001b[0m| 6/10 [00:04<00:01,  2.42it/s, Batch correction: kbet_per_label]\u001b[A"
     ]
    },
    {
     "name": "stdout",
     "output_type": "stream",
     "text": [
      "\u001b[34mINFO    \u001b[0m CD20+ B cells consists of a single batch or is too small. Skip.                                           \n",
      "\u001b[34mINFO    \u001b[0m CD4+ T cells consists of a single batch or is too small. Skip.                                            \n",
      "\u001b[34mINFO    \u001b[0m CD8+ T cells consists of a single batch or is too small. Skip.                                            \n",
      "\u001b[34mINFO    \u001b[0m HSPCs consists of a single batch or is too small. Skip.                                                   \n",
      "\u001b[34mINFO    \u001b[0m Megakaryocyte progenitors consists of a single batch or is too small. Skip.                               \n",
      "\u001b[34mINFO    \u001b[0m NK cells consists of a single batch or is too small. Skip.                                                \n",
      "\u001b[34mINFO    \u001b[0m NKT cells consists of a single batch or is too small. Skip.                                               \n",
      "\u001b[34mINFO    \u001b[0m Plasma cells consists of a single batch or is too small. Skip.                                            \n"
     ]
    },
    {
     "name": "stderr",
     "output_type": "stream",
     "text": [
      "\n",
      "Metrics:  70%|\u001b[34m███████   \u001b[0m| 7/10 [00:08<00:04,  1.40s/it, Batch correction: kbet_per_label]\u001b[A\n",
      "Metrics:  70%|\u001b[34m███████   \u001b[0m| 7/10 [00:08<00:04,  1.40s/it, Batch correction: graph_connectivity]\u001b[A\n",
      "Metrics:  80%|\u001b[34m████████  \u001b[0m| 8/10 [00:08<00:02,  1.40s/it, Batch correction: pcr_comparison]    \u001b[A\n",
      "Embeddings: 100%|\u001b[32m██████████\u001b[0m| 1/1 [00:08<00:00,  8.16s/it]atch correction: pcr_comparison]\u001b[A\n",
      "\n",
      "                                                                                         \u001b[A/ictstr01/home/icb/fatemehs.hashemig/codes/interpretable-ssl/interpretable_ssl/trainers/trainer.py:314: FutureWarning: The frame.append method is deprecated and will be removed from pandas in a future version. Use pandas.concat instead.\n",
      "  overall_df = overall_df.append(fold_df, ignore_index=True)\n"
     ]
    },
    {
     "name": "stdout",
     "output_type": "stream",
     "text": [
      "Evaluating fold 10\n",
      "Embedding dictionary:\n",
      " \tNum conditions: [3]\n",
      " \tEmbedding dim: [10]\n",
      "Encoder Architecture:\n",
      "\tInput Layer in, out and cond: 4000 64 10\n",
      "\tMean/Var Layer in/out: 64 8\n",
      "Decoder Architecture:\n",
      "\tFirst Layer in, out and cond:  8 64 10\n",
      "\tOutput Layer in/out:  64 4000 \n",
      "\n"
     ]
    },
    {
     "name": "stderr",
     "output_type": "stream",
     "text": [
      "INFO:scarches.trainers.scpoli.trainer:GPU available: True, GPU used: True\n"
     ]
    },
    {
     "name": "stdout",
     "output_type": "stream",
     "text": [
      "Embedding dictionary:\n",
      " \tNum conditions: [5]\n",
      " \tEmbedding dim: [10]\n",
      "Encoder Architecture:\n",
      "\tInput Layer in, out and cond: 4000 64 10\n",
      "\tMean/Var Layer in/out: 64 8\n",
      "Decoder Architecture:\n",
      "\tFirst Layer in, out and cond:  8 64 10\n",
      "\tOutput Layer in/out:  64 4000 \n",
      "\n",
      "Initializing dataloaders\n",
      "Starting training\n",
      " |████████████████----| 80.0%  - val_loss: 4541.82 - val_cvae_loss: 4541.82\n",
      "Initializing unlabeled prototypes with Leiden with an unknown number of  clusters.\n",
      "Clustering succesful. Found 31 clusters.\n",
      " |████████████████████| 100.0%  - val_loss: 4535.54 - val_cvae_loss: 4535.54 - val_prototype_loss:    0.00 - val_unlabeled_loss:    0.61\n"
     ]
    },
    {
     "name": "stderr",
     "output_type": "stream",
     "text": [
      "Computing neighbors: 100%|██████████| 1/1 [00:04<00:00,  4.42s/it]\n",
      "Embeddings:   0%|\u001b[32m          \u001b[0m| 0/1 [00:00<?, ?it/s]\n",
      "Metrics:   0%|\u001b[34m          \u001b[0m| 0/10 [00:00<?, ?it/s]\u001b[A\n",
      "Metrics:   0%|\u001b[34m          \u001b[0m| 0/10 [00:00<?, ?it/s, Bio conservation: isolated_labels]\u001b[A\n",
      "Metrics:  10%|\u001b[34m█         \u001b[0m| 1/10 [00:00<00:01,  4.55it/s, Bio conservation: isolated_labels]\u001b[A\n",
      "Metrics:  10%|\u001b[34m█         \u001b[0m| 1/10 [00:00<00:01,  4.55it/s, Bio conservation: nmi_ari_cluster_labels_kmeans]\u001b[A\n",
      "Metrics:  20%|\u001b[34m██        \u001b[0m| 2/10 [00:02<00:11,  1.49s/it, Bio conservation: nmi_ari_cluster_labels_kmeans]\u001b[A\n",
      "Metrics:  20%|\u001b[34m██        \u001b[0m| 2/10 [00:02<00:11,  1.49s/it, Bio conservation: silhouette_label]             \u001b[A\n",
      "Metrics:  30%|\u001b[34m███       \u001b[0m| 3/10 [00:02<00:06,  1.06it/s, Bio conservation: silhouette_label]\u001b[A\n",
      "Metrics:  30%|\u001b[34m███       \u001b[0m| 3/10 [00:02<00:06,  1.06it/s, Bio conservation: clisi_knn]       \u001b[A\n",
      "Metrics:  40%|\u001b[34m████      \u001b[0m| 4/10 [00:02<00:05,  1.06it/s, Batch correction: silhouette_batch]\u001b[A\n",
      "Metrics:  50%|\u001b[34m█████     \u001b[0m| 5/10 [00:03<00:02,  2.08it/s, Batch correction: silhouette_batch]\u001b[A\n",
      "Metrics:  50%|\u001b[34m█████     \u001b[0m| 5/10 [00:03<00:02,  2.08it/s, Batch correction: ilisi_knn]       \u001b[A\n",
      "Metrics:  60%|\u001b[34m██████    \u001b[0m| 6/10 [00:03<00:01,  2.68it/s, Batch correction: ilisi_knn]\u001b[A\n",
      "Metrics:  60%|\u001b[34m██████    \u001b[0m| 6/10 [00:03<00:01,  2.68it/s, Batch correction: kbet_per_label]\u001b[A\n",
      "Metrics:  70%|\u001b[34m███████   \u001b[0m| 7/10 [00:09<00:06,  2.20s/it, Batch correction: kbet_per_label]\u001b[A\n",
      "Metrics:  70%|\u001b[34m███████   \u001b[0m| 7/10 [00:09<00:06,  2.20s/it, Batch correction: graph_connectivity]\u001b[A\n",
      "Embeddings: 100%|\u001b[32m██████████\u001b[0m| 1/1 [00:09<00:00, 10.00s/it]atch correction: pcr_comparison]    \u001b[A\n",
      "\n",
      "                                                                                         \u001b[A/ictstr01/home/icb/fatemehs.hashemig/codes/interpretable-ssl/interpretable_ssl/trainers/trainer.py:314: FutureWarning: The frame.append method is deprecated and will be removed from pandas in a future version. Use pandas.concat instead.\n",
      "  overall_df = overall_df.append(fold_df, ignore_index=True)\n"
     ]
    }
   ],
   "source": [
    "eval_fn = partial(barlow_32.query_scib_metrics, fine_tuning=True)\n",
    "\n",
    "df = barlow_32.evaluate_custom_cross_val_models(eval_fn)"
   ]
  },
  {
   "cell_type": "code",
   "execution_count": 47,
   "id": "5bc4c0bb-5b5c-4177-8d3b-713bc95a1e11",
   "metadata": {},
   "outputs": [
    {
     "data": {
      "text/html": [
       "<div>\n",
       "<style scoped>\n",
       "    .dataframe tbody tr th:only-of-type {\n",
       "        vertical-align: middle;\n",
       "    }\n",
       "\n",
       "    .dataframe tbody tr th {\n",
       "        vertical-align: top;\n",
       "    }\n",
       "\n",
       "    .dataframe thead th {\n",
       "        text-align: right;\n",
       "    }\n",
       "</style>\n",
       "<table border=\"1\" class=\"dataframe\">\n",
       "  <thead>\n",
       "    <tr style=\"text-align: right;\">\n",
       "      <th></th>\n",
       "      <th>Isolated labels</th>\n",
       "      <th>KMeans NMI</th>\n",
       "      <th>KMeans ARI</th>\n",
       "      <th>Silhouette label</th>\n",
       "      <th>cLISI</th>\n",
       "      <th>Silhouette batch</th>\n",
       "      <th>iLISI</th>\n",
       "      <th>KBET</th>\n",
       "      <th>Graph connectivity</th>\n",
       "      <th>PCR comparison</th>\n",
       "      <th>Batch correction</th>\n",
       "      <th>Bio conservation</th>\n",
       "      <th>Total</th>\n",
       "    </tr>\n",
       "    <tr>\n",
       "      <th>trainer</th>\n",
       "      <th></th>\n",
       "      <th></th>\n",
       "      <th></th>\n",
       "      <th></th>\n",
       "      <th></th>\n",
       "      <th></th>\n",
       "      <th></th>\n",
       "      <th></th>\n",
       "      <th></th>\n",
       "      <th></th>\n",
       "      <th></th>\n",
       "      <th></th>\n",
       "      <th></th>\n",
       "    </tr>\n",
       "  </thead>\n",
       "  <tbody>\n",
       "    <tr>\n",
       "      <th>barlow32</th>\n",
       "      <td>0.652015</td>\n",
       "      <td>0.680492</td>\n",
       "      <td>0.477119</td>\n",
       "      <td>0.587336</td>\n",
       "      <td>0.990164</td>\n",
       "      <td>0.840041</td>\n",
       "      <td>0.256472</td>\n",
       "      <td>0.413043</td>\n",
       "      <td>0.904417</td>\n",
       "      <td>0.701767</td>\n",
       "      <td>0.623148</td>\n",
       "      <td>0.677425</td>\n",
       "      <td>0.655714</td>\n",
       "    </tr>\n",
       "  </tbody>\n",
       "</table>\n",
       "</div>"
      ],
      "text/plain": [
       "          Isolated labels  KMeans NMI  KMeans ARI  Silhouette label     cLISI  \\\n",
       "trainer                                                                         \n",
       "barlow32         0.652015    0.680492    0.477119          0.587336  0.990164   \n",
       "\n",
       "          Silhouette batch     iLISI      KBET  Graph connectivity  \\\n",
       "trainer                                                              \n",
       "barlow32          0.840041  0.256472  0.413043            0.904417   \n",
       "\n",
       "          PCR comparison  Batch correction  Bio conservation     Total  \n",
       "trainer                                                                 \n",
       "barlow32        0.701767          0.623148          0.677425  0.655714  "
      ]
     },
     "execution_count": 47,
     "metadata": {},
     "output_type": "execute_result"
    }
   ],
   "source": [
    "df['trainer'] = 'barlow32'\n",
    "process_dataframe(df)"
   ]
  },
  {
   "cell_type": "markdown",
   "id": "867966e7-5a53-41b6-b138-36baa32e792d",
   "metadata": {
    "jp-MarkdownHeadingCollapsed": true
   },
   "source": [
    "# recheck barlow performance (no cross validation)"
   ]
  },
  {
   "cell_type": "code",
   "execution_count": 15,
   "id": "ee4d1c0c-223f-457a-8095-a8d5bb0bf5f7",
   "metadata": {},
   "outputs": [],
   "source": [
    "barlow = ScpoliProtBarlowTrainer(ds)\n",
    "barlow.experiment_name = 'barlow-recheck'\n",
    "\n",
    "scvi_ = ScviTrainer(dataset = ds)\n",
    "scpoli_ = OriginalTrainer(ds)\n",
    "\n",
    "trainers = [scvi_, scpoli_, barlow]\n",
    "names = [trainer.get_model_name() for trainer in trainers]"
   ]
  },
  {
   "cell_type": "code",
   "execution_count": 21,
   "id": "d0d2a0d6-5dfb-451e-9245-3934e461afdb",
   "metadata": {
    "scrolled": true
   },
   "outputs": [
    {
     "name": "stdout",
     "output_type": "stream",
     "text": [
      "\u001b[34mINFO    \u001b[0m File \u001b[35m/home/icb/fatemehs.hashemig/models/\u001b[0m\u001b[35m/pbmc-immune/scvi-latent_dim8/\u001b[0m\u001b[95mmodel.pt\u001b[0m already downloaded         \n"
     ]
    },
    {
     "name": "stderr",
     "output_type": "stream",
     "text": [
      "/home/icb/fatemehs.hashemig/miniconda3/envs/interpretable-ssl/lib/python3.12/multiprocessing/popen_fork.py:66: RuntimeWarning: os.fork() was called. os.fork() is incompatible with multithreaded code, and JAX is multithreaded, so this will likely lead to a deadlock.\n",
      "  self.pid = os.fork()\n",
      "Multiprocessing is handled by SLURM.\n",
      "GPU available: True (cuda), used: True\n",
      "TPU available: False, using: 0 TPU cores\n",
      "IPU available: False, using: 0 IPUs\n",
      "HPU available: False, using: 0 HPUs\n",
      "/home/icb/fatemehs.hashemig/miniconda3/envs/interpretable-ssl/lib/python3.12/multiprocessing/popen_fork.py:66: RuntimeWarning: os.fork() was called. os.fork() is incompatible with multithreaded code, and JAX is multithreaded, so this will likely lead to a deadlock.\n",
      "  self.pid = os.fork()\n",
      "LOCAL_RANK: 0 - CUDA_VISIBLE_DEVICES: [MIG-887fd1e0-585a-56c2-81f3-94f71fe4e1e3]\n",
      "SLURM auto-requeueing enabled. Setting signal handlers.\n"
     ]
    },
    {
     "name": "stdout",
     "output_type": "stream",
     "text": [
      "Epoch 50/50: 100%|██████████| 50/50 [00:15<00:00,  3.25it/s, loss=7.14e+03, v_num=1]"
     ]
    },
    {
     "name": "stderr",
     "output_type": "stream",
     "text": [
      "`Trainer.fit` stopped: `max_epochs=50` reached.\n"
     ]
    },
    {
     "name": "stdout",
     "output_type": "stream",
     "text": [
      "Epoch 50/50: 100%|██████████| 50/50 [00:15<00:00,  3.33it/s, loss=7.14e+03, v_num=1]\n",
      "\u001b[34mINFO    \u001b[0m Input AnnData not setup with scvi-tools. attempting to transfer AnnData setup                             \n",
      "\u001b[34mINFO    \u001b[0m Input AnnData not setup with scvi-tools. attempting to transfer AnnData setup                             \n"
     ]
    },
    {
     "name": "stderr",
     "output_type": "stream",
     "text": [
      "Computing neighbors: 100%|██████████| 1/1 [00:02<00:00,  2.17s/it]\n",
      "Embeddings:   0%|\u001b[32m          \u001b[0m| 0/1 [00:00<?, ?it/s]\n",
      "Metrics:   0%|\u001b[34m          \u001b[0m| 0/10 [00:00<?, ?it/s]\u001b[A\n",
      "Metrics:   0%|\u001b[34m          \u001b[0m| 0/10 [00:00<?, ?it/s, Bio conservation: isolated_labels]\u001b[A\n",
      "Metrics:  10%|\u001b[34m█         \u001b[0m| 1/10 [00:00<00:00, 14.00it/s, Bio conservation: nmi_ari_cluster_labels_kmeans]\u001b[A\n",
      "Metrics:  20%|\u001b[34m██        \u001b[0m| 2/10 [00:00<00:03,  2.27it/s, Bio conservation: nmi_ari_cluster_labels_kmeans]\u001b[A\n",
      "Metrics:  20%|\u001b[34m██        \u001b[0m| 2/10 [00:00<00:03,  2.27it/s, Bio conservation: silhouette_label]             \u001b[A\n",
      "Metrics:  30%|\u001b[34m███       \u001b[0m| 3/10 [00:00<00:03,  2.27it/s, Bio conservation: clisi_knn]       \u001b[A\n",
      "Metrics:  40%|\u001b[34m████      \u001b[0m| 4/10 [00:00<00:02,  2.27it/s, Batch correction: silhouette_batch]\u001b[A\n",
      "Metrics:  50%|\u001b[34m█████     \u001b[0m| 5/10 [00:00<00:00,  6.03it/s, Batch correction: silhouette_batch]\u001b[A\n",
      "Metrics:  50%|\u001b[34m█████     \u001b[0m| 5/10 [00:00<00:00,  6.03it/s, Batch correction: ilisi_knn]       \u001b[A\n",
      "Metrics:  60%|\u001b[34m██████    \u001b[0m| 6/10 [00:01<00:00,  6.03it/s, Batch correction: kbet_per_label]\u001b[A"
     ]
    },
    {
     "name": "stdout",
     "output_type": "stream",
     "text": [
      "\u001b[34mINFO    \u001b[0m CD20+ B cells consists of a single batch or is too small. Skip.                                           \n",
      "\u001b[34mINFO    \u001b[0m CD4+ T cells consists of a single batch or is too small. Skip.                                            \n",
      "\u001b[34mINFO    \u001b[0m CD8+ T cells consists of a single batch or is too small. Skip.                                            \n",
      "\u001b[34mINFO    \u001b[0m Megakaryocyte progenitors consists of a single batch or is too small. Skip.                               \n",
      "\u001b[34mINFO    \u001b[0m Monocyte-derived dendritic cells consists of a single batch or is too small. Skip.                        \n",
      "\u001b[34mINFO    \u001b[0m NK cells consists of a single batch or is too small. Skip.                                                \n",
      "\u001b[34mINFO    \u001b[0m NKT cells consists of a single batch or is too small. Skip.                                               \n"
     ]
    },
    {
     "name": "stderr",
     "output_type": "stream",
     "text": [
      "\n",
      "Metrics:  70%|\u001b[34m███████   \u001b[0m| 7/10 [00:01<00:00,  4.57it/s, Batch correction: kbet_per_label]\u001b[A\n",
      "Metrics:  70%|\u001b[34m███████   \u001b[0m| 7/10 [00:01<00:00,  4.57it/s, Batch correction: graph_connectivity]\u001b[A\n",
      "Embeddings: 100%|\u001b[32m██████████\u001b[0m| 1/1 [00:01<00:00,  1.62s/it]atch correction: pcr_comparison]    \u001b[A\n",
      "\n",
      "                                                                                         \u001b[AINFO:scarches.trainers.scpoli.trainer:GPU available: True, GPU used: True\n"
     ]
    },
    {
     "name": "stdout",
     "output_type": "stream",
     "text": [
      "Embedding dictionary:\n",
      " \tNum conditions: [3]\n",
      " \tEmbedding dim: [10]\n",
      "Encoder Architecture:\n",
      "\tInput Layer in, out and cond: 4000 64 10\n",
      "\tMean/Var Layer in/out: 64 8\n",
      "Decoder Architecture:\n",
      "\tFirst Layer in, out and cond:  8 64 10\n",
      "\tOutput Layer in/out:  64 4000 \n",
      "\n",
      "Embedding dictionary:\n",
      " \tNum conditions: [5]\n",
      " \tEmbedding dim: [10]\n",
      "Encoder Architecture:\n",
      "\tInput Layer in, out and cond: 4000 64 10\n",
      "\tMean/Var Layer in/out: 64 8\n",
      "Decoder Architecture:\n",
      "\tFirst Layer in, out and cond:  8 64 10\n",
      "\tOutput Layer in/out:  64 4000 \n",
      "\n",
      "Initializing dataloaders\n",
      "Starting training\n",
      " |████████████████----| 80.0%  - val_loss: 4331.25 - val_cvae_loss: 4331.25\n",
      "Initializing unlabeled prototypes with Leiden with an unknown number of  clusters.\n",
      "Clustering succesful. Found 19 clusters.\n",
      " |████████████████████| 100.0%  - val_loss: 4313.89 - val_cvae_loss: 4313.89 - val_prototype_loss:    0.00 - val_unlabeled_loss:    0.22\n"
     ]
    },
    {
     "name": "stderr",
     "output_type": "stream",
     "text": [
      "Computing neighbors: 100%|██████████| 1/1 [00:02<00:00,  2.07s/it]\n",
      "Embeddings:   0%|\u001b[32m          \u001b[0m| 0/1 [00:00<?, ?it/s]\n",
      "Metrics:   0%|\u001b[34m          \u001b[0m| 0/10 [00:00<?, ?it/s]\u001b[A\n",
      "Metrics:   0%|\u001b[34m          \u001b[0m| 0/10 [00:00<?, ?it/s, Bio conservation: isolated_labels]\u001b[A\n",
      "Metrics:  10%|\u001b[34m█         \u001b[0m| 1/10 [00:00<00:00, 20.77it/s, Bio conservation: nmi_ari_cluster_labels_kmeans]\u001b[A\n",
      "Metrics:  20%|\u001b[34m██        \u001b[0m| 2/10 [00:00<00:03,  2.31it/s, Bio conservation: nmi_ari_cluster_labels_kmeans]\u001b[A\n",
      "Metrics:  20%|\u001b[34m██        \u001b[0m| 2/10 [00:00<00:03,  2.31it/s, Bio conservation: silhouette_label]             \u001b[A\n",
      "Metrics:  30%|\u001b[34m███       \u001b[0m| 3/10 [00:00<00:03,  2.31it/s, Bio conservation: clisi_knn]       \u001b[A\n",
      "Metrics:  40%|\u001b[34m████      \u001b[0m| 4/10 [00:00<00:01,  4.70it/s, Bio conservation: clisi_knn]\u001b[A\n",
      "Metrics:  40%|\u001b[34m████      \u001b[0m| 4/10 [00:00<00:01,  4.70it/s, Batch correction: silhouette_batch]\u001b[A\n",
      "Metrics:  50%|\u001b[34m█████     \u001b[0m| 5/10 [00:00<00:01,  4.70it/s, Batch correction: ilisi_knn]       \u001b[A\n",
      "Metrics:  60%|\u001b[34m██████    \u001b[0m| 6/10 [00:01<00:00,  4.70it/s, Batch correction: kbet_per_label]\u001b[A"
     ]
    },
    {
     "name": "stdout",
     "output_type": "stream",
     "text": [
      "\u001b[34mINFO    \u001b[0m CD20+ B cells consists of a single batch or is too small. Skip.                                           \n",
      "\u001b[34mINFO    \u001b[0m CD4+ T cells consists of a single batch or is too small. Skip.                                            \n",
      "\u001b[34mINFO    \u001b[0m CD8+ T cells consists of a single batch or is too small. Skip.                                            \n",
      "\u001b[34mINFO    \u001b[0m Megakaryocyte progenitors consists of a single batch or is too small. Skip.                               \n",
      "\u001b[34mINFO    \u001b[0m Monocyte-derived dendritic cells consists of a single batch or is too small. Skip.                        \n",
      "\u001b[34mINFO    \u001b[0m NK cells consists of a single batch or is too small. Skip.                                                \n",
      "\u001b[34mINFO    \u001b[0m NKT cells consists of a single batch or is too small. Skip.                                               \n"
     ]
    },
    {
     "name": "stderr",
     "output_type": "stream",
     "text": [
      "\n",
      "Metrics:  70%|\u001b[34m███████   \u001b[0m| 7/10 [00:01<00:00,  4.78it/s, Batch correction: kbet_per_label]\u001b[A\n",
      "Metrics:  70%|\u001b[34m███████   \u001b[0m| 7/10 [00:01<00:00,  4.78it/s, Batch correction: graph_connectivity]\u001b[A\n",
      "Embeddings: 100%|\u001b[32m██████████\u001b[0m| 1/1 [00:01<00:00,  1.63s/it]atch correction: pcr_comparison]    \u001b[A\n",
      "\n",
      "                                                                                         \u001b[A"
     ]
    },
    {
     "name": "stdout",
     "output_type": "stream",
     "text": [
      "Embedding dictionary:\n",
      " \tNum conditions: [3]\n",
      " \tEmbedding dim: [10]\n",
      "Encoder Architecture:\n",
      "\tInput Layer in, out and cond: 4000 64 10\n",
      "\tMean/Var Layer in/out: 64 8\n",
      "Decoder Architecture:\n",
      "\tFirst Layer in, out and cond:  8 64 10\n",
      "\tOutput Layer in/out:  64 4000 \n",
      "\n"
     ]
    },
    {
     "name": "stderr",
     "output_type": "stream",
     "text": [
      "INFO:scarches.trainers.scpoli.trainer:GPU available: True, GPU used: True\n"
     ]
    },
    {
     "name": "stdout",
     "output_type": "stream",
     "text": [
      "Embedding dictionary:\n",
      " \tNum conditions: [5]\n",
      " \tEmbedding dim: [10]\n",
      "Encoder Architecture:\n",
      "\tInput Layer in, out and cond: 4000 64 10\n",
      "\tMean/Var Layer in/out: 64 8\n",
      "Decoder Architecture:\n",
      "\tFirst Layer in, out and cond:  8 64 10\n",
      "\tOutput Layer in/out:  64 4000 \n",
      "\n",
      "Initializing dataloaders\n",
      "Starting training\n",
      " |████████████████----| 80.0%  - val_loss: 4528.57 - val_cvae_loss: 4528.57\n",
      "Initializing unlabeled prototypes with Leiden with an unknown number of  clusters.\n",
      "Clustering succesful. Found 20 clusters.\n",
      " |████████████████████| 100.0%  - val_loss: 4499.09 - val_cvae_loss: 4499.09 - val_prototype_loss:    0.00 - val_unlabeled_loss:    0.39\n"
     ]
    },
    {
     "name": "stderr",
     "output_type": "stream",
     "text": [
      "Computing neighbors: 100%|██████████| 1/1 [00:01<00:00,  1.90s/it]\n",
      "Embeddings:   0%|\u001b[32m          \u001b[0m| 0/1 [00:00<?, ?it/s]\n",
      "Metrics:   0%|\u001b[34m          \u001b[0m| 0/10 [00:00<?, ?it/s]\u001b[A\n",
      "Metrics:   0%|\u001b[34m          \u001b[0m| 0/10 [00:00<?, ?it/s, Bio conservation: isolated_labels]\u001b[A\n",
      "Metrics:  10%|\u001b[34m█         \u001b[0m| 1/10 [00:00<00:00, 21.20it/s, Bio conservation: nmi_ari_cluster_labels_kmeans]\u001b[A\n",
      "Metrics:  20%|\u001b[34m██        \u001b[0m| 2/10 [00:00<00:03,  2.23it/s, Bio conservation: nmi_ari_cluster_labels_kmeans]\u001b[A\n",
      "Metrics:  20%|\u001b[34m██        \u001b[0m| 2/10 [00:00<00:03,  2.23it/s, Bio conservation: silhouette_label]             \u001b[A\n",
      "Metrics:  30%|\u001b[34m███       \u001b[0m| 3/10 [00:00<00:03,  2.23it/s, Bio conservation: clisi_knn]       \u001b[A\n",
      "Metrics:  40%|\u001b[34m████      \u001b[0m| 4/10 [00:00<00:02,  2.23it/s, Batch correction: silhouette_batch]\u001b[A\n",
      "Metrics:  50%|\u001b[34m█████     \u001b[0m| 5/10 [00:00<00:02,  2.23it/s, Batch correction: ilisi_knn]       \u001b[A\n",
      "Metrics:  60%|\u001b[34m██████    \u001b[0m| 6/10 [00:01<00:00,  7.31it/s, Batch correction: ilisi_knn]\u001b[A\n",
      "Metrics:  60%|\u001b[34m██████    \u001b[0m| 6/10 [00:01<00:00,  7.31it/s, Batch correction: kbet_per_label]\u001b[A"
     ]
    },
    {
     "name": "stdout",
     "output_type": "stream",
     "text": [
      "\u001b[34mINFO    \u001b[0m CD20+ B cells consists of a single batch or is too small. Skip.                                           \n",
      "\u001b[34mINFO    \u001b[0m CD4+ T cells consists of a single batch or is too small. Skip.                                            \n",
      "\u001b[34mINFO    \u001b[0m CD8+ T cells consists of a single batch or is too small. Skip.                                            \n",
      "\u001b[34mINFO    \u001b[0m Megakaryocyte progenitors consists of a single batch or is too small. Skip.                               \n",
      "\u001b[34mINFO    \u001b[0m Monocyte-derived dendritic cells consists of a single batch or is too small. Skip.                        \n",
      "\u001b[34mINFO    \u001b[0m NK cells consists of a single batch or is too small. Skip.                                                \n",
      "\u001b[34mINFO    \u001b[0m NKT cells consists of a single batch or is too small. Skip.                                               \n"
     ]
    },
    {
     "name": "stderr",
     "output_type": "stream",
     "text": [
      "\n",
      "Metrics:  70%|\u001b[34m███████   \u001b[0m| 7/10 [00:01<00:00,  7.31it/s, Batch correction: graph_connectivity]\u001b[A\n",
      "Metrics:  80%|\u001b[34m████████  \u001b[0m| 8/10 [00:01<00:00,  7.31it/s, Batch correction: pcr_comparison]    \u001b[A\n",
      "Embeddings: 100%|\u001b[32m██████████\u001b[0m| 1/1 [00:01<00:00,  1.62s/it]atch correction: pcr_comparison]\u001b[A\n",
      "\n",
      "                                                                                         \u001b[A"
     ]
    }
   ],
   "source": [
    "all_results_new = pd.DataFrame()\n",
    "for trainer, name in zip(trainers, names):\n",
    "    trainer.fine_tuning_epochs = 50\n",
    "    df = trainer.query_scib_metrics(True)\n",
    "    df['trainer'] = name\n",
    "    \n",
    "    all_results_new = pd.concat([all_results_new, df], ignore_index=True)"
   ]
  },
  {
   "cell_type": "code",
   "execution_count": 25,
   "id": "12582efc-4ba5-447e-8a10-d28fde8e2c6a",
   "metadata": {},
   "outputs": [
    {
     "data": {
      "text/html": [
       "<div>\n",
       "<style scoped>\n",
       "    .dataframe tbody tr th:only-of-type {\n",
       "        vertical-align: middle;\n",
       "    }\n",
       "\n",
       "    .dataframe tbody tr th {\n",
       "        vertical-align: top;\n",
       "    }\n",
       "\n",
       "    .dataframe thead th {\n",
       "        text-align: right;\n",
       "    }\n",
       "</style>\n",
       "<table border=\"1\" class=\"dataframe\">\n",
       "  <thead>\n",
       "    <tr style=\"text-align: right;\">\n",
       "      <th></th>\n",
       "      <th>Isolated labels</th>\n",
       "      <th>KMeans NMI</th>\n",
       "      <th>KMeans ARI</th>\n",
       "      <th>Silhouette label</th>\n",
       "      <th>cLISI</th>\n",
       "      <th>Silhouette batch</th>\n",
       "      <th>iLISI</th>\n",
       "      <th>KBET</th>\n",
       "      <th>Graph connectivity</th>\n",
       "      <th>PCR comparison</th>\n",
       "      <th>Batch correction</th>\n",
       "      <th>Bio conservation</th>\n",
       "      <th>Total</th>\n",
       "      <th>trainer</th>\n",
       "    </tr>\n",
       "  </thead>\n",
       "  <tbody>\n",
       "    <tr>\n",
       "      <th>0</th>\n",
       "      <td>0.612536</td>\n",
       "      <td>0.700514</td>\n",
       "      <td>0.513212</td>\n",
       "      <td>0.563858</td>\n",
       "      <td>0.986493</td>\n",
       "      <td>0.688066</td>\n",
       "      <td>1.192093e-07</td>\n",
       "      <td>0.636134</td>\n",
       "      <td>0.908591</td>\n",
       "      <td>0.688592</td>\n",
       "      <td>0.584277</td>\n",
       "      <td>0.675323</td>\n",
       "      <td>0.638904</td>\n",
       "      <td>scvi-latent_dim8</td>\n",
       "    </tr>\n",
       "    <tr>\n",
       "      <th>2</th>\n",
       "      <td>0.662764</td>\n",
       "      <td>0.677367</td>\n",
       "      <td>0.473438</td>\n",
       "      <td>0.622212</td>\n",
       "      <td>0.988258</td>\n",
       "      <td>0.623953</td>\n",
       "      <td>1.192093e-07</td>\n",
       "      <td>0.622111</td>\n",
       "      <td>0.887424</td>\n",
       "      <td>0.553700</td>\n",
       "      <td>0.537437</td>\n",
       "      <td>0.684808</td>\n",
       "      <td>0.625860</td>\n",
       "      <td>scpoli-original-latent_dim8</td>\n",
       "    </tr>\n",
       "    <tr>\n",
       "      <th>4</th>\n",
       "      <td>0.617900</td>\n",
       "      <td>0.724780</td>\n",
       "      <td>0.548696</td>\n",
       "      <td>0.576359</td>\n",
       "      <td>0.981188</td>\n",
       "      <td>0.693845</td>\n",
       "      <td>1.192093e-07</td>\n",
       "      <td>0.615567</td>\n",
       "      <td>0.924107</td>\n",
       "      <td>0.590495</td>\n",
       "      <td>0.564803</td>\n",
       "      <td>0.689785</td>\n",
       "      <td>0.639792</td>\n",
       "      <td>barlow-recheck-num-prot-16_hidden-64_bs-64</td>\n",
       "    </tr>\n",
       "  </tbody>\n",
       "</table>\n",
       "</div>"
      ],
      "text/plain": [
       "   Isolated labels  KMeans NMI  KMeans ARI  Silhouette label     cLISI  \\\n",
       "0         0.612536    0.700514    0.513212          0.563858  0.986493   \n",
       "2         0.662764    0.677367    0.473438          0.622212  0.988258   \n",
       "4         0.617900    0.724780    0.548696          0.576359  0.981188   \n",
       "\n",
       "   Silhouette batch         iLISI      KBET  Graph connectivity  \\\n",
       "0          0.688066  1.192093e-07  0.636134            0.908591   \n",
       "2          0.623953  1.192093e-07  0.622111            0.887424   \n",
       "4          0.693845  1.192093e-07  0.615567            0.924107   \n",
       "\n",
       "   PCR comparison  Batch correction  Bio conservation     Total  \\\n",
       "0        0.688592          0.584277          0.675323  0.638904   \n",
       "2        0.553700          0.537437          0.684808  0.625860   \n",
       "4        0.590495          0.564803          0.689785  0.639792   \n",
       "\n",
       "                                      trainer  \n",
       "0                            scvi-latent_dim8  \n",
       "2                 scpoli-original-latent_dim8  \n",
       "4  barlow-recheck-num-prot-16_hidden-64_bs-64  "
      ]
     },
     "execution_count": 25,
     "metadata": {},
     "output_type": "execute_result"
    }
   ],
   "source": [
    "drop_redundant_rows(all_results_new)"
   ]
  },
  {
   "cell_type": "markdown",
   "id": "21fcd442-2f44-4f0f-a10a-a6f9847486b9",
   "metadata": {
    "jp-MarkdownHeadingCollapsed": true
   },
   "source": [
    "# classification metrics, no cross val"
   ]
  },
  {
   "cell_type": "code",
   "execution_count": 27,
   "id": "888ad728-cf85-422b-8cfe-1106963aece1",
   "metadata": {},
   "outputs": [],
   "source": [
    "def linear_classification(self):\n",
    "    _, _, X = self.get_ref_query_latent(True)\n",
    "    labels = self.dataset.adata.obs.cell_type.values\n",
    "    return train_linear_classifier(X, labels)"
   ]
  },
  {
   "cell_type": "code",
   "execution_count": 28,
   "id": "15deb307-30c0-4e18-ac31-7340c6adf696",
   "metadata": {
    "collapsed": true,
    "jupyter": {
     "outputs_hidden": true
    }
   },
   "outputs": [
    {
     "name": "stdout",
     "output_type": "stream",
     "text": [
      "\u001b[34mINFO    \u001b[0m File \u001b[35m/home/icb/fatemehs.hashemig/models/\u001b[0m\u001b[35m/pbmc-immune/scvi-latent_dim8/\u001b[0m\u001b[95mmodel.pt\u001b[0m already downloaded         \n"
     ]
    },
    {
     "name": "stderr",
     "output_type": "stream",
     "text": [
      "/home/icb/fatemehs.hashemig/miniconda3/envs/interpretable-ssl/lib/python3.12/multiprocessing/popen_fork.py:66: RuntimeWarning: os.fork() was called. os.fork() is incompatible with multithreaded code, and JAX is multithreaded, so this will likely lead to a deadlock.\n",
      "  self.pid = os.fork()\n",
      "Multiprocessing is handled by SLURM.\n",
      "GPU available: True (cuda), used: True\n",
      "TPU available: False, using: 0 TPU cores\n",
      "IPU available: False, using: 0 IPUs\n",
      "HPU available: False, using: 0 HPUs\n",
      "/home/icb/fatemehs.hashemig/miniconda3/envs/interpretable-ssl/lib/python3.12/multiprocessing/popen_fork.py:66: RuntimeWarning: os.fork() was called. os.fork() is incompatible with multithreaded code, and JAX is multithreaded, so this will likely lead to a deadlock.\n",
      "  self.pid = os.fork()\n",
      "LOCAL_RANK: 0 - CUDA_VISIBLE_DEVICES: [MIG-887fd1e0-585a-56c2-81f3-94f71fe4e1e3]\n",
      "SLURM auto-requeueing enabled. Setting signal handlers.\n"
     ]
    },
    {
     "name": "stdout",
     "output_type": "stream",
     "text": [
      "Epoch 10/10: 100%|██████████| 10/10 [00:03<00:00,  3.31it/s, loss=7.09e+03, v_num=1]"
     ]
    },
    {
     "name": "stderr",
     "output_type": "stream",
     "text": [
      "`Trainer.fit` stopped: `max_epochs=10` reached.\n"
     ]
    },
    {
     "name": "stdout",
     "output_type": "stream",
     "text": [
      "Epoch 10/10: 100%|██████████| 10/10 [00:03<00:00,  3.10it/s, loss=7.09e+03, v_num=1]\n",
      "\u001b[34mINFO    \u001b[0m Input AnnData not setup with scvi-tools. attempting to transfer AnnData setup                             \n",
      "\u001b[34mINFO    \u001b[0m Input AnnData not setup with scvi-tools. attempting to transfer AnnData setup                             \n"
     ]
    },
    {
     "name": "stderr",
     "output_type": "stream",
     "text": [
      "INFO:scarches.trainers.scpoli.trainer:GPU available: True, GPU used: True\n"
     ]
    },
    {
     "name": "stdout",
     "output_type": "stream",
     "text": [
      "Embedding dictionary:\n",
      " \tNum conditions: [3]\n",
      " \tEmbedding dim: [10]\n",
      "Encoder Architecture:\n",
      "\tInput Layer in, out and cond: 4000 64 10\n",
      "\tMean/Var Layer in/out: 64 8\n",
      "Decoder Architecture:\n",
      "\tFirst Layer in, out and cond:  8 64 10\n",
      "\tOutput Layer in/out:  64 4000 \n",
      "\n",
      "Embedding dictionary:\n",
      " \tNum conditions: [5]\n",
      " \tEmbedding dim: [10]\n",
      "Encoder Architecture:\n",
      "\tInput Layer in, out and cond: 4000 64 10\n",
      "\tMean/Var Layer in/out: 64 8\n",
      "Decoder Architecture:\n",
      "\tFirst Layer in, out and cond:  8 64 10\n",
      "\tOutput Layer in/out:  64 4000 \n",
      "\n",
      "Initializing dataloaders\n",
      "Starting training\n",
      " |████████████████████| 100.0%  - val_loss: 4441.87 - val_cvae_loss: 4441.87\n"
     ]
    },
    {
     "name": "stderr",
     "output_type": "stream",
     "text": [
      "/home/icb/fatemehs.hashemig/miniconda3/envs/interpretable-ssl/lib/python3.12/site-packages/sklearn/metrics/_classification.py:1509: UndefinedMetricWarning: Precision is ill-defined and being set to 0.0 in labels with no predicted samples. Use `zero_division` parameter to control this behavior.\n",
      "  _warn_prf(average, modifier, f\"{metric.capitalize()} is\", len(result))\n",
      "/home/icb/fatemehs.hashemig/miniconda3/envs/interpretable-ssl/lib/python3.12/site-packages/sklearn/metrics/_classification.py:1509: UndefinedMetricWarning: Precision is ill-defined and being set to 0.0 in labels with no predicted samples. Use `zero_division` parameter to control this behavior.\n",
      "  _warn_prf(average, modifier, f\"{metric.capitalize()} is\", len(result))\n",
      "/home/icb/fatemehs.hashemig/miniconda3/envs/interpretable-ssl/lib/python3.12/site-packages/sklearn/metrics/_classification.py:1509: UndefinedMetricWarning: Precision is ill-defined and being set to 0.0 in labels with no predicted samples. Use `zero_division` parameter to control this behavior.\n",
      "  _warn_prf(average, modifier, f\"{metric.capitalize()} is\", len(result))\n"
     ]
    },
    {
     "name": "stdout",
     "output_type": "stream",
     "text": [
      "Embedding dictionary:\n",
      " \tNum conditions: [3]\n",
      " \tEmbedding dim: [10]\n",
      "Encoder Architecture:\n",
      "\tInput Layer in, out and cond: 4000 64 10\n",
      "\tMean/Var Layer in/out: 64 8\n",
      "Decoder Architecture:\n",
      "\tFirst Layer in, out and cond:  8 64 10\n",
      "\tOutput Layer in/out:  64 4000 \n",
      "\n"
     ]
    },
    {
     "name": "stderr",
     "output_type": "stream",
     "text": [
      "INFO:scarches.trainers.scpoli.trainer:GPU available: True, GPU used: True\n"
     ]
    },
    {
     "name": "stdout",
     "output_type": "stream",
     "text": [
      "Embedding dictionary:\n",
      " \tNum conditions: [5]\n",
      " \tEmbedding dim: [10]\n",
      "Encoder Architecture:\n",
      "\tInput Layer in, out and cond: 4000 64 10\n",
      "\tMean/Var Layer in/out: 64 8\n",
      "Decoder Architecture:\n",
      "\tFirst Layer in, out and cond:  8 64 10\n",
      "\tOutput Layer in/out:  64 4000 \n",
      "\n",
      "Initializing dataloaders\n",
      "Starting training\n",
      " |████████████████████| 100.0%  - val_loss: 4834.74 - val_cvae_loss: 4834.74\n"
     ]
    }
   ],
   "source": [
    "all_results_new = pd.DataFrame()\n",
    "for trainer, name in zip(trainers, names):\n",
    "    trainer.fine_tuning_epochs = 10\n",
    "    df = linear_classification(trainer)\n",
    "    df['trainer'] = name\n",
    "    \n",
    "    all_results_new = pd.concat([all_results_new, df], ignore_index=True)"
   ]
  },
  {
   "cell_type": "code",
   "execution_count": 29,
   "id": "234aca3e-344b-4cf6-9a95-47961f0f3b8d",
   "metadata": {},
   "outputs": [
    {
     "data": {
      "text/html": [
       "<div>\n",
       "<style scoped>\n",
       "    .dataframe tbody tr th:only-of-type {\n",
       "        vertical-align: middle;\n",
       "    }\n",
       "\n",
       "    .dataframe tbody tr th {\n",
       "        vertical-align: top;\n",
       "    }\n",
       "\n",
       "    .dataframe thead th {\n",
       "        text-align: right;\n",
       "    }\n",
       "</style>\n",
       "<table border=\"1\" class=\"dataframe\">\n",
       "  <thead>\n",
       "    <tr style=\"text-align: right;\">\n",
       "      <th></th>\n",
       "      <th>CD10+ B cells</th>\n",
       "      <th>CD14+ Monocytes</th>\n",
       "      <th>CD16+ Monocytes</th>\n",
       "      <th>CD20+ B cells</th>\n",
       "      <th>CD4+ T cells</th>\n",
       "      <th>CD8+ T cells</th>\n",
       "      <th>Erythrocytes</th>\n",
       "      <th>Erythroid progenitors</th>\n",
       "      <th>HSPCs</th>\n",
       "      <th>Megakaryocyte progenitors</th>\n",
       "      <th>Monocyte progenitors</th>\n",
       "      <th>Monocyte-derived dendritic cells</th>\n",
       "      <th>NK cells</th>\n",
       "      <th>NKT cells</th>\n",
       "      <th>Plasma cells</th>\n",
       "      <th>Plasmacytoid dendritic cells</th>\n",
       "      <th>accuracy</th>\n",
       "      <th>macro avg</th>\n",
       "      <th>weighted avg</th>\n",
       "      <th>trainer</th>\n",
       "    </tr>\n",
       "  </thead>\n",
       "  <tbody>\n",
       "    <tr>\n",
       "      <th>0</th>\n",
       "      <td>0.951220</td>\n",
       "      <td>0.961334</td>\n",
       "      <td>0.881443</td>\n",
       "      <td>0.998249</td>\n",
       "      <td>0.872758</td>\n",
       "      <td>0.696246</td>\n",
       "      <td>0.932692</td>\n",
       "      <td>0.890244</td>\n",
       "      <td>0.776699</td>\n",
       "      <td>0.836364</td>\n",
       "      <td>0.734940</td>\n",
       "      <td>0.868852</td>\n",
       "      <td>0.879518</td>\n",
       "      <td>0.792279</td>\n",
       "      <td>0.960000</td>\n",
       "      <td>1.000000</td>\n",
       "      <td>0.889138</td>\n",
       "      <td>0.877052</td>\n",
       "      <td>0.885140</td>\n",
       "      <td>scvi-latent_dim8</td>\n",
       "    </tr>\n",
       "    <tr>\n",
       "      <th>1</th>\n",
       "      <td>0.951220</td>\n",
       "      <td>0.977641</td>\n",
       "      <td>0.859296</td>\n",
       "      <td>0.991304</td>\n",
       "      <td>0.950045</td>\n",
       "      <td>0.466819</td>\n",
       "      <td>0.970000</td>\n",
       "      <td>0.784946</td>\n",
       "      <td>0.842105</td>\n",
       "      <td>0.851852</td>\n",
       "      <td>0.709302</td>\n",
       "      <td>0.787129</td>\n",
       "      <td>0.795207</td>\n",
       "      <td>0.785064</td>\n",
       "      <td>0.923077</td>\n",
       "      <td>0.977011</td>\n",
       "      <td>0.889138</td>\n",
       "      <td>0.851376</td>\n",
       "      <td>0.889138</td>\n",
       "      <td>scvi-latent_dim8</td>\n",
       "    </tr>\n",
       "    <tr>\n",
       "      <th>2</th>\n",
       "      <td>0.951220</td>\n",
       "      <td>0.969419</td>\n",
       "      <td>0.870229</td>\n",
       "      <td>0.994764</td>\n",
       "      <td>0.909763</td>\n",
       "      <td>0.558904</td>\n",
       "      <td>0.950980</td>\n",
       "      <td>0.834286</td>\n",
       "      <td>0.808081</td>\n",
       "      <td>0.844037</td>\n",
       "      <td>0.721893</td>\n",
       "      <td>0.825974</td>\n",
       "      <td>0.835240</td>\n",
       "      <td>0.788655</td>\n",
       "      <td>0.941176</td>\n",
       "      <td>0.988372</td>\n",
       "      <td>0.889138</td>\n",
       "      <td>0.862062</td>\n",
       "      <td>0.884811</td>\n",
       "      <td>scvi-latent_dim8</td>\n",
       "    </tr>\n",
       "    <tr>\n",
       "      <th>3</th>\n",
       "      <td>41.000000</td>\n",
       "      <td>1297.000000</td>\n",
       "      <td>199.000000</td>\n",
       "      <td>575.000000</td>\n",
       "      <td>2202.000000</td>\n",
       "      <td>437.000000</td>\n",
       "      <td>300.000000</td>\n",
       "      <td>93.000000</td>\n",
       "      <td>95.000000</td>\n",
       "      <td>54.000000</td>\n",
       "      <td>86.000000</td>\n",
       "      <td>202.000000</td>\n",
       "      <td>459.000000</td>\n",
       "      <td>549.000000</td>\n",
       "      <td>26.000000</td>\n",
       "      <td>87.000000</td>\n",
       "      <td>0.889138</td>\n",
       "      <td>6702.000000</td>\n",
       "      <td>6702.000000</td>\n",
       "      <td>scvi-latent_dim8</td>\n",
       "    </tr>\n",
       "    <tr>\n",
       "      <th>4</th>\n",
       "      <td>0.952381</td>\n",
       "      <td>0.989860</td>\n",
       "      <td>0.819820</td>\n",
       "      <td>0.998252</td>\n",
       "      <td>0.895976</td>\n",
       "      <td>0.738462</td>\n",
       "      <td>0.954545</td>\n",
       "      <td>0.792079</td>\n",
       "      <td>0.828829</td>\n",
       "      <td>0.926829</td>\n",
       "      <td>0.881579</td>\n",
       "      <td>0.903743</td>\n",
       "      <td>0.841880</td>\n",
       "      <td>0.833977</td>\n",
       "      <td>0.000000</td>\n",
       "      <td>0.761062</td>\n",
       "      <td>0.902268</td>\n",
       "      <td>0.819955</td>\n",
       "      <td>0.897248</td>\n",
       "      <td>scpoli-original-latent_dim8</td>\n",
       "    </tr>\n",
       "    <tr>\n",
       "      <th>5</th>\n",
       "      <td>0.975610</td>\n",
       "      <td>0.978412</td>\n",
       "      <td>0.914573</td>\n",
       "      <td>0.993043</td>\n",
       "      <td>0.950500</td>\n",
       "      <td>0.549199</td>\n",
       "      <td>0.980000</td>\n",
       "      <td>0.860215</td>\n",
       "      <td>0.968421</td>\n",
       "      <td>0.703704</td>\n",
       "      <td>0.779070</td>\n",
       "      <td>0.836634</td>\n",
       "      <td>0.858388</td>\n",
       "      <td>0.786885</td>\n",
       "      <td>0.000000</td>\n",
       "      <td>0.988506</td>\n",
       "      <td>0.902268</td>\n",
       "      <td>0.820197</td>\n",
       "      <td>0.902268</td>\n",
       "      <td>scpoli-original-latent_dim8</td>\n",
       "    </tr>\n",
       "    <tr>\n",
       "      <th>6</th>\n",
       "      <td>0.963855</td>\n",
       "      <td>0.984102</td>\n",
       "      <td>0.864608</td>\n",
       "      <td>0.995641</td>\n",
       "      <td>0.922433</td>\n",
       "      <td>0.629921</td>\n",
       "      <td>0.967105</td>\n",
       "      <td>0.824742</td>\n",
       "      <td>0.893204</td>\n",
       "      <td>0.800000</td>\n",
       "      <td>0.827160</td>\n",
       "      <td>0.868895</td>\n",
       "      <td>0.850054</td>\n",
       "      <td>0.809747</td>\n",
       "      <td>0.000000</td>\n",
       "      <td>0.860000</td>\n",
       "      <td>0.902268</td>\n",
       "      <td>0.816342</td>\n",
       "      <td>0.897942</td>\n",
       "      <td>scpoli-original-latent_dim8</td>\n",
       "    </tr>\n",
       "    <tr>\n",
       "      <th>7</th>\n",
       "      <td>41.000000</td>\n",
       "      <td>1297.000000</td>\n",
       "      <td>199.000000</td>\n",
       "      <td>575.000000</td>\n",
       "      <td>2202.000000</td>\n",
       "      <td>437.000000</td>\n",
       "      <td>300.000000</td>\n",
       "      <td>93.000000</td>\n",
       "      <td>95.000000</td>\n",
       "      <td>54.000000</td>\n",
       "      <td>86.000000</td>\n",
       "      <td>202.000000</td>\n",
       "      <td>459.000000</td>\n",
       "      <td>549.000000</td>\n",
       "      <td>26.000000</td>\n",
       "      <td>87.000000</td>\n",
       "      <td>0.902268</td>\n",
       "      <td>6702.000000</td>\n",
       "      <td>6702.000000</td>\n",
       "      <td>scpoli-original-latent_dim8</td>\n",
       "    </tr>\n",
       "    <tr>\n",
       "      <th>8</th>\n",
       "      <td>0.968750</td>\n",
       "      <td>0.953020</td>\n",
       "      <td>0.846154</td>\n",
       "      <td>0.991319</td>\n",
       "      <td>0.842084</td>\n",
       "      <td>0.620690</td>\n",
       "      <td>0.953488</td>\n",
       "      <td>0.888889</td>\n",
       "      <td>0.892473</td>\n",
       "      <td>0.777778</td>\n",
       "      <td>0.888889</td>\n",
       "      <td>0.852632</td>\n",
       "      <td>0.868182</td>\n",
       "      <td>0.805447</td>\n",
       "      <td>1.000000</td>\n",
       "      <td>0.966292</td>\n",
       "      <td>0.878693</td>\n",
       "      <td>0.882255</td>\n",
       "      <td>0.870579</td>\n",
       "      <td>barlow-recheck-num-prot-16_hidden-64_bs-64</td>\n",
       "    </tr>\n",
       "    <tr>\n",
       "      <th>9</th>\n",
       "      <td>0.756098</td>\n",
       "      <td>0.985351</td>\n",
       "      <td>0.829146</td>\n",
       "      <td>0.993043</td>\n",
       "      <td>0.954133</td>\n",
       "      <td>0.288330</td>\n",
       "      <td>0.956667</td>\n",
       "      <td>0.774194</td>\n",
       "      <td>0.873684</td>\n",
       "      <td>0.907407</td>\n",
       "      <td>0.651163</td>\n",
       "      <td>0.801980</td>\n",
       "      <td>0.832244</td>\n",
       "      <td>0.754098</td>\n",
       "      <td>1.000000</td>\n",
       "      <td>0.988506</td>\n",
       "      <td>0.878693</td>\n",
       "      <td>0.834128</td>\n",
       "      <td>0.878693</td>\n",
       "      <td>barlow-recheck-num-prot-16_hidden-64_bs-64</td>\n",
       "    </tr>\n",
       "    <tr>\n",
       "      <th>10</th>\n",
       "      <td>0.849315</td>\n",
       "      <td>0.968916</td>\n",
       "      <td>0.837563</td>\n",
       "      <td>0.992181</td>\n",
       "      <td>0.894614</td>\n",
       "      <td>0.393750</td>\n",
       "      <td>0.955075</td>\n",
       "      <td>0.827586</td>\n",
       "      <td>0.882979</td>\n",
       "      <td>0.837607</td>\n",
       "      <td>0.751678</td>\n",
       "      <td>0.826531</td>\n",
       "      <td>0.849833</td>\n",
       "      <td>0.778928</td>\n",
       "      <td>1.000000</td>\n",
       "      <td>0.977273</td>\n",
       "      <td>0.878693</td>\n",
       "      <td>0.851489</td>\n",
       "      <td>0.868938</td>\n",
       "      <td>barlow-recheck-num-prot-16_hidden-64_bs-64</td>\n",
       "    </tr>\n",
       "    <tr>\n",
       "      <th>11</th>\n",
       "      <td>41.000000</td>\n",
       "      <td>1297.000000</td>\n",
       "      <td>199.000000</td>\n",
       "      <td>575.000000</td>\n",
       "      <td>2202.000000</td>\n",
       "      <td>437.000000</td>\n",
       "      <td>300.000000</td>\n",
       "      <td>93.000000</td>\n",
       "      <td>95.000000</td>\n",
       "      <td>54.000000</td>\n",
       "      <td>86.000000</td>\n",
       "      <td>202.000000</td>\n",
       "      <td>459.000000</td>\n",
       "      <td>549.000000</td>\n",
       "      <td>26.000000</td>\n",
       "      <td>87.000000</td>\n",
       "      <td>0.878693</td>\n",
       "      <td>6702.000000</td>\n",
       "      <td>6702.000000</td>\n",
       "      <td>barlow-recheck-num-prot-16_hidden-64_bs-64</td>\n",
       "    </tr>\n",
       "  </tbody>\n",
       "</table>\n",
       "</div>"
      ],
      "text/plain": [
       "    CD10+ B cells  CD14+ Monocytes  CD16+ Monocytes  CD20+ B cells  \\\n",
       "0        0.951220         0.961334         0.881443       0.998249   \n",
       "1        0.951220         0.977641         0.859296       0.991304   \n",
       "2        0.951220         0.969419         0.870229       0.994764   \n",
       "3       41.000000      1297.000000       199.000000     575.000000   \n",
       "4        0.952381         0.989860         0.819820       0.998252   \n",
       "5        0.975610         0.978412         0.914573       0.993043   \n",
       "6        0.963855         0.984102         0.864608       0.995641   \n",
       "7       41.000000      1297.000000       199.000000     575.000000   \n",
       "8        0.968750         0.953020         0.846154       0.991319   \n",
       "9        0.756098         0.985351         0.829146       0.993043   \n",
       "10       0.849315         0.968916         0.837563       0.992181   \n",
       "11      41.000000      1297.000000       199.000000     575.000000   \n",
       "\n",
       "    CD4+ T cells  CD8+ T cells  Erythrocytes  Erythroid progenitors  \\\n",
       "0       0.872758      0.696246      0.932692               0.890244   \n",
       "1       0.950045      0.466819      0.970000               0.784946   \n",
       "2       0.909763      0.558904      0.950980               0.834286   \n",
       "3    2202.000000    437.000000    300.000000              93.000000   \n",
       "4       0.895976      0.738462      0.954545               0.792079   \n",
       "5       0.950500      0.549199      0.980000               0.860215   \n",
       "6       0.922433      0.629921      0.967105               0.824742   \n",
       "7    2202.000000    437.000000    300.000000              93.000000   \n",
       "8       0.842084      0.620690      0.953488               0.888889   \n",
       "9       0.954133      0.288330      0.956667               0.774194   \n",
       "10      0.894614      0.393750      0.955075               0.827586   \n",
       "11   2202.000000    437.000000    300.000000              93.000000   \n",
       "\n",
       "        HSPCs  Megakaryocyte progenitors  Monocyte progenitors  \\\n",
       "0    0.776699                   0.836364              0.734940   \n",
       "1    0.842105                   0.851852              0.709302   \n",
       "2    0.808081                   0.844037              0.721893   \n",
       "3   95.000000                  54.000000             86.000000   \n",
       "4    0.828829                   0.926829              0.881579   \n",
       "5    0.968421                   0.703704              0.779070   \n",
       "6    0.893204                   0.800000              0.827160   \n",
       "7   95.000000                  54.000000             86.000000   \n",
       "8    0.892473                   0.777778              0.888889   \n",
       "9    0.873684                   0.907407              0.651163   \n",
       "10   0.882979                   0.837607              0.751678   \n",
       "11  95.000000                  54.000000             86.000000   \n",
       "\n",
       "    Monocyte-derived dendritic cells    NK cells   NKT cells  Plasma cells  \\\n",
       "0                           0.868852    0.879518    0.792279      0.960000   \n",
       "1                           0.787129    0.795207    0.785064      0.923077   \n",
       "2                           0.825974    0.835240    0.788655      0.941176   \n",
       "3                         202.000000  459.000000  549.000000     26.000000   \n",
       "4                           0.903743    0.841880    0.833977      0.000000   \n",
       "5                           0.836634    0.858388    0.786885      0.000000   \n",
       "6                           0.868895    0.850054    0.809747      0.000000   \n",
       "7                         202.000000  459.000000  549.000000     26.000000   \n",
       "8                           0.852632    0.868182    0.805447      1.000000   \n",
       "9                           0.801980    0.832244    0.754098      1.000000   \n",
       "10                          0.826531    0.849833    0.778928      1.000000   \n",
       "11                        202.000000  459.000000  549.000000     26.000000   \n",
       "\n",
       "    Plasmacytoid dendritic cells  accuracy    macro avg  weighted avg  \\\n",
       "0                       1.000000  0.889138     0.877052      0.885140   \n",
       "1                       0.977011  0.889138     0.851376      0.889138   \n",
       "2                       0.988372  0.889138     0.862062      0.884811   \n",
       "3                      87.000000  0.889138  6702.000000   6702.000000   \n",
       "4                       0.761062  0.902268     0.819955      0.897248   \n",
       "5                       0.988506  0.902268     0.820197      0.902268   \n",
       "6                       0.860000  0.902268     0.816342      0.897942   \n",
       "7                      87.000000  0.902268  6702.000000   6702.000000   \n",
       "8                       0.966292  0.878693     0.882255      0.870579   \n",
       "9                       0.988506  0.878693     0.834128      0.878693   \n",
       "10                      0.977273  0.878693     0.851489      0.868938   \n",
       "11                     87.000000  0.878693  6702.000000   6702.000000   \n",
       "\n",
       "                                       trainer  \n",
       "0                             scvi-latent_dim8  \n",
       "1                             scvi-latent_dim8  \n",
       "2                             scvi-latent_dim8  \n",
       "3                             scvi-latent_dim8  \n",
       "4                  scpoli-original-latent_dim8  \n",
       "5                  scpoli-original-latent_dim8  \n",
       "6                  scpoli-original-latent_dim8  \n",
       "7                  scpoli-original-latent_dim8  \n",
       "8   barlow-recheck-num-prot-16_hidden-64_bs-64  \n",
       "9   barlow-recheck-num-prot-16_hidden-64_bs-64  \n",
       "10  barlow-recheck-num-prot-16_hidden-64_bs-64  \n",
       "11  barlow-recheck-num-prot-16_hidden-64_bs-64  "
      ]
     },
     "execution_count": 29,
     "metadata": {},
     "output_type": "execute_result"
    }
   ],
   "source": [
    "all_results_new"
   ]
  },
  {
   "cell_type": "markdown",
   "id": "f86a9d00-2ae6-46a9-bf9f-9aec8c5f493f",
   "metadata": {
    "jp-MarkdownHeadingCollapsed": true
   },
   "source": [
    "# check using less fine-tuning (fine_tuning_epochs = 5)"
   ]
  },
  {
   "cell_type": "code",
   "execution_count": 11,
   "id": "7aa6f22e-aa9c-41f2-a9d6-c85ef4599658",
   "metadata": {
    "scrolled": true
   },
   "outputs": [
    {
     "name": "stdout",
     "output_type": "stream",
     "text": [
      "running custom cross validation evaluation\n",
      "Evaluating fold 1\n",
      "\u001b[34mINFO    \u001b[0m File \u001b[35m/home/icb/fatemehs.hashemig/models/\u001b[0m\u001b[35m/pbmc-immune/\u001b[0m\u001b[35m/scvi-latent_dim8_ccross-val/fold-1/\u001b[0m\u001b[95mmodel.pt\u001b[0m already \n",
      "         downloaded                                                                                                \n"
     ]
    },
    {
     "name": "stderr",
     "output_type": "stream",
     "text": [
      "/home/icb/fatemehs.hashemig/miniconda3/envs/interpretable-ssl/lib/python3.12/multiprocessing/popen_fork.py:66: RuntimeWarning: os.fork() was called. os.fork() is incompatible with multithreaded code, and JAX is multithreaded, so this will likely lead to a deadlock.\n",
      "  self.pid = os.fork()\n",
      "Multiprocessing is handled by SLURM.\n",
      "GPU available: True (cuda), used: True\n",
      "TPU available: False, using: 0 TPU cores\n",
      "IPU available: False, using: 0 IPUs\n",
      "HPU available: False, using: 0 HPUs\n",
      "/home/icb/fatemehs.hashemig/miniconda3/envs/interpretable-ssl/lib/python3.12/multiprocessing/popen_fork.py:66: RuntimeWarning: os.fork() was called. os.fork() is incompatible with multithreaded code, and JAX is multithreaded, so this will likely lead to a deadlock.\n",
      "  self.pid = os.fork()\n",
      "LOCAL_RANK: 0 - CUDA_VISIBLE_DEVICES: [MIG-887fd1e0-585a-56c2-81f3-94f71fe4e1e3]\n",
      "SLURM auto-requeueing enabled. Setting signal handlers.\n"
     ]
    },
    {
     "name": "stdout",
     "output_type": "stream",
     "text": [
      "Epoch 5/5: 100%|██████████| 5/5 [00:11<00:00,  1.57s/it, loss=993, v_num=1]     "
     ]
    },
    {
     "name": "stderr",
     "output_type": "stream",
     "text": [
      "`Trainer.fit` stopped: `max_epochs=5` reached.\n"
     ]
    },
    {
     "name": "stdout",
     "output_type": "stream",
     "text": [
      "Epoch 5/5: 100%|██████████| 5/5 [00:11<00:00,  2.24s/it, loss=993, v_num=1]\n",
      "\u001b[34mINFO    \u001b[0m Input AnnData not setup with scvi-tools. attempting to transfer AnnData setup                             \n",
      "\u001b[34mINFO    \u001b[0m Input AnnData not setup with scvi-tools. attempting to transfer AnnData setup                             \n"
     ]
    },
    {
     "name": "stderr",
     "output_type": "stream",
     "text": [
      "Computing neighbors: 100%|██████████| 1/1 [00:26<00:00, 26.14s/it]\n",
      "Embeddings:   0%|\u001b[32m          \u001b[0m| 0/1 [00:00<?, ?it/s]\n",
      "Metrics:   0%|\u001b[34m          \u001b[0m| 0/10 [00:00<?, ?it/s]\u001b[A\n",
      "Metrics:   0%|\u001b[34m          \u001b[0m| 0/10 [00:00<?, ?it/s, Bio conservation: isolated_labels]\u001b[A\n",
      "Metrics:  10%|\u001b[34m█         \u001b[0m| 1/10 [00:19<02:57, 19.75s/it, Bio conservation: isolated_labels]\u001b[A\n",
      "Metrics:  10%|\u001b[34m█         \u001b[0m| 1/10 [00:19<02:57, 19.75s/it, Bio conservation: nmi_ari_cluster_labels_kmeans]\u001b[A\n",
      "Metrics:  20%|\u001b[34m██        \u001b[0m| 2/10 [00:22<01:17,  9.66s/it, Bio conservation: nmi_ari_cluster_labels_kmeans]\u001b[A\n",
      "Metrics:  20%|\u001b[34m██        \u001b[0m| 2/10 [00:22<01:17,  9.66s/it, Bio conservation: silhouette_label]             \u001b[A\n",
      "Metrics:  30%|\u001b[34m███       \u001b[0m| 3/10 [00:23<00:38,  5.55s/it, Bio conservation: silhouette_label]\u001b[A\n",
      "Metrics:  30%|\u001b[34m███       \u001b[0m| 3/10 [00:23<00:38,  5.55s/it, Bio conservation: clisi_knn]       \u001b[A\n",
      "Metrics:  40%|\u001b[34m████      \u001b[0m| 4/10 [00:24<00:22,  3.83s/it, Bio conservation: clisi_knn]\u001b[A\n",
      "Metrics:  40%|\u001b[34m████      \u001b[0m| 4/10 [00:24<00:22,  3.83s/it, Batch correction: silhouette_batch]\u001b[A\n",
      "Metrics:  50%|\u001b[34m█████     \u001b[0m| 5/10 [00:30<00:23,  4.77s/it, Batch correction: silhouette_batch]\u001b[A\n",
      "Metrics:  50%|\u001b[34m█████     \u001b[0m| 5/10 [00:30<00:23,  4.77s/it, Batch correction: ilisi_knn]       \u001b[A\n",
      "Metrics:  60%|\u001b[34m██████    \u001b[0m| 6/10 [00:30<00:12,  3.21s/it, Batch correction: ilisi_knn]\u001b[A\n",
      "Metrics:  60%|\u001b[34m██████    \u001b[0m| 6/10 [00:30<00:12,  3.21s/it, Batch correction: kbet_per_label]\u001b[A\n",
      "Metrics:  70%|\u001b[34m███████   \u001b[0m| 7/10 [00:48<00:23,  7.81s/it, Batch correction: kbet_per_label]\u001b[A\n",
      "Metrics:  70%|\u001b[34m███████   \u001b[0m| 7/10 [00:48<00:23,  7.81s/it, Batch correction: graph_connectivity]\u001b[A\n",
      "Metrics:  80%|\u001b[34m████████  \u001b[0m| 8/10 [00:48<00:15,  7.81s/it, Batch correction: pcr_comparison]    \u001b[A\n",
      "Embeddings: 100%|\u001b[32m██████████\u001b[0m| 1/1 [00:49<00:00, 49.77s/it]atch correction: pcr_comparison]\u001b[A\n",
      "\n",
      "                                                                                         \u001b[A/ictstr01/home/icb/fatemehs.hashemig/codes/interpretable-ssl/interpretable_ssl/trainers/trainer.py:314: FutureWarning: The frame.append method is deprecated and will be removed from pandas in a future version. Use pandas.concat instead.\n",
      "  overall_df = overall_df.append(fold_df, ignore_index=True)\n"
     ]
    },
    {
     "name": "stdout",
     "output_type": "stream",
     "text": [
      "Evaluating fold 2\n",
      "\u001b[34mINFO    \u001b[0m File \u001b[35m/home/icb/fatemehs.hashemig/models/\u001b[0m\u001b[35m/pbmc-immune/\u001b[0m\u001b[35m/scvi-latent_dim8_ccross-val/fold-2/\u001b[0m\u001b[95mmodel.pt\u001b[0m already \n",
      "         downloaded                                                                                                \n"
     ]
    },
    {
     "name": "stderr",
     "output_type": "stream",
     "text": [
      "/home/icb/fatemehs.hashemig/miniconda3/envs/interpretable-ssl/lib/python3.12/multiprocessing/popen_fork.py:66: RuntimeWarning: os.fork() was called. os.fork() is incompatible with multithreaded code, and JAX is multithreaded, so this will likely lead to a deadlock.\n",
      "  self.pid = os.fork()\n",
      "Multiprocessing is handled by SLURM.\n",
      "GPU available: True (cuda), used: True\n",
      "TPU available: False, using: 0 TPU cores\n",
      "IPU available: False, using: 0 IPUs\n",
      "HPU available: False, using: 0 HPUs\n",
      "/home/icb/fatemehs.hashemig/miniconda3/envs/interpretable-ssl/lib/python3.12/multiprocessing/popen_fork.py:66: RuntimeWarning: os.fork() was called. os.fork() is incompatible with multithreaded code, and JAX is multithreaded, so this will likely lead to a deadlock.\n",
      "  self.pid = os.fork()\n",
      "LOCAL_RANK: 0 - CUDA_VISIBLE_DEVICES: [MIG-887fd1e0-585a-56c2-81f3-94f71fe4e1e3]\n",
      "SLURM auto-requeueing enabled. Setting signal handlers.\n"
     ]
    },
    {
     "name": "stdout",
     "output_type": "stream",
     "text": [
      "Epoch 5/5: 100%|██████████| 5/5 [00:05<00:00,  1.01it/s, loss=1.22e+03, v_num=1]"
     ]
    },
    {
     "name": "stderr",
     "output_type": "stream",
     "text": [
      "`Trainer.fit` stopped: `max_epochs=5` reached.\n"
     ]
    },
    {
     "name": "stdout",
     "output_type": "stream",
     "text": [
      "Epoch 5/5: 100%|██████████| 5/5 [00:05<00:00,  1.03s/it, loss=1.22e+03, v_num=1]\n",
      "\u001b[34mINFO    \u001b[0m AnnData object appears to be a copy. Attempting to transfer setup.                                        \n",
      "\u001b[34mINFO    \u001b[0m AnnData object appears to be a copy. Attempting to transfer setup.                                        \n"
     ]
    },
    {
     "name": "stderr",
     "output_type": "stream",
     "text": [
      "Computing neighbors: 100%|██████████| 1/1 [00:08<00:00,  8.03s/it]\n",
      "Embeddings:   0%|\u001b[32m          \u001b[0m| 0/1 [00:00<?, ?it/s]\n",
      "Metrics:   0%|\u001b[34m          \u001b[0m| 0/10 [00:00<?, ?it/s]\u001b[A\n",
      "Metrics:   0%|\u001b[34m          \u001b[0m| 0/10 [00:00<?, ?it/s, Bio conservation: isolated_labels]\u001b[A\n",
      "Metrics:  10%|\u001b[34m█         \u001b[0m| 1/10 [00:01<00:15,  1.71s/it, Bio conservation: isolated_labels]\u001b[A\n",
      "Metrics:  10%|\u001b[34m█         \u001b[0m| 1/10 [00:01<00:15,  1.71s/it, Bio conservation: nmi_ari_cluster_labels_kmeans]\u001b[A\n",
      "Metrics:  20%|\u001b[34m██        \u001b[0m| 2/10 [00:03<00:16,  2.02s/it, Bio conservation: nmi_ari_cluster_labels_kmeans]\u001b[A\n",
      "Metrics:  20%|\u001b[34m██        \u001b[0m| 2/10 [00:03<00:16,  2.02s/it, Bio conservation: silhouette_label]             \u001b[A\n",
      "Metrics:  30%|\u001b[34m███       \u001b[0m| 3/10 [00:04<00:10,  1.51s/it, Bio conservation: silhouette_label]\u001b[A\n",
      "Metrics:  30%|\u001b[34m███       \u001b[0m| 3/10 [00:04<00:10,  1.51s/it, Bio conservation: clisi_knn]       \u001b[A\n",
      "Metrics:  40%|\u001b[34m████      \u001b[0m| 4/10 [00:05<00:07,  1.19s/it, Bio conservation: clisi_knn]\u001b[A\n",
      "Metrics:  40%|\u001b[34m████      \u001b[0m| 4/10 [00:05<00:07,  1.19s/it, Batch correction: silhouette_batch]\u001b[A\n",
      "Metrics:  50%|\u001b[34m█████     \u001b[0m| 5/10 [00:09<00:11,  2.35s/it, Batch correction: silhouette_batch]\u001b[A\n",
      "Metrics:  50%|\u001b[34m█████     \u001b[0m| 5/10 [00:09<00:11,  2.35s/it, Batch correction: ilisi_knn]       \u001b[A\n",
      "Metrics:  60%|\u001b[34m██████    \u001b[0m| 6/10 [00:10<00:06,  1.62s/it, Batch correction: ilisi_knn]\u001b[A\n",
      "Metrics:  60%|\u001b[34m██████    \u001b[0m| 6/10 [00:10<00:06,  1.62s/it, Batch correction: kbet_per_label]\u001b[A\n",
      "Metrics:  70%|\u001b[34m███████   \u001b[0m| 7/10 [00:29<00:21,  7.31s/it, Batch correction: kbet_per_label]\u001b[A\n",
      "Metrics:  70%|\u001b[34m███████   \u001b[0m| 7/10 [00:29<00:21,  7.31s/it, Batch correction: graph_connectivity]\u001b[A\n",
      "Metrics:  80%|\u001b[34m████████  \u001b[0m| 8/10 [00:29<00:14,  7.31s/it, Batch correction: pcr_comparison]    \u001b[A\n",
      "Embeddings: 100%|\u001b[32m██████████\u001b[0m| 1/1 [00:30<00:00, 30.11s/it]atch correction: pcr_comparison]\u001b[A\n",
      "\n",
      "                                                                                         \u001b[A/ictstr01/home/icb/fatemehs.hashemig/codes/interpretable-ssl/interpretable_ssl/trainers/trainer.py:314: FutureWarning: The frame.append method is deprecated and will be removed from pandas in a future version. Use pandas.concat instead.\n",
      "  overall_df = overall_df.append(fold_df, ignore_index=True)\n"
     ]
    },
    {
     "name": "stdout",
     "output_type": "stream",
     "text": [
      "Evaluating fold 3\n",
      "\u001b[34mINFO    \u001b[0m File \u001b[35m/home/icb/fatemehs.hashemig/models/\u001b[0m\u001b[35m/pbmc-immune/\u001b[0m\u001b[35m/scvi-latent_dim8_ccross-val/fold-3/\u001b[0m\u001b[95mmodel.pt\u001b[0m already \n",
      "         downloaded                                                                                                \n"
     ]
    },
    {
     "name": "stderr",
     "output_type": "stream",
     "text": [
      "/home/icb/fatemehs.hashemig/miniconda3/envs/interpretable-ssl/lib/python3.12/multiprocessing/popen_fork.py:66: RuntimeWarning: os.fork() was called. os.fork() is incompatible with multithreaded code, and JAX is multithreaded, so this will likely lead to a deadlock.\n",
      "  self.pid = os.fork()\n",
      "Multiprocessing is handled by SLURM.\n",
      "GPU available: True (cuda), used: True\n",
      "TPU available: False, using: 0 TPU cores\n",
      "IPU available: False, using: 0 IPUs\n",
      "HPU available: False, using: 0 HPUs\n",
      "/home/icb/fatemehs.hashemig/miniconda3/envs/interpretable-ssl/lib/python3.12/multiprocessing/popen_fork.py:66: RuntimeWarning: os.fork() was called. os.fork() is incompatible with multithreaded code, and JAX is multithreaded, so this will likely lead to a deadlock.\n",
      "  self.pid = os.fork()\n",
      "LOCAL_RANK: 0 - CUDA_VISIBLE_DEVICES: [MIG-887fd1e0-585a-56c2-81f3-94f71fe4e1e3]\n",
      "SLURM auto-requeueing enabled. Setting signal handlers.\n"
     ]
    },
    {
     "name": "stdout",
     "output_type": "stream",
     "text": [
      "Epoch 5/5: 100%|██████████| 5/5 [00:06<00:00,  1.35s/it, loss=890, v_num=1]"
     ]
    },
    {
     "name": "stderr",
     "output_type": "stream",
     "text": [
      "`Trainer.fit` stopped: `max_epochs=5` reached.\n"
     ]
    },
    {
     "name": "stdout",
     "output_type": "stream",
     "text": [
      "Epoch 5/5: 100%|██████████| 5/5 [00:06<00:00,  1.32s/it, loss=890, v_num=1]\n",
      "\u001b[34mINFO    \u001b[0m AnnData object appears to be a copy. Attempting to transfer setup.                                        \n",
      "\u001b[34mINFO    \u001b[0m AnnData object appears to be a copy. Attempting to transfer setup.                                        \n"
     ]
    },
    {
     "name": "stderr",
     "output_type": "stream",
     "text": [
      "Computing neighbors: 100%|██████████| 1/1 [00:07<00:00,  7.46s/it]\n",
      "Embeddings:   0%|\u001b[32m          \u001b[0m| 0/1 [00:00<?, ?it/s]\n",
      "Metrics:   0%|\u001b[34m          \u001b[0m| 0/10 [00:00<?, ?it/s]\u001b[A\n",
      "Metrics:   0%|\u001b[34m          \u001b[0m| 0/10 [00:00<?, ?it/s, Bio conservation: isolated_labels]\u001b[A\n",
      "Metrics:  10%|\u001b[34m█         \u001b[0m| 1/10 [00:01<00:09,  1.07s/it, Bio conservation: isolated_labels]\u001b[A\n",
      "Metrics:  10%|\u001b[34m█         \u001b[0m| 1/10 [00:01<00:09,  1.07s/it, Bio conservation: nmi_ari_cluster_labels_kmeans]\u001b[A\n",
      "Metrics:  20%|\u001b[34m██        \u001b[0m| 2/10 [00:02<00:11,  1.45s/it, Bio conservation: nmi_ari_cluster_labels_kmeans]\u001b[A\n",
      "Metrics:  20%|\u001b[34m██        \u001b[0m| 2/10 [00:02<00:11,  1.45s/it, Bio conservation: silhouette_label]             \u001b[A\n",
      "Metrics:  30%|\u001b[34m███       \u001b[0m| 3/10 [00:03<00:07,  1.09s/it, Bio conservation: silhouette_label]\u001b[A\n",
      "Metrics:  30%|\u001b[34m███       \u001b[0m| 3/10 [00:03<00:07,  1.09s/it, Bio conservation: clisi_knn]       \u001b[A\n",
      "Metrics:  40%|\u001b[34m████      \u001b[0m| 4/10 [00:04<00:05,  1.11it/s, Bio conservation: clisi_knn]\u001b[A\n",
      "Metrics:  40%|\u001b[34m████      \u001b[0m| 4/10 [00:04<00:05,  1.11it/s, Batch correction: silhouette_batch]\u001b[A\n",
      "Metrics:  50%|\u001b[34m█████     \u001b[0m| 5/10 [00:08<00:10,  2.20s/it, Batch correction: silhouette_batch]\u001b[A\n",
      "Metrics:  50%|\u001b[34m█████     \u001b[0m| 5/10 [00:08<00:10,  2.20s/it, Batch correction: ilisi_knn]       \u001b[A\n",
      "Metrics:  60%|\u001b[34m██████    \u001b[0m| 6/10 [00:08<00:06,  1.50s/it, Batch correction: ilisi_knn]\u001b[A\n",
      "Metrics:  60%|\u001b[34m██████    \u001b[0m| 6/10 [00:08<00:06,  1.50s/it, Batch correction: kbet_per_label]\u001b[A\n",
      "Metrics:  70%|\u001b[34m███████   \u001b[0m| 7/10 [00:24<00:18,  6.20s/it, Batch correction: kbet_per_label]\u001b[A\n",
      "Metrics:  70%|\u001b[34m███████   \u001b[0m| 7/10 [00:24<00:18,  6.20s/it, Batch correction: graph_connectivity]\u001b[A\n",
      "Metrics:  80%|\u001b[34m████████  \u001b[0m| 8/10 [00:24<00:12,  6.20s/it, Batch correction: pcr_comparison]    \u001b[A\n",
      "Embeddings: 100%|\u001b[32m██████████\u001b[0m| 1/1 [00:25<00:00, 25.49s/it]atch correction: pcr_comparison]\u001b[A\n",
      "\n",
      "                                                                                         \u001b[A/ictstr01/home/icb/fatemehs.hashemig/codes/interpretable-ssl/interpretable_ssl/trainers/trainer.py:314: FutureWarning: The frame.append method is deprecated and will be removed from pandas in a future version. Use pandas.concat instead.\n",
      "  overall_df = overall_df.append(fold_df, ignore_index=True)\n"
     ]
    },
    {
     "name": "stdout",
     "output_type": "stream",
     "text": [
      "Evaluating fold 4\n",
      "\u001b[34mINFO    \u001b[0m File \u001b[35m/home/icb/fatemehs.hashemig/models/\u001b[0m\u001b[35m/pbmc-immune/\u001b[0m\u001b[35m/scvi-latent_dim8_ccross-val/fold-4/\u001b[0m\u001b[95mmodel.pt\u001b[0m already \n",
      "         downloaded                                                                                                \n"
     ]
    },
    {
     "name": "stderr",
     "output_type": "stream",
     "text": [
      "/home/icb/fatemehs.hashemig/miniconda3/envs/interpretable-ssl/lib/python3.12/multiprocessing/popen_fork.py:66: RuntimeWarning: os.fork() was called. os.fork() is incompatible with multithreaded code, and JAX is multithreaded, so this will likely lead to a deadlock.\n",
      "  self.pid = os.fork()\n",
      "Multiprocessing is handled by SLURM.\n",
      "GPU available: True (cuda), used: True\n",
      "TPU available: False, using: 0 TPU cores\n",
      "IPU available: False, using: 0 IPUs\n",
      "HPU available: False, using: 0 HPUs\n",
      "/home/icb/fatemehs.hashemig/miniconda3/envs/interpretable-ssl/lib/python3.12/multiprocessing/popen_fork.py:66: RuntimeWarning: os.fork() was called. os.fork() is incompatible with multithreaded code, and JAX is multithreaded, so this will likely lead to a deadlock.\n",
      "  self.pid = os.fork()\n",
      "LOCAL_RANK: 0 - CUDA_VISIBLE_DEVICES: [MIG-887fd1e0-585a-56c2-81f3-94f71fe4e1e3]\n",
      "SLURM auto-requeueing enabled. Setting signal handlers.\n"
     ]
    },
    {
     "name": "stdout",
     "output_type": "stream",
     "text": [
      "Epoch 5/5: 100%|██████████| 5/5 [00:03<00:00,  1.43it/s, loss=3.29e+03, v_num=1]"
     ]
    },
    {
     "name": "stderr",
     "output_type": "stream",
     "text": [
      "`Trainer.fit` stopped: `max_epochs=5` reached.\n"
     ]
    },
    {
     "name": "stdout",
     "output_type": "stream",
     "text": [
      "Epoch 5/5: 100%|██████████| 5/5 [00:03<00:00,  1.43it/s, loss=3.29e+03, v_num=1]\n",
      "\u001b[34mINFO    \u001b[0m AnnData object appears to be a copy. Attempting to transfer setup.                                        \n",
      "\u001b[34mINFO    \u001b[0m AnnData object appears to be a copy. Attempting to transfer setup.                                        \n"
     ]
    },
    {
     "name": "stderr",
     "output_type": "stream",
     "text": [
      "Computing neighbors: 100%|██████████| 1/1 [00:04<00:00,  4.52s/it]\n",
      "Embeddings:   0%|\u001b[32m          \u001b[0m| 0/1 [00:00<?, ?it/s]\n",
      "Metrics:   0%|\u001b[34m          \u001b[0m| 0/10 [00:00<?, ?it/s]\u001b[A\n",
      "Metrics:   0%|\u001b[34m          \u001b[0m| 0/10 [00:00<?, ?it/s, Bio conservation: isolated_labels]\u001b[A\n",
      "Metrics:  10%|\u001b[34m█         \u001b[0m| 1/10 [00:00<00:06,  1.32it/s, Bio conservation: isolated_labels]\u001b[A\n",
      "Metrics:  10%|\u001b[34m█         \u001b[0m| 1/10 [00:00<00:06,  1.32it/s, Bio conservation: nmi_ari_cluster_labels_kmeans]\u001b[A\n",
      "Metrics:  20%|\u001b[34m██        \u001b[0m| 2/10 [00:02<00:10,  1.26s/it, Bio conservation: nmi_ari_cluster_labels_kmeans]\u001b[A\n",
      "Metrics:  20%|\u001b[34m██        \u001b[0m| 2/10 [00:02<00:10,  1.26s/it, Bio conservation: silhouette_label]             \u001b[A\n",
      "Metrics:  30%|\u001b[34m███       \u001b[0m| 3/10 [00:02<00:05,  1.25it/s, Bio conservation: silhouette_label]\u001b[A\n",
      "Metrics:  30%|\u001b[34m███       \u001b[0m| 3/10 [00:02<00:05,  1.25it/s, Bio conservation: clisi_knn]       \u001b[A\n",
      "Metrics:  40%|\u001b[34m████      \u001b[0m| 4/10 [00:03<00:05,  1.12it/s, Bio conservation: clisi_knn]\u001b[A\n",
      "Metrics:  40%|\u001b[34m████      \u001b[0m| 4/10 [00:03<00:05,  1.12it/s, Batch correction: silhouette_batch]\u001b[A\n",
      "Metrics:  50%|\u001b[34m█████     \u001b[0m| 5/10 [00:07<00:09,  1.98s/it, Batch correction: silhouette_batch]\u001b[A\n",
      "Metrics:  50%|\u001b[34m█████     \u001b[0m| 5/10 [00:07<00:09,  1.98s/it, Batch correction: ilisi_knn]       \u001b[A\n",
      "Metrics:  60%|\u001b[34m██████    \u001b[0m| 6/10 [00:08<00:06,  1.58s/it, Batch correction: ilisi_knn]\u001b[A\n",
      "Metrics:  60%|\u001b[34m██████    \u001b[0m| 6/10 [00:08<00:06,  1.58s/it, Batch correction: kbet_per_label]\u001b[A\n",
      "Metrics:  70%|\u001b[34m███████   \u001b[0m| 7/10 [00:19<00:14,  4.86s/it, Batch correction: kbet_per_label]\u001b[A\n",
      "Metrics:  70%|\u001b[34m███████   \u001b[0m| 7/10 [00:19<00:14,  4.86s/it, Batch correction: graph_connectivity]\u001b[A\n",
      "Metrics:  80%|\u001b[34m████████  \u001b[0m| 8/10 [00:20<00:09,  4.86s/it, Batch correction: pcr_comparison]    \u001b[A\n",
      "Embeddings: 100%|\u001b[32m██████████\u001b[0m| 1/1 [00:20<00:00, 20.84s/it]atch correction: pcr_comparison]\u001b[A\n",
      "\n",
      "                                                                                         \u001b[A/ictstr01/home/icb/fatemehs.hashemig/codes/interpretable-ssl/interpretable_ssl/trainers/trainer.py:314: FutureWarning: The frame.append method is deprecated and will be removed from pandas in a future version. Use pandas.concat instead.\n",
      "  overall_df = overall_df.append(fold_df, ignore_index=True)\n"
     ]
    },
    {
     "name": "stdout",
     "output_type": "stream",
     "text": [
      "Evaluating fold 5\n",
      "\u001b[34mINFO    \u001b[0m File \u001b[35m/home/icb/fatemehs.hashemig/models/\u001b[0m\u001b[35m/pbmc-immune/\u001b[0m\u001b[35m/scvi-latent_dim8_ccross-val/fold-5/\u001b[0m\u001b[95mmodel.pt\u001b[0m already \n",
      "         downloaded                                                                                                \n"
     ]
    },
    {
     "name": "stderr",
     "output_type": "stream",
     "text": [
      "/home/icb/fatemehs.hashemig/miniconda3/envs/interpretable-ssl/lib/python3.12/multiprocessing/popen_fork.py:66: RuntimeWarning: os.fork() was called. os.fork() is incompatible with multithreaded code, and JAX is multithreaded, so this will likely lead to a deadlock.\n",
      "  self.pid = os.fork()\n",
      "Multiprocessing is handled by SLURM.\n",
      "GPU available: True (cuda), used: True\n",
      "TPU available: False, using: 0 TPU cores\n",
      "IPU available: False, using: 0 IPUs\n",
      "HPU available: False, using: 0 HPUs\n",
      "/home/icb/fatemehs.hashemig/miniconda3/envs/interpretable-ssl/lib/python3.12/multiprocessing/popen_fork.py:66: RuntimeWarning: os.fork() was called. os.fork() is incompatible with multithreaded code, and JAX is multithreaded, so this will likely lead to a deadlock.\n",
      "  self.pid = os.fork()\n",
      "LOCAL_RANK: 0 - CUDA_VISIBLE_DEVICES: [MIG-887fd1e0-585a-56c2-81f3-94f71fe4e1e3]\n",
      "SLURM auto-requeueing enabled. Setting signal handlers.\n"
     ]
    },
    {
     "name": "stdout",
     "output_type": "stream",
     "text": [
      "Epoch 5/5: 100%|██████████| 5/5 [00:05<00:00,  1.18s/it, loss=1.12e+03, v_num=1]"
     ]
    },
    {
     "name": "stderr",
     "output_type": "stream",
     "text": [
      "`Trainer.fit` stopped: `max_epochs=5` reached.\n"
     ]
    },
    {
     "name": "stdout",
     "output_type": "stream",
     "text": [
      "Epoch 5/5: 100%|██████████| 5/5 [00:05<00:00,  1.18s/it, loss=1.12e+03, v_num=1]\n",
      "\u001b[34mINFO    \u001b[0m AnnData object appears to be a copy. Attempting to transfer setup.                                        \n",
      "\u001b[34mINFO    \u001b[0m AnnData object appears to be a copy. Attempting to transfer setup.                                        \n"
     ]
    },
    {
     "name": "stderr",
     "output_type": "stream",
     "text": [
      "Computing neighbors: 100%|██████████| 1/1 [00:05<00:00,  5.61s/it]\n",
      "Embeddings:   0%|\u001b[32m          \u001b[0m| 0/1 [00:00<?, ?it/s]\n",
      "Metrics:   0%|\u001b[34m          \u001b[0m| 0/10 [00:00<?, ?it/s]\u001b[A\n",
      "Metrics:   0%|\u001b[34m          \u001b[0m| 0/10 [00:00<?, ?it/s, Bio conservation: isolated_labels]\u001b[A\n",
      "Metrics:  10%|\u001b[34m█         \u001b[0m| 1/10 [00:01<00:10,  1.16s/it, Bio conservation: isolated_labels]\u001b[A\n",
      "Metrics:  10%|\u001b[34m█         \u001b[0m| 1/10 [00:01<00:10,  1.16s/it, Bio conservation: nmi_ari_cluster_labels_kmeans]\u001b[A\n",
      "Metrics:  20%|\u001b[34m██        \u001b[0m| 2/10 [00:02<00:12,  1.53s/it, Bio conservation: nmi_ari_cluster_labels_kmeans]\u001b[A\n",
      "Metrics:  20%|\u001b[34m██        \u001b[0m| 2/10 [00:02<00:12,  1.53s/it, Bio conservation: silhouette_label]             \u001b[A\n",
      "Metrics:  30%|\u001b[34m███       \u001b[0m| 3/10 [00:03<00:07,  1.03s/it, Bio conservation: silhouette_label]\u001b[A\n",
      "Metrics:  30%|\u001b[34m███       \u001b[0m| 3/10 [00:03<00:07,  1.03s/it, Bio conservation: clisi_knn]       \u001b[A\n",
      "Metrics:  40%|\u001b[34m████      \u001b[0m| 4/10 [00:04<00:05,  1.15it/s, Bio conservation: clisi_knn]\u001b[A\n",
      "Metrics:  40%|\u001b[34m████      \u001b[0m| 4/10 [00:04<00:05,  1.15it/s, Batch correction: silhouette_batch]\u001b[A\n",
      "Metrics:  50%|\u001b[34m█████     \u001b[0m| 5/10 [00:08<00:10,  2.06s/it, Batch correction: silhouette_batch]\u001b[A\n",
      "Metrics:  50%|\u001b[34m█████     \u001b[0m| 5/10 [00:08<00:10,  2.06s/it, Batch correction: ilisi_knn]       \u001b[A\n",
      "Metrics:  60%|\u001b[34m██████    \u001b[0m| 6/10 [00:08<00:05,  1.41s/it, Batch correction: ilisi_knn]\u001b[A\n",
      "Metrics:  60%|\u001b[34m██████    \u001b[0m| 6/10 [00:08<00:05,  1.41s/it, Batch correction: kbet_per_label]\u001b[A"
     ]
    },
    {
     "name": "stdout",
     "output_type": "stream",
     "text": [
      "\u001b[34mINFO    \u001b[0m HSPCs consists of a single batch or is too small. Skip.                                                   \n",
      "\u001b[34mINFO    \u001b[0m Monocyte-derived dendritic cells consists of a single batch or is too small. Skip.                        \n",
      "\u001b[34mINFO    \u001b[0m Plasma cells consists of a single batch or is too small. Skip.                                            \n"
     ]
    },
    {
     "name": "stderr",
     "output_type": "stream",
     "text": [
      "\n",
      "Metrics:  70%|\u001b[34m███████   \u001b[0m| 7/10 [00:18<00:13,  4.38s/it, Batch correction: kbet_per_label]\u001b[A\n",
      "Metrics:  70%|\u001b[34m███████   \u001b[0m| 7/10 [00:18<00:13,  4.38s/it, Batch correction: graph_connectivity]\u001b[A\n",
      "Metrics:  80%|\u001b[34m████████  \u001b[0m| 8/10 [00:18<00:08,  4.38s/it, Batch correction: pcr_comparison]    \u001b[A\n",
      "Embeddings: 100%|\u001b[32m██████████\u001b[0m| 1/1 [00:19<00:00, 19.68s/it]atch correction: pcr_comparison]\u001b[A\n",
      "\n",
      "                                                                                         \u001b[A/ictstr01/home/icb/fatemehs.hashemig/codes/interpretable-ssl/interpretable_ssl/trainers/trainer.py:314: FutureWarning: The frame.append method is deprecated and will be removed from pandas in a future version. Use pandas.concat instead.\n",
      "  overall_df = overall_df.append(fold_df, ignore_index=True)\n"
     ]
    },
    {
     "name": "stdout",
     "output_type": "stream",
     "text": [
      "Evaluating fold 6\n",
      "\u001b[34mINFO    \u001b[0m File \u001b[35m/home/icb/fatemehs.hashemig/models/\u001b[0m\u001b[35m/pbmc-immune/\u001b[0m\u001b[35m/scvi-latent_dim8_ccross-val/fold-6/\u001b[0m\u001b[95mmodel.pt\u001b[0m already \n",
      "         downloaded                                                                                                \n"
     ]
    },
    {
     "name": "stderr",
     "output_type": "stream",
     "text": [
      "/home/icb/fatemehs.hashemig/miniconda3/envs/interpretable-ssl/lib/python3.12/multiprocessing/popen_fork.py:66: RuntimeWarning: os.fork() was called. os.fork() is incompatible with multithreaded code, and JAX is multithreaded, so this will likely lead to a deadlock.\n",
      "  self.pid = os.fork()\n",
      "Multiprocessing is handled by SLURM.\n",
      "GPU available: True (cuda), used: True\n",
      "TPU available: False, using: 0 TPU cores\n",
      "IPU available: False, using: 0 IPUs\n",
      "HPU available: False, using: 0 HPUs\n",
      "/home/icb/fatemehs.hashemig/miniconda3/envs/interpretable-ssl/lib/python3.12/multiprocessing/popen_fork.py:66: RuntimeWarning: os.fork() was called. os.fork() is incompatible with multithreaded code, and JAX is multithreaded, so this will likely lead to a deadlock.\n",
      "  self.pid = os.fork()\n",
      "LOCAL_RANK: 0 - CUDA_VISIBLE_DEVICES: [MIG-887fd1e0-585a-56c2-81f3-94f71fe4e1e3]\n",
      "SLURM auto-requeueing enabled. Setting signal handlers.\n"
     ]
    },
    {
     "name": "stdout",
     "output_type": "stream",
     "text": [
      "Epoch 5/5: 100%|██████████| 5/5 [00:03<00:00,  1.29it/s, loss=631, v_num=1]"
     ]
    },
    {
     "name": "stderr",
     "output_type": "stream",
     "text": [
      "`Trainer.fit` stopped: `max_epochs=5` reached.\n"
     ]
    },
    {
     "name": "stdout",
     "output_type": "stream",
     "text": [
      "Epoch 5/5: 100%|██████████| 5/5 [00:03<00:00,  1.28it/s, loss=631, v_num=1]\n",
      "\u001b[34mINFO    \u001b[0m AnnData object appears to be a copy. Attempting to transfer setup.                                        \n",
      "\u001b[34mINFO    \u001b[0m AnnData object appears to be a copy. Attempting to transfer setup.                                        \n"
     ]
    },
    {
     "name": "stderr",
     "output_type": "stream",
     "text": [
      "Computing neighbors: 100%|██████████| 1/1 [00:04<00:00,  4.86s/it]\n",
      "Embeddings:   0%|\u001b[32m          \u001b[0m| 0/1 [00:00<?, ?it/s]\n",
      "Metrics:   0%|\u001b[34m          \u001b[0m| 0/10 [00:00<?, ?it/s]\u001b[A\n",
      "Metrics:   0%|\u001b[34m          \u001b[0m| 0/10 [00:00<?, ?it/s, Bio conservation: isolated_labels]\u001b[A\n",
      "Metrics:  10%|\u001b[34m█         \u001b[0m| 1/10 [00:00<00:05,  1.52it/s, Bio conservation: isolated_labels]\u001b[A\n",
      "Metrics:  10%|\u001b[34m█         \u001b[0m| 1/10 [00:00<00:05,  1.52it/s, Bio conservation: nmi_ari_cluster_labels_kmeans]\u001b[A\n",
      "Metrics:  20%|\u001b[34m██        \u001b[0m| 2/10 [00:02<00:12,  1.52s/it, Bio conservation: nmi_ari_cluster_labels_kmeans]\u001b[A\n",
      "Metrics:  20%|\u001b[34m██        \u001b[0m| 2/10 [00:02<00:12,  1.52s/it, Bio conservation: silhouette_label]             \u001b[A\n",
      "Metrics:  30%|\u001b[34m███       \u001b[0m| 3/10 [00:03<00:06,  1.01it/s, Bio conservation: silhouette_label]\u001b[A\n",
      "Metrics:  30%|\u001b[34m███       \u001b[0m| 3/10 [00:03<00:06,  1.01it/s, Bio conservation: clisi_knn]       \u001b[A\n",
      "Metrics:  40%|\u001b[34m████      \u001b[0m| 4/10 [00:04<00:06,  1.06s/it, Bio conservation: clisi_knn]\u001b[A\n",
      "Metrics:  40%|\u001b[34m████      \u001b[0m| 4/10 [00:04<00:06,  1.06s/it, Batch correction: silhouette_batch]\u001b[A\n",
      "Metrics:  50%|\u001b[34m█████     \u001b[0m| 5/10 [00:08<00:11,  2.33s/it, Batch correction: silhouette_batch]\u001b[A\n",
      "Metrics:  50%|\u001b[34m█████     \u001b[0m| 5/10 [00:08<00:11,  2.33s/it, Batch correction: ilisi_knn]       \u001b[A\n",
      "Metrics:  60%|\u001b[34m██████    \u001b[0m| 6/10 [00:09<00:06,  1.59s/it, Batch correction: ilisi_knn]\u001b[A\n",
      "Metrics:  60%|\u001b[34m██████    \u001b[0m| 6/10 [00:09<00:06,  1.59s/it, Batch correction: kbet_per_label]\u001b[A\n",
      "Metrics:  70%|\u001b[34m███████   \u001b[0m| 7/10 [00:19<00:13,  4.41s/it, Batch correction: kbet_per_label]\u001b[A\n",
      "Metrics:  70%|\u001b[34m███████   \u001b[0m| 7/10 [00:19<00:13,  4.41s/it, Batch correction: graph_connectivity]\u001b[A\n",
      "Metrics:  80%|\u001b[34m████████  \u001b[0m| 8/10 [00:19<00:08,  4.41s/it, Batch correction: pcr_comparison]    \u001b[A\n",
      "Embeddings: 100%|\u001b[32m██████████\u001b[0m| 1/1 [00:19<00:00, 19.85s/it]atch correction: pcr_comparison]\u001b[A\n",
      "\n",
      "                                                                                         \u001b[A/ictstr01/home/icb/fatemehs.hashemig/codes/interpretable-ssl/interpretable_ssl/trainers/trainer.py:314: FutureWarning: The frame.append method is deprecated and will be removed from pandas in a future version. Use pandas.concat instead.\n",
      "  overall_df = overall_df.append(fold_df, ignore_index=True)\n"
     ]
    },
    {
     "name": "stdout",
     "output_type": "stream",
     "text": [
      "Evaluating fold 7\n",
      "\u001b[34mINFO    \u001b[0m File \u001b[35m/home/icb/fatemehs.hashemig/models/\u001b[0m\u001b[35m/pbmc-immune/\u001b[0m\u001b[35m/scvi-latent_dim8_ccross-val/fold-7/\u001b[0m\u001b[95mmodel.pt\u001b[0m already \n",
      "         downloaded                                                                                                \n"
     ]
    },
    {
     "name": "stderr",
     "output_type": "stream",
     "text": [
      "/home/icb/fatemehs.hashemig/miniconda3/envs/interpretable-ssl/lib/python3.12/multiprocessing/popen_fork.py:66: RuntimeWarning: os.fork() was called. os.fork() is incompatible with multithreaded code, and JAX is multithreaded, so this will likely lead to a deadlock.\n",
      "  self.pid = os.fork()\n",
      "Multiprocessing is handled by SLURM.\n",
      "GPU available: True (cuda), used: True\n",
      "TPU available: False, using: 0 TPU cores\n",
      "IPU available: False, using: 0 IPUs\n",
      "HPU available: False, using: 0 HPUs\n",
      "/home/icb/fatemehs.hashemig/miniconda3/envs/interpretable-ssl/lib/python3.12/multiprocessing/popen_fork.py:66: RuntimeWarning: os.fork() was called. os.fork() is incompatible with multithreaded code, and JAX is multithreaded, so this will likely lead to a deadlock.\n",
      "  self.pid = os.fork()\n",
      "LOCAL_RANK: 0 - CUDA_VISIBLE_DEVICES: [MIG-887fd1e0-585a-56c2-81f3-94f71fe4e1e3]\n",
      "SLURM auto-requeueing enabled. Setting signal handlers.\n"
     ]
    },
    {
     "name": "stdout",
     "output_type": "stream",
     "text": [
      "Epoch 5/5: 100%|██████████| 5/5 [00:01<00:00,  3.55it/s, loss=7.57e+03, v_num=1]"
     ]
    },
    {
     "name": "stderr",
     "output_type": "stream",
     "text": [
      "`Trainer.fit` stopped: `max_epochs=5` reached.\n"
     ]
    },
    {
     "name": "stdout",
     "output_type": "stream",
     "text": [
      "Epoch 5/5: 100%|██████████| 5/5 [00:01<00:00,  3.65it/s, loss=7.57e+03, v_num=1]\n",
      "\u001b[34mINFO    \u001b[0m AnnData object appears to be a copy. Attempting to transfer setup.                                        \n",
      "\u001b[34mINFO    \u001b[0m AnnData object appears to be a copy. Attempting to transfer setup.                                        \n"
     ]
    },
    {
     "name": "stderr",
     "output_type": "stream",
     "text": [
      "Computing neighbors: 100%|██████████| 1/1 [00:02<00:00,  2.20s/it]\n",
      "Embeddings:   0%|\u001b[32m          \u001b[0m| 0/1 [00:00<?, ?it/s]\n",
      "Metrics:   0%|\u001b[34m          \u001b[0m| 0/10 [00:00<?, ?it/s]\u001b[A\n",
      "Metrics:   0%|\u001b[34m          \u001b[0m| 0/10 [00:00<?, ?it/s, Bio conservation: isolated_labels]\u001b[A\n",
      "Metrics:  10%|\u001b[34m█         \u001b[0m| 1/10 [00:00<00:04,  2.16it/s, Bio conservation: isolated_labels]\u001b[A\n",
      "Metrics:  10%|\u001b[34m█         \u001b[0m| 1/10 [00:00<00:04,  2.16it/s, Bio conservation: nmi_ari_cluster_labels_kmeans]\u001b[A\n",
      "Metrics:  20%|\u001b[34m██        \u001b[0m| 2/10 [00:01<00:05,  1.41it/s, Bio conservation: nmi_ari_cluster_labels_kmeans]\u001b[A\n",
      "Metrics:  20%|\u001b[34m██        \u001b[0m| 2/10 [00:01<00:05,  1.41it/s, Bio conservation: silhouette_label]             \u001b[A\n",
      "Metrics:  30%|\u001b[34m███       \u001b[0m| 3/10 [00:01<00:04,  1.41it/s, Bio conservation: clisi_knn]       \u001b[A\n",
      "Metrics:  40%|\u001b[34m████      \u001b[0m| 4/10 [00:01<00:02,  2.21it/s, Bio conservation: clisi_knn]\u001b[A\n",
      "Metrics:  40%|\u001b[34m████      \u001b[0m| 4/10 [00:01<00:02,  2.21it/s, Batch correction: silhouette_batch]\u001b[A\n",
      "Metrics:  50%|\u001b[34m█████     \u001b[0m| 5/10 [00:02<00:03,  1.60it/s, Batch correction: silhouette_batch]\u001b[A\n",
      "Metrics:  50%|\u001b[34m█████     \u001b[0m| 5/10 [00:02<00:03,  1.60it/s, Batch correction: ilisi_knn]       \u001b[A\n",
      "Metrics:  60%|\u001b[34m██████    \u001b[0m| 6/10 [00:03<00:02,  1.60it/s, Batch correction: kbet_per_label]\u001b[A"
     ]
    },
    {
     "name": "stdout",
     "output_type": "stream",
     "text": [
      "\u001b[34mINFO    \u001b[0m CD20+ B cells consists of a single batch or is too small. Skip.                                           \n",
      "\u001b[34mINFO    \u001b[0m CD4+ T cells consists of a single batch or is too small. Skip.                                            \n",
      "\u001b[34mINFO    \u001b[0m CD8+ T cells consists of a single batch or is too small. Skip.                                            \n",
      "\u001b[34mINFO    \u001b[0m Megakaryocyte progenitors consists of a single batch or is too small. Skip.                               \n",
      "\u001b[34mINFO    \u001b[0m Monocyte-derived dendritic cells consists of a single batch or is too small. Skip.                        \n",
      "\u001b[34mINFO    \u001b[0m NK cells consists of a single batch or is too small. Skip.                                                \n",
      "\u001b[34mINFO    \u001b[0m NKT cells consists of a single batch or is too small. Skip.                                               \n"
     ]
    },
    {
     "name": "stderr",
     "output_type": "stream",
     "text": [
      "\n",
      "Metrics:  70%|\u001b[34m███████   \u001b[0m| 7/10 [00:05<00:02,  1.09it/s, Batch correction: kbet_per_label]\u001b[A\n",
      "Metrics:  70%|\u001b[34m███████   \u001b[0m| 7/10 [00:05<00:02,  1.09it/s, Batch correction: graph_connectivity]\u001b[A\n",
      "Metrics:  80%|\u001b[34m████████  \u001b[0m| 8/10 [00:05<00:01,  1.09it/s, Batch correction: pcr_comparison]    \u001b[A\n",
      "Embeddings: 100%|\u001b[32m██████████\u001b[0m| 1/1 [00:06<00:00,  6.28s/it]atch correction: pcr_comparison]\u001b[A\n",
      "\n",
      "                                                                                         \u001b[A/ictstr01/home/icb/fatemehs.hashemig/codes/interpretable-ssl/interpretable_ssl/trainers/trainer.py:314: FutureWarning: The frame.append method is deprecated and will be removed from pandas in a future version. Use pandas.concat instead.\n",
      "  overall_df = overall_df.append(fold_df, ignore_index=True)\n"
     ]
    },
    {
     "name": "stdout",
     "output_type": "stream",
     "text": [
      "Evaluating fold 8\n",
      "\u001b[34mINFO    \u001b[0m File \u001b[35m/home/icb/fatemehs.hashemig/models/\u001b[0m\u001b[35m/pbmc-immune/\u001b[0m\u001b[35m/scvi-latent_dim8_ccross-val/fold-8/\u001b[0m\u001b[95mmodel.pt\u001b[0m already \n",
      "         downloaded                                                                                                \n"
     ]
    },
    {
     "name": "stderr",
     "output_type": "stream",
     "text": [
      "/home/icb/fatemehs.hashemig/miniconda3/envs/interpretable-ssl/lib/python3.12/multiprocessing/popen_fork.py:66: RuntimeWarning: os.fork() was called. os.fork() is incompatible with multithreaded code, and JAX is multithreaded, so this will likely lead to a deadlock.\n",
      "  self.pid = os.fork()\n",
      "Multiprocessing is handled by SLURM.\n",
      "GPU available: True (cuda), used: True\n",
      "TPU available: False, using: 0 TPU cores\n",
      "IPU available: False, using: 0 IPUs\n",
      "HPU available: False, using: 0 HPUs\n",
      "/home/icb/fatemehs.hashemig/miniconda3/envs/interpretable-ssl/lib/python3.12/multiprocessing/popen_fork.py:66: RuntimeWarning: os.fork() was called. os.fork() is incompatible with multithreaded code, and JAX is multithreaded, so this will likely lead to a deadlock.\n",
      "  self.pid = os.fork()\n",
      "LOCAL_RANK: 0 - CUDA_VISIBLE_DEVICES: [MIG-887fd1e0-585a-56c2-81f3-94f71fe4e1e3]\n",
      "SLURM auto-requeueing enabled. Setting signal handlers.\n"
     ]
    },
    {
     "name": "stdout",
     "output_type": "stream",
     "text": [
      "Epoch 5/5: 100%|██████████| 5/5 [00:06<00:00,  1.23s/it, loss=1e+03, v_num=1]   "
     ]
    },
    {
     "name": "stderr",
     "output_type": "stream",
     "text": [
      "`Trainer.fit` stopped: `max_epochs=5` reached.\n"
     ]
    },
    {
     "name": "stdout",
     "output_type": "stream",
     "text": [
      "Epoch 5/5: 100%|██████████| 5/5 [00:06<00:00,  1.24s/it, loss=1e+03, v_num=1]\n",
      "\u001b[34mINFO    \u001b[0m AnnData object appears to be a copy. Attempting to transfer setup.                                        \n",
      "\u001b[34mINFO    \u001b[0m AnnData object appears to be a copy. Attempting to transfer setup.                                        \n"
     ]
    },
    {
     "name": "stderr",
     "output_type": "stream",
     "text": [
      "Computing neighbors: 100%|██████████| 1/1 [00:07<00:00,  7.55s/it]\n",
      "Embeddings:   0%|\u001b[32m          \u001b[0m| 0/1 [00:00<?, ?it/s]\n",
      "Metrics:   0%|\u001b[34m          \u001b[0m| 0/10 [00:00<?, ?it/s]\u001b[A\n",
      "Metrics:   0%|\u001b[34m          \u001b[0m| 0/10 [00:00<?, ?it/s, Bio conservation: isolated_labels]\u001b[A\n",
      "Metrics:  10%|\u001b[34m█         \u001b[0m| 1/10 [00:02<00:22,  2.54s/it, Bio conservation: isolated_labels]\u001b[A\n",
      "Metrics:  10%|\u001b[34m█         \u001b[0m| 1/10 [00:02<00:22,  2.54s/it, Bio conservation: nmi_ari_cluster_labels_kmeans]\u001b[A\n",
      "Metrics:  20%|\u001b[34m██        \u001b[0m| 2/10 [00:05<00:20,  2.51s/it, Bio conservation: nmi_ari_cluster_labels_kmeans]\u001b[A\n",
      "Metrics:  20%|\u001b[34m██        \u001b[0m| 2/10 [00:05<00:20,  2.51s/it, Bio conservation: silhouette_label]             \u001b[A\n",
      "Metrics:  30%|\u001b[34m███       \u001b[0m| 3/10 [00:05<00:11,  1.67s/it, Bio conservation: silhouette_label]\u001b[A\n",
      "Metrics:  30%|\u001b[34m███       \u001b[0m| 3/10 [00:05<00:11,  1.67s/it, Bio conservation: clisi_knn]       \u001b[A\n",
      "Metrics:  40%|\u001b[34m████      \u001b[0m| 4/10 [00:06<00:07,  1.27s/it, Bio conservation: clisi_knn]\u001b[A\n",
      "Metrics:  40%|\u001b[34m████      \u001b[0m| 4/10 [00:06<00:07,  1.27s/it, Batch correction: silhouette_batch]\u001b[A\n",
      "Metrics:  50%|\u001b[34m█████     \u001b[0m| 5/10 [00:10<00:11,  2.29s/it, Batch correction: silhouette_batch]\u001b[A\n",
      "Metrics:  50%|\u001b[34m█████     \u001b[0m| 5/10 [00:10<00:11,  2.29s/it, Batch correction: ilisi_knn]       \u001b[A\n",
      "Metrics:  60%|\u001b[34m██████    \u001b[0m| 6/10 [00:10<00:06,  1.57s/it, Batch correction: ilisi_knn]\u001b[A\n",
      "Metrics:  60%|\u001b[34m██████    \u001b[0m| 6/10 [00:10<00:06,  1.57s/it, Batch correction: kbet_per_label]\u001b[A"
     ]
    },
    {
     "name": "stdout",
     "output_type": "stream",
     "text": [
      "\u001b[34mINFO    \u001b[0m HSPCs consists of a single batch or is too small. Skip.                                                   \n",
      "\u001b[34mINFO    \u001b[0m Plasma cells consists of a single batch or is too small. Skip.                                            \n"
     ]
    },
    {
     "name": "stderr",
     "output_type": "stream",
     "text": [
      "\n",
      "Metrics:  70%|\u001b[34m███████   \u001b[0m| 7/10 [00:25<00:18,  6.06s/it, Batch correction: kbet_per_label]\u001b[A\n",
      "Metrics:  70%|\u001b[34m███████   \u001b[0m| 7/10 [00:25<00:18,  6.06s/it, Batch correction: graph_connectivity]\u001b[A\n",
      "Metrics:  80%|\u001b[34m████████  \u001b[0m| 8/10 [00:25<00:12,  6.06s/it, Batch correction: pcr_comparison]    \u001b[A\n",
      "Embeddings: 100%|\u001b[32m██████████\u001b[0m| 1/1 [00:26<00:00, 26.62s/it]atch correction: pcr_comparison]\u001b[A\n",
      "\n",
      "                                                                                         \u001b[A/ictstr01/home/icb/fatemehs.hashemig/codes/interpretable-ssl/interpretable_ssl/trainers/trainer.py:314: FutureWarning: The frame.append method is deprecated and will be removed from pandas in a future version. Use pandas.concat instead.\n",
      "  overall_df = overall_df.append(fold_df, ignore_index=True)\n"
     ]
    },
    {
     "name": "stdout",
     "output_type": "stream",
     "text": [
      "Evaluating fold 9\n",
      "\u001b[34mINFO    \u001b[0m File \u001b[35m/home/icb/fatemehs.hashemig/models/\u001b[0m\u001b[35m/pbmc-immune/\u001b[0m\u001b[35m/scvi-latent_dim8_ccross-val/fold-9/\u001b[0m\u001b[95mmodel.pt\u001b[0m already \n",
      "         downloaded                                                                                                \n"
     ]
    },
    {
     "name": "stderr",
     "output_type": "stream",
     "text": [
      "/home/icb/fatemehs.hashemig/miniconda3/envs/interpretable-ssl/lib/python3.12/multiprocessing/popen_fork.py:66: RuntimeWarning: os.fork() was called. os.fork() is incompatible with multithreaded code, and JAX is multithreaded, so this will likely lead to a deadlock.\n",
      "  self.pid = os.fork()\n",
      "Multiprocessing is handled by SLURM.\n",
      "GPU available: True (cuda), used: True\n",
      "TPU available: False, using: 0 TPU cores\n",
      "IPU available: False, using: 0 IPUs\n",
      "HPU available: False, using: 0 HPUs\n",
      "/home/icb/fatemehs.hashemig/miniconda3/envs/interpretable-ssl/lib/python3.12/multiprocessing/popen_fork.py:66: RuntimeWarning: os.fork() was called. os.fork() is incompatible with multithreaded code, and JAX is multithreaded, so this will likely lead to a deadlock.\n",
      "  self.pid = os.fork()\n",
      "LOCAL_RANK: 0 - CUDA_VISIBLE_DEVICES: [MIG-887fd1e0-585a-56c2-81f3-94f71fe4e1e3]\n",
      "SLURM auto-requeueing enabled. Setting signal handlers.\n"
     ]
    },
    {
     "name": "stdout",
     "output_type": "stream",
     "text": [
      "Epoch 5/5: 100%|██████████| 5/5 [00:03<00:00,  1.32it/s, loss=3.63e+03, v_num=1]"
     ]
    },
    {
     "name": "stderr",
     "output_type": "stream",
     "text": [
      "`Trainer.fit` stopped: `max_epochs=5` reached.\n"
     ]
    },
    {
     "name": "stdout",
     "output_type": "stream",
     "text": [
      "Epoch 5/5: 100%|██████████| 5/5 [00:03<00:00,  1.28it/s, loss=3.63e+03, v_num=1]\n",
      "\u001b[34mINFO    \u001b[0m AnnData object appears to be a copy. Attempting to transfer setup.                                        \n",
      "\u001b[34mINFO    \u001b[0m AnnData object appears to be a copy. Attempting to transfer setup.                                        \n"
     ]
    },
    {
     "name": "stderr",
     "output_type": "stream",
     "text": [
      "Computing neighbors: 100%|██████████| 1/1 [00:05<00:00,  5.56s/it]\n",
      "Embeddings:   0%|\u001b[32m          \u001b[0m| 0/1 [00:00<?, ?it/s]\n",
      "Metrics:   0%|\u001b[34m          \u001b[0m| 0/10 [00:00<?, ?it/s]\u001b[A\n",
      "Metrics:   0%|\u001b[34m          \u001b[0m| 0/10 [00:00<?, ?it/s, Bio conservation: isolated_labels]\u001b[A\n",
      "Metrics:  10%|\u001b[34m█         \u001b[0m| 1/10 [00:00<00:07,  1.24it/s, Bio conservation: isolated_labels]\u001b[A\n",
      "Metrics:  10%|\u001b[34m█         \u001b[0m| 1/10 [00:00<00:07,  1.24it/s, Bio conservation: nmi_ari_cluster_labels_kmeans]\u001b[A\n",
      "Metrics:  20%|\u001b[34m██        \u001b[0m| 2/10 [00:02<00:11,  1.45s/it, Bio conservation: nmi_ari_cluster_labels_kmeans]\u001b[A\n",
      "Metrics:  20%|\u001b[34m██        \u001b[0m| 2/10 [00:02<00:11,  1.45s/it, Bio conservation: silhouette_label]             \u001b[A\n",
      "Metrics:  30%|\u001b[34m███       \u001b[0m| 3/10 [00:03<00:06,  1.05it/s, Bio conservation: silhouette_label]\u001b[A\n",
      "Metrics:  30%|\u001b[34m███       \u001b[0m| 3/10 [00:03<00:06,  1.05it/s, Bio conservation: clisi_knn]       \u001b[A\n",
      "Metrics:  40%|\u001b[34m████      \u001b[0m| 4/10 [00:04<00:05,  1.01it/s, Bio conservation: clisi_knn]\u001b[A\n",
      "Metrics:  40%|\u001b[34m████      \u001b[0m| 4/10 [00:04<00:05,  1.01it/s, Batch correction: silhouette_batch]\u001b[A\n",
      "Metrics:  50%|\u001b[34m█████     \u001b[0m| 5/10 [00:05<00:06,  1.29s/it, Batch correction: silhouette_batch]\u001b[A\n",
      "Metrics:  50%|\u001b[34m█████     \u001b[0m| 5/10 [00:05<00:06,  1.29s/it, Batch correction: ilisi_knn]       \u001b[A\n",
      "Metrics:  60%|\u001b[34m██████    \u001b[0m| 6/10 [00:06<00:03,  1.11it/s, Batch correction: ilisi_knn]\u001b[A\n",
      "Metrics:  60%|\u001b[34m██████    \u001b[0m| 6/10 [00:06<00:03,  1.11it/s, Batch correction: kbet_per_label]\u001b[A"
     ]
    },
    {
     "name": "stdout",
     "output_type": "stream",
     "text": [
      "\u001b[34mINFO    \u001b[0m CD20+ B cells consists of a single batch or is too small. Skip.                                           \n",
      "\u001b[34mINFO    \u001b[0m CD4+ T cells consists of a single batch or is too small. Skip.                                            \n",
      "\u001b[34mINFO    \u001b[0m CD8+ T cells consists of a single batch or is too small. Skip.                                            \n",
      "\u001b[34mINFO    \u001b[0m HSPCs consists of a single batch or is too small. Skip.                                                   \n",
      "\u001b[34mINFO    \u001b[0m Megakaryocyte progenitors consists of a single batch or is too small. Skip.                               \n",
      "\u001b[34mINFO    \u001b[0m NK cells consists of a single batch or is too small. Skip.                                                \n",
      "\u001b[34mINFO    \u001b[0m NKT cells consists of a single batch or is too small. Skip.                                               \n",
      "\u001b[34mINFO    \u001b[0m Plasma cells consists of a single batch or is too small. Skip.                                            \n"
     ]
    },
    {
     "name": "stderr",
     "output_type": "stream",
     "text": [
      "\n",
      "Metrics:  70%|\u001b[34m███████   \u001b[0m| 7/10 [00:12<00:07,  2.56s/it, Batch correction: kbet_per_label]\u001b[A\n",
      "Metrics:  70%|\u001b[34m███████   \u001b[0m| 7/10 [00:12<00:07,  2.56s/it, Batch correction: graph_connectivity]\u001b[A\n",
      "Metrics:  80%|\u001b[34m████████  \u001b[0m| 8/10 [00:12<00:05,  2.56s/it, Batch correction: pcr_comparison]    \u001b[A\n",
      "Embeddings: 100%|\u001b[32m██████████\u001b[0m| 1/1 [00:13<00:00, 13.22s/it]atch correction: pcr_comparison]\u001b[A\n",
      "\n",
      "                                                                                         \u001b[A/ictstr01/home/icb/fatemehs.hashemig/codes/interpretable-ssl/interpretable_ssl/trainers/trainer.py:314: FutureWarning: The frame.append method is deprecated and will be removed from pandas in a future version. Use pandas.concat instead.\n",
      "  overall_df = overall_df.append(fold_df, ignore_index=True)\n"
     ]
    },
    {
     "name": "stdout",
     "output_type": "stream",
     "text": [
      "Evaluating fold 10\n",
      "\u001b[34mINFO    \u001b[0m File \u001b[35m/home/icb/fatemehs.hashemig/models/\u001b[0m\u001b[35m/pbmc-immune/\u001b[0m\u001b[35m/scvi-latent_dim8_ccross-val/fold-10/\u001b[0m\u001b[95mmodel.pt\u001b[0m already\n",
      "         downloaded                                                                                                \n"
     ]
    },
    {
     "name": "stderr",
     "output_type": "stream",
     "text": [
      "/home/icb/fatemehs.hashemig/miniconda3/envs/interpretable-ssl/lib/python3.12/multiprocessing/popen_fork.py:66: RuntimeWarning: os.fork() was called. os.fork() is incompatible with multithreaded code, and JAX is multithreaded, so this will likely lead to a deadlock.\n",
      "  self.pid = os.fork()\n",
      "Multiprocessing is handled by SLURM.\n",
      "GPU available: True (cuda), used: True\n",
      "TPU available: False, using: 0 TPU cores\n",
      "IPU available: False, using: 0 IPUs\n",
      "HPU available: False, using: 0 HPUs\n",
      "/home/icb/fatemehs.hashemig/miniconda3/envs/interpretable-ssl/lib/python3.12/multiprocessing/popen_fork.py:66: RuntimeWarning: os.fork() was called. os.fork() is incompatible with multithreaded code, and JAX is multithreaded, so this will likely lead to a deadlock.\n",
      "  self.pid = os.fork()\n",
      "LOCAL_RANK: 0 - CUDA_VISIBLE_DEVICES: [MIG-887fd1e0-585a-56c2-81f3-94f71fe4e1e3]\n",
      "SLURM auto-requeueing enabled. Setting signal handlers.\n"
     ]
    },
    {
     "name": "stdout",
     "output_type": "stream",
     "text": [
      "Epoch 5/5: 100%|██████████| 5/5 [00:03<00:00,  1.36it/s, loss=3.53e+03, v_num=1]"
     ]
    },
    {
     "name": "stderr",
     "output_type": "stream",
     "text": [
      "`Trainer.fit` stopped: `max_epochs=5` reached.\n"
     ]
    },
    {
     "name": "stdout",
     "output_type": "stream",
     "text": [
      "Epoch 5/5: 100%|██████████| 5/5 [00:03<00:00,  1.33it/s, loss=3.53e+03, v_num=1]\n",
      "\u001b[34mINFO    \u001b[0m AnnData object appears to be a copy. Attempting to transfer setup.                                        \n",
      "\u001b[34mINFO    \u001b[0m AnnData object appears to be a copy. Attempting to transfer setup.                                        \n"
     ]
    },
    {
     "name": "stderr",
     "output_type": "stream",
     "text": [
      "Computing neighbors: 100%|██████████| 1/1 [00:04<00:00,  4.21s/it]\n",
      "Embeddings:   0%|\u001b[32m          \u001b[0m| 0/1 [00:00<?, ?it/s]\n",
      "Metrics:   0%|\u001b[34m          \u001b[0m| 0/10 [00:00<?, ?it/s]\u001b[A\n",
      "Metrics:   0%|\u001b[34m          \u001b[0m| 0/10 [00:00<?, ?it/s, Bio conservation: isolated_labels]\u001b[A\n",
      "Metrics:  10%|\u001b[34m█         \u001b[0m| 1/10 [00:00<00:05,  1.63it/s, Bio conservation: isolated_labels]\u001b[A\n",
      "Metrics:  10%|\u001b[34m█         \u001b[0m| 1/10 [00:00<00:05,  1.63it/s, Bio conservation: nmi_ari_cluster_labels_kmeans]\u001b[A\n",
      "Metrics:  20%|\u001b[34m██        \u001b[0m| 2/10 [00:01<00:07,  1.04it/s, Bio conservation: nmi_ari_cluster_labels_kmeans]\u001b[A\n",
      "Metrics:  20%|\u001b[34m██        \u001b[0m| 2/10 [00:01<00:07,  1.04it/s, Bio conservation: silhouette_label]             \u001b[A\n",
      "Metrics:  30%|\u001b[34m███       \u001b[0m| 3/10 [00:02<00:04,  1.63it/s, Bio conservation: silhouette_label]\u001b[A\n",
      "Metrics:  30%|\u001b[34m███       \u001b[0m| 3/10 [00:02<00:04,  1.63it/s, Bio conservation: clisi_knn]       \u001b[A\n",
      "Metrics:  40%|\u001b[34m████      \u001b[0m| 4/10 [00:02<00:03,  1.63it/s, Bio conservation: clisi_knn]\u001b[A\n",
      "Metrics:  40%|\u001b[34m████      \u001b[0m| 4/10 [00:02<00:03,  1.63it/s, Batch correction: silhouette_batch]\u001b[A\n",
      "Metrics:  50%|\u001b[34m█████     \u001b[0m| 5/10 [00:06<00:08,  1.77s/it, Batch correction: silhouette_batch]\u001b[A\n",
      "Metrics:  50%|\u001b[34m█████     \u001b[0m| 5/10 [00:06<00:08,  1.77s/it, Batch correction: ilisi_knn]       \u001b[A\n",
      "Metrics:  60%|\u001b[34m██████    \u001b[0m| 6/10 [00:06<00:04,  1.20s/it, Batch correction: ilisi_knn]\u001b[A\n",
      "Metrics:  60%|\u001b[34m██████    \u001b[0m| 6/10 [00:06<00:04,  1.20s/it, Batch correction: kbet_per_label]\u001b[A\n",
      "Metrics:  70%|\u001b[34m███████   \u001b[0m| 7/10 [00:16<00:12,  4.07s/it, Batch correction: kbet_per_label]\u001b[A\n",
      "Metrics:  70%|\u001b[34m███████   \u001b[0m| 7/10 [00:16<00:12,  4.07s/it, Batch correction: graph_connectivity]\u001b[A\n",
      "Metrics:  80%|\u001b[34m████████  \u001b[0m| 8/10 [00:16<00:08,  4.07s/it, Batch correction: pcr_comparison]    \u001b[A\n",
      "Embeddings: 100%|\u001b[32m██████████\u001b[0m| 1/1 [00:17<00:00, 17.29s/it]atch correction: pcr_comparison]\u001b[A\n",
      "\n",
      "                                                                                         \u001b[A/ictstr01/home/icb/fatemehs.hashemig/codes/interpretable-ssl/interpretable_ssl/trainers/trainer.py:314: FutureWarning: The frame.append method is deprecated and will be removed from pandas in a future version. Use pandas.concat instead.\n",
      "  overall_df = overall_df.append(fold_df, ignore_index=True)\n"
     ]
    },
    {
     "name": "stdout",
     "output_type": "stream",
     "text": [
      "running custom cross validation evaluation\n",
      "Evaluating fold 1\n",
      "Embedding dictionary:\n",
      " \tNum conditions: [3]\n",
      " \tEmbedding dim: [10]\n",
      "Encoder Architecture:\n",
      "\tInput Layer in, out and cond: 4000 64 10\n",
      "\tMean/Var Layer in/out: 64 8\n",
      "Decoder Architecture:\n",
      "\tFirst Layer in, out and cond:  8 64 10\n",
      "\tOutput Layer in/out:  64 4000 \n",
      "\n"
     ]
    },
    {
     "name": "stderr",
     "output_type": "stream",
     "text": [
      "INFO:scarches.trainers.scpoli.trainer:GPU available: True, GPU used: True\n"
     ]
    },
    {
     "name": "stdout",
     "output_type": "stream",
     "text": [
      "Embedding dictionary:\n",
      " \tNum conditions: [5]\n",
      " \tEmbedding dim: [10]\n",
      "Encoder Architecture:\n",
      "\tInput Layer in, out and cond: 4000 64 10\n",
      "\tMean/Var Layer in/out: 64 8\n",
      "Decoder Architecture:\n",
      "\tFirst Layer in, out and cond:  8 64 10\n",
      "\tOutput Layer in/out:  64 4000 \n",
      "\n",
      "Warning: Labels in adata.obs[cell_type] is not a subset of label-encoder!\n",
      "The missing labels are: {'Erythrocytes', 'Monocyte progenitors', 'CD10+ B cells', 'Erythroid progenitors'}\n",
      "Therefore integer value of those labels is set to -1\n",
      "Warning: Labels in adata.obs[cell_type] is not a subset of label-encoder!\n",
      "The missing labels are: {'Erythrocytes', 'Monocyte progenitors', 'CD10+ B cells', 'Erythroid progenitors'}\n",
      "Therefore integer value of those labels is set to -1\n",
      "Initializing dataloaders\n",
      "Starting training\n",
      " |████████████████████| 100.0%  - val_loss:  443.12 - val_cvae_loss:  443.12\n"
     ]
    },
    {
     "name": "stderr",
     "output_type": "stream",
     "text": [
      "/home/icb/fatemehs.hashemig/miniconda3/envs/interpretable-ssl/lib/python3.12/site-packages/scarches/models/scpoli/scpoli_model.py:347: UserWarning: Creating a tensor from a list of numpy.ndarrays is extremely slow. Please consider converting the list to a single numpy.ndarray with numpy.array() before converting to a tensor. (Triggered internally at /opt/conda/conda-bld/pytorch_1708025845206/work/torch/csrc/utils/tensor_new.cpp:275.)\n",
      "  c = torch.tensor(label_tensor, device=device).T\n",
      "Computing neighbors: 100%|██████████| 1/1 [00:05<00:00,  5.83s/it]\n",
      "Embeddings:   0%|\u001b[32m          \u001b[0m| 0/1 [00:00<?, ?it/s]\n",
      "Metrics:   0%|\u001b[34m          \u001b[0m| 0/10 [00:00<?, ?it/s]\u001b[A\n",
      "Metrics:   0%|\u001b[34m          \u001b[0m| 0/10 [00:00<?, ?it/s, Bio conservation: isolated_labels]\u001b[A\n",
      "Metrics:  10%|\u001b[34m█         \u001b[0m| 1/10 [00:00<00:03,  2.57it/s, Bio conservation: isolated_labels]\u001b[A\n",
      "Metrics:  10%|\u001b[34m█         \u001b[0m| 1/10 [00:00<00:03,  2.57it/s, Bio conservation: nmi_ari_cluster_labels_kmeans]\u001b[A\n",
      "Metrics:  20%|\u001b[34m██        \u001b[0m| 2/10 [00:01<00:06,  1.20it/s, Bio conservation: nmi_ari_cluster_labels_kmeans]\u001b[A\n",
      "Metrics:  20%|\u001b[34m██        \u001b[0m| 2/10 [00:01<00:06,  1.20it/s, Bio conservation: silhouette_label]             \u001b[A\n",
      "Metrics:  30%|\u001b[34m███       \u001b[0m| 3/10 [00:01<00:04,  1.60it/s, Bio conservation: silhouette_label]\u001b[A\n",
      "Metrics:  30%|\u001b[34m███       \u001b[0m| 3/10 [00:01<00:04,  1.60it/s, Bio conservation: clisi_knn]       \u001b[A\n",
      "Metrics:  40%|\u001b[34m████      \u001b[0m| 4/10 [00:02<00:03,  1.87it/s, Bio conservation: clisi_knn]\u001b[A\n",
      "Metrics:  40%|\u001b[34m████      \u001b[0m| 4/10 [00:02<00:03,  1.87it/s, Batch correction: silhouette_batch]\u001b[A\n",
      "Metrics:  50%|\u001b[34m█████     \u001b[0m| 5/10 [00:02<00:02,  1.87it/s, Batch correction: ilisi_knn]       \u001b[A\n",
      "Metrics:  60%|\u001b[34m██████    \u001b[0m| 6/10 [00:02<00:01,  3.33it/s, Batch correction: ilisi_knn]\u001b[A\n",
      "Metrics:  60%|\u001b[34m██████    \u001b[0m| 6/10 [00:02<00:01,  3.33it/s, Batch correction: kbet_per_label]\u001b[A\n",
      "Metrics:  70%|\u001b[34m███████   \u001b[0m| 7/10 [00:14<00:10,  3.51s/it, Batch correction: kbet_per_label]\u001b[A\n",
      "Metrics:  70%|\u001b[34m███████   \u001b[0m| 7/10 [00:14<00:10,  3.51s/it, Batch correction: graph_connectivity]\u001b[A\n",
      "Metrics:  80%|\u001b[34m████████  \u001b[0m| 8/10 [00:14<00:07,  3.51s/it, Batch correction: pcr_comparison]    \u001b[A\n",
      "Embeddings: 100%|\u001b[32m██████████\u001b[0m| 1/1 [00:14<00:00, 14.60s/it]atch correction: pcr_comparison]\u001b[A\n",
      "\n",
      "                                                                                         \u001b[A/ictstr01/home/icb/fatemehs.hashemig/codes/interpretable-ssl/interpretable_ssl/trainers/trainer.py:314: FutureWarning: The frame.append method is deprecated and will be removed from pandas in a future version. Use pandas.concat instead.\n",
      "  overall_df = overall_df.append(fold_df, ignore_index=True)\n",
      "INFO:scarches.trainers.scpoli.trainer:GPU available: True, GPU used: True\n"
     ]
    },
    {
     "name": "stdout",
     "output_type": "stream",
     "text": [
      "Evaluating fold 2\n",
      "Embedding dictionary:\n",
      " \tNum conditions: [3]\n",
      " \tEmbedding dim: [10]\n",
      "Encoder Architecture:\n",
      "\tInput Layer in, out and cond: 4000 64 10\n",
      "\tMean/Var Layer in/out: 64 8\n",
      "Decoder Architecture:\n",
      "\tFirst Layer in, out and cond:  8 64 10\n",
      "\tOutput Layer in/out:  64 4000 \n",
      "\n",
      "Embedding dictionary:\n",
      " \tNum conditions: [5]\n",
      " \tEmbedding dim: [10]\n",
      "Encoder Architecture:\n",
      "\tInput Layer in, out and cond: 4000 64 10\n",
      "\tMean/Var Layer in/out: 64 8\n",
      "Decoder Architecture:\n",
      "\tFirst Layer in, out and cond:  8 64 10\n",
      "\tOutput Layer in/out:  64 4000 \n",
      "\n",
      "Warning: Labels in adata.obs[cell_type] is not a subset of label-encoder!\n",
      "The missing labels are: {'CD10+ B cells', 'Monocyte progenitors', 'Plasma cells', 'Erythroid progenitors', 'HSPCs', 'Erythrocytes'}\n",
      "Therefore integer value of those labels is set to -1\n",
      "Warning: Labels in adata.obs[cell_type] is not a subset of label-encoder!\n",
      "The missing labels are: {'Plasma cells', 'HSPCs'}\n",
      "Therefore integer value of those labels is set to -1\n",
      "Warning: Labels in adata.obs[cell_type] is not a subset of label-encoder!\n",
      "The missing labels are: {'CD10+ B cells', 'Monocyte progenitors', 'Plasma cells', 'Erythroid progenitors', 'HSPCs', 'Erythrocytes'}\n",
      "Therefore integer value of those labels is set to -1\n",
      "Warning: Labels in adata.obs[cell_type] is not a subset of label-encoder!\n",
      "The missing labels are: {'Plasma cells', 'HSPCs'}\n",
      "Therefore integer value of those labels is set to -1\n",
      "Initializing dataloaders\n",
      "Starting training\n",
      " |████████████████████| 100.0%  - val_loss:  897.86 - val_cvae_loss:  897.86\n"
     ]
    },
    {
     "name": "stderr",
     "output_type": "stream",
     "text": [
      "Computing neighbors: 100%|██████████| 1/1 [00:08<00:00,  8.62s/it]\n",
      "Embeddings:   0%|\u001b[32m          \u001b[0m| 0/1 [00:00<?, ?it/s]\n",
      "Metrics:   0%|\u001b[34m          \u001b[0m| 0/10 [00:00<?, ?it/s]\u001b[A\n",
      "Metrics:   0%|\u001b[34m          \u001b[0m| 0/10 [00:00<?, ?it/s, Bio conservation: isolated_labels]\u001b[A\n",
      "Metrics:  10%|\u001b[34m█         \u001b[0m| 1/10 [00:01<00:09,  1.02s/it, Bio conservation: isolated_labels]\u001b[A\n",
      "Metrics:  10%|\u001b[34m█         \u001b[0m| 1/10 [00:01<00:09,  1.02s/it, Bio conservation: nmi_ari_cluster_labels_kmeans]\u001b[A\n",
      "Metrics:  20%|\u001b[34m██        \u001b[0m| 2/10 [00:03<00:13,  1.74s/it, Bio conservation: nmi_ari_cluster_labels_kmeans]\u001b[A\n",
      "Metrics:  20%|\u001b[34m██        \u001b[0m| 2/10 [00:03<00:13,  1.74s/it, Bio conservation: silhouette_label]             \u001b[A\n",
      "Metrics:  30%|\u001b[34m███       \u001b[0m| 3/10 [00:04<00:09,  1.31s/it, Bio conservation: silhouette_label]\u001b[A\n",
      "Metrics:  30%|\u001b[34m███       \u001b[0m| 3/10 [00:04<00:09,  1.31s/it, Bio conservation: clisi_knn]       \u001b[A\n",
      "Metrics:  40%|\u001b[34m████      \u001b[0m| 4/10 [00:04<00:05,  1.04it/s, Bio conservation: clisi_knn]\u001b[A\n",
      "Metrics:  40%|\u001b[34m████      \u001b[0m| 4/10 [00:04<00:05,  1.04it/s, Batch correction: silhouette_batch]\u001b[A\n",
      "Metrics:  50%|\u001b[34m█████     \u001b[0m| 5/10 [00:04<00:03,  1.48it/s, Batch correction: silhouette_batch]\u001b[A\n",
      "Metrics:  50%|\u001b[34m█████     \u001b[0m| 5/10 [00:04<00:03,  1.48it/s, Batch correction: ilisi_knn]       \u001b[A\n",
      "Metrics:  60%|\u001b[34m██████    \u001b[0m| 6/10 [00:04<00:01,  2.01it/s, Batch correction: ilisi_knn]\u001b[A\n",
      "Metrics:  60%|\u001b[34m██████    \u001b[0m| 6/10 [00:04<00:01,  2.01it/s, Batch correction: kbet_per_label]\u001b[A\n",
      "Metrics:  70%|\u001b[34m███████   \u001b[0m| 7/10 [00:21<00:17,  5.71s/it, Batch correction: kbet_per_label]\u001b[A\n",
      "Metrics:  70%|\u001b[34m███████   \u001b[0m| 7/10 [00:21<00:17,  5.71s/it, Batch correction: graph_connectivity]\u001b[A\n",
      "Embeddings: 100%|\u001b[32m██████████\u001b[0m| 1/1 [00:21<00:00, 21.36s/it]atch correction: pcr_comparison]    \u001b[A\n",
      "\n",
      "                                                                                         \u001b[A/ictstr01/home/icb/fatemehs.hashemig/codes/interpretable-ssl/interpretable_ssl/trainers/trainer.py:314: FutureWarning: The frame.append method is deprecated and will be removed from pandas in a future version. Use pandas.concat instead.\n",
      "  overall_df = overall_df.append(fold_df, ignore_index=True)\n",
      "INFO:scarches.trainers.scpoli.trainer:GPU available: True, GPU used: True\n"
     ]
    },
    {
     "name": "stdout",
     "output_type": "stream",
     "text": [
      "Evaluating fold 3\n",
      "Embedding dictionary:\n",
      " \tNum conditions: [3]\n",
      " \tEmbedding dim: [10]\n",
      "Encoder Architecture:\n",
      "\tInput Layer in, out and cond: 4000 64 10\n",
      "\tMean/Var Layer in/out: 64 8\n",
      "Decoder Architecture:\n",
      "\tFirst Layer in, out and cond:  8 64 10\n",
      "\tOutput Layer in/out:  64 4000 \n",
      "\n",
      "Embedding dictionary:\n",
      " \tNum conditions: [5]\n",
      " \tEmbedding dim: [10]\n",
      "Encoder Architecture:\n",
      "\tInput Layer in, out and cond: 4000 64 10\n",
      "\tMean/Var Layer in/out: 64 8\n",
      "Decoder Architecture:\n",
      "\tFirst Layer in, out and cond:  8 64 10\n",
      "\tOutput Layer in/out:  64 4000 \n",
      "\n",
      "Warning: Labels in adata.obs[cell_type] is not a subset of label-encoder!\n",
      "The missing labels are: {'Erythrocytes', 'Monocyte progenitors', 'CD10+ B cells', 'Erythroid progenitors'}\n",
      "Therefore integer value of those labels is set to -1\n",
      "Warning: Labels in adata.obs[cell_type] is not a subset of label-encoder!\n",
      "The missing labels are: {'Erythrocytes', 'Monocyte progenitors', 'CD10+ B cells', 'Erythroid progenitors'}\n",
      "Therefore integer value of those labels is set to -1\n",
      "Initializing dataloaders\n",
      "Starting training\n",
      " |████████████████████| 100.0%  - val_loss:  450.10 - val_cvae_loss:  450.10\n"
     ]
    },
    {
     "name": "stderr",
     "output_type": "stream",
     "text": [
      "Computing neighbors: 100%|██████████| 1/1 [00:07<00:00,  7.84s/it]\n",
      "Embeddings:   0%|\u001b[32m          \u001b[0m| 0/1 [00:00<?, ?it/s]\n",
      "Metrics:   0%|\u001b[34m          \u001b[0m| 0/10 [00:00<?, ?it/s]\u001b[A\n",
      "Metrics:   0%|\u001b[34m          \u001b[0m| 0/10 [00:00<?, ?it/s, Bio conservation: isolated_labels]\u001b[A\n",
      "Metrics:  10%|\u001b[34m█         \u001b[0m| 1/10 [00:00<00:06,  1.46it/s, Bio conservation: isolated_labels]\u001b[A\n",
      "Metrics:  10%|\u001b[34m█         \u001b[0m| 1/10 [00:00<00:06,  1.46it/s, Bio conservation: nmi_ari_cluster_labels_kmeans]\u001b[A\n",
      "Metrics:  20%|\u001b[34m██        \u001b[0m| 2/10 [00:02<00:10,  1.29s/it, Bio conservation: nmi_ari_cluster_labels_kmeans]\u001b[A\n",
      "Metrics:  20%|\u001b[34m██        \u001b[0m| 2/10 [00:02<00:10,  1.29s/it, Bio conservation: silhouette_label]             \u001b[A\n",
      "Metrics:  30%|\u001b[34m███       \u001b[0m| 3/10 [00:03<00:07,  1.01s/it, Bio conservation: silhouette_label]\u001b[A\n",
      "Metrics:  30%|\u001b[34m███       \u001b[0m| 3/10 [00:03<00:07,  1.01s/it, Bio conservation: clisi_knn]       \u001b[A\n",
      "Metrics:  40%|\u001b[34m████      \u001b[0m| 4/10 [00:03<00:05,  1.12it/s, Bio conservation: clisi_knn]\u001b[A\n",
      "Metrics:  40%|\u001b[34m████      \u001b[0m| 4/10 [00:03<00:05,  1.12it/s, Batch correction: silhouette_batch]\u001b[A\n",
      "Metrics:  50%|\u001b[34m█████     \u001b[0m| 5/10 [00:04<00:03,  1.52it/s, Batch correction: silhouette_batch]\u001b[A\n",
      "Metrics:  50%|\u001b[34m█████     \u001b[0m| 5/10 [00:04<00:03,  1.52it/s, Batch correction: ilisi_knn]       \u001b[A\n",
      "Metrics:  60%|\u001b[34m██████    \u001b[0m| 6/10 [00:04<00:01,  2.02it/s, Batch correction: ilisi_knn]\u001b[A\n",
      "Metrics:  60%|\u001b[34m██████    \u001b[0m| 6/10 [00:04<00:01,  2.02it/s, Batch correction: kbet_per_label]\u001b[A\n",
      "Metrics:  70%|\u001b[34m███████   \u001b[0m| 7/10 [00:18<00:15,  5.05s/it, Batch correction: kbet_per_label]\u001b[A\n",
      "Metrics:  70%|\u001b[34m███████   \u001b[0m| 7/10 [00:18<00:15,  5.05s/it, Batch correction: graph_connectivity]\u001b[A\n",
      "Embeddings: 100%|\u001b[32m██████████\u001b[0m| 1/1 [00:18<00:00, 18.73s/it]atch correction: pcr_comparison]    \u001b[A\n",
      "\n",
      "                                                                                         \u001b[A/ictstr01/home/icb/fatemehs.hashemig/codes/interpretable-ssl/interpretable_ssl/trainers/trainer.py:314: FutureWarning: The frame.append method is deprecated and will be removed from pandas in a future version. Use pandas.concat instead.\n",
      "  overall_df = overall_df.append(fold_df, ignore_index=True)\n",
      "INFO:scarches.trainers.scpoli.trainer:GPU available: True, GPU used: True\n"
     ]
    },
    {
     "name": "stdout",
     "output_type": "stream",
     "text": [
      "Evaluating fold 4\n",
      "Embedding dictionary:\n",
      " \tNum conditions: [3]\n",
      " \tEmbedding dim: [10]\n",
      "Encoder Architecture:\n",
      "\tInput Layer in, out and cond: 4000 64 10\n",
      "\tMean/Var Layer in/out: 64 8\n",
      "Decoder Architecture:\n",
      "\tFirst Layer in, out and cond:  8 64 10\n",
      "\tOutput Layer in/out:  64 4000 \n",
      "\n",
      "Embedding dictionary:\n",
      " \tNum conditions: [5]\n",
      " \tEmbedding dim: [10]\n",
      "Encoder Architecture:\n",
      "\tInput Layer in, out and cond: 4000 64 10\n",
      "\tMean/Var Layer in/out: 64 8\n",
      "Decoder Architecture:\n",
      "\tFirst Layer in, out and cond:  8 64 10\n",
      "\tOutput Layer in/out:  64 4000 \n",
      "\n",
      "Warning: Labels in adata.obs[cell_type] is not a subset of label-encoder!\n",
      "The missing labels are: {'Erythrocytes', 'Monocyte progenitors', 'CD10+ B cells', 'Erythroid progenitors'}\n",
      "Therefore integer value of those labels is set to -1\n",
      "Warning: Labels in adata.obs[cell_type] is not a subset of label-encoder!\n",
      "The missing labels are: {'Monocyte progenitors', 'Erythrocytes'}\n",
      "Therefore integer value of those labels is set to -1\n",
      "Warning: Labels in adata.obs[cell_type] is not a subset of label-encoder!\n",
      "The missing labels are: {'Erythrocytes', 'Monocyte progenitors', 'CD10+ B cells', 'Erythroid progenitors'}\n",
      "Therefore integer value of those labels is set to -1\n",
      "Warning: Labels in adata.obs[cell_type] is not a subset of label-encoder!\n",
      "The missing labels are: {'Monocyte progenitors', 'Erythrocytes'}\n",
      "Therefore integer value of those labels is set to -1\n",
      "Initializing dataloaders\n",
      "Starting training\n",
      " |████████████████████| 100.0%  - val_loss: 4384.26 - val_cvae_loss: 4384.26\n"
     ]
    },
    {
     "name": "stderr",
     "output_type": "stream",
     "text": [
      "Computing neighbors: 100%|██████████| 1/1 [00:04<00:00,  4.90s/it]\n",
      "Embeddings:   0%|\u001b[32m          \u001b[0m| 0/1 [00:00<?, ?it/s]\n",
      "Metrics:   0%|\u001b[34m          \u001b[0m| 0/10 [00:00<?, ?it/s]\u001b[A\n",
      "Metrics:   0%|\u001b[34m          \u001b[0m| 0/10 [00:00<?, ?it/s, Bio conservation: isolated_labels]\u001b[A\n",
      "Metrics:  10%|\u001b[34m█         \u001b[0m| 1/10 [00:00<00:01,  4.60it/s, Bio conservation: isolated_labels]\u001b[A\n",
      "Metrics:  10%|\u001b[34m█         \u001b[0m| 1/10 [00:00<00:01,  4.60it/s, Bio conservation: nmi_ari_cluster_labels_kmeans]\u001b[A\n",
      "Metrics:  20%|\u001b[34m██        \u001b[0m| 2/10 [00:01<00:08,  1.01s/it, Bio conservation: nmi_ari_cluster_labels_kmeans]\u001b[A\n",
      "Metrics:  20%|\u001b[34m██        \u001b[0m| 2/10 [00:01<00:08,  1.01s/it, Bio conservation: silhouette_label]             \u001b[A\n",
      "Metrics:  30%|\u001b[34m███       \u001b[0m| 3/10 [00:02<00:04,  1.45it/s, Bio conservation: silhouette_label]\u001b[A\n",
      "Metrics:  30%|\u001b[34m███       \u001b[0m| 3/10 [00:02<00:04,  1.45it/s, Bio conservation: clisi_knn]       \u001b[A\n",
      "Metrics:  40%|\u001b[34m████      \u001b[0m| 4/10 [00:02<00:02,  2.16it/s, Bio conservation: clisi_knn]\u001b[A\n",
      "Metrics:  40%|\u001b[34m████      \u001b[0m| 4/10 [00:02<00:02,  2.16it/s, Batch correction: silhouette_batch]\u001b[A\n",
      "Metrics:  50%|\u001b[34m█████     \u001b[0m| 5/10 [00:02<00:01,  2.91it/s, Batch correction: silhouette_batch]\u001b[A\n",
      "Metrics:  50%|\u001b[34m█████     \u001b[0m| 5/10 [00:02<00:01,  2.91it/s, Batch correction: ilisi_knn]       \u001b[A\n",
      "Metrics:  60%|\u001b[34m██████    \u001b[0m| 6/10 [00:02<00:01,  3.81it/s, Batch correction: ilisi_knn]\u001b[A\n",
      "Metrics:  60%|\u001b[34m██████    \u001b[0m| 6/10 [00:02<00:01,  3.81it/s, Batch correction: kbet_per_label]\u001b[A\n",
      "Metrics:  70%|\u001b[34m███████   \u001b[0m| 7/10 [00:12<00:10,  3.40s/it, Batch correction: kbet_per_label]\u001b[A\n",
      "Metrics:  70%|\u001b[34m███████   \u001b[0m| 7/10 [00:12<00:10,  3.40s/it, Batch correction: graph_connectivity]\u001b[A\n",
      "Embeddings: 100%|\u001b[32m██████████\u001b[0m| 1/1 [00:12<00:00, 12.38s/it]atch correction: pcr_comparison]    \u001b[A\n",
      "\n",
      "                                                                                         \u001b[A/ictstr01/home/icb/fatemehs.hashemig/codes/interpretable-ssl/interpretable_ssl/trainers/trainer.py:314: FutureWarning: The frame.append method is deprecated and will be removed from pandas in a future version. Use pandas.concat instead.\n",
      "  overall_df = overall_df.append(fold_df, ignore_index=True)\n",
      "INFO:scarches.trainers.scpoli.trainer:GPU available: True, GPU used: True\n"
     ]
    },
    {
     "name": "stdout",
     "output_type": "stream",
     "text": [
      "Evaluating fold 5\n",
      "Embedding dictionary:\n",
      " \tNum conditions: [3]\n",
      " \tEmbedding dim: [10]\n",
      "Encoder Architecture:\n",
      "\tInput Layer in, out and cond: 4000 64 10\n",
      "\tMean/Var Layer in/out: 64 8\n",
      "Decoder Architecture:\n",
      "\tFirst Layer in, out and cond:  8 64 10\n",
      "\tOutput Layer in/out:  64 4000 \n",
      "\n",
      "Embedding dictionary:\n",
      " \tNum conditions: [5]\n",
      " \tEmbedding dim: [10]\n",
      "Encoder Architecture:\n",
      "\tInput Layer in, out and cond: 4000 64 10\n",
      "\tMean/Var Layer in/out: 64 8\n",
      "Decoder Architecture:\n",
      "\tFirst Layer in, out and cond:  8 64 10\n",
      "\tOutput Layer in/out:  64 4000 \n",
      "\n",
      "Initializing dataloaders\n",
      "Starting training\n",
      " |████████████████████| 100.0%  - val_loss:  901.88 - val_cvae_loss:  901.88\n"
     ]
    },
    {
     "name": "stderr",
     "output_type": "stream",
     "text": [
      "Computing neighbors: 100%|██████████| 1/1 [00:06<00:00,  6.16s/it]\n",
      "Embeddings:   0%|\u001b[32m          \u001b[0m| 0/1 [00:00<?, ?it/s]\n",
      "Metrics:   0%|\u001b[34m          \u001b[0m| 0/10 [00:00<?, ?it/s]\u001b[A\n",
      "Metrics:   0%|\u001b[34m          \u001b[0m| 0/10 [00:00<?, ?it/s, Bio conservation: isolated_labels]\u001b[A\n",
      "Metrics:  10%|\u001b[34m█         \u001b[0m| 1/10 [00:00<00:03,  2.42it/s, Bio conservation: isolated_labels]\u001b[A\n",
      "Metrics:  10%|\u001b[34m█         \u001b[0m| 1/10 [00:00<00:03,  2.42it/s, Bio conservation: nmi_ari_cluster_labels_kmeans]\u001b[A\n",
      "Metrics:  20%|\u001b[34m██        \u001b[0m| 2/10 [00:01<00:07,  1.01it/s, Bio conservation: nmi_ari_cluster_labels_kmeans]\u001b[A\n",
      "Metrics:  20%|\u001b[34m██        \u001b[0m| 2/10 [00:01<00:07,  1.01it/s, Bio conservation: silhouette_label]             \u001b[A\n",
      "Metrics:  30%|\u001b[34m███       \u001b[0m| 3/10 [00:02<00:04,  1.43it/s, Bio conservation: silhouette_label]\u001b[A\n",
      "Metrics:  30%|\u001b[34m███       \u001b[0m| 3/10 [00:02<00:04,  1.43it/s, Bio conservation: clisi_knn]       \u001b[A\n",
      "Metrics:  40%|\u001b[34m████      \u001b[0m| 4/10 [00:02<00:02,  2.13it/s, Bio conservation: clisi_knn]\u001b[A\n",
      "Metrics:  40%|\u001b[34m████      \u001b[0m| 4/10 [00:02<00:02,  2.13it/s, Batch correction: silhouette_batch]\u001b[A\n",
      "Metrics:  50%|\u001b[34m█████     \u001b[0m| 5/10 [00:02<00:01,  2.77it/s, Batch correction: silhouette_batch]\u001b[A\n",
      "Metrics:  50%|\u001b[34m█████     \u001b[0m| 5/10 [00:02<00:01,  2.77it/s, Batch correction: ilisi_knn]       \u001b[A\n",
      "Metrics:  60%|\u001b[34m██████    \u001b[0m| 6/10 [00:02<00:01,  3.66it/s, Batch correction: ilisi_knn]\u001b[A\n",
      "Metrics:  60%|\u001b[34m██████    \u001b[0m| 6/10 [00:02<00:01,  3.66it/s, Batch correction: kbet_per_label]\u001b[A"
     ]
    },
    {
     "name": "stdout",
     "output_type": "stream",
     "text": [
      "\u001b[34mINFO    \u001b[0m HSPCs consists of a single batch or is too small. Skip.                                                   \n",
      "\u001b[34mINFO    \u001b[0m Monocyte-derived dendritic cells consists of a single batch or is too small. Skip.                        \n",
      "\u001b[34mINFO    \u001b[0m Plasma cells consists of a single batch or is too small. Skip.                                            \n"
     ]
    },
    {
     "name": "stderr",
     "output_type": "stream",
     "text": [
      "\n",
      "Metrics:  70%|\u001b[34m███████   \u001b[0m| 7/10 [00:11<00:09,  3.23s/it, Batch correction: kbet_per_label]\u001b[A\n",
      "Metrics:  70%|\u001b[34m███████   \u001b[0m| 7/10 [00:11<00:09,  3.23s/it, Batch correction: graph_connectivity]\u001b[A\n",
      "Embeddings: 100%|\u001b[32m██████████\u001b[0m| 1/1 [00:11<00:00, 11.93s/it]atch correction: pcr_comparison]    \u001b[A\n",
      "\n",
      "                                                                                         \u001b[A/ictstr01/home/icb/fatemehs.hashemig/codes/interpretable-ssl/interpretable_ssl/trainers/trainer.py:314: FutureWarning: The frame.append method is deprecated and will be removed from pandas in a future version. Use pandas.concat instead.\n",
      "  overall_df = overall_df.append(fold_df, ignore_index=True)\n",
      "INFO:scarches.trainers.scpoli.trainer:GPU available: True, GPU used: True\n"
     ]
    },
    {
     "name": "stdout",
     "output_type": "stream",
     "text": [
      "Evaluating fold 6\n",
      "Embedding dictionary:\n",
      " \tNum conditions: [3]\n",
      " \tEmbedding dim: [10]\n",
      "Encoder Architecture:\n",
      "\tInput Layer in, out and cond: 4000 64 10\n",
      "\tMean/Var Layer in/out: 64 8\n",
      "Decoder Architecture:\n",
      "\tFirst Layer in, out and cond:  8 64 10\n",
      "\tOutput Layer in/out:  64 4000 \n",
      "\n",
      "Embedding dictionary:\n",
      " \tNum conditions: [5]\n",
      " \tEmbedding dim: [10]\n",
      "Encoder Architecture:\n",
      "\tInput Layer in, out and cond: 4000 64 10\n",
      "\tMean/Var Layer in/out: 64 8\n",
      "Decoder Architecture:\n",
      "\tFirst Layer in, out and cond:  8 64 10\n",
      "\tOutput Layer in/out:  64 4000 \n",
      "\n",
      "Initializing dataloaders\n",
      "Starting training\n",
      " |████████████████████| 100.0%  - val_loss:  454.61 - val_cvae_loss:  454.61\n"
     ]
    },
    {
     "name": "stderr",
     "output_type": "stream",
     "text": [
      "Computing neighbors: 100%|██████████| 1/1 [00:05<00:00,  5.28s/it]\n",
      "Embeddings:   0%|\u001b[32m          \u001b[0m| 0/1 [00:00<?, ?it/s]\n",
      "Metrics:   0%|\u001b[34m          \u001b[0m| 0/10 [00:00<?, ?it/s]\u001b[A\n",
      "Metrics:   0%|\u001b[34m          \u001b[0m| 0/10 [00:00<?, ?it/s, Bio conservation: isolated_labels]\u001b[A\n",
      "Metrics:  10%|\u001b[34m█         \u001b[0m| 1/10 [00:00<00:02,  4.06it/s, Bio conservation: isolated_labels]\u001b[A\n",
      "Metrics:  10%|\u001b[34m█         \u001b[0m| 1/10 [00:00<00:02,  4.06it/s, Bio conservation: nmi_ari_cluster_labels_kmeans]\u001b[A\n",
      "Metrics:  20%|\u001b[34m██        \u001b[0m| 2/10 [00:01<00:05,  1.34it/s, Bio conservation: nmi_ari_cluster_labels_kmeans]\u001b[A\n",
      "Metrics:  20%|\u001b[34m██        \u001b[0m| 2/10 [00:01<00:05,  1.34it/s, Bio conservation: silhouette_label]             \u001b[A\n",
      "Metrics:  30%|\u001b[34m███       \u001b[0m| 3/10 [00:01<00:03,  1.97it/s, Bio conservation: silhouette_label]\u001b[A\n",
      "Metrics:  30%|\u001b[34m███       \u001b[0m| 3/10 [00:01<00:03,  1.97it/s, Bio conservation: clisi_knn]       \u001b[A\n",
      "Metrics:  40%|\u001b[34m████      \u001b[0m| 4/10 [00:01<00:03,  1.97it/s, Batch correction: silhouette_batch]\u001b[A\n",
      "Metrics:  50%|\u001b[34m█████     \u001b[0m| 5/10 [00:01<00:01,  3.74it/s, Batch correction: silhouette_batch]\u001b[A\n",
      "Metrics:  50%|\u001b[34m█████     \u001b[0m| 5/10 [00:01<00:01,  3.74it/s, Batch correction: ilisi_knn]       \u001b[A\n",
      "Metrics:  60%|\u001b[34m██████    \u001b[0m| 6/10 [00:01<00:01,  3.74it/s, Batch correction: kbet_per_label]\u001b[A\n",
      "Metrics:  70%|\u001b[34m███████   \u001b[0m| 7/10 [00:09<00:05,  1.85s/it, Batch correction: kbet_per_label]\u001b[A\n",
      "Metrics:  70%|\u001b[34m███████   \u001b[0m| 7/10 [00:09<00:05,  1.85s/it, Batch correction: graph_connectivity]\u001b[A\n",
      "Embeddings: 100%|\u001b[32m██████████\u001b[0m| 1/1 [00:09<00:00,  9.39s/it]atch correction: pcr_comparison]    \u001b[A\n",
      "\n",
      "                                                                                         \u001b[A/ictstr01/home/icb/fatemehs.hashemig/codes/interpretable-ssl/interpretable_ssl/trainers/trainer.py:314: FutureWarning: The frame.append method is deprecated and will be removed from pandas in a future version. Use pandas.concat instead.\n",
      "  overall_df = overall_df.append(fold_df, ignore_index=True)\n",
      "INFO:scarches.trainers.scpoli.trainer:GPU available: True, GPU used: True\n"
     ]
    },
    {
     "name": "stdout",
     "output_type": "stream",
     "text": [
      "Evaluating fold 7\n",
      "Embedding dictionary:\n",
      " \tNum conditions: [3]\n",
      " \tEmbedding dim: [10]\n",
      "Encoder Architecture:\n",
      "\tInput Layer in, out and cond: 4000 64 10\n",
      "\tMean/Var Layer in/out: 64 8\n",
      "Decoder Architecture:\n",
      "\tFirst Layer in, out and cond:  8 64 10\n",
      "\tOutput Layer in/out:  64 4000 \n",
      "\n",
      "Embedding dictionary:\n",
      " \tNum conditions: [5]\n",
      " \tEmbedding dim: [10]\n",
      "Encoder Architecture:\n",
      "\tInput Layer in, out and cond: 4000 64 10\n",
      "\tMean/Var Layer in/out: 64 8\n",
      "Decoder Architecture:\n",
      "\tFirst Layer in, out and cond:  8 64 10\n",
      "\tOutput Layer in/out:  64 4000 \n",
      "\n",
      "Initializing dataloaders\n",
      "Starting training\n",
      " |████████████████████| 100.0%  - val_loss: 4453.24 - val_cvae_loss: 4453.24\n"
     ]
    },
    {
     "name": "stderr",
     "output_type": "stream",
     "text": [
      "Computing neighbors: 100%|██████████| 1/1 [00:02<00:00,  2.12s/it]\n",
      "Embeddings:   0%|\u001b[32m          \u001b[0m| 0/1 [00:00<?, ?it/s]\n",
      "Metrics:   0%|\u001b[34m          \u001b[0m| 0/10 [00:00<?, ?it/s]\u001b[A\n",
      "Metrics:   0%|\u001b[34m          \u001b[0m| 0/10 [00:00<?, ?it/s, Bio conservation: isolated_labels]\u001b[A\n",
      "Metrics:  10%|\u001b[34m█         \u001b[0m| 1/10 [00:00<00:00, 21.50it/s, Bio conservation: nmi_ari_cluster_labels_kmeans]\u001b[A\n",
      "Metrics:  20%|\u001b[34m██        \u001b[0m| 2/10 [00:00<00:03,  2.38it/s, Bio conservation: nmi_ari_cluster_labels_kmeans]\u001b[A\n",
      "Metrics:  20%|\u001b[34m██        \u001b[0m| 2/10 [00:00<00:03,  2.38it/s, Bio conservation: silhouette_label]             \u001b[A\n",
      "Metrics:  30%|\u001b[34m███       \u001b[0m| 3/10 [00:00<00:02,  2.38it/s, Bio conservation: clisi_knn]       \u001b[A\n",
      "Metrics:  40%|\u001b[34m████      \u001b[0m| 4/10 [00:00<00:02,  2.38it/s, Batch correction: silhouette_batch]\u001b[A\n",
      "Metrics:  50%|\u001b[34m█████     \u001b[0m| 5/10 [00:00<00:02,  2.38it/s, Batch correction: ilisi_knn]       \u001b[A\n",
      "Metrics:  60%|\u001b[34m██████    \u001b[0m| 6/10 [00:00<00:00,  7.64it/s, Batch correction: ilisi_knn]\u001b[A\n",
      "Metrics:  60%|\u001b[34m██████    \u001b[0m| 6/10 [00:00<00:00,  7.64it/s, Batch correction: kbet_per_label]\u001b[A"
     ]
    },
    {
     "name": "stdout",
     "output_type": "stream",
     "text": [
      "\u001b[34mINFO    \u001b[0m CD20+ B cells consists of a single batch or is too small. Skip.                                           \n",
      "\u001b[34mINFO    \u001b[0m CD4+ T cells consists of a single batch or is too small. Skip.                                            \n",
      "\u001b[34mINFO    \u001b[0m CD8+ T cells consists of a single batch or is too small. Skip.                                            \n",
      "\u001b[34mINFO    \u001b[0m Megakaryocyte progenitors consists of a single batch or is too small. Skip.                               \n",
      "\u001b[34mINFO    \u001b[0m Monocyte-derived dendritic cells consists of a single batch or is too small. Skip.                        \n",
      "\u001b[34mINFO    \u001b[0m NK cells consists of a single batch or is too small. Skip.                                                \n",
      "\u001b[34mINFO    \u001b[0m NKT cells consists of a single batch or is too small. Skip.                                               \n"
     ]
    },
    {
     "name": "stderr",
     "output_type": "stream",
     "text": [
      "\n",
      "Metrics:  70%|\u001b[34m███████   \u001b[0m| 7/10 [00:01<00:00,  7.64it/s, Batch correction: graph_connectivity]\u001b[A\n",
      "Metrics:  80%|\u001b[34m████████  \u001b[0m| 8/10 [00:01<00:00,  7.64it/s, Batch correction: pcr_comparison]    \u001b[A\n",
      "Embeddings: 100%|\u001b[32m██████████\u001b[0m| 1/1 [00:01<00:00,  1.93s/it]atch correction: pcr_comparison]\u001b[A\n",
      "\n",
      "                                                                                         \u001b[A/ictstr01/home/icb/fatemehs.hashemig/codes/interpretable-ssl/interpretable_ssl/trainers/trainer.py:314: FutureWarning: The frame.append method is deprecated and will be removed from pandas in a future version. Use pandas.concat instead.\n",
      "  overall_df = overall_df.append(fold_df, ignore_index=True)\n",
      "INFO:scarches.trainers.scpoli.trainer:GPU available: True, GPU used: True\n"
     ]
    },
    {
     "name": "stdout",
     "output_type": "stream",
     "text": [
      "Evaluating fold 8\n",
      "Embedding dictionary:\n",
      " \tNum conditions: [3]\n",
      " \tEmbedding dim: [10]\n",
      "Encoder Architecture:\n",
      "\tInput Layer in, out and cond: 4000 64 10\n",
      "\tMean/Var Layer in/out: 64 8\n",
      "Decoder Architecture:\n",
      "\tFirst Layer in, out and cond:  8 64 10\n",
      "\tOutput Layer in/out:  64 4000 \n",
      "\n",
      "Embedding dictionary:\n",
      " \tNum conditions: [5]\n",
      " \tEmbedding dim: [10]\n",
      "Encoder Architecture:\n",
      "\tInput Layer in, out and cond: 4000 64 10\n",
      "\tMean/Var Layer in/out: 64 8\n",
      "Decoder Architecture:\n",
      "\tFirst Layer in, out and cond:  8 64 10\n",
      "\tOutput Layer in/out:  64 4000 \n",
      "\n",
      "Initializing dataloaders\n",
      "Starting training\n",
      " |████████████████████| 100.0%  - val_loss:  449.82 - val_cvae_loss:  449.82\n"
     ]
    },
    {
     "name": "stderr",
     "output_type": "stream",
     "text": [
      "Computing neighbors: 100%|██████████| 1/1 [00:08<00:00,  8.24s/it]\n",
      "Embeddings:   0%|\u001b[32m          \u001b[0m| 0/1 [00:00<?, ?it/s]\n",
      "Metrics:   0%|\u001b[34m          \u001b[0m| 0/10 [00:00<?, ?it/s]\u001b[A\n",
      "Metrics:   0%|\u001b[34m          \u001b[0m| 0/10 [00:00<?, ?it/s, Bio conservation: isolated_labels]\u001b[A\n",
      "Metrics:  10%|\u001b[34m█         \u001b[0m| 1/10 [00:00<00:06,  1.37it/s, Bio conservation: isolated_labels]\u001b[A\n",
      "Metrics:  10%|\u001b[34m█         \u001b[0m| 1/10 [00:00<00:06,  1.37it/s, Bio conservation: nmi_ari_cluster_labels_kmeans]\u001b[A\n",
      "Metrics:  20%|\u001b[34m██        \u001b[0m| 2/10 [00:03<00:13,  1.65s/it, Bio conservation: nmi_ari_cluster_labels_kmeans]\u001b[A\n",
      "Metrics:  20%|\u001b[34m██        \u001b[0m| 2/10 [00:03<00:13,  1.65s/it, Bio conservation: silhouette_label]             \u001b[A\n",
      "Metrics:  30%|\u001b[34m███       \u001b[0m| 3/10 [00:03<00:09,  1.33s/it, Bio conservation: silhouette_label]\u001b[A\n",
      "Metrics:  30%|\u001b[34m███       \u001b[0m| 3/10 [00:03<00:09,  1.33s/it, Bio conservation: clisi_knn]       \u001b[A\n",
      "Metrics:  40%|\u001b[34m████      \u001b[0m| 4/10 [00:04<00:05,  1.12it/s, Bio conservation: clisi_knn]\u001b[A\n",
      "Metrics:  40%|\u001b[34m████      \u001b[0m| 4/10 [00:04<00:05,  1.12it/s, Batch correction: silhouette_batch]\u001b[A\n",
      "Metrics:  50%|\u001b[34m█████     \u001b[0m| 5/10 [00:04<00:03,  1.41it/s, Batch correction: silhouette_batch]\u001b[A\n",
      "Metrics:  50%|\u001b[34m█████     \u001b[0m| 5/10 [00:04<00:03,  1.41it/s, Batch correction: ilisi_knn]       \u001b[A\n",
      "Metrics:  60%|\u001b[34m██████    \u001b[0m| 6/10 [00:04<00:02,  1.89it/s, Batch correction: ilisi_knn]\u001b[A\n",
      "Metrics:  60%|\u001b[34m██████    \u001b[0m| 6/10 [00:04<00:02,  1.89it/s, Batch correction: kbet_per_label]\u001b[A"
     ]
    },
    {
     "name": "stdout",
     "output_type": "stream",
     "text": [
      "\u001b[34mINFO    \u001b[0m HSPCs consists of a single batch or is too small. Skip.                                                   \n",
      "\u001b[34mINFO    \u001b[0m Plasma cells consists of a single batch or is too small. Skip.                                            \n"
     ]
    },
    {
     "name": "stderr",
     "output_type": "stream",
     "text": [
      "\n",
      "Metrics:  70%|\u001b[34m███████   \u001b[0m| 7/10 [00:19<00:15,  5.07s/it, Batch correction: kbet_per_label]\u001b[A\n",
      "Metrics:  70%|\u001b[34m███████   \u001b[0m| 7/10 [00:19<00:15,  5.07s/it, Batch correction: graph_connectivity]\u001b[A\n",
      "Metrics:  80%|\u001b[34m████████  \u001b[0m| 8/10 [00:19<00:10,  5.07s/it, Batch correction: pcr_comparison]    \u001b[A\n",
      "Embeddings: 100%|\u001b[32m██████████\u001b[0m| 1/1 [00:19<00:00, 19.38s/it]atch correction: pcr_comparison]\u001b[A\n",
      "\n",
      "                                                                                         \u001b[A/ictstr01/home/icb/fatemehs.hashemig/codes/interpretable-ssl/interpretable_ssl/trainers/trainer.py:314: FutureWarning: The frame.append method is deprecated and will be removed from pandas in a future version. Use pandas.concat instead.\n",
      "  overall_df = overall_df.append(fold_df, ignore_index=True)\n",
      "INFO:scarches.trainers.scpoli.trainer:GPU available: True, GPU used: True\n"
     ]
    },
    {
     "name": "stdout",
     "output_type": "stream",
     "text": [
      "Evaluating fold 9\n",
      "Embedding dictionary:\n",
      " \tNum conditions: [3]\n",
      " \tEmbedding dim: [10]\n",
      "Encoder Architecture:\n",
      "\tInput Layer in, out and cond: 4000 64 10\n",
      "\tMean/Var Layer in/out: 64 8\n",
      "Decoder Architecture:\n",
      "\tFirst Layer in, out and cond:  8 64 10\n",
      "\tOutput Layer in/out:  64 4000 \n",
      "\n",
      "Embedding dictionary:\n",
      " \tNum conditions: [5]\n",
      " \tEmbedding dim: [10]\n",
      "Encoder Architecture:\n",
      "\tInput Layer in, out and cond: 4000 64 10\n",
      "\tMean/Var Layer in/out: 64 8\n",
      "Decoder Architecture:\n",
      "\tFirst Layer in, out and cond:  8 64 10\n",
      "\tOutput Layer in/out:  64 4000 \n",
      "\n",
      "Initializing dataloaders\n",
      "Starting training\n",
      " |████████████████████| 100.0%  - val_loss: 4001.24 - val_cvae_loss: 4001.24\n"
     ]
    },
    {
     "name": "stderr",
     "output_type": "stream",
     "text": [
      "Computing neighbors: 100%|██████████| 1/1 [00:05<00:00,  5.09s/it]\n",
      "Embeddings:   0%|\u001b[32m          \u001b[0m| 0/1 [00:00<?, ?it/s]\n",
      "Metrics:   0%|\u001b[34m          \u001b[0m| 0/10 [00:00<?, ?it/s]\u001b[A\n",
      "Metrics:   0%|\u001b[34m          \u001b[0m| 0/10 [00:00<?, ?it/s, Bio conservation: isolated_labels]\u001b[A\n",
      "Metrics:  10%|\u001b[34m█         \u001b[0m| 1/10 [00:00<00:02,  3.71it/s, Bio conservation: isolated_labels]\u001b[A\n",
      "Metrics:  10%|\u001b[34m█         \u001b[0m| 1/10 [00:00<00:02,  3.71it/s, Bio conservation: nmi_ari_cluster_labels_kmeans]\u001b[A\n",
      "Metrics:  20%|\u001b[34m██        \u001b[0m| 2/10 [00:01<00:07,  1.13it/s, Bio conservation: nmi_ari_cluster_labels_kmeans]\u001b[A\n",
      "Metrics:  20%|\u001b[34m██        \u001b[0m| 2/10 [00:01<00:07,  1.13it/s, Bio conservation: silhouette_label]             \u001b[A\n",
      "Metrics:  30%|\u001b[34m███       \u001b[0m| 3/10 [00:01<00:04,  1.68it/s, Bio conservation: silhouette_label]\u001b[A\n",
      "Metrics:  30%|\u001b[34m███       \u001b[0m| 3/10 [00:01<00:04,  1.68it/s, Bio conservation: clisi_knn]       \u001b[A\n",
      "Metrics:  40%|\u001b[34m████      \u001b[0m| 4/10 [00:01<00:03,  1.68it/s, Batch correction: silhouette_batch]\u001b[A\n",
      "Metrics:  50%|\u001b[34m█████     \u001b[0m| 5/10 [00:01<00:01,  3.37it/s, Batch correction: silhouette_batch]\u001b[A\n",
      "Metrics:  50%|\u001b[34m█████     \u001b[0m| 5/10 [00:01<00:01,  3.37it/s, Batch correction: ilisi_knn]       \u001b[A\n",
      "Metrics:  60%|\u001b[34m██████    \u001b[0m| 6/10 [00:02<00:01,  3.37it/s, Batch correction: kbet_per_label]\u001b[A"
     ]
    },
    {
     "name": "stdout",
     "output_type": "stream",
     "text": [
      "\u001b[34mINFO    \u001b[0m CD20+ B cells consists of a single batch or is too small. Skip.                                           \n",
      "\u001b[34mINFO    \u001b[0m CD4+ T cells consists of a single batch or is too small. Skip.                                            \n",
      "\u001b[34mINFO    \u001b[0m CD8+ T cells consists of a single batch or is too small. Skip.                                            \n",
      "\u001b[34mINFO    \u001b[0m HSPCs consists of a single batch or is too small. Skip.                                                   \n",
      "\u001b[34mINFO    \u001b[0m Megakaryocyte progenitors consists of a single batch or is too small. Skip.                               \n",
      "\u001b[34mINFO    \u001b[0m NK cells consists of a single batch or is too small. Skip.                                                \n",
      "\u001b[34mINFO    \u001b[0m NKT cells consists of a single batch or is too small. Skip.                                               \n",
      "\u001b[34mINFO    \u001b[0m Plasma cells consists of a single batch or is too small. Skip.                                            \n"
     ]
    },
    {
     "name": "stderr",
     "output_type": "stream",
     "text": [
      "\n",
      "Metrics:  70%|\u001b[34m███████   \u001b[0m| 7/10 [00:06<00:03,  1.27s/it, Batch correction: kbet_per_label]\u001b[A\n",
      "Metrics:  70%|\u001b[34m███████   \u001b[0m| 7/10 [00:06<00:03,  1.27s/it, Batch correction: graph_connectivity]\u001b[A\n",
      "Embeddings: 100%|\u001b[32m██████████\u001b[0m| 1/1 [00:07<00:00,  7.00s/it]atch correction: pcr_comparison]    \u001b[A\n",
      "\n",
      "                                                                                         \u001b[A/ictstr01/home/icb/fatemehs.hashemig/codes/interpretable-ssl/interpretable_ssl/trainers/trainer.py:314: FutureWarning: The frame.append method is deprecated and will be removed from pandas in a future version. Use pandas.concat instead.\n",
      "  overall_df = overall_df.append(fold_df, ignore_index=True)\n",
      "INFO:scarches.trainers.scpoli.trainer:GPU available: True, GPU used: True\n"
     ]
    },
    {
     "name": "stdout",
     "output_type": "stream",
     "text": [
      "Evaluating fold 10\n",
      "Embedding dictionary:\n",
      " \tNum conditions: [3]\n",
      " \tEmbedding dim: [10]\n",
      "Encoder Architecture:\n",
      "\tInput Layer in, out and cond: 4000 64 10\n",
      "\tMean/Var Layer in/out: 64 8\n",
      "Decoder Architecture:\n",
      "\tFirst Layer in, out and cond:  8 64 10\n",
      "\tOutput Layer in/out:  64 4000 \n",
      "\n",
      "Embedding dictionary:\n",
      " \tNum conditions: [5]\n",
      " \tEmbedding dim: [10]\n",
      "Encoder Architecture:\n",
      "\tInput Layer in, out and cond: 4000 64 10\n",
      "\tMean/Var Layer in/out: 64 8\n",
      "Decoder Architecture:\n",
      "\tFirst Layer in, out and cond:  8 64 10\n",
      "\tOutput Layer in/out:  64 4000 \n",
      "\n",
      "Initializing dataloaders\n",
      "Starting training\n",
      " |████████████████████| 100.0%  - val_loss: 4376.90 - val_cvae_loss: 4376.90\n"
     ]
    },
    {
     "name": "stderr",
     "output_type": "stream",
     "text": [
      "Computing neighbors: 100%|██████████| 1/1 [00:04<00:00,  4.23s/it]\n",
      "Embeddings:   0%|\u001b[32m          \u001b[0m| 0/1 [00:00<?, ?it/s]\n",
      "Metrics:   0%|\u001b[34m          \u001b[0m| 0/10 [00:00<?, ?it/s]\u001b[A\n",
      "Metrics:   0%|\u001b[34m          \u001b[0m| 0/10 [00:00<?, ?it/s, Bio conservation: isolated_labels]\u001b[A\n",
      "Metrics:  10%|\u001b[34m█         \u001b[0m| 1/10 [00:00<00:02,  4.23it/s, Bio conservation: isolated_labels]\u001b[A\n",
      "Metrics:  10%|\u001b[34m█         \u001b[0m| 1/10 [00:00<00:02,  4.23it/s, Bio conservation: nmi_ari_cluster_labels_kmeans]\u001b[A\n",
      "Metrics:  20%|\u001b[34m██        \u001b[0m| 2/10 [00:01<00:07,  1.11it/s, Bio conservation: nmi_ari_cluster_labels_kmeans]\u001b[A\n",
      "Metrics:  20%|\u001b[34m██        \u001b[0m| 2/10 [00:01<00:07,  1.11it/s, Bio conservation: silhouette_label]             \u001b[A\n",
      "Metrics:  30%|\u001b[34m███       \u001b[0m| 3/10 [00:01<00:04,  1.72it/s, Bio conservation: silhouette_label]\u001b[A\n",
      "Metrics:  30%|\u001b[34m███       \u001b[0m| 3/10 [00:01<00:04,  1.72it/s, Bio conservation: clisi_knn]       \u001b[A\n",
      "Metrics:  40%|\u001b[34m████      \u001b[0m| 4/10 [00:01<00:03,  1.72it/s, Batch correction: silhouette_batch]\u001b[A\n",
      "Metrics:  50%|\u001b[34m█████     \u001b[0m| 5/10 [00:01<00:01,  3.40it/s, Batch correction: silhouette_batch]\u001b[A\n",
      "Metrics:  50%|\u001b[34m█████     \u001b[0m| 5/10 [00:01<00:01,  3.40it/s, Batch correction: ilisi_knn]       \u001b[A\n",
      "Metrics:  60%|\u001b[34m██████    \u001b[0m| 6/10 [00:02<00:01,  3.40it/s, Batch correction: kbet_per_label]\u001b[A\n",
      "Metrics:  70%|\u001b[34m███████   \u001b[0m| 7/10 [00:09<00:05,  1.90s/it, Batch correction: kbet_per_label]\u001b[A\n",
      "Metrics:  70%|\u001b[34m███████   \u001b[0m| 7/10 [00:09<00:05,  1.90s/it, Batch correction: graph_connectivity]\u001b[A\n",
      "Metrics:  80%|\u001b[34m████████  \u001b[0m| 8/10 [00:09<00:03,  1.90s/it, Batch correction: pcr_comparison]    \u001b[A\n",
      "Embeddings: 100%|\u001b[32m██████████\u001b[0m| 1/1 [00:09<00:00,  9.85s/it]atch correction: pcr_comparison]\u001b[A\n",
      "\n",
      "                                                                                         \u001b[A/ictstr01/home/icb/fatemehs.hashemig/codes/interpretable-ssl/interpretable_ssl/trainers/trainer.py:314: FutureWarning: The frame.append method is deprecated and will be removed from pandas in a future version. Use pandas.concat instead.\n",
      "  overall_df = overall_df.append(fold_df, ignore_index=True)\n"
     ]
    },
    {
     "data": {
      "text/html": [
       "<div>\n",
       "<style scoped>\n",
       "    .dataframe tbody tr th:only-of-type {\n",
       "        vertical-align: middle;\n",
       "    }\n",
       "\n",
       "    .dataframe tbody tr th {\n",
       "        vertical-align: top;\n",
       "    }\n",
       "\n",
       "    .dataframe thead th {\n",
       "        text-align: right;\n",
       "    }\n",
       "</style>\n",
       "<table border=\"1\" class=\"dataframe\">\n",
       "  <thead>\n",
       "    <tr style=\"text-align: right;\">\n",
       "      <th></th>\n",
       "      <th>Isolated labels</th>\n",
       "      <th>KMeans NMI</th>\n",
       "      <th>KMeans ARI</th>\n",
       "      <th>Silhouette label</th>\n",
       "      <th>cLISI</th>\n",
       "      <th>Silhouette batch</th>\n",
       "      <th>iLISI</th>\n",
       "      <th>KBET</th>\n",
       "      <th>Graph connectivity</th>\n",
       "      <th>PCR comparison</th>\n",
       "      <th>Batch correction</th>\n",
       "      <th>Bio conservation</th>\n",
       "      <th>Total</th>\n",
       "    </tr>\n",
       "    <tr>\n",
       "      <th>trainer</th>\n",
       "      <th></th>\n",
       "      <th></th>\n",
       "      <th></th>\n",
       "      <th></th>\n",
       "      <th></th>\n",
       "      <th></th>\n",
       "      <th></th>\n",
       "      <th></th>\n",
       "      <th></th>\n",
       "      <th></th>\n",
       "      <th></th>\n",
       "      <th></th>\n",
       "      <th></th>\n",
       "    </tr>\n",
       "  </thead>\n",
       "  <tbody>\n",
       "    <tr>\n",
       "      <th>scpoli-original-latent_dim8</th>\n",
       "      <td>0.679777</td>\n",
       "      <td>0.699521</td>\n",
       "      <td>0.518735</td>\n",
       "      <td>0.622976</td>\n",
       "      <td>0.990951</td>\n",
       "      <td>0.770398</td>\n",
       "      <td>0.298799</td>\n",
       "      <td>0.487457</td>\n",
       "      <td>0.895026</td>\n",
       "      <td>0.715642</td>\n",
       "      <td>0.633465</td>\n",
       "      <td>0.702392</td>\n",
       "      <td>0.674821</td>\n",
       "    </tr>\n",
       "    <tr>\n",
       "      <th>scvi-latent_dim8</th>\n",
       "      <td>0.646377</td>\n",
       "      <td>0.682785</td>\n",
       "      <td>0.484271</td>\n",
       "      <td>0.583196</td>\n",
       "      <td>0.992193</td>\n",
       "      <td>0.817921</td>\n",
       "      <td>0.221473</td>\n",
       "      <td>0.372711</td>\n",
       "      <td>0.912141</td>\n",
       "      <td>0.667839</td>\n",
       "      <td>0.598417</td>\n",
       "      <td>0.677764</td>\n",
       "      <td>0.646025</td>\n",
       "    </tr>\n",
       "  </tbody>\n",
       "</table>\n",
       "</div>"
      ],
      "text/plain": [
       "                             Isolated labels  KMeans NMI  KMeans ARI  \\\n",
       "trainer                                                                \n",
       "scpoli-original-latent_dim8         0.679777    0.699521    0.518735   \n",
       "scvi-latent_dim8                    0.646377    0.682785    0.484271   \n",
       "\n",
       "                             Silhouette label     cLISI  Silhouette batch  \\\n",
       "trainer                                                                     \n",
       "scpoli-original-latent_dim8          0.622976  0.990951          0.770398   \n",
       "scvi-latent_dim8                     0.583196  0.992193          0.817921   \n",
       "\n",
       "                                iLISI      KBET  Graph connectivity  \\\n",
       "trainer                                                               \n",
       "scpoli-original-latent_dim8  0.298799  0.487457            0.895026   \n",
       "scvi-latent_dim8             0.221473  0.372711            0.912141   \n",
       "\n",
       "                             PCR comparison  Batch correction  \\\n",
       "trainer                                                         \n",
       "scpoli-original-latent_dim8        0.715642          0.633465   \n",
       "scvi-latent_dim8                   0.667839          0.598417   \n",
       "\n",
       "                             Bio conservation     Total  \n",
       "trainer                                                  \n",
       "scpoli-original-latent_dim8          0.702392  0.674821  \n",
       "scvi-latent_dim8                     0.677764  0.646025  "
      ]
     },
     "execution_count": 11,
     "metadata": {},
     "output_type": "execute_result"
    }
   ],
   "source": [
    "from functools import partial\n",
    "\n",
    "trainers = [scvi, scpoli]\n",
    "names = [trainer.get_model_name() for trainer in trainers]\n",
    "\n",
    "all_results_new = pd.DataFrame()\n",
    "for trainer, name in zip(trainers, names):\n",
    "    trainer.fine_tuning_epochs = 5\n",
    "    eval_fn = partial(trainer.query_scib_metrics, fine_tuning=True)\n",
    "\n",
    "    df = trainer.evaluate_custom_cross_val_models(eval_fn)\n",
    "    df['trainer'] = name\n",
    "    \n",
    "    all_results_new = pd.concat([all_results_new, df], ignore_index=True)\n",
    "process_dataframe(all_results_new)"
   ]
  },
  {
   "cell_type": "markdown",
   "id": "a9aa9c4c-0022-4b17-a9d7-721326ffb7f7",
   "metadata": {
    "jp-MarkdownHeadingCollapsed": true
   },
   "source": [
    "# check with 100 epochs, barlow training folds not finished"
   ]
  },
  {
   "cell_type": "code",
   "execution_count": 11,
   "id": "0baf294b-8668-4b8d-836f-fc00dc76f3f6",
   "metadata": {},
   "outputs": [
    {
     "data": {
      "text/html": [
       "<div>\n",
       "<style scoped>\n",
       "    .dataframe tbody tr th:only-of-type {\n",
       "        vertical-align: middle;\n",
       "    }\n",
       "\n",
       "    .dataframe tbody tr th {\n",
       "        vertical-align: top;\n",
       "    }\n",
       "\n",
       "    .dataframe thead th {\n",
       "        text-align: right;\n",
       "    }\n",
       "</style>\n",
       "<table border=\"1\" class=\"dataframe\">\n",
       "  <thead>\n",
       "    <tr style=\"text-align: right;\">\n",
       "      <th></th>\n",
       "      <th>Isolated labels</th>\n",
       "      <th>KMeans NMI</th>\n",
       "      <th>KMeans ARI</th>\n",
       "      <th>Silhouette label</th>\n",
       "      <th>cLISI</th>\n",
       "      <th>Silhouette batch</th>\n",
       "      <th>iLISI</th>\n",
       "      <th>KBET</th>\n",
       "      <th>Graph connectivity</th>\n",
       "      <th>PCR comparison</th>\n",
       "      <th>Batch correction</th>\n",
       "      <th>Bio conservation</th>\n",
       "      <th>Total</th>\n",
       "    </tr>\n",
       "    <tr>\n",
       "      <th>trainer</th>\n",
       "      <th></th>\n",
       "      <th></th>\n",
       "      <th></th>\n",
       "      <th></th>\n",
       "      <th></th>\n",
       "      <th></th>\n",
       "      <th></th>\n",
       "      <th></th>\n",
       "      <th></th>\n",
       "      <th></th>\n",
       "      <th></th>\n",
       "      <th></th>\n",
       "      <th></th>\n",
       "    </tr>\n",
       "  </thead>\n",
       "  <tbody>\n",
       "    <tr>\n",
       "      <th>barlow-num-prot-16_hidden-64_bs-64</th>\n",
       "      <td>0.570349</td>\n",
       "      <td>0.623349</td>\n",
       "      <td>0.372065</td>\n",
       "      <td>0.551221</td>\n",
       "      <td>0.981922</td>\n",
       "      <td>0.877867</td>\n",
       "      <td>0.297556</td>\n",
       "      <td>0.372879</td>\n",
       "      <td>0.888788</td>\n",
       "      <td>0.746649</td>\n",
       "      <td>0.636748</td>\n",
       "      <td>0.619781</td>\n",
       "      <td>0.626568</td>\n",
       "    </tr>\n",
       "    <tr>\n",
       "      <th>scpoli-original-latent_dim8</th>\n",
       "      <td>0.625722</td>\n",
       "      <td>0.655648</td>\n",
       "      <td>0.438375</td>\n",
       "      <td>0.595093</td>\n",
       "      <td>0.985167</td>\n",
       "      <td>0.827733</td>\n",
       "      <td>0.371286</td>\n",
       "      <td>0.512998</td>\n",
       "      <td>0.885838</td>\n",
       "      <td>0.823416</td>\n",
       "      <td>0.684254</td>\n",
       "      <td>0.660001</td>\n",
       "      <td>0.669702</td>\n",
       "    </tr>\n",
       "    <tr>\n",
       "      <th>scvi-latent_dim8</th>\n",
       "      <td>0.574992</td>\n",
       "      <td>0.643776</td>\n",
       "      <td>0.433792</td>\n",
       "      <td>0.560379</td>\n",
       "      <td>0.986908</td>\n",
       "      <td>0.870927</td>\n",
       "      <td>0.238971</td>\n",
       "      <td>0.340750</td>\n",
       "      <td>0.907496</td>\n",
       "      <td>0.624128</td>\n",
       "      <td>0.596455</td>\n",
       "      <td>0.639969</td>\n",
       "      <td>0.622563</td>\n",
       "    </tr>\n",
       "  </tbody>\n",
       "</table>\n",
       "</div>"
      ],
      "text/plain": [
       "                                    Isolated labels  KMeans NMI  KMeans ARI  \\\n",
       "trainer                                                                       \n",
       "barlow-num-prot-16_hidden-64_bs-64         0.570349    0.623349    0.372065   \n",
       "scpoli-original-latent_dim8                0.625722    0.655648    0.438375   \n",
       "scvi-latent_dim8                           0.574992    0.643776    0.433792   \n",
       "\n",
       "                                    Silhouette label     cLISI  \\\n",
       "trainer                                                          \n",
       "barlow-num-prot-16_hidden-64_bs-64          0.551221  0.981922   \n",
       "scpoli-original-latent_dim8                 0.595093  0.985167   \n",
       "scvi-latent_dim8                            0.560379  0.986908   \n",
       "\n",
       "                                    Silhouette batch     iLISI      KBET  \\\n",
       "trainer                                                                    \n",
       "barlow-num-prot-16_hidden-64_bs-64          0.877867  0.297556  0.372879   \n",
       "scpoli-original-latent_dim8                 0.827733  0.371286  0.512998   \n",
       "scvi-latent_dim8                            0.870927  0.238971  0.340750   \n",
       "\n",
       "                                    Graph connectivity  PCR comparison  \\\n",
       "trainer                                                                  \n",
       "barlow-num-prot-16_hidden-64_bs-64            0.888788        0.746649   \n",
       "scpoli-original-latent_dim8                   0.885838        0.823416   \n",
       "scvi-latent_dim8                              0.907496        0.624128   \n",
       "\n",
       "                                    Batch correction  Bio conservation  \\\n",
       "trainer                                                                  \n",
       "barlow-num-prot-16_hidden-64_bs-64          0.636748          0.619781   \n",
       "scpoli-original-latent_dim8                 0.684254          0.660001   \n",
       "scvi-latent_dim8                            0.596455          0.639969   \n",
       "\n",
       "                                       Total  \n",
       "trainer                                       \n",
       "barlow-num-prot-16_hidden-64_bs-64  0.626568  \n",
       "scpoli-original-latent_dim8         0.669702  \n",
       "scvi-latent_dim8                    0.622563  "
      ]
     },
     "execution_count": 11,
     "metadata": {},
     "output_type": "execute_result"
    }
   ],
   "source": [
    "process_dataframe(deepcopy(all_results_new[all_results_new.fold < 5]))"
   ]
  },
  {
   "cell_type": "markdown",
   "id": "0538a588-d5fd-4aca-9def-09fe538d8eca",
   "metadata": {
    "jp-MarkdownHeadingCollapsed": true
   },
   "source": [
    "# custom cross validation 50 epochs"
   ]
  },
  {
   "cell_type": "code",
   "execution_count": 24,
   "id": "aabb3cd7-7c5c-44e8-9292-46d44d61a33c",
   "metadata": {
    "scrolled": true
   },
   "outputs": [
    {
     "data": {
      "text/html": [
       "<div>\n",
       "<style scoped>\n",
       "    .dataframe tbody tr th:only-of-type {\n",
       "        vertical-align: middle;\n",
       "    }\n",
       "\n",
       "    .dataframe tbody tr th {\n",
       "        vertical-align: top;\n",
       "    }\n",
       "\n",
       "    .dataframe thead th {\n",
       "        text-align: right;\n",
       "    }\n",
       "</style>\n",
       "<table border=\"1\" class=\"dataframe\">\n",
       "  <thead>\n",
       "    <tr style=\"text-align: right;\">\n",
       "      <th></th>\n",
       "      <th>Isolated labels</th>\n",
       "      <th>KMeans NMI</th>\n",
       "      <th>KMeans ARI</th>\n",
       "      <th>Silhouette label</th>\n",
       "      <th>cLISI</th>\n",
       "      <th>Silhouette batch</th>\n",
       "      <th>iLISI</th>\n",
       "      <th>KBET</th>\n",
       "      <th>Graph connectivity</th>\n",
       "      <th>PCR comparison</th>\n",
       "      <th>Batch correction</th>\n",
       "      <th>Bio conservation</th>\n",
       "      <th>Total</th>\n",
       "    </tr>\n",
       "    <tr>\n",
       "      <th>trainer</th>\n",
       "      <th></th>\n",
       "      <th></th>\n",
       "      <th></th>\n",
       "      <th></th>\n",
       "      <th></th>\n",
       "      <th></th>\n",
       "      <th></th>\n",
       "      <th></th>\n",
       "      <th></th>\n",
       "      <th></th>\n",
       "      <th></th>\n",
       "      <th></th>\n",
       "      <th></th>\n",
       "    </tr>\n",
       "  </thead>\n",
       "  <tbody>\n",
       "    <tr>\n",
       "      <th>barlow-num-prot-16_hidden-64_bs-64</th>\n",
       "      <td>0.645673</td>\n",
       "      <td>0.670994</td>\n",
       "      <td>0.464293</td>\n",
       "      <td>0.585861</td>\n",
       "      <td>0.990595</td>\n",
       "      <td>0.841663</td>\n",
       "      <td>0.258208</td>\n",
       "      <td>0.413697</td>\n",
       "      <td>0.912443</td>\n",
       "      <td>0.691157</td>\n",
       "      <td>0.623433</td>\n",
       "      <td>0.671483</td>\n",
       "      <td>0.652263</td>\n",
       "    </tr>\n",
       "    <tr>\n",
       "      <th>scpoli-original-latent_dim8</th>\n",
       "      <td>0.669500</td>\n",
       "      <td>0.717453</td>\n",
       "      <td>0.581726</td>\n",
       "      <td>0.626976</td>\n",
       "      <td>0.987958</td>\n",
       "      <td>0.764335</td>\n",
       "      <td>0.332197</td>\n",
       "      <td>0.562585</td>\n",
       "      <td>0.880954</td>\n",
       "      <td>0.743357</td>\n",
       "      <td>0.656686</td>\n",
       "      <td>0.716722</td>\n",
       "      <td>0.692708</td>\n",
       "    </tr>\n",
       "    <tr>\n",
       "      <th>scvi-latent_dim8</th>\n",
       "      <td>0.643422</td>\n",
       "      <td>0.682850</td>\n",
       "      <td>0.488541</td>\n",
       "      <td>0.585997</td>\n",
       "      <td>0.991952</td>\n",
       "      <td>0.802524</td>\n",
       "      <td>0.230281</td>\n",
       "      <td>0.388897</td>\n",
       "      <td>0.902866</td>\n",
       "      <td>0.706712</td>\n",
       "      <td>0.606256</td>\n",
       "      <td>0.678552</td>\n",
       "      <td>0.649634</td>\n",
       "    </tr>\n",
       "  </tbody>\n",
       "</table>\n",
       "</div>"
      ],
      "text/plain": [
       "                                    Isolated labels  KMeans NMI  KMeans ARI  \\\n",
       "trainer                                                                       \n",
       "barlow-num-prot-16_hidden-64_bs-64         0.645673    0.670994    0.464293   \n",
       "scpoli-original-latent_dim8                0.669500    0.717453    0.581726   \n",
       "scvi-latent_dim8                           0.643422    0.682850    0.488541   \n",
       "\n",
       "                                    Silhouette label     cLISI  \\\n",
       "trainer                                                          \n",
       "barlow-num-prot-16_hidden-64_bs-64          0.585861  0.990595   \n",
       "scpoli-original-latent_dim8                 0.626976  0.987958   \n",
       "scvi-latent_dim8                            0.585997  0.991952   \n",
       "\n",
       "                                    Silhouette batch     iLISI      KBET  \\\n",
       "trainer                                                                    \n",
       "barlow-num-prot-16_hidden-64_bs-64          0.841663  0.258208  0.413697   \n",
       "scpoli-original-latent_dim8                 0.764335  0.332197  0.562585   \n",
       "scvi-latent_dim8                            0.802524  0.230281  0.388897   \n",
       "\n",
       "                                    Graph connectivity  PCR comparison  \\\n",
       "trainer                                                                  \n",
       "barlow-num-prot-16_hidden-64_bs-64            0.912443        0.691157   \n",
       "scpoli-original-latent_dim8                   0.880954        0.743357   \n",
       "scvi-latent_dim8                              0.902866        0.706712   \n",
       "\n",
       "                                    Batch correction  Bio conservation  \\\n",
       "trainer                                                                  \n",
       "barlow-num-prot-16_hidden-64_bs-64          0.623433          0.671483   \n",
       "scpoli-original-latent_dim8                 0.656686          0.716722   \n",
       "scvi-latent_dim8                            0.606256          0.678552   \n",
       "\n",
       "                                       Total  \n",
       "trainer                                       \n",
       "barlow-num-prot-16_hidden-64_bs-64  0.652263  \n",
       "scpoli-original-latent_dim8         0.692708  \n",
       "scvi-latent_dim8                    0.649634  "
      ]
     },
     "execution_count": 24,
     "metadata": {},
     "output_type": "execute_result"
    }
   ],
   "source": [
    "trainers = [scvi, scpoli, barlow]\n",
    "names = [trainer.get_model_name() for trainer in trainers]\n",
    "\n",
    "all_results_new = pd.DataFrame()\n",
    "for trainer, name in zip(trainers, names):\n",
    "    df = trainer.evaluate_custom_cross_val_models(trainer.query_scib_metrics)\n",
    "    df['trainer'] = name\n",
    "    \n",
    "    all_results_new = pd.concat([all_results_new, df], ignore_index=True)\n",
    "process_dataframe(deepcopy(all_results_new))"
   ]
  },
  {
   "cell_type": "markdown",
   "id": "0a5642e0-61ca-4b4e-9c2a-bc7d4231759d",
   "metadata": {
    "jp-MarkdownHeadingCollapsed": true
   },
   "source": [
    "# compare barlow on query, no cross validatio"
   ]
  },
  {
   "cell_type": "code",
   "execution_count": 37,
   "id": "bd86ad27-ec50-4f15-834d-5bd23ffd49cd",
   "metadata": {
    "scrolled": true
   },
   "outputs": [
    {
     "name": "stdout",
     "output_type": "stream",
     "text": [
      "\u001b[34mINFO    \u001b[0m File \u001b[35m/home/icb/fatemehs.hashemig/models/\u001b[0m\u001b[35m/pbmc-immune/scvi-latent_dim8/\u001b[0m\u001b[95mmodel.pt\u001b[0m already downloaded         \n"
     ]
    },
    {
     "name": "stderr",
     "output_type": "stream",
     "text": [
      "/home/icb/fatemehs.hashemig/miniconda3/envs/interpretable-ssl/lib/python3.12/multiprocessing/popen_fork.py:66: RuntimeWarning: os.fork() was called. os.fork() is incompatible with multithreaded code, and JAX is multithreaded, so this will likely lead to a deadlock.\n",
      "  self.pid = os.fork()\n",
      "Multiprocessing is handled by SLURM.\n",
      "GPU available: True (cuda), used: True\n",
      "TPU available: False, using: 0 TPU cores\n",
      "IPU available: False, using: 0 IPUs\n",
      "HPU available: False, using: 0 HPUs\n",
      "/home/icb/fatemehs.hashemig/miniconda3/envs/interpretable-ssl/lib/python3.12/multiprocessing/popen_fork.py:66: RuntimeWarning: os.fork() was called. os.fork() is incompatible with multithreaded code, and JAX is multithreaded, so this will likely lead to a deadlock.\n",
      "  self.pid = os.fork()\n",
      "LOCAL_RANK: 0 - CUDA_VISIBLE_DEVICES: [0]\n",
      "SLURM auto-requeueing enabled. Setting signal handlers.\n"
     ]
    },
    {
     "name": "stdout",
     "output_type": "stream",
     "text": [
      "Epoch 50/50: 100%|██████████| 50/50 [00:14<00:00,  6.63it/s, loss=7.14e+03, v_num=1]"
     ]
    },
    {
     "name": "stderr",
     "output_type": "stream",
     "text": [
      "`Trainer.fit` stopped: `max_epochs=50` reached.\n"
     ]
    },
    {
     "name": "stdout",
     "output_type": "stream",
     "text": [
      "Epoch 50/50: 100%|██████████| 50/50 [00:14<00:00,  3.55it/s, loss=7.14e+03, v_num=1]\n",
      "\u001b[34mINFO    \u001b[0m Input AnnData not setup with scvi-tools. attempting to transfer AnnData setup                             \n",
      "\u001b[34mINFO    \u001b[0m Input AnnData not setup with scvi-tools. attempting to transfer AnnData setup                             \n"
     ]
    },
    {
     "name": "stderr",
     "output_type": "stream",
     "text": [
      "Computing neighbors: 100%|██████████| 1/1 [00:02<00:00,  2.01s/it]\n",
      "Embeddings:   0%|\u001b[32m          \u001b[0m| 0/1 [00:00<?, ?it/s]\n",
      "Metrics:   0%|\u001b[34m          \u001b[0m| 0/10 [00:00<?, ?it/s]\u001b[A\n",
      "Metrics:   0%|\u001b[34m          \u001b[0m| 0/10 [00:00<?, ?it/s, Bio conservation: isolated_labels]\u001b[A\n",
      "Metrics:  10%|\u001b[34m█         \u001b[0m| 1/10 [00:00<00:01,  4.65it/s, Bio conservation: isolated_labels]\u001b[A\n",
      "Metrics:  10%|\u001b[34m█         \u001b[0m| 1/10 [00:00<00:01,  4.65it/s, Bio conservation: nmi_ari_cluster_labels_kmeans]\u001b[A\n",
      "Metrics:  20%|\u001b[34m██        \u001b[0m| 2/10 [00:05<00:27,  3.41s/it, Bio conservation: nmi_ari_cluster_labels_kmeans]\u001b[A\n",
      "Metrics:  20%|\u001b[34m██        \u001b[0m| 2/10 [00:05<00:27,  3.41s/it, Bio conservation: silhouette_label]             \u001b[A\n",
      "Metrics:  30%|\u001b[34m███       \u001b[0m| 3/10 [00:05<00:23,  3.41s/it, Bio conservation: clisi_knn]       \u001b[A\n",
      "Metrics:  40%|\u001b[34m████      \u001b[0m| 4/10 [00:05<00:20,  3.41s/it, Batch correction: silhouette_batch]\u001b[A\n",
      "Metrics:  50%|\u001b[34m█████     \u001b[0m| 5/10 [00:06<00:05,  1.02s/it, Batch correction: silhouette_batch]\u001b[A\n",
      "Metrics:  50%|\u001b[34m█████     \u001b[0m| 5/10 [00:06<00:05,  1.02s/it, Batch correction: ilisi_knn]       \u001b[A\n",
      "Metrics:  60%|\u001b[34m██████    \u001b[0m| 6/10 [00:06<00:04,  1.02s/it, Batch correction: kbet_per_label]\u001b[A"
     ]
    },
    {
     "name": "stdout",
     "output_type": "stream",
     "text": [
      "\u001b[34mINFO    \u001b[0m CD20+ B cells consists of a single batch or is too small. Skip.                                           \n",
      "\u001b[34mINFO    \u001b[0m CD4+ T cells consists of a single batch or is too small. Skip.                                            \n",
      "\u001b[34mINFO    \u001b[0m CD8+ T cells consists of a single batch or is too small. Skip.                                            \n",
      "\u001b[34mINFO    \u001b[0m Megakaryocyte progenitors consists of a single batch or is too small. Skip.                               \n",
      "\u001b[34mINFO    \u001b[0m Monocyte-derived dendritic cells consists of a single batch or is too small. Skip.                        \n",
      "\u001b[34mINFO    \u001b[0m NK cells consists of a single batch or is too small. Skip.                                                \n",
      "\u001b[34mINFO    \u001b[0m NKT cells consists of a single batch or is too small. Skip.                                               \n"
     ]
    },
    {
     "name": "stderr",
     "output_type": "stream",
     "text": [
      "\n",
      "Metrics:  70%|\u001b[34m███████   \u001b[0m| 7/10 [00:06<00:02,  1.29it/s, Batch correction: kbet_per_label]\u001b[A\n",
      "Metrics:  70%|\u001b[34m███████   \u001b[0m| 7/10 [00:06<00:02,  1.29it/s, Batch correction: graph_connectivity]\u001b[A\n",
      "Metrics:  80%|\u001b[34m████████  \u001b[0m| 8/10 [00:06<00:01,  1.29it/s, Batch correction: pcr_comparison]    \u001b[A\n",
      "Embeddings: 100%|\u001b[32m██████████\u001b[0m| 1/1 [00:07<00:00,  7.17s/it]atch correction: pcr_comparison]\u001b[A\n",
      "\n",
      "                                                                                         \u001b[A"
     ]
    },
    {
     "name": "stdout",
     "output_type": "stream",
     "text": [
      "Embedding dictionary:\n",
      " \tNum conditions: [3]\n",
      " \tEmbedding dim: [10]\n",
      "Encoder Architecture:\n",
      "\tInput Layer in, out and cond: 4000 64 10\n",
      "\tMean/Var Layer in/out: 64 8\n",
      "Decoder Architecture:\n",
      "\tFirst Layer in, out and cond:  8 64 10\n",
      "\tOutput Layer in/out:  64 4000 \n",
      "\n",
      "Embedding dictionary:\n",
      " \tNum conditions: [5]\n",
      " \tEmbedding dim: [10]\n",
      "Encoder Architecture:\n",
      "\tInput Layer in, out and cond: 4000 64 10\n",
      "\tMean/Var Layer in/out: 64 8\n",
      "Decoder Architecture:\n",
      "\tFirst Layer in, out and cond:  8 64 10\n",
      "\tOutput Layer in/out:  64 4000 \n",
      "\n"
     ]
    },
    {
     "name": "stderr",
     "output_type": "stream",
     "text": [
      "INFO:scarches.trainers.scpoli.trainer:GPU available: True, GPU used: True\n"
     ]
    },
    {
     "name": "stdout",
     "output_type": "stream",
     "text": [
      "Initializing dataloaders\n",
      "Starting training\n",
      " |████████████████----| 80.0%  - val_loss: 4335.18 - val_cvae_loss: 4335.18\n",
      "Initializing unlabeled prototypes with Leiden with an unknown number of  clusters.\n",
      "Clustering succesful. Found 18 clusters.\n",
      " |████████████████████| 100.0%  - val_loss: 4316.55 - val_cvae_loss: 4316.55 - val_prototype_loss:    0.00 - val_unlabeled_loss:    0.21\n"
     ]
    },
    {
     "name": "stderr",
     "output_type": "stream",
     "text": [
      "Computing neighbors: 100%|██████████| 1/1 [00:01<00:00,  1.86s/it]\n",
      "Embeddings:   0%|\u001b[32m          \u001b[0m| 0/1 [00:00<?, ?it/s]\n",
      "Metrics:   0%|\u001b[34m          \u001b[0m| 0/10 [00:00<?, ?it/s]\u001b[A\n",
      "Metrics:   0%|\u001b[34m          \u001b[0m| 0/10 [00:00<?, ?it/s, Bio conservation: isolated_labels]\u001b[A\n",
      "Metrics:  10%|\u001b[34m█         \u001b[0m| 1/10 [00:00<00:00, 29.68it/s, Bio conservation: nmi_ari_cluster_labels_kmeans]\u001b[A\n",
      "Metrics:  20%|\u001b[34m██        \u001b[0m| 2/10 [00:00<00:02,  3.02it/s, Bio conservation: nmi_ari_cluster_labels_kmeans]\u001b[A\n",
      "Metrics:  20%|\u001b[34m██        \u001b[0m| 2/10 [00:00<00:02,  3.02it/s, Bio conservation: silhouette_label]             \u001b[A\n",
      "Metrics:  30%|\u001b[34m███       \u001b[0m| 3/10 [00:00<00:02,  3.02it/s, Bio conservation: clisi_knn]       \u001b[A\n",
      "Metrics:  40%|\u001b[34m████      \u001b[0m| 4/10 [00:00<00:01,  3.02it/s, Batch correction: silhouette_batch]\u001b[A\n",
      "Metrics:  50%|\u001b[34m█████     \u001b[0m| 5/10 [00:00<00:01,  3.02it/s, Batch correction: ilisi_knn]       \u001b[A\n",
      "Metrics:  60%|\u001b[34m██████    \u001b[0m| 6/10 [00:00<00:00,  9.52it/s, Batch correction: ilisi_knn]\u001b[A\n",
      "Metrics:  60%|\u001b[34m██████    \u001b[0m| 6/10 [00:00<00:00,  9.52it/s, Batch correction: kbet_per_label]\u001b[A"
     ]
    },
    {
     "name": "stdout",
     "output_type": "stream",
     "text": [
      "\u001b[34mINFO    \u001b[0m CD20+ B cells consists of a single batch or is too small. Skip.                                           \n",
      "\u001b[34mINFO    \u001b[0m CD4+ T cells consists of a single batch or is too small. Skip.                                            \n",
      "\u001b[34mINFO    \u001b[0m CD8+ T cells consists of a single batch or is too small. Skip.                                            \n",
      "\u001b[34mINFO    \u001b[0m Megakaryocyte progenitors consists of a single batch or is too small. Skip.                               \n",
      "\u001b[34mINFO    \u001b[0m Monocyte-derived dendritic cells consists of a single batch or is too small. Skip.                        \n",
      "\u001b[34mINFO    \u001b[0m NK cells consists of a single batch or is too small. Skip.                                                \n",
      "\u001b[34mINFO    \u001b[0m NKT cells consists of a single batch or is too small. Skip.                                               \n"
     ]
    },
    {
     "name": "stderr",
     "output_type": "stream",
     "text": [
      "\n",
      "Metrics:  70%|\u001b[34m███████   \u001b[0m| 7/10 [00:01<00:00,  9.52it/s, Batch correction: graph_connectivity]\u001b[A\n",
      "Metrics:  80%|\u001b[34m████████  \u001b[0m| 8/10 [00:01<00:00,  9.52it/s, Batch correction: pcr_comparison]    \u001b[A\n",
      "Embeddings: 100%|\u001b[32m██████████\u001b[0m| 1/1 [00:01<00:00,  1.23s/it]atch correction: pcr_comparison]\u001b[A\n",
      "\n",
      "                                                                                         \u001b[A"
     ]
    },
    {
     "name": "stdout",
     "output_type": "stream",
     "text": [
      "Embedding dictionary:\n",
      " \tNum conditions: [3]\n",
      " \tEmbedding dim: [10]\n",
      "Encoder Architecture:\n",
      "\tInput Layer in, out and cond: 4000 64 10\n",
      "\tMean/Var Layer in/out: 64 8\n",
      "Decoder Architecture:\n",
      "\tFirst Layer in, out and cond:  8 64 10\n",
      "\tOutput Layer in/out:  64 4000 \n",
      "\n"
     ]
    },
    {
     "name": "stderr",
     "output_type": "stream",
     "text": [
      "INFO:scarches.trainers.scpoli.trainer:GPU available: True, GPU used: True\n"
     ]
    },
    {
     "name": "stdout",
     "output_type": "stream",
     "text": [
      "Embedding dictionary:\n",
      " \tNum conditions: [5]\n",
      " \tEmbedding dim: [10]\n",
      "Encoder Architecture:\n",
      "\tInput Layer in, out and cond: 4000 64 10\n",
      "\tMean/Var Layer in/out: 64 8\n",
      "Decoder Architecture:\n",
      "\tFirst Layer in, out and cond:  8 64 10\n",
      "\tOutput Layer in/out:  64 4000 \n",
      "\n",
      "Initializing dataloaders\n",
      "Starting training\n",
      " |████████████████----| 80.0%  - val_loss: 4495.09 - val_cvae_loss: 4495.09\n",
      "Initializing unlabeled prototypes with Leiden with an unknown number of  clusters.\n",
      "Clustering succesful. Found 20 clusters.\n",
      " |████████████████████| 100.0%  - val_loss: 4467.01 - val_cvae_loss: 4467.01 - val_prototype_loss:    0.00 - val_unlabeled_loss:    0.38\n"
     ]
    },
    {
     "name": "stderr",
     "output_type": "stream",
     "text": [
      "Computing neighbors: 100%|██████████| 1/1 [00:01<00:00,  1.69s/it]\n",
      "Embeddings:   0%|\u001b[32m          \u001b[0m| 0/1 [00:00<?, ?it/s]\n",
      "Metrics:   0%|\u001b[34m          \u001b[0m| 0/10 [00:00<?, ?it/s]\u001b[A\n",
      "Metrics:   0%|\u001b[34m          \u001b[0m| 0/10 [00:00<?, ?it/s, Bio conservation: isolated_labels]\u001b[A\n",
      "Metrics:  10%|\u001b[34m█         \u001b[0m| 1/10 [00:00<00:00, 30.03it/s, Bio conservation: nmi_ari_cluster_labels_kmeans]\u001b[A\n",
      "Metrics:  20%|\u001b[34m██        \u001b[0m| 2/10 [00:00<00:02,  3.02it/s, Bio conservation: nmi_ari_cluster_labels_kmeans]\u001b[A\n",
      "Metrics:  20%|\u001b[34m██        \u001b[0m| 2/10 [00:00<00:02,  3.02it/s, Bio conservation: silhouette_label]             \u001b[A\n",
      "Metrics:  30%|\u001b[34m███       \u001b[0m| 3/10 [00:00<00:02,  3.02it/s, Bio conservation: clisi_knn]       \u001b[A\n",
      "Metrics:  40%|\u001b[34m████      \u001b[0m| 4/10 [00:00<00:01,  3.02it/s, Batch correction: silhouette_batch]\u001b[A\n",
      "Metrics:  50%|\u001b[34m█████     \u001b[0m| 5/10 [00:00<00:01,  3.02it/s, Batch correction: ilisi_knn]       \u001b[A\n",
      "Metrics:  60%|\u001b[34m██████    \u001b[0m| 6/10 [00:00<00:01,  3.02it/s, Batch correction: kbet_per_label]\u001b[A"
     ]
    },
    {
     "name": "stdout",
     "output_type": "stream",
     "text": [
      "\u001b[34mINFO    \u001b[0m CD20+ B cells consists of a single batch or is too small. Skip.                                           \n",
      "\u001b[34mINFO    \u001b[0m CD4+ T cells consists of a single batch or is too small. Skip.                                            \n",
      "\u001b[34mINFO    \u001b[0m CD8+ T cells consists of a single batch or is too small. Skip.                                            \n",
      "\u001b[34mINFO    \u001b[0m Megakaryocyte progenitors consists of a single batch or is too small. Skip.                               \n",
      "\u001b[34mINFO    \u001b[0m Monocyte-derived dendritic cells consists of a single batch or is too small. Skip.                        \n",
      "\u001b[34mINFO    \u001b[0m NK cells consists of a single batch or is too small. Skip.                                                \n",
      "\u001b[34mINFO    \u001b[0m NKT cells consists of a single batch or is too small. Skip.                                               \n"
     ]
    },
    {
     "name": "stderr",
     "output_type": "stream",
     "text": [
      "\n",
      "Metrics:  70%|\u001b[34m███████   \u001b[0m| 7/10 [00:01<00:00,  6.36it/s, Batch correction: kbet_per_label]\u001b[A\n",
      "Metrics:  70%|\u001b[34m███████   \u001b[0m| 7/10 [00:01<00:00,  6.36it/s, Batch correction: graph_connectivity]\u001b[A\n",
      "Embeddings: 100%|\u001b[32m██████████\u001b[0m| 1/1 [00:01<00:00,  1.23s/it]atch correction: pcr_comparison]    \u001b[A\n",
      "\n",
      "                                                                                         \u001b[A"
     ]
    }
   ],
   "source": [
    "ds = ImmuneDataset()\n",
    "scvi_ = ScviTrainer(dataset = ds)\n",
    "barlow_ = ScpoliProtBarlowTrainer(ds)\n",
    "scpoli_ = OriginalTrainer(ds)\n",
    "\n",
    "trainers = [scvi_, scpoli_, barlow_]\n",
    "names = [trainer.get_model_name() for trainer in trainers]\n",
    "\n",
    "all_results_new = pd.DataFrame()\n",
    "for trainer, name in zip(trainers, names):\n",
    "    df = trainer.query_scib_metrics()\n",
    "    df['trainer'] = name\n",
    "    \n",
    "    all_results_new = pd.concat([all_results_new, df], ignore_index=True)"
   ]
  },
  {
   "cell_type": "code",
   "execution_count": 38,
   "id": "e61bef4c-9615-4d59-825d-cafc8fea6577",
   "metadata": {},
   "outputs": [
    {
     "data": {
      "text/html": [
       "<div>\n",
       "<style scoped>\n",
       "    .dataframe tbody tr th:only-of-type {\n",
       "        vertical-align: middle;\n",
       "    }\n",
       "\n",
       "    .dataframe tbody tr th {\n",
       "        vertical-align: top;\n",
       "    }\n",
       "\n",
       "    .dataframe thead th {\n",
       "        text-align: right;\n",
       "    }\n",
       "</style>\n",
       "<table border=\"1\" class=\"dataframe\">\n",
       "  <thead>\n",
       "    <tr style=\"text-align: right;\">\n",
       "      <th></th>\n",
       "      <th>Isolated labels</th>\n",
       "      <th>KMeans NMI</th>\n",
       "      <th>KMeans ARI</th>\n",
       "      <th>Silhouette label</th>\n",
       "      <th>cLISI</th>\n",
       "      <th>Silhouette batch</th>\n",
       "      <th>iLISI</th>\n",
       "      <th>KBET</th>\n",
       "      <th>Graph connectivity</th>\n",
       "      <th>PCR comparison</th>\n",
       "      <th>Batch correction</th>\n",
       "      <th>Bio conservation</th>\n",
       "      <th>Total</th>\n",
       "      <th>trainer</th>\n",
       "    </tr>\n",
       "  </thead>\n",
       "  <tbody>\n",
       "    <tr>\n",
       "      <th>0</th>\n",
       "      <td>0.612536</td>\n",
       "      <td>0.700514</td>\n",
       "      <td>0.513212</td>\n",
       "      <td>0.563858</td>\n",
       "      <td>0.986493</td>\n",
       "      <td>0.688066</td>\n",
       "      <td>0.0</td>\n",
       "      <td>0.636134</td>\n",
       "      <td>0.908591</td>\n",
       "      <td>0.688592</td>\n",
       "      <td>0.584277</td>\n",
       "      <td>0.675323</td>\n",
       "      <td>0.638904</td>\n",
       "      <td>scvi-latent_dim8</td>\n",
       "    </tr>\n",
       "    <tr>\n",
       "      <th>1</th>\n",
       "      <td>Bio conservation</td>\n",
       "      <td>Bio conservation</td>\n",
       "      <td>Bio conservation</td>\n",
       "      <td>Bio conservation</td>\n",
       "      <td>Bio conservation</td>\n",
       "      <td>Batch correction</td>\n",
       "      <td>Batch correction</td>\n",
       "      <td>Batch correction</td>\n",
       "      <td>Batch correction</td>\n",
       "      <td>Batch correction</td>\n",
       "      <td>Aggregate score</td>\n",
       "      <td>Aggregate score</td>\n",
       "      <td>Aggregate score</td>\n",
       "      <td>scvi-latent_dim8</td>\n",
       "    </tr>\n",
       "    <tr>\n",
       "      <th>2</th>\n",
       "      <td>0.662704</td>\n",
       "      <td>0.677848</td>\n",
       "      <td>0.473281</td>\n",
       "      <td>0.621808</td>\n",
       "      <td>0.988315</td>\n",
       "      <td>0.624368</td>\n",
       "      <td>0.0</td>\n",
       "      <td>0.622111</td>\n",
       "      <td>0.888645</td>\n",
       "      <td>0.550187</td>\n",
       "      <td>0.537062</td>\n",
       "      <td>0.684791</td>\n",
       "      <td>0.6257</td>\n",
       "      <td>scpoli-original-latent_dim8</td>\n",
       "    </tr>\n",
       "    <tr>\n",
       "      <th>3</th>\n",
       "      <td>Bio conservation</td>\n",
       "      <td>Bio conservation</td>\n",
       "      <td>Bio conservation</td>\n",
       "      <td>Bio conservation</td>\n",
       "      <td>Bio conservation</td>\n",
       "      <td>Batch correction</td>\n",
       "      <td>Batch correction</td>\n",
       "      <td>Batch correction</td>\n",
       "      <td>Batch correction</td>\n",
       "      <td>Batch correction</td>\n",
       "      <td>Aggregate score</td>\n",
       "      <td>Aggregate score</td>\n",
       "      <td>Aggregate score</td>\n",
       "      <td>scpoli-original-latent_dim8</td>\n",
       "    </tr>\n",
       "    <tr>\n",
       "      <th>4</th>\n",
       "      <td>0.616918</td>\n",
       "      <td>0.738735</td>\n",
       "      <td>0.582646</td>\n",
       "      <td>0.576947</td>\n",
       "      <td>0.980729</td>\n",
       "      <td>0.656629</td>\n",
       "      <td>0.0</td>\n",
       "      <td>0.605909</td>\n",
       "      <td>0.932919</td>\n",
       "      <td>0.560846</td>\n",
       "      <td>0.551261</td>\n",
       "      <td>0.699195</td>\n",
       "      <td>0.640021</td>\n",
       "      <td>barlow-num-prot-16_hidden-64_bs-64</td>\n",
       "    </tr>\n",
       "    <tr>\n",
       "      <th>5</th>\n",
       "      <td>Bio conservation</td>\n",
       "      <td>Bio conservation</td>\n",
       "      <td>Bio conservation</td>\n",
       "      <td>Bio conservation</td>\n",
       "      <td>Bio conservation</td>\n",
       "      <td>Batch correction</td>\n",
       "      <td>Batch correction</td>\n",
       "      <td>Batch correction</td>\n",
       "      <td>Batch correction</td>\n",
       "      <td>Batch correction</td>\n",
       "      <td>Aggregate score</td>\n",
       "      <td>Aggregate score</td>\n",
       "      <td>Aggregate score</td>\n",
       "      <td>barlow-num-prot-16_hidden-64_bs-64</td>\n",
       "    </tr>\n",
       "  </tbody>\n",
       "</table>\n",
       "</div>"
      ],
      "text/plain": [
       "    Isolated labels        KMeans NMI        KMeans ARI  Silhouette label  \\\n",
       "0          0.612536          0.700514          0.513212          0.563858   \n",
       "1  Bio conservation  Bio conservation  Bio conservation  Bio conservation   \n",
       "2          0.662704          0.677848          0.473281          0.621808   \n",
       "3  Bio conservation  Bio conservation  Bio conservation  Bio conservation   \n",
       "4          0.616918          0.738735          0.582646          0.576947   \n",
       "5  Bio conservation  Bio conservation  Bio conservation  Bio conservation   \n",
       "\n",
       "              cLISI  Silhouette batch             iLISI              KBET  \\\n",
       "0          0.986493          0.688066               0.0          0.636134   \n",
       "1  Bio conservation  Batch correction  Batch correction  Batch correction   \n",
       "2          0.988315          0.624368               0.0          0.622111   \n",
       "3  Bio conservation  Batch correction  Batch correction  Batch correction   \n",
       "4          0.980729          0.656629               0.0          0.605909   \n",
       "5  Bio conservation  Batch correction  Batch correction  Batch correction   \n",
       "\n",
       "  Graph connectivity    PCR comparison Batch correction Bio conservation  \\\n",
       "0           0.908591          0.688592         0.584277         0.675323   \n",
       "1   Batch correction  Batch correction  Aggregate score  Aggregate score   \n",
       "2           0.888645          0.550187         0.537062         0.684791   \n",
       "3   Batch correction  Batch correction  Aggregate score  Aggregate score   \n",
       "4           0.932919          0.560846         0.551261         0.699195   \n",
       "5   Batch correction  Batch correction  Aggregate score  Aggregate score   \n",
       "\n",
       "             Total                             trainer  \n",
       "0         0.638904                    scvi-latent_dim8  \n",
       "1  Aggregate score                    scvi-latent_dim8  \n",
       "2           0.6257         scpoli-original-latent_dim8  \n",
       "3  Aggregate score         scpoli-original-latent_dim8  \n",
       "4         0.640021  barlow-num-prot-16_hidden-64_bs-64  \n",
       "5  Aggregate score  barlow-num-prot-16_hidden-64_bs-64  "
      ]
     },
     "execution_count": 38,
     "metadata": {},
     "output_type": "execute_result"
    }
   ],
   "source": [
    "all_results_new"
   ]
  },
  {
   "cell_type": "code",
   "execution_count": null,
   "id": "35a09f90-eac8-4e0a-a0a4-1ebc6f76ed25",
   "metadata": {},
   "outputs": [],
   "source": []
  }
 ],
 "metadata": {
  "kernelspec": {
   "display_name": "Python 3 (ipykernel)",
   "language": "python",
   "name": "python3"
  },
  "language_info": {
   "codemirror_mode": {
    "name": "ipython",
    "version": 3
   },
   "file_extension": ".py",
   "mimetype": "text/x-python",
   "name": "python",
   "nbconvert_exporter": "python",
   "pygments_lexer": "ipython3",
   "version": "3.12.2"
  }
 },
 "nbformat": 4,
 "nbformat_minor": 5
}
