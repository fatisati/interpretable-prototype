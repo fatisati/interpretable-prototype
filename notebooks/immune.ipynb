{
 "cells": [
  {
   "cell_type": "code",
   "execution_count": 1,
   "metadata": {},
   "outputs": [],
   "source": [
    "import pickle as pkl\n",
    "import scanpy as sc\n",
    "import interpretable_ssl.utils as utils\n",
    "from pathlib import Path\n",
    "\n",
    "def get_label_encoder_path():\n",
    "    return \"./data/pbmc_immune_label_encoder.pkl\"\n",
    "\n",
    "\n",
    "# load pancras data\n",
    "adata = sc.read_h5ad(Path.home() / \"data/scpoli/pbmc-immune.h5ad\")\n",
    "adata.obs.rename(columns={'final_annotation': 'cell_type'}, inplace=True)\n",
    "def get_label_encoder_path():\n",
    "    return \"./data/pbmc_immune_label_encoder.pkl\"\n",
    "utils.fit_label_encoder(adata, get_label_encoder_path())"
   ]
  },
  {
   "cell_type": "code",
   "execution_count": null,
   "metadata": {},
   "outputs": [],
   "source": [
    "sc.pp.highly_variable_genes(adata, n_top_genes=4000, inplace=True)\n",
    "adata = adata[:, adata.var['highly_variable']]\n",
    "adata.write_h5ad(Path.home() / \"data/scpoli/pbmc-immune-processed.h5ad\")\n"
   ]
  },
  {
   "cell_type": "code",
   "execution_count": 46,
   "metadata": {},
   "outputs": [
    {
     "data": {
      "text/plain": [
       "10X        10727\n",
       "Oetjen      9581\n",
       "Sun         8829\n",
       "Freytag     3347\n",
       "Villani     1022\n",
       "Name: study, dtype: int64"
      ]
     },
     "execution_count": 46,
     "metadata": {},
     "output_type": "execute_result"
    }
   ],
   "source": [
    "adata.obs['study'].value_counts()"
   ]
  },
  {
   "cell_type": "code",
   "execution_count": 3,
   "metadata": {},
   "outputs": [
    {
     "ename": "NameError",
     "evalue": "name 'trainer' is not defined",
     "output_type": "error",
     "traceback": [
      "\u001b[0;31m---------------------------------------------------------------------------\u001b[0m",
      "\u001b[0;31mNameError\u001b[0m                                 Traceback (most recent call last)",
      "Cell \u001b[0;32mIn[3], line 1\u001b[0m\n\u001b[0;32m----> 1\u001b[0m \u001b[43mtrainer\u001b[49m\n",
      "\u001b[0;31mNameError\u001b[0m: name 'trainer' is not defined"
     ]
    }
   ],
   "source": [
    "trainer"
   ]
  },
  {
   "cell_type": "code",
   "execution_count": null,
   "metadata": {},
   "outputs": [],
   "source": []
  }
 ],
 "metadata": {
  "kernelspec": {
   "display_name": "scanpy-gpu",
   "language": "python",
   "name": "python3"
  },
  "language_info": {
   "codemirror_mode": {
    "name": "ipython",
    "version": 3
   },
   "file_extension": ".py",
   "mimetype": "text/x-python",
   "name": "python",
   "nbconvert_exporter": "python",
   "pygments_lexer": "ipython3",
   "version": "3.11.8"
  }
 },
 "nbformat": 4,
 "nbformat_minor": 2
}
