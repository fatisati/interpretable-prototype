{
 "cells": [
  {
   "cell_type": "code",
   "execution_count": 1,
   "metadata": {},
   "outputs": [],
   "source": [
    "import scanpy as sc\n",
    "import interpretable_ssl.utils as utils\n",
    "from pathlib import Path"
   ]
  },
  {
   "cell_type": "code",
   "execution_count": null,
   "metadata": {},
   "outputs": [],
   "source": [
    "def get_label_encoder_path():\n",
    "    return \"./data/pbmc3k_label_encoder.pkl\"\n",
    "\n",
    "\n",
    "# load pancras data\n",
    "adata = sc.read_h5ad(Path.home() / \"data/pbmc3k/pbmc3k_withoutX.h5ad\")\n",
    "\n",
    "utils.fit_label_encoder(adata, get_label_encoder_path())"
   ]
  }
 ],
 "metadata": {
  "kernelspec": {
   "display_name": "scanpy-gpu",
   "language": "python",
   "name": "python3"
  },
  "language_info": {
   "codemirror_mode": {
    "name": "ipython",
    "version": 3
   },
   "file_extension": ".py",
   "mimetype": "text/x-python",
   "name": "python",
   "nbconvert_exporter": "python",
   "pygments_lexer": "ipython3",
   "version": "3.12.2"
  }
 },
 "nbformat": 4,
 "nbformat_minor": 2
}
