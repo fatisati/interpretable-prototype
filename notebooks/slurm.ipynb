{
 "cells": [
  {
   "cell_type": "code",
   "execution_count": 1,
   "metadata": {},
   "outputs": [
    {
     "name": "stdout",
     "output_type": "stream",
     "text": [
      "Current working directory: /ictstr01/home/icb/fatemehs.hashemig/codes/interpretable-ssl\n"
     ]
    }
   ],
   "source": [
    "import os\n",
    "import sys\n",
    "\n",
    "# Get the current working directory (where the notebook is located)\n",
    "notebook_dir = os.getcwd()\n",
    "\n",
    "# Get the parent directory\n",
    "parent_dir = os.path.abspath(os.path.join(notebook_dir, os.pardir))\n",
    "\n",
    "# Set the parent directory as the working directory\n",
    "os.chdir(parent_dir)\n",
    "\n",
    "# Optionally, you can add the parent directory to the system path\n",
    "sys.path.append(parent_dir)\n",
    "\n",
    "# Print the current working directory to verify\n",
    "print(\"Current working directory:\", os.getcwd())"
   ]
  },
  {
   "cell_type": "code",
   "execution_count": 2,
   "metadata": {},
   "outputs": [],
   "source": [
    "from experiment_runner import *"
   ]
  },
  {
   "cell_type": "code",
   "execution_count": 3,
   "metadata": {},
   "outputs": [
    {
     "name": "stdout",
     "output_type": "stream",
     "text": [
      "1\n"
     ]
    }
   ],
   "source": [
    "print(1)"
   ]
  },
  {
   "cell_type": "code",
   "execution_count": 5,
   "metadata": {},
   "outputs": [],
   "source": [
    "item_to_test = {\n",
    "            \"dimensionality_reduction\": [\"pca\", None],\n",
    "            \"prot_decoding_loss_scaler\": [0, 5],\n",
    "            \"cvae_loss_scaler\": [0, 0.0001],\n",
    "            \"k_neighbors\": [5, 10],\n",
    "            \"semi_supervised\": [True],\n",
    "            \"augmentation_type\": [\"scanpy_knn\", \"community\", 'knn'],\n",
    "            \n",
    "        }\n",
    "        \n"
   ]
  },
  {
   "cell_type": "code",
   "execution_count": 6,
   "metadata": {},
   "outputs": [],
   "source": [
    "keys, values = zip(*item_to_test.items())"
   ]
  },
  {
   "cell_type": "code",
   "execution_count": 8,
   "metadata": {},
   "outputs": [],
   "source": [
    "value_combination = next(iter(itertools.product(*values)))"
   ]
  },
  {
   "cell_type": "code",
   "execution_count": 9,
   "metadata": {},
   "outputs": [],
   "source": [
    "self = ExperimentRunner(\"swav_template.sbatch\")"
   ]
  },
  {
   "cell_type": "code",
   "execution_count": 10,
   "metadata": {},
   "outputs": [
    {
     "data": {
      "text/plain": [
       "'aug_scan_DR_pca_kN_5_semi_True'"
      ]
     },
     "execution_count": 10,
     "metadata": {},
     "output_type": "execute_result"
    }
   ],
   "source": [
    "params = dict(zip(keys, value_combination))\n",
    "\n",
    "# Generate job name automatically based on differences from defaults\n",
    "job_name = self.generate_job_name(params)\n",
    "job_name"
   ]
  },
  {
   "cell_type": "code",
   "execution_count": 14,
   "metadata": {},
   "outputs": [],
   "source": [
    "def get_slurm_job_names():\n",
    "    user = 'fatemehs.hashemig'\n",
    "    try:\n",
    "        # Run the 'squeue' command for the specified user and capture the output\n",
    "        result = subprocess.run(['squeue', '--user', user, '--format', '%.100j'], stdout=subprocess.PIPE, stderr=subprocess.PIPE, text=True)\n",
    "\n",
    "        # Check for errors\n",
    "        if result.returncode != 0:\n",
    "            print(f\"Error: {result.stderr}\")\n",
    "            return []\n",
    "\n",
    "        # Split the output into lines, strip leading and trailing whitespaces\n",
    "        lines = [line.strip() for line in result.stdout.splitlines()]\n",
    "\n",
    "        # Skip the header (first line) and return the remaining lines (job names)\n",
    "        return lines[1:]  # Skip the first line if it contains the header\n",
    "\n",
    "    except Exception as e:\n",
    "        print(f\"An error occurred: {e}\")\n",
    "        return []"
   ]
  },
  {
   "cell_type": "code",
   "execution_count": 15,
   "metadata": {},
   "outputs": [
    {
     "data": {
      "text/plain": [
       "['aug_knn_kN_5_semi_True',\n",
       " 'aug_comm_kN_5_semi_True',\n",
       " 'aug_scan_kN_5_semi_True',\n",
       " 'JPTR',\n",
       " 'aug_scan_DR_pca_kN_5_semi_True',\n",
       " 'aug_knn_DR_pca_kN_5_semi_True',\n",
       " 'aug_knn_DR_pca_semi_True',\n",
       " 'aug_knn_DR_pca_cvaeLS_0.0001_kN_5_semi_True',\n",
       " 'aug_scan_DR_pca_kN_5_semi_True',\n",
       " 'aug_comm_DR_pca_PDLS_5_kN_5_semi_True',\n",
       " 'aug_scan_DR_pca_PDLS_5_kN_5_semi_True',\n",
       " 'aug_comm_DR_pca_PDLS_5_semi_True',\n",
       " 'aug_scan_DR_pca_PDLS_5_semi_True',\n",
       " 'aug_knn_DR_pca_PDLS_5_kN_5_semi_True',\n",
       " 'aug_knn_DR_pca_PDLS_5_semi_True']"
      ]
     },
     "execution_count": 15,
     "metadata": {},
     "output_type": "execute_result"
    }
   ],
   "source": [
    "current_jobs = get_slurm_job_names()\n",
    "current_jobs"
   ]
  },
  {
   "cell_type": "code",
   "execution_count": 16,
   "metadata": {},
   "outputs": [
    {
     "data": {
      "text/plain": [
       "True"
      ]
     },
     "execution_count": 16,
     "metadata": {},
     "output_type": "execute_result"
    }
   ],
   "source": [
    "job_name in current_jobs"
   ]
  },
  {
   "cell_type": "code",
   "execution_count": 18,
   "metadata": {},
   "outputs": [],
   "source": [
    "self.update_params(**params)"
   ]
  },
  {
   "cell_type": "code",
   "execution_count": 20,
   "metadata": {},
   "outputs": [],
   "source": [
    "sbatch_content = self.generate_sbatch_content()\n"
   ]
  },
  {
   "cell_type": "code",
   "execution_count": 21,
   "metadata": {},
   "outputs": [
    {
     "data": {
      "text/plain": [
       "'#!/bin/bash\\n#SBATCH --job-name=default_job\\n#SBATCH --nodes=1\\n#SBATCH --cpus-per-task=20\\n#SBATCH --mem=128G\\n#SBATCH --output=slurm-job-out/default_job/output.txt\\n#SBATCH --error=slurm-job-out/default_job/error.txt\\n#SBATCH --nice=10000\\n#SBATCH --partition=gpu_p\\n#SBATCH --qos=gpu_short\\n#SBATCH --gres=gpu:1\\n\\nsource ~/.bashrc\\nconda activate apex-env\\n\\npython main.py swav --num_prototypes 300 --latent_dims 8 --batch_size 1024 \\\\\\n--augmentation_type scanpy_knn --epsilon 0.02 --cvae_loss_scaler 0 \\\\\\n--prot_decoding_loss_scaler 0 --model_version 1 \\\\\\n--dimensionality_reduction pca --k_neighbors 5 --experiment_name None\\n'"
      ]
     },
     "execution_count": 21,
     "metadata": {},
     "output_type": "execute_result"
    }
   ],
   "source": [
    "sbatch_content"
   ]
  },
  {
   "cell_type": "code",
   "execution_count": null,
   "metadata": {},
   "outputs": [],
   "source": []
  }
 ],
 "metadata": {
  "kernelspec": {
   "display_name": "apex-env",
   "language": "python",
   "name": "python3"
  },
  "language_info": {
   "codemirror_mode": {
    "name": "ipython",
    "version": 3
   },
   "file_extension": ".py",
   "mimetype": "text/x-python",
   "name": "python",
   "nbconvert_exporter": "python",
   "pygments_lexer": "ipython3",
   "version": "3.12.2"
  }
 },
 "nbformat": 4,
 "nbformat_minor": 2
}
