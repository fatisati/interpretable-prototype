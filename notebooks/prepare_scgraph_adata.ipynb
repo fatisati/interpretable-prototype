{
 "cells": [
  {
   "cell_type": "code",
   "execution_count": 2,
   "id": "7242c36f-ab09-4af2-a1ba-fe90c447953d",
   "metadata": {},
   "outputs": [
    {
     "data": {
      "text/plain": [
       "AnnData object with n_obs × n_vars = 10 × 5\n",
       "    obs: 'batch', 'cell_type'\n",
       "    obsm: 'X_emb1', 'X_emb2'"
      ]
     },
     "execution_count": 2,
     "metadata": {},
     "output_type": "execute_result"
    }
   ],
   "source": [
    "import numpy as np\n",
    "import scanpy as sc\n",
    "\n",
    "# Create a very small example AnnData object with random data\n",
    "n_cells = 10\n",
    "n_genes = 5\n",
    "n_batches = 2\n",
    "n_labels = 2\n",
    "n_dim_emb = 3  # Number of dimensions for embeddings\n",
    "\n",
    "# Random expression matrix (cells x genes)\n",
    "X = np.random.rand(n_cells, n_genes)\n",
    "\n",
    "# Create random metadata for batches and cell types\n",
    "batches = np.random.choice([f\"batch_{i}\" for i in range(n_batches)], n_cells)\n",
    "cell_types = np.random.choice([f\"celltype_{i}\" for i in range(n_labels)], n_cells)\n",
    "\n",
    "# Create random embeddings for emb1 and emb2 (cells x embedding dimensions)\n",
    "emb1 = np.random.rand(n_cells, n_dim_emb)\n",
    "emb2 = np.random.rand(n_cells, n_dim_emb)\n",
    "\n",
    "# Create the AnnData object\n",
    "adata_small = sc.AnnData(X)\n",
    "adata_small.obs['batch'] = batches\n",
    "adata_small.obs[\"cell_type\"] = cell_types\n",
    "\n",
    "# Add the embeddings to obsm\n",
    "adata_small.obsm[\"X_emb1\"] = emb1\n",
    "adata_small.obsm[\"X_emb2\"] = emb2\n",
    "\n",
    "adata_small"
   ]
  },
  {
   "cell_type": "code",
   "execution_count": 3,
   "id": "218e51b4-a864-414d-854a-49cd2b2c14d3",
   "metadata": {},
   "outputs": [],
   "source": [
    "# Save the AnnData object to a file\n",
    "adata_small.write(\"sample_adata.h5ad\")\n"
   ]
  },
  {
   "cell_type": "code",
   "execution_count": null,
   "id": "598f6324-c50d-4ecf-9a15-14e679bf9077",
   "metadata": {},
   "outputs": [],
   "source": [
    "import os\n",
    "\n",
    "os.chdir('/home/icb/fatemehs.hashemig/codes/interpretable-ssl/Islander/src')"
   ]
  },
  {
   "cell_type": "code",
   "execution_count": null,
   "id": "f9738d77-22fa-4827-a11f-86b78191621f",
   "metadata": {},
   "outputs": [],
   "source": [
    "from scGraph import *"
   ]
  },
  {
   "cell_type": "code",
   "execution_count": null,
   "id": "6b324000-6463-4617-be29-3f98a31a48f4",
   "metadata": {},
   "outputs": [],
   "source": [
    "scgraph = scGraph(\n",
    "    adata_path=\"../sample_adata.h5ad\", \n",
    "    batch_key=\"batch_key\", \n",
    "    label_key=\"label_key\", \n",
    "    hvg=False, \n",
    "    trim_rate=0.05, \n",
    "    thres_batch=100, \n",
    "    thres_celltype=10\n",
    ")\n",
    "results = scgraph.main(_obsm_list=[\"X_emb1\", \"X_emb2\"])  # Evaluate both embeddings\n"
   ]
  },
  {
   "cell_type": "code",
   "execution_count": null,
   "id": "4e44a8e1-d235-4b6c-9df2-bfb5bd9e7be6",
   "metadata": {},
   "outputs": [],
   "source": []
  }
 ],
 "metadata": {
  "kernelspec": {
   "display_name": "Python 3 (ipykernel)",
   "language": "python",
   "name": "python3"
  },
  "language_info": {
   "codemirror_mode": {
    "name": "ipython",
    "version": 3
   },
   "file_extension": ".py",
   "mimetype": "text/x-python",
   "name": "python",
   "nbconvert_exporter": "python",
   "pygments_lexer": "ipython3",
   "version": "3.9.18"
  }
 },
 "nbformat": 4,
 "nbformat_minor": 5
}
