{
 "cells": [
  {
   "cell_type": "code",
   "execution_count": 11,
   "id": "59800e13-2bbd-4f0f-96fe-7b31ed6339a2",
   "metadata": {},
   "outputs": [],
   "source": [
    "import torch\n",
    "from torch.utils.data import Dataset, DataLoader, Sampler\n",
    "\n",
    "class CustomDataset(Dataset):\n",
    "    def __init__(self, data):\n",
    "        self.data = data\n",
    "\n",
    "    def __len__(self):\n",
    "        return len(self.data)\n",
    "\n",
    "    def __getitem__(self, idx):\n",
    "        # Access the entire batch index (idx will be a list)\n",
    "        if isinstance(idx, list):\n",
    "            # Get the data corresponding to the batch of indices\n",
    "            print(f'batch called: {idx}')\n",
    "            batch_data = [self.data[i] for i in idx]\n",
    "            return batch_data\n",
    "        else:\n",
    "            # Get single item if not using batch index\n",
    "            print(f'getting single item{idx}')\n",
    "            return self.data[idx]"
   ]
  },
  {
   "cell_type": "code",
   "execution_count": 12,
   "id": "33a419a9-8cb9-4962-bcd2-99433129cb2d",
   "metadata": {},
   "outputs": [],
   "source": [
    "\n",
    "# Example data\n",
    "data = torch.arange(100)\n",
    "\n",
    "# Create the dataset and the batch sampler\n",
    "dataset = CustomDataset(data)\n",
    "batch_size = 10\n",
    "\n",
    "\n"
   ]
  },
  {
   "cell_type": "code",
   "execution_count": 13,
   "id": "a5014d5b-803c-428c-a188-cc0ab25294e9",
   "metadata": {},
   "outputs": [],
   "source": [
    "\n",
    "# Use the DataLoader with a custom sampler\n",
    "dataloader = DataLoader(dataset, batch_size = 3)"
   ]
  },
  {
   "cell_type": "code",
   "execution_count": 14,
   "id": "6c0252a2-c5a6-490a-858d-d5ae5d2434a6",
   "metadata": {},
   "outputs": [
    {
     "name": "stdout",
     "output_type": "stream",
     "text": [
      "getting single item0\n",
      "getting single item1\n",
      "getting single item2\n"
     ]
    }
   ],
   "source": [
    "b = next(iter(dataloader))"
   ]
  },
  {
   "cell_type": "code",
   "execution_count": 10,
   "id": "2c18af00-646b-4345-b77d-99100023012b",
   "metadata": {},
   "outputs": [
    {
     "data": {
      "text/plain": [
       "tensor([0, 1, 2])"
      ]
     },
     "execution_count": 10,
     "metadata": {},
     "output_type": "execute_result"
    }
   ],
   "source": [
    "b"
   ]
  },
  {
   "cell_type": "code",
   "execution_count": null,
   "id": "1067fe13-177c-4fd7-b3fa-9f0df336888a",
   "metadata": {},
   "outputs": [],
   "source": []
  }
 ],
 "metadata": {
  "kernelspec": {
   "display_name": "Python 3 (ipykernel)",
   "language": "python",
   "name": "python3"
  },
  "language_info": {
   "codemirror_mode": {
    "name": "ipython",
    "version": 3
   },
   "file_extension": ".py",
   "mimetype": "text/x-python",
   "name": "python",
   "nbconvert_exporter": "python",
   "pygments_lexer": "ipython3",
   "version": "3.12.2"
  }
 },
 "nbformat": 4,
 "nbformat_minor": 5
}
