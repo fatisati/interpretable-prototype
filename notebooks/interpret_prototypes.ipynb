{
 "cells": [
  {
   "cell_type": "code",
   "execution_count": 2,
   "id": "781190b5-971e-45ca-83d3-b5c64628db9b",
   "metadata": {},
   "outputs": [
    {
     "name": "stderr",
     "output_type": "stream",
     "text": [
      "/home/icb/fatemehs.hashemig/miniconda3/envs/interpretable-ssl/lib/python3.12/site-packages/tqdm/auto.py:21: TqdmWarning: IProgress not found. Please update jupyter and ipywidgets. See https://ipywidgets.readthedocs.io/en/stable/user_install.html\n",
      "  from .autonotebook import tqdm as notebook_tqdm\n"
     ]
    },
    {
     "name": "stdout",
     "output_type": "stream",
     "text": [
      "loading data\n",
      "training with number of prototypes : num-prot-32_hidden-128_bs-32.pth\n"
     ]
    },
    {
     "name": "stderr",
     "output_type": "stream",
     "text": [
      "/home/icb/fatemehs.hashemig/miniconda3/envs/interpretable-ssl/lib/python3.12/site-packages/sklearn/base.py:376: InconsistentVersionWarning: Trying to unpickle estimator LabelEncoder from version 1.4.0 when using version 1.4.1.post1. This might lead to breaking code or invalid results. Use at your own risk. For more info please refer to:\n",
      "https://scikit-learn.org/stable/model_persistence.html#security-maintainability-limitations\n",
      "  warnings.warn(\n"
     ]
    }
   ],
   "source": [
    "from interpretable_ssl.immune.trainer import ImmuneTrainer\n",
    "\n",
    "trainer = ImmuneTrainer()\n",
    "trainer.batch_size = 64\n",
    "trainer.hidden_dim = 64\n",
    "trainer.num_prototypes = 32"
   ]
  },
  {
   "cell_type": "code",
   "execution_count": 4,
   "id": "7c086750-f19f-47c4-bbb1-29e3536213e7",
   "metadata": {},
   "outputs": [
    {
     "data": {
      "text/plain": [
       "<All keys matched successfully>"
      ]
     },
     "execution_count": 4,
     "metadata": {},
     "output_type": "execute_result"
    }
   ],
   "source": [
    "# load model\n",
    "import torch\n",
    "model = trainer.get_model()\n",
    "model.load_state_dict(torch.load(trainer.get_model_path())[\"model_state_dict\"])"
   ]
  },
  {
   "cell_type": "code",
   "execution_count": 6,
   "id": "bb42738f-1d95-442d-a851-8349bde26477",
   "metadata": {},
   "outputs": [],
   "source": [
    "# decode each prototype\n",
    "\n",
    "prototype_cells = model.decoder(model.prototype_vectors)\n",
    "prototype_cells.shape"
   ]
  },
  {
   "cell_type": "code",
   "execution_count": 128,
   "id": "d1b151e0-59c7-44b2-963e-e023d97527a8",
   "metadata": {},
   "outputs": [],
   "source": [
    "def calculate_mean_by_class(latent, y):\n",
    "    M = torch.zeros(y.max()+1, len(latent))\n",
    "    M = M.to(trainer.device)\n",
    "    M[y, torch.arange(len(latent))] = 1\n",
    "    M = torch.nn.functional.normalize(M, p=1, dim=1)\n",
    "    class_means = torch.mm(M, latent)\n",
    "    return class_means"
   ]
  },
  {
   "cell_type": "code",
   "execution_count": 116,
   "id": "52358fa7-0fb6-489b-8ec8-f6f027d85af7",
   "metadata": {},
   "outputs": [],
   "source": [
    "# calculate all latent\n",
    "adata = trainer.dataset.adata\n",
    "x = adata.X.toarray()\n",
    "x = torch.tensor(x)\n",
    "x = x.to(trainer.device)\n",
    "latent, _, _ = model(x)"
   ]
  },
  {
   "cell_type": "code",
   "execution_count": 124,
   "id": "19a6e8f0-de11-4ba7-a164-56b4ec723338",
   "metadata": {},
   "outputs": [],
   "source": [
    "y = adata.obs.cell_type.values\n",
    "y = list(y)\n",
    "y = trainer.dataset.le.transform(y)\n",
    "y = torch.tensor(y, device=trainer.device)"
   ]
  },
  {
   "cell_type": "code",
   "execution_count": 129,
   "id": "bfdc9905-ae2f-4316-9add-7b818fb52478",
   "metadata": {},
   "outputs": [],
   "source": [
    "class_mean_latent = calculate_mean_by_class(latent, y)\n",
    "class_mean_cells = model.decoder(class_mean_latent)\n",
    "prototype_cells.shape, class_mean_cells.shape"
   ]
  },
  {
   "cell_type": "code",
   "execution_count": 141,
   "id": "e8df2845-4757-4be6-9494-9bd54dfd3742",
   "metadata": {},
   "outputs": [],
   "source": [
    "prototype_cells = prototype_cells.to(trainer.device)\n",
    "class_mean_cells = class_mean_cells.reshape(16, 1, -1)\n",
    "prototype_cells = prototype_cells.reshape(1, 32, -1)\n",
    "class_mean_cells.shape, prototype_cells.shape"
   ]
  },
  {
   "cell_type": "code",
   "execution_count": 145,
   "id": "8770e388-659a-456f-9e16-24ef5507ece0",
   "metadata": {},
   "outputs": [],
   "source": [
    "prototype_cells = prototype_cells.repeat(16, 1, 1)\n",
    "diff = class_mean_cells - prototype_cells\n",
    "diff.shape"
   ]
  },
  {
   "cell_type": "code",
   "execution_count": 148,
   "id": "7515787d-38fa-4833-8b54-6f3946bbe943",
   "metadata": {},
   "outputs": [],
   "source": [
    "k = 5\n",
    "top_idx = torch.topk(diff, k, dim=2).indices\n",
    "top_idx.shape"
   ]
  },
  {
   "cell_type": "code",
   "execution_count": 153,
   "id": "494527f3-959a-41c1-8501-6c25d51cb082",
   "metadata": {},
   "outputs": [
    {
     "data": {
      "text/plain": [
       "Index(['LINC00115', 'KLHL17', 'HES4', 'ISG15', 'B3GALT6', 'PUSL1', 'TMEM52',\n",
       "       'PRKCZ', 'PEX10', 'PANK4',\n",
       "       ...\n",
       "       'RRP1', 'PWP2', 'TRPM2', 'ITGB2', 'SLC19A1', 'LSS', 'MCM3AP-AS1',\n",
       "       'YBEY', 'PCNT', 'S100B'],\n",
       "      dtype='object', name='index', length=4000)"
      ]
     },
     "execution_count": 153,
     "metadata": {},
     "output_type": "execute_result"
    }
   ],
   "source": [
    "from interpretable_ssl.evaluation.interpretation import downstream\n",
    "genes = adata.var.index\n",
    "results = []\n",
    "for i, cell_row in enumerate(top_idx):\n",
    "    cell_downstreams = []\n",
    "    for j, prot in enumerate(cell_row):\n",
    "        cell_downstreams.append(downstream(list(genes[prot.cpu()])))\n",
    "    results.append(cell_downstreams)"
   ]
  },
  {
   "cell_type": "code",
   "execution_count": 168,
   "id": "3ab2249d-987d-4edb-a091-793f6a38d565",
   "metadata": {},
   "outputs": [],
   "source": [
    "results = []\n",
    "for i, cell_row in enumerate(top_idx):\n",
    "    cell_downstreams = []\n",
    "    for j, prot in enumerate(cell_row):\n",
    "        cell_downstreams.append(downstream(list(genes[prot.cpu()])))\n",
    "    results.append(cell_downstreams)"
   ]
  },
  {
   "cell_type": "code",
   "execution_count": 175,
   "id": "ca0f8334-4993-47bc-a811-e79819f2f855",
   "metadata": {},
   "outputs": [],
   "source": [
    "index = trainer.dataset.le.inverse_transform(range(16))"
   ]
  },
  {
   "cell_type": "code",
   "execution_count": 176,
   "id": "9723f966-1b17-4ebe-8b91-0894cf0519de",
   "metadata": {},
   "outputs": [
    {
     "data": {
      "text/html": [
       "<div>\n",
       "<style scoped>\n",
       "    .dataframe tbody tr th:only-of-type {\n",
       "        vertical-align: middle;\n",
       "    }\n",
       "\n",
       "    .dataframe tbody tr th {\n",
       "        vertical-align: top;\n",
       "    }\n",
       "\n",
       "    .dataframe thead th {\n",
       "        text-align: right;\n",
       "    }\n",
       "</style>\n",
       "<table border=\"1\" class=\"dataframe\">\n",
       "  <thead>\n",
       "    <tr style=\"text-align: right;\">\n",
       "      <th></th>\n",
       "      <th>prototype1</th>\n",
       "      <th>prototype2</th>\n",
       "      <th>prototype3</th>\n",
       "      <th>prototype4</th>\n",
       "      <th>prototype5</th>\n",
       "      <th>prototype6</th>\n",
       "      <th>prototype7</th>\n",
       "      <th>prototype8</th>\n",
       "      <th>prototype9</th>\n",
       "      <th>prototype10</th>\n",
       "      <th>...</th>\n",
       "      <th>prototype23</th>\n",
       "      <th>prototype24</th>\n",
       "      <th>prototype25</th>\n",
       "      <th>prototype26</th>\n",
       "      <th>prototype27</th>\n",
       "      <th>prototype28</th>\n",
       "      <th>prototype29</th>\n",
       "      <th>prototype30</th>\n",
       "      <th>prototype31</th>\n",
       "      <th>prototype32</th>\n",
       "    </tr>\n",
       "  </thead>\n",
       "  <tbody>\n",
       "    <tr>\n",
       "      <th>CD10+ B cells</th>\n",
       "      <td>[]</td>\n",
       "      <td>[{'description': 'Viral protein interaction wi...</td>\n",
       "      <td>[{'description': '\"H2O + L-glutamate 5-semiald...</td>\n",
       "      <td>[{'description': '\"Any process that results in...</td>\n",
       "      <td>[{'description': '\"A defense response against ...</td>\n",
       "      <td>[]</td>\n",
       "      <td>[]</td>\n",
       "      <td>[]</td>\n",
       "      <td>[]</td>\n",
       "      <td>[]</td>\n",
       "      <td>...</td>\n",
       "      <td>[]</td>\n",
       "      <td>[]</td>\n",
       "      <td>[]</td>\n",
       "      <td>[{'description': '\"Binding to a chemokine rece...</td>\n",
       "      <td>[]</td>\n",
       "      <td>[]</td>\n",
       "      <td>[{'description': '\"The process in which the an...</td>\n",
       "      <td>[{'description': 'Viral protein interaction wi...</td>\n",
       "      <td>[{'description': '\"A defense response against ...</td>\n",
       "      <td>[]</td>\n",
       "    </tr>\n",
       "    <tr>\n",
       "      <th>CD14+ Monocytes</th>\n",
       "      <td>[]</td>\n",
       "      <td>[{'description': '\"Combining with the C-X-C mo...</td>\n",
       "      <td>[]</td>\n",
       "      <td>[]</td>\n",
       "      <td>[]</td>\n",
       "      <td>[]</td>\n",
       "      <td>[]</td>\n",
       "      <td>[{'description': 'Efferocytosis', 'effective_d...</td>\n",
       "      <td>[{'description': 'Efferocytosis', 'effective_d...</td>\n",
       "      <td>[]</td>\n",
       "      <td>...</td>\n",
       "      <td>[{'description': 'Efferocytosis', 'effective_d...</td>\n",
       "      <td>[{'description': 'Efferocytosis', 'effective_d...</td>\n",
       "      <td>[]</td>\n",
       "      <td>[]</td>\n",
       "      <td>[{'description': '\"Any process that activates ...</td>\n",
       "      <td>[]</td>\n",
       "      <td>[]</td>\n",
       "      <td>[{'description': '\"Combining with the C-X-C mo...</td>\n",
       "      <td>[{'description': '\"Any process that activates ...</td>\n",
       "      <td>[]</td>\n",
       "    </tr>\n",
       "    <tr>\n",
       "      <th>CD16+ Monocytes</th>\n",
       "      <td>[]</td>\n",
       "      <td>[{'description': '\"A secretory organelle found...</td>\n",
       "      <td>[{'description': '\"A ribonucleoprotein granule...</td>\n",
       "      <td>[]</td>\n",
       "      <td>[{'description': '\"The sequential process in w...</td>\n",
       "      <td>[{'description': '\"Binding to a ribosomal RNA....</td>\n",
       "      <td>[]</td>\n",
       "      <td>[]</td>\n",
       "      <td>[]</td>\n",
       "      <td>[]</td>\n",
       "      <td>...</td>\n",
       "      <td>[]</td>\n",
       "      <td>[]</td>\n",
       "      <td>[{'description': '\"A ribonucleoprotein granule...</td>\n",
       "      <td>[]</td>\n",
       "      <td>[]</td>\n",
       "      <td>[{'description': '\"A series of progressive, ov...</td>\n",
       "      <td>[]</td>\n",
       "      <td>[{'description': '\"A secretory organelle found...</td>\n",
       "      <td>[{'description': '\"An acute inflammatory respo...</td>\n",
       "      <td>[{'description': '\"Any process that results in...</td>\n",
       "    </tr>\n",
       "    <tr>\n",
       "      <th>CD20+ B cells</th>\n",
       "      <td>[]</td>\n",
       "      <td>[{'description': '\"Any immune system process t...</td>\n",
       "      <td>[]</td>\n",
       "      <td>[{'description': '\"Any process that results in...</td>\n",
       "      <td>[]</td>\n",
       "      <td>[{'description': '\"A cellular process that res...</td>\n",
       "      <td>[]</td>\n",
       "      <td>[]</td>\n",
       "      <td>[]</td>\n",
       "      <td>[{'description': 'Virion - Human immunodeficie...</td>\n",
       "      <td>...</td>\n",
       "      <td>[]</td>\n",
       "      <td>[]</td>\n",
       "      <td>[]</td>\n",
       "      <td>[{'description': '\"Binding to heparin, a membe...</td>\n",
       "      <td>[]</td>\n",
       "      <td>[]</td>\n",
       "      <td>[]</td>\n",
       "      <td>[{'description': '\"Any immune system process t...</td>\n",
       "      <td>[{'description': '\"Any process that results in...</td>\n",
       "      <td>[]</td>\n",
       "    </tr>\n",
       "    <tr>\n",
       "      <th>CD4+ T cells</th>\n",
       "      <td>[{'description': 'Virion - Human immunodeficie...</td>\n",
       "      <td>[{'description': '\"Any immune system process t...</td>\n",
       "      <td>[{'description': 'Viral myocarditis', 'effecti...</td>\n",
       "      <td>[{'description': 'African trypanosomiasis', 'e...</td>\n",
       "      <td>[]</td>\n",
       "      <td>[]</td>\n",
       "      <td>[]</td>\n",
       "      <td>[{'description': '\"Any process involved in the...</td>\n",
       "      <td>[]</td>\n",
       "      <td>[{'description': 'Virion - Human immunodeficie...</td>\n",
       "      <td>...</td>\n",
       "      <td>[{'description': '\"Any process involved in the...</td>\n",
       "      <td>[{'description': '\"Any process involved in the...</td>\n",
       "      <td>[{'description': 'Viral myocarditis', 'effecti...</td>\n",
       "      <td>[]</td>\n",
       "      <td>[]</td>\n",
       "      <td>[]</td>\n",
       "      <td>[{'description': 'Virion - Human immunodeficie...</td>\n",
       "      <td>[{'description': '\"Any immune system process t...</td>\n",
       "      <td>[]</td>\n",
       "      <td>[]</td>\n",
       "    </tr>\n",
       "  </tbody>\n",
       "</table>\n",
       "<p>5 rows × 32 columns</p>\n",
       "</div>"
      ],
      "text/plain": [
       "                                                        prototype1  \\\n",
       "CD10+ B cells                                                   []   \n",
       "CD14+ Monocytes                                                 []   \n",
       "CD16+ Monocytes                                                 []   \n",
       "CD20+ B cells                                                   []   \n",
       "CD4+ T cells     [{'description': 'Virion - Human immunodeficie...   \n",
       "\n",
       "                                                        prototype2  \\\n",
       "CD10+ B cells    [{'description': 'Viral protein interaction wi...   \n",
       "CD14+ Monocytes  [{'description': '\"Combining with the C-X-C mo...   \n",
       "CD16+ Monocytes  [{'description': '\"A secretory organelle found...   \n",
       "CD20+ B cells    [{'description': '\"Any immune system process t...   \n",
       "CD4+ T cells     [{'description': '\"Any immune system process t...   \n",
       "\n",
       "                                                        prototype3  \\\n",
       "CD10+ B cells    [{'description': '\"H2O + L-glutamate 5-semiald...   \n",
       "CD14+ Monocytes                                                 []   \n",
       "CD16+ Monocytes  [{'description': '\"A ribonucleoprotein granule...   \n",
       "CD20+ B cells                                                   []   \n",
       "CD4+ T cells     [{'description': 'Viral myocarditis', 'effecti...   \n",
       "\n",
       "                                                        prototype4  \\\n",
       "CD10+ B cells    [{'description': '\"Any process that results in...   \n",
       "CD14+ Monocytes                                                 []   \n",
       "CD16+ Monocytes                                                 []   \n",
       "CD20+ B cells    [{'description': '\"Any process that results in...   \n",
       "CD4+ T cells     [{'description': 'African trypanosomiasis', 'e...   \n",
       "\n",
       "                                                        prototype5  \\\n",
       "CD10+ B cells    [{'description': '\"A defense response against ...   \n",
       "CD14+ Monocytes                                                 []   \n",
       "CD16+ Monocytes  [{'description': '\"The sequential process in w...   \n",
       "CD20+ B cells                                                   []   \n",
       "CD4+ T cells                                                    []   \n",
       "\n",
       "                                                        prototype6 prototype7  \\\n",
       "CD10+ B cells                                                   []         []   \n",
       "CD14+ Monocytes                                                 []         []   \n",
       "CD16+ Monocytes  [{'description': '\"Binding to a ribosomal RNA....         []   \n",
       "CD20+ B cells    [{'description': '\"A cellular process that res...         []   \n",
       "CD4+ T cells                                                    []         []   \n",
       "\n",
       "                                                        prototype8  \\\n",
       "CD10+ B cells                                                   []   \n",
       "CD14+ Monocytes  [{'description': 'Efferocytosis', 'effective_d...   \n",
       "CD16+ Monocytes                                                 []   \n",
       "CD20+ B cells                                                   []   \n",
       "CD4+ T cells     [{'description': '\"Any process involved in the...   \n",
       "\n",
       "                                                        prototype9  \\\n",
       "CD10+ B cells                                                   []   \n",
       "CD14+ Monocytes  [{'description': 'Efferocytosis', 'effective_d...   \n",
       "CD16+ Monocytes                                                 []   \n",
       "CD20+ B cells                                                   []   \n",
       "CD4+ T cells                                                    []   \n",
       "\n",
       "                                                       prototype10  ...  \\\n",
       "CD10+ B cells                                                   []  ...   \n",
       "CD14+ Monocytes                                                 []  ...   \n",
       "CD16+ Monocytes                                                 []  ...   \n",
       "CD20+ B cells    [{'description': 'Virion - Human immunodeficie...  ...   \n",
       "CD4+ T cells     [{'description': 'Virion - Human immunodeficie...  ...   \n",
       "\n",
       "                                                       prototype23  \\\n",
       "CD10+ B cells                                                   []   \n",
       "CD14+ Monocytes  [{'description': 'Efferocytosis', 'effective_d...   \n",
       "CD16+ Monocytes                                                 []   \n",
       "CD20+ B cells                                                   []   \n",
       "CD4+ T cells     [{'description': '\"Any process involved in the...   \n",
       "\n",
       "                                                       prototype24  \\\n",
       "CD10+ B cells                                                   []   \n",
       "CD14+ Monocytes  [{'description': 'Efferocytosis', 'effective_d...   \n",
       "CD16+ Monocytes                                                 []   \n",
       "CD20+ B cells                                                   []   \n",
       "CD4+ T cells     [{'description': '\"Any process involved in the...   \n",
       "\n",
       "                                                       prototype25  \\\n",
       "CD10+ B cells                                                   []   \n",
       "CD14+ Monocytes                                                 []   \n",
       "CD16+ Monocytes  [{'description': '\"A ribonucleoprotein granule...   \n",
       "CD20+ B cells                                                   []   \n",
       "CD4+ T cells     [{'description': 'Viral myocarditis', 'effecti...   \n",
       "\n",
       "                                                       prototype26  \\\n",
       "CD10+ B cells    [{'description': '\"Binding to a chemokine rece...   \n",
       "CD14+ Monocytes                                                 []   \n",
       "CD16+ Monocytes                                                 []   \n",
       "CD20+ B cells    [{'description': '\"Binding to heparin, a membe...   \n",
       "CD4+ T cells                                                    []   \n",
       "\n",
       "                                                       prototype27  \\\n",
       "CD10+ B cells                                                   []   \n",
       "CD14+ Monocytes  [{'description': '\"Any process that activates ...   \n",
       "CD16+ Monocytes                                                 []   \n",
       "CD20+ B cells                                                   []   \n",
       "CD4+ T cells                                                    []   \n",
       "\n",
       "                                                       prototype28  \\\n",
       "CD10+ B cells                                                   []   \n",
       "CD14+ Monocytes                                                 []   \n",
       "CD16+ Monocytes  [{'description': '\"A series of progressive, ov...   \n",
       "CD20+ B cells                                                   []   \n",
       "CD4+ T cells                                                    []   \n",
       "\n",
       "                                                       prototype29  \\\n",
       "CD10+ B cells    [{'description': '\"The process in which the an...   \n",
       "CD14+ Monocytes                                                 []   \n",
       "CD16+ Monocytes                                                 []   \n",
       "CD20+ B cells                                                   []   \n",
       "CD4+ T cells     [{'description': 'Virion - Human immunodeficie...   \n",
       "\n",
       "                                                       prototype30  \\\n",
       "CD10+ B cells    [{'description': 'Viral protein interaction wi...   \n",
       "CD14+ Monocytes  [{'description': '\"Combining with the C-X-C mo...   \n",
       "CD16+ Monocytes  [{'description': '\"A secretory organelle found...   \n",
       "CD20+ B cells    [{'description': '\"Any immune system process t...   \n",
       "CD4+ T cells     [{'description': '\"Any immune system process t...   \n",
       "\n",
       "                                                       prototype31  \\\n",
       "CD10+ B cells    [{'description': '\"A defense response against ...   \n",
       "CD14+ Monocytes  [{'description': '\"Any process that activates ...   \n",
       "CD16+ Monocytes  [{'description': '\"An acute inflammatory respo...   \n",
       "CD20+ B cells    [{'description': '\"Any process that results in...   \n",
       "CD4+ T cells                                                    []   \n",
       "\n",
       "                                                       prototype32  \n",
       "CD10+ B cells                                                   []  \n",
       "CD14+ Monocytes                                                 []  \n",
       "CD16+ Monocytes  [{'description': '\"Any process that results in...  \n",
       "CD20+ B cells                                                   []  \n",
       "CD4+ T cells                                                    []  \n",
       "\n",
       "[5 rows x 32 columns]"
      ]
     },
     "execution_count": 176,
     "metadata": {},
     "output_type": "execute_result"
    }
   ],
   "source": [
    "import pandas as pd\n",
    "columns = [f'prototype{i}' for i in range(1, 33)]\n",
    "df = pd.DataFrame(results, columns = columns)\n",
    "df.index = index\n",
    "df.head()"
   ]
  },
  {
   "cell_type": "code",
   "execution_count": 178,
   "id": "d434ede4-cffa-472d-b4fd-39483d1843de",
   "metadata": {},
   "outputs": [],
   "source": [
    "df.to_excel(f'./results/cell-type-prototype.xlsx')"
   ]
  },
  {
   "cell_type": "code",
   "execution_count": 179,
   "id": "0ad37cc9-9540-4607-898b-798a38c083db",
   "metadata": {},
   "outputs": [],
   "source": [
    "result_genes = []\n",
    "result_cnts = []\n",
    "for i, cell_row in enumerate(top_idx):\n",
    "    cell_genes = []\n",
    "    cell_cnts = []\n",
    "    for j, prot in enumerate(cell_row):\n",
    "        cell_downstream = results[i][j]\n",
    "        cell_cnts.append(len(cell_downstream))\n",
    "        cell_genes.append(list(genes[prot.cpu()]))\n",
    "    result_genes.append(cell_genes)\n",
    "    result_cnts.append(cell_cnts)"
   ]
  },
  {
   "cell_type": "code",
   "execution_count": 180,
   "id": "42f4c24d-e8a8-45ae-9a26-b1bbbbe0aa5c",
   "metadata": {},
   "outputs": [],
   "source": [
    "with pd.ExcelWriter('./results/cell-type-prototype.xlsx') as writer:\n",
    "    df.to_excel(writer, sheet_name='biological process')\n",
    "    gene_df = pd.DataFrame(result_genes, columns = columns)\n",
    "    gene_df.index = index\n",
    "    gene_df.to_excel(writer, sheet_name='genes')\n",
    "    cnt_df = pd.DataFrame(result_cnts, columns = columns)\n",
    "    cnt_df.index = index\n",
    "    cnt_df.to_excel(writer, sheet_name='biological process counts')"
   ]
  },
  {
   "cell_type": "code",
   "execution_count": 183,
   "id": "9bd21642-2332-42ee-be87-85f3373b2d8a",
   "metadata": {},
   "outputs": [],
   "source": [
    "prototype_cells = model.decoder(model.prototype_vectors)"
   ]
  },
  {
   "cell_type": "code",
   "execution_count": 184,
   "id": "5bd9f864-bae3-4633-9977-54ad8d3e175c",
   "metadata": {},
   "outputs": [
    {
     "data": {
      "text/plain": [
       "torch.Size([32, 4000])"
      ]
     },
     "execution_count": 184,
     "metadata": {},
     "output_type": "execute_result"
    }
   ],
   "source": [
    "prototype_cells.shape"
   ]
  },
  {
   "cell_type": "code",
   "execution_count": 185,
   "id": "3a845e01-d00a-4383-8c9b-af39b7d25d2d",
   "metadata": {},
   "outputs": [
    {
     "data": {
      "text/plain": [
       "torch.Size([33506, 4000])"
      ]
     },
     "execution_count": 185,
     "metadata": {},
     "output_type": "execute_result"
    }
   ],
   "source": [
    "x.shape"
   ]
  },
  {
   "cell_type": "code",
   "execution_count": 186,
   "id": "a9efe6ce-99f7-48d8-b454-997b1a7c44e1",
   "metadata": {},
   "outputs": [],
   "source": [
    "prot_dist = torch.cdist(prototype_cells, x)\n",
    "prot_dist.shape()"
   ]
  },
  {
   "cell_type": "code",
   "execution_count": 190,
   "id": "d95e4508-f720-4bfe-a5d9-9bb32c76723e",
   "metadata": {},
   "outputs": [
    {
     "data": {
      "text/plain": [
       "torch.Size([32])"
      ]
     },
     "execution_count": 190,
     "metadata": {},
     "output_type": "execute_result"
    }
   ],
   "source": [
    "nearest_cell_index = prot_dist.min(dim=1).indices\n",
    "nearest_cell_index.shape"
   ]
  },
  {
   "cell_type": "code",
   "execution_count": 227,
   "id": "56fc747e-637a-4f73-aca4-b0c2b60155d8",
   "metadata": {},
   "outputs": [
    {
     "data": {
      "text/plain": [
       "{'batch': ['Oetjen_A'],\n",
       " 'cell_type': ['CD16+ Monocytes'],\n",
       " 'specie': ['Human'],\n",
       " 'study': ['Oetjen'],\n",
       " 'index': 0}"
      ]
     },
     "execution_count": 227,
     "metadata": {},
     "output_type": "execute_result"
    }
   ],
   "source": [
    "def get_row(i):\n",
    "    row = adata[i]\n",
    "    obs = row.obs\n",
    "    res = {'batch': obs.batch, 'cell_type':obs.cell_type, \n",
    "           'specie': obs.species, 'study': obs.study, 'index': i}\n",
    "    \n",
    "    for key in res:\n",
    "        try:\n",
    "            res[key] = list(res[key])\n",
    "        except:\n",
    "            continue   \n",
    "    return res\n",
    "get_row(0)"
   ]
  },
  {
   "cell_type": "code",
   "execution_count": 228,
   "id": "30b8591e-5a1e-4a9e-91ce-a055891f20f2",
   "metadata": {},
   "outputs": [],
   "source": [
    "df_list = []\n",
    "for i in nearest_cell_index:\n",
    "    df_list.append(get_row(int(i.cpu())))"
   ]
  },
  {
   "cell_type": "code",
   "execution_count": 229,
   "id": "cc0398ca-4eaa-4a33-8baf-08f89666b127",
   "metadata": {},
   "outputs": [],
   "source": [
    "protoype_df = pd.DataFrame(df_list)\n",
    "protoype_df.index = columns"
   ]
  },
  {
   "cell_type": "code",
   "execution_count": 230,
   "id": "295dfce9-ba44-4e91-83f5-f12d09246648",
   "metadata": {},
   "outputs": [
    {
     "data": {
      "text/html": [
       "<div>\n",
       "<style scoped>\n",
       "    .dataframe tbody tr th:only-of-type {\n",
       "        vertical-align: middle;\n",
       "    }\n",
       "\n",
       "    .dataframe tbody tr th {\n",
       "        vertical-align: top;\n",
       "    }\n",
       "\n",
       "    .dataframe thead th {\n",
       "        text-align: right;\n",
       "    }\n",
       "</style>\n",
       "<table border=\"1\" class=\"dataframe\">\n",
       "  <thead>\n",
       "    <tr style=\"text-align: right;\">\n",
       "      <th></th>\n",
       "      <th>batch</th>\n",
       "      <th>cell_type</th>\n",
       "      <th>specie</th>\n",
       "      <th>study</th>\n",
       "      <th>index</th>\n",
       "    </tr>\n",
       "  </thead>\n",
       "  <tbody>\n",
       "    <tr>\n",
       "      <th>prototype1</th>\n",
       "      <td>[Freytag]</td>\n",
       "      <td>[CD20+ B cells]</td>\n",
       "      <td>[Human]</td>\n",
       "      <td>[Freytag]</td>\n",
       "      <td>10672</td>\n",
       "    </tr>\n",
       "    <tr>\n",
       "      <th>prototype2</th>\n",
       "      <td>[Freytag]</td>\n",
       "      <td>[Plasmacytoid dendritic cells]</td>\n",
       "      <td>[Human]</td>\n",
       "      <td>[Freytag]</td>\n",
       "      <td>11194</td>\n",
       "    </tr>\n",
       "    <tr>\n",
       "      <th>prototype3</th>\n",
       "      <td>[Freytag]</td>\n",
       "      <td>[CD4+ T cells]</td>\n",
       "      <td>[Human]</td>\n",
       "      <td>[Freytag]</td>\n",
       "      <td>9800</td>\n",
       "    </tr>\n",
       "    <tr>\n",
       "      <th>prototype4</th>\n",
       "      <td>[Freytag]</td>\n",
       "      <td>[CD4+ T cells]</td>\n",
       "      <td>[Human]</td>\n",
       "      <td>[Freytag]</td>\n",
       "      <td>9800</td>\n",
       "    </tr>\n",
       "    <tr>\n",
       "      <th>prototype5</th>\n",
       "      <td>[Freytag]</td>\n",
       "      <td>[CD20+ B cells]</td>\n",
       "      <td>[Human]</td>\n",
       "      <td>[Freytag]</td>\n",
       "      <td>10672</td>\n",
       "    </tr>\n",
       "  </tbody>\n",
       "</table>\n",
       "</div>"
      ],
      "text/plain": [
       "                batch                       cell_type   specie      study  \\\n",
       "prototype1  [Freytag]                 [CD20+ B cells]  [Human]  [Freytag]   \n",
       "prototype2  [Freytag]  [Plasmacytoid dendritic cells]  [Human]  [Freytag]   \n",
       "prototype3  [Freytag]                  [CD4+ T cells]  [Human]  [Freytag]   \n",
       "prototype4  [Freytag]                  [CD4+ T cells]  [Human]  [Freytag]   \n",
       "prototype5  [Freytag]                 [CD20+ B cells]  [Human]  [Freytag]   \n",
       "\n",
       "            index  \n",
       "prototype1  10672  \n",
       "prototype2  11194  \n",
       "prototype3   9800  \n",
       "prototype4   9800  \n",
       "prototype5  10672  "
      ]
     },
     "execution_count": 230,
     "metadata": {},
     "output_type": "execute_result"
    }
   ],
   "source": [
    "protoype_df.head()"
   ]
  },
  {
   "cell_type": "code",
   "execution_count": 231,
   "id": "772fd191-195b-4a56-86da-bb5e4a64a1ca",
   "metadata": {},
   "outputs": [],
   "source": [
    "protoype_df.to_excel('./results/prototype-cells.xlsx')\n"
   ]
  },
  {
   "cell_type": "code",
   "execution_count": null,
   "id": "aaf7bbc2-7989-4e76-8e67-09859ffb89b7",
   "metadata": {},
   "outputs": [],
   "source": []
  }
 ],
 "metadata": {
  "kernelspec": {
   "display_name": "Python 3 (ipykernel)",
   "language": "python",
   "name": "python3"
  },
  "language_info": {
   "codemirror_mode": {
    "name": "ipython",
    "version": 3
   },
   "file_extension": ".py",
   "mimetype": "text/x-python",
   "name": "python",
   "nbconvert_exporter": "python",
   "pygments_lexer": "ipython3",
   "version": "3.12.2"
  }
 },
 "nbformat": 4,
 "nbformat_minor": 5
}
