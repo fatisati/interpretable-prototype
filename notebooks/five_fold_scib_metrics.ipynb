{
 "cells": [
  {
   "cell_type": "code",
   "execution_count": 30,
   "id": "9f449e18-2e7c-42b4-83fe-efdd13f99573",
   "metadata": {},
   "outputs": [],
   "source": [
    "import pandas as pd\n",
    "\n",
    "def calculate_dataframe_mean(df):\n",
    "    df_numeric = df.apply(pd.to_numeric, errors='coerce')\n",
    "    df_clean = df_numeric.dropna().drop(['fold'], axis=1)\n",
    "    df_mean = df_clean.mean().to_frame().T\n",
    "    return df_mean"
   ]
  },
  {
   "cell_type": "code",
   "execution_count": 27,
   "id": "d8cd443f-bc00-4521-97bd-8f918acbe607",
   "metadata": {
    "scrolled": true
   },
   "outputs": [
    {
     "name": "stderr",
     "output_type": "stream",
     "text": [
      "/ictstr01/home/icb/fatemehs.hashemig/codes/interpretable-ssl/interpretable_ssl/datasets/dataset.py:43: ImplicitModificationWarning: Trying to modify attribute `.obs` of view, initializing view as actual.\n",
      "  self.adata.obs['encoded_cell_type'] = self.le.transform(self.adata.obs.cell_type)\n",
      "/ictstr01/home/icb/fatemehs.hashemig/codes/interpretable-ssl/interpretable_ssl/datasets/dataset.py:43: ImplicitModificationWarning: Trying to modify attribute `.obs` of view, initializing view as actual.\n",
      "  self.adata.obs['encoded_cell_type'] = self.le.transform(self.adata.obs.cell_type)\n",
      "/ictstr01/home/icb/fatemehs.hashemig/codes/interpretable-ssl/interpretable_ssl/datasets/dataset.py:43: ImplicitModificationWarning: Trying to modify attribute `.obs` of view, initializing view as actual.\n",
      "  self.adata.obs['encoded_cell_type'] = self.le.transform(self.adata.obs.cell_type)\n",
      "/ictstr01/home/icb/fatemehs.hashemig/codes/interpretable-ssl/interpretable_ssl/datasets/dataset.py:43: ImplicitModificationWarning: Trying to modify attribute `.obs` of view, initializing view as actual.\n",
      "  self.adata.obs['encoded_cell_type'] = self.le.transform(self.adata.obs.cell_type)\n",
      "/ictstr01/home/icb/fatemehs.hashemig/codes/interpretable-ssl/interpretable_ssl/datasets/dataset.py:43: ImplicitModificationWarning: Trying to modify attribute `.obs` of view, initializing view as actual.\n",
      "  self.adata.obs['encoded_cell_type'] = self.le.transform(self.adata.obs.cell_type)\n",
      "/ictstr01/home/icb/fatemehs.hashemig/codes/interpretable-ssl/interpretable_ssl/datasets/dataset.py:43: ImplicitModificationWarning: Trying to modify attribute `.obs` of view, initializing view as actual.\n",
      "  self.adata.obs['encoded_cell_type'] = self.le.transform(self.adata.obs.cell_type)\n",
      "/ictstr01/home/icb/fatemehs.hashemig/codes/interpretable-ssl/interpretable_ssl/datasets/dataset.py:43: ImplicitModificationWarning: Trying to modify attribute `.obs` of view, initializing view as actual.\n",
      "  self.adata.obs['encoded_cell_type'] = self.le.transform(self.adata.obs.cell_type)\n",
      "/ictstr01/home/icb/fatemehs.hashemig/codes/interpretable-ssl/interpretable_ssl/datasets/dataset.py:43: ImplicitModificationWarning: Trying to modify attribute `.obs` of view, initializing view as actual.\n",
      "  self.adata.obs['encoded_cell_type'] = self.le.transform(self.adata.obs.cell_type)\n"
     ]
    }
   ],
   "source": [
    "from interpretable_ssl.trainers.scvi_trainer import *\n",
    "from interpretable_ssl.trainers.scpoli_trainer import *\n",
    "from interpretable_ssl.trainers.scpoli_original import *\n",
    "\n",
    "scvi = ScviTrainer(dataset = ds)\n",
    "\n",
    "barlow = ScpoliProtBarlowTrainer(ds)\n",
    "barlow.experiment_name = 'barlow'\n",
    "barlow.num_prototypes = 32\n",
    "\n",
    "barlow_weighted = ScpoliProtBarlowTrainer(ds)\n",
    "barlow_weighted.experiment_name = 'barlow-wsampling'\n",
    "barlow_weighted.num_prototypes = 32\n",
    "\n",
    "original = OriginalTrainer(ds)\n",
    "\n",
    "trainers = [scvi, barlow, original, barlow_weighted]\n",
    "names = ['scvi', 'barlow prototype',  'barlow prototype weighted', 'original scpoli']"
   ]
  },
  {
   "cell_type": "code",
   "execution_count": 20,
   "id": "ba9d4e22-63c5-44f5-9069-6bfbef90d08b",
   "metadata": {
    "scrolled": true
   },
   "outputs": [
    {
     "name": "stderr",
     "output_type": "stream",
     "text": [
      "/ictstr01/home/icb/fatemehs.hashemig/codes/interpretable-ssl/interpretable_ssl/datasets/dataset.py:43: ImplicitModificationWarning: Trying to modify attribute `.obs` of view, initializing view as actual.\n",
      "  self.adata.obs['encoded_cell_type'] = self.le.transform(self.adata.obs.cell_type)\n",
      "/ictstr01/home/icb/fatemehs.hashemig/codes/interpretable-ssl/interpretable_ssl/datasets/dataset.py:43: ImplicitModificationWarning: Trying to modify attribute `.obs` of view, initializing view as actual.\n",
      "  self.adata.obs['encoded_cell_type'] = self.le.transform(self.adata.obs.cell_type)\n"
     ]
    },
    {
     "name": "stdout",
     "output_type": "stream",
     "text": [
      "Evaluating fold 1\n",
      "Embedding dictionary:\n",
      " \tNum conditions: [4]\n",
      " \tEmbedding dim: [10]\n",
      "Encoder Architecture:\n",
      "\tInput Layer in, out and cond: 4000 64 10\n",
      "\tMean/Var Layer in/out: 64 8\n",
      "Decoder Architecture:\n",
      "\tFirst Layer in, out and cond:  8 64 10\n",
      "\tOutput Layer in/out:  64 4000 \n",
      "\n"
     ]
    },
    {
     "name": "stderr",
     "output_type": "stream",
     "text": [
      "INFO:scarches.trainers.scpoli.trainer:GPU available: True, GPU used: True\n"
     ]
    },
    {
     "name": "stdout",
     "output_type": "stream",
     "text": [
      "Embedding dictionary:\n",
      " \tNum conditions: [5]\n",
      " \tEmbedding dim: [10]\n",
      "Encoder Architecture:\n",
      "\tInput Layer in, out and cond: 4000 64 10\n",
      "\tMean/Var Layer in/out: 64 8\n",
      "Decoder Architecture:\n",
      "\tFirst Layer in, out and cond:  8 64 10\n",
      "\tOutput Layer in/out:  64 4000 \n",
      "\n",
      "Initializing dataloaders\n",
      "Starting training\n",
      " |████████████████----| 80.0%  - val_loss:  441.69 - val_cvae_loss:  441.69\n",
      "Initializing unlabeled prototypes with Leiden with an unknown number of  clusters.\n",
      "Clustering succesful. Found 25 clusters.\n",
      " |████████████████████| 100.0%  - val_loss:  445.14 - val_cvae_loss:  445.14 - val_prototype_loss:    0.00 - val_unlabeled_loss:    0.34\n"
     ]
    },
    {
     "name": "stderr",
     "output_type": "stream",
     "text": [
      "Computing neighbors: 100%|██████████| 1/1 [00:12<00:00, 12.04s/it]\n",
      "Embeddings:   0%|\u001b[32m          \u001b[0m| 0/1 [00:00<?, ?it/s]\n",
      "Metrics:   0%|\u001b[34m          \u001b[0m| 0/10 [00:00<?, ?it/s]\u001b[A\n",
      "Metrics:   0%|\u001b[34m          \u001b[0m| 0/10 [00:00<?, ?it/s, Bio conservation: isolated_labels]\u001b[A\n",
      "Metrics:  10%|\u001b[34m█         \u001b[0m| 1/10 [00:01<00:12,  1.40s/it, Bio conservation: isolated_labels]\u001b[A\n",
      "Metrics:  10%|\u001b[34m█         \u001b[0m| 1/10 [00:01<00:12,  1.40s/it, Bio conservation: nmi_ari_cluster_labels_kmeans]\u001b[A\n",
      "Metrics:  20%|\u001b[34m██        \u001b[0m| 2/10 [00:03<00:15,  1.88s/it, Bio conservation: nmi_ari_cluster_labels_kmeans]\u001b[A\n",
      "Metrics:  20%|\u001b[34m██        \u001b[0m| 2/10 [00:03<00:15,  1.88s/it, Bio conservation: silhouette_label]             \u001b[A\n",
      "Metrics:  30%|\u001b[34m███       \u001b[0m| 3/10 [00:04<00:11,  1.63s/it, Bio conservation: silhouette_label]\u001b[A\n",
      "Metrics:  30%|\u001b[34m███       \u001b[0m| 3/10 [00:04<00:11,  1.63s/it, Bio conservation: clisi_knn]       \u001b[A\n",
      "Metrics:  40%|\u001b[34m████      \u001b[0m| 4/10 [00:05<00:06,  1.06s/it, Bio conservation: clisi_knn]\u001b[A\n",
      "Metrics:  40%|\u001b[34m████      \u001b[0m| 4/10 [00:05<00:06,  1.06s/it, Batch correction: silhouette_batch]\u001b[A\n",
      "Metrics:  50%|\u001b[34m█████     \u001b[0m| 5/10 [00:05<00:03,  1.26it/s, Batch correction: silhouette_batch]\u001b[A\n",
      "Metrics:  50%|\u001b[34m█████     \u001b[0m| 5/10 [00:05<00:03,  1.26it/s, Batch correction: ilisi_knn]       \u001b[A\n",
      "Metrics:  60%|\u001b[34m██████    \u001b[0m| 6/10 [00:05<00:02,  1.76it/s, Batch correction: ilisi_knn]\u001b[A\n",
      "Metrics:  60%|\u001b[34m██████    \u001b[0m| 6/10 [00:05<00:02,  1.76it/s, Batch correction: kbet_per_label]\u001b[A\n",
      "Metrics:  70%|\u001b[34m███████   \u001b[0m| 7/10 [00:19<00:14,  4.85s/it, Batch correction: kbet_per_label]\u001b[A\n",
      "Metrics:  70%|\u001b[34m███████   \u001b[0m| 7/10 [00:19<00:14,  4.85s/it, Batch correction: graph_connectivity]\u001b[A\n",
      "Metrics:  80%|\u001b[34m████████  \u001b[0m| 8/10 [00:19<00:09,  4.85s/it, Batch correction: pcr_comparison]    \u001b[A\n",
      "Embeddings: 100%|\u001b[32m██████████\u001b[0m| 1/1 [00:19<00:00, 19.39s/it]atch correction: pcr_comparison]\u001b[A\n",
      "\n",
      "                                                                                         \u001b[A/ictstr01/home/icb/fatemehs.hashemig/codes/interpretable-ssl/interpretable_ssl/trainers/trainer.py:250: FutureWarning: The frame.append method is deprecated and will be removed from pandas in a future version. Use pandas.concat instead.\n",
      "  overall_df = overall_df.append(fold_df, ignore_index=True)\n",
      "/ictstr01/home/icb/fatemehs.hashemig/codes/interpretable-ssl/interpretable_ssl/datasets/dataset.py:43: ImplicitModificationWarning: Trying to modify attribute `.obs` of view, initializing view as actual.\n",
      "  self.adata.obs['encoded_cell_type'] = self.le.transform(self.adata.obs.cell_type)\n",
      "/ictstr01/home/icb/fatemehs.hashemig/codes/interpretable-ssl/interpretable_ssl/datasets/dataset.py:43: ImplicitModificationWarning: Trying to modify attribute `.obs` of view, initializing view as actual.\n",
      "  self.adata.obs['encoded_cell_type'] = self.le.transform(self.adata.obs.cell_type)\n"
     ]
    },
    {
     "name": "stdout",
     "output_type": "stream",
     "text": [
      "Evaluating fold 2\n",
      "Embedding dictionary:\n",
      " \tNum conditions: [4]\n",
      " \tEmbedding dim: [10]\n",
      "Encoder Architecture:\n",
      "\tInput Layer in, out and cond: 4000 64 10\n",
      "\tMean/Var Layer in/out: 64 8\n",
      "Decoder Architecture:\n",
      "\tFirst Layer in, out and cond:  8 64 10\n",
      "\tOutput Layer in/out:  64 4000 \n",
      "\n"
     ]
    },
    {
     "name": "stderr",
     "output_type": "stream",
     "text": [
      "INFO:scarches.trainers.scpoli.trainer:GPU available: True, GPU used: True\n"
     ]
    },
    {
     "name": "stdout",
     "output_type": "stream",
     "text": [
      "Embedding dictionary:\n",
      " \tNum conditions: [5]\n",
      " \tEmbedding dim: [10]\n",
      "Encoder Architecture:\n",
      "\tInput Layer in, out and cond: 4000 64 10\n",
      "\tMean/Var Layer in/out: 64 8\n",
      "Decoder Architecture:\n",
      "\tFirst Layer in, out and cond:  8 64 10\n",
      "\tOutput Layer in/out:  64 4000 \n",
      "\n",
      "Initializing dataloaders\n",
      "Starting training\n",
      " |████████████████----| 80.0%  - val_loss: 4560.38 - val_cvae_loss: 4560.38\n",
      "Initializing unlabeled prototypes with Leiden with an unknown number of  clusters.\n",
      "Clustering succesful. Found 16 clusters.\n",
      " |████████████████████| 100.0%  - val_loss: 4509.05 - val_cvae_loss: 4509.05 - val_prototype_loss:    0.00 - val_unlabeled_loss:    0.39\n"
     ]
    },
    {
     "name": "stderr",
     "output_type": "stream",
     "text": [
      "Computing neighbors: 100%|██████████| 1/1 [00:12<00:00, 12.22s/it]\n",
      "Embeddings:   0%|\u001b[32m          \u001b[0m| 0/1 [00:00<?, ?it/s]\n",
      "Metrics:   0%|\u001b[34m          \u001b[0m| 0/10 [00:00<?, ?it/s]\u001b[A\n",
      "Metrics:   0%|\u001b[34m          \u001b[0m| 0/10 [00:00<?, ?it/s, Bio conservation: isolated_labels]\u001b[A\n",
      "Metrics:  10%|\u001b[34m█         \u001b[0m| 1/10 [00:01<00:12,  1.43s/it, Bio conservation: isolated_labels]\u001b[A\n",
      "Metrics:  10%|\u001b[34m█         \u001b[0m| 1/10 [00:01<00:12,  1.43s/it, Bio conservation: nmi_ari_cluster_labels_kmeans]\u001b[A\n",
      "Metrics:  20%|\u001b[34m██        \u001b[0m| 2/10 [00:03<00:13,  1.66s/it, Bio conservation: nmi_ari_cluster_labels_kmeans]\u001b[A\n",
      "Metrics:  20%|\u001b[34m██        \u001b[0m| 2/10 [00:03<00:13,  1.66s/it, Bio conservation: silhouette_label]             \u001b[A\n",
      "Metrics:  30%|\u001b[34m███       \u001b[0m| 3/10 [00:04<00:10,  1.57s/it, Bio conservation: silhouette_label]\u001b[A\n",
      "Metrics:  30%|\u001b[34m███       \u001b[0m| 3/10 [00:04<00:10,  1.57s/it, Bio conservation: clisi_knn]       \u001b[A\n",
      "Metrics:  40%|\u001b[34m████      \u001b[0m| 4/10 [00:04<00:06,  1.00s/it, Bio conservation: clisi_knn]\u001b[A\n",
      "Metrics:  40%|\u001b[34m████      \u001b[0m| 4/10 [00:04<00:06,  1.00s/it, Batch correction: silhouette_batch]\u001b[A\n",
      "Metrics:  50%|\u001b[34m█████     \u001b[0m| 5/10 [00:05<00:03,  1.31it/s, Batch correction: silhouette_batch]\u001b[A\n",
      "Metrics:  50%|\u001b[34m█████     \u001b[0m| 5/10 [00:05<00:03,  1.31it/s, Batch correction: ilisi_knn]       \u001b[A\n",
      "Metrics:  60%|\u001b[34m██████    \u001b[0m| 6/10 [00:05<00:02,  1.77it/s, Batch correction: ilisi_knn]\u001b[A\n",
      "Metrics:  60%|\u001b[34m██████    \u001b[0m| 6/10 [00:05<00:02,  1.77it/s, Batch correction: kbet_per_label]\u001b[A\n",
      "Metrics:  70%|\u001b[34m███████   \u001b[0m| 7/10 [00:19<00:14,  4.89s/it, Batch correction: kbet_per_label]\u001b[A\n",
      "Metrics:  70%|\u001b[34m███████   \u001b[0m| 7/10 [00:19<00:14,  4.89s/it, Batch correction: graph_connectivity]\u001b[A\n",
      "Metrics:  80%|\u001b[34m████████  \u001b[0m| 8/10 [00:19<00:09,  4.89s/it, Batch correction: pcr_comparison]    \u001b[A\n",
      "Embeddings: 100%|\u001b[32m██████████\u001b[0m| 1/1 [00:19<00:00, 19.42s/it]atch correction: pcr_comparison]\u001b[A\n",
      "\n",
      "                                                                                         \u001b[A/ictstr01/home/icb/fatemehs.hashemig/codes/interpretable-ssl/interpretable_ssl/trainers/trainer.py:250: FutureWarning: The frame.append method is deprecated and will be removed from pandas in a future version. Use pandas.concat instead.\n",
      "  overall_df = overall_df.append(fold_df, ignore_index=True)\n",
      "/ictstr01/home/icb/fatemehs.hashemig/codes/interpretable-ssl/interpretable_ssl/datasets/dataset.py:43: ImplicitModificationWarning: Trying to modify attribute `.obs` of view, initializing view as actual.\n",
      "  self.adata.obs['encoded_cell_type'] = self.le.transform(self.adata.obs.cell_type)\n",
      "/ictstr01/home/icb/fatemehs.hashemig/codes/interpretable-ssl/interpretable_ssl/datasets/dataset.py:43: ImplicitModificationWarning: Trying to modify attribute `.obs` of view, initializing view as actual.\n",
      "  self.adata.obs['encoded_cell_type'] = self.le.transform(self.adata.obs.cell_type)\n"
     ]
    },
    {
     "name": "stdout",
     "output_type": "stream",
     "text": [
      "Evaluating fold 3\n",
      "Embedding dictionary:\n",
      " \tNum conditions: [4]\n",
      " \tEmbedding dim: [10]\n",
      "Encoder Architecture:\n",
      "\tInput Layer in, out and cond: 4000 64 10\n",
      "\tMean/Var Layer in/out: 64 8\n",
      "Decoder Architecture:\n",
      "\tFirst Layer in, out and cond:  8 64 10\n",
      "\tOutput Layer in/out:  64 4000 \n",
      "\n"
     ]
    },
    {
     "name": "stderr",
     "output_type": "stream",
     "text": [
      "INFO:scarches.trainers.scpoli.trainer:GPU available: True, GPU used: True\n"
     ]
    },
    {
     "name": "stdout",
     "output_type": "stream",
     "text": [
      "Embedding dictionary:\n",
      " \tNum conditions: [5]\n",
      " \tEmbedding dim: [10]\n",
      "Encoder Architecture:\n",
      "\tInput Layer in, out and cond: 4000 64 10\n",
      "\tMean/Var Layer in/out: 64 8\n",
      "Decoder Architecture:\n",
      "\tFirst Layer in, out and cond:  8 64 10\n",
      "\tOutput Layer in/out:  64 4000 \n",
      "\n",
      "Initializing dataloaders\n",
      "Starting training\n",
      " |████████████████----| 80.0%  - val_loss:  882.51 - val_cvae_loss:  882.51\n",
      "Initializing unlabeled prototypes with Leiden with an unknown number of  clusters.\n",
      "Clustering succesful. Found 23 clusters.\n",
      " |████████████████████| 100.0%  - val_loss:  883.41 - val_cvae_loss:  883.41 - val_prototype_loss:    0.00 - val_unlabeled_loss:    0.40\n"
     ]
    },
    {
     "name": "stderr",
     "output_type": "stream",
     "text": [
      "Computing neighbors: 100%|██████████| 1/1 [00:12<00:00, 12.30s/it]\n",
      "Embeddings:   0%|\u001b[32m          \u001b[0m| 0/1 [00:00<?, ?it/s]\n",
      "Metrics:   0%|\u001b[34m          \u001b[0m| 0/10 [00:00<?, ?it/s]\u001b[A\n",
      "Metrics:   0%|\u001b[34m          \u001b[0m| 0/10 [00:00<?, ?it/s, Bio conservation: isolated_labels]\u001b[A\n",
      "Metrics:  10%|\u001b[34m█         \u001b[0m| 1/10 [00:01<00:12,  1.36s/it, Bio conservation: isolated_labels]\u001b[A\n",
      "Metrics:  10%|\u001b[34m█         \u001b[0m| 1/10 [00:01<00:12,  1.36s/it, Bio conservation: nmi_ari_cluster_labels_kmeans]\u001b[A\n",
      "Metrics:  20%|\u001b[34m██        \u001b[0m| 2/10 [00:03<00:12,  1.57s/it, Bio conservation: nmi_ari_cluster_labels_kmeans]\u001b[A\n",
      "Metrics:  20%|\u001b[34m██        \u001b[0m| 2/10 [00:03<00:12,  1.57s/it, Bio conservation: silhouette_label]             \u001b[A\n",
      "Metrics:  30%|\u001b[34m███       \u001b[0m| 3/10 [00:04<00:10,  1.47s/it, Bio conservation: silhouette_label]\u001b[A\n",
      "Metrics:  30%|\u001b[34m███       \u001b[0m| 3/10 [00:04<00:10,  1.47s/it, Bio conservation: clisi_knn]       \u001b[A\n",
      "Metrics:  40%|\u001b[34m████      \u001b[0m| 4/10 [00:04<00:05,  1.06it/s, Bio conservation: clisi_knn]\u001b[A\n",
      "Metrics:  40%|\u001b[34m████      \u001b[0m| 4/10 [00:04<00:05,  1.06it/s, Batch correction: silhouette_batch]\u001b[A\n",
      "Metrics:  50%|\u001b[34m█████     \u001b[0m| 5/10 [00:04<00:03,  1.40it/s, Batch correction: silhouette_batch]\u001b[A\n",
      "Metrics:  50%|\u001b[34m█████     \u001b[0m| 5/10 [00:04<00:03,  1.40it/s, Batch correction: ilisi_knn]       \u001b[A\n",
      "Metrics:  60%|\u001b[34m██████    \u001b[0m| 6/10 [00:05<00:02,  1.87it/s, Batch correction: ilisi_knn]\u001b[A\n",
      "Metrics:  60%|\u001b[34m██████    \u001b[0m| 6/10 [00:05<00:02,  1.87it/s, Batch correction: kbet_per_label]\u001b[A\n",
      "Metrics:  70%|\u001b[34m███████   \u001b[0m| 7/10 [00:18<00:14,  4.89s/it, Batch correction: kbet_per_label]\u001b[A\n",
      "Metrics:  70%|\u001b[34m███████   \u001b[0m| 7/10 [00:18<00:14,  4.89s/it, Batch correction: graph_connectivity]\u001b[A\n",
      "Metrics:  80%|\u001b[34m████████  \u001b[0m| 8/10 [00:18<00:09,  4.89s/it, Batch correction: pcr_comparison]    \u001b[A\n",
      "Embeddings: 100%|\u001b[32m██████████\u001b[0m| 1/1 [00:19<00:00, 19.04s/it]atch correction: pcr_comparison]\u001b[A\n",
      "\n",
      "                                                                                         \u001b[A/ictstr01/home/icb/fatemehs.hashemig/codes/interpretable-ssl/interpretable_ssl/trainers/trainer.py:250: FutureWarning: The frame.append method is deprecated and will be removed from pandas in a future version. Use pandas.concat instead.\n",
      "  overall_df = overall_df.append(fold_df, ignore_index=True)\n",
      "/ictstr01/home/icb/fatemehs.hashemig/codes/interpretable-ssl/interpretable_ssl/datasets/dataset.py:43: ImplicitModificationWarning: Trying to modify attribute `.obs` of view, initializing view as actual.\n",
      "  self.adata.obs['encoded_cell_type'] = self.le.transform(self.adata.obs.cell_type)\n",
      "/ictstr01/home/icb/fatemehs.hashemig/codes/interpretable-ssl/interpretable_ssl/datasets/dataset.py:43: ImplicitModificationWarning: Trying to modify attribute `.obs` of view, initializing view as actual.\n",
      "  self.adata.obs['encoded_cell_type'] = self.le.transform(self.adata.obs.cell_type)\n"
     ]
    },
    {
     "name": "stdout",
     "output_type": "stream",
     "text": [
      "Evaluating fold 4\n",
      "Embedding dictionary:\n",
      " \tNum conditions: [4]\n",
      " \tEmbedding dim: [10]\n",
      "Encoder Architecture:\n",
      "\tInput Layer in, out and cond: 4000 64 10\n",
      "\tMean/Var Layer in/out: 64 8\n",
      "Decoder Architecture:\n",
      "\tFirst Layer in, out and cond:  8 64 10\n",
      "\tOutput Layer in/out:  64 4000 \n",
      "\n"
     ]
    },
    {
     "name": "stderr",
     "output_type": "stream",
     "text": [
      "INFO:scarches.trainers.scpoli.trainer:GPU available: True, GPU used: True\n"
     ]
    },
    {
     "name": "stdout",
     "output_type": "stream",
     "text": [
      "Embedding dictionary:\n",
      " \tNum conditions: [5]\n",
      " \tEmbedding dim: [10]\n",
      "Encoder Architecture:\n",
      "\tInput Layer in, out and cond: 4000 64 10\n",
      "\tMean/Var Layer in/out: 64 8\n",
      "Decoder Architecture:\n",
      "\tFirst Layer in, out and cond:  8 64 10\n",
      "\tOutput Layer in/out:  64 4000 \n",
      "\n",
      "Warning: Labels in adata.obs[cell_type] is not a subset of label-encoder!\n",
      "The missing labels are: {'Erythrocytes', 'CD10+ B cells', 'Erythroid progenitors', 'Monocyte progenitors'}\n",
      "Therefore integer value of those labels is set to -1\n",
      "Warning: Labels in adata.obs[cell_type] is not a subset of label-encoder!\n",
      "The missing labels are: {'Erythrocytes', 'CD10+ B cells', 'Erythroid progenitors', 'Monocyte progenitors'}\n",
      "Therefore integer value of those labels is set to -1\n",
      "Warning: Labels in adata.obs[cell_type] is not a subset of label-encoder!\n",
      "The missing labels are: {'Erythrocytes', 'CD10+ B cells', 'Erythroid progenitors', 'Monocyte progenitors'}\n",
      "Therefore integer value of those labels is set to -1\n",
      "Warning: Labels in adata.obs[cell_type] is not a subset of label-encoder!\n",
      "The missing labels are: {'Erythrocytes', 'CD10+ B cells', 'Erythroid progenitors', 'Monocyte progenitors'}\n",
      "Therefore integer value of those labels is set to -1\n",
      "Initializing dataloaders\n",
      "Starting training\n",
      " |████████████████----| 80.0%  - val_loss:  693.43 - val_cvae_loss:  693.43\n",
      "Initializing unlabeled prototypes with Leiden with an unknown number of  clusters.\n",
      "Clustering succesful. Found 25 clusters.\n",
      " |████████████████████| 100.0%  - val_loss:  691.58 - val_cvae_loss:  691.58 - val_prototype_loss:    0.00 - val_unlabeled_loss:    0.34\n"
     ]
    },
    {
     "name": "stderr",
     "output_type": "stream",
     "text": [
      "Computing neighbors: 100%|██████████| 1/1 [00:12<00:00, 12.23s/it]\n",
      "Embeddings:   0%|\u001b[32m          \u001b[0m| 0/1 [00:00<?, ?it/s]\n",
      "Metrics:   0%|\u001b[34m          \u001b[0m| 0/10 [00:00<?, ?it/s]\u001b[A\n",
      "Metrics:   0%|\u001b[34m          \u001b[0m| 0/10 [00:00<?, ?it/s, Bio conservation: isolated_labels]\u001b[A\n",
      "Metrics:  10%|\u001b[34m█         \u001b[0m| 1/10 [00:01<00:12,  1.40s/it, Bio conservation: isolated_labels]\u001b[A\n",
      "Metrics:  10%|\u001b[34m█         \u001b[0m| 1/10 [00:01<00:12,  1.40s/it, Bio conservation: nmi_ari_cluster_labels_kmeans]\u001b[A\n",
      "Metrics:  20%|\u001b[34m██        \u001b[0m| 2/10 [00:03<00:12,  1.57s/it, Bio conservation: nmi_ari_cluster_labels_kmeans]\u001b[A\n",
      "Metrics:  20%|\u001b[34m██        \u001b[0m| 2/10 [00:03<00:12,  1.57s/it, Bio conservation: silhouette_label]             \u001b[A\n",
      "Metrics:  30%|\u001b[34m███       \u001b[0m| 3/10 [00:04<00:10,  1.50s/it, Bio conservation: silhouette_label]\u001b[A\n",
      "Metrics:  30%|\u001b[34m███       \u001b[0m| 3/10 [00:04<00:10,  1.50s/it, Bio conservation: clisi_knn]       \u001b[A\n",
      "Metrics:  40%|\u001b[34m████      \u001b[0m| 4/10 [00:04<00:05,  1.02it/s, Bio conservation: clisi_knn]\u001b[A\n",
      "Metrics:  40%|\u001b[34m████      \u001b[0m| 4/10 [00:04<00:05,  1.02it/s, Batch correction: silhouette_batch]\u001b[A\n",
      "Metrics:  50%|\u001b[34m█████     \u001b[0m| 5/10 [00:04<00:03,  1.36it/s, Batch correction: silhouette_batch]\u001b[A\n",
      "Metrics:  50%|\u001b[34m█████     \u001b[0m| 5/10 [00:04<00:03,  1.36it/s, Batch correction: ilisi_knn]       \u001b[A\n",
      "Metrics:  60%|\u001b[34m██████    \u001b[0m| 6/10 [00:05<00:02,  1.84it/s, Batch correction: ilisi_knn]\u001b[A\n",
      "Metrics:  60%|\u001b[34m██████    \u001b[0m| 6/10 [00:05<00:02,  1.84it/s, Batch correction: kbet_per_label]\u001b[A\n",
      "Metrics:  70%|\u001b[34m███████   \u001b[0m| 7/10 [00:19<00:14,  4.90s/it, Batch correction: kbet_per_label]\u001b[A\n",
      "Metrics:  70%|\u001b[34m███████   \u001b[0m| 7/10 [00:19<00:14,  4.90s/it, Batch correction: graph_connectivity]\u001b[A\n",
      "Metrics:  80%|\u001b[34m████████  \u001b[0m| 8/10 [00:19<00:09,  4.90s/it, Batch correction: pcr_comparison]    \u001b[A\n",
      "Embeddings: 100%|\u001b[32m██████████\u001b[0m| 1/1 [00:19<00:00, 19.14s/it]atch correction: pcr_comparison]\u001b[A\n",
      "\n",
      "                                                                                         \u001b[A/ictstr01/home/icb/fatemehs.hashemig/codes/interpretable-ssl/interpretable_ssl/trainers/trainer.py:250: FutureWarning: The frame.append method is deprecated and will be removed from pandas in a future version. Use pandas.concat instead.\n",
      "  overall_df = overall_df.append(fold_df, ignore_index=True)\n",
      "/ictstr01/home/icb/fatemehs.hashemig/codes/interpretable-ssl/interpretable_ssl/datasets/dataset.py:43: ImplicitModificationWarning: Trying to modify attribute `.obs` of view, initializing view as actual.\n",
      "  self.adata.obs['encoded_cell_type'] = self.le.transform(self.adata.obs.cell_type)\n",
      "/ictstr01/home/icb/fatemehs.hashemig/codes/interpretable-ssl/interpretable_ssl/datasets/dataset.py:43: ImplicitModificationWarning: Trying to modify attribute `.obs` of view, initializing view as actual.\n",
      "  self.adata.obs['encoded_cell_type'] = self.le.transform(self.adata.obs.cell_type)\n"
     ]
    },
    {
     "name": "stdout",
     "output_type": "stream",
     "text": [
      "Evaluating fold 5\n",
      "Embedding dictionary:\n",
      " \tNum conditions: [4]\n",
      " \tEmbedding dim: [10]\n",
      "Encoder Architecture:\n",
      "\tInput Layer in, out and cond: 4000 64 10\n",
      "\tMean/Var Layer in/out: 64 8\n",
      "Decoder Architecture:\n",
      "\tFirst Layer in, out and cond:  8 64 10\n",
      "\tOutput Layer in/out:  64 4000 \n",
      "\n"
     ]
    },
    {
     "name": "stderr",
     "output_type": "stream",
     "text": [
      "INFO:scarches.trainers.scpoli.trainer:GPU available: True, GPU used: True\n"
     ]
    },
    {
     "name": "stdout",
     "output_type": "stream",
     "text": [
      "Embedding dictionary:\n",
      " \tNum conditions: [5]\n",
      " \tEmbedding dim: [10]\n",
      "Encoder Architecture:\n",
      "\tInput Layer in, out and cond: 4000 64 10\n",
      "\tMean/Var Layer in/out: 64 8\n",
      "Decoder Architecture:\n",
      "\tFirst Layer in, out and cond:  8 64 10\n",
      "\tOutput Layer in/out:  64 4000 \n",
      "\n",
      "Initializing dataloaders\n",
      "Starting training\n",
      " |████████████████----| 80.0%  - val_loss:  440.05 - val_cvae_loss:  440.05\n",
      "Initializing unlabeled prototypes with Leiden with an unknown number of  clusters.\n",
      "Clustering succesful. Found 24 clusters.\n",
      " |████████████████████| 100.0%  - val_loss:  440.86 - val_cvae_loss:  440.86 - val_prototype_loss:    0.00 - val_unlabeled_loss:    0.32\n"
     ]
    },
    {
     "name": "stderr",
     "output_type": "stream",
     "text": [
      "Computing neighbors: 100%|██████████| 1/1 [00:11<00:00, 11.91s/it]\n",
      "Embeddings:   0%|\u001b[32m          \u001b[0m| 0/1 [00:00<?, ?it/s]\n",
      "Metrics:   0%|\u001b[34m          \u001b[0m| 0/10 [00:00<?, ?it/s]\u001b[A\n",
      "Metrics:   0%|\u001b[34m          \u001b[0m| 0/10 [00:00<?, ?it/s, Bio conservation: isolated_labels]\u001b[A\n",
      "Metrics:  10%|\u001b[34m█         \u001b[0m| 1/10 [00:01<00:12,  1.41s/it, Bio conservation: isolated_labels]\u001b[A\n",
      "Metrics:  10%|\u001b[34m█         \u001b[0m| 1/10 [00:01<00:12,  1.41s/it, Bio conservation: nmi_ari_cluster_labels_kmeans]\u001b[A\n",
      "Metrics:  20%|\u001b[34m██        \u001b[0m| 2/10 [00:03<00:14,  1.81s/it, Bio conservation: nmi_ari_cluster_labels_kmeans]\u001b[A\n",
      "Metrics:  20%|\u001b[34m██        \u001b[0m| 2/10 [00:03<00:14,  1.81s/it, Bio conservation: silhouette_label]             \u001b[A\n",
      "Metrics:  30%|\u001b[34m███       \u001b[0m| 3/10 [00:04<00:11,  1.60s/it, Bio conservation: silhouette_label]\u001b[A\n",
      "Metrics:  30%|\u001b[34m███       \u001b[0m| 3/10 [00:04<00:11,  1.60s/it, Bio conservation: clisi_knn]       \u001b[A\n",
      "Metrics:  40%|\u001b[34m████      \u001b[0m| 4/10 [00:04<00:06,  1.02s/it, Bio conservation: clisi_knn]\u001b[A\n",
      "Metrics:  40%|\u001b[34m████      \u001b[0m| 4/10 [00:04<00:06,  1.02s/it, Batch correction: silhouette_batch]\u001b[A\n",
      "Metrics:  50%|\u001b[34m█████     \u001b[0m| 5/10 [00:05<00:03,  1.31it/s, Batch correction: silhouette_batch]\u001b[A\n",
      "Metrics:  50%|\u001b[34m█████     \u001b[0m| 5/10 [00:05<00:03,  1.31it/s, Batch correction: ilisi_knn]       \u001b[A\n",
      "Metrics:  60%|\u001b[34m██████    \u001b[0m| 6/10 [00:05<00:02,  1.82it/s, Batch correction: ilisi_knn]\u001b[A\n",
      "Metrics:  60%|\u001b[34m██████    \u001b[0m| 6/10 [00:05<00:02,  1.82it/s, Batch correction: kbet_per_label]\u001b[A\n",
      "Metrics:  70%|\u001b[34m███████   \u001b[0m| 7/10 [00:19<00:14,  4.90s/it, Batch correction: kbet_per_label]\u001b[A\n",
      "Metrics:  70%|\u001b[34m███████   \u001b[0m| 7/10 [00:19<00:14,  4.90s/it, Batch correction: graph_connectivity]\u001b[A\n",
      "Metrics:  80%|\u001b[34m████████  \u001b[0m| 8/10 [00:19<00:09,  4.90s/it, Batch correction: pcr_comparison]    \u001b[A\n",
      "Embeddings: 100%|\u001b[32m██████████\u001b[0m| 1/1 [00:19<00:00, 19.42s/it]atch correction: pcr_comparison]\u001b[A\n",
      "\n",
      "                                                                                         \u001b[A/ictstr01/home/icb/fatemehs.hashemig/codes/interpretable-ssl/interpretable_ssl/trainers/trainer.py:250: FutureWarning: The frame.append method is deprecated and will be removed from pandas in a future version. Use pandas.concat instead.\n",
      "  overall_df = overall_df.append(fold_df, ignore_index=True)\n"
     ]
    },
    {
     "name": "stdout",
     "output_type": "stream",
     "text": [
      "   Isolated labels  KMeans NMI  KMeans ARI  Silhouette label     cLISI  \\\n",
      "0         0.584801    0.651906    0.416551          0.587946  0.988364   \n",
      "\n",
      "   Silhouette batch    iLISI      KBET  Graph connectivity  PCR comparison  \\\n",
      "0          0.846849  0.16741  0.236714            0.875589        0.797467   \n",
      "\n",
      "   Batch correction  Bio conservation    Total  fold           trainer  \n",
      "0          0.584806          0.645914  0.62147   3.0  barlow prototype  \n"
     ]
    },
    {
     "name": "stderr",
     "output_type": "stream",
     "text": [
      "/ictstr01/home/icb/fatemehs.hashemig/codes/interpretable-ssl/interpretable_ssl/datasets/dataset.py:43: ImplicitModificationWarning: Trying to modify attribute `.obs` of view, initializing view as actual.\n",
      "  self.adata.obs['encoded_cell_type'] = self.le.transform(self.adata.obs.cell_type)\n",
      "/ictstr01/home/icb/fatemehs.hashemig/codes/interpretable-ssl/interpretable_ssl/datasets/dataset.py:43: ImplicitModificationWarning: Trying to modify attribute `.obs` of view, initializing view as actual.\n",
      "  self.adata.obs['encoded_cell_type'] = self.le.transform(self.adata.obs.cell_type)\n",
      "INFO:scarches.trainers.scpoli.trainer:GPU available: True, GPU used: True\n"
     ]
    },
    {
     "name": "stdout",
     "output_type": "stream",
     "text": [
      "Evaluating fold 1\n",
      "Embedding dictionary:\n",
      " \tNum conditions: [4]\n",
      " \tEmbedding dim: [10]\n",
      "Encoder Architecture:\n",
      "\tInput Layer in, out and cond: 4000 64 10\n",
      "\tMean/Var Layer in/out: 64 8\n",
      "Decoder Architecture:\n",
      "\tFirst Layer in, out and cond:  8 64 10\n",
      "\tOutput Layer in/out:  64 4000 \n",
      "\n",
      "Embedding dictionary:\n",
      " \tNum conditions: [5]\n",
      " \tEmbedding dim: [10]\n",
      "Encoder Architecture:\n",
      "\tInput Layer in, out and cond: 4000 64 10\n",
      "\tMean/Var Layer in/out: 64 8\n",
      "Decoder Architecture:\n",
      "\tFirst Layer in, out and cond:  8 64 10\n",
      "\tOutput Layer in/out:  64 4000 \n",
      "\n",
      "Initializing dataloaders\n",
      "Starting training\n",
      " |████████████████----| 80.0%  - val_loss:  443.28 - val_cvae_loss:  443.28\n",
      "Initializing unlabeled prototypes with Leiden with an unknown number of  clusters.\n",
      "Clustering succesful. Found 22 clusters.\n",
      " |████████████████████| 100.0%  - val_loss:  447.33 - val_cvae_loss:  447.33 - val_prototype_loss:    0.00 - val_unlabeled_loss:    0.21\n"
     ]
    },
    {
     "name": "stderr",
     "output_type": "stream",
     "text": [
      "Computing neighbors: 100%|██████████| 1/1 [00:12<00:00, 12.75s/it]\n",
      "Embeddings:   0%|\u001b[32m          \u001b[0m| 0/1 [00:00<?, ?it/s]\n",
      "Metrics:   0%|\u001b[34m          \u001b[0m| 0/10 [00:00<?, ?it/s]\u001b[A\n",
      "Metrics:   0%|\u001b[34m          \u001b[0m| 0/10 [00:00<?, ?it/s, Bio conservation: isolated_labels]\u001b[A\n",
      "Metrics:  10%|\u001b[34m█         \u001b[0m| 1/10 [00:01<00:12,  1.35s/it, Bio conservation: isolated_labels]\u001b[A\n",
      "Metrics:  10%|\u001b[34m█         \u001b[0m| 1/10 [00:01<00:12,  1.35s/it, Bio conservation: nmi_ari_cluster_labels_kmeans]\u001b[A\n",
      "Metrics:  20%|\u001b[34m██        \u001b[0m| 2/10 [00:03<00:13,  1.65s/it, Bio conservation: nmi_ari_cluster_labels_kmeans]\u001b[A\n",
      "Metrics:  20%|\u001b[34m██        \u001b[0m| 2/10 [00:03<00:13,  1.65s/it, Bio conservation: silhouette_label]             \u001b[A\n",
      "Metrics:  30%|\u001b[34m███       \u001b[0m| 3/10 [00:04<00:10,  1.51s/it, Bio conservation: silhouette_label]\u001b[A\n",
      "Metrics:  30%|\u001b[34m███       \u001b[0m| 3/10 [00:04<00:10,  1.51s/it, Bio conservation: clisi_knn]       \u001b[A\n",
      "Metrics:  40%|\u001b[34m████      \u001b[0m| 4/10 [00:04<00:05,  1.04it/s, Bio conservation: clisi_knn]\u001b[A\n",
      "Metrics:  40%|\u001b[34m████      \u001b[0m| 4/10 [00:04<00:05,  1.04it/s, Batch correction: silhouette_batch]\u001b[A\n",
      "Metrics:  50%|\u001b[34m█████     \u001b[0m| 5/10 [00:05<00:03,  1.36it/s, Batch correction: silhouette_batch]\u001b[A\n",
      "Metrics:  50%|\u001b[34m█████     \u001b[0m| 5/10 [00:05<00:03,  1.36it/s, Batch correction: ilisi_knn]       \u001b[A\n",
      "Metrics:  60%|\u001b[34m██████    \u001b[0m| 6/10 [00:05<00:02,  1.88it/s, Batch correction: ilisi_knn]\u001b[A\n",
      "Metrics:  60%|\u001b[34m██████    \u001b[0m| 6/10 [00:05<00:02,  1.88it/s, Batch correction: kbet_per_label]\u001b[A\n",
      "Metrics:  70%|\u001b[34m███████   \u001b[0m| 7/10 [00:19<00:15,  5.12s/it, Batch correction: kbet_per_label]\u001b[A\n",
      "Metrics:  70%|\u001b[34m███████   \u001b[0m| 7/10 [00:19<00:15,  5.12s/it, Batch correction: graph_connectivity]\u001b[A\n",
      "Metrics:  80%|\u001b[34m████████  \u001b[0m| 8/10 [00:19<00:10,  5.12s/it, Batch correction: pcr_comparison]    \u001b[A\n",
      "Embeddings: 100%|\u001b[32m██████████\u001b[0m| 1/1 [00:19<00:00, 19.83s/it]atch correction: pcr_comparison]\u001b[A\n",
      "\n",
      "                                                                                         \u001b[A/ictstr01/home/icb/fatemehs.hashemig/codes/interpretable-ssl/interpretable_ssl/trainers/trainer.py:250: FutureWarning: The frame.append method is deprecated and will be removed from pandas in a future version. Use pandas.concat instead.\n",
      "  overall_df = overall_df.append(fold_df, ignore_index=True)\n",
      "/ictstr01/home/icb/fatemehs.hashemig/codes/interpretable-ssl/interpretable_ssl/datasets/dataset.py:43: ImplicitModificationWarning: Trying to modify attribute `.obs` of view, initializing view as actual.\n",
      "  self.adata.obs['encoded_cell_type'] = self.le.transform(self.adata.obs.cell_type)\n",
      "/ictstr01/home/icb/fatemehs.hashemig/codes/interpretable-ssl/interpretable_ssl/datasets/dataset.py:43: ImplicitModificationWarning: Trying to modify attribute `.obs` of view, initializing view as actual.\n",
      "  self.adata.obs['encoded_cell_type'] = self.le.transform(self.adata.obs.cell_type)\n",
      "INFO:scarches.trainers.scpoli.trainer:GPU available: True, GPU used: True\n"
     ]
    },
    {
     "name": "stdout",
     "output_type": "stream",
     "text": [
      "Evaluating fold 2\n",
      "Embedding dictionary:\n",
      " \tNum conditions: [4]\n",
      " \tEmbedding dim: [10]\n",
      "Encoder Architecture:\n",
      "\tInput Layer in, out and cond: 4000 64 10\n",
      "\tMean/Var Layer in/out: 64 8\n",
      "Decoder Architecture:\n",
      "\tFirst Layer in, out and cond:  8 64 10\n",
      "\tOutput Layer in/out:  64 4000 \n",
      "\n",
      "Embedding dictionary:\n",
      " \tNum conditions: [5]\n",
      " \tEmbedding dim: [10]\n",
      "Encoder Architecture:\n",
      "\tInput Layer in, out and cond: 4000 64 10\n",
      "\tMean/Var Layer in/out: 64 8\n",
      "Decoder Architecture:\n",
      "\tFirst Layer in, out and cond:  8 64 10\n",
      "\tOutput Layer in/out:  64 4000 \n",
      "\n",
      "Initializing dataloaders\n",
      "Starting training\n",
      " |████████████████----| 80.0%  - val_loss: 4268.74 - val_cvae_loss: 4268.74\n",
      "Initializing unlabeled prototypes with Leiden with an unknown number of  clusters.\n",
      "Clustering succesful. Found 19 clusters.\n",
      " |████████████████████| 100.0%  - val_loss: 4241.49 - val_cvae_loss: 4241.49 - val_prototype_loss:    0.00 - val_unlabeled_loss:    0.27\n"
     ]
    },
    {
     "name": "stderr",
     "output_type": "stream",
     "text": [
      "Computing neighbors: 100%|██████████| 1/1 [00:13<00:00, 13.25s/it]\n",
      "Embeddings:   0%|\u001b[32m          \u001b[0m| 0/1 [00:00<?, ?it/s]\n",
      "Metrics:   0%|\u001b[34m          \u001b[0m| 0/10 [00:00<?, ?it/s]\u001b[A\n",
      "Metrics:   0%|\u001b[34m          \u001b[0m| 0/10 [00:00<?, ?it/s, Bio conservation: isolated_labels]\u001b[A\n",
      "Metrics:  10%|\u001b[34m█         \u001b[0m| 1/10 [00:01<00:11,  1.29s/it, Bio conservation: isolated_labels]\u001b[A\n",
      "Metrics:  10%|\u001b[34m█         \u001b[0m| 1/10 [00:01<00:11,  1.29s/it, Bio conservation: nmi_ari_cluster_labels_kmeans]\u001b[A\n",
      "Metrics:  20%|\u001b[34m██        \u001b[0m| 2/10 [00:03<00:12,  1.59s/it, Bio conservation: nmi_ari_cluster_labels_kmeans]\u001b[A\n",
      "Metrics:  20%|\u001b[34m██        \u001b[0m| 2/10 [00:03<00:12,  1.59s/it, Bio conservation: silhouette_label]             \u001b[A\n",
      "Metrics:  30%|\u001b[34m███       \u001b[0m| 3/10 [00:04<00:10,  1.45s/it, Bio conservation: silhouette_label]\u001b[A\n",
      "Metrics:  30%|\u001b[34m███       \u001b[0m| 3/10 [00:04<00:10,  1.45s/it, Bio conservation: clisi_knn]       \u001b[A\n",
      "Metrics:  40%|\u001b[34m████      \u001b[0m| 4/10 [00:04<00:05,  1.07it/s, Bio conservation: clisi_knn]\u001b[A\n",
      "Metrics:  40%|\u001b[34m████      \u001b[0m| 4/10 [00:04<00:05,  1.07it/s, Batch correction: silhouette_batch]\u001b[A\n",
      "Metrics:  50%|\u001b[34m█████     \u001b[0m| 5/10 [00:04<00:03,  1.41it/s, Batch correction: silhouette_batch]\u001b[A\n",
      "Metrics:  50%|\u001b[34m█████     \u001b[0m| 5/10 [00:04<00:03,  1.41it/s, Batch correction: ilisi_knn]       \u001b[A\n",
      "Metrics:  60%|\u001b[34m██████    \u001b[0m| 6/10 [00:05<00:02,  1.87it/s, Batch correction: ilisi_knn]\u001b[A\n",
      "Metrics:  60%|\u001b[34m██████    \u001b[0m| 6/10 [00:05<00:02,  1.87it/s, Batch correction: kbet_per_label]\u001b[A\n",
      "Metrics:  70%|\u001b[34m███████   \u001b[0m| 7/10 [00:19<00:14,  4.94s/it, Batch correction: kbet_per_label]\u001b[A\n",
      "Metrics:  70%|\u001b[34m███████   \u001b[0m| 7/10 [00:19<00:14,  4.94s/it, Batch correction: graph_connectivity]\u001b[A\n",
      "Metrics:  80%|\u001b[34m████████  \u001b[0m| 8/10 [00:19<00:09,  4.94s/it, Batch correction: pcr_comparison]    \u001b[A\n",
      "Embeddings: 100%|\u001b[32m██████████\u001b[0m| 1/1 [00:19<00:00, 19.19s/it]atch correction: pcr_comparison]\u001b[A\n",
      "\n",
      "                                                                                         \u001b[A/ictstr01/home/icb/fatemehs.hashemig/codes/interpretable-ssl/interpretable_ssl/trainers/trainer.py:250: FutureWarning: The frame.append method is deprecated and will be removed from pandas in a future version. Use pandas.concat instead.\n",
      "  overall_df = overall_df.append(fold_df, ignore_index=True)\n",
      "/ictstr01/home/icb/fatemehs.hashemig/codes/interpretable-ssl/interpretable_ssl/datasets/dataset.py:43: ImplicitModificationWarning: Trying to modify attribute `.obs` of view, initializing view as actual.\n",
      "  self.adata.obs['encoded_cell_type'] = self.le.transform(self.adata.obs.cell_type)\n",
      "/ictstr01/home/icb/fatemehs.hashemig/codes/interpretable-ssl/interpretable_ssl/datasets/dataset.py:43: ImplicitModificationWarning: Trying to modify attribute `.obs` of view, initializing view as actual.\n",
      "  self.adata.obs['encoded_cell_type'] = self.le.transform(self.adata.obs.cell_type)\n",
      "INFO:scarches.trainers.scpoli.trainer:GPU available: True, GPU used: True\n"
     ]
    },
    {
     "name": "stdout",
     "output_type": "stream",
     "text": [
      "Evaluating fold 3\n",
      "Embedding dictionary:\n",
      " \tNum conditions: [4]\n",
      " \tEmbedding dim: [10]\n",
      "Encoder Architecture:\n",
      "\tInput Layer in, out and cond: 4000 64 10\n",
      "\tMean/Var Layer in/out: 64 8\n",
      "Decoder Architecture:\n",
      "\tFirst Layer in, out and cond:  8 64 10\n",
      "\tOutput Layer in/out:  64 4000 \n",
      "\n",
      "Embedding dictionary:\n",
      " \tNum conditions: [5]\n",
      " \tEmbedding dim: [10]\n",
      "Encoder Architecture:\n",
      "\tInput Layer in, out and cond: 4000 64 10\n",
      "\tMean/Var Layer in/out: 64 8\n",
      "Decoder Architecture:\n",
      "\tFirst Layer in, out and cond:  8 64 10\n",
      "\tOutput Layer in/out:  64 4000 \n",
      "\n",
      "Initializing dataloaders\n",
      "Starting training\n",
      " |████████████████----| 80.0%  - val_loss:  881.14 - val_cvae_loss:  881.14\n",
      "Initializing unlabeled prototypes with Leiden with an unknown number of  clusters.\n",
      "Clustering succesful. Found 27 clusters.\n",
      " |████████████████████| 100.0%  - val_loss:  882.89 - val_cvae_loss:  882.89 - val_prototype_loss:    0.00 - val_unlabeled_loss:    0.20\n"
     ]
    },
    {
     "name": "stderr",
     "output_type": "stream",
     "text": [
      "Computing neighbors: 100%|██████████| 1/1 [00:12<00:00, 12.65s/it]\n",
      "Embeddings:   0%|\u001b[32m          \u001b[0m| 0/1 [00:00<?, ?it/s]\n",
      "Metrics:   0%|\u001b[34m          \u001b[0m| 0/10 [00:00<?, ?it/s]\u001b[A\n",
      "Metrics:   0%|\u001b[34m          \u001b[0m| 0/10 [00:00<?, ?it/s, Bio conservation: isolated_labels]\u001b[A\n",
      "Metrics:  10%|\u001b[34m█         \u001b[0m| 1/10 [00:01<00:12,  1.39s/it, Bio conservation: isolated_labels]\u001b[A\n",
      "Metrics:  10%|\u001b[34m█         \u001b[0m| 1/10 [00:01<00:12,  1.39s/it, Bio conservation: nmi_ari_cluster_labels_kmeans]\u001b[A\n",
      "Metrics:  20%|\u001b[34m██        \u001b[0m| 2/10 [00:03<00:14,  1.83s/it, Bio conservation: nmi_ari_cluster_labels_kmeans]\u001b[A\n",
      "Metrics:  20%|\u001b[34m██        \u001b[0m| 2/10 [00:03<00:14,  1.83s/it, Bio conservation: silhouette_label]             \u001b[A\n",
      "Metrics:  30%|\u001b[34m███       \u001b[0m| 3/10 [00:04<00:11,  1.63s/it, Bio conservation: silhouette_label]\u001b[A\n",
      "Metrics:  30%|\u001b[34m███       \u001b[0m| 3/10 [00:04<00:11,  1.63s/it, Bio conservation: clisi_knn]       \u001b[A\n",
      "Metrics:  40%|\u001b[34m████      \u001b[0m| 4/10 [00:05<00:06,  1.06s/it, Bio conservation: clisi_knn]\u001b[A\n",
      "Metrics:  40%|\u001b[34m████      \u001b[0m| 4/10 [00:05<00:06,  1.06s/it, Batch correction: silhouette_batch]\u001b[A\n",
      "Metrics:  50%|\u001b[34m█████     \u001b[0m| 5/10 [00:05<00:03,  1.26it/s, Batch correction: silhouette_batch]\u001b[A\n",
      "Metrics:  50%|\u001b[34m█████     \u001b[0m| 5/10 [00:05<00:03,  1.26it/s, Batch correction: ilisi_knn]       \u001b[A\n",
      "Metrics:  60%|\u001b[34m██████    \u001b[0m| 6/10 [00:05<00:02,  1.76it/s, Batch correction: ilisi_knn]\u001b[A\n",
      "Metrics:  60%|\u001b[34m██████    \u001b[0m| 6/10 [00:05<00:02,  1.76it/s, Batch correction: kbet_per_label]\u001b[A\n",
      "Metrics:  70%|\u001b[34m███████   \u001b[0m| 7/10 [00:19<00:14,  4.84s/it, Batch correction: kbet_per_label]\u001b[A\n",
      "Metrics:  70%|\u001b[34m███████   \u001b[0m| 7/10 [00:19<00:14,  4.84s/it, Batch correction: graph_connectivity]\u001b[A\n",
      "Metrics:  80%|\u001b[34m████████  \u001b[0m| 8/10 [00:19<00:09,  4.84s/it, Batch correction: pcr_comparison]    \u001b[A\n",
      "Embeddings: 100%|\u001b[32m██████████\u001b[0m| 1/1 [00:19<00:00, 19.31s/it]atch correction: pcr_comparison]\u001b[A\n",
      "\n",
      "                                                                                         \u001b[A/ictstr01/home/icb/fatemehs.hashemig/codes/interpretable-ssl/interpretable_ssl/trainers/trainer.py:250: FutureWarning: The frame.append method is deprecated and will be removed from pandas in a future version. Use pandas.concat instead.\n",
      "  overall_df = overall_df.append(fold_df, ignore_index=True)\n",
      "/ictstr01/home/icb/fatemehs.hashemig/codes/interpretable-ssl/interpretable_ssl/datasets/dataset.py:43: ImplicitModificationWarning: Trying to modify attribute `.obs` of view, initializing view as actual.\n",
      "  self.adata.obs['encoded_cell_type'] = self.le.transform(self.adata.obs.cell_type)\n",
      "/ictstr01/home/icb/fatemehs.hashemig/codes/interpretable-ssl/interpretable_ssl/datasets/dataset.py:43: ImplicitModificationWarning: Trying to modify attribute `.obs` of view, initializing view as actual.\n",
      "  self.adata.obs['encoded_cell_type'] = self.le.transform(self.adata.obs.cell_type)\n",
      "INFO:scarches.trainers.scpoli.trainer:GPU available: True, GPU used: True\n"
     ]
    },
    {
     "name": "stdout",
     "output_type": "stream",
     "text": [
      "Evaluating fold 4\n",
      "Embedding dictionary:\n",
      " \tNum conditions: [4]\n",
      " \tEmbedding dim: [10]\n",
      "Encoder Architecture:\n",
      "\tInput Layer in, out and cond: 4000 64 10\n",
      "\tMean/Var Layer in/out: 64 8\n",
      "Decoder Architecture:\n",
      "\tFirst Layer in, out and cond:  8 64 10\n",
      "\tOutput Layer in/out:  64 4000 \n",
      "\n",
      "Embedding dictionary:\n",
      " \tNum conditions: [5]\n",
      " \tEmbedding dim: [10]\n",
      "Encoder Architecture:\n",
      "\tInput Layer in, out and cond: 4000 64 10\n",
      "\tMean/Var Layer in/out: 64 8\n",
      "Decoder Architecture:\n",
      "\tFirst Layer in, out and cond:  8 64 10\n",
      "\tOutput Layer in/out:  64 4000 \n",
      "\n",
      "Warning: Labels in adata.obs[cell_type] is not a subset of label-encoder!\n",
      "The missing labels are: {'Erythrocytes', 'CD10+ B cells', 'Erythroid progenitors', 'Monocyte progenitors'}\n",
      "Therefore integer value of those labels is set to -1\n",
      "Warning: Labels in adata.obs[cell_type] is not a subset of label-encoder!\n",
      "The missing labels are: {'Erythrocytes', 'CD10+ B cells', 'Erythroid progenitors', 'Monocyte progenitors'}\n",
      "Therefore integer value of those labels is set to -1\n",
      "Warning: Labels in adata.obs[cell_type] is not a subset of label-encoder!\n",
      "The missing labels are: {'Erythrocytes', 'CD10+ B cells', 'Erythroid progenitors', 'Monocyte progenitors'}\n",
      "Therefore integer value of those labels is set to -1\n",
      "Warning: Labels in adata.obs[cell_type] is not a subset of label-encoder!\n",
      "The missing labels are: {'Erythrocytes', 'CD10+ B cells', 'Erythroid progenitors', 'Monocyte progenitors'}\n",
      "Therefore integer value of those labels is set to -1\n",
      "Initializing dataloaders\n",
      "Starting training\n",
      " |████████████████----| 80.0%  - val_loss:  691.47 - val_cvae_loss:  691.47\n",
      "Initializing unlabeled prototypes with Leiden with an unknown number of  clusters.\n",
      "Clustering succesful. Found 32 clusters.\n",
      " |████████████████████| 100.0%  - val_loss:  690.50 - val_cvae_loss:  690.50 - val_prototype_loss:    0.00 - val_unlabeled_loss:    0.23\n"
     ]
    },
    {
     "name": "stderr",
     "output_type": "stream",
     "text": [
      "Computing neighbors: 100%|██████████| 1/1 [00:12<00:00, 12.91s/it]\n",
      "Embeddings:   0%|\u001b[32m          \u001b[0m| 0/1 [00:00<?, ?it/s]\n",
      "Metrics:   0%|\u001b[34m          \u001b[0m| 0/10 [00:00<?, ?it/s]\u001b[A\n",
      "Metrics:   0%|\u001b[34m          \u001b[0m| 0/10 [00:00<?, ?it/s, Bio conservation: isolated_labels]\u001b[A\n",
      "Metrics:  10%|\u001b[34m█         \u001b[0m| 1/10 [00:01<00:12,  1.34s/it, Bio conservation: isolated_labels]\u001b[A\n",
      "Metrics:  10%|\u001b[34m█         \u001b[0m| 1/10 [00:01<00:12,  1.34s/it, Bio conservation: nmi_ari_cluster_labels_kmeans]\u001b[A\n",
      "Metrics:  20%|\u001b[34m██        \u001b[0m| 2/10 [00:03<00:12,  1.57s/it, Bio conservation: nmi_ari_cluster_labels_kmeans]\u001b[A\n",
      "Metrics:  20%|\u001b[34m██        \u001b[0m| 2/10 [00:03<00:12,  1.57s/it, Bio conservation: silhouette_label]             \u001b[A\n",
      "Metrics:  30%|\u001b[34m███       \u001b[0m| 3/10 [00:04<00:10,  1.44s/it, Bio conservation: silhouette_label]\u001b[A\n",
      "Metrics:  30%|\u001b[34m███       \u001b[0m| 3/10 [00:04<00:10,  1.44s/it, Bio conservation: clisi_knn]       \u001b[A\n",
      "Metrics:  40%|\u001b[34m████      \u001b[0m| 4/10 [00:04<00:05,  1.08it/s, Bio conservation: clisi_knn]\u001b[A\n",
      "Metrics:  40%|\u001b[34m████      \u001b[0m| 4/10 [00:04<00:05,  1.08it/s, Batch correction: silhouette_batch]\u001b[A\n",
      "Metrics:  50%|\u001b[34m█████     \u001b[0m| 5/10 [00:04<00:03,  1.42it/s, Batch correction: silhouette_batch]\u001b[A\n",
      "Metrics:  50%|\u001b[34m█████     \u001b[0m| 5/10 [00:04<00:03,  1.42it/s, Batch correction: ilisi_knn]       \u001b[A\n",
      "Metrics:  60%|\u001b[34m██████    \u001b[0m| 6/10 [00:04<00:02,  1.96it/s, Batch correction: ilisi_knn]\u001b[A\n",
      "Metrics:  60%|\u001b[34m██████    \u001b[0m| 6/10 [00:04<00:02,  1.96it/s, Batch correction: kbet_per_label]\u001b[A\n",
      "Metrics:  70%|\u001b[34m███████   \u001b[0m| 7/10 [00:18<00:14,  4.83s/it, Batch correction: kbet_per_label]\u001b[A\n",
      "Metrics:  70%|\u001b[34m███████   \u001b[0m| 7/10 [00:18<00:14,  4.83s/it, Batch correction: graph_connectivity]\u001b[A\n",
      "Metrics:  80%|\u001b[34m████████  \u001b[0m| 8/10 [00:18<00:09,  4.83s/it, Batch correction: pcr_comparison]    \u001b[A\n",
      "Embeddings: 100%|\u001b[32m██████████\u001b[0m| 1/1 [00:18<00:00, 18.80s/it]atch correction: pcr_comparison]\u001b[A\n",
      "\n",
      "                                                                                         \u001b[A/ictstr01/home/icb/fatemehs.hashemig/codes/interpretable-ssl/interpretable_ssl/trainers/trainer.py:250: FutureWarning: The frame.append method is deprecated and will be removed from pandas in a future version. Use pandas.concat instead.\n",
      "  overall_df = overall_df.append(fold_df, ignore_index=True)\n",
      "/ictstr01/home/icb/fatemehs.hashemig/codes/interpretable-ssl/interpretable_ssl/datasets/dataset.py:43: ImplicitModificationWarning: Trying to modify attribute `.obs` of view, initializing view as actual.\n",
      "  self.adata.obs['encoded_cell_type'] = self.le.transform(self.adata.obs.cell_type)\n",
      "/ictstr01/home/icb/fatemehs.hashemig/codes/interpretable-ssl/interpretable_ssl/datasets/dataset.py:43: ImplicitModificationWarning: Trying to modify attribute `.obs` of view, initializing view as actual.\n",
      "  self.adata.obs['encoded_cell_type'] = self.le.transform(self.adata.obs.cell_type)\n",
      "INFO:scarches.trainers.scpoli.trainer:GPU available: True, GPU used: True\n"
     ]
    },
    {
     "name": "stdout",
     "output_type": "stream",
     "text": [
      "Evaluating fold 5\n",
      "Embedding dictionary:\n",
      " \tNum conditions: [4]\n",
      " \tEmbedding dim: [10]\n",
      "Encoder Architecture:\n",
      "\tInput Layer in, out and cond: 4000 64 10\n",
      "\tMean/Var Layer in/out: 64 8\n",
      "Decoder Architecture:\n",
      "\tFirst Layer in, out and cond:  8 64 10\n",
      "\tOutput Layer in/out:  64 4000 \n",
      "\n",
      "Embedding dictionary:\n",
      " \tNum conditions: [5]\n",
      " \tEmbedding dim: [10]\n",
      "Encoder Architecture:\n",
      "\tInput Layer in, out and cond: 4000 64 10\n",
      "\tMean/Var Layer in/out: 64 8\n",
      "Decoder Architecture:\n",
      "\tFirst Layer in, out and cond:  8 64 10\n",
      "\tOutput Layer in/out:  64 4000 \n",
      "\n",
      "Initializing dataloaders\n",
      "Starting training\n",
      " |████████████████----| 80.0%  - val_loss:  443.43 - val_cvae_loss:  443.43\n",
      "Initializing unlabeled prototypes with Leiden with an unknown number of  clusters.\n",
      "Clustering succesful. Found 27 clusters.\n",
      " |████████████████████| 100.0%  - val_loss:  445.12 - val_cvae_loss:  445.12 - val_prototype_loss:    0.00 - val_unlabeled_loss:    0.16\n"
     ]
    },
    {
     "name": "stderr",
     "output_type": "stream",
     "text": [
      "Computing neighbors: 100%|██████████| 1/1 [00:12<00:00, 12.77s/it]\n",
      "Embeddings:   0%|\u001b[32m          \u001b[0m| 0/1 [00:00<?, ?it/s]\n",
      "Metrics:   0%|\u001b[34m          \u001b[0m| 0/10 [00:00<?, ?it/s]\u001b[A\n",
      "Metrics:   0%|\u001b[34m          \u001b[0m| 0/10 [00:00<?, ?it/s, Bio conservation: isolated_labels]\u001b[A\n",
      "Metrics:  10%|\u001b[34m█         \u001b[0m| 1/10 [00:01<00:11,  1.28s/it, Bio conservation: isolated_labels]\u001b[A\n",
      "Metrics:  10%|\u001b[34m█         \u001b[0m| 1/10 [00:01<00:11,  1.28s/it, Bio conservation: nmi_ari_cluster_labels_kmeans]\u001b[A\n",
      "Metrics:  20%|\u001b[34m██        \u001b[0m| 2/10 [00:02<00:11,  1.49s/it, Bio conservation: nmi_ari_cluster_labels_kmeans]\u001b[A\n",
      "Metrics:  20%|\u001b[34m██        \u001b[0m| 2/10 [00:02<00:11,  1.49s/it, Bio conservation: silhouette_label]             \u001b[A\n",
      "Metrics:  30%|\u001b[34m███       \u001b[0m| 3/10 [00:04<00:09,  1.39s/it, Bio conservation: silhouette_label]\u001b[A\n",
      "Metrics:  30%|\u001b[34m███       \u001b[0m| 3/10 [00:04<00:09,  1.39s/it, Bio conservation: clisi_knn]       \u001b[A\n",
      "Metrics:  40%|\u001b[34m████      \u001b[0m| 4/10 [00:04<00:05,  1.09it/s, Bio conservation: clisi_knn]\u001b[A\n",
      "Metrics:  40%|\u001b[34m████      \u001b[0m| 4/10 [00:04<00:05,  1.09it/s, Batch correction: silhouette_batch]\u001b[A\n",
      "Metrics:  50%|\u001b[34m█████     \u001b[0m| 5/10 [00:04<00:03,  1.43it/s, Batch correction: silhouette_batch]\u001b[A\n",
      "Metrics:  50%|\u001b[34m█████     \u001b[0m| 5/10 [00:04<00:03,  1.43it/s, Batch correction: ilisi_knn]       \u001b[A\n",
      "Metrics:  60%|\u001b[34m██████    \u001b[0m| 6/10 [00:04<00:02,  1.98it/s, Batch correction: ilisi_knn]\u001b[A\n",
      "Metrics:  60%|\u001b[34m██████    \u001b[0m| 6/10 [00:04<00:02,  1.98it/s, Batch correction: kbet_per_label]\u001b[A\n",
      "Metrics:  70%|\u001b[34m███████   \u001b[0m| 7/10 [00:18<00:14,  4.80s/it, Batch correction: kbet_per_label]\u001b[A\n",
      "Metrics:  70%|\u001b[34m███████   \u001b[0m| 7/10 [00:18<00:14,  4.80s/it, Batch correction: graph_connectivity]\u001b[A\n",
      "Metrics:  80%|\u001b[34m████████  \u001b[0m| 8/10 [00:18<00:09,  4.80s/it, Batch correction: pcr_comparison]    \u001b[A\n",
      "Embeddings: 100%|\u001b[32m██████████\u001b[0m| 1/1 [00:18<00:00, 18.57s/it]atch correction: pcr_comparison]\u001b[A\n",
      "\n",
      "                                                                                         \u001b[A"
     ]
    },
    {
     "name": "stdout",
     "output_type": "stream",
     "text": [
      "   Isolated labels  KMeans NMI  KMeans ARI  Silhouette label     cLISI  \\\n",
      "0         0.584801    0.651906    0.416551          0.587946  0.988364   \n",
      "1         0.774937    0.808942    0.635015          0.689109  0.999130   \n",
      "\n",
      "   Silhouette batch     iLISI      KBET  Graph connectivity  PCR comparison  \\\n",
      "0          0.846849  0.167410  0.236714            0.875589        0.797467   \n",
      "1          0.809160  0.254963  0.495410            0.923886        0.824676   \n",
      "\n",
      "   Batch correction  Bio conservation     Total  fold           trainer  \n",
      "0          0.584806          0.645914  0.621470   3.0  barlow prototype  \n",
      "1          0.661619          0.781427  0.733504   3.0   original scpoli  \n"
     ]
    },
    {
     "name": "stderr",
     "output_type": "stream",
     "text": [
      "/ictstr01/home/icb/fatemehs.hashemig/codes/interpretable-ssl/interpretable_ssl/trainers/trainer.py:250: FutureWarning: The frame.append method is deprecated and will be removed from pandas in a future version. Use pandas.concat instead.\n",
      "  overall_df = overall_df.append(fold_df, ignore_index=True)\n"
     ]
    },
    {
     "data": {
      "text/html": [
       "<div>\n",
       "<style scoped>\n",
       "    .dataframe tbody tr th:only-of-type {\n",
       "        vertical-align: middle;\n",
       "    }\n",
       "\n",
       "    .dataframe tbody tr th {\n",
       "        vertical-align: top;\n",
       "    }\n",
       "\n",
       "    .dataframe thead th {\n",
       "        text-align: right;\n",
       "    }\n",
       "</style>\n",
       "<table border=\"1\" class=\"dataframe\">\n",
       "  <thead>\n",
       "    <tr style=\"text-align: right;\">\n",
       "      <th></th>\n",
       "      <th>Isolated labels</th>\n",
       "      <th>KMeans NMI</th>\n",
       "      <th>KMeans ARI</th>\n",
       "      <th>Silhouette label</th>\n",
       "      <th>cLISI</th>\n",
       "      <th>Silhouette batch</th>\n",
       "      <th>iLISI</th>\n",
       "      <th>KBET</th>\n",
       "      <th>Graph connectivity</th>\n",
       "      <th>PCR comparison</th>\n",
       "      <th>Batch correction</th>\n",
       "      <th>Bio conservation</th>\n",
       "      <th>Total</th>\n",
       "      <th>fold</th>\n",
       "      <th>trainer</th>\n",
       "    </tr>\n",
       "  </thead>\n",
       "  <tbody>\n",
       "    <tr>\n",
       "      <th>0</th>\n",
       "      <td>0.584801</td>\n",
       "      <td>0.651906</td>\n",
       "      <td>0.416551</td>\n",
       "      <td>0.587946</td>\n",
       "      <td>0.988364</td>\n",
       "      <td>0.846849</td>\n",
       "      <td>0.167410</td>\n",
       "      <td>0.236714</td>\n",
       "      <td>0.875589</td>\n",
       "      <td>0.797467</td>\n",
       "      <td>0.584806</td>\n",
       "      <td>0.645914</td>\n",
       "      <td>0.621470</td>\n",
       "      <td>3.0</td>\n",
       "      <td>barlow prototype</td>\n",
       "    </tr>\n",
       "    <tr>\n",
       "      <th>1</th>\n",
       "      <td>0.774937</td>\n",
       "      <td>0.808942</td>\n",
       "      <td>0.635015</td>\n",
       "      <td>0.689109</td>\n",
       "      <td>0.999130</td>\n",
       "      <td>0.809160</td>\n",
       "      <td>0.254963</td>\n",
       "      <td>0.495410</td>\n",
       "      <td>0.923886</td>\n",
       "      <td>0.824676</td>\n",
       "      <td>0.661619</td>\n",
       "      <td>0.781427</td>\n",
       "      <td>0.733504</td>\n",
       "      <td>3.0</td>\n",
       "      <td>original scpoli</td>\n",
       "    </tr>\n",
       "  </tbody>\n",
       "</table>\n",
       "</div>"
      ],
      "text/plain": [
       "   Isolated labels  KMeans NMI  KMeans ARI  Silhouette label     cLISI  \\\n",
       "0         0.584801    0.651906    0.416551          0.587946  0.988364   \n",
       "1         0.774937    0.808942    0.635015          0.689109  0.999130   \n",
       "\n",
       "   Silhouette batch     iLISI      KBET  Graph connectivity  PCR comparison  \\\n",
       "0          0.846849  0.167410  0.236714            0.875589        0.797467   \n",
       "1          0.809160  0.254963  0.495410            0.923886        0.824676   \n",
       "\n",
       "   Batch correction  Bio conservation     Total  fold           trainer  \n",
       "0          0.584806          0.645914  0.621470   3.0  barlow prototype  \n",
       "1          0.661619          0.781427  0.733504   3.0   original scpoli  "
      ]
     },
     "execution_count": 20,
     "metadata": {},
     "output_type": "execute_result"
    }
   ],
   "source": [
    "all_results = pd.DataFrame()\n",
    "for trainer, name in zip(trainers, names):\n",
    "    df = trainer.evaluate_kfold_models()\n",
    "    trainer_mean = calculate_dataframe_mean(df)\n",
    "    trainer_mean['trainer'] = name\n",
    "    \n",
    "    all_results = pd.concat([all_results, trainer_mean], ignore_index=True)\n",
    "    print(all_results)\n",
    "all_results"
   ]
  },
  {
   "cell_type": "code",
   "execution_count": 31,
   "id": "3797b326-e5ce-4b6a-9f10-31e7145e469f",
   "metadata": {
    "scrolled": true
   },
   "outputs": [
    {
     "name": "stderr",
     "output_type": "stream",
     "text": [
      "/ictstr01/home/icb/fatemehs.hashemig/codes/interpretable-ssl/interpretable_ssl/datasets/dataset.py:43: ImplicitModificationWarning: Trying to modify attribute `.obs` of view, initializing view as actual.\n",
      "  self.adata.obs['encoded_cell_type'] = self.le.transform(self.adata.obs.cell_type)\n"
     ]
    },
    {
     "name": "stdout",
     "output_type": "stream",
     "text": [
      "Evaluating fold 1\n",
      "\u001b[34mINFO    \u001b[0m File \u001b[35m/home/icb/fatemehs.hashemig/models/\u001b[0m\u001b[35m/pbmc-immune/\u001b[0m\u001b[35m/scvi-latent_dim8/fold-1/\u001b[0m\u001b[95mmodel.pt\u001b[0m already downloaded \n"
     ]
    },
    {
     "name": "stderr",
     "output_type": "stream",
     "text": [
      "/ictstr01/home/icb/fatemehs.hashemig/codes/interpretable-ssl/interpretable_ssl/datasets/dataset.py:43: ImplicitModificationWarning: Trying to modify attribute `.obs` of view, initializing view as actual.\n",
      "  self.adata.obs['encoded_cell_type'] = self.le.transform(self.adata.obs.cell_type)\n",
      "/home/icb/fatemehs.hashemig/miniconda3/envs/interpretable-ssl/lib/python3.12/multiprocessing/popen_fork.py:66: RuntimeWarning: os.fork() was called. os.fork() is incompatible with multithreaded code, and JAX is multithreaded, so this will likely lead to a deadlock.\n",
      "  self.pid = os.fork()\n",
      "INFO:pytorch_lightning.trainer.connectors.signal_connector:bypassing sigterm\n",
      "/home/icb/fatemehs.hashemig/miniconda3/envs/interpretable-ssl/lib/python3.12/multiprocessing/popen_fork.py:66: RuntimeWarning: os.fork() was called. os.fork() is incompatible with multithreaded code, and JAX is multithreaded, so this will likely lead to a deadlock.\n",
      "  self.pid = os.fork()\n",
      "INFO:pytorch_lightning.trainer.connectors.signal_connector:bypassing sigterm\n",
      "INFO:pytorch_lightning.trainer.connectors.signal_connector:bypassing sigterm\n",
      "INFO:pytorch_lightning.utilities.rank_zero:Multiprocessing is handled by SLURM.\n",
      "INFO:pytorch_lightning.trainer.connectors.signal_connector:bypassing sigterm\n",
      "INFO:pytorch_lightning.utilities.rank_zero:GPU available: True (cuda), used: True\n",
      "INFO:pytorch_lightning.utilities.rank_zero:TPU available: False, using: 0 TPU cores\n",
      "INFO:pytorch_lightning.utilities.rank_zero:IPU available: False, using: 0 IPUs\n",
      "INFO:pytorch_lightning.utilities.rank_zero:HPU available: False, using: 0 HPUs\n",
      "INFO:pytorch_lightning.trainer.connectors.signal_connector:bypassing sigterm\n",
      "/home/icb/fatemehs.hashemig/miniconda3/envs/interpretable-ssl/lib/python3.12/multiprocessing/popen_fork.py:66: RuntimeWarning: os.fork() was called. os.fork() is incompatible with multithreaded code, and JAX is multithreaded, so this will likely lead to a deadlock.\n",
      "  self.pid = os.fork()\n",
      "INFO:pytorch_lightning.trainer.connectors.signal_connector:bypassing sigterm\n",
      "/home/icb/fatemehs.hashemig/miniconda3/envs/interpretable-ssl/lib/python3.12/multiprocessing/popen_fork.py:66: RuntimeWarning: os.fork() was called. os.fork() is incompatible with multithreaded code, and JAX is multithreaded, so this will likely lead to a deadlock.\n",
      "  self.pid = os.fork()\n",
      "INFO:pytorch_lightning.accelerators.cuda:LOCAL_RANK: 0 - CUDA_VISIBLE_DEVICES: [0]\n",
      "INFO:pytorch_lightning.trainer.connectors.signal_connector:SLURM auto-requeueing enabled. Setting signal handlers.\n"
     ]
    },
    {
     "name": "stdout",
     "output_type": "stream",
     "text": [
      "Epoch 50/50: 100%|██████████| 50/50 [00:06<00:00,  8.19it/s, loss=592, v_num=1]"
     ]
    },
    {
     "name": "stderr",
     "output_type": "stream",
     "text": [
      "INFO:pytorch_lightning.utilities.rank_zero:`Trainer.fit` stopped: `max_epochs=50` reached.\n"
     ]
    },
    {
     "name": "stdout",
     "output_type": "stream",
     "text": [
      "Epoch 50/50: 100%|██████████| 50/50 [00:06<00:00,  8.16it/s, loss=592, v_num=1]\n",
      "\u001b[34mINFO    \u001b[0m AnnData object appears to be a copy. Attempting to transfer setup.                                        \n",
      "\u001b[34mINFO    \u001b[0m AnnData object appears to be a copy. Attempting to transfer setup.                                        \n"
     ]
    },
    {
     "name": "stderr",
     "output_type": "stream",
     "text": [
      "Computing neighbors: 100%|██████████| 1/1 [00:12<00:00, 12.15s/it]\n",
      "Embeddings:   0%|\u001b[32m          \u001b[0m| 0/1 [00:00<?, ?it/s]\n",
      "Metrics:   0%|\u001b[34m          \u001b[0m| 0/10 [00:00<?, ?it/s]\u001b[A\n",
      "Metrics:   0%|\u001b[34m          \u001b[0m| 0/10 [00:00<?, ?it/s, Bio conservation: isolated_labels]\u001b[A\n",
      "Metrics:  10%|\u001b[34m█         \u001b[0m| 1/10 [00:01<00:13,  1.51s/it, Bio conservation: isolated_labels]\u001b[A\n",
      "Metrics:  10%|\u001b[34m█         \u001b[0m| 1/10 [00:01<00:13,  1.51s/it, Bio conservation: nmi_ari_cluster_labels_kmeans]\u001b[A\n",
      "Metrics:  20%|\u001b[34m██        \u001b[0m| 2/10 [00:03<00:16,  2.07s/it, Bio conservation: nmi_ari_cluster_labels_kmeans]\u001b[A\n",
      "Metrics:  20%|\u001b[34m██        \u001b[0m| 2/10 [00:03<00:16,  2.07s/it, Bio conservation: silhouette_label]             \u001b[A\n",
      "Metrics:  30%|\u001b[34m███       \u001b[0m| 3/10 [00:05<00:12,  1.74s/it, Bio conservation: silhouette_label]\u001b[A\n",
      "Metrics:  30%|\u001b[34m███       \u001b[0m| 3/10 [00:05<00:12,  1.74s/it, Bio conservation: clisi_knn]       \u001b[A\n",
      "Metrics:  40%|\u001b[34m████      \u001b[0m| 4/10 [00:05<00:06,  1.12s/it, Bio conservation: clisi_knn]\u001b[A\n",
      "Metrics:  40%|\u001b[34m████      \u001b[0m| 4/10 [00:05<00:06,  1.12s/it, Batch correction: silhouette_batch]\u001b[A\n",
      "Metrics:  50%|\u001b[34m█████     \u001b[0m| 5/10 [00:05<00:04,  1.16it/s, Batch correction: silhouette_batch]\u001b[A\n",
      "Metrics:  50%|\u001b[34m█████     \u001b[0m| 5/10 [00:05<00:04,  1.16it/s, Batch correction: ilisi_knn]       \u001b[A\n",
      "Metrics:  60%|\u001b[34m██████    \u001b[0m| 6/10 [00:06<00:02,  1.64it/s, Batch correction: ilisi_knn]\u001b[A\n",
      "Metrics:  60%|\u001b[34m██████    \u001b[0m| 6/10 [00:06<00:02,  1.64it/s, Batch correction: kbet_per_label]\u001b[A\n",
      "Metrics:  70%|\u001b[34m███████   \u001b[0m| 7/10 [00:21<00:16,  5.44s/it, Batch correction: kbet_per_label]\u001b[A\n",
      "Metrics:  70%|\u001b[34m███████   \u001b[0m| 7/10 [00:21<00:16,  5.44s/it, Batch correction: graph_connectivity]\u001b[A\n",
      "Metrics:  80%|\u001b[34m████████  \u001b[0m| 8/10 [00:21<00:10,  5.44s/it, Batch correction: pcr_comparison]    \u001b[A\n",
      "Embeddings: 100%|\u001b[32m██████████\u001b[0m| 1/1 [00:22<00:00, 22.21s/it]atch correction: pcr_comparison]\u001b[A\n",
      "\n",
      "                                                                                         \u001b[A/ictstr01/home/icb/fatemehs.hashemig/codes/interpretable-ssl/interpretable_ssl/trainers/trainer.py:250: FutureWarning: The frame.append method is deprecated and will be removed from pandas in a future version. Use pandas.concat instead.\n",
      "  overall_df = overall_df.append(fold_df, ignore_index=True)\n",
      "/ictstr01/home/icb/fatemehs.hashemig/codes/interpretable-ssl/interpretable_ssl/datasets/dataset.py:43: ImplicitModificationWarning: Trying to modify attribute `.obs` of view, initializing view as actual.\n",
      "  self.adata.obs['encoded_cell_type'] = self.le.transform(self.adata.obs.cell_type)\n"
     ]
    },
    {
     "name": "stdout",
     "output_type": "stream",
     "text": [
      "Evaluating fold 2\n",
      "\u001b[34mINFO    \u001b[0m File \u001b[35m/home/icb/fatemehs.hashemig/models/\u001b[0m\u001b[35m/pbmc-immune/\u001b[0m\u001b[35m/scvi-latent_dim8/fold-2/\u001b[0m\u001b[95mmodel.pt\u001b[0m already downloaded \n"
     ]
    },
    {
     "name": "stderr",
     "output_type": "stream",
     "text": [
      "/ictstr01/home/icb/fatemehs.hashemig/codes/interpretable-ssl/interpretable_ssl/datasets/dataset.py:43: ImplicitModificationWarning: Trying to modify attribute `.obs` of view, initializing view as actual.\n",
      "  self.adata.obs['encoded_cell_type'] = self.le.transform(self.adata.obs.cell_type)\n",
      "/home/icb/fatemehs.hashemig/miniconda3/envs/interpretable-ssl/lib/python3.12/site-packages/scvi/data/fields/_layer_field.py:91: UserWarning: adata.layers[counts] does not contain unnormalized count data. Are you sure this is what you want?\n",
      "  warnings.warn(\n",
      "/home/icb/fatemehs.hashemig/miniconda3/envs/interpretable-ssl/lib/python3.12/multiprocessing/popen_fork.py:66: RuntimeWarning: os.fork() was called. os.fork() is incompatible with multithreaded code, and JAX is multithreaded, so this will likely lead to a deadlock.\n",
      "  self.pid = os.fork()\n",
      "/home/icb/fatemehs.hashemig/miniconda3/envs/interpretable-ssl/lib/python3.12/multiprocessing/popen_fork.py:66: RuntimeWarning: os.fork() was called. os.fork() is incompatible with multithreaded code, and JAX is multithreaded, so this will likely lead to a deadlock.\n",
      "  self.pid = os.fork()\n",
      "INFO:pytorch_lightning.trainer.connectors.signal_connector:bypassing sigterm\n",
      "INFO:pytorch_lightning.trainer.connectors.signal_connector:bypassing sigterm\n",
      "INFO:pytorch_lightning.trainer.connectors.signal_connector:bypassing sigterm\n",
      "INFO:pytorch_lightning.utilities.rank_zero:Multiprocessing is handled by SLURM.\n",
      "INFO:pytorch_lightning.trainer.connectors.signal_connector:bypassing sigterm\n",
      "INFO:pytorch_lightning.utilities.rank_zero:GPU available: True (cuda), used: True\n",
      "INFO:pytorch_lightning.utilities.rank_zero:TPU available: False, using: 0 TPU cores\n",
      "INFO:pytorch_lightning.utilities.rank_zero:IPU available: False, using: 0 IPUs\n",
      "INFO:pytorch_lightning.utilities.rank_zero:HPU available: False, using: 0 HPUs\n",
      "INFO:pytorch_lightning.trainer.connectors.signal_connector:bypassing sigterm\n",
      "/home/icb/fatemehs.hashemig/miniconda3/envs/interpretable-ssl/lib/python3.12/multiprocessing/popen_fork.py:66: RuntimeWarning: os.fork() was called. os.fork() is incompatible with multithreaded code, and JAX is multithreaded, so this will likely lead to a deadlock.\n",
      "  self.pid = os.fork()\n",
      "INFO:pytorch_lightning.trainer.connectors.signal_connector:bypassing sigterm\n",
      "/home/icb/fatemehs.hashemig/miniconda3/envs/interpretable-ssl/lib/python3.12/multiprocessing/popen_fork.py:66: RuntimeWarning: os.fork() was called. os.fork() is incompatible with multithreaded code, and JAX is multithreaded, so this will likely lead to a deadlock.\n",
      "  self.pid = os.fork()\n",
      "INFO:pytorch_lightning.accelerators.cuda:LOCAL_RANK: 0 - CUDA_VISIBLE_DEVICES: [0]\n",
      "INFO:pytorch_lightning.trainer.connectors.signal_connector:SLURM auto-requeueing enabled. Setting signal handlers.\n",
      "/home/icb/fatemehs.hashemig/miniconda3/envs/interpretable-ssl/lib/python3.12/site-packages/pytorch_lightning/trainer/trainer.py:1892: PossibleUserWarning: The number of training batches (8) is smaller than the logging interval Trainer(log_every_n_steps=10). Set a lower value for log_every_n_steps if you want to see logs for the training epoch.\n",
      "  rank_zero_warn(\n"
     ]
    },
    {
     "name": "stdout",
     "output_type": "stream",
     "text": [
      "Epoch 50/50: 100%|██████████| 50/50 [00:02<00:00, 22.64it/s, loss=2.74e+04, v_num=1]"
     ]
    },
    {
     "name": "stderr",
     "output_type": "stream",
     "text": [
      "INFO:pytorch_lightning.utilities.rank_zero:`Trainer.fit` stopped: `max_epochs=50` reached.\n"
     ]
    },
    {
     "name": "stdout",
     "output_type": "stream",
     "text": [
      "Epoch 50/50: 100%|██████████| 50/50 [00:02<00:00, 23.04it/s, loss=2.74e+04, v_num=1]\n",
      "\u001b[34mINFO    \u001b[0m AnnData object appears to be a copy. Attempting to transfer setup.                                        \n",
      "\u001b[34mINFO    \u001b[0m AnnData object appears to be a copy. Attempting to transfer setup.                                        \n"
     ]
    },
    {
     "name": "stderr",
     "output_type": "stream",
     "text": [
      "Computing neighbors: 100%|██████████| 1/1 [00:11<00:00, 11.82s/it]\n",
      "Embeddings:   0%|\u001b[32m          \u001b[0m| 0/1 [00:00<?, ?it/s]\n",
      "Metrics:   0%|\u001b[34m          \u001b[0m| 0/10 [00:00<?, ?it/s]\u001b[A\n",
      "Metrics:   0%|\u001b[34m          \u001b[0m| 0/10 [00:00<?, ?it/s, Bio conservation: isolated_labels]\u001b[A\n",
      "Metrics:  10%|\u001b[34m█         \u001b[0m| 1/10 [00:01<00:12,  1.39s/it, Bio conservation: isolated_labels]\u001b[A\n",
      "Metrics:  10%|\u001b[34m█         \u001b[0m| 1/10 [00:01<00:12,  1.39s/it, Bio conservation: nmi_ari_cluster_labels_kmeans]\u001b[A\n",
      "Metrics:  20%|\u001b[34m██        \u001b[0m| 2/10 [00:03<00:12,  1.55s/it, Bio conservation: nmi_ari_cluster_labels_kmeans]\u001b[A\n",
      "Metrics:  20%|\u001b[34m██        \u001b[0m| 2/10 [00:03<00:12,  1.55s/it, Bio conservation: silhouette_label]             \u001b[A\n",
      "Metrics:  30%|\u001b[34m███       \u001b[0m| 3/10 [00:04<00:10,  1.47s/it, Bio conservation: silhouette_label]\u001b[A\n",
      "Metrics:  30%|\u001b[34m███       \u001b[0m| 3/10 [00:04<00:10,  1.47s/it, Bio conservation: clisi_knn]       \u001b[A\n",
      "Metrics:  40%|\u001b[34m████      \u001b[0m| 4/10 [00:04<00:05,  1.07it/s, Bio conservation: clisi_knn]\u001b[A\n",
      "Metrics:  40%|\u001b[34m████      \u001b[0m| 4/10 [00:04<00:05,  1.07it/s, Batch correction: silhouette_batch]\u001b[A\n",
      "Metrics:  50%|\u001b[34m█████     \u001b[0m| 5/10 [00:04<00:03,  1.41it/s, Batch correction: silhouette_batch]\u001b[A\n",
      "Metrics:  50%|\u001b[34m█████     \u001b[0m| 5/10 [00:04<00:03,  1.41it/s, Batch correction: ilisi_knn]       \u001b[A\n",
      "Metrics:  60%|\u001b[34m██████    \u001b[0m| 6/10 [00:04<00:02,  1.96it/s, Batch correction: ilisi_knn]\u001b[A\n",
      "Metrics:  60%|\u001b[34m██████    \u001b[0m| 6/10 [00:04<00:02,  1.96it/s, Batch correction: kbet_per_label]\u001b[A\n",
      "Metrics:  70%|\u001b[34m███████   \u001b[0m| 7/10 [00:20<00:16,  5.43s/it, Batch correction: kbet_per_label]\u001b[A\n",
      "Metrics:  70%|\u001b[34m███████   \u001b[0m| 7/10 [00:20<00:16,  5.43s/it, Batch correction: graph_connectivity]\u001b[A\n",
      "Metrics:  80%|\u001b[34m████████  \u001b[0m| 8/10 [00:20<00:10,  5.43s/it, Batch correction: pcr_comparison]    \u001b[A\n",
      "Embeddings: 100%|\u001b[32m██████████\u001b[0m| 1/1 [00:20<00:00, 20.64s/it]atch correction: pcr_comparison]\u001b[A\n",
      "\n",
      "                                                                                         \u001b[A/ictstr01/home/icb/fatemehs.hashemig/codes/interpretable-ssl/interpretable_ssl/trainers/trainer.py:250: FutureWarning: The frame.append method is deprecated and will be removed from pandas in a future version. Use pandas.concat instead.\n",
      "  overall_df = overall_df.append(fold_df, ignore_index=True)\n",
      "/ictstr01/home/icb/fatemehs.hashemig/codes/interpretable-ssl/interpretable_ssl/datasets/dataset.py:43: ImplicitModificationWarning: Trying to modify attribute `.obs` of view, initializing view as actual.\n",
      "  self.adata.obs['encoded_cell_type'] = self.le.transform(self.adata.obs.cell_type)\n"
     ]
    },
    {
     "name": "stdout",
     "output_type": "stream",
     "text": [
      "Evaluating fold 3\n",
      "\u001b[34mINFO    \u001b[0m File \u001b[35m/home/icb/fatemehs.hashemig/models/\u001b[0m\u001b[35m/pbmc-immune/\u001b[0m\u001b[35m/scvi-latent_dim8/fold-3/\u001b[0m\u001b[95mmodel.pt\u001b[0m already downloaded \n"
     ]
    },
    {
     "name": "stderr",
     "output_type": "stream",
     "text": [
      "/ictstr01/home/icb/fatemehs.hashemig/codes/interpretable-ssl/interpretable_ssl/datasets/dataset.py:43: ImplicitModificationWarning: Trying to modify attribute `.obs` of view, initializing view as actual.\n",
      "  self.adata.obs['encoded_cell_type'] = self.le.transform(self.adata.obs.cell_type)\n",
      "/home/icb/fatemehs.hashemig/miniconda3/envs/interpretable-ssl/lib/python3.12/multiprocessing/popen_fork.py:66: RuntimeWarning: os.fork() was called. os.fork() is incompatible with multithreaded code, and JAX is multithreaded, so this will likely lead to a deadlock.\n",
      "  self.pid = os.fork()\n",
      "INFO:pytorch_lightning.trainer.connectors.signal_connector:bypassing sigterm\n",
      "/home/icb/fatemehs.hashemig/miniconda3/envs/interpretable-ssl/lib/python3.12/multiprocessing/popen_fork.py:66: RuntimeWarning: os.fork() was called. os.fork() is incompatible with multithreaded code, and JAX is multithreaded, so this will likely lead to a deadlock.\n",
      "  self.pid = os.fork()\n",
      "INFO:pytorch_lightning.trainer.connectors.signal_connector:bypassing sigterm\n",
      "INFO:pytorch_lightning.trainer.connectors.signal_connector:bypassing sigterm\n",
      "INFO:pytorch_lightning.utilities.rank_zero:Multiprocessing is handled by SLURM.\n",
      "INFO:pytorch_lightning.trainer.connectors.signal_connector:bypassing sigterm\n",
      "INFO:pytorch_lightning.utilities.rank_zero:GPU available: True (cuda), used: True\n",
      "INFO:pytorch_lightning.utilities.rank_zero:TPU available: False, using: 0 TPU cores\n",
      "INFO:pytorch_lightning.utilities.rank_zero:IPU available: False, using: 0 IPUs\n",
      "INFO:pytorch_lightning.utilities.rank_zero:HPU available: False, using: 0 HPUs\n",
      "INFO:pytorch_lightning.trainer.connectors.signal_connector:bypassing sigterm\n",
      "/home/icb/fatemehs.hashemig/miniconda3/envs/interpretable-ssl/lib/python3.12/multiprocessing/popen_fork.py:66: RuntimeWarning: os.fork() was called. os.fork() is incompatible with multithreaded code, and JAX is multithreaded, so this will likely lead to a deadlock.\n",
      "  self.pid = os.fork()\n",
      "INFO:pytorch_lightning.trainer.connectors.signal_connector:bypassing sigterm\n",
      "/home/icb/fatemehs.hashemig/miniconda3/envs/interpretable-ssl/lib/python3.12/multiprocessing/popen_fork.py:66: RuntimeWarning: os.fork() was called. os.fork() is incompatible with multithreaded code, and JAX is multithreaded, so this will likely lead to a deadlock.\n",
      "  self.pid = os.fork()\n",
      "INFO:pytorch_lightning.accelerators.cuda:LOCAL_RANK: 0 - CUDA_VISIBLE_DEVICES: [0]\n",
      "INFO:pytorch_lightning.trainer.connectors.signal_connector:SLURM auto-requeueing enabled. Setting signal handlers.\n"
     ]
    },
    {
     "name": "stdout",
     "output_type": "stream",
     "text": [
      "Epoch 50/50: 100%|██████████| 50/50 [00:18<00:00,  2.70it/s, loss=1.27e+03, v_num=1]"
     ]
    },
    {
     "name": "stderr",
     "output_type": "stream",
     "text": [
      "INFO:pytorch_lightning.utilities.rank_zero:`Trainer.fit` stopped: `max_epochs=50` reached.\n"
     ]
    },
    {
     "name": "stdout",
     "output_type": "stream",
     "text": [
      "Epoch 50/50: 100%|██████████| 50/50 [00:18<00:00,  2.68it/s, loss=1.27e+03, v_num=1]\n",
      "\u001b[34mINFO    \u001b[0m AnnData object appears to be a copy. Attempting to transfer setup.                                        \n",
      "\u001b[34mINFO    \u001b[0m AnnData object appears to be a copy. Attempting to transfer setup.                                        \n"
     ]
    },
    {
     "name": "stderr",
     "output_type": "stream",
     "text": [
      "Computing neighbors: 100%|██████████| 1/1 [00:12<00:00, 12.41s/it]\n",
      "Embeddings:   0%|\u001b[32m          \u001b[0m| 0/1 [00:00<?, ?it/s]\n",
      "Metrics:   0%|\u001b[34m          \u001b[0m| 0/10 [00:00<?, ?it/s]\u001b[A\n",
      "Metrics:   0%|\u001b[34m          \u001b[0m| 0/10 [00:00<?, ?it/s, Bio conservation: isolated_labels]\u001b[A\n",
      "Metrics:  10%|\u001b[34m█         \u001b[0m| 1/10 [00:01<00:13,  1.49s/it, Bio conservation: isolated_labels]\u001b[A\n",
      "Metrics:  10%|\u001b[34m█         \u001b[0m| 1/10 [00:01<00:13,  1.49s/it, Bio conservation: nmi_ari_cluster_labels_kmeans]\u001b[A\n",
      "Metrics:  20%|\u001b[34m██        \u001b[0m| 2/10 [00:03<00:13,  1.64s/it, Bio conservation: nmi_ari_cluster_labels_kmeans]\u001b[A\n",
      "Metrics:  20%|\u001b[34m██        \u001b[0m| 2/10 [00:03<00:13,  1.64s/it, Bio conservation: silhouette_label]             \u001b[A\n",
      "Metrics:  30%|\u001b[34m███       \u001b[0m| 3/10 [00:04<00:11,  1.61s/it, Bio conservation: silhouette_label]\u001b[A\n",
      "Metrics:  30%|\u001b[34m███       \u001b[0m| 3/10 [00:04<00:11,  1.61s/it, Bio conservation: clisi_knn]       \u001b[A\n",
      "Metrics:  40%|\u001b[34m████      \u001b[0m| 4/10 [00:04<00:06,  1.02s/it, Bio conservation: clisi_knn]\u001b[A\n",
      "Metrics:  40%|\u001b[34m████      \u001b[0m| 4/10 [00:04<00:06,  1.02s/it, Batch correction: silhouette_batch]\u001b[A\n",
      "Metrics:  50%|\u001b[34m█████     \u001b[0m| 5/10 [00:05<00:03,  1.30it/s, Batch correction: silhouette_batch]\u001b[A\n",
      "Metrics:  50%|\u001b[34m█████     \u001b[0m| 5/10 [00:05<00:03,  1.30it/s, Batch correction: ilisi_knn]       \u001b[A\n",
      "Metrics:  60%|\u001b[34m██████    \u001b[0m| 6/10 [00:05<00:02,  1.81it/s, Batch correction: ilisi_knn]\u001b[A\n",
      "Metrics:  60%|\u001b[34m██████    \u001b[0m| 6/10 [00:05<00:02,  1.81it/s, Batch correction: kbet_per_label]\u001b[A\n",
      "Metrics:  70%|\u001b[34m███████   \u001b[0m| 7/10 [00:21<00:16,  5.65s/it, Batch correction: kbet_per_label]\u001b[A\n",
      "Metrics:  70%|\u001b[34m███████   \u001b[0m| 7/10 [00:21<00:16,  5.65s/it, Batch correction: graph_connectivity]\u001b[A\n",
      "Metrics:  80%|\u001b[34m████████  \u001b[0m| 8/10 [00:21<00:11,  5.65s/it, Batch correction: pcr_comparison]    \u001b[A\n",
      "Embeddings: 100%|\u001b[32m██████████\u001b[0m| 1/1 [00:21<00:00, 21.66s/it]atch correction: pcr_comparison]\u001b[A\n",
      "\n",
      "                                                                                         \u001b[A/ictstr01/home/icb/fatemehs.hashemig/codes/interpretable-ssl/interpretable_ssl/trainers/trainer.py:250: FutureWarning: The frame.append method is deprecated and will be removed from pandas in a future version. Use pandas.concat instead.\n",
      "  overall_df = overall_df.append(fold_df, ignore_index=True)\n",
      "/ictstr01/home/icb/fatemehs.hashemig/codes/interpretable-ssl/interpretable_ssl/datasets/dataset.py:43: ImplicitModificationWarning: Trying to modify attribute `.obs` of view, initializing view as actual.\n",
      "  self.adata.obs['encoded_cell_type'] = self.le.transform(self.adata.obs.cell_type)\n"
     ]
    },
    {
     "name": "stdout",
     "output_type": "stream",
     "text": [
      "Evaluating fold 4\n",
      "\u001b[34mINFO    \u001b[0m File \u001b[35m/home/icb/fatemehs.hashemig/models/\u001b[0m\u001b[35m/pbmc-immune/\u001b[0m\u001b[35m/scvi-latent_dim8/fold-4/\u001b[0m\u001b[95mmodel.pt\u001b[0m already downloaded \n"
     ]
    },
    {
     "name": "stderr",
     "output_type": "stream",
     "text": [
      "/ictstr01/home/icb/fatemehs.hashemig/codes/interpretable-ssl/interpretable_ssl/datasets/dataset.py:43: ImplicitModificationWarning: Trying to modify attribute `.obs` of view, initializing view as actual.\n",
      "  self.adata.obs['encoded_cell_type'] = self.le.transform(self.adata.obs.cell_type)\n",
      "/home/icb/fatemehs.hashemig/miniconda3/envs/interpretable-ssl/lib/python3.12/multiprocessing/popen_fork.py:66: RuntimeWarning: os.fork() was called. os.fork() is incompatible with multithreaded code, and JAX is multithreaded, so this will likely lead to a deadlock.\n",
      "  self.pid = os.fork()\n",
      "INFO:pytorch_lightning.trainer.connectors.signal_connector:bypassing sigterm\n",
      "/home/icb/fatemehs.hashemig/miniconda3/envs/interpretable-ssl/lib/python3.12/multiprocessing/popen_fork.py:66: RuntimeWarning: os.fork() was called. os.fork() is incompatible with multithreaded code, and JAX is multithreaded, so this will likely lead to a deadlock.\n",
      "  self.pid = os.fork()\n",
      "INFO:pytorch_lightning.trainer.connectors.signal_connector:bypassing sigterm\n",
      "INFO:pytorch_lightning.trainer.connectors.signal_connector:bypassing sigterm\n",
      "INFO:pytorch_lightning.utilities.rank_zero:Multiprocessing is handled by SLURM.\n",
      "INFO:pytorch_lightning.trainer.connectors.signal_connector:bypassing sigterm\n",
      "INFO:pytorch_lightning.utilities.rank_zero:GPU available: True (cuda), used: True\n",
      "INFO:pytorch_lightning.utilities.rank_zero:TPU available: False, using: 0 TPU cores\n",
      "INFO:pytorch_lightning.utilities.rank_zero:IPU available: False, using: 0 IPUs\n",
      "INFO:pytorch_lightning.utilities.rank_zero:HPU available: False, using: 0 HPUs\n",
      "INFO:pytorch_lightning.trainer.connectors.signal_connector:bypassing sigterm\n",
      "/home/icb/fatemehs.hashemig/miniconda3/envs/interpretable-ssl/lib/python3.12/multiprocessing/popen_fork.py:66: RuntimeWarning: os.fork() was called. os.fork() is incompatible with multithreaded code, and JAX is multithreaded, so this will likely lead to a deadlock.\n",
      "  self.pid = os.fork()\n",
      "INFO:pytorch_lightning.trainer.connectors.signal_connector:bypassing sigterm\n",
      "/home/icb/fatemehs.hashemig/miniconda3/envs/interpretable-ssl/lib/python3.12/multiprocessing/popen_fork.py:66: RuntimeWarning: os.fork() was called. os.fork() is incompatible with multithreaded code, and JAX is multithreaded, so this will likely lead to a deadlock.\n",
      "  self.pid = os.fork()\n",
      "INFO:pytorch_lightning.accelerators.cuda:LOCAL_RANK: 0 - CUDA_VISIBLE_DEVICES: [0]\n",
      "INFO:pytorch_lightning.trainer.connectors.signal_connector:SLURM auto-requeueing enabled. Setting signal handlers.\n"
     ]
    },
    {
     "name": "stdout",
     "output_type": "stream",
     "text": [
      "Epoch 50/50: 100%|██████████| 50/50 [00:16<00:00,  2.93it/s, loss=1.08e+03, v_num=1]"
     ]
    },
    {
     "name": "stderr",
     "output_type": "stream",
     "text": [
      "INFO:pytorch_lightning.utilities.rank_zero:`Trainer.fit` stopped: `max_epochs=50` reached.\n"
     ]
    },
    {
     "name": "stdout",
     "output_type": "stream",
     "text": [
      "Epoch 50/50: 100%|██████████| 50/50 [00:16<00:00,  2.97it/s, loss=1.08e+03, v_num=1]\n",
      "\u001b[34mINFO    \u001b[0m AnnData object appears to be a copy. Attempting to transfer setup.                                        \n",
      "\u001b[34mINFO    \u001b[0m AnnData object appears to be a copy. Attempting to transfer setup.                                        \n"
     ]
    },
    {
     "name": "stderr",
     "output_type": "stream",
     "text": [
      "Computing neighbors: 100%|██████████| 1/1 [00:12<00:00, 12.25s/it]\n",
      "Embeddings:   0%|\u001b[32m          \u001b[0m| 0/1 [00:00<?, ?it/s]\n",
      "Metrics:   0%|\u001b[34m          \u001b[0m| 0/10 [00:00<?, ?it/s]\u001b[A\n",
      "Metrics:   0%|\u001b[34m          \u001b[0m| 0/10 [00:00<?, ?it/s, Bio conservation: isolated_labels]\u001b[A\n",
      "Metrics:  10%|\u001b[34m█         \u001b[0m| 1/10 [00:01<00:14,  1.60s/it, Bio conservation: isolated_labels]\u001b[A\n",
      "Metrics:  10%|\u001b[34m█         \u001b[0m| 1/10 [00:01<00:14,  1.60s/it, Bio conservation: nmi_ari_cluster_labels_kmeans]\u001b[A\n",
      "Metrics:  20%|\u001b[34m██        \u001b[0m| 2/10 [00:03<00:13,  1.65s/it, Bio conservation: nmi_ari_cluster_labels_kmeans]\u001b[A\n",
      "Metrics:  20%|\u001b[34m██        \u001b[0m| 2/10 [00:03<00:13,  1.65s/it, Bio conservation: silhouette_label]             \u001b[A\n",
      "Metrics:  30%|\u001b[34m███       \u001b[0m| 3/10 [00:04<00:10,  1.56s/it, Bio conservation: silhouette_label]\u001b[A\n",
      "Metrics:  30%|\u001b[34m███       \u001b[0m| 3/10 [00:04<00:10,  1.56s/it, Bio conservation: clisi_knn]       \u001b[A\n",
      "Metrics:  40%|\u001b[34m████      \u001b[0m| 4/10 [00:04<00:05,  1.00it/s, Bio conservation: clisi_knn]\u001b[A\n",
      "Metrics:  40%|\u001b[34m████      \u001b[0m| 4/10 [00:04<00:05,  1.00it/s, Batch correction: silhouette_batch]\u001b[A\n",
      "Metrics:  50%|\u001b[34m█████     \u001b[0m| 5/10 [00:05<00:03,  1.32it/s, Batch correction: silhouette_batch]\u001b[A\n",
      "Metrics:  50%|\u001b[34m█████     \u001b[0m| 5/10 [00:05<00:03,  1.32it/s, Batch correction: ilisi_knn]       \u001b[A\n",
      "Metrics:  60%|\u001b[34m██████    \u001b[0m| 6/10 [00:05<00:02,  1.84it/s, Batch correction: ilisi_knn]\u001b[A\n",
      "Metrics:  60%|\u001b[34m██████    \u001b[0m| 6/10 [00:05<00:02,  1.84it/s, Batch correction: kbet_per_label]\u001b[A\n",
      "Metrics:  70%|\u001b[34m███████   \u001b[0m| 7/10 [00:22<00:18,  6.03s/it, Batch correction: kbet_per_label]\u001b[A\n",
      "Metrics:  70%|\u001b[34m███████   \u001b[0m| 7/10 [00:22<00:18,  6.03s/it, Batch correction: graph_connectivity]\u001b[A\n",
      "Metrics:  80%|\u001b[34m████████  \u001b[0m| 8/10 [00:22<00:12,  6.03s/it, Batch correction: pcr_comparison]    \u001b[A\n",
      "Embeddings: 100%|\u001b[32m██████████\u001b[0m| 1/1 [00:22<00:00, 22.79s/it]atch correction: pcr_comparison]\u001b[A\n",
      "\n",
      "                                                                                         \u001b[A/ictstr01/home/icb/fatemehs.hashemig/codes/interpretable-ssl/interpretable_ssl/trainers/trainer.py:250: FutureWarning: The frame.append method is deprecated and will be removed from pandas in a future version. Use pandas.concat instead.\n",
      "  overall_df = overall_df.append(fold_df, ignore_index=True)\n",
      "/ictstr01/home/icb/fatemehs.hashemig/codes/interpretable-ssl/interpretable_ssl/datasets/dataset.py:43: ImplicitModificationWarning: Trying to modify attribute `.obs` of view, initializing view as actual.\n",
      "  self.adata.obs['encoded_cell_type'] = self.le.transform(self.adata.obs.cell_type)\n"
     ]
    },
    {
     "name": "stdout",
     "output_type": "stream",
     "text": [
      "Evaluating fold 5\n",
      "\u001b[34mINFO    \u001b[0m File \u001b[35m/home/icb/fatemehs.hashemig/models/\u001b[0m\u001b[35m/pbmc-immune/\u001b[0m\u001b[35m/scvi-latent_dim8/fold-5/\u001b[0m\u001b[95mmodel.pt\u001b[0m already downloaded \n"
     ]
    },
    {
     "name": "stderr",
     "output_type": "stream",
     "text": [
      "/ictstr01/home/icb/fatemehs.hashemig/codes/interpretable-ssl/interpretable_ssl/datasets/dataset.py:43: ImplicitModificationWarning: Trying to modify attribute `.obs` of view, initializing view as actual.\n",
      "  self.adata.obs['encoded_cell_type'] = self.le.transform(self.adata.obs.cell_type)\n",
      "/home/icb/fatemehs.hashemig/miniconda3/envs/interpretable-ssl/lib/python3.12/multiprocessing/popen_fork.py:66: RuntimeWarning: os.fork() was called. os.fork() is incompatible with multithreaded code, and JAX is multithreaded, so this will likely lead to a deadlock.\n",
      "  self.pid = os.fork()\n",
      "INFO:pytorch_lightning.trainer.connectors.signal_connector:bypassing sigterm\n",
      "/home/icb/fatemehs.hashemig/miniconda3/envs/interpretable-ssl/lib/python3.12/multiprocessing/popen_fork.py:66: RuntimeWarning: os.fork() was called. os.fork() is incompatible with multithreaded code, and JAX is multithreaded, so this will likely lead to a deadlock.\n",
      "  self.pid = os.fork()\n",
      "INFO:pytorch_lightning.trainer.connectors.signal_connector:bypassing sigterm\n",
      "INFO:pytorch_lightning.trainer.connectors.signal_connector:bypassing sigterm\n",
      "INFO:pytorch_lightning.utilities.rank_zero:Multiprocessing is handled by SLURM.\n",
      "INFO:pytorch_lightning.trainer.connectors.signal_connector:bypassing sigterm\n",
      "INFO:pytorch_lightning.utilities.rank_zero:GPU available: True (cuda), used: True\n",
      "INFO:pytorch_lightning.utilities.rank_zero:TPU available: False, using: 0 TPU cores\n",
      "INFO:pytorch_lightning.utilities.rank_zero:IPU available: False, using: 0 IPUs\n",
      "INFO:pytorch_lightning.utilities.rank_zero:HPU available: False, using: 0 HPUs\n",
      "INFO:pytorch_lightning.trainer.connectors.signal_connector:bypassing sigterm\n",
      "/home/icb/fatemehs.hashemig/miniconda3/envs/interpretable-ssl/lib/python3.12/multiprocessing/popen_fork.py:66: RuntimeWarning: os.fork() was called. os.fork() is incompatible with multithreaded code, and JAX is multithreaded, so this will likely lead to a deadlock.\n",
      "  self.pid = os.fork()\n",
      "/home/icb/fatemehs.hashemig/miniconda3/envs/interpretable-ssl/lib/python3.12/multiprocessing/popen_fork.py:66: RuntimeWarning: os.fork() was called. os.fork() is incompatible with multithreaded code, and JAX is multithreaded, so this will likely lead to a deadlock.\n",
      "  self.pid = os.fork()\n",
      "INFO:pytorch_lightning.trainer.connectors.signal_connector:bypassing sigterm\n",
      "INFO:pytorch_lightning.accelerators.cuda:LOCAL_RANK: 0 - CUDA_VISIBLE_DEVICES: [0]\n",
      "INFO:pytorch_lightning.trainer.connectors.signal_connector:SLURM auto-requeueing enabled. Setting signal handlers.\n"
     ]
    },
    {
     "name": "stdout",
     "output_type": "stream",
     "text": [
      "Epoch 50/50: 100%|██████████| 50/50 [00:15<00:00,  3.24it/s, loss=650, v_num=1]"
     ]
    },
    {
     "name": "stderr",
     "output_type": "stream",
     "text": [
      "INFO:pytorch_lightning.utilities.rank_zero:`Trainer.fit` stopped: `max_epochs=50` reached.\n"
     ]
    },
    {
     "name": "stdout",
     "output_type": "stream",
     "text": [
      "Epoch 50/50: 100%|██████████| 50/50 [00:15<00:00,  3.23it/s, loss=650, v_num=1]\n",
      "\u001b[34mINFO    \u001b[0m AnnData object appears to be a copy. Attempting to transfer setup.                                        \n",
      "\u001b[34mINFO    \u001b[0m AnnData object appears to be a copy. Attempting to transfer setup.                                        \n"
     ]
    },
    {
     "name": "stderr",
     "output_type": "stream",
     "text": [
      "Computing neighbors: 100%|██████████| 1/1 [00:12<00:00, 12.31s/it]\n",
      "Embeddings:   0%|\u001b[32m          \u001b[0m| 0/1 [00:00<?, ?it/s]\n",
      "Metrics:   0%|\u001b[34m          \u001b[0m| 0/10 [00:00<?, ?it/s]\u001b[A\n",
      "Metrics:   0%|\u001b[34m          \u001b[0m| 0/10 [00:00<?, ?it/s, Bio conservation: isolated_labels]\u001b[A\n",
      "Metrics:  10%|\u001b[34m█         \u001b[0m| 1/10 [00:01<00:13,  1.55s/it, Bio conservation: isolated_labels]\u001b[A\n",
      "Metrics:  10%|\u001b[34m█         \u001b[0m| 1/10 [00:01<00:13,  1.55s/it, Bio conservation: nmi_ari_cluster_labels_kmeans]\u001b[A\n",
      "Metrics:  20%|\u001b[34m██        \u001b[0m| 2/10 [00:03<00:12,  1.62s/it, Bio conservation: nmi_ari_cluster_labels_kmeans]\u001b[A\n",
      "Metrics:  20%|\u001b[34m██        \u001b[0m| 2/10 [00:03<00:12,  1.62s/it, Bio conservation: silhouette_label]             \u001b[A\n",
      "Metrics:  30%|\u001b[34m███       \u001b[0m| 3/10 [00:04<00:10,  1.53s/it, Bio conservation: silhouette_label]\u001b[A\n",
      "Metrics:  30%|\u001b[34m███       \u001b[0m| 3/10 [00:04<00:10,  1.53s/it, Bio conservation: clisi_knn]       \u001b[A\n",
      "Metrics:  40%|\u001b[34m████      \u001b[0m| 4/10 [00:04<00:05,  1.03it/s, Bio conservation: clisi_knn]\u001b[A\n",
      "Metrics:  40%|\u001b[34m████      \u001b[0m| 4/10 [00:04<00:05,  1.03it/s, Batch correction: silhouette_batch]\u001b[A\n",
      "Metrics:  50%|\u001b[34m█████     \u001b[0m| 5/10 [00:05<00:03,  1.36it/s, Batch correction: silhouette_batch]\u001b[A\n",
      "Metrics:  50%|\u001b[34m█████     \u001b[0m| 5/10 [00:05<00:03,  1.36it/s, Batch correction: ilisi_knn]       \u001b[A\n",
      "Metrics:  60%|\u001b[34m██████    \u001b[0m| 6/10 [00:05<00:02,  1.88it/s, Batch correction: ilisi_knn]\u001b[A\n",
      "Metrics:  60%|\u001b[34m██████    \u001b[0m| 6/10 [00:05<00:02,  1.88it/s, Batch correction: kbet_per_label]\u001b[A\n",
      "Metrics:  70%|\u001b[34m███████   \u001b[0m| 7/10 [00:20<00:15,  5.27s/it, Batch correction: kbet_per_label]\u001b[A\n",
      "Metrics:  70%|\u001b[34m███████   \u001b[0m| 7/10 [00:20<00:15,  5.27s/it, Batch correction: graph_connectivity]\u001b[A\n",
      "Metrics:  80%|\u001b[34m████████  \u001b[0m| 8/10 [00:20<00:10,  5.27s/it, Batch correction: pcr_comparison]    \u001b[A\n",
      "Embeddings: 100%|\u001b[32m██████████\u001b[0m| 1/1 [00:20<00:00, 20.51s/it]atch correction: pcr_comparison]\u001b[A\n",
      "\n",
      "                                                                                         \u001b[A/ictstr01/home/icb/fatemehs.hashemig/codes/interpretable-ssl/interpretable_ssl/trainers/trainer.py:250: FutureWarning: The frame.append method is deprecated and will be removed from pandas in a future version. Use pandas.concat instead.\n",
      "  overall_df = overall_df.append(fold_df, ignore_index=True)\n"
     ]
    }
   ],
   "source": [
    "df = scvi.evaluate_kfold_models()\n",
    "trainer_mean = calculate_dataframe_mean(df)"
   ]
  },
  {
   "cell_type": "code",
   "execution_count": 32,
   "id": "04301d69-681e-48eb-90de-5165c5f35d1f",
   "metadata": {},
   "outputs": [
    {
     "data": {
      "text/html": [
       "<div>\n",
       "<style scoped>\n",
       "    .dataframe tbody tr th:only-of-type {\n",
       "        vertical-align: middle;\n",
       "    }\n",
       "\n",
       "    .dataframe tbody tr th {\n",
       "        vertical-align: top;\n",
       "    }\n",
       "\n",
       "    .dataframe thead th {\n",
       "        text-align: right;\n",
       "    }\n",
       "</style>\n",
       "<table border=\"1\" class=\"dataframe\">\n",
       "  <thead>\n",
       "    <tr style=\"text-align: right;\">\n",
       "      <th></th>\n",
       "      <th>Isolated labels</th>\n",
       "      <th>KMeans NMI</th>\n",
       "      <th>KMeans ARI</th>\n",
       "      <th>Silhouette label</th>\n",
       "      <th>cLISI</th>\n",
       "      <th>Silhouette batch</th>\n",
       "      <th>iLISI</th>\n",
       "      <th>KBET</th>\n",
       "      <th>Graph connectivity</th>\n",
       "      <th>PCR comparison</th>\n",
       "      <th>Batch correction</th>\n",
       "      <th>Bio conservation</th>\n",
       "      <th>Total</th>\n",
       "    </tr>\n",
       "  </thead>\n",
       "  <tbody>\n",
       "    <tr>\n",
       "      <th>0</th>\n",
       "      <td>0.622676</td>\n",
       "      <td>0.702011</td>\n",
       "      <td>0.462513</td>\n",
       "      <td>0.585135</td>\n",
       "      <td>0.996946</td>\n",
       "      <td>0.850566</td>\n",
       "      <td>0.192704</td>\n",
       "      <td>0.213258</td>\n",
       "      <td>0.873212</td>\n",
       "      <td>0.843924</td>\n",
       "      <td>0.594733</td>\n",
       "      <td>0.673856</td>\n",
       "      <td>0.642207</td>\n",
       "    </tr>\n",
       "  </tbody>\n",
       "</table>\n",
       "</div>"
      ],
      "text/plain": [
       "   Isolated labels  KMeans NMI  KMeans ARI  Silhouette label     cLISI  \\\n",
       "0         0.622676    0.702011    0.462513          0.585135  0.996946   \n",
       "\n",
       "   Silhouette batch     iLISI      KBET  Graph connectivity  PCR comparison  \\\n",
       "0          0.850566  0.192704  0.213258            0.873212        0.843924   \n",
       "\n",
       "   Batch correction  Bio conservation     Total  \n",
       "0          0.594733          0.673856  0.642207  "
      ]
     },
     "execution_count": 32,
     "metadata": {},
     "output_type": "execute_result"
    }
   ],
   "source": [
    "trainer_mean"
   ]
  },
  {
   "cell_type": "code",
   "execution_count": null,
   "id": "53e17779-131f-4f5a-83c4-034d614a0e8d",
   "metadata": {},
   "outputs": [],
   "source": []
  }
 ],
 "metadata": {
  "kernelspec": {
   "display_name": "Python 3 (ipykernel)",
   "language": "python",
   "name": "python3"
  },
  "language_info": {
   "codemirror_mode": {
    "name": "ipython",
    "version": 3
   },
   "file_extension": ".py",
   "mimetype": "text/x-python",
   "name": "python",
   "nbconvert_exporter": "python",
   "pygments_lexer": "ipython3",
   "version": "3.12.2"
  }
 },
 "nbformat": 4,
 "nbformat_minor": 5
}
