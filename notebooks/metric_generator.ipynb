{
 "cells": [
  {
   "cell_type": "code",
   "execution_count": 1,
   "id": "d53f210e-d220-4787-b126-fcc32db467bc",
   "metadata": {},
   "outputs": [],
   "source": [
    "import os\n",
    "\n",
    "os.chdir('/ictstr01/home/icb/fatemehs.hashemig/codes/interpretable-ssl')"
   ]
  },
  {
   "cell_type": "code",
   "execution_count": 2,
   "id": "48be2374-18f5-4149-9988-67d5e2083c4f",
   "metadata": {},
   "outputs": [],
   "source": [
    "import importlib"
   ]
  },
  {
   "cell_type": "code",
   "execution_count": 3,
   "id": "f2271a80-9ee5-4496-8c1b-184fa578c25a",
   "metadata": {},
   "outputs": [
    {
     "name": "stderr",
     "output_type": "stream",
     "text": [
      "WARNING:root:In order to use the mouse gastrulation seqFISH datsets, please install squidpy (see https://github.com/scverse/squidpy).\n",
      "INFO:pytorch_lightning.utilities.seed:Global seed set to 0\n",
      "/home/icb/fatemehs.hashemig/miniconda3/envs/apex-env/lib/python3.12/site-packages/pytorch_lightning/utilities/warnings.py:53: LightningDeprecationWarning: pytorch_lightning.utilities.warnings.rank_zero_deprecation has been deprecated in v1.6 and will be removed in v1.8. Use the equivalent function from the pytorch_lightning.utilities.rank_zero module instead.\n",
      "  new_rank_zero_deprecation(\n",
      "/home/icb/fatemehs.hashemig/miniconda3/envs/apex-env/lib/python3.12/site-packages/pytorch_lightning/utilities/warnings.py:58: LightningDeprecationWarning: The `pytorch_lightning.loggers.base.rank_zero_experiment` is deprecated in v1.7 and will be removed in v1.9. Please use `pytorch_lightning.loggers.logger.rank_zero_experiment` instead.\n",
      "  return new_rank_zero_deprecation(*args, **kwargs)\n",
      "WARNING:root:In order to use sagenet models, please install pytorch geometric (see https://pytorch-geometric.readthedocs.io) and \n",
      " captum (see https://github.com/pytorch/captum).\n",
      "WARNING:root:mvTCR is not installed. To use mvTCR models, please install it first using \"pip install mvtcr\"\n",
      "WARNING:root:multigrate is not installed. To use multigrate models, please install it first using \"pip install multigrate\".\n"
     ]
    }
   ],
   "source": [
    "from experiment_evaluator import *"
   ]
  },
  {
   "cell_type": "code",
   "execution_count": 4,
   "id": "ef7c40ad-4c14-4eac-a851-9461e8ef0530",
   "metadata": {},
   "outputs": [],
   "source": [
    "from interpretable_ssl.datasets.hlca import *"
   ]
  },
  {
   "cell_type": "code",
   "execution_count": 5,
   "id": "5a0796ea-09ee-4651-814d-653373e27ccd",
   "metadata": {},
   "outputs": [
    {
     "name": "stdout",
     "output_type": "stream",
     "text": [
      "loading hlca data\n"
     ]
    },
    {
     "name": "stderr",
     "output_type": "stream",
     "text": [
      "INFO:root:Starting '__init__' of class 'get train test'\n"
     ]
    },
    {
     "name": "stdout",
     "output_type": "stream",
     "text": [
      "done\n"
     ]
    },
    {
     "name": "stderr",
     "output_type": "stream",
     "text": [
      "INFO:root:Finished '__init__' of class 'get train test' in 3.4247 seconds\n"
     ]
    }
   ],
   "source": [
    "ds = HLCADataset()\n",
    "\n",
    "ee = ExperimentEvaluator(ds)"
   ]
  },
  {
   "cell_type": "code",
   "execution_count": 6,
   "id": "2f0447a7-805f-4f11-8bb1-c72bf0743a8e",
   "metadata": {},
   "outputs": [
    {
     "name": "stderr",
     "output_type": "stream",
     "text": [
      "Generating trainers for swav: 100%|██████████| 1/1 [00:00<00:00, 27.85it/s, Memory=14.0%, CPU=0.7%, trainer_name=swav_aug_knn_DR_pca_kN_7_ds_hlca]\n"
     ]
    }
   ],
   "source": [
    "td = {'swav': {\n",
    "            \"dimensionality_reduction\": [\"pca\"],\n",
    "            \"prot_decoding_loss_scaler\": [0],\n",
    "            \"cvae_loss_scaler\": [0.0],\n",
    "            \"k_neighbors\": [7],\n",
    "            \"training_type\": ['semi_supervised'],\n",
    "            \"fine_tuning_epochs\": [150],\n",
    "            \"pretraining_epochs\": [150],\n",
    "            \"augmentation_type\": [\"knn\"],\n",
    "            'batch_size': [1024],\n",
    "            'dataset_id':['hlca'],\n",
    "            'model_name_version': [3.5],\n",
    "            \"nmb_crops\": [[3]],\n",
    "    \n",
    "        }}\n",
    "\n",
    "trainers = ee.generate_trainers(td)"
   ]
  },
  {
   "cell_type": "code",
   "execution_count": 25,
   "id": "5cd38490-561e-40ee-a9aa-3e13f8f00136",
   "metadata": {},
   "outputs": [],
   "source": [
    "import interpretable_ssl.evaluation.metrics\n",
    "importlib.reload(interpretable_ssl.evaluation.metrics)\n",
    "\n",
    "import interpretable_ssl.evaluation.metric_generator\n",
    "importlib.reload(interpretable_ssl.evaluation.metric_generator)\n",
    "from interpretable_ssl.evaluation.metric_generator import *"
   ]
  },
  {
   "cell_type": "code",
   "execution_count": 26,
   "id": "1e8c8c18-a431-4392-b59f-48450140f438",
   "metadata": {},
   "outputs": [
    {
     "name": "stdout",
     "output_type": "stream",
     "text": [
      "Embedding dictionary:\n",
      " \tNum conditions: [9]\n",
      " \tEmbedding dim: [10]\n",
      "Encoder Architecture:\n",
      "\tInput Layer in, out and cond: 2000 45 10\n",
      "\tMean/Var Layer in/out: 45 8\n",
      "Decoder Architecture:\n",
      "\tFirst Layer in, out and cond:  8 45 10\n",
      "\tOutput Layer in/out:  45 2000 \n",
      "\n",
      "Embedding dictionary:\n",
      " \tNum conditions: [11]\n",
      " \tEmbedding dim: [10]\n",
      "Encoder Architecture:\n",
      "\tInput Layer in, out and cond: 2000 45 10\n",
      "\tMean/Var Layer in/out: 45 8\n",
      "Decoder Architecture:\n",
      "\tFirst Layer in, out and cond:  8 45 10\n",
      "\tOutput Layer in/out:  45 2000 \n",
      "\n"
     ]
    },
    {
     "name": "stderr",
     "output_type": "stream",
     "text": [
      "100%|██████████| 36/36 [00:03<00:00, 11.18it/s]\n"
     ]
    }
   ],
   "source": [
    "mg = MetricGenerator(trainers[0])\n",
    "\n",
    "calc = mg.get_query_calculator()"
   ]
  },
  {
   "cell_type": "code",
   "execution_count": 15,
   "id": "b5a88dc8-74f4-4a4a-81b6-c9dc2127068d",
   "metadata": {},
   "outputs": [],
   "source": [
    "mg.load_metrics()"
   ]
  },
  {
   "cell_type": "markdown",
   "id": "b6d964e9-7bde-44dc-85b6-efd804503ff0",
   "metadata": {
    "jp-MarkdownHeadingCollapsed": true
   },
   "source": [
    "# debug knn results"
   ]
  },
  {
   "cell_type": "code",
   "execution_count": 40,
   "id": "10f656e7-767c-4803-ad36-060dc452496f",
   "metadata": {},
   "outputs": [],
   "source": [
    "import interpretable_ssl.evaluation.knn\n",
    "importlib.reload(interpretable_ssl.evaluation.knn)\n",
    "from interpretable_ssl.evaluation.knn import *"
   ]
  },
  {
   "cell_type": "code",
   "execution_count": 41,
   "id": "14e79b8e-3eec-43ab-921d-701d26b0e56f",
   "metadata": {},
   "outputs": [],
   "source": [
    "embeddings, labels = calc.latents[0], self.adata.obs[self.label_key]\n",
    "test_size=0.2\n",
    "n_neighbors=5\n",
    "X_train, X_test, y_train, y_test, label_encoder = prepare_data(embeddings, labels, test_size)\n"
   ]
  },
  {
   "cell_type": "code",
   "execution_count": 42,
   "id": "af4ff059-eacd-4ffc-ad13-9bd88b782fd1",
   "metadata": {},
   "outputs": [
    {
     "data": {
      "text/plain": [
       "(36412, 36411)"
      ]
     },
     "execution_count": 42,
     "metadata": {},
     "output_type": "execute_result"
    }
   ],
   "source": [
    "len(trainers[0].query), len(X_train) + len(X_test)"
   ]
  },
  {
   "cell_type": "code",
   "execution_count": 43,
   "id": "ef936cee-ced4-4d1d-bf42-e9e7ea9087e2",
   "metadata": {},
   "outputs": [],
   "source": [
    "knn = train_knn_classifier(X_train, y_train, n_neighbors)"
   ]
  },
  {
   "cell_type": "code",
   "execution_count": 44,
   "id": "449961b9-9398-4418-b5a1-3b680601dfe3",
   "metadata": {},
   "outputs": [],
   "source": [
    "y_pred = knn.predict(X_test)"
   ]
  },
  {
   "cell_type": "code",
   "execution_count": 45,
   "id": "c112db12-838c-4565-b09e-651a8dbb1e01",
   "metadata": {},
   "outputs": [],
   "source": [
    "# Calculate F1 scores for each class and for micro, macro, and weighted averages\n",
    "class_f1_scores = f1_score(y_test, y_pred, average=None)\n",
    "micro_f1 = f1_score(y_test, y_pred, average='micro')\n",
    "macro_f1 = f1_score(y_test, y_pred, average='macro')\n",
    "weighted_f1 = f1_score(y_test, y_pred, average='weighted')"
   ]
  },
  {
   "cell_type": "code",
   "execution_count": 48,
   "id": "7a67229e-e622-4dae-b68b-606407f137db",
   "metadata": {},
   "outputs": [
    {
     "ename": "IndentationError",
     "evalue": "unexpected indent (1812737019.py, line 2)",
     "output_type": "error",
     "traceback": [
      "\u001b[0;36m  Cell \u001b[0;32mIn[48], line 2\u001b[0;36m\u001b[0m\n\u001b[0;31m    results = {\u001b[0m\n\u001b[0m    ^\u001b[0m\n\u001b[0;31mIndentationError\u001b[0m\u001b[0;31m:\u001b[0m unexpected indent\n"
     ]
    }
   ],
   "source": [
    "# Prepare a DataFrame for output\n",
    "results = {\n",
    "    'Class': label_encoder.classes_ if label_encoder else np.unique(y_test),\n",
    "    'F1 Score': class_f1_scores\n",
    "}"
   ]
  },
  {
   "cell_type": "code",
   "execution_count": 47,
   "id": "dda0baeb-8509-4650-8a63-965fb8f27e4f",
   "metadata": {},
   "outputs": [
    {
     "data": {
      "text/plain": [
       "43"
      ]
     },
     "execution_count": 47,
     "metadata": {},
     "output_type": "execute_result"
    }
   ],
   "source": [
    "len(label_encoder.classes_ )"
   ]
  },
  {
   "cell_type": "markdown",
   "id": "bf0514e2-fbba-4061-adfa-3a82c70d26e9",
   "metadata": {
    "jp-MarkdownHeadingCollapsed": true
   },
   "source": [
    "# debugging calc"
   ]
  },
  {
   "cell_type": "code",
   "execution_count": 54,
   "id": "751ec546-eeeb-4a4c-8b78-d8e1182e1708",
   "metadata": {},
   "outputs": [],
   "source": [
    "self = calc\n",
    "scores = knn_classifier_with_f1_report(calc.latents[0], self.adata.obs[self.label_key])"
   ]
  },
  {
   "cell_type": "code",
   "execution_count": 56,
   "id": "20711a83-6dfc-4c6d-8717-d06d58a9413b",
   "metadata": {
    "collapsed": true,
    "jupyter": {
     "outputs_hidden": true
    }
   },
   "outputs": [
    {
     "data": {
      "text/html": [
       "<div>\n",
       "<style scoped>\n",
       "    .dataframe tbody tr th:only-of-type {\n",
       "        vertical-align: middle;\n",
       "    }\n",
       "\n",
       "    .dataframe tbody tr th {\n",
       "        vertical-align: top;\n",
       "    }\n",
       "\n",
       "    .dataframe thead th {\n",
       "        text-align: right;\n",
       "    }\n",
       "</style>\n",
       "<table border=\"1\" class=\"dataframe\">\n",
       "  <thead>\n",
       "    <tr style=\"text-align: right;\">\n",
       "      <th></th>\n",
       "      <th>Class</th>\n",
       "      <th>F1 Score</th>\n",
       "    </tr>\n",
       "  </thead>\n",
       "  <tbody>\n",
       "    <tr>\n",
       "      <th>0</th>\n",
       "      <td>B cell</td>\n",
       "      <td>0.777778</td>\n",
       "    </tr>\n",
       "    <tr>\n",
       "      <th>1</th>\n",
       "      <td>CD1c-positive myeloid dendritic cell</td>\n",
       "      <td>0.642157</td>\n",
       "    </tr>\n",
       "    <tr>\n",
       "      <th>2</th>\n",
       "      <td>CD4-positive, alpha-beta T cell</td>\n",
       "      <td>0.876014</td>\n",
       "    </tr>\n",
       "    <tr>\n",
       "      <th>3</th>\n",
       "      <td>CD8-positive, alpha-beta T cell</td>\n",
       "      <td>0.828685</td>\n",
       "    </tr>\n",
       "    <tr>\n",
       "      <th>4</th>\n",
       "      <td>T cell</td>\n",
       "      <td>0.000000</td>\n",
       "    </tr>\n",
       "    <tr>\n",
       "      <th>5</th>\n",
       "      <td>alveolar macrophage</td>\n",
       "      <td>0.918935</td>\n",
       "    </tr>\n",
       "    <tr>\n",
       "      <th>6</th>\n",
       "      <td>alveolar type 1 fibroblast cell</td>\n",
       "      <td>0.737430</td>\n",
       "    </tr>\n",
       "    <tr>\n",
       "      <th>7</th>\n",
       "      <td>alveolar type 2 fibroblast cell</td>\n",
       "      <td>0.823129</td>\n",
       "    </tr>\n",
       "    <tr>\n",
       "      <th>8</th>\n",
       "      <td>bronchial goblet cell</td>\n",
       "      <td>0.000000</td>\n",
       "    </tr>\n",
       "    <tr>\n",
       "      <th>9</th>\n",
       "      <td>bronchus fibroblast of lung</td>\n",
       "      <td>0.333333</td>\n",
       "    </tr>\n",
       "    <tr>\n",
       "      <th>10</th>\n",
       "      <td>capillary endothelial cell</td>\n",
       "      <td>0.699725</td>\n",
       "    </tr>\n",
       "    <tr>\n",
       "      <th>11</th>\n",
       "      <td>ciliated columnar cell of tracheobronchial tree</td>\n",
       "      <td>0.964539</td>\n",
       "    </tr>\n",
       "    <tr>\n",
       "      <th>12</th>\n",
       "      <td>classical monocyte</td>\n",
       "      <td>0.773463</td>\n",
       "    </tr>\n",
       "    <tr>\n",
       "      <th>13</th>\n",
       "      <td>club cell</td>\n",
       "      <td>0.760000</td>\n",
       "    </tr>\n",
       "    <tr>\n",
       "      <th>14</th>\n",
       "      <td>conventional dendritic cell</td>\n",
       "      <td>0.266667</td>\n",
       "    </tr>\n",
       "    <tr>\n",
       "      <th>15</th>\n",
       "      <td>dendritic cell</td>\n",
       "      <td>0.333333</td>\n",
       "    </tr>\n",
       "    <tr>\n",
       "      <th>16</th>\n",
       "      <td>elicited macrophage</td>\n",
       "      <td>0.813708</td>\n",
       "    </tr>\n",
       "    <tr>\n",
       "      <th>17</th>\n",
       "      <td>endothelial cell of lymphatic vessel</td>\n",
       "      <td>0.954774</td>\n",
       "    </tr>\n",
       "    <tr>\n",
       "      <th>18</th>\n",
       "      <td>epithelial cell of alveolus of lung</td>\n",
       "      <td>0.444444</td>\n",
       "    </tr>\n",
       "    <tr>\n",
       "      <th>19</th>\n",
       "      <td>epithelial cell of lower respiratory tract</td>\n",
       "      <td>0.777778</td>\n",
       "    </tr>\n",
       "    <tr>\n",
       "      <th>20</th>\n",
       "      <td>fibroblast</td>\n",
       "      <td>0.500000</td>\n",
       "    </tr>\n",
       "    <tr>\n",
       "      <th>21</th>\n",
       "      <td>hematopoietic stem cell</td>\n",
       "      <td>0.000000</td>\n",
       "    </tr>\n",
       "    <tr>\n",
       "      <th>22</th>\n",
       "      <td>ionocyte</td>\n",
       "      <td>0.000000</td>\n",
       "    </tr>\n",
       "    <tr>\n",
       "      <th>23</th>\n",
       "      <td>lung macrophage</td>\n",
       "      <td>0.384181</td>\n",
       "    </tr>\n",
       "    <tr>\n",
       "      <th>24</th>\n",
       "      <td>lung neuroendocrine cell</td>\n",
       "      <td>0.000000</td>\n",
       "    </tr>\n",
       "    <tr>\n",
       "      <th>25</th>\n",
       "      <td>lung pericyte</td>\n",
       "      <td>0.000000</td>\n",
       "    </tr>\n",
       "    <tr>\n",
       "      <th>26</th>\n",
       "      <td>mast cell</td>\n",
       "      <td>0.957055</td>\n",
       "    </tr>\n",
       "    <tr>\n",
       "      <th>27</th>\n",
       "      <td>mesothelial cell</td>\n",
       "      <td>0.750000</td>\n",
       "    </tr>\n",
       "    <tr>\n",
       "      <th>28</th>\n",
       "      <td>multi-ciliated epithelial cell</td>\n",
       "      <td>0.000000</td>\n",
       "    </tr>\n",
       "    <tr>\n",
       "      <th>29</th>\n",
       "      <td>myofibroblast cell</td>\n",
       "      <td>0.000000</td>\n",
       "    </tr>\n",
       "    <tr>\n",
       "      <th>30</th>\n",
       "      <td>nasal mucosa goblet cell</td>\n",
       "      <td>0.000000</td>\n",
       "    </tr>\n",
       "    <tr>\n",
       "      <th>31</th>\n",
       "      <td>natural killer cell</td>\n",
       "      <td>0.932084</td>\n",
       "    </tr>\n",
       "    <tr>\n",
       "      <th>32</th>\n",
       "      <td>non-classical monocyte</td>\n",
       "      <td>0.595174</td>\n",
       "    </tr>\n",
       "    <tr>\n",
       "      <th>33</th>\n",
       "      <td>plasma cell</td>\n",
       "      <td>0.608696</td>\n",
       "    </tr>\n",
       "    <tr>\n",
       "      <th>34</th>\n",
       "      <td>plasmacytoid dendritic cell</td>\n",
       "      <td>0.000000</td>\n",
       "    </tr>\n",
       "    <tr>\n",
       "      <th>35</th>\n",
       "      <td>pulmonary artery endothelial cell</td>\n",
       "      <td>0.524138</td>\n",
       "    </tr>\n",
       "    <tr>\n",
       "      <th>36</th>\n",
       "      <td>respiratory basal cell</td>\n",
       "      <td>0.222222</td>\n",
       "    </tr>\n",
       "    <tr>\n",
       "      <th>37</th>\n",
       "      <td>smooth muscle cell</td>\n",
       "      <td>0.000000</td>\n",
       "    </tr>\n",
       "    <tr>\n",
       "      <th>38</th>\n",
       "      <td>tracheobronchial goblet cell</td>\n",
       "      <td>0.000000</td>\n",
       "    </tr>\n",
       "    <tr>\n",
       "      <th>39</th>\n",
       "      <td>tracheobronchial smooth muscle cell</td>\n",
       "      <td>0.690476</td>\n",
       "    </tr>\n",
       "    <tr>\n",
       "      <th>40</th>\n",
       "      <td>type I pneumocyte</td>\n",
       "      <td>0.910638</td>\n",
       "    </tr>\n",
       "    <tr>\n",
       "      <th>41</th>\n",
       "      <td>type II pneumocyte</td>\n",
       "      <td>0.987437</td>\n",
       "    </tr>\n",
       "    <tr>\n",
       "      <th>42</th>\n",
       "      <td>vein endothelial cell</td>\n",
       "      <td>0.701220</td>\n",
       "    </tr>\n",
       "    <tr>\n",
       "      <th>43</th>\n",
       "      <td>micro</td>\n",
       "      <td>0.838253</td>\n",
       "    </tr>\n",
       "    <tr>\n",
       "      <th>44</th>\n",
       "      <td>macro</td>\n",
       "      <td>0.499749</td>\n",
       "    </tr>\n",
       "    <tr>\n",
       "      <th>45</th>\n",
       "      <td>weighted</td>\n",
       "      <td>0.834112</td>\n",
       "    </tr>\n",
       "  </tbody>\n",
       "</table>\n",
       "</div>"
      ],
      "text/plain": [
       "                                              Class  F1 Score\n",
       "0                                            B cell  0.777778\n",
       "1              CD1c-positive myeloid dendritic cell  0.642157\n",
       "2                   CD4-positive, alpha-beta T cell  0.876014\n",
       "3                   CD8-positive, alpha-beta T cell  0.828685\n",
       "4                                            T cell  0.000000\n",
       "5                               alveolar macrophage  0.918935\n",
       "6                   alveolar type 1 fibroblast cell  0.737430\n",
       "7                   alveolar type 2 fibroblast cell  0.823129\n",
       "8                             bronchial goblet cell  0.000000\n",
       "9                       bronchus fibroblast of lung  0.333333\n",
       "10                       capillary endothelial cell  0.699725\n",
       "11  ciliated columnar cell of tracheobronchial tree  0.964539\n",
       "12                               classical monocyte  0.773463\n",
       "13                                        club cell  0.760000\n",
       "14                      conventional dendritic cell  0.266667\n",
       "15                                   dendritic cell  0.333333\n",
       "16                              elicited macrophage  0.813708\n",
       "17             endothelial cell of lymphatic vessel  0.954774\n",
       "18              epithelial cell of alveolus of lung  0.444444\n",
       "19       epithelial cell of lower respiratory tract  0.777778\n",
       "20                                       fibroblast  0.500000\n",
       "21                          hematopoietic stem cell  0.000000\n",
       "22                                         ionocyte  0.000000\n",
       "23                                  lung macrophage  0.384181\n",
       "24                         lung neuroendocrine cell  0.000000\n",
       "25                                    lung pericyte  0.000000\n",
       "26                                        mast cell  0.957055\n",
       "27                                 mesothelial cell  0.750000\n",
       "28                   multi-ciliated epithelial cell  0.000000\n",
       "29                               myofibroblast cell  0.000000\n",
       "30                         nasal mucosa goblet cell  0.000000\n",
       "31                              natural killer cell  0.932084\n",
       "32                           non-classical monocyte  0.595174\n",
       "33                                      plasma cell  0.608696\n",
       "34                      plasmacytoid dendritic cell  0.000000\n",
       "35                pulmonary artery endothelial cell  0.524138\n",
       "36                           respiratory basal cell  0.222222\n",
       "37                               smooth muscle cell  0.000000\n",
       "38                     tracheobronchial goblet cell  0.000000\n",
       "39              tracheobronchial smooth muscle cell  0.690476\n",
       "40                                type I pneumocyte  0.910638\n",
       "41                               type II pneumocyte  0.987437\n",
       "42                            vein endothelial cell  0.701220\n",
       "43                                            micro  0.838253\n",
       "44                                            macro  0.499749\n",
       "45                                         weighted  0.834112"
      ]
     },
     "execution_count": 56,
     "metadata": {},
     "output_type": "execute_result"
    }
   ],
   "source": [
    "scores"
   ]
  },
  {
   "cell_type": "code",
   "execution_count": 60,
   "id": "945e6698-a2c2-4047-9ec7-86164bbbbe70",
   "metadata": {},
   "outputs": [
    {
     "data": {
      "text/html": [
       "<div>\n",
       "<style scoped>\n",
       "    .dataframe tbody tr th:only-of-type {\n",
       "        vertical-align: middle;\n",
       "    }\n",
       "\n",
       "    .dataframe tbody tr th {\n",
       "        vertical-align: top;\n",
       "    }\n",
       "\n",
       "    .dataframe thead th {\n",
       "        text-align: right;\n",
       "    }\n",
       "</style>\n",
       "<table border=\"1\" class=\"dataframe\">\n",
       "  <thead>\n",
       "    <tr style=\"text-align: right;\">\n",
       "      <th></th>\n",
       "      <th>macro</th>\n",
       "      <th>micro</th>\n",
       "      <th>weighted</th>\n",
       "    </tr>\n",
       "    <tr>\n",
       "      <th>model</th>\n",
       "      <th></th>\n",
       "      <th></th>\n",
       "      <th></th>\n",
       "    </tr>\n",
       "  </thead>\n",
       "  <tbody>\n",
       "    <tr>\n",
       "      <th>swav_aug_knn_DR_pca_kN_7_ds_hlca</th>\n",
       "      <td>0.834821</td>\n",
       "      <td>0.525669</td>\n",
       "      <td>0.830443</td>\n",
       "    </tr>\n",
       "  </tbody>\n",
       "</table>\n",
       "</div>"
      ],
      "text/plain": [
       "                                     macro     micro  weighted\n",
       "model                                                         \n",
       "swav_aug_knn_DR_pca_kN_7_ds_hlca  0.834821  0.525669  0.830443"
      ]
     },
     "execution_count": 60,
     "metadata": {},
     "output_type": "execute_result"
    }
   ],
   "source": [
    "calc.knn_results()"
   ]
  },
  {
   "cell_type": "markdown",
   "id": "cafc5484-52f3-427a-b5b9-db474609d19c",
   "metadata": {},
   "source": [
    "# debug linear"
   ]
  },
  {
   "cell_type": "code",
   "execution_count": 21,
   "id": "a7e6d60e-4352-46da-a915-11e12c79bc7a",
   "metadata": {},
   "outputs": [
    {
     "name": "stderr",
     "output_type": "stream",
     "text": [
      "                                                                               \r"
     ]
    }
   ],
   "source": [
    "linear = calc.linear_results(10)"
   ]
  },
  {
   "cell_type": "code",
   "execution_count": 22,
   "id": "62b31af9-5840-42a8-81aa-b94e9da804ad",
   "metadata": {},
   "outputs": [],
   "source": [
    "knn = calc.knn_results()"
   ]
  },
  {
   "cell_type": "code",
   "execution_count": 27,
   "id": "7a4aedae-86d1-425f-9c0c-28d829328417",
   "metadata": {},
   "outputs": [
    {
     "data": {
      "text/html": [
       "<div>\n",
       "<style scoped>\n",
       "    .dataframe tbody tr th:only-of-type {\n",
       "        vertical-align: middle;\n",
       "    }\n",
       "\n",
       "    .dataframe tbody tr th {\n",
       "        vertical-align: top;\n",
       "    }\n",
       "\n",
       "    .dataframe thead th {\n",
       "        text-align: right;\n",
       "    }\n",
       "</style>\n",
       "<table border=\"1\" class=\"dataframe\">\n",
       "  <thead>\n",
       "    <tr style=\"text-align: right;\">\n",
       "      <th></th>\n",
       "      <th>linear classifier f1 macro</th>\n",
       "      <th>linear classifier f1 micro</th>\n",
       "      <th>linear classifier f1 weighted</th>\n",
       "      <th>knn f1 macro</th>\n",
       "      <th>knn f1 micro</th>\n",
       "      <th>knn f1 weighted</th>\n",
       "    </tr>\n",
       "    <tr>\n",
       "      <th>model</th>\n",
       "      <th></th>\n",
       "      <th></th>\n",
       "      <th></th>\n",
       "      <th></th>\n",
       "      <th></th>\n",
       "      <th></th>\n",
       "    </tr>\n",
       "  </thead>\n",
       "  <tbody>\n",
       "    <tr>\n",
       "      <th>swav_aug_knn_DR_pca_kN_7_ds_hlca</th>\n",
       "      <td>0.728134</td>\n",
       "      <td>0.238236</td>\n",
       "      <td>0.673691</td>\n",
       "      <td>0.851023</td>\n",
       "      <td>0.511129</td>\n",
       "      <td>0.846343</td>\n",
       "    </tr>\n",
       "  </tbody>\n",
       "</table>\n",
       "</div>"
      ],
      "text/plain": [
       "                                  linear classifier f1 macro  \\\n",
       "model                                                          \n",
       "swav_aug_knn_DR_pca_kN_7_ds_hlca                    0.728134   \n",
       "\n",
       "                                  linear classifier f1 micro  \\\n",
       "model                                                          \n",
       "swav_aug_knn_DR_pca_kN_7_ds_hlca                    0.238236   \n",
       "\n",
       "                                  linear classifier f1 weighted  knn f1 macro  \\\n",
       "model                                                                           \n",
       "swav_aug_knn_DR_pca_kN_7_ds_hlca                       0.673691      0.851023   \n",
       "\n",
       "                                  knn f1 micro  knn f1 weighted  \n",
       "model                                                            \n",
       "swav_aug_knn_DR_pca_kN_7_ds_hlca      0.511129         0.846343  "
      ]
     },
     "execution_count": 27,
     "metadata": {},
     "output_type": "execute_result"
    }
   ],
   "source": [
    "pd.concat([linear, knn, None], axis=1)"
   ]
  },
  {
   "cell_type": "code",
   "execution_count": 28,
   "id": "7047c241-6b72-4de1-9438-18acba3a56ec",
   "metadata": {},
   "outputs": [
    {
     "name": "stdout",
     "output_type": "stream",
     "text": [
      "Embedding dictionary:\n",
      " \tNum conditions: [9]\n",
      " \tEmbedding dim: [10]\n",
      "Encoder Architecture:\n",
      "\tInput Layer in, out and cond: 2000 45 10\n",
      "\tMean/Var Layer in/out: 45 8\n",
      "Decoder Architecture:\n",
      "\tFirst Layer in, out and cond:  8 45 10\n",
      "\tOutput Layer in/out:  45 2000 \n",
      "\n",
      "Embedding dictionary:\n",
      " \tNum conditions: [11]\n",
      " \tEmbedding dim: [10]\n",
      "Encoder Architecture:\n",
      "\tInput Layer in, out and cond: 2000 45 10\n",
      "\tMean/Var Layer in/out: 45 8\n",
      "Decoder Architecture:\n",
      "\tFirst Layer in, out and cond:  8 45 10\n",
      "\tOutput Layer in/out:  45 2000 \n",
      "\n"
     ]
    },
    {
     "name": "stderr",
     "output_type": "stream",
     "text": [
      "100%|██████████| 36/36 [00:03<00:00, 11.86it/s]\n",
      "                                                                               \r"
     ]
    },
    {
     "name": "stdout",
     "output_type": "stream",
     "text": [
      "Skipped cell type plasmacytoid dendritic cell, due to < 10 cells\n",
      "Skipped cell type multi-ciliated epithelial cell, due to < 10 cells\n",
      "Skipped cell type tracheobronchial goblet cell, due to < 10 cells\n",
      "Skipped cell type lung neuroendocrine cell, due to < 10 cells\n",
      "Skipped cell type hematopoietic stem cell, due to < 10 cells\n",
      "Skipped cell type ionocyte, due to < 10 cells\n",
      "Processing batches, calcualte centroids and pairwise distances\n"
     ]
    },
    {
     "data": {
      "application/vnd.jupyter.widget-view+json": {
       "model_id": "514798ce9977433bb7bf9c1464cf9472",
       "version_major": 2,
       "version_minor": 0
      },
      "text/plain": [
       "  0%|          | 0/2 [00:00<?, ?it/s]"
      ]
     },
     "metadata": {},
     "output_type": "display_data"
    },
    {
     "name": "stderr",
     "output_type": "stream",
     "text": [
      "Computing neighbors: 100%|██████████| 1/1 [00:29<00:00, 29.46s/it]\n",
      "Embeddings:   0%|\u001b[32m          \u001b[0m| 0/1 [00:00<?, ?it/s]\n",
      "Metrics:   0%|\u001b[34m          \u001b[0m| 0/10 [00:00<?, ?it/s]\u001b[A\n",
      "Metrics:   0%|\u001b[34m          \u001b[0m| 0/10 [00:00<?, ?it/s, Bio conservation: isolated_labels]\u001b[AINFO:root:isolated labels: no more than 1 batches per label\n",
      "INFO:jax._src.xla_bridge:Unable to initialize backend 'cuda': \n",
      "INFO:jax._src.xla_bridge:Unable to initialize backend 'rocm': module 'jaxlib.xla_extension' has no attribute 'GpuAllocatorConfig'\n",
      "INFO:jax._src.xla_bridge:Unable to initialize backend 'tpu': INTERNAL: Failed to open libtpu.so: libtpu.so: cannot open shared object file: No such file or directory\n",
      "WARNING:jax._src.xla_bridge:An NVIDIA GPU may be present on this machine, but a CUDA-enabled jaxlib is not installed. Falling back to cpu.\n",
      "\n",
      "Metrics:  10%|\u001b[34m█         \u001b[0m| 1/10 [00:22<03:21, 22.40s/it, Bio conservation: isolated_labels]\u001b[A\n",
      "Metrics:  10%|\u001b[34m█         \u001b[0m| 1/10 [00:22<03:21, 22.40s/it, Bio conservation: nmi_ari_cluster_labels_kmeans]\u001b[A\n",
      "Metrics:  20%|\u001b[34m██        \u001b[0m| 2/10 [00:28<01:41, 12.64s/it, Bio conservation: nmi_ari_cluster_labels_kmeans]\u001b[A\n",
      "Metrics:  20%|\u001b[34m██        \u001b[0m| 2/10 [00:28<01:41, 12.64s/it, Bio conservation: silhouette_label]             \u001b[A\n",
      "Metrics:  30%|\u001b[34m███       \u001b[0m| 3/10 [00:30<00:55,  7.92s/it, Bio conservation: silhouette_label]\u001b[A\n",
      "Metrics:  30%|\u001b[34m███       \u001b[0m| 3/10 [00:30<00:55,  7.92s/it, Bio conservation: clisi_knn]       \u001b[A\n",
      "Metrics:  40%|\u001b[34m████      \u001b[0m| 4/10 [00:31<00:30,  5.08s/it, Bio conservation: clisi_knn]\u001b[A\n",
      "Metrics:  40%|\u001b[34m████      \u001b[0m| 4/10 [00:31<00:30,  5.08s/it, Batch correction: silhouette_batch]\u001b[A\n",
      "Metrics:  50%|\u001b[34m█████     \u001b[0m| 5/10 [00:43<00:37,  7.51s/it, Batch correction: silhouette_batch]\u001b[A\n",
      "Metrics:  50%|\u001b[34m█████     \u001b[0m| 5/10 [00:43<00:37,  7.51s/it, Batch correction: ilisi_knn]       \u001b[A\n",
      "Metrics:  60%|\u001b[34m██████    \u001b[0m| 6/10 [00:43<00:20,  5.03s/it, Batch correction: ilisi_knn]\u001b[A\n",
      "Metrics:  60%|\u001b[34m██████    \u001b[0m| 6/10 [00:43<00:20,  5.03s/it, Batch correction: kbet_per_label]\u001b[A"
     ]
    },
    {
     "name": "stdout",
     "output_type": "stream",
     "text": [
      "\u001b[34mINFO    \u001b[0m hematopoietic stem cell consists of a single batch or is too small. Skip.                                 \n",
      "\u001b[34mINFO    \u001b[0m ionocyte consists of a single batch or is too small. Skip.                                                \n",
      "\u001b[34mINFO    \u001b[0m lung neuroendocrine cell consists of a single batch or is too small. Skip.                                \n",
      "\u001b[34mINFO    \u001b[0m multi-ciliated epithelial cell consists of a single batch or is too small. Skip.                          \n",
      "\u001b[34mINFO    \u001b[0m plasmacytoid dendritic cell consists of a single batch or is too small. Skip.                             \n",
      "\u001b[34mINFO    \u001b[0m smooth muscle cell consists of a single batch or is too small. Skip.                                      \n",
      "\u001b[34mINFO    \u001b[0m tracheobronchial goblet cell consists of a single batch or is too small. Skip.                            \n"
     ]
    },
    {
     "name": "stderr",
     "output_type": "stream",
     "text": [
      "\n",
      "Metrics:  70%|\u001b[34m███████   \u001b[0m| 7/10 [01:12<00:38, 12.81s/it, Batch correction: kbet_per_label]\u001b[A\n",
      "Metrics:  70%|\u001b[34m███████   \u001b[0m| 7/10 [01:12<00:38, 12.81s/it, Batch correction: graph_connectivity]\u001b[A\n",
      "Metrics:  80%|\u001b[34m████████  \u001b[0m| 8/10 [01:12<00:17,  8.76s/it, Batch correction: graph_connectivity]\u001b[A\n",
      "Metrics:  80%|\u001b[34m████████  \u001b[0m| 8/10 [01:12<00:17,  8.76s/it, Batch correction: pcr_comparison]    \u001b[A\n",
      "Embeddings: 100%|\u001b[32m██████████\u001b[0m| 1/1 [01:13<00:00, 73.85s/it]atch correction: pcr_comparison]\u001b[A\n",
      "\n",
      "                                                                                         \u001b[A"
     ]
    },
    {
     "ename": "TypeError",
     "evalue": "Index(...) must be called with a collection of some kind, 'swav_aug_knn_DR_pca_kN_7_ds_hlca' was passed",
     "output_type": "error",
     "traceback": [
      "\u001b[0;31m---------------------------------------------------------------------------\u001b[0m",
      "\u001b[0;31mTypeError\u001b[0m                                 Traceback (most recent call last)",
      "Cell \u001b[0;32mIn[28], line 1\u001b[0m\n\u001b[0;32m----> 1\u001b[0m metrics \u001b[38;5;241m=\u001b[39m \u001b[43mmg\u001b[49m\u001b[38;5;241;43m.\u001b[39;49m\u001b[43mgenerate_metrics\u001b[49m\u001b[43m(\u001b[49m\u001b[43m)\u001b[49m\n",
      "File \u001b[0;32m/ictstr01/home/icb/fatemehs.hashemig/codes/interpretable-ssl/interpretable_ssl/evaluation/metric_generator.py:70\u001b[0m, in \u001b[0;36mMetricGenerator.generate_metrics\u001b[0;34m(self)\u001b[0m\n\u001b[1;32m     67\u001b[0m     all_metrics\u001b[38;5;241m.\u001b[39mappend(calculator\u001b[38;5;241m.\u001b[39mcalculate_scib())\n\u001b[1;32m     69\u001b[0m final_df \u001b[38;5;241m=\u001b[39m pd\u001b[38;5;241m.\u001b[39mconcat(all_metrics, axis\u001b[38;5;241m=\u001b[39m\u001b[38;5;241m1\u001b[39m)\n\u001b[0;32m---> 70\u001b[0m \u001b[43mfinal_df\u001b[49m\u001b[38;5;241;43m.\u001b[39;49m\u001b[43mindex\u001b[49m \u001b[38;5;241m=\u001b[39m \u001b[38;5;28mself\u001b[39m\u001b[38;5;241m.\u001b[39mtrainer\u001b[38;5;241m.\u001b[39mname\n\u001b[1;32m     71\u001b[0m \u001b[38;5;28;01mreturn\u001b[39;00m final_df\n",
      "File \u001b[0;32m~/miniconda3/envs/apex-env/lib/python3.12/site-packages/pandas/core/generic.py:6313\u001b[0m, in \u001b[0;36mNDFrame.__setattr__\u001b[0;34m(self, name, value)\u001b[0m\n\u001b[1;32m   6311\u001b[0m \u001b[38;5;28;01mtry\u001b[39;00m:\n\u001b[1;32m   6312\u001b[0m     \u001b[38;5;28mobject\u001b[39m\u001b[38;5;241m.\u001b[39m\u001b[38;5;21m__getattribute__\u001b[39m(\u001b[38;5;28mself\u001b[39m, name)\n\u001b[0;32m-> 6313\u001b[0m     \u001b[38;5;28;01mreturn\u001b[39;00m \u001b[38;5;28;43mobject\u001b[39;49m\u001b[38;5;241;43m.\u001b[39;49m\u001b[38;5;21;43m__setattr__\u001b[39;49m\u001b[43m(\u001b[49m\u001b[38;5;28;43mself\u001b[39;49m\u001b[43m,\u001b[49m\u001b[43m \u001b[49m\u001b[43mname\u001b[49m\u001b[43m,\u001b[49m\u001b[43m \u001b[49m\u001b[43mvalue\u001b[49m\u001b[43m)\u001b[49m\n\u001b[1;32m   6314\u001b[0m \u001b[38;5;28;01mexcept\u001b[39;00m \u001b[38;5;167;01mAttributeError\u001b[39;00m:\n\u001b[1;32m   6315\u001b[0m     \u001b[38;5;28;01mpass\u001b[39;00m\n",
      "File \u001b[0;32mproperties.pyx:69\u001b[0m, in \u001b[0;36mpandas._libs.properties.AxisProperty.__set__\u001b[0;34m()\u001b[0m\n",
      "File \u001b[0;32m~/miniconda3/envs/apex-env/lib/python3.12/site-packages/pandas/core/generic.py:813\u001b[0m, in \u001b[0;36mNDFrame._set_axis\u001b[0;34m(self, axis, labels)\u001b[0m\n\u001b[1;32m    807\u001b[0m \u001b[38;5;129m@final\u001b[39m\n\u001b[1;32m    808\u001b[0m \u001b[38;5;28;01mdef\u001b[39;00m \u001b[38;5;21m_set_axis\u001b[39m(\u001b[38;5;28mself\u001b[39m, axis: AxisInt, labels: AnyArrayLike \u001b[38;5;241m|\u001b[39m \u001b[38;5;28mlist\u001b[39m) \u001b[38;5;241m-\u001b[39m\u001b[38;5;241m>\u001b[39m \u001b[38;5;28;01mNone\u001b[39;00m:\n\u001b[1;32m    809\u001b[0m \u001b[38;5;250m    \u001b[39m\u001b[38;5;124;03m\"\"\"\u001b[39;00m\n\u001b[1;32m    810\u001b[0m \u001b[38;5;124;03m    This is called from the cython code when we set the `index` attribute\u001b[39;00m\n\u001b[1;32m    811\u001b[0m \u001b[38;5;124;03m    directly, e.g. `series.index = [1, 2, 3]`.\u001b[39;00m\n\u001b[1;32m    812\u001b[0m \u001b[38;5;124;03m    \"\"\"\u001b[39;00m\n\u001b[0;32m--> 813\u001b[0m     labels \u001b[38;5;241m=\u001b[39m \u001b[43mensure_index\u001b[49m\u001b[43m(\u001b[49m\u001b[43mlabels\u001b[49m\u001b[43m)\u001b[49m\n\u001b[1;32m    814\u001b[0m     \u001b[38;5;28mself\u001b[39m\u001b[38;5;241m.\u001b[39m_mgr\u001b[38;5;241m.\u001b[39mset_axis(axis, labels)\n\u001b[1;32m    815\u001b[0m     \u001b[38;5;28mself\u001b[39m\u001b[38;5;241m.\u001b[39m_clear_item_cache()\n",
      "File \u001b[0;32m~/miniconda3/envs/apex-env/lib/python3.12/site-packages/pandas/core/indexes/base.py:7649\u001b[0m, in \u001b[0;36mensure_index\u001b[0;34m(index_like, copy)\u001b[0m\n\u001b[1;32m   7647\u001b[0m         \u001b[38;5;28;01mreturn\u001b[39;00m Index(index_like, copy\u001b[38;5;241m=\u001b[39mcopy, tupleize_cols\u001b[38;5;241m=\u001b[39m\u001b[38;5;28;01mFalse\u001b[39;00m)\n\u001b[1;32m   7648\u001b[0m \u001b[38;5;28;01melse\u001b[39;00m:\n\u001b[0;32m-> 7649\u001b[0m     \u001b[38;5;28;01mreturn\u001b[39;00m \u001b[43mIndex\u001b[49m\u001b[43m(\u001b[49m\u001b[43mindex_like\u001b[49m\u001b[43m,\u001b[49m\u001b[43m \u001b[49m\u001b[43mcopy\u001b[49m\u001b[38;5;241;43m=\u001b[39;49m\u001b[43mcopy\u001b[49m\u001b[43m)\u001b[49m\n",
      "File \u001b[0;32m~/miniconda3/envs/apex-env/lib/python3.12/site-packages/pandas/core/indexes/base.py:526\u001b[0m, in \u001b[0;36mIndex.__new__\u001b[0;34m(cls, data, dtype, copy, name, tupleize_cols)\u001b[0m\n\u001b[1;32m    523\u001b[0m         data \u001b[38;5;241m=\u001b[39m com\u001b[38;5;241m.\u001b[39masarray_tuplesafe(data, dtype\u001b[38;5;241m=\u001b[39m_dtype_obj)\n\u001b[1;32m    525\u001b[0m \u001b[38;5;28;01melif\u001b[39;00m is_scalar(data):\n\u001b[0;32m--> 526\u001b[0m     \u001b[38;5;28;01mraise\u001b[39;00m \u001b[38;5;28;43mcls\u001b[39;49m\u001b[38;5;241;43m.\u001b[39;49m\u001b[43m_raise_scalar_data_error\u001b[49m\u001b[43m(\u001b[49m\u001b[43mdata\u001b[49m\u001b[43m)\u001b[49m\n\u001b[1;32m    527\u001b[0m \u001b[38;5;28;01melif\u001b[39;00m \u001b[38;5;28mhasattr\u001b[39m(data, \u001b[38;5;124m\"\u001b[39m\u001b[38;5;124m__array__\u001b[39m\u001b[38;5;124m\"\u001b[39m):\n\u001b[1;32m    528\u001b[0m     \u001b[38;5;28;01mreturn\u001b[39;00m \u001b[38;5;28mcls\u001b[39m(np\u001b[38;5;241m.\u001b[39masarray(data), dtype\u001b[38;5;241m=\u001b[39mdtype, copy\u001b[38;5;241m=\u001b[39mcopy, name\u001b[38;5;241m=\u001b[39mname)\n",
      "File \u001b[0;32m~/miniconda3/envs/apex-env/lib/python3.12/site-packages/pandas/core/indexes/base.py:5289\u001b[0m, in \u001b[0;36mIndex._raise_scalar_data_error\u001b[0;34m(cls, data)\u001b[0m\n\u001b[1;32m   5284\u001b[0m \u001b[38;5;129m@final\u001b[39m\n\u001b[1;32m   5285\u001b[0m \u001b[38;5;129m@classmethod\u001b[39m\n\u001b[1;32m   5286\u001b[0m \u001b[38;5;28;01mdef\u001b[39;00m \u001b[38;5;21m_raise_scalar_data_error\u001b[39m(\u001b[38;5;28mcls\u001b[39m, data):\n\u001b[1;32m   5287\u001b[0m     \u001b[38;5;66;03m# We return the TypeError so that we can raise it from the constructor\u001b[39;00m\n\u001b[1;32m   5288\u001b[0m     \u001b[38;5;66;03m#  in order to keep mypy happy\u001b[39;00m\n\u001b[0;32m-> 5289\u001b[0m     \u001b[38;5;28;01mraise\u001b[39;00m \u001b[38;5;167;01mTypeError\u001b[39;00m(\n\u001b[1;32m   5290\u001b[0m         \u001b[38;5;124mf\u001b[39m\u001b[38;5;124m\"\u001b[39m\u001b[38;5;132;01m{\u001b[39;00m\u001b[38;5;28mcls\u001b[39m\u001b[38;5;241m.\u001b[39m\u001b[38;5;18m__name__\u001b[39m\u001b[38;5;132;01m}\u001b[39;00m\u001b[38;5;124m(...) must be called with a collection of some \u001b[39m\u001b[38;5;124m\"\u001b[39m\n\u001b[1;32m   5291\u001b[0m         \u001b[38;5;124mf\u001b[39m\u001b[38;5;124m\"\u001b[39m\u001b[38;5;124mkind, \u001b[39m\u001b[38;5;132;01m{\u001b[39;00m\u001b[38;5;28mrepr\u001b[39m(data)\u001b[38;5;250m \u001b[39m\u001b[38;5;28;01mif\u001b[39;00m\u001b[38;5;250m \u001b[39m\u001b[38;5;129;01mnot\u001b[39;00m\u001b[38;5;250m \u001b[39m\u001b[38;5;28misinstance\u001b[39m(data,\u001b[38;5;250m \u001b[39mnp\u001b[38;5;241m.\u001b[39mgeneric)\u001b[38;5;250m \u001b[39m\u001b[38;5;28;01melse\u001b[39;00m\u001b[38;5;250m \u001b[39m\u001b[38;5;28mstr\u001b[39m(data)\u001b[38;5;132;01m}\u001b[39;00m\u001b[38;5;124m \u001b[39m\u001b[38;5;124m\"\u001b[39m\n\u001b[1;32m   5292\u001b[0m         \u001b[38;5;124m\"\u001b[39m\u001b[38;5;124mwas passed\u001b[39m\u001b[38;5;124m\"\u001b[39m\n\u001b[1;32m   5293\u001b[0m     )\n",
      "\u001b[0;31mTypeError\u001b[0m: Index(...) must be called with a collection of some kind, 'swav_aug_knn_DR_pca_kN_7_ds_hlca' was passed"
     ]
    }
   ],
   "source": [
    "metrics = mg.generate_metrics()"
   ]
  },
  {
   "cell_type": "code",
   "execution_count": null,
   "id": "0a2579bf-d685-43b5-8a69-1e8ac8397a2a",
   "metadata": {},
   "outputs": [],
   "source": []
  }
 ],
 "metadata": {
  "kernelspec": {
   "display_name": "Python 3 (ipykernel)",
   "language": "python",
   "name": "python3"
  },
  "language_info": {
   "codemirror_mode": {
    "name": "ipython",
    "version": 3
   },
   "file_extension": ".py",
   "mimetype": "text/x-python",
   "name": "python",
   "nbconvert_exporter": "python",
   "pygments_lexer": "ipython3",
   "version": "3.12.2"
  }
 },
 "nbformat": 4,
 "nbformat_minor": 5
}
