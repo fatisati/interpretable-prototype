{
 "cells": [
  {
   "cell_type": "code",
   "execution_count": 49,
   "metadata": {},
   "outputs": [
    {
     "name": "stdout",
     "output_type": "stream",
     "text": [
      "loading data\n",
      "training with number of prototypes : 32\n",
      "train dataset size:  29137\n"
     ]
    }
   ],
   "source": [
    "from interpretable_ssl.immune.trainer import ImmuneTrainer\n",
    "\n",
    "trainer = ImmuneTrainer()\n",
    "train_loader, test_loader = trainer.get_train_test_loader()"
   ]
  },
  {
   "cell_type": "code",
   "execution_count": 50,
   "metadata": {},
   "outputs": [],
   "source": [
    "import torch\n",
    "from sklearn.metrics import classification_report\n",
    "\n",
    "def report(trainer):\n",
    "    model = trainer.get_model()\n",
    "    model_path = trainer.get_model_path()\n",
    "    model.load_state_dict(torch.load(model_path)[\"model_state_dict\"])\n",
    "    model.to(trainer.device)\n",
    "    train_loader, test_loader = trainer.get_train_test_loader()\n",
    "\n",
    "    def to_flat_np_arr(tensor_list):\n",
    "        tensor_list = [tensor.cpu().numpy() for tensor in tensor_list]\n",
    "        flat_arr = np.concatenate(tensor_list).ravel()\n",
    "        return flat_arr\n",
    "        \n",
    "    def calc_outputs(loader):\n",
    "        total_acc = 0\n",
    "        y_pred, y_true = [], []\n",
    "        for x, y in loader:\n",
    "            z, decoded, logits = model(x)\n",
    "            preds = logits.argmax(dim=1)\n",
    "            acc = (preds == y).sum() / len(y)\n",
    "            y_pred.append(preds)\n",
    "            y_true.append(y)\n",
    "            total_acc += acc\n",
    "        print('acc',total_acc / len(loader))\n",
    "        y_pred = to_flat_np_arr(y_pred)\n",
    "        y_true = to_flat_np_arr(y_true)\n",
    "        return y_true, y_pred\n",
    "    \n",
    "    def print_report(loader):\n",
    "        y_true, y_pred = calc_outputs(loader)\n",
    "        y_true = trainer.dataset.le.inverse_transform(y_true)\n",
    "        y_pred = trainer.dataset.le.inverse_transform(y_pred)\n",
    "        print(classification_report(y_true, y_pred))\n",
    "    print('train')\n",
    "    print_report(train_loader)\n",
    "    print('test')\n",
    "    print_report(test_loader)\n"
   ]
  },
  {
   "cell_type": "code",
   "execution_count": null,
   "metadata": {},
   "outputs": [],
   "source": [
    "report(trainer)"
   ]
  },
  {
   "cell_type": "code",
   "execution_count": null,
   "metadata": {},
   "outputs": [],
   "source": []
  }
 ],
 "metadata": {
  "kernelspec": {
   "display_name": "Python 3 (ipykernel)",
   "language": "python",
   "name": "python3"
  },
  "language_info": {
   "codemirror_mode": {
    "name": "ipython",
    "version": 3
   },
   "file_extension": ".py",
   "mimetype": "text/x-python",
   "name": "python",
   "nbconvert_exporter": "python",
   "pygments_lexer": "ipython3",
   "version": "3.11.8"
  }
 },
 "nbformat": 4,
 "nbformat_minor": 4
}
