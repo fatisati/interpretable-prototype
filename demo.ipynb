{
 "cells": [
  {
   "cell_type": "markdown",
   "id": "f7756ad9-4d05-4f0d-a199-94a49368973b",
   "metadata": {},
   "source": [
    "# loading data"
   ]
  },
  {
   "cell_type": "markdown",
   "id": "88d2afa9-19e8-4ad8-bc3d-352c07d71b72",
   "metadata": {
    "jp-MarkdownHeadingCollapsed": true
   },
   "source": [
    "## check for data file, download if not exist"
   ]
  },
  {
   "cell_type": "code",
   "execution_count": 3,
   "id": "ba93d0fb-ca55-44e2-ad5d-16303e95a3fa",
   "metadata": {},
   "outputs": [],
   "source": [
    "import os\n",
    "import requests\n",
    "import anndata as ad\n",
    "import logging\n",
    "from tqdm import tqdm\n",
    "\n",
    "# Configure logging\n",
    "logging.basicConfig(level=logging.INFO, format='%(asctime)s - %(levelname)s - %(message)s')\n",
    "\n",
    "def process_downloaded_data(adata):\n",
    "    adata.obs['cell_type'] = adata.obs.pop('final_annotation')\n",
    "    sc.pp.highly_variable_genes(adata, n_top_genes=4000, inplace=True)\n",
    "    adata = adata[:, adata.var['highly_variable']]\n",
    "    return adata\n",
    "    \n",
    "def load_or_download_anndata(folder_path: str, download_url: str) -> ad.AnnData:\n",
    "    \"\"\"\n",
    "    Check if an AnnData file exists in the specified folder with the proposed name. \n",
    "    If not, download it from the given URL. Then load and return the AnnData object.\n",
    "\n",
    "    Parameters:\n",
    "    - folder_path (str): Path to the folder where the AnnData file should be located.\n",
    "    - download_url (str): URL to download the file if it does not exist.\n",
    "\n",
    "    Returns:\n",
    "    - anndata.AnnData: Loaded AnnData object.\n",
    "    \"\"\"\n",
    "    # Ensure the folder exists\n",
    "    os.makedirs(folder_path, exist_ok=True)\n",
    "\n",
    "    # Extract file name from the URL\n",
    "    file_name = download_url.split('/')[-1]\n",
    "    file_path = os.path.join(folder_path, file_name)\n",
    "\n",
    "    # Check if the file exists, download if missing\n",
    "    if not os.path.exists(file_path):\n",
    "        logging.info(f\"AnnData file not found in folder: {folder_path}. Downloading...\")\n",
    "        response = requests.get(download_url, stream=True)\n",
    "        response.raise_for_status()  # Raise an error if the request failed\n",
    "        \n",
    "        # Get total file size for the progress bar\n",
    "        total_size = int(response.headers.get('content-length', 0))\n",
    "        with open(file_path, \"wb\") as f, tqdm(\n",
    "            desc=\"Downloading\",\n",
    "            total=total_size,\n",
    "            unit=\"B\",\n",
    "            unit_scale=True,\n",
    "            unit_divisor=1024,\n",
    "        ) as bar:\n",
    "            for chunk in response.iter_content(chunk_size=8192):\n",
    "                f.write(chunk)\n",
    "                bar.update(len(chunk))\n",
    "        logging.info(f\"File downloaded and saved as {file_path}.\")\n",
    "    else:\n",
    "        logging.info(f\"AnnData file found at {file_path}.\")\n",
    "\n",
    "    # Load and return the AnnData file\n",
    "    logging.info(\"Loading AnnData file...\")\n",
    "    adata = ad.read_h5ad(file_path)\n",
    "    adata = process_downloaded_data(adata)\n",
    "    logging.info(\"AnnData file loaded successfully.\")\n",
    "    return adata\n"
   ]
  },
  {
   "cell_type": "code",
   "execution_count": 5,
   "id": "728ed845-38b5-481e-9e55-e989738ba0ae",
   "metadata": {},
   "outputs": [
    {
     "name": "stderr",
     "output_type": "stream",
     "text": [
      "2024-11-15 11:36:40,308 - INFO - AnnData file not found in folder: ./tmp_data/immune.h5ad. Downloading...\n",
      "Downloading: 100%|██████████| 1.92G/1.92G [00:33<00:00, 61.9MB/s]\n",
      "2024-11-15 11:37:17,127 - INFO - File downloaded and saved as ./tmp_data/immune.h5ad/25717328.\n",
      "2024-11-15 11:37:17,127 - INFO - Loading AnnData file...\n",
      "2024-11-15 11:37:20,334 - INFO - AnnData file loaded successfully.\n"
     ]
    },
    {
     "name": "stdout",
     "output_type": "stream",
     "text": [
      "AnnData object loaded successfully!\n"
     ]
    }
   ],
   "source": [
    "# Define file path and download URL\n",
    "folder_path = \"./tmp_data\"\n",
    "file_name = \"immune.h5ad\"\n",
    "file_path = os.path.join(folder_path, file_name)\n",
    "download_url = \"https://figshare.com/ndownloader/files/25717328\"\n",
    "\n",
    "# Load or download the AnnData object\n",
    "adata = load_or_download_anndata(file_path, download_url)\n",
    "print(\"AnnData object loaded successfully!\")\n"
   ]
  },
  {
   "cell_type": "markdown",
   "id": "56499f1a-6560-4140-86a0-2162feeaa737",
   "metadata": {
    "jp-MarkdownHeadingCollapsed": true
   },
   "source": [
    "## check for label encoder, generate if not exist"
   ]
  },
  {
   "cell_type": "code",
   "execution_count": 12,
   "id": "dac9c8e3-87ad-486b-a673-024697e53975",
   "metadata": {},
   "outputs": [
    {
     "name": "stdout",
     "output_type": "stream",
     "text": [
      "fitting label encoder\n"
     ]
    }
   ],
   "source": [
    "import pickle as pkl\n",
    "from interpretable_ssl.utils import *\n",
    "\n",
    "label_encoder_path = './tmp_data/le.pkl'\n",
    "\n",
    "if os.path.exists(label_encoder_path):\n",
    "    le = pkl.load(open(label_encoder_path, 'rb'))\n",
    "else:\n",
    "    print('fitting label encoder')\n",
    "    fit_label_encoder(adata, label_encoder_path)"
   ]
  },
  {
   "cell_type": "markdown",
   "id": "d9121734-cfdd-47d3-ae71-3bad14444636",
   "metadata": {
    "jp-MarkdownHeadingCollapsed": true
   },
   "source": [
    "## init dataset object"
   ]
  },
  {
   "cell_type": "code",
   "execution_count": 13,
   "id": "6797a726-bb26-4237-a631-57ef727327c9",
   "metadata": {},
   "outputs": [],
   "source": [
    "from interpretable_ssl.datasets.immune import *\n",
    "\n",
    "\n",
    "ds = ImmuneDataset(adata, label_encoder_path)"
   ]
  },
  {
   "cell_type": "markdown",
   "id": "226a70b0-eccc-4343-91fe-b71abc6dc71f",
   "metadata": {},
   "source": [
    "# train"
   ]
  },
  {
   "cell_type": "code",
   "execution_count": 22,
   "id": "4b13ea2e-a320-4ce1-9341-6ff9ec910a47",
   "metadata": {},
   "outputs": [
    {
     "name": "stderr",
     "output_type": "stream",
     "text": [
      "INFO - 11/15/24 12:03:14 - 0:02:55 - Starting '__init__' of class 'get train test'\n",
      "INFO - 11/15/24 12:03:14 - 0:02:55 - Finished '__init__' of class 'get train test' in 0.0526 seconds\n"
     ]
    }
   ],
   "source": [
    "# change configs, constants/MODEL_DIR to the directory you want to save model and results\n",
    "# then import trainer\n",
    "\n",
    "\n",
    "from interpretable_ssl.trainers.swav import *\n",
    "trainer = SwAV(debug=True, dataset=ds, augmentation_type='community')"
   ]
  },
  {
   "cell_type": "code",
   "execution_count": null,
   "id": "7e740457-00d5-44e0-adc0-ee2b2cf7d8af",
   "metadata": {},
   "outputs": [],
   "source": [
    "trainer.pretraining_epochs = 5"
   ]
  },
  {
   "cell_type": "code",
   "execution_count": null,
   "id": "1843a5d9-95f2-455c-8193-ce52cc54b303",
   "metadata": {},
   "outputs": [],
   "source": [
    "trainer.setup()"
   ]
  },
  {
   "cell_type": "code",
   "execution_count": null,
   "id": "2e2a277e-4b9b-41af-90aa-2b64ea9c2f94",
   "metadata": {},
   "outputs": [],
   "source": [
    "trainer.train()"
   ]
  },
  {
   "cell_type": "markdown",
   "id": "699dfbbc-ea0f-4bd1-b3a1-5320e4eaa8bc",
   "metadata": {},
   "source": [
    "# evalaute"
   ]
  },
  {
   "cell_type": "code",
   "execution_count": null,
   "id": "0ef10569-38f9-4073-8a17-16449f91b520",
   "metadata": {},
   "outputs": [],
   "source": [
    "query_latent = trainer.encode_query()\n",
    "metric_df = MetricCalculator(\n",
    "        trainer.query.adata,\n",
    "        [query_latent],\n",
    "        save_path=trainer.get_metric_file_path(\"query\"),\n",
    "    ).calculate()\n",
    "\n",
    "metric_df"
   ]
  },
  {
   "cell_type": "code",
   "execution_count": null,
   "id": "b8b8fc96-8e6e-4a54-a4ee-cf68653fa968",
   "metadata": {},
   "outputs": [],
   "source": []
  }
 ],
 "metadata": {
  "kernelspec": {
   "display_name": "Python 3 (ipykernel)",
   "language": "python",
   "name": "python3"
  },
  "language_info": {
   "codemirror_mode": {
    "name": "ipython",
    "version": 3
   },
   "file_extension": ".py",
   "mimetype": "text/x-python",
   "name": "python",
   "nbconvert_exporter": "python",
   "pygments_lexer": "ipython3",
   "version": "3.12.2"
  }
 },
 "nbformat": 4,
 "nbformat_minor": 5
}
