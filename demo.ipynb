{
 "cells": [
  {
   "cell_type": "markdown",
   "id": "f7756ad9-4d05-4f0d-a199-94a49368973b",
   "metadata": {},
   "source": [
    "# loading data"
   ]
  },
  {
   "cell_type": "markdown",
   "id": "88d2afa9-19e8-4ad8-bc3d-352c07d71b72",
   "metadata": {},
   "source": [
    "## check for data file, download if not exist"
   ]
  },
  {
   "cell_type": "code",
   "execution_count": 5,
   "id": "ba93d0fb-ca55-44e2-ad5d-16303e95a3fa",
   "metadata": {},
   "outputs": [],
   "source": [
    "import os\n",
    "import requests\n",
    "import anndata as ad\n",
    "import logging\n",
    "from tqdm import tqdm\n",
    "import scanpy as sc\n",
    "# Configure logging\n",
    "logging.basicConfig(level=logging.INFO, format='%(asctime)s - %(levelname)s - %(message)s')\n",
    "\n",
    "def process_downloaded_data(adata):\n",
    "    adata.obs['cell_type'] = adata.obs.pop('final_annotation')\n",
    "    sc.pp.highly_variable_genes(adata, n_top_genes=4000, inplace=True)\n",
    "    adata = adata[:, adata.var['highly_variable']]\n",
    "    return adata\n",
    "    \n",
    "def load_or_download_anndata(folder_path: str, download_url: str) -> ad.AnnData:\n",
    "    \"\"\"\n",
    "    Check if an AnnData file exists in the specified folder with the proposed name. \n",
    "    If not, download it from the given URL. Then load and return the AnnData object.\n",
    "\n",
    "    Parameters:\n",
    "    - folder_path (str): Path to the folder where the AnnData file should be located.\n",
    "    - download_url (str): URL to download the file if it does not exist.\n",
    "\n",
    "    Returns:\n",
    "    - anndata.AnnData: Loaded AnnData object.\n",
    "    \"\"\"\n",
    "    # Ensure the folder exists\n",
    "    os.makedirs(folder_path, exist_ok=True)\n",
    "\n",
    "    # Extract file name from the URL\n",
    "    file_name = download_url.split('/')[-1]\n",
    "    file_path = os.path.join(folder_path, file_name)\n",
    "\n",
    "    # Check if the file exists, download if missing\n",
    "    if not os.path.exists(file_path):\n",
    "        logging.info(f\"AnnData file not found in folder: {folder_path}. Downloading...\")\n",
    "        response = requests.get(download_url, stream=True)\n",
    "        response.raise_for_status()  # Raise an error if the request failed\n",
    "        \n",
    "        # Get total file size for the progress bar\n",
    "        total_size = int(response.headers.get('content-length', 0))\n",
    "        with open(file_path, \"wb\") as f, tqdm(\n",
    "            desc=\"Downloading\",\n",
    "            total=total_size,\n",
    "            unit=\"B\",\n",
    "            unit_scale=True,\n",
    "            unit_divisor=1024,\n",
    "        ) as bar:\n",
    "            for chunk in response.iter_content(chunk_size=8192):\n",
    "                f.write(chunk)\n",
    "                bar.update(len(chunk))\n",
    "        logging.info(f\"File downloaded and saved as {file_path}.\")\n",
    "    else:\n",
    "        logging.info(f\"AnnData file found at {file_path}.\")\n",
    "\n",
    "    # Load and return the AnnData file\n",
    "    logging.info(\"Loading AnnData file...\")\n",
    "    adata = ad.read_h5ad(file_path)\n",
    "    adata = process_downloaded_data(adata)\n",
    "    logging.info(\"AnnData file loaded successfully.\")\n",
    "    return adata\n"
   ]
  },
  {
   "cell_type": "code",
   "execution_count": 6,
   "id": "728ed845-38b5-481e-9e55-e989738ba0ae",
   "metadata": {},
   "outputs": [
    {
     "name": "stderr",
     "output_type": "stream",
     "text": [
      "2024-11-24 16:34:29,129 - INFO - AnnData file found at ./tmp_data/immune.h5ad/25717328.\n",
      "2024-11-24 16:34:29,130 - INFO - Loading AnnData file...\n",
      "/home/icb/fatemehs.hashemig/miniconda3/envs/apex-env/lib/python3.12/site-packages/scanpy/preprocessing/_highly_variable_genes.py:226: FutureWarning: The default of observed=False is deprecated and will be changed to True in a future version of pandas. Pass observed=False to retain current behavior or observed=True to adopt the future default and silence this warning.\n",
      "  disp_grouped = df.groupby(\"mean_bin\")[\"dispersions\"]\n",
      "2024-11-24 16:34:38,830 - INFO - AnnData file loaded successfully.\n"
     ]
    },
    {
     "name": "stdout",
     "output_type": "stream",
     "text": [
      "AnnData object loaded successfully!\n"
     ]
    }
   ],
   "source": [
    "# Define file path and download URL\n",
    "folder_path = \"./tmp_data\"\n",
    "file_name = \"immune.h5ad\"\n",
    "file_path = os.path.join(folder_path, file_name)\n",
    "download_url = \"https://figshare.com/ndownloader/files/25717328\"\n",
    "\n",
    "# Load or download the AnnData object\n",
    "adata = load_or_download_anndata(file_path, download_url)\n",
    "print(\"AnnData object loaded successfully!\")\n"
   ]
  },
  {
   "cell_type": "markdown",
   "id": "56499f1a-6560-4140-86a0-2162feeaa737",
   "metadata": {},
   "source": [
    "## check for label encoder, generate if not exist"
   ]
  },
  {
   "cell_type": "code",
   "execution_count": 7,
   "id": "dac9c8e3-87ad-486b-a673-024697e53975",
   "metadata": {},
   "outputs": [],
   "source": [
    "import pickle as pkl\n",
    "from interpretable_ssl.utils import *\n",
    "\n",
    "label_encoder_path = './tmp_data/le.pkl'\n",
    "\n",
    "if os.path.exists(label_encoder_path):\n",
    "    le = pkl.load(open(label_encoder_path, 'rb'))\n",
    "else:\n",
    "    print('fitting label encoder')\n",
    "    fit_label_encoder(adata, label_encoder_path)"
   ]
  },
  {
   "cell_type": "markdown",
   "id": "d9121734-cfdd-47d3-ae71-3bad14444636",
   "metadata": {},
   "source": [
    "## init dataset object"
   ]
  },
  {
   "cell_type": "code",
   "execution_count": 8,
   "id": "6797a726-bb26-4237-a631-57ef727327c9",
   "metadata": {},
   "outputs": [],
   "source": [
    "from interpretable_ssl.datasets.immune import *\n",
    "\n",
    "\n",
    "ds = ImmuneDataset(adata, label_encoder_path)"
   ]
  },
  {
   "cell_type": "markdown",
   "id": "226a70b0-eccc-4343-91fe-b71abc6dc71f",
   "metadata": {},
   "source": [
    "# train"
   ]
  },
  {
   "cell_type": "code",
   "execution_count": 9,
   "id": "4b13ea2e-a320-4ce1-9341-6ff9ec910a47",
   "metadata": {},
   "outputs": [
    {
     "name": "stderr",
     "output_type": "stream",
     "text": [
      "2024-11-24 16:34:50,318 - WARNING - In order to use the mouse gastrulation seqFISH datsets, please install squidpy (see https://github.com/scverse/squidpy).\n",
      "2024-11-24 16:35:31,661 - INFO - Global seed set to 0\n",
      "/home/icb/fatemehs.hashemig/miniconda3/envs/apex-env/lib/python3.12/site-packages/pytorch_lightning/utilities/warnings.py:53: LightningDeprecationWarning: pytorch_lightning.utilities.warnings.rank_zero_deprecation has been deprecated in v1.6 and will be removed in v1.8. Use the equivalent function from the pytorch_lightning.utilities.rank_zero module instead.\n",
      "  new_rank_zero_deprecation(\n",
      "/home/icb/fatemehs.hashemig/miniconda3/envs/apex-env/lib/python3.12/site-packages/pytorch_lightning/utilities/warnings.py:58: LightningDeprecationWarning: The `pytorch_lightning.loggers.base.rank_zero_experiment` is deprecated in v1.7 and will be removed in v1.9. Please use `pytorch_lightning.loggers.logger.rank_zero_experiment` instead.\n",
      "  return new_rank_zero_deprecation(*args, **kwargs)\n",
      "2024-11-24 16:36:10,295 - WARNING - In order to use sagenet models, please install pytorch geometric (see https://pytorch-geometric.readthedocs.io) and \n",
      " captum (see https://github.com/pytorch/captum).\n",
      "2024-11-24 16:36:10,421 - WARNING - mvTCR is not installed. To use mvTCR models, please install it first using \"pip install mvtcr\"\n",
      "2024-11-24 16:36:10,422 - WARNING - multigrate is not installed. To use multigrate models, please install it first using \"pip install multigrate\".\n",
      "2024-11-24 16:36:11,377 - INFO - Loading faiss with AVX512 support.\n",
      "2024-11-24 16:36:11,378 - INFO - Could not load library with AVX512 support due to:\n",
      "ModuleNotFoundError(\"No module named 'faiss.swigfaiss_avx512'\")\n",
      "2024-11-24 16:36:11,378 - INFO - Loading faiss with AVX2 support.\n",
      "2024-11-24 16:36:11,379 - INFO - Could not load library with AVX2 support due to:\n",
      "ModuleNotFoundError(\"No module named 'faiss.swigfaiss_avx2'\")\n",
      "2024-11-24 16:36:11,380 - INFO - Loading faiss.\n",
      "2024-11-24 16:36:12,838 - INFO - Successfully loaded faiss.\n",
      "2024-11-24 16:36:21,263 - INFO - Starting '__init__' of class 'get train test'\n",
      "2024-11-24 16:36:21,304 - INFO - Finished '__init__' of class 'get train test' in 0.0404 seconds\n"
     ]
    }
   ],
   "source": [
    "# change configs, constants/MODEL_DIR to the directory you want to save model and results\n",
    "# then import trainer\n",
    "\n",
    "\n",
    "from interpretable_ssl.trainers.swav import *\n",
    "trainer = SwAV(debug=True, dataset=ds, augmentation_type='community')"
   ]
  },
  {
   "cell_type": "code",
   "execution_count": 10,
   "id": "7e740457-00d5-44e0-adc0-ee2b2cf7d8af",
   "metadata": {},
   "outputs": [],
   "source": [
    "trainer.pretraining_epochs = 5"
   ]
  },
  {
   "cell_type": "code",
   "execution_count": 11,
   "id": "1843a5d9-95f2-455c-8193-ce52cc54b303",
   "metadata": {},
   "outputs": [
    {
     "name": "stderr",
     "output_type": "stream",
     "text": [
      "INFO - 11/24/24 16:38:27 - 0:00:00 - ============ Initialized logger ============\n",
      "INFO - 11/24/24 16:38:27 - 0:00:00 - all_latent: None\n",
      "                                     augmentation_type: community\n",
      "                                     base_lr: 4.8\n",
      "                                     batch_size: 512\n",
      "                                     cell_type_key: cell_type\n",
      "                                     checkpoint_freq: 25\n",
      "                                     condition_key: study\n",
      "                                     crops_for_assign: [0, 1]\n",
      "                                     cvae_epochs: 0\n",
      "                                     cvae_loss_scaler: 0.0\n",
      "                                     cvae_reg: 0\n",
      "                                     dataset: pbmc-immune\n",
      "                                     dataset_id: pbmc-immune\n",
      "                                     debug: True\n",
      "                                     decodable_prototypes: 0\n",
      "                                     default_values: {'dataset_id': 'pbmc-immune', 'model_name_version': 6, 'num_prototypes': 300, 'hidden_dim': 64, 'latent_dims': 8, 'batch_size': 512, 'experiment_name': '', 'condition_key': 'study', 'cell_type_key': 'cell_type', 'linear_eval': False, 'only_eval': False, 'use_early_stopping': False, 'pretraining_epochs': 500, 'fine_tuning_epochs': 500, 'cvae_epochs': 0, 'training_type': 'semi_supervised', 'pretrain_dataset_id': 'hlca', 'finetune_dataset_id': 'pbmc-immune', 'dump_name_version': 4, 'nmb_crops': [8], 'augmentation_type': 'community', 'size_crops': [224], 'min_scale_crops': [0.14], 'max_scale_crops': [1], 'crops_for_assign': [0, 1], 'temperature': 0.05, 'epsilon': 0.02, 'sinkhorn_iterations': 3, 'feat_dim': 8, 'queue_length': 0, 'epoch_queue_starts': 15, 'base_lr': 4.8, 'final_lr': 0, 'wd': 1e-06, 'warmup_epochs': 10, 'start_warmup': 0, 'cvae_reg': 0, 'dist_url': 'env://', 'world_size': -1, 'rank': 0, 'local_rank': 0, 'workers': 10, 'checkpoint_freq': 25, 'use_fp16': False, 'sync_bn': 'pytorch', 'syncbn_process_group_size': 8, 'seed': 31, 'model': '', 'optimizer': '', 'lr_schedule': '', 'queue': None, 'train_loader': '', 'training_stats': '', 'device': 'cuda', 'cvae_loss_scaler': 0.0, 'prot_decoding_loss_scaler': 0.0, 'hidden_mlp': 1024, 'swav_dim': 64, 'use_projector': False, 'model_version': 1, 'train_decoder': False, 'longest_path': 3, 'dimensionality_reduction': None, 'k_neighbors': 10, 'model_type': 'swav', 'job_name': '', 'no_data': 'False', 'freezable_prototypes': True, 'freeze_prototypes_niters': 0, 'prot_init': 'random', 'propagation_reg': 0.0, 'prot_emb_sim_reg': 0.0, 'loss_type': 'cross_entropy', 'decodable_prototypes': 0}\n",
      "                                     device: cuda\n",
      "                                     dimensionality_reduction: None\n",
      "                                     dist_url: env://\n",
      "                                     dump_checkpoints: /home/icb/fatemehs.hashemig/models//pbmc-immune/swav/checkpoints\n",
      "                                     dump_name_version: 4\n",
      "                                     dump_path: /home/icb/fatemehs.hashemig/models//pbmc-immune/swav\n",
      "                                     epoch_queue_starts: 15\n",
      "                                     epsilon: 0.02\n",
      "                                     experiment_name: swav\n",
      "                                     feat_dim: 8\n",
      "                                     final_lr: 0\n",
      "                                     fine_tuning_epochs: 500\n",
      "                                     finetune_dataset_id: pbmc-immune\n",
      "                                     finetune_ds: None\n",
      "                                     finetuning: False\n",
      "                                     freezable_prototypes: True\n",
      "                                     freeze_prototypes_niters: 0\n",
      "                                     hidden_dim: 64\n",
      "                                     hidden_mlp: 1024\n",
      "                                     input_dim: 4000\n",
      "                                     is_swav: 1\n",
      "                                     job_name: \n",
      "                                     k_neighbors: 10\n",
      "                                     latent_dims: 8\n",
      "                                     linear_eval: False\n",
      "                                     local_rank: 0\n",
      "                                     longest_path: 3\n",
      "                                     loss_type: cross_entropy\n",
      "                                     lr_schedule: \n",
      "                                     max_scale_crops: [1]\n",
      "                                     min_scale_crops: [0.14]\n",
      "                                     model: \n",
      "                                     model_name_version: 6\n",
      "                                     model_type: swav\n",
      "                                     model_version: 1\n",
      "                                     nmb_crops: [8]\n",
      "                                     nmb_prototypes: 300\n",
      "                                     no_data: False\n",
      "                                     num_prototypes: 300\n",
      "                                     only_eval: False\n",
      "                                     optimizer: \n",
      "                                     original_ref: pbmc-immune\n",
      "                                     params: {'is_swav': 1, 'default_values': {'dataset_id': 'pbmc-immune', 'model_name_version': 6, 'num_prototypes': 300, 'hidden_dim': 64, 'latent_dims': 8, 'batch_size': 512, 'experiment_name': '', 'condition_key': 'study', 'cell_type_key': 'cell_type', 'linear_eval': False, 'only_eval': False, 'use_early_stopping': False, 'pretraining_epochs': 500, 'fine_tuning_epochs': 500, 'cvae_epochs': 0, 'training_type': 'semi_supervised', 'pretrain_dataset_id': 'hlca', 'finetune_dataset_id': 'pbmc-immune', 'dump_name_version': 4, 'nmb_crops': [8], 'augmentation_type': 'community', 'size_crops': [224], 'min_scale_crops': [0.14], 'max_scale_crops': [1], 'crops_for_assign': [0, 1], 'temperature': 0.05, 'epsilon': 0.02, 'sinkhorn_iterations': 3, 'feat_dim': 8, 'queue_length': 0, 'epoch_queue_starts': 15, 'base_lr': 4.8, 'final_lr': 0, 'wd': 1e-06, 'warmup_epochs': 10, 'start_warmup': 0, 'cvae_reg': 0, 'dist_url': 'env://', 'world_size': -1, 'rank': 0, 'local_rank': 0, 'workers': 10, 'checkpoint_freq': 25, 'use_fp16': False, 'sync_bn': 'pytorch', 'syncbn_process_group_size': 8, 'seed': 31, 'model': '', 'optimizer': '', 'lr_schedule': '', 'queue': None, 'train_loader': '', 'training_stats': '', 'device': 'cuda', 'cvae_loss_scaler': 0.0, 'prot_decoding_loss_scaler': 0.0, 'hidden_mlp': 1024, 'swav_dim': 64, 'use_projector': False, 'model_version': 1, 'train_decoder': False, 'longest_path': 3, 'dimensionality_reduction': None, 'k_neighbors': 10, 'model_type': 'swav', 'job_name': '', 'no_data': 'False', 'freezable_prototypes': True, 'freeze_prototypes_niters': 0, 'prot_init': 'random', 'propagation_reg': 0.0, 'prot_emb_sim_reg': 0.0, 'loss_type': 'cross_entropy', 'decodable_prototypes': 0}, 'dataset_id': 'pbmc-immune', 'model_name_version': 6, 'num_prototypes': 300, 'hidden_dim': 64, 'latent_dims': 8, 'batch_size': 512, 'experiment_name': 'swav', 'condition_key': 'study', 'cell_type_key': 'cell_type', 'linear_eval': False, 'only_eval': False, 'use_early_stopping': False, 'pretraining_epochs': 500, 'fine_tuning_epochs': 500, 'cvae_epochs': 0, 'training_type': 'semi_supervised', 'pretrain_dataset_id': 'hlca', 'finetune_dataset_id': 'pbmc-immune', 'dump_name_version': 4, 'nmb_crops': [8], 'augmentation_type': 'community', 'size_crops': [224], 'min_scale_crops': [0.14], 'max_scale_crops': [1], 'crops_for_assign': [0, 1], 'temperature': 0.05, 'epsilon': 0.02, 'sinkhorn_iterations': 3, 'feat_dim': 8, 'queue_length': 0, 'epoch_queue_starts': 15, 'base_lr': 4.8, 'final_lr': 0, 'wd': 1e-06, 'warmup_epochs': 10, 'start_warmup': 0, 'cvae_reg': 0, 'dist_url': 'env://', 'world_size': -1, 'rank': 0, 'local_rank': 0, 'workers': 10, 'checkpoint_freq': 25, 'use_fp16': False, 'sync_bn': 'pytorch', 'syncbn_process_group_size': 8, 'seed': 31, 'model': '', 'optimizer': '', 'lr_schedule': '', 'queue': None, 'train_loader': '', 'training_stats': '', 'device': 'cuda', 'cvae_loss_scaler': 0.0, 'prot_decoding_loss_scaler': 0.0, 'hidden_mlp': 1024, 'swav_dim': 64, 'use_projector': False, 'model_version': 1, 'train_decoder': False, 'longest_path': 3, 'dimensionality_reduction': None, 'k_neighbors': 10, 'model_type': 'swav', 'job_name': '', 'no_data': 'False', 'freezable_prototypes': True, 'freeze_prototypes_niters': 0, 'prot_init': 'random', 'propagation_reg': 0.0, 'prot_emb_sim_reg': 0.0, 'loss_type': 'cross_entropy', 'decodable_prototypes': 0}\n",
      "                                     partial_ref: None\n",
      "                                     pretrain_dataset_id: hlca\n",
      "                                     pretraining_epochs: 5\n",
      "                                     propagation_reg: 0.0\n",
      "                                     prot_decoding_loss_scaler: 0.0\n",
      "                                     prot_emb_sim_reg: 0.0\n",
      "                                     prot_init: random\n",
      "                                     query: pbmc-immune\n",
      "                                     query_latent: None\n",
      "                                     queue: None\n",
      "                                     queue_length: 0\n",
      "                                     rank: 0\n",
      "                                     ref: pbmc-immune\n",
      "                                     ref_latent: None\n",
      "                                     seed: 31\n",
      "                                     sinkhorn_iterations: 3\n",
      "                                     size_crops: [224]\n",
      "                                     start_warmup: 0\n",
      "                                     swav_dim: 64\n",
      "                                     sync_bn: pytorch\n",
      "                                     syncbn_process_group_size: 8\n",
      "                                     temperature: 0.05\n",
      "                                     train_augmentation: community\n",
      "                                     train_decoder: False\n",
      "                                     train_loader: \n",
      "                                     training_stats: \n",
      "                                     training_type: semi_supervised\n",
      "                                     transfer_learning_mode: False\n",
      "                                     use_early_stopping: False\n",
      "                                     use_fp16: False\n",
      "                                     use_projector: False\n",
      "                                     use_projector_out: False\n",
      "                                     warmup_epochs: 10\n",
      "                                     wd: 1e-06\n",
      "                                     workers: 10\n",
      "                                     world_size: -1\n",
      "INFO - 11/24/24 16:38:27 - 0:00:00 - The experiment will be stored in /home/icb/fatemehs.hashemig/models//pbmc-immune/swav\n",
      "                                     \n",
      "\n"
     ]
    },
    {
     "name": "stdout",
     "output_type": "stream",
     "text": [
      "Embedding dictionary:\n",
      " \tNum conditions: [3]\n",
      " \tEmbedding dim: [10]\n",
      "Encoder Architecture:\n",
      "\tInput Layer in, out and cond: 4000 64 10\n",
      "\tMean/Var Layer in/out: 64 8\n",
      "Decoder Architecture:\n",
      "\tFirst Layer in, out and cond:  8 64 10\n",
      "\tOutput Layer in/out:  64 4000 \n",
      "\n"
     ]
    },
    {
     "name": "stderr",
     "output_type": "stream",
     "text": [
      "INFO - 11/24/24 16:38:31 - 0:00:04 - SwAVModel(\n",
      "                                       (scpoli_encoder): scpoli(\n",
      "                                         (embeddings): ModuleList(\n",
      "                                           (0): Embedding(3, 10, max_norm=1.0)\n",
      "                                         )\n",
      "                                         (encoder): Encoder(\n",
      "                                           (FC): Sequential(\n",
      "                                             (L0): CondLayers(\n",
      "                                               (expr_L): Linear(in_features=4000, out_features=64, bias=True)\n",
      "                                               (cond_L): Linear(in_features=10, out_features=64, bias=False)\n",
      "                                             )\n",
      "                                             (N0): LayerNorm((64,), eps=1e-05, elementwise_affine=False)\n",
      "                                             (A0): ReLU()\n",
      "                                             (D0): Dropout(p=0.05, inplace=False)\n",
      "                                           )\n",
      "                                           (mean_encoder): Linear(in_features=64, out_features=8, bias=True)\n",
      "                                           (log_var_encoder): Linear(in_features=64, out_features=8, bias=True)\n",
      "                                         )\n",
      "                                         (decoder): Decoder(\n",
      "                                           (FirstL): Sequential(\n",
      "                                             (L0): CondLayers(\n",
      "                                               (expr_L): Linear(in_features=8, out_features=64, bias=False)\n",
      "                                               (cond_L): Linear(in_features=10, out_features=64, bias=False)\n",
      "                                             )\n",
      "                                             (N0): LayerNorm((64,), eps=1e-05, elementwise_affine=False)\n",
      "                                             (A0): ReLU()\n",
      "                                             (D0): Dropout(p=0.05, inplace=False)\n",
      "                                           )\n",
      "                                           (HiddenL): Sequential()\n",
      "                                           (mean_decoder): Sequential(\n",
      "                                             (0): Linear(in_features=64, out_features=4000, bias=True)\n",
      "                                             (1): Softmax(dim=-1)\n",
      "                                           )\n",
      "                                         )\n",
      "                                       )\n",
      "                                       (prototypes): Linear(in_features=8, out_features=300, bias=False)\n",
      "                                     )\n",
      "INFO - 11/24/24 16:38:31 - 0:00:04 - Building model done. with prot init random\n",
      "INFO - 11/24/24 16:38:31 - 0:00:04 - Building data done with 29137 samples loaded.\n",
      "INFO - 11/24/24 16:38:31 - 0:00:04 - Building optimizer done.\n",
      "INFO - 11/24/24 16:38:31 - 0:00:04 - no mixed precision\n"
     ]
    }
   ],
   "source": [
    "trainer.setup()"
   ]
  },
  {
   "cell_type": "code",
   "execution_count": null,
   "id": "2e2a277e-4b9b-41af-90aa-2b64ea9c2f94",
   "metadata": {},
   "outputs": [
    {
     "name": "stderr",
     "output_type": "stream",
     "text": [
      "ERROR - 11/24/24 16:38:48 - 0:00:21 - Failed to detect the name of this notebook, you can set it manually with the WANDB_NOTEBOOK_NAME environment variable to enable code saving.\n",
      "\u001b[34m\u001b[1mwandb\u001b[0m: Currently logged in as: \u001b[33mfatemehs-hashemig\u001b[0m. Use \u001b[1m`wandb login --relogin`\u001b[0m to force relogin\n"
     ]
    },
    {
     "data": {
      "text/html": [
       "wandb version 0.18.7 is available!  To upgrade, please run:\n",
       " $ pip install wandb --upgrade"
      ],
      "text/plain": [
       "<IPython.core.display.HTML object>"
      ]
     },
     "metadata": {},
     "output_type": "display_data"
    },
    {
     "data": {
      "text/html": [
       "Tracking run with wandb version 0.16.5"
      ],
      "text/plain": [
       "<IPython.core.display.HTML object>"
      ]
     },
     "metadata": {},
     "output_type": "display_data"
    },
    {
     "data": {
      "text/html": [
       "Run data is saved locally in <code>/ictstr01/home/icb/fatemehs.hashemig/codes/interpretable-ssl/wandb/run-20241124_163851-pk9dcx4p</code>"
      ],
      "text/plain": [
       "<IPython.core.display.HTML object>"
      ]
     },
     "metadata": {},
     "output_type": "display_data"
    },
    {
     "data": {
      "text/html": [
       "Syncing run <strong><a href='https://wandb.ai/fatemehs-hashemig/interpretable-ssl/runs/pk9dcx4p/workspace' target=\"_blank\">swav/pbmc-immune</a></strong> to <a href='https://wandb.ai/fatemehs-hashemig/interpretable-ssl' target=\"_blank\">Weights & Biases</a> (<a href='https://wandb.me/run' target=\"_blank\">docs</a>)<br/>"
      ],
      "text/plain": [
       "<IPython.core.display.HTML object>"
      ]
     },
     "metadata": {},
     "output_type": "display_data"
    },
    {
     "data": {
      "text/html": [
       " View project at <a href='https://wandb.ai/fatemehs-hashemig/interpretable-ssl' target=\"_blank\">https://wandb.ai/fatemehs-hashemig/interpretable-ssl</a>"
      ],
      "text/plain": [
       "<IPython.core.display.HTML object>"
      ]
     },
     "metadata": {},
     "output_type": "display_data"
    },
    {
     "data": {
      "text/html": [
       " View run at <a href='https://wandb.ai/fatemehs-hashemig/interpretable-ssl/runs/pk9dcx4p/workspace' target=\"_blank\">https://wandb.ai/fatemehs-hashemig/interpretable-ssl/runs/pk9dcx4p/workspace</a>"
      ],
      "text/plain": [
       "<IPython.core.display.HTML object>"
      ]
     },
     "metadata": {},
     "output_type": "display_data"
    },
    {
     "name": "stderr",
     "output_type": "stream",
     "text": [
      "INFO - 11/24/24 16:39:13 - 0:00:46 - ============ Starting epoch 0============\n",
      "100%|██████████| 57/57 [00:17<00:00,  3.27it/s]\n",
      "INFO - 11/24/24 16:40:10 - 0:01:43 - Starting to build community graph.\n",
      "INFO - 11/24/24 16:40:10 - 0:01:43 - Starting to build community graph.\n",
      "INFO - 11/24/24 16:40:10 - 0:01:43 - Starting to build community graph.\n",
      "INFO - 11/24/24 16:40:10 - 0:01:43 - Running Scanpy neighbors with k=11.\n",
      "INFO - 11/24/24 16:40:10 - 0:01:43 - Running Scanpy neighbors with k=11.\n",
      "INFO - 11/24/24 16:40:10 - 0:01:43 - Starting to build community graph.\n",
      "INFO - 11/24/24 16:40:10 - 0:01:43 - Running Scanpy neighbors with k=11.\n"
     ]
    },
    {
     "name": "stdout",
     "output_type": "stream",
     "text": [
      "WARNING: You’re trying to run this on 4000 dimensions of `.X`, if you really want this, set `use_rep='X'`.\n",
      "         Falling back to preprocessing with `sc.pp.pca` and default params.\n"
     ]
    },
    {
     "name": "stderr",
     "output_type": "stream",
     "text": [
      "INFO - 11/24/24 16:40:10 - 0:01:43 - Starting to build community graph.\n",
      "INFO - 11/24/24 16:40:10 - 0:01:43 - Running Scanpy neighbors with k=11.\n"
     ]
    },
    {
     "name": "stdout",
     "output_type": "stream",
     "text": [
      "WARNING: You’re trying to run this on 4000 dimensions of `.X`, if you really want this, set `use_rep='X'`.\n",
      "         Falling back to preprocessing with `sc.pp.pca` and default params.\n",
      "WARNING: You’re trying to run this on 4000 dimensions of `.X`, if you really want this, set `use_rep='X'`.\n",
      "         Falling back to preprocessing with `sc.pp.pca` and default params.\n"
     ]
    },
    {
     "name": "stderr",
     "output_type": "stream",
     "text": [
      "INFO - 11/24/24 16:40:10 - 0:01:43 - Starting to build community graph.\n",
      "INFO - 11/24/24 16:40:10 - 0:01:43 - Starting to build community graph.\n"
     ]
    },
    {
     "name": "stdout",
     "output_type": "stream",
     "text": [
      "WARNING: You’re trying to run this on 4000 dimensions of `.X`, if you really want this, set `use_rep='X'`.\n",
      "         Falling back to preprocessing with `sc.pp.pca` and default params.\n"
     ]
    },
    {
     "name": "stderr",
     "output_type": "stream",
     "text": [
      "INFO - 11/24/24 16:40:10 - 0:01:43 - Starting to build community graph.\n",
      "INFO - 11/24/24 16:40:10 - 0:01:43 - Running Scanpy neighbors with k=11.\n",
      "INFO - 11/24/24 16:40:10 - 0:01:43 - Starting to build community graph.\n",
      "INFO - 11/24/24 16:40:10 - 0:01:43 - Running Scanpy neighbors with k=11.\n",
      "INFO - 11/24/24 16:40:10 - 0:01:43 - Starting to build community graph.\n"
     ]
    },
    {
     "name": "stdout",
     "output_type": "stream",
     "text": [
      "WARNING: You’re trying to run this on 4000 dimensions of `.X`, if you really want this, set `use_rep='X'`.\n",
      "         Falling back to preprocessing with `sc.pp.pca` and default params.\n"
     ]
    },
    {
     "name": "stderr",
     "output_type": "stream",
     "text": [
      "INFO - 11/24/24 16:40:10 - 0:01:43 - Running Scanpy neighbors with k=11.\n",
      "INFO - 11/24/24 16:40:10 - 0:01:43 - Running Scanpy neighbors with k=11.\n",
      "INFO - 11/24/24 16:40:10 - 0:01:43 - Running Scanpy neighbors with k=11.\n",
      "INFO - 11/24/24 16:40:10 - 0:01:43 - Running Scanpy neighbors with k=11.\n"
     ]
    },
    {
     "name": "stdout",
     "output_type": "stream",
     "text": [
      "WARNING: You’re trying to run this on 4000 dimensions of `.X`, if you really want this, set `use_rep='X'`.\n",
      "         Falling back to preprocessing with `sc.pp.pca` and default params.\n",
      "WARNING: You’re trying to run this on 4000 dimensions of `.X`, if you really want this, set `use_rep='X'`.\n",
      "         Falling back to preprocessing with `sc.pp.pca` and default params.\n",
      "WARNING: You’re trying to run this on 4000 dimensions of `.X`, if you really want this, set `use_rep='X'`.\n",
      "         Falling back to preprocessing with `sc.pp.pca` and default params.\n",
      "WARNING: You’re trying to run this on 4000 dimensions of `.X`, if you really want this, set `use_rep='X'`.\n",
      "         Falling back to preprocessing with `sc.pp.pca` and default params.\n",
      "WARNING: You’re trying to run this on 4000 dimensions of `.X`, if you really want this, set `use_rep='X'`.\n",
      "         Falling back to preprocessing with `sc.pp.pca` and default params.\n"
     ]
    },
    {
     "name": "stderr",
     "output_type": "stream",
     "text": [
      "INFO - 11/24/24 16:40:39 - 0:02:12 - Performing Leiden community detection.\n",
      "INFO - 11/24/24 16:40:39 - 0:02:12 - Performing Leiden community detection.\n",
      "INFO - 11/24/24 16:40:39 - 0:02:12 - Performing Leiden community detection.\n",
      "INFO - 11/24/24 16:40:39 - 0:02:12 - Performing Leiden community detection.\n",
      "INFO - 11/24/24 16:40:39 - 0:02:12 - Performing Leiden community detection.\n",
      "INFO - 11/24/24 16:40:39 - 0:02:12 - Performing Leiden community detection.\n",
      "INFO - 11/24/24 16:40:39 - 0:02:12 - Performing Leiden community detection.\n",
      "INFO - 11/24/24 16:40:40 - 0:02:13 - Performing Leiden community detection.\n",
      "INFO - 11/24/24 16:40:40 - 0:02:13 - Performing Leiden community detection.\n",
      "INFO - 11/24/24 16:40:40 - 0:02:13 - Performing Leiden community detection.\n",
      "INFO - 11/24/24 16:40:46 - 0:02:19 - Community labels assigned to the cells.\n",
      "INFO - 11/24/24 16:40:47 - 0:02:20 - Community labels assigned to the cells.\n",
      "INFO - 11/24/24 16:40:47 - 0:02:20 - Community labels assigned to the cells.\n",
      "INFO - 11/24/24 16:40:47 - 0:02:20 - Community labels assigned to the cells.\n",
      "INFO - 11/24/24 16:40:51 - 0:02:24 - Community labels assigned to the cells.\n",
      "INFO - 11/24/24 16:40:51 - 0:02:24 - Community labels assigned to the cells.\n",
      "INFO - 11/24/24 16:40:51 - 0:02:24 - Community labels assigned to the cells.\n",
      "INFO - 11/24/24 16:40:52 - 0:02:24 - Community labels assigned to the cells.\n",
      "INFO - 11/24/24 16:40:52 - 0:02:24 - Community labels assigned to the cells.\n",
      "INFO - 11/24/24 16:40:52 - 0:02:25 - Community labels assigned to the cells.\n",
      "INFO - 11/24/24 16:40:57 - 0:02:30 - Epoch: [0][0]\tTime 49.204 (49.204)\tData 45.169 (45.169)\tLoss 15.8368 (15.8368)\tLr: 0.0000\n",
      "INFO - 11/24/24 16:41:07 - 0:02:40 - Epoch: [0][50]\tTime 0.133 (1.153)\tData 0.098 (1.009)\tLoss 11.0237 (13.8869)\tLr: 0.4293\n",
      "100%|██████████| 57/57 [00:03<00:00, 15.17it/s]\n",
      "INFO - 11/24/24 16:41:12 - 0:02:45 - ============ Starting epoch 1============\n",
      "INFO - 11/24/24 16:41:13 - 0:02:46 - Starting to build community graph.\n",
      "INFO - 11/24/24 16:41:13 - 0:02:46 - Starting to build community graph.\n",
      "INFO - 11/24/24 16:41:13 - 0:02:46 - Starting to build community graph.\n",
      "INFO - 11/24/24 16:41:13 - 0:02:46 - Running Scanpy neighbors with k=11.\n",
      "INFO - 11/24/24 16:41:13 - 0:02:46 - Starting to build community graph.\n",
      "INFO - 11/24/24 16:41:13 - 0:02:46 - Starting to build community graph.\n",
      "INFO - 11/24/24 16:41:13 - 0:02:46 - Running Scanpy neighbors with k=11.\n",
      "INFO - 11/24/24 16:41:13 - 0:02:46 - Running Scanpy neighbors with k=11.\n"
     ]
    },
    {
     "name": "stdout",
     "output_type": "stream",
     "text": [
      "WARNING: You’re trying to run this on 4000 dimensions of `.X`, if you really want this, set `use_rep='X'`.\n",
      "         Falling back to preprocessing with `sc.pp.pca` and default params.\n"
     ]
    },
    {
     "name": "stderr",
     "output_type": "stream",
     "text": [
      "INFO - 11/24/24 16:41:13 - 0:02:46 - Running Scanpy neighbors with k=11.\n",
      "INFO - 11/24/24 16:41:13 - 0:02:46 - Starting to build community graph.\n",
      "INFO - 11/24/24 16:41:13 - 0:02:46 - Starting to build community graph.\n",
      "INFO - 11/24/24 16:41:13 - 0:02:46 - Running Scanpy neighbors with k=11.\n"
     ]
    },
    {
     "name": "stdout",
     "output_type": "stream",
     "text": [
      "WARNING: You’re trying to run this on 4000 dimensions of `.X`, if you really want this, set `use_rep='X'`.\n",
      "         Falling back to preprocessing with `sc.pp.pca` and default params.\n",
      "WARNING: You’re trying to run this on 4000 dimensions of `.X`, if you really want this, set `use_rep='X'`.\n",
      "         Falling back to preprocessing with `sc.pp.pca` and default params.\n"
     ]
    },
    {
     "name": "stderr",
     "output_type": "stream",
     "text": [
      "INFO - 11/24/24 16:41:13 - 0:02:46 - Starting to build community graph.\n"
     ]
    },
    {
     "name": "stdout",
     "output_type": "stream",
     "text": [
      "WARNING: You’re trying to run this on 4000 dimensions of `.X`, if you really want this, set `use_rep='X'`.\n",
      "         Falling back to preprocessing with `sc.pp.pca` and default params.\n"
     ]
    },
    {
     "name": "stderr",
     "output_type": "stream",
     "text": [
      "INFO - 11/24/24 16:41:13 - 0:02:46 - Running Scanpy neighbors with k=11.\n"
     ]
    },
    {
     "name": "stdout",
     "output_type": "stream",
     "text": [
      "WARNING: You’re trying to run this on 4000 dimensions of `.X`, if you really want this, set `use_rep='X'`.\n",
      "         Falling back to preprocessing with `sc.pp.pca` and default params.\n"
     ]
    },
    {
     "name": "stderr",
     "output_type": "stream",
     "text": [
      "INFO - 11/24/24 16:41:13 - 0:02:46 - Starting to build community graph.\n"
     ]
    },
    {
     "name": "stdout",
     "output_type": "stream",
     "text": [
      "WARNING: You’re trying to run this on 4000 dimensions of `.X`, if you really want this, set `use_rep='X'`.\n",
      "         Falling back to preprocessing with `sc.pp.pca` and default params.\n"
     ]
    },
    {
     "name": "stderr",
     "output_type": "stream",
     "text": [
      "INFO - 11/24/24 16:41:13 - 0:02:46 - Running Scanpy neighbors with k=11.\n",
      "INFO - 11/24/24 16:41:13 - 0:02:46 - Running Scanpy neighbors with k=11.\n",
      "INFO - 11/24/24 16:41:13 - 0:02:46 - Running Scanpy neighbors with k=11.\n"
     ]
    },
    {
     "name": "stdout",
     "output_type": "stream",
     "text": [
      "WARNING: You’re trying to run this on 4000 dimensions of `.X`, if you really want this, set `use_rep='X'`.\n",
      "         Falling back to preprocessing with `sc.pp.pca` and default params.\n",
      "WARNING: You’re trying to run this on 4000 dimensions of `.X`, if you really want this, set `use_rep='X'`.\n",
      "         Falling back to preprocessing with `sc.pp.pca` and default params.\n",
      "WARNING: You’re trying to run this on 4000 dimensions of `.X`, if you really want this, set `use_rep='X'`.\n",
      "         Falling back to preprocessing with `sc.pp.pca` and default params.\n"
     ]
    },
    {
     "name": "stderr",
     "output_type": "stream",
     "text": [
      "INFO - 11/24/24 16:41:13 - 0:02:46 - Starting to build community graph.\n",
      "INFO - 11/24/24 16:41:13 - 0:02:46 - Running Scanpy neighbors with k=11.\n"
     ]
    },
    {
     "name": "stdout",
     "output_type": "stream",
     "text": [
      "WARNING: You’re trying to run this on 4000 dimensions of `.X`, if you really want this, set `use_rep='X'`.\n",
      "         Falling back to preprocessing with `sc.pp.pca` and default params.\n"
     ]
    },
    {
     "name": "stderr",
     "output_type": "stream",
     "text": [
      "INFO - 11/24/24 16:41:41 - 0:03:14 - Performing Leiden community detection.\n",
      "INFO - 11/24/24 16:41:41 - 0:03:14 - Performing Leiden community detection.\n",
      "INFO - 11/24/24 16:41:42 - 0:03:15 - Performing Leiden community detection.\n",
      "INFO - 11/24/24 16:41:42 - 0:03:15 - Performing Leiden community detection.\n",
      "INFO - 11/24/24 16:41:42 - 0:03:15 - Performing Leiden community detection.\n",
      "INFO - 11/24/24 16:41:42 - 0:03:15 - Performing Leiden community detection.\n",
      "INFO - 11/24/24 16:41:42 - 0:03:15 - Performing Leiden community detection.\n",
      "INFO - 11/24/24 16:41:42 - 0:03:15 - Performing Leiden community detection.\n",
      "INFO - 11/24/24 16:41:42 - 0:03:15 - Performing Leiden community detection.\n",
      "INFO - 11/24/24 16:41:42 - 0:03:15 - Performing Leiden community detection.\n",
      "INFO - 11/24/24 16:41:49 - 0:03:22 - Community labels assigned to the cells.\n",
      "INFO - 11/24/24 16:41:49 - 0:03:22 - Community labels assigned to the cells.\n",
      "INFO - 11/24/24 16:41:49 - 0:03:22 - Community labels assigned to the cells.\n",
      "INFO - 11/24/24 16:41:50 - 0:03:23 - Community labels assigned to the cells.\n",
      "INFO - 11/24/24 16:41:51 - 0:03:24 - Epoch: [1][0]\tTime 38.948 (38.948)\tData 38.872 (38.872)\tLoss 10.5975 (10.5975)\tLr: 0.4809\n",
      "INFO - 11/24/24 16:41:53 - 0:03:26 - Community labels assigned to the cells.\n",
      "INFO - 11/24/24 16:41:54 - 0:03:27 - Community labels assigned to the cells.\n",
      "INFO - 11/24/24 16:41:54 - 0:03:27 - Community labels assigned to the cells.\n",
      "INFO - 11/24/24 16:41:54 - 0:03:27 - Community labels assigned to the cells.\n",
      "INFO - 11/24/24 16:41:54 - 0:03:27 - Community labels assigned to the cells.\n",
      "INFO - 11/24/24 16:41:54 - 0:03:27 - Community labels assigned to the cells.\n",
      "INFO - 11/24/24 16:42:07 - 0:03:40 - Epoch: [1][50]\tTime 0.033 (1.066)\tData 0.000 (1.000)\tLoss 5.8342 (8.2538)\tLr: 0.9102\n",
      "INFO - 11/24/24 16:42:07 - 0:03:40 - ============ Starting epoch 2============\n",
      "INFO - 11/24/24 16:42:08 - 0:03:41 - Starting to build community graph.\n",
      "INFO - 11/24/24 16:42:08 - 0:03:41 - Starting to build community graph.\n",
      "INFO - 11/24/24 16:42:08 - 0:03:41 - Starting to build community graph.\n",
      "INFO - 11/24/24 16:42:08 - 0:03:41 - Running Scanpy neighbors with k=11.\n",
      "INFO - 11/24/24 16:42:08 - 0:03:41 - Running Scanpy neighbors with k=11.\n"
     ]
    },
    {
     "name": "stdout",
     "output_type": "stream",
     "text": [
      "WARNING: You’re trying to run this on 4000 dimensions of `.X`, if you really want this, set `use_rep='X'`.\n",
      "         Falling back to preprocessing with `sc.pp.pca` and default params.\n",
      "WARNING: You’re trying to run this on 4000 dimensions of `.X`, if you really want this, set `use_rep='X'`.\n",
      "         Falling back to preprocessing with `sc.pp.pca` and default params.\n"
     ]
    },
    {
     "name": "stderr",
     "output_type": "stream",
     "text": [
      "INFO - 11/24/24 16:42:08 - 0:03:41 - Starting to build community graph.\n",
      "INFO - 11/24/24 16:42:08 - 0:03:41 - Starting to build community graph.\n",
      "INFO - 11/24/24 16:42:08 - 0:03:41 - Starting to build community graph.\n",
      "INFO - 11/24/24 16:42:08 - 0:03:41 - Starting to build community graph.\n",
      "INFO - 11/24/24 16:42:08 - 0:03:41 - Running Scanpy neighbors with k=11.\n",
      "INFO - 11/24/24 16:42:08 - 0:03:41 - Starting to build community graph.\n",
      "INFO - 11/24/24 16:42:08 - 0:03:41 - Running Scanpy neighbors with k=11.\n",
      "INFO - 11/24/24 16:42:08 - 0:03:41 - Running Scanpy neighbors with k=11.\n",
      "INFO - 11/24/24 16:42:08 - 0:03:41 - Starting to build community graph.\n",
      "INFO - 11/24/24 16:42:08 - 0:03:41 - Running Scanpy neighbors with k=11.\n",
      "INFO - 11/24/24 16:42:08 - 0:03:41 - Running Scanpy neighbors with k=11.\n",
      "INFO - 11/24/24 16:42:08 - 0:03:41 - Running Scanpy neighbors with k=11.\n"
     ]
    },
    {
     "name": "stdout",
     "output_type": "stream",
     "text": [
      "WARNING: You’re trying to run this on 4000 dimensions of `.X`, if you really want this, set `use_rep='X'`.\n",
      "         Falling back to preprocessing with `sc.pp.pca` and default params.\n"
     ]
    },
    {
     "name": "stderr",
     "output_type": "stream",
     "text": [
      "INFO - 11/24/24 16:42:08 - 0:03:41 - Starting to build community graph.\n"
     ]
    },
    {
     "name": "stdout",
     "output_type": "stream",
     "text": [
      "WARNING: You’re trying to run this on 4000 dimensions of `.X`, if you really want this, set `use_rep='X'`.\n",
      "         Falling back to preprocessing with `sc.pp.pca` and default params.\n",
      "WARNING: You’re trying to run this on 4000 dimensions of `.X`, if you really want this, set `use_rep='X'`.\n",
      "         Falling back to preprocessing with `sc.pp.pca` and default params.\n",
      "WARNING: You’re trying to run this on 4000 dimensions of `.X`, if you really want this, set `use_rep='X'`.\n",
      "         Falling back to preprocessing with `sc.pp.pca` and default params.\n",
      "WARNING: You’re trying to run this on 4000 dimensions of `.X`, if you really want this, set `use_rep='X'`.\n",
      "         Falling back to preprocessing with `sc.pp.pca` and default params.\n",
      "WARNING: You’re trying to run this on 4000 dimensions of `.X`, if you really want this, set `use_rep='X'`.\n",
      "         Falling back to preprocessing with `sc.pp.pca` and default params.\n"
     ]
    },
    {
     "name": "stderr",
     "output_type": "stream",
     "text": [
      "INFO - 11/24/24 16:42:08 - 0:03:41 - Running Scanpy neighbors with k=11.\n",
      "INFO - 11/24/24 16:42:08 - 0:03:41 - Running Scanpy neighbors with k=11.\n"
     ]
    },
    {
     "name": "stdout",
     "output_type": "stream",
     "text": [
      "WARNING: You’re trying to run this on 4000 dimensions of `.X`, if you really want this, set `use_rep='X'`.\n",
      "         Falling back to preprocessing with `sc.pp.pca` and default params.\n",
      "WARNING: You’re trying to run this on 4000 dimensions of `.X`, if you really want this, set `use_rep='X'`.\n",
      "         Falling back to preprocessing with `sc.pp.pca` and default params.\n"
     ]
    },
    {
     "name": "stderr",
     "output_type": "stream",
     "text": [
      "INFO - 11/24/24 16:42:32 - 0:04:05 - Performing Leiden community detection.\n",
      "INFO - 11/24/24 16:42:33 - 0:04:06 - Performing Leiden community detection.\n",
      "INFO - 11/24/24 16:42:34 - 0:04:07 - Performing Leiden community detection.\n",
      "INFO - 11/24/24 16:42:35 - 0:04:07 - Performing Leiden community detection.\n",
      "INFO - 11/24/24 16:42:38 - 0:04:11 - Performing Leiden community detection.\n",
      "INFO - 11/24/24 16:42:38 - 0:04:11 - Performing Leiden community detection.\n",
      "INFO - 11/24/24 16:42:38 - 0:04:11 - Performing Leiden community detection.\n",
      "INFO - 11/24/24 16:42:39 - 0:04:12 - Performing Leiden community detection.\n",
      "INFO - 11/24/24 16:42:39 - 0:04:12 - Performing Leiden community detection.\n",
      "INFO - 11/24/24 16:42:39 - 0:04:12 - Performing Leiden community detection.\n",
      "INFO - 11/24/24 16:42:42 - 0:04:15 - Community labels assigned to the cells.\n",
      "INFO - 11/24/24 16:42:42 - 0:04:15 - Community labels assigned to the cells.\n",
      "INFO - 11/24/24 16:42:45 - 0:04:18 - Community labels assigned to the cells.\n",
      "INFO - 11/24/24 16:42:46 - 0:04:19 - Community labels assigned to the cells.\n",
      "INFO - 11/24/24 16:42:46 - 0:04:19 - Community labels assigned to the cells.\n",
      "INFO - 11/24/24 16:42:46 - 0:04:19 - Community labels assigned to the cells.\n",
      "INFO - 11/24/24 16:42:48 - 0:04:21 - Epoch: [2][0]\tTime 40.932 (40.932)\tData 40.882 (40.882)\tLoss 5.4961 (5.4961)\tLr: 0.9617\n",
      "INFO - 11/24/24 16:42:49 - 0:04:22 - Community labels assigned to the cells.\n",
      "INFO - 11/24/24 16:42:50 - 0:04:23 - Community labels assigned to the cells.\n",
      "INFO - 11/24/24 16:42:50 - 0:04:23 - Community labels assigned to the cells.\n",
      "INFO - 11/24/24 16:42:50 - 0:04:23 - Community labels assigned to the cells.\n",
      "INFO - 11/24/24 16:43:02 - 0:04:35 - Epoch: [2][50]\tTime 0.033 (1.067)\tData 0.000 (1.012)\tLoss 4.1969 (4.7660)\tLr: 1.3911\n",
      "INFO - 11/24/24 16:43:03 - 0:04:36 - ============ Starting epoch 3============\n",
      "INFO - 11/24/24 16:43:03 - 0:04:36 - Starting to build community graph.\n",
      "INFO - 11/24/24 16:43:03 - 0:04:36 - Starting to build community graph.\n",
      "INFO - 11/24/24 16:43:03 - 0:04:36 - Starting to build community graph.\n",
      "INFO - 11/24/24 16:43:03 - 0:04:36 - Running Scanpy neighbors with k=11.\n",
      "INFO - 11/24/24 16:43:03 - 0:04:36 - Running Scanpy neighbors with k=11.\n"
     ]
    },
    {
     "name": "stdout",
     "output_type": "stream",
     "text": [
      "WARNING: You’re trying to run this on 4000 dimensions of `.X`, if you really want this, set `use_rep='X'`.\n",
      "         Falling back to preprocessing with `sc.pp.pca` and default params.\n",
      "WARNING: You’re trying to run this on 4000 dimensions of `.X`, if you really want this, set `use_rep='X'`.\n",
      "         Falling back to preprocessing with `sc.pp.pca` and default params.\n"
     ]
    },
    {
     "name": "stderr",
     "output_type": "stream",
     "text": [
      "INFO - 11/24/24 16:43:03 - 0:04:36 - Running Scanpy neighbors with k=11.\n",
      "INFO - 11/24/24 16:43:03 - 0:04:36 - Starting to build community graph.\n"
     ]
    },
    {
     "name": "stdout",
     "output_type": "stream",
     "text": [
      "WARNING: You’re trying to run this on 4000 dimensions of `.X`, if you really want this, set `use_rep='X'`.\n",
      "         Falling back to preprocessing with `sc.pp.pca` and default params.\n"
     ]
    },
    {
     "name": "stderr",
     "output_type": "stream",
     "text": [
      "INFO - 11/24/24 16:43:03 - 0:04:36 - Running Scanpy neighbors with k=11.\n",
      "INFO - 11/24/24 16:43:03 - 0:04:36 - Starting to build community graph.\n",
      "INFO - 11/24/24 16:43:03 - 0:04:36 - Starting to build community graph.\n",
      "INFO - 11/24/24 16:43:03 - 0:04:36 - Starting to build community graph.\n",
      "INFO - 11/24/24 16:43:03 - 0:04:36 - Starting to build community graph.\n",
      "INFO - 11/24/24 16:43:03 - 0:04:36 - Running Scanpy neighbors with k=11.\n"
     ]
    },
    {
     "name": "stdout",
     "output_type": "stream",
     "text": [
      "WARNING: You’re trying to run this on 4000 dimensions of `.X`, if you really want this, set `use_rep='X'`.\n",
      "         Falling back to preprocessing with `sc.pp.pca` and default params.\n"
     ]
    },
    {
     "name": "stderr",
     "output_type": "stream",
     "text": [
      "INFO - 11/24/24 16:43:03 - 0:04:36 - Running Scanpy neighbors with k=11.\n"
     ]
    },
    {
     "name": "stdout",
     "output_type": "stream",
     "text": [
      "WARNING: You’re trying to run this on 4000 dimensions of `.X`, if you really want this, set `use_rep='X'`.\n",
      "         Falling back to preprocessing with `sc.pp.pca` and default params.\n"
     ]
    },
    {
     "name": "stderr",
     "output_type": "stream",
     "text": [
      "INFO - 11/24/24 16:43:03 - 0:04:36 - Starting to build community graph.\n"
     ]
    },
    {
     "name": "stdout",
     "output_type": "stream",
     "text": [
      "WARNING: You’re trying to run this on 4000 dimensions of `.X`, if you really want this, set `use_rep='X'`.\n",
      "         Falling back to preprocessing with `sc.pp.pca` and default params.\n"
     ]
    },
    {
     "name": "stderr",
     "output_type": "stream",
     "text": [
      "INFO - 11/24/24 16:43:03 - 0:04:36 - Starting to build community graph.\n",
      "INFO - 11/24/24 16:43:03 - 0:04:36 - Running Scanpy neighbors with k=11.\n",
      "INFO - 11/24/24 16:43:03 - 0:04:36 - Running Scanpy neighbors with k=11.\n",
      "INFO - 11/24/24 16:43:03 - 0:04:36 - Running Scanpy neighbors with k=11.\n",
      "INFO - 11/24/24 16:43:03 - 0:04:36 - Running Scanpy neighbors with k=11.\n"
     ]
    },
    {
     "name": "stdout",
     "output_type": "stream",
     "text": [
      "WARNING: You’re trying to run this on 4000 dimensions of `.X`, if you really want this, set `use_rep='X'`.\n",
      "         Falling back to preprocessing with `sc.pp.pca` and default params.\n",
      "WARNING: You’re trying to run this on 4000 dimensions of `.X`, if you really want this, set `use_rep='X'`.\n",
      "         Falling back to preprocessing with `sc.pp.pca` and default params.\n",
      "WARNING: You’re trying to run this on 4000 dimensions of `.X`, if you really want this, set `use_rep='X'`.\n",
      "         Falling back to preprocessing with `sc.pp.pca` and default params.\n",
      "WARNING: You’re trying to run this on 4000 dimensions of `.X`, if you really want this, set `use_rep='X'`.\n",
      "         Falling back to preprocessing with `sc.pp.pca` and default params.\n"
     ]
    },
    {
     "name": "stderr",
     "output_type": "stream",
     "text": [
      "INFO - 11/24/24 16:43:25 - 0:04:58 - Performing Leiden community detection.\n",
      "INFO - 11/24/24 16:43:26 - 0:04:59 - Performing Leiden community detection.\n",
      "INFO - 11/24/24 16:43:26 - 0:04:59 - Performing Leiden community detection.\n",
      "INFO - 11/24/24 16:43:30 - 0:05:03 - Performing Leiden community detection.\n",
      "INFO - 11/24/24 16:43:33 - 0:05:06 - Performing Leiden community detection.\n",
      "INFO - 11/24/24 16:43:34 - 0:05:06 - Performing Leiden community detection.\n",
      "INFO - 11/24/24 16:43:34 - 0:05:07 - Performing Leiden community detection.\n",
      "INFO - 11/24/24 16:43:34 - 0:05:07 - Performing Leiden community detection.\n",
      "INFO - 11/24/24 16:43:34 - 0:05:07 - Performing Leiden community detection.\n",
      "INFO - 11/24/24 16:43:35 - 0:05:08 - Performing Leiden community detection.\n",
      "INFO - 11/24/24 16:43:37 - 0:05:10 - Community labels assigned to the cells.\n",
      "INFO - 11/24/24 16:43:38 - 0:05:11 - Community labels assigned to the cells.\n",
      "INFO - 11/24/24 16:43:38 - 0:05:11 - Community labels assigned to the cells.\n",
      "INFO - 11/24/24 16:43:41 - 0:05:14 - Epoch: [3][0]\tTime 38.031 (38.031)\tData 37.921 (37.921)\tLoss 4.1014 (4.1014)\tLr: 1.4426\n",
      "INFO - 11/24/24 16:43:42 - 0:05:15 - Community labels assigned to the cells.\n",
      "INFO - 11/24/24 16:43:42 - 0:05:15 - Community labels assigned to the cells.\n",
      "INFO - 11/24/24 16:43:42 - 0:05:15 - Community labels assigned to the cells.\n",
      "INFO - 11/24/24 16:43:42 - 0:05:15 - Community labels assigned to the cells.\n",
      "INFO - 11/24/24 16:43:42 - 0:05:15 - Community labels assigned to the cells.\n",
      "INFO - 11/24/24 16:43:45 - 0:05:18 - Community labels assigned to the cells.\n",
      "INFO - 11/24/24 16:43:45 - 0:05:18 - Community labels assigned to the cells.\n",
      "INFO - 11/24/24 16:43:57 - 0:05:30 - Epoch: [3][50]\tTime 0.028 (1.068)\tData 0.000 (1.002)\tLoss 3.5318 (3.8502)\tLr: 1.8719\n",
      "INFO - 11/24/24 16:43:58 - 0:05:31 - ============ Starting epoch 4============\n",
      "INFO - 11/24/24 16:43:58 - 0:05:31 - Starting to build community graph.\n",
      "INFO - 11/24/24 16:43:58 - 0:05:31 - Starting to build community graph.\n",
      "INFO - 11/24/24 16:43:58 - 0:05:31 - Starting to build community graph.\n",
      "INFO - 11/24/24 16:43:58 - 0:05:31 - Running Scanpy neighbors with k=11.\n",
      "INFO - 11/24/24 16:43:58 - 0:05:31 - Running Scanpy neighbors with k=11.\n",
      "INFO - 11/24/24 16:43:58 - 0:05:31 - Running Scanpy neighbors with k=11.\n"
     ]
    },
    {
     "name": "stdout",
     "output_type": "stream",
     "text": [
      "WARNING: You’re trying to run this on 4000 dimensions of `.X`, if you really want this, set `use_rep='X'`.\n",
      "         Falling back to preprocessing with `sc.pp.pca` and default params.\n"
     ]
    },
    {
     "name": "stderr",
     "output_type": "stream",
     "text": [
      "INFO - 11/24/24 16:43:58 - 0:05:31 - Starting to build community graph.\n"
     ]
    },
    {
     "name": "stdout",
     "output_type": "stream",
     "text": [
      "WARNING: You’re trying to run this on 4000 dimensions of `.X`, if you really want this, set `use_rep='X'`.\n",
      "         Falling back to preprocessing with `sc.pp.pca` and default params.\n"
     ]
    },
    {
     "name": "stderr",
     "output_type": "stream",
     "text": [
      "INFO - 11/24/24 16:43:58 - 0:05:31 - Starting to build community graph.\n",
      "INFO - 11/24/24 16:43:58 - 0:05:31 - Starting to build community graph.\n"
     ]
    },
    {
     "name": "stdout",
     "output_type": "stream",
     "text": [
      "WARNING: You’re trying to run this on 4000 dimensions of `.X`, if you really want this, set `use_rep='X'`.\n",
      "         Falling back to preprocessing with `sc.pp.pca` and default params.\n"
     ]
    },
    {
     "name": "stderr",
     "output_type": "stream",
     "text": [
      "INFO - 11/24/24 16:43:58 - 0:05:31 - Starting to build community graph.\n",
      "INFO - 11/24/24 16:43:58 - 0:05:31 - Running Scanpy neighbors with k=11.\n",
      "INFO - 11/24/24 16:43:58 - 0:05:31 - Running Scanpy neighbors with k=11.\n",
      "INFO - 11/24/24 16:43:58 - 0:05:31 - Starting to build community graph.\n"
     ]
    },
    {
     "name": "stdout",
     "output_type": "stream",
     "text": [
      "WARNING: You’re trying to run this on 4000 dimensions of `.X`, if you really want this, set `use_rep='X'`.\n",
      "         Falling back to preprocessing with `sc.pp.pca` and default params.\n"
     ]
    },
    {
     "name": "stderr",
     "output_type": "stream",
     "text": [
      "INFO - 11/24/24 16:43:58 - 0:05:31 - Running Scanpy neighbors with k=11.\n",
      "INFO - 11/24/24 16:43:58 - 0:05:31 - Running Scanpy neighbors with k=11.\n",
      "INFO - 11/24/24 16:43:58 - 0:05:31 - Starting to build community graph.\n",
      "INFO - 11/24/24 16:43:58 - 0:05:31 - Running Scanpy neighbors with k=11.\n",
      "INFO - 11/24/24 16:43:58 - 0:05:31 - Starting to build community graph.\n",
      "INFO - 11/24/24 16:43:58 - 0:05:31 - Running Scanpy neighbors with k=11.\n"
     ]
    },
    {
     "name": "stdout",
     "output_type": "stream",
     "text": [
      "WARNING: You’re trying to run this on 4000 dimensions of `.X`, if you really want this, set `use_rep='X'`.\n",
      "         Falling back to preprocessing with `sc.pp.pca` and default params.\n",
      "WARNING: You’re trying to run this on 4000 dimensions of `.X`, if you really want this, set `use_rep='X'`.\n",
      "         Falling back to preprocessing with `sc.pp.pca` and default params.\n"
     ]
    },
    {
     "name": "stderr",
     "output_type": "stream",
     "text": [
      "INFO - 11/24/24 16:43:58 - 0:05:31 - Running Scanpy neighbors with k=11.\n"
     ]
    },
    {
     "name": "stdout",
     "output_type": "stream",
     "text": [
      "WARNING: You’re trying to run this on 4000 dimensions of `.X`, if you really want this, set `use_rep='X'`.\n",
      "         Falling back to preprocessing with `sc.pp.pca` and default params.\n",
      "WARNING: You’re trying to run this on 4000 dimensions of `.X`, if you really want this, set `use_rep='X'`.\n",
      "         Falling back to preprocessing with `sc.pp.pca` and default params.\n",
      "WARNING: You’re trying to run this on 4000 dimensions of `.X`, if you really want this, set `use_rep='X'`.\n",
      "         Falling back to preprocessing with `sc.pp.pca` and default params.\n",
      "WARNING: You’re trying to run this on 4000 dimensions of `.X`, if you really want this, set `use_rep='X'`.\n",
      "         Falling back to preprocessing with `sc.pp.pca` and default params.\n"
     ]
    },
    {
     "name": "stderr",
     "output_type": "stream",
     "text": [
      "INFO - 11/24/24 16:44:26 - 0:05:59 - Performing Leiden community detection.\n",
      "INFO - 11/24/24 16:44:26 - 0:05:59 - Performing Leiden community detection.\n",
      "INFO - 11/24/24 16:44:26 - 0:05:59 - Performing Leiden community detection.\n",
      "INFO - 11/24/24 16:44:27 - 0:06:00 - Performing Leiden community detection.\n",
      "INFO - 11/24/24 16:44:27 - 0:06:00 - Performing Leiden community detection.\n",
      "INFO - 11/24/24 16:44:28 - 0:06:01 - Performing Leiden community detection.\n",
      "INFO - 11/24/24 16:44:28 - 0:06:01 - Performing Leiden community detection.\n",
      "INFO - 11/24/24 16:44:28 - 0:06:01 - Performing Leiden community detection.\n",
      "INFO - 11/24/24 16:44:29 - 0:06:02 - Performing Leiden community detection.\n",
      "INFO - 11/24/24 16:44:29 - 0:06:02 - Performing Leiden community detection.\n",
      "INFO - 11/24/24 16:44:36 - 0:06:09 - Community labels assigned to the cells.\n",
      "INFO - 11/24/24 16:44:36 - 0:06:09 - Community labels assigned to the cells.\n",
      "INFO - 11/24/24 16:44:36 - 0:06:09 - Community labels assigned to the cells.\n",
      "INFO - 11/24/24 16:44:37 - 0:06:10 - Community labels assigned to the cells.\n",
      "INFO - 11/24/24 16:44:37 - 0:06:10 - Community labels assigned to the cells.\n",
      "INFO - 11/24/24 16:44:38 - 0:06:11 - Community labels assigned to the cells.\n",
      "INFO - 11/24/24 16:44:39 - 0:06:11 - Community labels assigned to the cells.\n",
      "INFO - 11/24/24 16:44:39 - 0:06:12 - Community labels assigned to the cells.\n",
      "INFO - 11/24/24 16:44:39 - 0:06:12 - Community labels assigned to the cells.\n",
      "INFO - 11/24/24 16:44:39 - 0:06:12 - Community labels assigned to the cells.\n",
      "INFO - 11/24/24 16:44:41 - 0:06:14 - Epoch: [4][0]\tTime 43.564 (43.564)\tData 43.488 (43.488)\tLoss 3.4587 (3.4587)\tLr: 1.9234\n",
      "INFO - 11/24/24 16:44:53 - 0:06:26 - Epoch: [4][50]\tTime 0.081 (1.076)\tData 0.048 (1.014)\tLoss 3.0780 (3.2704)\tLr: 2.3528\n",
      "100%|██████████| 57/57 [00:03<00:00, 18.21it/s]\n"
     ]
    }
   ],
   "source": [
    "trainer.train()"
   ]
  },
  {
   "cell_type": "markdown",
   "id": "699dfbbc-ea0f-4bd1-b3a1-5320e4eaa8bc",
   "metadata": {},
   "source": [
    "# evalaute"
   ]
  },
  {
   "cell_type": "code",
   "execution_count": null,
   "id": "0ef10569-38f9-4073-8a17-16449f91b520",
   "metadata": {},
   "outputs": [],
   "source": [
    "query_latent = trainer.encode_query()\n",
    "metric_df = MetricCalculator(\n",
    "        trainer.query.adata,\n",
    "        [query_latent],\n",
    "        save_path=trainer.get_metric_file_path(\"query\"),\n",
    "    ).calculate()\n",
    "\n",
    "metric_df"
   ]
  },
  {
   "cell_type": "markdown",
   "id": "5b2ccdac-0177-475d-b93c-9d3318e632c2",
   "metadata": {},
   "source": [
    "# debug"
   ]
  },
  {
   "cell_type": "code",
   "execution_count": 34,
   "id": "2bf60e7e-9673-494d-99fa-fcf3eaf26174",
   "metadata": {},
   "outputs": [],
   "source": [
    "model = trainer.get_model()"
   ]
  },
  {
   "cell_type": "code",
   "execution_count": 37,
   "id": "4ba42e55-8e1a-427a-9837-414da18e7328",
   "metadata": {},
   "outputs": [],
   "source": [
    "self = trainer\n",
    "scpoli_model = self.get_scpoli_model(model)"
   ]
  },
  {
   "cell_type": "code",
   "execution_count": 38,
   "id": "286b6c09-3714-4da9-81c3-7e8815bf61f9",
   "metadata": {},
   "outputs": [
    {
     "data": {
      "text/plain": [
       "{'study': {'Oetjen': 0, '10X': 1, 'Sun': 2}}"
      ]
     },
     "execution_count": 38,
     "metadata": {},
     "output_type": "execute_result"
    },
    {
     "name": "stdout",
     "output_type": "stream",
     "text": [
      "The history saving thread hit an unexpected error (OperationalError('attempt to write a readonly database')).History will not be written to the database.\n"
     ]
    }
   ],
   "source": [
    "scpoli_model.condition_encoders"
   ]
  },
  {
   "cell_type": "code",
   "execution_count": 39,
   "id": "b88fc435-d791-4603-b821-6a74f2fa6d09",
   "metadata": {},
   "outputs": [
    {
     "data": {
      "text/plain": [
       "{'Oetjen': 0, '10X': 1, 'Sun': 2}"
      ]
     },
     "execution_count": 39,
     "metadata": {},
     "output_type": "execute_result"
    }
   ],
   "source": [
    "scpoli_model.conditions_combined_encoder"
   ]
  },
  {
   "cell_type": "code",
   "execution_count": 41,
   "id": "581be780-473b-45a5-9218-a349152df11d",
   "metadata": {},
   "outputs": [
    {
     "name": "stdout",
     "output_type": "stream",
     "text": [
      "Embedding dictionary:\n",
      " \tNum conditions: [5]\n",
      " \tEmbedding dim: [10]\n",
      "Encoder Architecture:\n",
      "\tInput Layer in, out and cond: 4000 64 10\n",
      "\tMean/Var Layer in/out: 64 8\n",
      "Decoder Architecture:\n",
      "\tFirst Layer in, out and cond:  8 64 10\n",
      "\tOutput Layer in/out:  64 4000 \n",
      "\n"
     ]
    }
   ],
   "source": [
    "query_model = scPoli.load_query_data(\n",
    "            adata=self.query.adata,\n",
    "            reference_model=self.get_scpoli(),\n",
    "            labeled_indices=[],\n",
    "        )"
   ]
  },
  {
   "cell_type": "code",
   "execution_count": 44,
   "id": "73b4b258-f167-4eb4-b573-70907624157b",
   "metadata": {},
   "outputs": [],
   "source": [
    "model.set_scpoli_model(query_model.model)"
   ]
  },
  {
   "cell_type": "code",
   "execution_count": 46,
   "id": "a809495f-21e2-42fc-83f0-acdaa26dc96e",
   "metadata": {},
   "outputs": [
    {
     "name": "stderr",
     "output_type": "stream",
     "text": [
      "100%|██████████| 9/9 [00:01<00:00,  7.16it/s]\n"
     ]
    },
    {
     "data": {
      "text/plain": [
       "tensor([[ 0.433, -0.228, -0.155, -0.464,  0.459, -0.111,  0.545,  0.031],\n",
       "        [ 0.222, -0.323,  0.310, -0.551,  0.622, -0.124,  0.203, -0.056],\n",
       "        [ 0.304,  0.058, -0.051,  0.521,  0.599, -0.208, -0.036, -0.476],\n",
       "        [-0.452, -0.218, -0.107,  0.415,  0.597, -0.228,  0.372, -0.137],\n",
       "        [ 0.521, -0.270, -0.003,  0.341, -0.298, -0.403,  0.292, -0.450],\n",
       "        [ 0.417, -0.062, -0.093,  0.275,  0.513, -0.547, -0.274,  0.318],\n",
       "        [-0.381, -0.208, -0.280, -0.058,  0.104, -0.265, -0.465, -0.658],\n",
       "        ...,\n",
       "        [-0.740,  0.472, -0.389, -0.115,  0.042,  0.074, -0.064,  0.231],\n",
       "        [ 0.133, -0.706,  0.147,  0.151,  0.096, -0.508,  0.406, -0.088],\n",
       "        [-0.094, -0.796, -0.024, -0.200,  0.276, -0.394,  0.231, -0.181],\n",
       "        [-0.237, -0.066, -0.472,  0.256,  0.480,  0.165,  0.176, -0.602],\n",
       "        [-0.657, -0.295, -0.278, -0.010, -0.024,  0.453,  0.323,  0.305],\n",
       "        [-0.257, -0.159, -0.231,  0.126,  0.277,  0.003, -0.609, -0.626],\n",
       "        [ 0.818, -0.333,  0.017, -0.038, -0.008,  0.269,  0.382, -0.002]],\n",
       "       device='cuda:0')"
      ]
     },
     "execution_count": 46,
     "metadata": {},
     "output_type": "execute_result"
    }
   ],
   "source": [
    "model.to(self.device)\n",
    "trainer.encode_adata(trainer.query.adata, model)"
   ]
  },
  {
   "cell_type": "code",
   "execution_count": null,
   "id": "79990a71-6eb4-40a0-b18b-08c0a2482ac4",
   "metadata": {},
   "outputs": [],
   "source": [
    "swav model\n",
    "swav trainer\n",
    "init \n",
    "test"
   ]
  },
  {
   "cell_type": "code",
   "execution_count": 92,
   "id": "39c78b70-aa9f-4fd6-aee8-1c2de6407b32",
   "metadata": {},
   "outputs": [
    {
     "data": {
      "text/plain": [
       "<module 'interpretable_ssl.trainers.swav' from '/ictstr01/home/icb/fatemehs.hashemig/codes/interpretable-ssl/interpretable_ssl/trainers/swav.py'>"
      ]
     },
     "execution_count": 92,
     "metadata": {},
     "output_type": "execute_result"
    }
   ],
   "source": [
    "import importlib\n",
    "\n",
    "# Reloading the specific modules\n",
    "import interpretable_ssl.models.swav\n",
    "import interpretable_ssl.trainers.adaptive_trainer\n",
    "import interpretable_ssl.trainers.scpoli_trainer\n",
    "import interpretable_ssl.trainers.swav\n",
    "\n",
    "importlib.reload(interpretable_ssl.models.swav)\n",
    "importlib.reload(interpretable_ssl.trainers.scpoli_trainer)\n",
    "importlib.reload(interpretable_ssl.trainers.adaptive_trainer)\n",
    "importlib.reload(interpretable_ssl.trainers.swav)"
   ]
  },
  {
   "cell_type": "code",
   "execution_count": 93,
   "id": "62a26cb8-ee83-4f49-8499-fbb7c504ea97",
   "metadata": {},
   "outputs": [
    {
     "name": "stderr",
     "output_type": "stream",
     "text": [
      "INFO - 11/17/24 07:31:36 - 0:02:20 - Starting '__init__' of class 'get train test'\n",
      "INFO - 11/17/24 07:31:36 - 0:02:20 - Finished '__init__' of class 'get train test' in 0.0437 seconds\n"
     ]
    }
   ],
   "source": [
    "from interpretable_ssl.trainers.swav import *\n",
    "trainer = SwAV(debug=True, dataset=ds, augmentation_type='community')"
   ]
  },
  {
   "cell_type": "code",
   "execution_count": 94,
   "id": "baffbece-3973-47e1-9a32-13b44e12f1b6",
   "metadata": {},
   "outputs": [],
   "source": [
    "from interpretable_ssl.models.swav import *"
   ]
  },
  {
   "cell_type": "code",
   "execution_count": 95,
   "id": "5ca7c6fe-bd94-402a-bb76-31a3494852db",
   "metadata": {},
   "outputs": [
    {
     "name": "stdout",
     "output_type": "stream",
     "text": [
      "Embedding dictionary:\n",
      " \tNum conditions: [3]\n",
      " \tEmbedding dim: [10]\n",
      "Encoder Architecture:\n",
      "\tInput Layer in, out and cond: 4000 64 10\n",
      "\tMean/Var Layer in/out: 64 8\n",
      "Decoder Architecture:\n",
      "\tFirst Layer in, out and cond:  8 64 10\n",
      "\tOutput Layer in/out:  64 4000 \n",
      "\n"
     ]
    }
   ],
   "source": [
    "self = trainer\n",
    "model = SwAVModel(self.latent_dims, self.num_prototypes, self.ref.adata)"
   ]
  },
  {
   "cell_type": "code",
   "execution_count": 96,
   "id": "da042b08-de71-4fd5-b7cc-c3e0bcb540d8",
   "metadata": {},
   "outputs": [],
   "source": [
    "self = trainer"
   ]
  },
  {
   "cell_type": "code",
   "execution_count": 97,
   "id": "845da3ad-7ef1-4290-ab97-4ba93695a22d",
   "metadata": {},
   "outputs": [],
   "source": []
  },
  {
   "cell_type": "code",
   "execution_count": 98,
   "id": "7001c203-49b3-40dc-9a66-2236cc5a0f49",
   "metadata": {
    "collapsed": true,
    "jupyter": {
     "outputs_hidden": true
    }
   },
   "outputs": [
    {
     "name": "stderr",
     "output_type": "stream",
     "text": [
      "INFO - 11/17/24 07:31:49 - 0:00:00 - ============ Initialized logger ============\n",
      "INFO - 11/17/24 07:31:49 - 0:00:00 - all_latent: None\n",
      "                                     augmentation_type: community\n",
      "                                     base_lr: 4.8\n",
      "                                     batch_size: 512\n",
      "                                     cell_type_key: cell_type\n",
      "                                     checkpoint_freq: 25\n",
      "                                     condition_key: study\n",
      "                                     crops_for_assign: [0, 1]\n",
      "                                     cvae_loss_scaler: 0.0\n",
      "                                     cvae_reg: 0\n",
      "                                     dataset: pbmc-immune\n",
      "                                     dataset_id: pbmc-immune\n",
      "                                     debug: True\n",
      "                                     default_values: {'dataset_id': 'pbmc-immune', 'model_name_version': 4, 'num_prototypes': 300, 'hidden_dim': 64, 'latent_dims': 8, 'batch_size': 512, 'fine_tuning_epochs': 0, 'experiment_name': '', 'condition_key': 'study', 'cell_type_key': 'cell_type', 'linear_eval': False, 'only_eval': False, 'use_early_stopping': False, 'pretraining_epochs': 300, 'training_type': 'pretrain', 'pretrain_dataset_id': 'hlca', 'finetune_dataset_id': 'pbmc-immune', 'dump_name_version': 4, 'nmb_crops': [8], 'augmentation_type': 'knn', 'size_crops': [224], 'min_scale_crops': [0.14], 'max_scale_crops': [1], 'crops_for_assign': [0, 1], 'temperature': 0.1, 'epsilon': 0.02, 'sinkhorn_iterations': 3, 'feat_dim': 8, 'queue_length': 0, 'epoch_queue_starts': 15, 'base_lr': 4.8, 'final_lr': 0, 'wd': 1e-06, 'warmup_epochs': 10, 'start_warmup': 0, 'cvae_reg': 0, 'dist_url': 'env://', 'world_size': -1, 'rank': 0, 'local_rank': 0, 'workers': 10, 'checkpoint_freq': 25, 'use_fp16': False, 'sync_bn': 'pytorch', 'syncbn_process_group_size': 8, 'seed': 31, 'model': '', 'optimizer': '', 'lr_schedule': '', 'queue': None, 'train_loader': '', 'training_stats': '', 'device': 'cuda', 'cvae_loss_scaler': 0.0, 'prot_decoding_loss_scaler': 0.0, 'hidden_mlp': 1024, 'swav_dim': 64, 'use_projector': False, 'model_version': 1, 'train_decoder': False, 'longest_path': 3, 'dimensionality_reduction': None, 'k_neighbors': 10, 'model_type': 'swav', 'job_name': '', 'no_data': 'False', 'freezable_prototypes': True, 'freeze_prototypes_niters': 0, 'prot_init': 'random'}\n",
      "                                     device: cuda\n",
      "                                     dimensionality_reduction: None\n",
      "                                     dist_url: env://\n",
      "                                     dump_checkpoints: /home/icb/fatemehs.hashemig/models//pbmc-immune/swav-only_iloss0.0_closs0.0_num-prot-300_latent8_aug-community8_ep0.02/checkpoints\n",
      "                                     dump_name_version: 4\n",
      "                                     dump_path: /home/icb/fatemehs.hashemig/models//pbmc-immune/swav-only_iloss0.0_closs0.0_num-prot-300_latent8_aug-community8_ep0.02\n",
      "                                     epoch_queue_starts: 15\n",
      "                                     epsilon: 0.02\n",
      "                                     experiment_name: swav-only_iloss0.0_closs0.0\n",
      "                                     feat_dim: 8\n",
      "                                     final_lr: 0\n",
      "                                     fine_tuning_epochs: 0\n",
      "                                     finetune_dataset_id: pbmc-immune\n",
      "                                     finetune_ds: pbmc-immune\n",
      "                                     finetuning: False\n",
      "                                     freezable_prototypes: True\n",
      "                                     freeze_prototypes_niters: 0\n",
      "                                     hidden_dim: 64\n",
      "                                     hidden_mlp: 1024\n",
      "                                     input_dim: 4000\n",
      "                                     is_swav: 1\n",
      "                                     job_name: \n",
      "                                     k_neighbors: 10\n",
      "                                     latent_dims: 8\n",
      "                                     linear_eval: False\n",
      "                                     local_rank: 0\n",
      "                                     longest_path: 3\n",
      "                                     lr_schedule: \n",
      "                                     max_scale_crops: [1]\n",
      "                                     min_scale_crops: [0.14]\n",
      "                                     model: \n",
      "                                     model_name_version: 4\n",
      "                                     model_type: swav\n",
      "                                     model_version: 1\n",
      "                                     nmb_crops: [8]\n",
      "                                     nmb_prototypes: 300\n",
      "                                     no_data: False\n",
      "                                     num_prototypes: 300\n",
      "                                     only_eval: False\n",
      "                                     optimizer: \n",
      "                                     original_ref: pbmc-immune\n",
      "                                     partial_ref: pbmc-immune\n",
      "                                     pretrain_dataset_id: hlca\n",
      "                                     pretraining_epochs: 300\n",
      "                                     prot_decoding_loss_scaler: 0.0\n",
      "                                     prot_init: random\n",
      "                                     query: pbmc-immune\n",
      "                                     query_latent: None\n",
      "                                     queue: None\n",
      "                                     queue_length: 0\n",
      "                                     rank: 0\n",
      "                                     ref: pbmc-immune\n",
      "                                     ref_latent: None\n",
      "                                     seed: 31\n",
      "                                     sinkhorn_iterations: 3\n",
      "                                     size_crops: [224]\n",
      "                                     start_warmup: 0\n",
      "                                     swav_dim: 64\n",
      "                                     sync_bn: pytorch\n",
      "                                     syncbn_process_group_size: 8\n",
      "                                     temperature: 0.1\n",
      "                                     train_augmentation: community\n",
      "                                     train_decoder: False\n",
      "                                     train_loader: \n",
      "                                     training_stats: \n",
      "                                     training_type: pretrain\n",
      "                                     transfer_learning_mode: False\n",
      "                                     use_early_stopping: False\n",
      "                                     use_fp16: False\n",
      "                                     use_projector: False\n",
      "                                     use_projector_out: False\n",
      "                                     warmup_epochs: 10\n",
      "                                     wd: 1e-06\n",
      "                                     workers: 10\n",
      "                                     world_size: -1\n",
      "INFO - 11/17/24 07:31:49 - 0:00:00 - The experiment will be stored in /home/icb/fatemehs.hashemig/models//pbmc-immune/swav-only_iloss0.0_closs0.0_num-prot-300_latent8_aug-community8_ep0.02\n",
      "                                     \n",
      "\n",
      "INFO - 11/17/24 07:31:49 - 0:00:00 - SwAVModel(\n",
      "                                       (scpoli_encoder): scpoli(\n",
      "                                         (embeddings): ModuleList(\n",
      "                                           (0): Embedding(3, 10, max_norm=1.0)\n",
      "                                         )\n",
      "                                         (encoder): Encoder(\n",
      "                                           (FC): Sequential(\n",
      "                                             (L0): CondLayers(\n",
      "                                               (expr_L): Linear(in_features=4000, out_features=64, bias=True)\n",
      "                                               (cond_L): Linear(in_features=10, out_features=64, bias=False)\n",
      "                                             )\n",
      "                                             (N0): LayerNorm((64,), eps=1e-05, elementwise_affine=False)\n",
      "                                             (A0): ReLU()\n",
      "                                             (D0): Dropout(p=0.05, inplace=False)\n",
      "                                           )\n",
      "                                           (mean_encoder): Linear(in_features=64, out_features=8, bias=True)\n",
      "                                           (log_var_encoder): Linear(in_features=64, out_features=8, bias=True)\n",
      "                                         )\n",
      "                                         (decoder): Decoder(\n",
      "                                           (FirstL): Sequential(\n",
      "                                             (L0): CondLayers(\n",
      "                                               (expr_L): Linear(in_features=8, out_features=64, bias=False)\n",
      "                                               (cond_L): Linear(in_features=10, out_features=64, bias=False)\n",
      "                                             )\n",
      "                                             (N0): LayerNorm((64,), eps=1e-05, elementwise_affine=False)\n",
      "                                             (A0): ReLU()\n",
      "                                             (D0): Dropout(p=0.05, inplace=False)\n",
      "                                           )\n",
      "                                           (HiddenL): Sequential()\n",
      "                                           (mean_decoder): Sequential(\n",
      "                                             (0): Linear(in_features=64, out_features=4000, bias=True)\n",
      "                                             (1): Softmax(dim=-1)\n",
      "                                           )\n",
      "                                         )\n",
      "                                       )\n",
      "                                       (prototypes): Linear(in_features=8, out_features=300, bias=False)\n",
      "                                     )\n",
      "INFO - 11/17/24 07:31:49 - 0:00:00 - Building model done.\n",
      "INFO - 11/17/24 07:31:49 - 0:00:00 - Building data done with 29137 samples loaded.\n",
      "INFO - 11/17/24 07:31:49 - 0:00:00 - Building optimizer done.\n",
      "INFO - 11/17/24 07:31:49 - 0:00:00 - no mixed precision\n"
     ]
    },
    {
     "name": "stdout",
     "output_type": "stream",
     "text": [
      "Embedding dictionary:\n",
      " \tNum conditions: [3]\n",
      " \tEmbedding dim: [10]\n",
      "Encoder Architecture:\n",
      "\tInput Layer in, out and cond: 4000 64 10\n",
      "\tMean/Var Layer in/out: 64 8\n",
      "Decoder Architecture:\n",
      "\tFirst Layer in, out and cond:  8 64 10\n",
      "\tOutput Layer in/out:  64 4000 \n",
      "\n"
     ]
    }
   ],
   "source": [
    "self.setup()"
   ]
  },
  {
   "cell_type": "code",
   "execution_count": null,
   "id": "6e6fadb9-ccd9-44a5-aeee-35e991889c8a",
   "metadata": {},
   "outputs": [],
   "source": []
  },
  {
   "cell_type": "code",
   "execution_count": 100,
   "id": "7b152a14-149c-4405-9cc4-e673043bbe62",
   "metadata": {},
   "outputs": [
    {
     "name": "stdout",
     "output_type": "stream",
     "text": [
      "Embedding dictionary:\n",
      " \tNum conditions: [3]\n",
      " \tEmbedding dim: [10]\n",
      "Encoder Architecture:\n",
      "\tInput Layer in, out and cond: 4000 64 10\n",
      "\tMean/Var Layer in/out: 64 8\n",
      "Decoder Architecture:\n",
      "\tFirst Layer in, out and cond:  8 64 10\n",
      "\tOutput Layer in/out:  64 4000 \n",
      "\n"
     ]
    },
    {
     "data": {
      "text/plain": [
       "SwAVModel(\n",
       "  (scpoli_encoder): scpoli(\n",
       "    (embeddings): ModuleList(\n",
       "      (0): Embedding(3, 10, max_norm=1.0)\n",
       "    )\n",
       "    (encoder): Encoder(\n",
       "      (FC): Sequential(\n",
       "        (L0): CondLayers(\n",
       "          (expr_L): Linear(in_features=4000, out_features=64, bias=True)\n",
       "          (cond_L): Linear(in_features=10, out_features=64, bias=False)\n",
       "        )\n",
       "        (N0): LayerNorm((64,), eps=1e-05, elementwise_affine=False)\n",
       "        (A0): ReLU()\n",
       "        (D0): Dropout(p=0.05, inplace=False)\n",
       "      )\n",
       "      (mean_encoder): Linear(in_features=64, out_features=8, bias=True)\n",
       "      (log_var_encoder): Linear(in_features=64, out_features=8, bias=True)\n",
       "    )\n",
       "    (decoder): Decoder(\n",
       "      (FirstL): Sequential(\n",
       "        (L0): CondLayers(\n",
       "          (expr_L): Linear(in_features=8, out_features=64, bias=False)\n",
       "          (cond_L): Linear(in_features=10, out_features=64, bias=False)\n",
       "        )\n",
       "        (N0): LayerNorm((64,), eps=1e-05, elementwise_affine=False)\n",
       "        (A0): ReLU()\n",
       "        (D0): Dropout(p=0.05, inplace=False)\n",
       "      )\n",
       "      (HiddenL): Sequential()\n",
       "      (mean_decoder): Sequential(\n",
       "        (0): Linear(in_features=64, out_features=4000, bias=True)\n",
       "        (1): Softmax(dim=-1)\n",
       "      )\n",
       "    )\n",
       "  )\n",
       "  (prototypes): Linear(in_features=8, out_features=300, bias=False)\n",
       ")"
      ]
     },
     "execution_count": 100,
     "metadata": {},
     "output_type": "execute_result"
    }
   ],
   "source": []
  },
  {
   "cell_type": "code",
   "execution_count": 111,
   "id": "0a1a6a63-34be-4a20-9b87-b57cce24a6d4",
   "metadata": {},
   "outputs": [
    {
     "name": "stdout",
     "output_type": "stream",
     "text": [
      "Embedding dictionary:\n",
      " \tNum conditions: [3]\n",
      " \tEmbedding dim: [10]\n",
      "Encoder Architecture:\n",
      "\tInput Layer in, out and cond: 4000 64 10\n",
      "\tMean/Var Layer in/out: 64 8\n",
      "Decoder Architecture:\n",
      "\tFirst Layer in, out and cond:  8 64 10\n",
      "\tOutput Layer in/out:  64 4000 \n",
      "\n"
     ]
    },
    {
     "data": {
      "text/plain": [
       "SwAVModel(\n",
       "  (scpoli_encoder): scpoli(\n",
       "    (embeddings): ModuleList(\n",
       "      (0): Embedding(3, 10, max_norm=1.0)\n",
       "    )\n",
       "    (encoder): Encoder(\n",
       "      (FC): Sequential(\n",
       "        (L0): CondLayers(\n",
       "          (expr_L): Linear(in_features=4000, out_features=64, bias=True)\n",
       "          (cond_L): Linear(in_features=10, out_features=64, bias=False)\n",
       "        )\n",
       "        (N0): LayerNorm((64,), eps=1e-05, elementwise_affine=False)\n",
       "        (A0): ReLU()\n",
       "        (D0): Dropout(p=0.05, inplace=False)\n",
       "      )\n",
       "      (mean_encoder): Linear(in_features=64, out_features=8, bias=True)\n",
       "      (log_var_encoder): Linear(in_features=64, out_features=8, bias=True)\n",
       "    )\n",
       "    (decoder): Decoder(\n",
       "      (FirstL): Sequential(\n",
       "        (L0): CondLayers(\n",
       "          (expr_L): Linear(in_features=8, out_features=64, bias=False)\n",
       "          (cond_L): Linear(in_features=10, out_features=64, bias=False)\n",
       "        )\n",
       "        (N0): LayerNorm((64,), eps=1e-05, elementwise_affine=False)\n",
       "        (A0): ReLU()\n",
       "        (D0): Dropout(p=0.05, inplace=False)\n",
       "      )\n",
       "      (HiddenL): Sequential()\n",
       "      (mean_decoder): Sequential(\n",
       "        (0): Linear(in_features=64, out_features=4000, bias=True)\n",
       "        (1): Softmax(dim=-1)\n",
       "      )\n",
       "    )\n",
       "  )\n",
       "  (prototypes): Linear(in_features=8, out_features=300, bias=False)\n",
       ")"
      ]
     },
     "execution_count": 111,
     "metadata": {},
     "output_type": "execute_result"
    }
   ],
   "source": [
    "self.get_model()"
   ]
  },
  {
   "cell_type": "code",
   "execution_count": 110,
   "id": "1ed3f886-4cfe-40bc-93b8-a6754cdd1d50",
   "metadata": {},
   "outputs": [],
   "source": [
    "self.split_train_data()"
   ]
  },
  {
   "cell_type": "code",
   "execution_count": 112,
   "id": "84b5bb41-f2f4-4cdd-b289-fa4b855ba91d",
   "metadata": {},
   "outputs": [
    {
     "data": {
      "text/plain": [
       "View of AnnData object with n_obs × n_vars = 2914 × 4000\n",
       "    obs: 'batch', 'chemistry', 'data_type', 'dpt_pseudotime', 'mt_frac', 'n_counts', 'n_genes', 'sample_ID', 'size_factors', 'species', 'study', 'tissue', 'cell_type', 'conditions_combined'\n",
       "    var: 'highly_variable', 'means', 'dispersions', 'dispersions_norm'\n",
       "    uns: 'hvg'\n",
       "    layers: 'counts'"
      ]
     },
     "execution_count": 112,
     "metadata": {},
     "output_type": "execute_result"
    }
   ],
   "source": [
    "self.finetune_ds.adata"
   ]
  },
  {
   "cell_type": "code",
   "execution_count": 113,
   "id": "9565779d-6600-4c37-b724-dbf410a43cf4",
   "metadata": {},
   "outputs": [
    {
     "name": "stdout",
     "output_type": "stream",
     "text": [
      "Embedding dictionary:\n",
      " \tNum conditions: [3]\n",
      " \tEmbedding dim: [10]\n",
      "Encoder Architecture:\n",
      "\tInput Layer in, out and cond: 4000 64 10\n",
      "\tMean/Var Layer in/out: 64 8\n",
      "Decoder Architecture:\n",
      "\tFirst Layer in, out and cond:  8 64 10\n",
      "\tOutput Layer in/out:  64 4000 \n",
      "\n"
     ]
    }
   ],
   "source": [
    "q_model = trainer.adapt_ref_model(model, self.finetune_ds.adata)"
   ]
  },
  {
   "cell_type": "code",
   "execution_count": 114,
   "id": "a83d6b6c-74b1-48bd-b41a-91363f3aabcc",
   "metadata": {},
   "outputs": [
    {
     "data": {
      "text/plain": [
       "{'study': ['Oetjen', '10X', 'Sun']}"
      ]
     },
     "execution_count": 114,
     "metadata": {},
     "output_type": "execute_result"
    }
   ],
   "source": [
    "q_model.scpoli_.conditions_"
   ]
  },
  {
   "cell_type": "code",
   "execution_count": 107,
   "id": "96656a4d-c259-4009-b97d-27c6264cc607",
   "metadata": {},
   "outputs": [
    {
     "data": {
      "text/plain": [
       "['Oetjen', '10X', 'Sun', 'Freytag', 'Villani']"
      ]
     },
     "execution_count": 107,
     "metadata": {},
     "output_type": "execute_result"
    }
   ],
   "source": [
    "q_model.scpoli_encoder.conditions_combined"
   ]
  },
  {
   "cell_type": "code",
   "execution_count": 108,
   "id": "335be973-545e-4996-9a77-78c4b28e4c7b",
   "metadata": {},
   "outputs": [
    {
     "name": "stdout",
     "output_type": "stream",
     "text": [
      "Embedding dictionary:\n",
      " \tNum conditions: [3]\n",
      " \tEmbedding dim: [10]\n",
      "Encoder Architecture:\n",
      "\tInput Layer in, out and cond: 4000 64 10\n",
      "\tMean/Var Layer in/out: 64 8\n",
      "Decoder Architecture:\n",
      "\tFirst Layer in, out and cond:  8 64 10\n",
      "\tOutput Layer in/out:  64 4000 \n",
      "\n"
     ]
    }
   ],
   "source": [
    "ref_model = self.get_model()"
   ]
  },
  {
   "cell_type": "code",
   "execution_count": 109,
   "id": "e7665b7a-f3dd-4a2f-884e-86e396339e22",
   "metadata": {},
   "outputs": [
    {
     "data": {
      "text/plain": [
       "['Oetjen', '10X', 'Sun']"
      ]
     },
     "execution_count": 109,
     "metadata": {},
     "output_type": "execute_result"
    }
   ],
   "source": [
    "ref_model.scpoli_encoder.conditions_combined"
   ]
  },
  {
   "cell_type": "code",
   "execution_count": null,
   "id": "58628540-4fc8-484d-a50d-36cd1d3a05db",
   "metadata": {},
   "outputs": [],
   "source": []
  }
 ],
 "metadata": {
  "kernelspec": {
   "display_name": "Python 3 (ipykernel)",
   "language": "python",
   "name": "python3"
  },
  "language_info": {
   "codemirror_mode": {
    "name": "ipython",
    "version": 3
   },
   "file_extension": ".py",
   "mimetype": "text/x-python",
   "name": "python",
   "nbconvert_exporter": "python",
   "pygments_lexer": "ipython3",
   "version": "3.12.2"
  }
 },
 "nbformat": 4,
 "nbformat_minor": 5
}
