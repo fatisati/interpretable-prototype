{
 "cells": [
  {
   "cell_type": "markdown",
   "id": "f7756ad9-4d05-4f0d-a199-94a49368973b",
   "metadata": {},
   "source": [
    "# loading data"
   ]
  },
  {
   "cell_type": "markdown",
   "id": "88d2afa9-19e8-4ad8-bc3d-352c07d71b72",
   "metadata": {
    "jp-MarkdownHeadingCollapsed": true
   },
   "source": [
    "## check for data file, download if not exist"
   ]
  },
  {
   "cell_type": "code",
   "execution_count": 3,
   "id": "ba93d0fb-ca55-44e2-ad5d-16303e95a3fa",
   "metadata": {},
   "outputs": [],
   "source": [
    "import os\n",
    "import requests\n",
    "import anndata as ad\n",
    "import logging\n",
    "from tqdm import tqdm\n",
    "\n",
    "# Configure logging\n",
    "logging.basicConfig(level=logging.INFO, format='%(asctime)s - %(levelname)s - %(message)s')\n",
    "\n",
    "def process_downloaded_data(adata):\n",
    "    adata.obs['cell_type'] = adata.obs.pop('final_annotation')\n",
    "    sc.pp.highly_variable_genes(adata, n_top_genes=4000, inplace=True)\n",
    "    adata = adata[:, adata.var['highly_variable']]\n",
    "    return adata\n",
    "    \n",
    "def load_or_download_anndata(folder_path: str, download_url: str) -> ad.AnnData:\n",
    "    \"\"\"\n",
    "    Check if an AnnData file exists in the specified folder with the proposed name. \n",
    "    If not, download it from the given URL. Then load and return the AnnData object.\n",
    "\n",
    "    Parameters:\n",
    "    - folder_path (str): Path to the folder where the AnnData file should be located.\n",
    "    - download_url (str): URL to download the file if it does not exist.\n",
    "\n",
    "    Returns:\n",
    "    - anndata.AnnData: Loaded AnnData object.\n",
    "    \"\"\"\n",
    "    # Ensure the folder exists\n",
    "    os.makedirs(folder_path, exist_ok=True)\n",
    "\n",
    "    # Extract file name from the URL\n",
    "    file_name = download_url.split('/')[-1]\n",
    "    file_path = os.path.join(folder_path, file_name)\n",
    "\n",
    "    # Check if the file exists, download if missing\n",
    "    if not os.path.exists(file_path):\n",
    "        logging.info(f\"AnnData file not found in folder: {folder_path}. Downloading...\")\n",
    "        response = requests.get(download_url, stream=True)\n",
    "        response.raise_for_status()  # Raise an error if the request failed\n",
    "        \n",
    "        # Get total file size for the progress bar\n",
    "        total_size = int(response.headers.get('content-length', 0))\n",
    "        with open(file_path, \"wb\") as f, tqdm(\n",
    "            desc=\"Downloading\",\n",
    "            total=total_size,\n",
    "            unit=\"B\",\n",
    "            unit_scale=True,\n",
    "            unit_divisor=1024,\n",
    "        ) as bar:\n",
    "            for chunk in response.iter_content(chunk_size=8192):\n",
    "                f.write(chunk)\n",
    "                bar.update(len(chunk))\n",
    "        logging.info(f\"File downloaded and saved as {file_path}.\")\n",
    "    else:\n",
    "        logging.info(f\"AnnData file found at {file_path}.\")\n",
    "\n",
    "    # Load and return the AnnData file\n",
    "    logging.info(\"Loading AnnData file...\")\n",
    "    adata = ad.read_h5ad(file_path)\n",
    "    adata = process_downloaded_data(adata)\n",
    "    logging.info(\"AnnData file loaded successfully.\")\n",
    "    return adata\n"
   ]
  },
  {
   "cell_type": "code",
   "execution_count": 5,
   "id": "728ed845-38b5-481e-9e55-e989738ba0ae",
   "metadata": {},
   "outputs": [
    {
     "name": "stderr",
     "output_type": "stream",
     "text": [
      "2024-11-15 11:36:40,308 - INFO - AnnData file not found in folder: ./tmp_data/immune.h5ad. Downloading...\n",
      "Downloading: 100%|██████████| 1.92G/1.92G [00:33<00:00, 61.9MB/s]\n",
      "2024-11-15 11:37:17,127 - INFO - File downloaded and saved as ./tmp_data/immune.h5ad/25717328.\n",
      "2024-11-15 11:37:17,127 - INFO - Loading AnnData file...\n",
      "2024-11-15 11:37:20,334 - INFO - AnnData file loaded successfully.\n"
     ]
    },
    {
     "name": "stdout",
     "output_type": "stream",
     "text": [
      "AnnData object loaded successfully!\n"
     ]
    }
   ],
   "source": [
    "# Define file path and download URL\n",
    "folder_path = \"./tmp_data\"\n",
    "file_name = \"immune.h5ad\"\n",
    "file_path = os.path.join(folder_path, file_name)\n",
    "download_url = \"https://figshare.com/ndownloader/files/25717328\"\n",
    "\n",
    "# Load or download the AnnData object\n",
    "adata = load_or_download_anndata(file_path, download_url)\n",
    "print(\"AnnData object loaded successfully!\")\n"
   ]
  },
  {
   "cell_type": "markdown",
   "id": "56499f1a-6560-4140-86a0-2162feeaa737",
   "metadata": {
    "jp-MarkdownHeadingCollapsed": true
   },
   "source": [
    "## check for label encoder, generate if not exist"
   ]
  },
  {
   "cell_type": "code",
   "execution_count": 12,
   "id": "dac9c8e3-87ad-486b-a673-024697e53975",
   "metadata": {},
   "outputs": [
    {
     "name": "stdout",
     "output_type": "stream",
     "text": [
      "fitting label encoder\n"
     ]
    }
   ],
   "source": [
    "import pickle as pkl\n",
    "from interpretable_ssl.utils import *\n",
    "\n",
    "label_encoder_path = './tmp_data/le.pkl'\n",
    "\n",
    "if os.path.exists(label_encoder_path):\n",
    "    le = pkl.load(open(label_encoder_path, 'rb'))\n",
    "else:\n",
    "    print('fitting label encoder')\n",
    "    fit_label_encoder(adata, label_encoder_path)"
   ]
  },
  {
   "cell_type": "markdown",
   "id": "d9121734-cfdd-47d3-ae71-3bad14444636",
   "metadata": {
    "jp-MarkdownHeadingCollapsed": true
   },
   "source": [
    "## init dataset object"
   ]
  },
  {
   "cell_type": "code",
   "execution_count": 13,
   "id": "6797a726-bb26-4237-a631-57ef727327c9",
   "metadata": {},
   "outputs": [],
   "source": [
    "from interpretable_ssl.datasets.immune import *\n",
    "\n",
    "\n",
    "ds = ImmuneDataset(adata, label_encoder_path)"
   ]
  },
  {
   "cell_type": "markdown",
   "id": "226a70b0-eccc-4343-91fe-b71abc6dc71f",
   "metadata": {},
   "source": [
    "# train"
   ]
  },
  {
   "cell_type": "code",
   "execution_count": 22,
   "id": "4b13ea2e-a320-4ce1-9341-6ff9ec910a47",
   "metadata": {},
   "outputs": [
    {
     "name": "stderr",
     "output_type": "stream",
     "text": [
      "INFO - 11/15/24 12:03:14 - 0:02:55 - Starting '__init__' of class 'get train test'\n",
      "INFO - 11/15/24 12:03:14 - 0:02:55 - Finished '__init__' of class 'get train test' in 0.0526 seconds\n"
     ]
    }
   ],
   "source": [
    "# change configs, constants/MODEL_DIR to the directory you want to save model and results\n",
    "# then import trainer\n",
    "\n",
    "\n",
    "from interpretable_ssl.trainers.swav import *\n",
    "trainer = SwAV(debug=True, dataset=ds, augmentation_type='community')"
   ]
  },
  {
   "cell_type": "code",
   "execution_count": 23,
   "id": "7e740457-00d5-44e0-adc0-ee2b2cf7d8af",
   "metadata": {},
   "outputs": [],
   "source": [
    "trainer.pretrain_epochs = 5"
   ]
  },
  {
   "cell_type": "code",
   "execution_count": 24,
   "id": "1843a5d9-95f2-455c-8193-ce52cc54b303",
   "metadata": {
    "collapsed": true,
    "jupyter": {
     "outputs_hidden": true
    }
   },
   "outputs": [
    {
     "name": "stderr",
     "output_type": "stream",
     "text": [
      "INFO - 11/15/24 12:03:23 - 0:00:00 - ============ Initialized logger ============\n",
      "INFO - 11/15/24 12:03:23 - 0:00:00 - all_latent: None\n",
      "                                     augmentation_type: community\n",
      "                                     base_lr: 4.8\n",
      "                                     batch_size: 512\n",
      "                                     cell_type_key: cell_type\n",
      "                                     checkpoint_freq: 25\n",
      "                                     condition_key: study\n",
      "                                     crops_for_assign: [0, 1]\n",
      "                                     cvae_loss_scaler: 0.0\n",
      "                                     cvae_reg: 0\n",
      "                                     dataset: pbmc-immune\n",
      "                                     dataset_id: pbmc-immune\n",
      "                                     debug: True\n",
      "                                     default_values: {'dataset_id': 'pbmc-immune', 'model_name_version': 4, 'num_prototypes': 300, 'hidden_dim': 64, 'latent_dims': 8, 'batch_size': 512, 'fine_tuning_epochs': 0, 'experiment_name': '', 'condition_key': 'study', 'cell_type_key': 'cell_type', 'linear_eval': False, 'only_eval': False, 'use_early_stopping': False, 'pretraining_epochs': 300, 'training_type': 'pretrain', 'pretrain_dataset_id': 'hlca', 'finetune_dataset_id': 'pbmc-immune', 'dump_name_version': 4, 'nmb_crops': [8], 'augmentation_type': 'knn', 'size_crops': [224], 'min_scale_crops': [0.14], 'max_scale_crops': [1], 'crops_for_assign': [0, 1], 'temperature': 0.1, 'epsilon': 0.02, 'sinkhorn_iterations': 3, 'feat_dim': 8, 'queue_length': 0, 'epoch_queue_starts': 15, 'base_lr': 4.8, 'final_lr': 0, 'wd': 1e-06, 'warmup_epochs': 10, 'start_warmup': 0, 'cvae_reg': 0, 'dist_url': 'env://', 'world_size': -1, 'rank': 0, 'local_rank': 0, 'workers': 10, 'checkpoint_freq': 25, 'use_fp16': False, 'sync_bn': 'pytorch', 'syncbn_process_group_size': 8, 'seed': 31, 'model': '', 'optimizer': '', 'lr_schedule': '', 'queue': None, 'train_loader': '', 'training_stats': '', 'device': 'cuda', 'cvae_loss_scaler': 0.0, 'prot_decoding_loss_scaler': 0.0, 'hidden_mlp': 1024, 'swav_dim': 64, 'use_projector': False, 'model_version': 1, 'train_decoder': False, 'longest_path': 3, 'dimensionality_reduction': None, 'k_neighbors': 10, 'model_type': 'swav', 'job_name': '', 'no_data': 'False', 'freezable_prototypes': True, 'freeze_prototypes_niters': 0, 'prot_init': 'random'}\n",
      "                                     device: cuda\n",
      "                                     dimensionality_reduction: None\n",
      "                                     dist_url: env://\n",
      "                                     dump_checkpoints: /home/icb/fatemehs.hashemig/models//pbmc-immune/swav-only_iloss0.0_closs0.0_num-prot-300_latent8_aug-community8_ep0.02/checkpoints\n",
      "                                     dump_name_version: 4\n",
      "                                     dump_path: /home/icb/fatemehs.hashemig/models//pbmc-immune/swav-only_iloss0.0_closs0.0_num-prot-300_latent8_aug-community8_ep0.02\n",
      "                                     epoch_queue_starts: 15\n",
      "                                     epsilon: 0.02\n",
      "                                     experiment_name: swav-only_iloss0.0_closs0.0\n",
      "                                     feat_dim: 8\n",
      "                                     final_lr: 0\n",
      "                                     fine_tuning_epochs: 0\n",
      "                                     finetune_dataset_id: pbmc-immune\n",
      "                                     finetune_ds: None\n",
      "                                     finetuning: False\n",
      "                                     freezable_prototypes: True\n",
      "                                     freeze_prototypes_niters: 0\n",
      "                                     hidden_dim: 64\n",
      "                                     hidden_mlp: 1024\n",
      "                                     input_dim: 4000\n",
      "                                     is_swav: 1\n",
      "                                     job_name: \n",
      "                                     k_neighbors: 10\n",
      "                                     latent_dims: 8\n",
      "                                     linear_eval: False\n",
      "                                     local_rank: 0\n",
      "                                     longest_path: 3\n",
      "                                     lr_schedule: \n",
      "                                     max_scale_crops: [1]\n",
      "                                     min_scale_crops: [0.14]\n",
      "                                     model: \n",
      "                                     model_name_version: 4\n",
      "                                     model_type: swav\n",
      "                                     model_version: 1\n",
      "                                     nmb_crops: [8]\n",
      "                                     nmb_prototypes: 300\n",
      "                                     no_data: False\n",
      "                                     num_prototypes: 300\n",
      "                                     only_eval: False\n",
      "                                     optimizer: \n",
      "                                     original_ref: pbmc-immune\n",
      "                                     partial_ref: None\n",
      "                                     pretrain_dataset_id: hlca\n",
      "                                     pretrain_epochs: 5\n",
      "                                     pretraining_epochs: 300\n",
      "                                     prot_decoding_loss_scaler: 0.0\n",
      "                                     prot_init: random\n",
      "                                     query: pbmc-immune\n",
      "                                     query_latent: None\n",
      "                                     queue: None\n",
      "                                     queue_length: 0\n",
      "                                     rank: 0\n",
      "                                     ref: pbmc-immune\n",
      "                                     ref_latent: None\n",
      "                                     seed: 31\n",
      "                                     sinkhorn_iterations: 3\n",
      "                                     size_crops: [224]\n",
      "                                     start_warmup: 0\n",
      "                                     swav_dim: 64\n",
      "                                     sync_bn: pytorch\n",
      "                                     syncbn_process_group_size: 8\n",
      "                                     temperature: 0.1\n",
      "                                     train_augmentation: community\n",
      "                                     train_decoder: False\n",
      "                                     train_loader: \n",
      "                                     training_stats: \n",
      "                                     training_type: pretrain\n",
      "                                     transfer_learning_mode: False\n",
      "                                     use_early_stopping: False\n",
      "                                     use_fp16: False\n",
      "                                     use_projector: False\n",
      "                                     use_projector_out: False\n",
      "                                     warmup_epochs: 10\n",
      "                                     wd: 1e-06\n",
      "                                     workers: 10\n",
      "                                     world_size: -1\n",
      "INFO - 11/15/24 12:03:23 - 0:00:00 - The experiment will be stored in /home/icb/fatemehs.hashemig/models//pbmc-immune/swav-only_iloss0.0_closs0.0_num-prot-300_latent8_aug-community8_ep0.02\n",
      "                                     \n",
      "\n",
      "INFO - 11/15/24 12:03:24 - 0:00:01 - Building data done with 29137 samples loaded.\n",
      "INFO - 11/15/24 12:03:24 - 0:00:01 - SwavBase(\n",
      "                                       (scpoli_model): scpoli(\n",
      "                                         (embeddings): ModuleList(\n",
      "                                           (0): Embedding(3, 10, max_norm=1.0)\n",
      "                                         )\n",
      "                                         (encoder): Encoder(\n",
      "                                           (FC): Sequential(\n",
      "                                             (L0): CondLayers(\n",
      "                                               (expr_L): Linear(in_features=4000, out_features=64, bias=True)\n",
      "                                               (cond_L): Linear(in_features=10, out_features=64, bias=False)\n",
      "                                             )\n",
      "                                             (N0): LayerNorm((64,), eps=1e-05, elementwise_affine=False)\n",
      "                                             (A0): ReLU()\n",
      "                                             (D0): Dropout(p=0.05, inplace=False)\n",
      "                                           )\n",
      "                                           (mean_encoder): Linear(in_features=64, out_features=8, bias=True)\n",
      "                                           (log_var_encoder): Linear(in_features=64, out_features=8, bias=True)\n",
      "                                         )\n",
      "                                         (decoder): Decoder(\n",
      "                                           (FirstL): Sequential(\n",
      "                                             (L0): CondLayers(\n",
      "                                               (expr_L): Linear(in_features=8, out_features=64, bias=False)\n",
      "                                               (cond_L): Linear(in_features=10, out_features=64, bias=False)\n",
      "                                             )\n",
      "                                             (N0): LayerNorm((64,), eps=1e-05, elementwise_affine=False)\n",
      "                                             (A0): ReLU()\n",
      "                                             (D0): Dropout(p=0.05, inplace=False)\n",
      "                                           )\n",
      "                                           (HiddenL): Sequential()\n",
      "                                           (mean_decoder): Sequential(\n",
      "                                             (0): Linear(in_features=64, out_features=4000, bias=True)\n",
      "                                             (1): Softmax(dim=-1)\n",
      "                                           )\n",
      "                                         )\n",
      "                                       )\n",
      "                                       (prototypes): Linear(in_features=8, out_features=300, bias=False)\n",
      "                                     )\n",
      "INFO - 11/15/24 12:03:24 - 0:00:01 - Building model done.\n",
      "INFO - 11/15/24 12:03:24 - 0:00:01 - Building optimizer done.\n",
      "INFO - 11/15/24 12:03:24 - 0:00:01 - no mixed precision\n"
     ]
    },
    {
     "name": "stdout",
     "output_type": "stream",
     "text": [
      "Embedding dictionary:\n",
      " \tNum conditions: [3]\n",
      " \tEmbedding dim: [10]\n",
      "Encoder Architecture:\n",
      "\tInput Layer in, out and cond: 4000 64 10\n",
      "\tMean/Var Layer in/out: 64 8\n",
      "Decoder Architecture:\n",
      "\tFirst Layer in, out and cond:  8 64 10\n",
      "\tOutput Layer in/out:  64 4000 \n",
      "\n"
     ]
    }
   ],
   "source": [
    "trainer.setup()"
   ]
  },
  {
   "cell_type": "code",
   "execution_count": null,
   "id": "2e2a277e-4b9b-41af-90aa-2b64ea9c2f94",
   "metadata": {},
   "outputs": [
    {
     "data": {
      "text/html": [
       "Finishing last run (ID:p61h8mmi) before initializing another..."
      ],
      "text/plain": [
       "<IPython.core.display.HTML object>"
      ]
     },
     "metadata": {},
     "output_type": "display_data"
    },
    {
     "data": {
      "application/vnd.jupyter.widget-view+json": {
       "model_id": "",
       "version_major": 2,
       "version_minor": 0
      },
      "text/plain": [
       "VBox(children=(Label(value='0.014 MB of 0.030 MB uploaded\\r'), FloatProgress(value=0.47019951709238783, max=1.…"
      ]
     },
     "metadata": {},
     "output_type": "display_data"
    },
    {
     "data": {
      "text/html": [
       " View run <strong style=\"color:#cdcd00\">swav-only_iloss0.0_closs0.0_num-prot-300_latent8/pbmc-immune</strong> at: <a href='https://wandb.ai/fatemehs-hashemig/interpretable-ssl/runs/p61h8mmi/workspace' target=\"_blank\">https://wandb.ai/fatemehs-hashemig/interpretable-ssl/runs/p61h8mmi/workspace</a><br/>Synced 5 W&B file(s), 0 media file(s), 0 artifact file(s) and 0 other file(s)"
      ],
      "text/plain": [
       "<IPython.core.display.HTML object>"
      ]
     },
     "metadata": {},
     "output_type": "display_data"
    },
    {
     "data": {
      "text/html": [
       "Find logs at: <code>./wandb/run-20241115_120028-p61h8mmi/logs</code>"
      ],
      "text/plain": [
       "<IPython.core.display.HTML object>"
      ]
     },
     "metadata": {},
     "output_type": "display_data"
    },
    {
     "data": {
      "text/html": [
       "Successfully finished last run (ID:p61h8mmi). Initializing new run:<br/>"
      ],
      "text/plain": [
       "<IPython.core.display.HTML object>"
      ]
     },
     "metadata": {},
     "output_type": "display_data"
    },
    {
     "data": {
      "application/vnd.jupyter.widget-view+json": {
       "model_id": "8f42fd2d2a7a43d69addb1773e57cc5d",
       "version_major": 2,
       "version_minor": 0
      },
      "text/plain": [
       "VBox(children=(Label(value='Waiting for wandb.init()...\\r'), FloatProgress(value=0.011112246341589424, max=1.0…"
      ]
     },
     "metadata": {},
     "output_type": "display_data"
    },
    {
     "data": {
      "text/html": [
       "wandb version 0.18.7 is available!  To upgrade, please run:\n",
       " $ pip install wandb --upgrade"
      ],
      "text/plain": [
       "<IPython.core.display.HTML object>"
      ]
     },
     "metadata": {},
     "output_type": "display_data"
    },
    {
     "data": {
      "text/html": [
       "Tracking run with wandb version 0.16.5"
      ],
      "text/plain": [
       "<IPython.core.display.HTML object>"
      ]
     },
     "metadata": {},
     "output_type": "display_data"
    },
    {
     "data": {
      "text/html": [
       "Run data is saved locally in <code>/ictstr01/home/icb/fatemehs.hashemig/codes/interpretable-ssl/wandb/run-20241115_120333-irsd5i8f</code>"
      ],
      "text/plain": [
       "<IPython.core.display.HTML object>"
      ]
     },
     "metadata": {},
     "output_type": "display_data"
    },
    {
     "data": {
      "text/html": [
       "Syncing run <strong><a href='https://wandb.ai/fatemehs-hashemig/interpretable-ssl/runs/irsd5i8f/workspace' target=\"_blank\">swav-only_iloss0.0_closs0.0_num-prot-300_latent8/pbmc-immune</a></strong> to <a href='https://wandb.ai/fatemehs-hashemig/interpretable-ssl' target=\"_blank\">Weights & Biases</a> (<a href='https://wandb.me/run' target=\"_blank\">docs</a>)<br/>"
      ],
      "text/plain": [
       "<IPython.core.display.HTML object>"
      ]
     },
     "metadata": {},
     "output_type": "display_data"
    },
    {
     "data": {
      "text/html": [
       " View project at <a href='https://wandb.ai/fatemehs-hashemig/interpretable-ssl' target=\"_blank\">https://wandb.ai/fatemehs-hashemig/interpretable-ssl</a>"
      ],
      "text/plain": [
       "<IPython.core.display.HTML object>"
      ]
     },
     "metadata": {},
     "output_type": "display_data"
    },
    {
     "data": {
      "text/html": [
       " View run at <a href='https://wandb.ai/fatemehs-hashemig/interpretable-ssl/runs/irsd5i8f/workspace' target=\"_blank\">https://wandb.ai/fatemehs-hashemig/interpretable-ssl/runs/irsd5i8f/workspace</a>"
      ],
      "text/plain": [
       "<IPython.core.display.HTML object>"
      ]
     },
     "metadata": {},
     "output_type": "display_data"
    },
    {
     "name": "stderr",
     "output_type": "stream",
     "text": [
      "INFO - 11/15/24 12:03:53 - 0:00:30 - ============ Starting epoch 0 ..., ref size: 29137, train ld size: 29137 ============\n",
      "100%|██████████| 57/57 [00:03<00:00, 16.88it/s]\n",
      "INFO - 11/15/24 12:04:13 - 0:00:50 - Starting to build community graph.\n",
      "INFO - 11/15/24 12:04:13 - 0:00:50 - Starting to build community graph.\n",
      "INFO - 11/15/24 12:04:13 - 0:00:50 - Starting to build community graph.\n",
      "INFO - 11/15/24 12:04:13 - 0:00:50 - Starting to build community graph.\n",
      "INFO - 11/15/24 12:04:13 - 0:00:50 - Running Scanpy neighbors with k=11.\n",
      "INFO - 11/15/24 12:04:13 - 0:00:50 - Running Scanpy neighbors with k=11.\n",
      "INFO - 11/15/24 12:04:13 - 0:00:50 - Starting to build community graph.\n"
     ]
    },
    {
     "name": "stdout",
     "output_type": "stream",
     "text": [
      "WARNING: You’re trying to run this on 4000 dimensions of `.X`, if you really want this, set `use_rep='X'`.\n",
      "         Falling back to preprocessing with `sc.pp.pca` and default params.\n",
      "WARNING: You’re trying to run this on 4000 dimensions of `.X`, if you really want this, set `use_rep='X'`.\n",
      "         Falling back to preprocessing with `sc.pp.pca` and default params.\n"
     ]
    },
    {
     "name": "stderr",
     "output_type": "stream",
     "text": [
      "INFO - 11/15/24 12:04:13 - 0:00:50 - Running Scanpy neighbors with k=11.\n",
      "INFO - 11/15/24 12:04:13 - 0:00:50 - Starting to build community graph.\n",
      "INFO - 11/15/24 12:04:13 - 0:00:50 - Running Scanpy neighbors with k=11.\n",
      "INFO - 11/15/24 12:04:13 - 0:00:50 - Starting to build community graph.\n",
      "INFO - 11/15/24 12:04:13 - 0:00:50 - Starting to build community graph.\n",
      "INFO - 11/15/24 12:04:13 - 0:00:50 - Running Scanpy neighbors with k=11.\n",
      "INFO - 11/15/24 12:04:13 - 0:00:50 - Starting to build community graph.\n",
      "INFO - 11/15/24 12:04:13 - 0:00:50 - Running Scanpy neighbors with k=11.\n",
      "INFO - 11/15/24 12:04:13 - 0:00:50 - Running Scanpy neighbors with k=11.\n"
     ]
    },
    {
     "name": "stdout",
     "output_type": "stream",
     "text": [
      "WARNING: You’re trying to run this on 4000 dimensions of `.X`, if you really want this, set `use_rep='X'`.\n",
      "         Falling back to preprocessing with `sc.pp.pca` and default params.\n"
     ]
    },
    {
     "name": "stderr",
     "output_type": "stream",
     "text": [
      "INFO - 11/15/24 12:04:13 - 0:00:50 - Running Scanpy neighbors with k=11.\n"
     ]
    },
    {
     "name": "stdout",
     "output_type": "stream",
     "text": [
      "WARNING: You’re trying to run this on 4000 dimensions of `.X`, if you really want this, set `use_rep='X'`.\n",
      "         Falling back to preprocessing with `sc.pp.pca` and default params.\n"
     ]
    },
    {
     "name": "stderr",
     "output_type": "stream",
     "text": [
      "INFO - 11/15/24 12:04:13 - 0:00:50 - Running Scanpy neighbors with k=11.\n"
     ]
    },
    {
     "name": "stdout",
     "output_type": "stream",
     "text": [
      "WARNING: You’re trying to run this on 4000 dimensions of `.X`, if you really want this, set `use_rep='X'`.\n",
      "         Falling back to preprocessing with `sc.pp.pca` and default params.\n",
      "WARNING: You’re trying to run this on 4000 dimensions of `.X`, if you really want this, set `use_rep='X'`.\n",
      "         Falling back to preprocessing with `sc.pp.pca` and default params.\n"
     ]
    },
    {
     "name": "stderr",
     "output_type": "stream",
     "text": [
      "INFO - 11/15/24 12:04:13 - 0:00:50 - Starting to build community graph.\n"
     ]
    },
    {
     "name": "stdout",
     "output_type": "stream",
     "text": [
      "WARNING: You’re trying to run this on 4000 dimensions of `.X`, if you really want this, set `use_rep='X'`.\n",
      "         Falling back to preprocessing with `sc.pp.pca` and default params.\n",
      "WARNING: You’re trying to run this on 4000 dimensions of `.X`, if you really want this, set `use_rep='X'`.\n",
      "         Falling back to preprocessing with `sc.pp.pca` and default params.\n",
      "WARNING: You’re trying to run this on 4000 dimensions of `.X`, if you really want this, set `use_rep='X'`.\n",
      "         Falling back to preprocessing with `sc.pp.pca` and default params.\n"
     ]
    },
    {
     "name": "stderr",
     "output_type": "stream",
     "text": [
      "INFO - 11/15/24 12:04:13 - 0:00:50 - Running Scanpy neighbors with k=11.\n"
     ]
    },
    {
     "name": "stdout",
     "output_type": "stream",
     "text": [
      "WARNING: You’re trying to run this on 4000 dimensions of `.X`, if you really want this, set `use_rep='X'`.\n",
      "         Falling back to preprocessing with `sc.pp.pca` and default params.\n"
     ]
    },
    {
     "name": "stderr",
     "output_type": "stream",
     "text": [
      "INFO - 11/15/24 12:04:33 - 0:01:10 - Performing Leiden community detection.\n",
      "INFO - 11/15/24 12:04:33 - 0:01:10 - Performing Leiden community detection.\n",
      "INFO - 11/15/24 12:04:33 - 0:01:10 - Performing Leiden community detection.\n",
      "INFO - 11/15/24 12:04:33 - 0:01:10 - Performing Leiden community detection.\n",
      "INFO - 11/15/24 12:04:33 - 0:01:10 - Performing Leiden community detection.\n",
      "INFO - 11/15/24 12:04:33 - 0:01:10 - Performing Leiden community detection.\n",
      "INFO - 11/15/24 12:04:34 - 0:01:11 - Performing Leiden community detection.\n",
      "INFO - 11/15/24 12:04:34 - 0:01:11 - Performing Leiden community detection.\n",
      "INFO - 11/15/24 12:04:34 - 0:01:11 - Performing Leiden community detection.\n",
      "INFO - 11/15/24 12:04:35 - 0:01:12 - Performing Leiden community detection.\n"
     ]
    }
   ],
   "source": [
    "trainer.train()"
   ]
  },
  {
   "cell_type": "markdown",
   "id": "699dfbbc-ea0f-4bd1-b3a1-5320e4eaa8bc",
   "metadata": {},
   "source": [
    "# evalaute"
   ]
  },
  {
   "cell_type": "code",
   "execution_count": null,
   "id": "0ef10569-38f9-4073-8a17-16449f91b520",
   "metadata": {},
   "outputs": [],
   "source": [
    "query_latent = trainer.encode_query()\n",
    "metric_df = MetricCalculator(\n",
    "        trainer.query.adata,\n",
    "        [query_latent],\n",
    "        save_path=trainer.get_metric_file_path(\"query\"),\n",
    "    ).calculate()\n",
    "\n",
    "metric_df"
   ]
  }
 ],
 "metadata": {
  "kernelspec": {
   "display_name": "Python 3 (ipykernel)",
   "language": "python",
   "name": "python3"
  },
  "language_info": {
   "codemirror_mode": {
    "name": "ipython",
    "version": 3
   },
   "file_extension": ".py",
   "mimetype": "text/x-python",
   "name": "python",
   "nbconvert_exporter": "python",
   "pygments_lexer": "ipython3",
   "version": "3.12.2"
  }
 },
 "nbformat": 4,
 "nbformat_minor": 5
}
